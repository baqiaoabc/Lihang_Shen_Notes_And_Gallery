{
 "cells": [
  {
   "cell_type": "markdown",
   "metadata": {},
   "source": [
    "# COMP4318 & 5318 - Machine Learning and Data Mining: Assignment 1"
   ]
  },
  {
   "cell_type": "markdown",
   "metadata": {},
   "source": [
    "Due: Sunday Week 7 - Sep 15th, 2024 11:59PM"
   ]
  },
  {
   "cell_type": "markdown",
   "metadata": {
    "nbpresent": {
     "id": "375753da-1c6c-4b02-986a-6e3b185a5869"
    }
   },
   "source": [
    "# 1. Summary\n",
    "\n",
    "In this assignment, you are tasked with the challenge of developing machine learning (ML) classifiers capable of categorizing grayscale images into predefined classes. Your task involves employing various classification algorithms to identify which is most effective and efficient in processing image data. Additionally, you are required to document your methodologies and findings in a detailed report. The total score for this assignment is allocated as follows:\n",
    "\n",
    "1. Code: max 65 points\n",
    "2. Report: max 35 points\n",
    "\n",
    "Detailed about assignment specifcations and scoring criteria can be found in the assignment page on Canvas (Assignments $\\rightarrow$ Assignment 1 - Specification). The sections below provide comprehensive information on the assignment tasks and guidelines for submission."
   ]
  },
  {
   "cell_type": "markdown",
   "metadata": {},
   "source": [
    "# 2. Dataset description\n"
   ]
  },
  {
   "cell_type": "markdown",
   "metadata": {},
   "source": [
    "The dataset for this assignment is derived from the [Fashion-MNIST dataset](https://github.com/zalandoresearch/fashion-mnist), a collection of fashion articles represented as grayscale images. This dataset can be downloaded from Canvas. The dataset consists of a training set of 30,000 examples and a test set of 5,000 examples. They belong to 10 different categories. The validation set is not provided, but you can randomly pick a subset of the training set for validation. Your prediction over the test set must be submitted to Kaggle to receive the public accuracy over first 2,000 examples, you will use this accuracy to analyse the performance of your proposed method. It is NOT allowed to use any examples from the test set for training; or it will be considered as cheating. The rest 3,000 labels of the test set are reserved for marking purpose.\n",
    "\n",
    "Data samples are categorized into the following ten classes:\n",
    "\n",
    "- 0: T-shirt/Top\n",
    "- 1: Trouser\n",
    "- 2: Pullover\n",
    "- 3: Dress\n",
    "- 4: Coat\n",
    "- 5: Sandal\n",
    "- 6: Shirt\n",
    "- 7: Sneaker\n",
    "- 8: Bag\n",
    "- 9: Ankle boot"
   ]
  },
  {
   "cell_type": "markdown",
   "metadata": {},
   "source": [
    "\n",
    "Below are visual examples of the dataset, showcasing samples from each category:"
   ]
  },
  {
   "cell_type": "markdown",
   "metadata": {},
   "source": [
    "<img src=\"https://www.researchgate.net/publication/346405197/figure/fig3/AS:962581560848384@1606508736352/Examples-of-Fashion-MNIST-dataset.ppm\" alt=\"DataSet\" title=\"DataSet\" width=500/>"
   ]
  },
  {
   "cell_type": "markdown",
   "metadata": {},
   "source": [
    "The dataset can be downloaded from the Assignment 1 page on Canvas. Note that only a subset of the original Fashion-MNIST dataset is provided for this assignment. You must use the specific files supplied in the assignment materials for training and testing."
   ]
  },
  {
   "cell_type": "markdown",
   "metadata": {},
   "source": [
    "# 3. Data Preparation"
   ]
  },
  {
   "cell_type": "markdown",
   "metadata": {},
   "source": [
    "The required `data` files are in the data folder, downloadable as a zip from the Assignment 1 - Specification page on Canvas. Extract the files into your working directory. The folder includes:\n",
    "\n",
    "- `train.csv`: 30,000 labeled samples for training, evaluation, and model selection.\n",
    "- `test1.csv`: 2,000 labeled samples for model efficiency testing (Canvas submission).\n",
    "- `test2.csv`: 5,000 unlabeled samples for Kaggle evaluation.\n",
    "- `sample.csv`: A sample prediction file format for Kaggle submission (`test_output.csv`).\n",
    "\n",
    "Use Python's pandas library to load these CSV files into DataFrames, ensuring they are under the `./data/` directory."
   ]
  },
  {
   "cell_type": "markdown",
   "metadata": {},
   "source": [
    "## 3.1 Loading data"
   ]
  },
  {
   "cell_type": "markdown",
   "metadata": {},
   "source": [
    "Use the following Python code to load the training data:  "
   ]
  },
  {
   "cell_type": "code",
   "execution_count": 2,
   "metadata": {},
   "outputs": [
    {
     "name": "stdout",
     "output_type": "stream",
     "text": [
      "['sample.csv', 'test1.csv', 'test2.csv', 'train.csv']\n"
     ]
    }
   ],
   "source": [
    "import pandas as pd\n",
    "import os\n",
    "print(os.listdir(\"./data\"))\n",
    "pd.set_option('display.max_columns', 10)"
   ]
  },
  {
   "cell_type": "code",
   "execution_count": 3,
   "metadata": {},
   "outputs": [],
   "source": [
    "# train.csv including feature and label using for training model.\n",
    "data_train_df = pd.read_csv('./data/train.csv') "
   ]
  },
  {
   "cell_type": "code",
   "execution_count": 4,
   "metadata": {},
   "outputs": [
    {
     "data": {
      "text/html": [
       "<div>\n",
       "<style scoped>\n",
       "    .dataframe tbody tr th:only-of-type {\n",
       "        vertical-align: middle;\n",
       "    }\n",
       "\n",
       "    .dataframe tbody tr th {\n",
       "        vertical-align: top;\n",
       "    }\n",
       "\n",
       "    .dataframe thead th {\n",
       "        text-align: right;\n",
       "    }\n",
       "</style>\n",
       "<table border=\"1\" class=\"dataframe\">\n",
       "  <thead>\n",
       "    <tr style=\"text-align: right;\">\n",
       "      <th></th>\n",
       "      <th>id</th>\n",
       "      <th>v1</th>\n",
       "      <th>v2</th>\n",
       "      <th>v3</th>\n",
       "      <th>v4</th>\n",
       "      <th>...</th>\n",
       "      <th>v781</th>\n",
       "      <th>v782</th>\n",
       "      <th>v783</th>\n",
       "      <th>v784</th>\n",
       "      <th>label</th>\n",
       "    </tr>\n",
       "  </thead>\n",
       "  <tbody>\n",
       "    <tr>\n",
       "      <th>0</th>\n",
       "      <td>1</td>\n",
       "      <td>0</td>\n",
       "      <td>0</td>\n",
       "      <td>0</td>\n",
       "      <td>0</td>\n",
       "      <td>...</td>\n",
       "      <td>0</td>\n",
       "      <td>0</td>\n",
       "      <td>0</td>\n",
       "      <td>0</td>\n",
       "      <td>6</td>\n",
       "    </tr>\n",
       "    <tr>\n",
       "      <th>1</th>\n",
       "      <td>2</td>\n",
       "      <td>0</td>\n",
       "      <td>0</td>\n",
       "      <td>0</td>\n",
       "      <td>0</td>\n",
       "      <td>...</td>\n",
       "      <td>0</td>\n",
       "      <td>0</td>\n",
       "      <td>0</td>\n",
       "      <td>0</td>\n",
       "      <td>7</td>\n",
       "    </tr>\n",
       "    <tr>\n",
       "      <th>2</th>\n",
       "      <td>3</td>\n",
       "      <td>0</td>\n",
       "      <td>0</td>\n",
       "      <td>0</td>\n",
       "      <td>0</td>\n",
       "      <td>...</td>\n",
       "      <td>0</td>\n",
       "      <td>0</td>\n",
       "      <td>0</td>\n",
       "      <td>0</td>\n",
       "      <td>4</td>\n",
       "    </tr>\n",
       "    <tr>\n",
       "      <th>3</th>\n",
       "      <td>4</td>\n",
       "      <td>0</td>\n",
       "      <td>0</td>\n",
       "      <td>0</td>\n",
       "      <td>0</td>\n",
       "      <td>...</td>\n",
       "      <td>0</td>\n",
       "      <td>0</td>\n",
       "      <td>0</td>\n",
       "      <td>0</td>\n",
       "      <td>7</td>\n",
       "    </tr>\n",
       "    <tr>\n",
       "      <th>4</th>\n",
       "      <td>5</td>\n",
       "      <td>0</td>\n",
       "      <td>0</td>\n",
       "      <td>0</td>\n",
       "      <td>0</td>\n",
       "      <td>...</td>\n",
       "      <td>0</td>\n",
       "      <td>0</td>\n",
       "      <td>0</td>\n",
       "      <td>0</td>\n",
       "      <td>3</td>\n",
       "    </tr>\n",
       "  </tbody>\n",
       "</table>\n",
       "<p>5 rows × 786 columns</p>\n",
       "</div>"
      ],
      "text/plain": [
       "   id  v1  v2  v3  v4  ...  v781  v782  v783  v784  label\n",
       "0   1   0   0   0   0  ...     0     0     0     0      6\n",
       "1   2   0   0   0   0  ...     0     0     0     0      7\n",
       "2   3   0   0   0   0  ...     0     0     0     0      4\n",
       "3   4   0   0   0   0  ...     0     0     0     0      7\n",
       "4   5   0   0   0   0  ...     0     0     0     0      3\n",
       "\n",
       "[5 rows x 786 columns]"
      ]
     },
     "execution_count": 4,
     "metadata": {},
     "output_type": "execute_result"
    }
   ],
   "source": [
    "# print out the first 5 rows of the training dataframe\n",
    "data_train_df.head()"
   ]
  },
  {
   "cell_type": "markdown",
   "metadata": {},
   "source": [
    "Then data would be a dataframe with 30,000 samples including 784 features (from v1 to v784) and its label."
   ]
  },
  {
   "cell_type": "code",
   "execution_count": 5,
   "metadata": {},
   "outputs": [],
   "source": [
    "# Selecting input feature\n",
    "# Here, data_train_feature is not a datafram, it is an numpy array\n",
    "data_train_feature = data_train_df.loc[:, \"v1\":\"v784\"].to_numpy()\n",
    "data_train_label= data_train_df.label.to_numpy()"
   ]
  },
  {
   "cell_type": "markdown",
   "metadata": {},
   "source": [
    "Showing a sample data. The first example belongs to class 2: Pullover"
   ]
  },
  {
   "cell_type": "code",
   "execution_count": 6,
   "metadata": {},
   "outputs": [
    {
     "data": {
      "image/png": "[encoded data removed]",
      "text/plain": [
       "<Figure size 300x300 with 1 Axes>"
      ]
     },
     "metadata": {},
     "output_type": "display_data"
    }
   ],
   "source": [
    "import matplotlib.pyplot as plt\n",
    "\n",
    "data_train_feature_3D = data_train_feature.reshape((data_train_feature.shape[0], 28, 28))\n",
    "plt.figure(figsize=(3,3))\n",
    "plt.imshow(data_train_feature_3D[0], cmap=plt.get_cmap('gray'))\n",
    "plt.title(\"class \" + str(data_train_label[0]))\n",
    "plt.show()"
   ]
  },
  {
   "cell_type": "markdown",
   "metadata": {
    "nbpresent": {
     "id": "1e4a01db-cd92-48f8-bdaa-21c39456cfcb"
    }
   },
   "source": [
    "# 4. Task Description"
   ]
  },
  {
   "cell_type": "markdown",
   "metadata": {},
   "source": [
    "## 4.1 Code"
   ]
  },
  {
   "cell_type": "markdown",
   "metadata": {},
   "source": [
    "You will now explore and build diffferent ML models for the given dataset. You are required to implement at least **FOUR** models, which should include THREE from the following methods:\n",
    "\n",
    "1. Nearest Neighbor\n",
    "2. Logistic Regression\n",
    "3. Naïve Bayes \n",
    "4. Decision Tree\n",
    "5. SVM\n",
    "\n",
    "and ONE of these ensemble methods:\n",
    "    \n",
    " 1. Bagging\n",
    " 2. Boosting\n",
    " 3. Random forest\n",
    "    \n",
    "\n",
    "For these implementations, you may use established packages and libraries that have been introduced in the tutorials such as sklearn or create your own custom solutions from scratch."
   ]
  },
  {
   "cell_type": "markdown",
   "metadata": {},
   "source": [
    "Your code must be easily readable and well commented. The following are expected to be satisfied:\n",
    "\n",
    "- **Readability & Consistency**: Easy to read, and consistent in style\n",
    "  \n",
    "- **Coding Descriptions & Comments**: Descriptions and comments clarify meaning where needed\n",
    "  \n",
    "- **Robustness**: Handles erroneous or unexpected input \n",
    "\n",
    "It should follow the structure below."
   ]
  },
  {
   "cell_type": "markdown",
   "metadata": {},
   "source": [
    "### 4.1.1 Environment Setup"
   ]
  },
  {
   "cell_type": "markdown",
   "metadata": {},
   "source": [
    "Install and import necessary packages and libraries used in your coding environment. It is recommended to specify their versions to ensure reproducibility."
   ]
  },
  {
   "cell_type": "code",
   "execution_count": 7,
   "metadata": {},
   "outputs": [],
   "source": [
    "# TODO: Install and import necessary libraries\n",
    "import pandas as pd\n",
    "import numpy as np\n",
    "import matplotlib\n",
    "import matplotlib.pyplot as plt\n",
    "from scipy.stats import skew\n",
    "from sklearn.metrics import accuracy_score\n",
    "from sklearn.linear_model import Ridge\n",
    "from sklearn.model_selection import cross_val_score,train_test_split\n",
    "from sklearn.preprocessing import MinMaxScaler\n",
    "from sklearn.preprocessing import StandardScaler\n",
    "from sklearn.decomposition import PCA\n",
    "import time\n",
    "from sklearn.svm import SVC\n",
    "from sklearn.model_selection import GridSearchCV\n",
    "from sklearn.svm import SVC\n",
    "from sklearn.model_selection import train_test_split\n",
    "from sklearn.neighbors import KNeighborsClassifier\n",
    "from sklearn.linear_model import LogisticRegression\n",
    "from sklearn.ensemble import AdaBoostClassifier\n",
    "from sklearn.tree import DecisionTreeClassifier\n",
    "from sklearn import metrics\n",
    "import seaborn as sns\n",
    "from IPython.display import display, HTML\n",
    "%matplotlib inline\n",
    "\n",
    "def hide_output():\n",
    "    display(HTML(\"<style>.output { display: none; }</style>\"))\n",
    "np.random.seed(481)"
   ]
  },
  {
   "cell_type": "markdown",
   "metadata": {},
   "source": [
    "### 4.1.2 Data Preprocessing"
   ]
  },
  {
   "cell_type": "markdown",
   "metadata": {},
   "source": [
    "Firstly, I choose to remove NA from the training data set. After doing that, We can see there is no missing value inside \"data_train_df\". "
   ]
  },
  {
   "cell_type": "code",
   "execution_count": 8,
   "metadata": {},
   "outputs": [
    {
     "name": "stdout",
     "output_type": "stream",
     "text": [
      "Before delete missing value: (30000, 786)\n",
      "After delete missing value: (30000, 786)\n"
     ]
    }
   ],
   "source": [
    "# Firstly, let's clean the data, delete missing value, \n",
    "print(\"Before delete missing value:\",data_train_df.shape)\n",
    "data_train_df = data_train_df.dropna()\n",
    "print(f\"After delete missing value:\",data_train_df.shape)"
   ]
  },
  {
   "cell_type": "markdown",
   "metadata": {},
   "source": [
    "After the clean step, we can now preprocess the data. Here, I first choose to use the Normalization method, for details, please refer to my report. Secondly, I decide to use the PCA method to reduce the number of attributes from 784 to 187."
   ]
  },
  {
   "cell_type": "code",
   "execution_count": 22,
   "metadata": {},
   "outputs": [
    {
     "name": "stdout",
     "output_type": "stream",
     "text": [
      "Standaidization feature shape: (30000, 784)\n",
      "PCA feature shape: (30000, 187)\n"
     ]
    }
   ],
   "source": [
    "# scaler = StandardScaler() # standardization\n",
    "scaler = MinMaxScaler()\n",
    "\n",
    "pca = PCA(n_components=0.95)  # keep 95%\n",
    "scaler.fit(data_train_feature)\n",
    "\n",
    "# apply normalisation to the training set\n",
    "X_train = scaler.transform(data_train_feature) # firstly normalize data\n",
    "print(\"Standaidization feature shape:\", X_train.shape)\n",
    "X_train = pca.fit_transform(X_train) # secondly pca data by using normalized data\n",
    "\n",
    "\n",
    "print(\"PCA feature shape:\", X_train.shape)"
   ]
  },
  {
   "cell_type": "markdown",
   "metadata": {},
   "source": [
    "Before I split the validation set from the training set, we need to observe the distribution of all samples' labels. And I found every class is equally distributed which implies that I need not solve the skew problems. "
   ]
  },
  {
   "cell_type": "code",
   "execution_count": 10,
   "metadata": {},
   "outputs": [
    {
     "data": {
      "image/png": "[encoded data removed]",
      "text/plain": [
       "<Figure size 640x480 with 1 Axes>"
      ]
     },
     "metadata": {},
     "output_type": "display_data"
    }
   ],
   "source": [
    "# Selecting output lable for training and testing data set\n",
    "Y_train = data_train_df.label.to_numpy()\n",
    "\n",
    "plt.hist(Y_train, bins=10, color='skyblue', edgecolor='black')\n",
    "plt.title('train.csv samples labels distribution bar chart')\n",
    "plt.xlabel('classes')\n",
    "plt.ylabel('number of samples')\n",
    "\n",
    "plt.show()"
   ]
  },
  {
   "cell_type": "markdown",
   "metadata": {},
   "source": [
    "According to https://scikit-learn.org/stable/modules/generated/sklearn.model_selection.train_test_split.html."
   ]
  },
  {
   "cell_type": "markdown",
   "metadata": {},
   "source": [
    "Now, let's split the validation set by using the \"train_test_split\" method from sklearn. And see the distribution of both the train set and validation set. The portion for the validation set is 10% of all samples in train.csv (3000 samples approximately)."
   ]
  },
  {
   "cell_type": "code",
   "execution_count": 11,
   "metadata": {},
   "outputs": [
    {
     "data": {
      "image/png": "[encoded data removed]",
      "text/plain": [
       "<Figure size 640x480 with 1 Axes>"
      ]
     },
     "metadata": {},
     "output_type": "display_data"
    }
   ],
   "source": [
    "X_train_splited, X_validation, Y_train_splited, Y_validation = train_test_split(X_train, Y_train, test_size=0.1, stratify=Y_train, random_state=481)\n",
    "\n",
    "plt.hist(Y_validation, bins=10, color='skyblue', edgecolor='black')\n",
    "plt.title('Validation set label distribution bar chart')\n",
    "plt.xlabel('classes')\n",
    "plt.ylabel('number of samples')\n",
    "plt.show()"
   ]
  },
  {
   "cell_type": "markdown",
   "metadata": {},
   "source": [
    "Since the validation set has equally distributed labels and all samples have equally distributed labels (see \"train.csv samples labels distribution bar chart\"); therefore, the sub training set must have equally distributed labels. Here sub training set means \"X_train_splited\""
   ]
  },
  {
   "cell_type": "markdown",
   "metadata": {},
   "source": [
    "### 4.1.3 Model 1 (Knn)"
   ]
  },
  {
   "cell_type": "markdown",
   "metadata": {},
   "source": [
    "Below block of code implement the initial version of Knn method, in this initialization, I used default hyperparameters which provided by sklearn library. After construct the classifier, I find the accuracy in training set is 89.28% and the accuracy in validation set is 86.13%."
   ]
  },
  {
   "cell_type": "code",
   "execution_count": 215,
   "metadata": {},
   "outputs": [
    {
     "name": "stdout",
     "output_type": "stream",
     "text": [
      "Accuracy on train set: 89.28\n",
      "Accuracy on test set: 86.13\n"
     ]
    }
   ],
   "source": [
    "knn = KNeighborsClassifier()\n",
    "start_time = time.time()\n",
    "\n",
    "knn.fit(X_train_splited, Y_train_splited)\n",
    "\n",
    "end_time = time.time()\n",
    "knn_training_time = end_time - start_time\n",
    "print(\"Accuracy on train set: {:.2f}\".format(knn.score(X_train_splited, Y_train_splited)*100))\n",
    "print(\"Accuracy on test set: {:.2f}\".format(knn.score(X_validation, Y_validation)*100))"
   ]
  },
  {
   "cell_type": "markdown",
   "metadata": {},
   "source": [
    "Below explaination is based on https://scikit-learn.org/stable/modules/generated/sklearn.neighbors.KNeighborsClassifier.html\n",
    "\n",
    "Even 86.13% is a good result, but my estimation is about 90%. As a result of that, I try to find whether there is a better combination of hyperparameters for Knn by using grid search method. In this method, I choose 3 hyperparameters:\n",
    "\n",
    "\"n_neighbours\": it indicate how many neighbours the classifier needs to include when doing the classification. \n",
    "\n",
    "\"weights\": it indicates whether the classifier should trait the k closest neighbours with same weight (\"uniform\") or trait k closest neighbours with different weight according to the distance (\"distance\"). \n",
    "\n",
    "\"metric\": it simply indicates how to calculate the distance (I mainly illustrate about how euclidean works in my report). \n",
    "\n",
    "After set grid search parameters, I decided to do a 5-fold cross validation. I did not choose to do a 10-fold because my pc cannot handle them in a short time.\n",
    "\n",
    "By the way, because grid search takes very long time, therefore, I comment them out, but you still can find the result in the comment part."
   ]
  },
  {
   "cell_type": "code",
   "execution_count": null,
   "metadata": {
    "collapsed": true,
    "jupyter": {
     "outputs_hidden": true
    },
    "scrolled": true
   },
   "outputs": [],
   "source": [
    "\"\"\"\n",
    "Code For grid search, Do not run, takeing long time:\n",
    "param_grid_knn = {\n",
    "    'n_neighbors': [1, 3, 5, 7, 9, 11],\n",
    "    'weights': ['uniform', 'distance'],\n",
    "    'metric': ['euclidean', 'manhattan']\n",
    "}\n",
    "\n",
    "grid_search_knn = GridSearchCV(knn, param_grid_knn, cv=5, verbose=3, n_jobs=-1)\n",
    "grid_search_knn.fit(X_train_splited, Y_train_splited)\n",
    "\n",
    "print(\"Validation set score: {:.2f}\".format(grid_search_knn.score(X_validation, Y_validation)))\n",
    "print(\"Best parameters: {}\".format(grid_search_knn.best_params_))\n",
    "print(\"Best cross-validation score: {:.2f}\".format(grid_search_knn.best_score_))\n",
    "print(\"Best estimator:\\n{}\".format(grid_search_knn.best_estimator_))\n",
    "\n",
    "===================================================================\n",
    "Output\n",
    "\n",
    "Fitting 5 folds for each of 24 candidates, totalling 120 fits\n",
    "Validation set score: 0.86\n",
    "Best parameters: {'metric': 'manhattan', 'n_neighbors': 5, 'weights': 'distance'}\n",
    "Best cross-validation score: 0.85\n",
    "Best estimator:\n",
    "KNeighborsClassifier(metric='manhattan', weights='distance')\n",
    "\"\"\"\n",
    "hide_output()"
   ]
  },
  {
   "cell_type": "markdown",
   "metadata": {},
   "source": [
    "Below block of code is the best combination of hyperparameters from grid search. However, this classifier is very like overfitting because it perform very good in training set but perform normaly in validation set."
   ]
  },
  {
   "cell_type": "code",
   "execution_count": 217,
   "metadata": {},
   "outputs": [
    {
     "name": "stdout",
     "output_type": "stream",
     "text": [
      "Accuracy on train set: 100.00\n",
      "Accuracy on validation set: 85.57\n"
     ]
    }
   ],
   "source": [
    "\n",
    "grid_knn = KNeighborsClassifier(metric='manhattan', n_neighbors=5, weights='distance')\n",
    "grid_knn.fit(X_train_splited, Y_train_splited)\n",
    "\n",
    "\n",
    "print(\"Accuracy on train set: {:.2f}\".format(grid_knn.score(X_train_splited, Y_train_splited)*100))\n",
    "print(\"Accuracy on validation set: {:.2f}\".format(grid_knn.score(X_validation, Y_validation)*100))"
   ]
  },
  {
   "cell_type": "markdown",
   "metadata": {},
   "source": [
    "Finally, I find initial classifier has better performance, and the initialed classifier is less likely to overfit because the performance is similar on both the training set and validation set. Hence, I decided to use the original one to represent the Knn method."
   ]
  },
  {
   "cell_type": "code",
   "execution_count": 218,
   "metadata": {},
   "outputs": [],
   "source": [
    "best_knn = knn"
   ]
  },
  {
   "cell_type": "markdown",
   "metadata": {},
   "source": [
    "### 4.1.4 Model 2 (Logistic Regression)"
   ]
  },
  {
   "cell_type": "markdown",
   "metadata": {},
   "source": [
    "Below block of code implement the initial version of Knn method, in this initialization, I used default hyperparameters except for the maximum iterations. After construct the classifier, I find the accuracy in training set is 86.5% and the accuracy in validation set is 85.5%."
   ]
  },
  {
   "cell_type": "code",
   "execution_count": 219,
   "metadata": {},
   "outputs": [
    {
     "name": "stdout",
     "output_type": "stream",
     "text": [
      "Accuracy on trainig set: 86.52222222222223\n",
      "Accuracy on validation set: 85.5\n"
     ]
    }
   ],
   "source": [
    "start_time = time.time()\n",
    "\n",
    "logreg = LogisticRegression(max_iter=4000)\n",
    "logreg.fit(X_train_splited, Y_train_splited)\n",
    "\n",
    "end_time = time.time()\n",
    "logreg_training_time = end_time - start_time\n",
    "\n",
    "print(\"Accuracy on trainig set:\", logreg.score(X_train_splited, Y_train_splited)*100)\n",
    "print(\"Accuracy on validation set:\", logreg.score(X_validation, Y_validation)*100)"
   ]
  },
  {
   "cell_type": "markdown",
   "metadata": {},
   "source": [
    "Below explaination is based on https://scikit-learn.org/stable/modules/generated/sklearn.linear_model.LogisticRegression.html\n",
    "\n",
    "My expectation is about 90% accuracy in validation set; therefore, I try to find whether there is a better combination of hyperparameters for Logistic regression by using grid search method. In this method, I choose 4 hyperparameters: \n",
    "\n",
    "\"C\": it simply means regularization strengh. Usually, bigger C means classifier prefer to fit training data and allow less mismatches; smaller C means allow more mismatches which can reduce the probability of overfitting, however, it can also lead to another problem - underfit. I set 2 values of \"C\" because I want to see which one could generate a better classifier.\n",
    "\n",
    "\"solver\": it means the algorithm use for the optimization problem. I see there are many choices in sklearn website. In order to reduce training time, I choose 3 most relevent algorithm. \"liblinear\" suit for small datasets, \"saga\" is very fast for solving problem, and \"lbfgs\" can handle multiclass problem. \n",
    "\n",
    "\"penalty\": I just choose them based on above website because each algorithm need respond penalty method.\n",
    "\n",
    "\"max_iter\": it just imply the iteration times. In order to reduce training time, I only set 4000 and 6000.\n",
    "\n",
    "After set grid search parameters, I decided to do a 3-fold cross validation. I did not choose to do a 5-fold or 10-fold because there are more iterations (2*3*3*2*5 or 2*3*3*2*10 times) and my pc cannot finished these training in a short time.\n",
    "\n",
    "By the way, because grid search takes very long time, therefore, I comment them out, but you can still find the result in the comment part."
   ]
  },
  {
   "cell_type": "code",
   "execution_count": 264,
   "metadata": {
    "collapsed": true,
    "jupyter": {
     "outputs_hidden": true
    },
    "scrolled": true
   },
   "outputs": [
    {
     "data": {
      "text/plain": [
       "'\\nCode for Grid search:\\n\\nparam_grid_lg = {\\n    \\'C\\': [1.0, 5],\\n    \\'solver\\': [\\'liblinear\\', \\'lbfgs\\', \\'saga\\'], \\n    \\'penalty\\': [\\'l2\\',\\'l1\\',\\'elasticnet\\'],  \\n    \\'max_iter\\': [4000, 6000]\\n}\\n\\nlogreg_2 = LogisticRegression()\\ngrid_search_lg = GridSearchCV(logreg_2, param_grid_lg, cv=3, return_train_score=True, n_jobs= -1, verbose=3)\\n\\ngrid_search_lg.fit(X_train_splited, Y_train_splited)\\n\\nprint(\"Validation set score: {:.2f}\".format(grid_search_lg.score(X_validation, Y_validation)))\\nprint(\"Best parameters: {}\".format(grid_search_lg.best_params_))\\nprint(\"Best cross-validation score: {:.2f}\".format(grid_search_lg.best_score_))\\nprint(\"Best estimator:\\n{}\".format(grid_search_lg.best_estimator_))\\n\\n===============================================================\\nOutput\\n\\n48 fits failed out of a total of 108.\\nThe score on these train-test partitions for these parameters will be set to nan.\\nIf these failures are not expected, you can try to debug them by setting error_score=\\'raise\\'.\\n\\nBelow are more details about the failures:\\n\\nValidation set score: 0.85\\nBest parameters: {\\'C\\': 1.0, \\'max_iter\\': 4000, \\'penalty\\': \\'l2\\', \\'solver\\': \\'lbfgs\\'}\\nBest cross-validation score: 0.84\\nBest estimator:\\nLogisticRegression(max_iter=4000)\\n'"
      ]
     },
     "execution_count": 264,
     "metadata": {},
     "output_type": "execute_result"
    }
   ],
   "source": [
    "\"\"\"\n",
    "Code for Grid search:\n",
    "\n",
    "param_grid_lg = {\n",
    "    'C': [1.0, 5],\n",
    "    'solver': ['liblinear', 'lbfgs', 'saga'], \n",
    "    'penalty': ['l2','l1','elasticnet'],  \n",
    "    'max_iter': [4000, 6000]\n",
    "}\n",
    "\n",
    "logreg_2 = LogisticRegression()\n",
    "grid_search_lg = GridSearchCV(logreg_2, param_grid_lg, cv=3, return_train_score=True, n_jobs= -1, verbose=3)\n",
    "\n",
    "grid_search_lg.fit(X_train_splited, Y_train_splited)\n",
    "\n",
    "print(\"Validation set score: {:.2f}\".format(grid_search_lg.score(X_validation, Y_validation)))\n",
    "print(\"Best parameters: {}\".format(grid_search_lg.best_params_))\n",
    "print(\"Best cross-validation score: {:.2f}\".format(grid_search_lg.best_score_))\n",
    "print(\"Best estimator:\\n{}\".format(grid_search_lg.best_estimator_))\n",
    "\n",
    "===============================================================\n",
    "Output\n",
    "\n",
    "48 fits failed out of a total of 108.\n",
    "The score on these train-test partitions for these parameters will be set to nan.\n",
    "If these failures are not expected, you can try to debug them by setting error_score='raise'.\n",
    "\n",
    "Below are more details about the failures:\n",
    "\n",
    "Validation set score: 0.85\n",
    "Best parameters: {'C': 1.0, 'max_iter': 4000, 'penalty': 'l2', 'solver': 'lbfgs'}\n",
    "Best cross-validation score: 0.84\n",
    "Best estimator:\n",
    "LogisticRegression(max_iter=4000)\n",
    "\"\"\""
   ]
  },
  {
   "cell_type": "markdown",
   "metadata": {},
   "source": [
    "Throug grid search, I find new combination of hyperparameters have small influences on the performance of model. Therefore, I decided to stop further investigation. Below block of code is the best combination of hyperparameters from grid search."
   ]
  },
  {
   "cell_type": "code",
   "execution_count": 15,
   "metadata": {},
   "outputs": [
    {
     "name": "stdout",
     "output_type": "stream",
     "text": [
      "Accuracy on trainig set: 86.52222222222223\n",
      "Accuracy on validation set: 85.5\n"
     ]
    }
   ],
   "source": [
    "logreg_grid = LogisticRegression(C=1,max_iter=4000,penalty='l2',solver='lbfgs')\n",
    "logreg_grid.fit(X_train_splited, Y_train_splited)\n",
    "print(\"Accuracy on trainig set:\", logreg_grid.score(X_train_splited, Y_train_splited)*100)\n",
    "print(\"Accuracy on validation set:\", logreg_grid.score(X_validation, Y_validation)*100)"
   ]
  },
  {
   "cell_type": "markdown",
   "metadata": {},
   "source": [
    "Comparing with grid search classifier, initial classifier has better accuracy in training set and same accuracy in validation set. Therefore, I choose initial classifier to represent logistic regression method."
   ]
  },
  {
   "cell_type": "code",
   "execution_count": 222,
   "metadata": {},
   "outputs": [],
   "source": [
    "best_logreg = logreg"
   ]
  },
  {
   "cell_type": "markdown",
   "metadata": {},
   "source": [
    "### 4.1.5 Model 3 (SVM)"
   ]
  },
  {
   "cell_type": "markdown",
   "metadata": {},
   "source": [
    "According to https://scikit-learn.org/stable/modules/generated/sklearn.svm.SVC.html. There are 4 types of SVM and I want to see the initial classifier performance for each of them."
   ]
  },
  {
   "cell_type": "code",
   "execution_count": 223,
   "metadata": {},
   "outputs": [
    {
     "name": "stdout",
     "output_type": "stream",
     "text": [
      "linear Train set score: 0.885\n",
      "linear Validation set score: 85.30\n",
      "Poly Train set score: 0.906\n",
      "Poly Validation set score: 87.43\n",
      "rbf Train set score: 91.078\n",
      "rbf Validation set score: 88.83\n",
      "sigmoid Train set score: 69.830\n",
      "sigmoid Validation set score: 68.63\n"
     ]
    }
   ],
   "source": [
    "\n",
    "init_lin_svm = SVC(kernel=\"linear\")\n",
    "init_lin_svm.fit(X_train_splited, Y_train_splited)\n",
    "print(\"linear Train set score: {:.3f}\".format(init_lin_svm.score(X_train_splited, Y_train_splited)))\n",
    "print(\"linear Validation set score: {:.2f}\".format(init_lin_svm.score(X_validation, Y_validation)*100))\n",
    "\n",
    "init_poly_svm = SVC(kernel=\"poly\")\n",
    "init_poly_svm.fit(X_train_splited, Y_train_splited)\n",
    "print(\"Poly Train set score: {:.3f}\".format(init_poly_svm.score(X_train_splited, Y_train_splited)))\n",
    "print(\"Poly Validation set score: {:.2f}\".format(init_poly_svm.score(X_validation, Y_validation)*100))\n",
    "\n",
    "\n",
    "init_rbf_svm = SVC(kernel=\"rbf\")\n",
    "init_rbf_svm.fit(X_train_splited, Y_train_splited)\n",
    "print(\"rbf Train set score: {:.3f}\".format(init_rbf_svm.score(X_train_splited, Y_train_splited)*100))\n",
    "print(\"rbf Validation set score: {:.2f}\".format(init_rbf_svm.score(X_validation, Y_validation)*100))\n",
    "\n",
    "init_sigmoid_svm = SVC(kernel=\"sigmoid\")\n",
    "init_sigmoid_svm.fit(X_train_splited, Y_train_splited)\n",
    "print(\"sigmoid Train set score: {:.3f}\".format(init_sigmoid_svm.score(X_train_splited, Y_train_splited)*100))\n",
    "print(\"sigmoid Validation set score: {:.2f}\".format(init_sigmoid_svm.score(X_validation, Y_validation)*100))"
   ]
  },
  {
   "cell_type": "markdown",
   "metadata": {},
   "source": [
    "After comparing their initial classifier, I think \"rbf\" and \"poly\" could probably be improved by using other combination of hyperparameters. For example, increase the regularization strength for \"poly\" methods. \n",
    "\n",
    "Firstly, I choose to use grid search to find the trend of better combination of hyperparameters for \"poly\" methods. There are 2 new hyperparameters:\n",
    "\n",
    "\"degree\": it represents the Degree of the polynomial kernel function (‘poly’). According to https://stats.stackexchange.com/questions/348318/degree-parameter-for-svm-polynomial-kernel, higher degree means the decision boundary is more complex and could probably lead to overfitting. Here, I choose from 1 to 10 because I want to see which degree could have better result.\n",
    "\n",
    "\"tol\": it represents tolarance for stopping criteria. It indicate when the change of the optimization algorithm in one iteration step is less than the tol value, the algorithm will stop iteration. Default tol is 0.0001, hence I want to find whether smaller \"tol\" will lead better result."
   ]
  },
  {
   "cell_type": "code",
   "execution_count": 260,
   "metadata": {
    "collapsed": true,
    "jupyter": {
     "outputs_hidden": true
    }
   },
   "outputs": [
    {
     "data": {
      "text/plain": [
       "'\\nGridsearch Code:\\n\\nsvm2 = SVC()\\n\\nparam_grid2 = {\\'kernel\\':[\\'poly\\'],\\n            \\'C\\': [0.1, 3, 10, 20, 30], \\n            \\'degree\\': [1, 3, 5, 10],\\n            \\'tol\\': [0.001,0.0001]}\\n\\ngrid2 = GridSearchCV(svm2, param_grid2, cv=3, refit=True, verbose=3)\\ngrid2.fit(X_train_splited, Y_train_splited)\\n\\nprint(\"Validation set score: {:.2f}\".format(grid2.score(X_validation, Y_validation)))\\nprint(\"Best parameters: {}\".format(grid2.best_params_))\\nprint(\"Best cross-validation score: {:.2f}\".format(grid2.best_score_))\\nprint(\"Best estimator:\\n{}\".format(grid2.best_estimator_))\\n==========================================================================\\noutput:\\n\\nFitting 3 folds for each of 40 candidates, totalling 120 fits\\n[CV 1/3] END C=0.1, degree=1, kernel=poly, tol=0.001;, score=0.818 total time=  13.1s\\n[CV 2/3] END C=0.1, degree=1, kernel=poly, tol=0.001;, score=0.808 total time=  13.4s\\n[CV 3/3] END C=0.1, degree=1, kernel=poly, tol=0.001;, score=0.812 total time=  13.0s\\n[CV 1/3] END C=0.1, degree=1, kernel=poly, tol=0.0001;, score=0.818 total time=  13.1s\\n[CV 2/3] END C=0.1, degree=1, kernel=poly, tol=0.0001;, score=0.808 total time=  13.1s\\n[CV 3/3] END C=0.1, degree=1, kernel=poly, tol=0.0001;, score=0.812 total time=  13.9s\\n[CV 1/3] END C=0.1, degree=3, kernel=poly, tol=0.001;, score=0.784 total time=  18.8s\\n[CV 2/3] END C=0.1, degree=3, kernel=poly, tol=0.001;, score=0.776 total time=  18.8s\\n[CV 3/3] END C=0.1, degree=3, kernel=poly, tol=0.001;, score=0.776 total time=  18.9s\\n[CV 1/3] END C=0.1, degree=3, kernel=poly, tol=0.0001;, score=0.783 total time=  17.0s\\n[CV 2/3] END C=0.1, degree=3, kernel=poly, tol=0.0001;, score=0.776 total time=  16.6s\\n[CV 3/3] END C=0.1, degree=3, kernel=poly, tol=0.0001;, score=0.776 total time=  16.5s\\n[CV 1/3] END C=0.1, degree=5, kernel=poly, tol=0.001;, score=0.693 total time=  23.1s\\n[CV 2/3] END C=0.1, degree=5, kernel=poly, tol=0.001;, score=0.691 total time=  22.8s\\n[CV 3/3] END C=0.1, degree=5, kernel=poly, tol=0.001;, score=0.682 total time=  22.1s\\n[CV 1/3] END C=0.1, degree=5, kernel=poly, tol=0.0001;, score=0.693 total time=  21.2s\\n[CV 2/3] END C=0.1, degree=5, kernel=poly, tol=0.0001;, score=0.691 total time=  21.0s\\n[CV 3/3] END C=0.1, degree=5, kernel=poly, tol=0.0001;, score=0.682 total time=  20.3s\\n[CV 1/3] END C=0.1, degree=10, kernel=poly, tol=0.001;, score=0.539 total time=  30.4s\\n[CV 2/3] END C=0.1, degree=10, kernel=poly, tol=0.001;, score=0.537 total time=  29.7s\\n[CV 3/3] END C=0.1, degree=10, kernel=poly, tol=0.001;, score=0.532 total time=  29.6s\\n[CV 1/3] END C=0.1, degree=10, kernel=poly, tol=0.0001;, score=0.539 total time=  30.6s\\n[CV 2/3] END C=0.1, degree=10, kernel=poly, tol=0.0001;, score=0.537 total time=  30.0s\\n[CV 3/3] END C=0.1, degree=10, kernel=poly, tol=0.0001;, score=0.532 total time=  29.4s\\n...\\nBest parameters: {\\'C\\': 10, \\'degree\\': 3, \\'kernel\\': \\'poly\\', \\'tol\\': 0.001}\\nBest cross-validation score: 0.88\\nBest estimator:\\nSVC(C=10, kernel=\\'poly\\')\\n'"
      ]
     },
     "execution_count": 260,
     "metadata": {},
     "output_type": "execute_result"
    }
   ],
   "source": [
    "\"\"\"\n",
    "Gridsearch Code:\n",
    "\n",
    "svm2 = SVC()\n",
    "\n",
    "param_grid2 = {'kernel':['poly'],\n",
    "            'C': [0.1, 3, 10, 20, 30], \n",
    "            'degree': [1, 3, 5, 10],\n",
    "            'tol': [0.001,0.0001]}\n",
    "\n",
    "grid2 = GridSearchCV(svm2, param_grid2, cv=3, refit=True, verbose=3)\n",
    "grid2.fit(X_train_splited, Y_train_splited)\n",
    "\n",
    "print(\"Validation set score: {:.2f}\".format(grid2.score(X_validation, Y_validation)))\n",
    "print(\"Best parameters: {}\".format(grid2.best_params_))\n",
    "print(\"Best cross-validation score: {:.2f}\".format(grid2.best_score_))\n",
    "print(\"Best estimator:\\n{}\".format(grid2.best_estimator_))\n",
    "==========================================================================\n",
    "output:\n",
    "\n",
    "Fitting 3 folds for each of 40 candidates, totalling 120 fits\n",
    "[CV 1/3] END C=0.1, degree=1, kernel=poly, tol=0.001;, score=0.818 total time=  13.1s\n",
    "[CV 2/3] END C=0.1, degree=1, kernel=poly, tol=0.001;, score=0.808 total time=  13.4s\n",
    "[CV 3/3] END C=0.1, degree=1, kernel=poly, tol=0.001;, score=0.812 total time=  13.0s\n",
    "[CV 1/3] END C=0.1, degree=1, kernel=poly, tol=0.0001;, score=0.818 total time=  13.1s\n",
    "[CV 2/3] END C=0.1, degree=1, kernel=poly, tol=0.0001;, score=0.808 total time=  13.1s\n",
    "[CV 3/3] END C=0.1, degree=1, kernel=poly, tol=0.0001;, score=0.812 total time=  13.9s\n",
    "[CV 1/3] END C=0.1, degree=3, kernel=poly, tol=0.001;, score=0.784 total time=  18.8s\n",
    "[CV 2/3] END C=0.1, degree=3, kernel=poly, tol=0.001;, score=0.776 total time=  18.8s\n",
    "[CV 3/3] END C=0.1, degree=3, kernel=poly, tol=0.001;, score=0.776 total time=  18.9s\n",
    "[CV 1/3] END C=0.1, degree=3, kernel=poly, tol=0.0001;, score=0.783 total time=  17.0s\n",
    "[CV 2/3] END C=0.1, degree=3, kernel=poly, tol=0.0001;, score=0.776 total time=  16.6s\n",
    "[CV 3/3] END C=0.1, degree=3, kernel=poly, tol=0.0001;, score=0.776 total time=  16.5s\n",
    "[CV 1/3] END C=0.1, degree=5, kernel=poly, tol=0.001;, score=0.693 total time=  23.1s\n",
    "[CV 2/3] END C=0.1, degree=5, kernel=poly, tol=0.001;, score=0.691 total time=  22.8s\n",
    "[CV 3/3] END C=0.1, degree=5, kernel=poly, tol=0.001;, score=0.682 total time=  22.1s\n",
    "[CV 1/3] END C=0.1, degree=5, kernel=poly, tol=0.0001;, score=0.693 total time=  21.2s\n",
    "[CV 2/3] END C=0.1, degree=5, kernel=poly, tol=0.0001;, score=0.691 total time=  21.0s\n",
    "[CV 3/3] END C=0.1, degree=5, kernel=poly, tol=0.0001;, score=0.682 total time=  20.3s\n",
    "[CV 1/3] END C=0.1, degree=10, kernel=poly, tol=0.001;, score=0.539 total time=  30.4s\n",
    "[CV 2/3] END C=0.1, degree=10, kernel=poly, tol=0.001;, score=0.537 total time=  29.7s\n",
    "[CV 3/3] END C=0.1, degree=10, kernel=poly, tol=0.001;, score=0.532 total time=  29.6s\n",
    "[CV 1/3] END C=0.1, degree=10, kernel=poly, tol=0.0001;, score=0.539 total time=  30.6s\n",
    "[CV 2/3] END C=0.1, degree=10, kernel=poly, tol=0.0001;, score=0.537 total time=  30.0s\n",
    "[CV 3/3] END C=0.1, degree=10, kernel=poly, tol=0.0001;, score=0.532 total time=  29.4s\n",
    "...\n",
    "Best parameters: {'C': 10, 'degree': 3, 'kernel': 'poly', 'tol': 0.001}\n",
    "Best cross-validation score: 0.88\n",
    "Best estimator:\n",
    "SVC(C=10, kernel='poly')\n",
    "\"\"\"\n"
   ]
  },
  {
   "cell_type": "markdown",
   "metadata": {},
   "source": [
    "After doing the grid search, I found the hyperparameter \"C\" can greatly affect the accuracy;  therefore, I added more value of \"C\" to the above dictionary (I added \"30\" to the above dictionary).  However, the result is still the same."
   ]
  },
  {
   "cell_type": "markdown",
   "metadata": {},
   "source": [
    "Finally, through grid search method, I found {kernel=\"poly\", C=10, degree=3, tol=0.001} is the best combination of hyperparameters."
   ]
  },
  {
   "cell_type": "code",
   "execution_count": 17,
   "metadata": {},
   "outputs": [
    {
     "name": "stdout",
     "output_type": "stream",
     "text": [
      "Poly Train set score: 0.973\n",
      "Poly Validation set score: 89.37\n"
     ]
    }
   ],
   "source": [
    "grid_poly_svm = SVC(kernel=\"poly\", C=10, degree=3, tol=0.001)\n",
    "grid_poly_svm.fit(X_train_splited, Y_train_splited)\n",
    "print(\"Poly Train set score: {:.3f}\".format(grid_poly_svm.score(X_train_splited, Y_train_splited)))\n",
    "print(\"Poly Validation set score: {:.2f}\".format(grid_poly_svm.score(X_validation, Y_validation)*100))"
   ]
  },
  {
   "cell_type": "markdown",
   "metadata": {},
   "source": [
    "Now, I need to find the best combination of hyperparameters for rbf method by using gridsearch and cross-validation. According to https://scikit-learn.org/stable/auto_examples/svm/plot_rbf_parameters.html. \"C\" and \"gamma\" are the 2 most important hyperparameters.\n",
    "\n",
    "\"C\": it behaves as a regularization parameter in the SVM. A lower C will encourage a larger margin. That's why I set a larger range of \"C\" in the dictionary below.\n",
    "\n",
    "\"gamma\": defines how far the influence of a single training example reaches, with low values meaning ‘far’ and high values meaning ‘close’. I did not set this, because default gamma (scale) usually works very well (https://stats.stackexchange.com/questions/499916/why-svm-with-gamma-scale-for-rbf-kernel-works-so-well)."
   ]
  },
  {
   "cell_type": "code",
   "execution_count": 13,
   "metadata": {
    "collapsed": true,
    "jupyter": {
     "outputs_hidden": true
    },
    "scrolled": true
   },
   "outputs": [
    {
     "data": {
      "text/plain": [
       "'\\nCode\\n\\nsvm3 = SVC()\\n\\nparam_grid3 = {\\'kernel\\':[\\'rbf\\'],\\n            \\'C\\': [0.1, 1, 10, 20, 50], \\n            \\'tol\\': [0.001,0.0001]}\\n\\ngrid3 = GridSearchCV(svm3, param_grid3, cv=10, refit=True, verbose=3)\\ngrid3.fit(X_train_splited, Y_train_splited)\\n\\nprint(\"Validation set score: {:.2f}\".format(grid3.score(X_validation, Y_validation)))\\nprint(\"Best parameters: {}\".format(grid3.best_params_))\\nprint(\"Best cross-validation score: {:.2f}\".format(grid3.best_score_))\\nprint(\"Best estimator:\\n{}\".format(grid3.best_estimator_))\\n===============================================\\noutput\\n\\nFitting 10 folds for each of 10 candidates, totalling 100 fits\\n[CV 1/10] END .....C=0.1, kernel=rbf, tol=0.001;, score=0.845 total time=  25.1s\\n[CV 2/10] END .....C=0.1, kernel=rbf, tol=0.001;, score=0.830 total time=  25.0s\\n[CV 3/10] END .....C=0.1, kernel=rbf, tol=0.001;, score=0.833 total time=  25.3s\\n[CV 4/10] END .....C=0.1, kernel=rbf, tol=0.001;, score=0.830 total time=  25.8s\\n[CV 5/10] END .....C=0.1, kernel=rbf, tol=0.001;, score=0.830 total time=  25.3s\\n[CV 6/10] END .....C=0.1, kernel=rbf, tol=0.001;, score=0.830 total time=  25.1s\\n[CV 7/10] END .....C=0.1, kernel=rbf, tol=0.001;, score=0.830 total time=  26.3s\\n[CV 8/10] END .....C=0.1, kernel=rbf, tol=0.001;, score=0.834 total time=  27.5s\\n[CV 9/10] END .....C=0.1, kernel=rbf, tol=0.001;, score=0.831 total time=  24.7s\\n[CV 10/10] END ....C=0.1, kernel=rbf, tol=0.001;, score=0.833 total time=  27.7s\\n[CV 1/10] END ....C=0.1, kernel=rbf, tol=0.0001;, score=0.845 total time=  26.6s\\n[CV 2/10] END ....C=0.1, kernel=rbf, tol=0.0001;, score=0.830 total time=  25.8s\\n[CV 3/10] END ....C=0.1, kernel=rbf, tol=0.0001;, score=0.833 total time=  26.2s\\n[CV 4/10] END ....C=0.1, kernel=rbf, tol=0.0001;, score=0.830 total time=  25.9s\\n[CV 5/10] END ....C=0.1, kernel=rbf, tol=0.0001;, score=0.830 total time=  25.5s\\n[CV 6/10] END ....C=0.1, kernel=rbf, tol=0.0001;, score=0.830 total time=  25.4s\\n[CV 7/10] END ....C=0.1, kernel=rbf, tol=0.0001;, score=0.830 total time=  25.6s\\n[CV 8/10] END ....C=0.1, kernel=rbf, tol=0.0001;, score=0.834 total time=  25.9s\\n[CV 9/10] END ....C=0.1, kernel=rbf, tol=0.0001;, score=0.831 total time=  25.9s\\n[CV 10/10] END ...C=0.1, kernel=rbf, tol=0.0001;, score=0.833 total time=  26.3s\\n[CV 1/10] END .......C=1, kernel=rbf, tol=0.001;, score=0.888 total time=  16.6s\\n[CV 2/10] END .......C=1, kernel=rbf, tol=0.001;, score=0.879 total time=  17.0s\\n[CV 3/10] END .......C=1, kernel=rbf, tol=0.001;, score=0.875 total time=  16.3s\\n[CV 4/10] END .......C=1, kernel=rbf, tol=0.001;, score=0.880 total time=  16.2s\\n...\\nBest parameters: {\\'C\\': 10, \\'kernel\\': \\'rbf\\', \\'tol\\': 0.001}\\nBest cross-validation score: 0.89\\nBest estimator:\\nSVC(C=10)\\n'"
      ]
     },
     "execution_count": 13,
     "metadata": {},
     "output_type": "execute_result"
    }
   ],
   "source": [
    "\n",
    "\"\"\"\n",
    "Code\n",
    "\n",
    "svm3 = SVC()\n",
    "\n",
    "param_grid3 = {'kernel':['rbf'],\n",
    "            'C': [0.1, 1, 10, 20, 50], \n",
    "            'tol': [0.001,0.0001]}\n",
    "\n",
    "grid3 = GridSearchCV(svm3, param_grid3, cv=10, refit=True, verbose=3)\n",
    "grid3.fit(X_train_splited, Y_train_splited)\n",
    "\n",
    "print(\"Validation set score: {:.2f}\".format(grid3.score(X_validation, Y_validation)))\n",
    "print(\"Best parameters: {}\".format(grid3.best_params_))\n",
    "print(\"Best cross-validation score: {:.2f}\".format(grid3.best_score_))\n",
    "print(\"Best estimator:\\n{}\".format(grid3.best_estimator_))\n",
    "===============================================\n",
    "output\n",
    "\n",
    "Fitting 10 folds for each of 10 candidates, totalling 100 fits\n",
    "[CV 1/10] END .....C=0.1, kernel=rbf, tol=0.001;, score=0.845 total time=  25.1s\n",
    "[CV 2/10] END .....C=0.1, kernel=rbf, tol=0.001;, score=0.830 total time=  25.0s\n",
    "[CV 3/10] END .....C=0.1, kernel=rbf, tol=0.001;, score=0.833 total time=  25.3s\n",
    "[CV 4/10] END .....C=0.1, kernel=rbf, tol=0.001;, score=0.830 total time=  25.8s\n",
    "[CV 5/10] END .....C=0.1, kernel=rbf, tol=0.001;, score=0.830 total time=  25.3s\n",
    "[CV 6/10] END .....C=0.1, kernel=rbf, tol=0.001;, score=0.830 total time=  25.1s\n",
    "[CV 7/10] END .....C=0.1, kernel=rbf, tol=0.001;, score=0.830 total time=  26.3s\n",
    "[CV 8/10] END .....C=0.1, kernel=rbf, tol=0.001;, score=0.834 total time=  27.5s\n",
    "[CV 9/10] END .....C=0.1, kernel=rbf, tol=0.001;, score=0.831 total time=  24.7s\n",
    "[CV 10/10] END ....C=0.1, kernel=rbf, tol=0.001;, score=0.833 total time=  27.7s\n",
    "[CV 1/10] END ....C=0.1, kernel=rbf, tol=0.0001;, score=0.845 total time=  26.6s\n",
    "[CV 2/10] END ....C=0.1, kernel=rbf, tol=0.0001;, score=0.830 total time=  25.8s\n",
    "[CV 3/10] END ....C=0.1, kernel=rbf, tol=0.0001;, score=0.833 total time=  26.2s\n",
    "[CV 4/10] END ....C=0.1, kernel=rbf, tol=0.0001;, score=0.830 total time=  25.9s\n",
    "[CV 5/10] END ....C=0.1, kernel=rbf, tol=0.0001;, score=0.830 total time=  25.5s\n",
    "[CV 6/10] END ....C=0.1, kernel=rbf, tol=0.0001;, score=0.830 total time=  25.4s\n",
    "[CV 7/10] END ....C=0.1, kernel=rbf, tol=0.0001;, score=0.830 total time=  25.6s\n",
    "[CV 8/10] END ....C=0.1, kernel=rbf, tol=0.0001;, score=0.834 total time=  25.9s\n",
    "[CV 9/10] END ....C=0.1, kernel=rbf, tol=0.0001;, score=0.831 total time=  25.9s\n",
    "[CV 10/10] END ...C=0.1, kernel=rbf, tol=0.0001;, score=0.833 total time=  26.3s\n",
    "[CV 1/10] END .......C=1, kernel=rbf, tol=0.001;, score=0.888 total time=  16.6s\n",
    "[CV 2/10] END .......C=1, kernel=rbf, tol=0.001;, score=0.879 total time=  17.0s\n",
    "[CV 3/10] END .......C=1, kernel=rbf, tol=0.001;, score=0.875 total time=  16.3s\n",
    "[CV 4/10] END .......C=1, kernel=rbf, tol=0.001;, score=0.880 total time=  16.2s\n",
    "...\n",
    "Best parameters: {'C': 10, 'kernel': 'rbf', 'tol': 0.001}\n",
    "Best cross-validation score: 0.89\n",
    "Best estimator:\n",
    "SVC(C=10)\n",
    "\"\"\""
   ]
  },
  {
   "cell_type": "markdown",
   "metadata": {},
   "source": [
    "Since I already set many values for \"C\"; therefore, I do not think I need to do further investigation. Finally, I think {'C': 10} is the best hyperparameter for \"rbf\" svm. Notice that \"tol\"=0.001 is the default value."
   ]
  },
  {
   "cell_type": "code",
   "execution_count": 227,
   "metadata": {},
   "outputs": [
    {
     "name": "stdout",
     "output_type": "stream",
     "text": [
      "rbf Train set score: 0.975\n",
      "rbf Validation set score: 90.23\n"
     ]
    }
   ],
   "source": [
    "start_time = time.time()\n",
    "\n",
    "grid_rbf_svm = SVC(kernel=\"rbf\", C=10, tol=0.001) \n",
    "grid_rbf_svm.fit(X_train_splited, Y_train_splited)\n",
    "print(\"rbf Train set score: {:.3f}\".format(grid_rbf_svm.score(X_train_splited, Y_train_splited)))\n",
    "print(\"rbf Validation set score: {:.2f}\".format(grid_rbf_svm.score(X_validation, Y_validation)*100))\n",
    "\n",
    "end_time = time.time()\n",
    "svm_training_time = end_time - start_time"
   ]
  },
  {
   "cell_type": "markdown",
   "metadata": {},
   "source": [
    "By comparing the results of \"RBF\" and \"poly\" SVM. I found \"RBF\" SVM performs better than \"poly\" SVM which achieves 90.23% accuracy on the validation set. Hence, I decided to use \"RBF\" SVM to represent SVM."
   ]
  },
  {
   "cell_type": "code",
   "execution_count": 228,
   "metadata": {},
   "outputs": [],
   "source": [
    "best_svm = grid_rbf_svm"
   ]
  },
  {
   "cell_type": "markdown",
   "metadata": {},
   "source": [
    "### 4.1.6 Model 4 (Boosting)"
   ]
  },
  {
   "cell_type": "markdown",
   "metadata": {},
   "source": [
    "Since we only learned ada boosting and gradient boosting; therefore, I want to see which one chould generate to a better model. "
   ]
  },
  {
   "cell_type": "markdown",
   "metadata": {},
   "source": [
    "##### 4.1.6.1 (Ada Boosting)"
   ]
  },
  {
   "cell_type": "markdown",
   "metadata": {},
   "source": [
    "Below block of code implement the initial version of ada boosting method, in this initialization, I used default hyperparameters. "
   ]
  },
  {
   "cell_type": "code",
   "execution_count": 229,
   "metadata": {},
   "outputs": [
    {
     "name": "stderr",
     "output_type": "stream",
     "text": [
      "c:\\Users\\slh\\AppData\\Local\\Programs\\Python\\Python311\\Lib\\site-packages\\sklearn\\ensemble\\_weight_boosting.py:527: FutureWarning: The SAMME.R algorithm (the default) is deprecated and will be removed in 1.6. Use the SAMME algorithm to circumvent this warning.\n",
      "  warnings.warn(\n"
     ]
    },
    {
     "name": "stdout",
     "output_type": "stream",
     "text": [
      "Train set score: 50.019\n",
      "Validation set score: 50.80\n"
     ]
    }
   ],
   "source": [
    "ada_clf = AdaBoostClassifier(\n",
    "    DecisionTreeClassifier(criterion='entropy', max_depth=1), random_state=481)\n",
    "\n",
    "ada_clf.fit(X_train_splited, Y_train_splited)\n",
    "\n",
    "print(\"Train set score: {:.3f}\".format(ada_clf.score(X_train_splited, Y_train_splited)*100))\n",
    "print(\"Validation set score: {:.2f}\".format(ada_clf.score(X_validation, Y_validation)*100))"
   ]
  },
  {
   "cell_type": "markdown",
   "metadata": {},
   "source": [
    "\n",
    "After construct the classifier, I find it performs very bad, hence I only set few values for each hyperparameters. Because of its bad performance, I did not place great hope on it. I choose following hyperparameters because of the website https://www.analyticsvidhya.com/blog/2021/03/introduction-to-adaboost-algorithm-with-python/.\n",
    "\n",
    "'n_estimators': it means the number of boosting stages to perform. According to sklearn doc, larger \"n_estimators\" usually lead to better classifier, however, it usually take more time to train, too; therefore, the max \"n_estimators\" is 200 in the following dictionary.\n",
    "\n",
    "'learning_rate': indicates the contribution of each weak classifier for the final strong classifier. I just random pick value for it.\n",
    "\n",
    "\"estimator\": the types of weak classifier. I just random pick value for it."
   ]
  },
  {
   "cell_type": "code",
   "execution_count": 267,
   "metadata": {
    "collapsed": true,
    "jupyter": {
     "outputs_hidden": true
    }
   },
   "outputs": [
    {
     "data": {
      "text/plain": [
       "'\\nada = AdaBoostClassifier()\\n\\nparam_grid = {\\n    \\'n_estimators\\': [50, 100, 200],  \\n    \\'learning_rate\\': [0.01, 0.1, 1.0],  \\n    \\'estimator\\': [DecisionTreeClassifier(max_depth=1), DecisionTreeClassifier(max_depth=3)] \\n}\\n\\nada_grid_search = GridSearchCV(estimator=ada, param_grid=param_grid, scoring=\\'accuracy\\', cv=3, n_jobs=-1, verbose=3) \\n\\nada_grid_search.fit(X_train_splited, Y_train_splited)\\n\\nprint(\"Validation set score: {:.2f}\".format(ada_grid_search.score(X_validation, Y_validation)))\\nprint(\"Best parameters: {}\".format(ada_grid_search.best_params_))\\nprint(\"Best cross-validation score: {:.2f}\".format(ada_grid_search.best_score_))\\nprint(\"Best estimator:\\n{}\".format(ada_grid_search.best_estimator_))\\n\\n=============================================================================\\noutput\\n\\nValidation set score: 0.68\\nBest parameters: {\\'estimator\\': DecisionTreeClassifier(max_depth=3), \\'learning_rate\\': 0.01, \\'n_estimators\\': 50}\\nBest cross-validation score: 0.68\\nBest estimator:\\nAdaBoostClassifier(estimator=DecisionTreeClassifier(max_depth=3),\\n                   learning_rate=0.01)\\n'"
      ]
     },
     "execution_count": 267,
     "metadata": {},
     "output_type": "execute_result"
    }
   ],
   "source": [
    "\"\"\"\n",
    "ada = AdaBoostClassifier()\n",
    "\n",
    "param_grid = {\n",
    "    'n_estimators': [50, 100, 200],  \n",
    "    'learning_rate': [0.01, 0.1, 1.0],  \n",
    "    'estimator': [DecisionTreeClassifier(max_depth=1), DecisionTreeClassifier(max_depth=3)] \n",
    "}\n",
    "\n",
    "ada_grid_search = GridSearchCV(estimator=ada, param_grid=param_grid, scoring='accuracy', cv=3, n_jobs=-1, verbose=3) \n",
    "\n",
    "ada_grid_search.fit(X_train_splited, Y_train_splited)\n",
    "\n",
    "print(\"Validation set score: {:.2f}\".format(ada_grid_search.score(X_validation, Y_validation)))\n",
    "print(\"Best parameters: {}\".format(ada_grid_search.best_params_))\n",
    "print(\"Best cross-validation score: {:.2f}\".format(ada_grid_search.best_score_))\n",
    "print(\"Best estimator:\\n{}\".format(ada_grid_search.best_estimator_))\n",
    "\n",
    "=============================================================================\n",
    "output\n",
    "\n",
    "Validation set score: 0.68\n",
    "Best parameters: {'estimator': DecisionTreeClassifier(max_depth=3), 'learning_rate': 0.01, 'n_estimators': 50}\n",
    "Best cross-validation score: 0.68\n",
    "Best estimator:\n",
    "AdaBoostClassifier(estimator=DecisionTreeClassifier(max_depth=3),\n",
    "                   learning_rate=0.01)\n",
    "\"\"\""
   ]
  },
  {
   "cell_type": "markdown",
   "metadata": {},
   "source": [
    "As I expected, even I use grid search to improve the performance of ada boosting, its performance is still not ideal. As a result, I will not implement its advanced version."
   ]
  },
  {
   "cell_type": "markdown",
   "metadata": {},
   "source": [
    "##### 4.1.6.2 (Gradient Boosting)"
   ]
  },
  {
   "cell_type": "markdown",
   "metadata": {},
   "source": [
    "Below block of code implements the initial version of ada boosting method, in this initialization, I set 3 hyperparameters that have strong effection based on website https://scikit-learn.org/stable/modules/generated/sklearn.ensemble.GradientBoostingClassifier.html.\n",
    "\n",
    "\"max_deepth\": it controls the maximum depth of each weak classifier, which is typically a decision tree. I set it to 3 to prevent the model from overfitting and to maintain a moderate complexity for each tree. This helps enhance the model's generalization capability.\"\n",
    "\n",
    "\"n_estimators\": it means the number of boosting stages to perform. According to sklearn doc, larger \"n_estimators\" usually lead to better classifier, however, it usually take more time to train, too. Therefore, I set it as 200.\n",
    "\n",
    "\"learning_rate\": it simply represent the learning rate for gradient descent. I set it as 0.2 because default learning_rate is 0.1. In addition I think slightly larger learning_rate can accelerate the convergence process while still being cautious to avoid overshooting the optimal solution."
   ]
  },
  {
   "cell_type": "markdown",
   "metadata": {},
   "source": [
    "Caution: Run below block of code take at least 1 hour !!!!!!!"
   ]
  },
  {
   "cell_type": "code",
   "execution_count": 231,
   "metadata": {},
   "outputs": [
    {
     "name": "stdout",
     "output_type": "stream",
     "text": [
      "Train set score: 98.004\n",
      "Test set score: 85.40\n"
     ]
    }
   ],
   "source": [
    "from sklearn.ensemble import GradientBoostingClassifier\n",
    "\n",
    "start_time = time.time()\n",
    "\n",
    "# I set max_depth manually, because when it equals 3, this classifier has better performance\n",
    "gb_clf = GradientBoostingClassifier(max_depth=3, n_estimators=200, learning_rate=0.2, random_state=481)\n",
    "gb_clf.fit(X_train_splited, Y_train_splited)\n",
    "\n",
    "end_time = time.time()\n",
    "gradient_training_time = end_time - start_time\n",
    "\n",
    "print(\"Train set score: {:.3f}\".format(gb_clf.score(X_train_splited, Y_train_splited)*100))\n",
    "print(\"Test set score: {:.2f}\".format(gb_clf.score(X_validation, Y_validation)*100))"
   ]
  },
  {
   "cell_type": "markdown",
   "metadata": {},
   "source": [
    "As I mentioned above, train this classifier takes approximately 1 hours. Therefore, it is almost impossible to do grid search and cross validation, otherwise, my pc will get stuck and I cannot finish other units' homework. Moreover, SVM classifier already satisfy my requirement (about 90% accuracy). Hence, I give up boosting method. By the way, since gradient boosting method performs much better than ada boosting method, therefore, I choose gradient boosting method to represent boosting method."
   ]
  },
  {
   "cell_type": "code",
   "execution_count": 232,
   "metadata": {},
   "outputs": [],
   "source": [
    "best_boosting = gb_clf"
   ]
  },
  {
   "cell_type": "markdown",
   "metadata": {},
   "source": [
    "### 4.1.7 Evaluation"
   ]
  },
  {
   "cell_type": "markdown",
   "metadata": {},
   "source": [
    "Loading test1.csv and do the same data preprocessing steps, which we did for train.csv, to it."
   ]
  },
  {
   "cell_type": "code",
   "execution_count": 21,
   "metadata": {},
   "outputs": [
    {
     "name": "stdout",
     "output_type": "stream",
     "text": [
      "Standaidization feature shape: (2000, 784)\n",
      "PCA feature shape: (2000, 187)\n"
     ]
    }
   ],
   "source": [
    "# import test dataset\n",
    "data_test = pd.read_csv('./data/test1.csv')\n",
    "# We also need to preprocessing testing data\n",
    "data_test_feature = data_test.loc[:, \"v1\":\"v784\"].to_numpy()\n",
    "\n",
    "X_test = scaler.transform(data_test_feature)\n",
    "\n",
    "print(\"Standaidization feature shape:\", X_test.shape)\n",
    "X_test = pca.transform(X_test)\n",
    "\n",
    "Y_test = data_test.label.to_numpy()\n",
    "\n",
    "\n",
    "print(\"PCA feature shape:\", X_test.shape)"
   ]
  },
  {
   "cell_type": "markdown",
   "metadata": {},
   "source": [
    "Now, let's evaluate the performance of the best version of each model by using confusion matrix."
   ]
  },
  {
   "cell_type": "markdown",
   "metadata": {},
   "source": [
    "#### 4.1.7.1 Knn"
   ]
  },
  {
   "cell_type": "markdown",
   "metadata": {},
   "source": [
    "Let's check Knn method's confusion matrix on the validation set."
   ]
  },
  {
   "cell_type": "code",
   "execution_count": 234,
   "metadata": {},
   "outputs": [
    {
     "name": "stdout",
     "output_type": "stream",
     "text": [
      "              precision    recall  f1-score   support\n",
      "\n",
      "           0       0.78      0.86      0.82       296\n",
      "           1       0.98      0.97      0.98       304\n",
      "           2       0.75      0.83      0.79       299\n",
      "           3       0.88      0.89      0.89       292\n",
      "           4       0.78      0.74      0.76       297\n",
      "           5       0.99      0.84      0.91       299\n",
      "           6       0.70      0.61      0.65       308\n",
      "           7       0.89      0.95      0.92       301\n",
      "           8       0.97      0.95      0.96       302\n",
      "           9       0.90      0.97      0.93       302\n",
      "\n",
      "    accuracy                           0.86      3000\n",
      "   macro avg       0.86      0.86      0.86      3000\n",
      "weighted avg       0.86      0.86      0.86      3000\n",
      "\n",
      "[[254   0   6   8   2   0  23   0   3   0]\n",
      " [  0 294   2   5   2   0   0   0   0   1]\n",
      " [  4   1 249   0  29   0  16   0   0   0]\n",
      " [ 13   3   2 260  11   0   3   0   0   0]\n",
      " [  3   0  26  11 220   0  36   0   1   0]\n",
      " [  0   0   0   1   0 252   1  26   1  18]\n",
      " [ 48   1  45   6  17   0 188   0   3   0]\n",
      " [  0   0   0   0   0   2   0 286   0  13]\n",
      " [  3   0   3   3   2   0   2   1 288   0]\n",
      " [  0   0   0   0   0   0   0   9   0 293]]\n"
     ]
    }
   ],
   "source": [
    "knn_actual = Y_validation\n",
    "knn_predict = best_knn.predict(X_validation)\n",
    "print(metrics.classification_report(knn_actual, knn_predict))\n",
    "\n",
    "# show the confusion matrix\n",
    "print(metrics.confusion_matrix(knn_actual, knn_predict))"
   ]
  },
  {
   "cell_type": "markdown",
   "metadata": {},
   "source": [
    "Precision score: for classes 1, 5, 8, and 9, these classes can accurately be classified. However, for classes 2 and 6, the probability of correctly identifying them is less than 75%. Specifically, this classifier prefers to make fewer errors when predicting classes 1, 5, 8, and 9 and makes slightly more errors when predicting classes 2 and 6.\n",
    "\n",
    "Recall score: A bigger recall score means the classifier can identify more correct samples and increase the probability of mismatching. As you can see, classes 1, 3, 8, and 9 have very high recall scores and classes 4 and 6 have low recall scores.\n",
    "\n",
    "F1-score: This is the average performance of this classifier when classifying each class. Through the table, we can see it performs very well when classifying classes 1, 5, 8, and 9 and performs very badly when classifying class 6. \n",
    "\n",
    "Conclusion: This classifier is not bad because it has 86% accuracy in the validation set. It can predict most classes correctly except for classes 2, 4, and 6."
   ]
  },
  {
   "cell_type": "markdown",
   "metadata": {},
   "source": [
    "Let's check Knn method's confusion matrix on the test set."
   ]
  },
  {
   "cell_type": "code",
   "execution_count": 235,
   "metadata": {},
   "outputs": [
    {
     "name": "stdout",
     "output_type": "stream",
     "text": [
      "              precision    recall  f1-score   support\n",
      "\n",
      "           0       0.79      0.88      0.83       191\n",
      "           1       0.98      0.96      0.97       199\n",
      "           2       0.71      0.78      0.74       191\n",
      "           3       0.87      0.87      0.87       174\n",
      "           4       0.79      0.81      0.80       203\n",
      "           5       0.98      0.83      0.90       210\n",
      "           6       0.70      0.57      0.63       201\n",
      "           7       0.86      0.95      0.90       212\n",
      "           8       0.99      0.95      0.97       216\n",
      "           9       0.89      0.93      0.91       203\n",
      "\n",
      "    accuracy                           0.85      2000\n",
      "   macro avg       0.85      0.85      0.85      2000\n",
      "weighted avg       0.86      0.85      0.85      2000\n",
      "\n",
      "[[168   1   2   6   0   0  13   0   1   0]\n",
      " [  1 192   2   3   0   0   1   0   0   0]\n",
      " [  2   0 149   2  21   0  16   1   0   0]\n",
      " [  8   3   2 151   9   0   1   0   0   0]\n",
      " [  1   0  15   8 165   0  14   0   0   0]\n",
      " [  0   0   1   0   0 174   0  19   1  15]\n",
      " [ 33   0  35   2  15   0 115   0   1   0]\n",
      " [  0   0   0   0   0   2   0 201   0   9]\n",
      " [  0   0   3   1   0   0   5   1 206   0]\n",
      " [  0   0   0   0   0   1   0  13   0 189]]\n"
     ]
    }
   ],
   "source": [
    "knn_actual = Y_test\n",
    "knn_predict = best_knn.predict(X_test)\n",
    "print(metrics.classification_report(knn_actual, knn_predict))\n",
    "\n",
    "# show the confusion matrix\n",
    "print(metrics.confusion_matrix(knn_actual, knn_predict))"
   ]
  },
  {
   "cell_type": "markdown",
   "metadata": {},
   "source": [
    "Precision score: class 2 and 6 have bad precision scores\n",
    "\n",
    "Recall score: class 2 and 6 have bad recall scores\n",
    "\n",
    "F1-score: Classes 2 and 6 are very difficult for this classifier to identify.\n",
    "\n",
    "Conclusion: The overall accuracy of this classifier in the test set is 85% which is slightly lower than in the validation set. The main reason for this is that this classifier cannot identify class 6 correctly. Moreover, through the matrix, you can find that this classifier always identifies class 6 as class 0, 2, or 4. Namely, it will confuse shirt with a t-shirt, pullover, or coat."
   ]
  },
  {
   "cell_type": "markdown",
   "metadata": {},
   "source": [
    "#### 4.1.7.2 Logistic regression"
   ]
  },
  {
   "cell_type": "markdown",
   "metadata": {},
   "source": [
    "Let's check logistic regression method's confusion matrix on the validation set."
   ]
  },
  {
   "cell_type": "code",
   "execution_count": 236,
   "metadata": {},
   "outputs": [
    {
     "name": "stdout",
     "output_type": "stream",
     "text": [
      "              precision    recall  f1-score   support\n",
      "\n",
      "           0       0.80      0.80      0.80       296\n",
      "           1       0.96      0.96      0.96       304\n",
      "           2       0.72      0.76      0.74       299\n",
      "           3       0.87      0.89      0.88       292\n",
      "           4       0.76      0.74      0.75       297\n",
      "           5       0.96      0.95      0.96       299\n",
      "           6       0.63      0.60      0.61       308\n",
      "           7       0.95      0.94      0.95       301\n",
      "           8       0.95      0.94      0.95       302\n",
      "           9       0.95      0.97      0.96       302\n",
      "\n",
      "    accuracy                           0.85      3000\n",
      "   macro avg       0.85      0.86      0.85      3000\n",
      "weighted avg       0.85      0.85      0.85      3000\n",
      "\n",
      "[[237   2   9  15   2   0  29   0   2   0]\n",
      " [  0 292   1   7   2   0   2   0   0   0]\n",
      " [  4   1 226   1  35   0  29   0   3   0]\n",
      " [ 12   5   5 259   6   0   5   0   0   0]\n",
      " [  0   1  28   8 220   0  39   0   1   0]\n",
      " [  0   0   0   0   0 285   0  10   0   4]\n",
      " [ 42   3  42   6  21   0 186   0   8   0]\n",
      " [  0   0   0   0   0   7   0 284   0  10]\n",
      " [  0   0   4   2   4   1   7   0 284   0]\n",
      " [  0   1   0   0   0   3   0   6   0 292]]\n"
     ]
    }
   ],
   "source": [
    "lg_actual = Y_validation\n",
    "lg_predict = best_logreg.predict(X_validation)\n",
    "print(metrics.classification_report(lg_actual, lg_predict))\n",
    "\n",
    "# show the confusion matrix\n",
    "print(metrics.confusion_matrix(lg_actual, lg_predict))"
   ]
  },
  {
   "cell_type": "markdown",
   "metadata": {},
   "source": [
    "Through the table, it is not difficult to find that this classifier cannot easily detect class 6. All scores for detecting class 6 are less than 63% which is lower than the overall accuracy of 85%."
   ]
  },
  {
   "cell_type": "markdown",
   "metadata": {},
   "source": [
    "Let's check logistic regression method's confusion matrix on the test set."
   ]
  },
  {
   "cell_type": "code",
   "execution_count": 237,
   "metadata": {},
   "outputs": [
    {
     "name": "stdout",
     "output_type": "stream",
     "text": [
      "              precision    recall  f1-score   support\n",
      "\n",
      "           0       0.83      0.85      0.84       191\n",
      "           1       0.95      0.97      0.96       199\n",
      "           2       0.75      0.77      0.76       191\n",
      "           3       0.82      0.86      0.84       174\n",
      "           4       0.81      0.80      0.81       203\n",
      "           5       0.92      0.87      0.90       210\n",
      "           6       0.71      0.64      0.67       201\n",
      "           7       0.88      0.91      0.89       212\n",
      "           8       0.96      0.95      0.96       216\n",
      "           9       0.90      0.93      0.92       203\n",
      "\n",
      "    accuracy                           0.86      2000\n",
      "   macro avg       0.85      0.86      0.85      2000\n",
      "weighted avg       0.86      0.86      0.86      2000\n",
      "\n",
      "[[162   2   0  10   0   1  13   0   3   0]\n",
      " [  0 194   1   4   0   0   0   0   0   0]\n",
      " [  3   1 147   4  20   0  14   0   2   0]\n",
      " [  4   5   2 150   6   0   7   0   0   0]\n",
      " [  1   0  16   8 162   0  15   0   0   1]\n",
      " [  0   1   0   1   0 183   0  16   1   8]\n",
      " [ 26   1  28   2  11   1 129   0   3   0]\n",
      " [  0   0   0   0   0  10   0 192   0  10]\n",
      " [  0   0   2   3   0   0   4   0 206   1]\n",
      " [  0   0   0   0   0   3   0  11   0 189]]\n"
     ]
    }
   ],
   "source": [
    "lg_actual = Y_test\n",
    "lg_predict = best_logreg.predict(X_test)\n",
    "print(metrics.classification_report(lg_actual, lg_predict))\n",
    "\n",
    "# show the confusion matrix\n",
    "print(metrics.confusion_matrix(lg_actual, lg_predict))"
   ]
  },
  {
   "cell_type": "markdown",
   "metadata": {},
   "source": [
    "As I expected, this classifier performs pretty badly when it classifies class 6. Through the matrix, you can see classifier always identifies class 6 as class 0, 2, or 4."
   ]
  },
  {
   "cell_type": "markdown",
   "metadata": {},
   "source": [
    "#### 4.1.7.3 SVM"
   ]
  },
  {
   "cell_type": "markdown",
   "metadata": {},
   "source": [
    "Let's check SVM method's confusion matrix on the validation set."
   ]
  },
  {
   "cell_type": "code",
   "execution_count": 238,
   "metadata": {},
   "outputs": [
    {
     "name": "stdout",
     "output_type": "stream",
     "text": [
      "              precision    recall  f1-score   support\n",
      "\n",
      "           0       0.83      0.86      0.85       296\n",
      "           1       0.98      0.98      0.98       304\n",
      "           2       0.81      0.84      0.82       299\n",
      "           3       0.92      0.92      0.92       292\n",
      "           4       0.85      0.84      0.84       297\n",
      "           5       0.98      0.95      0.97       299\n",
      "           6       0.75      0.71      0.73       308\n",
      "           7       0.96      0.97      0.97       301\n",
      "           8       0.98      0.97      0.98       302\n",
      "           9       0.96      0.98      0.97       302\n",
      "\n",
      "    accuracy                           0.90      3000\n",
      "   macro avg       0.90      0.90      0.90      3000\n",
      "weighted avg       0.90      0.90      0.90      3000\n",
      "\n",
      "[[256   1   6   2   0   0  28   0   3   0]\n",
      " [  0 297   0   4   1   0   1   0   0   1]\n",
      " [  4   0 252   1  21   0  21   0   0   0]\n",
      " [  8   2   2 269   8   0   3   0   0   0]\n",
      " [  1   0  21   7 248   0  19   0   1   0]\n",
      " [  0   0   0   1   0 285   0   8   0   5]\n",
      " [ 36   1  30   8  12   0 218   0   3   0]\n",
      " [  0   0   0   0   0   4   0 292   0   5]\n",
      " [  2   0   2   0   3   0   1   0 294   0]\n",
      " [  0   1   0   0   0   1   0   4   0 296]]\n"
     ]
    }
   ],
   "source": [
    "svm_actual = Y_validation\n",
    "svm_predict = best_svm.predict(X_validation)\n",
    "print(metrics.classification_report(svm_actual, svm_predict))\n",
    "\n",
    "# show the confusion matrix\n",
    "print(metrics.confusion_matrix(svm_actual, svm_predict))"
   ]
  },
  {
   "cell_type": "markdown",
   "metadata": {},
   "source": [
    "This classifier performance is pretty good on the validation set. Through the table, you can find that there is not a score lower than 70%. The most difficult class for it to classify is class 6. Through the matrix, we know this classifier likes to classify class 6 as class 0, 2, 3, and 4."
   ]
  },
  {
   "cell_type": "markdown",
   "metadata": {},
   "source": [
    "Let's check SVM method's confusion matrix on the test set."
   ]
  },
  {
   "cell_type": "code",
   "execution_count": 239,
   "metadata": {},
   "outputs": [
    {
     "name": "stdout",
     "output_type": "stream",
     "text": [
      "              precision    recall  f1-score   support\n",
      "\n",
      "           0       0.84      0.90      0.87       191\n",
      "           1       0.97      0.98      0.97       199\n",
      "           2       0.83      0.84      0.84       191\n",
      "           3       0.89      0.90      0.90       174\n",
      "           4       0.86      0.89      0.87       203\n",
      "           5       0.99      0.96      0.97       210\n",
      "           6       0.79      0.69      0.74       201\n",
      "           7       0.95      0.95      0.95       212\n",
      "           8       0.98      0.97      0.97       216\n",
      "           9       0.94      0.97      0.96       203\n",
      "\n",
      "    accuracy                           0.91      2000\n",
      "   macro avg       0.90      0.91      0.90      2000\n",
      "weighted avg       0.91      0.91      0.91      2000\n",
      "\n",
      "[[171   2   1   5   0   1  10   0   1   0]\n",
      " [  0 195   1   3   0   0   0   0   0   0]\n",
      " [  3   0 161   3  11   0  12   0   1   0]\n",
      " [  3   4   3 157   6   0   1   0   0   0]\n",
      " [  1   0   8   4 181   0   9   0   0   0]\n",
      " [  0   0   0   0   0 201   0   5   1   3]\n",
      " [ 25   0  19   3  13   0 139   0   2   0]\n",
      " [  0   0   0   0   0   2   0 202   0   8]\n",
      " [  0   0   1   1   0   0   4   0 209   1]\n",
      " [  0   0   0   0   0   0   0   6   0 197]]\n"
     ]
    }
   ],
   "source": [
    "svm_actual = Y_test\n",
    "svm_predict = best_svm.predict(X_test)\n",
    "print(metrics.classification_report(svm_actual, svm_predict))\n",
    "\n",
    "# show the confusion matrix\n",
    "print(metrics.confusion_matrix(svm_actual, svm_predict))"
   ]
  },
  {
   "cell_type": "markdown",
   "metadata": {},
   "source": [
    "It is accuracy on the test set is 91%. However, it is still very difficult for this classifier to identify class 6 correctly. Through the matrix, we know this classifier likes to classify class 6 as class 0, 2, and 4."
   ]
  },
  {
   "cell_type": "markdown",
   "metadata": {},
   "source": [
    "#### 4.1.7.4 Boosting"
   ]
  },
  {
   "cell_type": "markdown",
   "metadata": {},
   "source": [
    "Let's check Boosting method's confusion matrix on the validation set."
   ]
  },
  {
   "cell_type": "code",
   "execution_count": 240,
   "metadata": {},
   "outputs": [
    {
     "name": "stdout",
     "output_type": "stream",
     "text": [
      "              precision    recall  f1-score   support\n",
      "\n",
      "           0       0.78      0.80      0.79       296\n",
      "           1       0.97      0.95      0.96       304\n",
      "           2       0.75      0.81      0.77       299\n",
      "           3       0.87      0.87      0.87       292\n",
      "           4       0.77      0.75      0.76       297\n",
      "           5       0.95      0.91      0.93       299\n",
      "           6       0.65      0.62      0.63       308\n",
      "           7       0.95      0.93      0.94       301\n",
      "           8       0.93      0.93      0.93       302\n",
      "           9       0.93      0.97      0.95       302\n",
      "\n",
      "    accuracy                           0.85      3000\n",
      "   macro avg       0.85      0.85      0.85      3000\n",
      "weighted avg       0.85      0.85      0.85      3000\n",
      "\n",
      "[[237   1   7  11   0   1  32   0   7   0]\n",
      " [  1 289   3   8   3   0   0   0   0   0]\n",
      " [  2   1 241   0  27   0  26   0   2   0]\n",
      " [ 13   4   3 255   7   0  10   0   0   0]\n",
      " [  0   0  31  11 223   0  31   0   1   0]\n",
      " [  0   1   0   1   0 273   0  10   5   9]\n",
      " [ 46   1  31   6  28   0 190   0   6   0]\n",
      " [  0   0   0   0   0   9   0 280   0  12]\n",
      " [  4   0   6   2   2   1   3   0 282   2]\n",
      " [  0   0   1   0   0   4   0   5   0 292]]\n"
     ]
    }
   ],
   "source": [
    "boost_actual = Y_validation\n",
    "boost_predict = best_boosting.predict(X_validation)\n",
    "print(metrics.classification_report(boost_actual, boost_predict))\n",
    "\n",
    "# show the confusion matrix\n",
    "print(metrics.confusion_matrix(boost_actual, boost_predict))"
   ]
  },
  {
   "cell_type": "markdown",
   "metadata": {},
   "source": [
    "Through the table we know this classifier cannot easily detect class 6 on the validation set. Through the matrix, we know it always identify class 6 as class 0, 2, or 4."
   ]
  },
  {
   "cell_type": "markdown",
   "metadata": {},
   "source": [
    "Let's check Boosting method's confusion matrix on the test set."
   ]
  },
  {
   "cell_type": "code",
   "execution_count": 241,
   "metadata": {},
   "outputs": [
    {
     "name": "stdout",
     "output_type": "stream",
     "text": [
      "              precision    recall  f1-score   support\n",
      "\n",
      "           0       0.84      0.87      0.86       191\n",
      "           1       0.96      0.96      0.96       199\n",
      "           2       0.79      0.79      0.79       191\n",
      "           3       0.86      0.86      0.86       174\n",
      "           4       0.79      0.80      0.79       203\n",
      "           5       0.95      0.92      0.94       210\n",
      "           6       0.72      0.71      0.71       201\n",
      "           7       0.93      0.93      0.93       212\n",
      "           8       0.97      0.93      0.95       216\n",
      "           9       0.92      0.95      0.93       203\n",
      "\n",
      "    accuracy                           0.87      2000\n",
      "   macro avg       0.87      0.87      0.87      2000\n",
      "weighted avg       0.87      0.87      0.87      2000\n",
      "\n",
      "[[167   1   0   9   0   1  12   0   1   0]\n",
      " [  0 192   2   4   1   0   0   0   0   0]\n",
      " [  3   0 151   2  22   0  11   0   2   0]\n",
      " [  4   4   3 150   7   0   6   0   0   0]\n",
      " [  1   0  12   7 162   0  21   0   0   0]\n",
      " [  1   2   0   0   0 194   0   7   0   6]\n",
      " [ 21   1  20   1  14   0 142   0   2   0]\n",
      " [  0   0   0   0   0   3   0 197   1  11]\n",
      " [  1   0   4   1   0   3   5   1 201   0]\n",
      " [  0   0   0   0   0   3   0   7   0 193]]\n"
     ]
    }
   ],
   "source": [
    "boost_actual = Y_test\n",
    "boost_predict = best_boosting.predict(X_test)\n",
    "print(metrics.classification_report(boost_actual, boost_predict))\n",
    "\n",
    "# show the confusion matrix\n",
    "print(metrics.confusion_matrix(boost_actual, boost_predict))"
   ]
  },
  {
   "cell_type": "markdown",
   "metadata": {},
   "source": [
    "The performance of this classifier is slightly better on the test set. However, the main issue is still class 6 identification. Through the matrix, we can find it still always classifies class 6 as class 0, 2, and 4."
   ]
  },
  {
   "cell_type": "markdown",
   "metadata": {},
   "source": [
    "### 4.1.8 Comparison"
   ]
  },
  {
   "cell_type": "markdown",
   "metadata": {},
   "source": [
    "In this part, I will mainly focus on comparing these 4 models' training time and accuracy. As for inference time, it is highly related to the training time, because when I do the grid search, I just simply train different models with certain combinations of hyperparameters."
   ]
  },
  {
   "cell_type": "code",
   "execution_count": 253,
   "metadata": {},
   "outputs": [
    {
     "data": {
      "image/png": "[encoded data removed]",
      "text/plain": [
       "<Figure size 1200x800 with 1 Axes>"
      ]
     },
     "metadata": {},
     "output_type": "display_data"
    },
    {
     "data": {
      "image/png": "[encoded data removed]",
      "text/plain": [
       "<Figure size 1200x800 with 1 Axes>"
      ]
     },
     "metadata": {},
     "output_type": "display_data"
    }
   ],
   "source": [
    "# refer to https://www.geeksforgeeks.org/seaborn-barplot-method-in-python/\n",
    "import seaborn as sns\n",
    "\n",
    "model_accuracies = {\n",
    "    'logreg': best_logreg.score(X_test, Y_test)*100,\n",
    "    'knn': best_knn.score(X_test, Y_test)*100,\n",
    "    'gradient': best_boosting.score(X_test, Y_test)*100,\n",
    "    \"rbf_svm\" : best_svm.score(X_test, Y_test)*100\n",
    "}\n",
    "\n",
    "accuracy_df = pd.DataFrame(list(model_accuracies.items()), columns=['Model', 'Accuracy (%)'])\n",
    "\n",
    "plt.figure(figsize=(12, 8))\n",
    "sns.barplot(x='Model', y='Accuracy (%)', data=accuracy_df)\n",
    "\n",
    "for index, row in accuracy_df.iterrows():\n",
    "    plt.text(index, row['Accuracy (%)'] + 0.5, round(row['Accuracy (%)'], 2), \n",
    "             color='black', ha=\"center\", va=\"bottom\")\n",
    "\n",
    "plt.title('Model Accuracy Comparison on test1.csv')\n",
    "plt.xticks(rotation=45, ha='right') \n",
    "plt.xlabel('Model')\n",
    "plt.ylabel('Accuracy (%)')\n",
    "plt.ylim(0, 100) \n",
    "plt.show()\n",
    "\n",
    "model_time = {\n",
    "    'logreg': logreg_training_time/60,\n",
    "    'knn': knn_training_time/60,\n",
    "    'gradient': gradient_training_time/60,\n",
    "    \"rbf_svm\" : svm_training_time/60\n",
    "}\n",
    "\n",
    "time_df = pd.DataFrame(list(model_time.items()), columns=['Model', 'time (min)'])\n",
    "\n",
    "plt.figure(figsize=(12, 8))\n",
    "sns.barplot(x='Model', y='time (min)', data=time_df)\n",
    "\n",
    "for index, row in time_df.iterrows():\n",
    "    plt.text(index, row['time (min)'] + 0.5, round(row['time (min)'], 2), \n",
    "             color='black', ha=\"center\", va=\"bottom\")\n",
    "\n",
    "plt.title('Model Training Time Comparison')\n",
    "plt.xticks(rotation=45, ha='right') \n",
    "plt.xlabel('Model')\n",
    "plt.ylabel('time (min)')\n",
    "plt.ylim(0, 120) \n",
    "plt.show()"
   ]
  },
  {
   "cell_type": "markdown",
   "metadata": {},
   "source": [
    "Firstly, let's analyze the accuracy of each model in the test1.csv data set. From the first bar chart, you can see the SVM method has the highest accuracy which is 90.65% and the Knn method has the lowest accuracy which is 85.5%. Secondly, let's analyze the training time for each model. As you can see, because of calculating the distance is very simple, therefore, knn method takes the least time, which is less than 1 minute. The gradient boosting method takes the longest time, which is about 1 hour (time may change due to different hardware). The reason is that convergence is slow with gradient descent, especially when we set a very small learning rate."
   ]
  },
  {
   "cell_type": "markdown",
   "metadata": {},
   "source": [
    "### 4.1.9 The Best Classifier"
   ]
  },
  {
   "cell_type": "markdown",
   "metadata": {},
   "source": [
    "From 4.1.8, we know rbf_svm has the highest accuracy 90.65%, and middle level training time. Therefore, I think rbf_svm is the best classifier. \n",
    "\n",
    "Notice that the hyperparameters for rbf_svm are {kernel=\"rbf\", C=10, tol=0.001}; however, I decided to train the classifier again by using train.csv as a training set and test1.csv as a test set. The reason behind that is I think a larger training set can lead to a better classifier. Moreover, I also need to use Grid-search and cross-validation methods again to find the newest best combination of hyperparameters for this model."
   ]
  },
  {
   "cell_type": "code",
   "execution_count": 243,
   "metadata": {
    "collapsed": true,
    "jupyter": {
     "outputs_hidden": true
    }
   },
   "outputs": [
    {
     "data": {
      "text/plain": [
       "'\\nbest_classifier_init = SVC()\\n\\nbest_grid_para = {\\'kernel\\':[\\'rbf\\'],\\n            \\'C\\': [0.1, 1, 10, 20, 30, 50], \\n            \\'tol\\': [0.001,0.0001]}\\n\\nbest_grid = GridSearchCV(best_classifier_init, best_grid_para, cv=10, refit=True, verbose=2)\\nbest_grid.fit(X_train, Y_train)\\n\\nprint(\"Validation set score: {:.2f}\".format(best_grid.score(X_test, Y_test)))\\nprint(\"Best parameters: {}\".format(best_grid.best_params_))\\nprint(\"Best cross-validation score: {:.2f}\".format(best_grid.best_score_))\\nprint(\"Best estimator:\\n{}\".format(best_grid.best_estimator_))\\n\\n==================================================================\\noutput\\n\\nBest parameters: {\\'C\\': 10, \\'kernel\\': \\'rbf\\', \\'tol\\': 0.001}\\nBest cross-validation score: 0.90\\nBest estimator:\\nSVC(C=10)\\n'"
      ]
     },
     "execution_count": 243,
     "metadata": {},
     "output_type": "execute_result"
    }
   ],
   "source": [
    "\"\"\"\n",
    "best_classifier_init = SVC()\n",
    "\n",
    "best_grid_para = {'kernel':['rbf'],\n",
    "            'C': [0.1, 1, 10, 20, 30, 50], \n",
    "            'tol': [0.001,0.0001]}\n",
    "\n",
    "best_grid = GridSearchCV(best_classifier_init, best_grid_para, cv=10, refit=True, verbose=2)\n",
    "best_grid.fit(X_train, Y_train)\n",
    "\n",
    "print(\"Validation set score: {:.2f}\".format(best_grid.score(X_test, Y_test)))\n",
    "print(\"Best parameters: {}\".format(best_grid.best_params_))\n",
    "print(\"Best cross-validation score: {:.2f}\".format(best_grid.best_score_))\n",
    "print(\"Best estimator:\\n{}\".format(best_grid.best_estimator_))\n",
    "\n",
    "==================================================================\n",
    "output\n",
    "\n",
    "Best parameters: {'C': 10, 'kernel': 'rbf', 'tol': 0.001}\n",
    "Best cross-validation score: 0.90\n",
    "Best estimator:\n",
    "SVC(C=10)\n",
    "\"\"\""
   ]
  },
  {
   "cell_type": "markdown",
   "metadata": {},
   "source": [
    "As you can see, \"C\" = 10 is still the best hyper-parameter for this model. As a result, the best classifier is the following."
   ]
  },
  {
   "cell_type": "code",
   "execution_count": 25,
   "metadata": {},
   "outputs": [
    {
     "name": "stdout",
     "output_type": "stream",
     "text": [
      "best_classifier Train set score: 97.450\n",
      "best_classifier Test set score: 90.95\n"
     ]
    }
   ],
   "source": [
    "best_classifier = SVC(kernel='rbf', C=10)\n",
    "best_classifier.fit(X_train,Y_train)\n",
    "\n",
    "print(\"best_classifier Train set score: {:.3f}\".format(best_classifier.score(X_train, Y_train)*100)) #train.csv\n",
    "print(\"best_classifier Test set score: {:.2f}\".format(best_classifier.score(X_test, Y_test)*100)) # test1.csv"
   ]
  },
  {
   "cell_type": "markdown",
   "metadata": {},
   "source": [
    "### 4.1.10 Loading testing data"
   ]
  },
  {
   "cell_type": "markdown",
   "metadata": {},
   "source": [
    "Loading test2.csv data for prediction"
   ]
  },
  {
   "cell_type": "code",
   "execution_count": 18,
   "metadata": {},
   "outputs": [],
   "source": [
    "# kaggle test data set\n",
    "kaggle_test = pd.read_csv('./data/test2.csv')\n",
    "data_kaggle_feature = kaggle_test.loc[:, \"v1\":\"v784\"].to_numpy()"
   ]
  },
  {
   "cell_type": "code",
   "execution_count": 20,
   "metadata": {},
   "outputs": [
    {
     "name": "stdout",
     "output_type": "stream",
     "text": [
      "Standaidization feature shape: (5000, 784)\n",
      "PCA feature shape: (5000, 187)\n"
     ]
    }
   ],
   "source": [
    "# do the data preprocessing for test2.csv\n",
    "\n",
    "X_kaggle = scaler.transform(data_kaggle_feature)\n",
    "print(\"Standaidization feature shape:\", X_kaggle.shape)\n",
    "X_kaggle = pca.transform(X_kaggle)\n",
    "print(\"PCA feature shape:\", X_kaggle.shape)"
   ]
  },
  {
   "cell_type": "markdown",
   "metadata": {},
   "source": [
    "Now, I want to concatenate \"train.csv\" and \"test1.csv\", and use that combined data set to train my best classifier. This was allowed according to https://edstem.org/au/courses/18163/discussion/2173861. It works because more samples are provided and it will improve my classifiers. I will demonstrate the different accuracies below when using test1.csv to test my classifier."
   ]
  },
  {
   "cell_type": "code",
   "execution_count": 248,
   "metadata": {},
   "outputs": [
    {
     "name": "stdout",
     "output_type": "stream",
     "text": [
      "Combined feature shape: (32000, 187)\n",
      "Combined label shape: (32000,)\n"
     ]
    }
   ],
   "source": [
    "# combine train.csv and test1.csv\n",
    "X_combined = np.concatenate((X_train, X_test), axis=0)\n",
    "Y_combined = np.concatenate((Y_train, Y_test), axis=0)\n",
    "print(\"Combined feature shape:\", X_combined.shape)\n",
    "print(\"Combined label shape:\", Y_combined.shape)"
   ]
  },
  {
   "cell_type": "code",
   "execution_count": 249,
   "metadata": {},
   "outputs": [
    {
     "name": "stdout",
     "output_type": "stream",
     "text": [
      "Best Train set score: 97.457\n",
      "Best Test set score: 97.15\n"
     ]
    }
   ],
   "source": [
    "best_classifier_for_kaggle = SVC(kernel='rbf', C=10)\n",
    "best_classifier_for_kaggle.fit(X_combined,Y_combined)\n",
    "\n",
    "print(\"Best Train set score: {:.3f}\".format(best_classifier_for_kaggle.score(X_train, Y_train)*100))\n",
    "print(\"Best Test set score: {:.2f}\".format(best_classifier_for_kaggle.score(X_test, Y_test)*100))"
   ]
  },
  {
   "cell_type": "markdown",
   "metadata": {},
   "source": [
    "Use the your best classifier to make predictions for the test data. The predictions should be stored in a vector named `output`, with a length of 5000."
   ]
  },
  {
   "cell_type": "code",
   "execution_count": 250,
   "metadata": {},
   "outputs": [],
   "source": [
    "output = best_classifier_for_kaggle.predict(X_kaggle)"
   ]
  },
  {
   "cell_type": "markdown",
   "metadata": {},
   "source": [
    "Check the length of output."
   ]
  },
  {
   "cell_type": "code",
   "execution_count": 251,
   "metadata": {},
   "outputs": [
    {
     "name": "stdout",
     "output_type": "stream",
     "text": [
      "5000\n"
     ]
    }
   ],
   "source": [
    "print(len(output))"
   ]
  },
  {
   "cell_type": "markdown",
   "metadata": {},
   "source": [
    "Extract the first 2000 labels from \"output\" and compare them with test1.csv labels. The accuracy should be the same as \"97.15\""
   ]
  },
  {
   "cell_type": "code",
   "execution_count": 252,
   "metadata": {},
   "outputs": [
    {
     "name": "stdout",
     "output_type": "stream",
     "text": [
      "Prediction Accuracy on kaggle first 2000 samples: 97.15\n"
     ]
    }
   ],
   "source": [
    "print(\"Prediction Accuracy on kaggle first 2000 samples: {:.2f}\".format(accuracy_score(output[:2000], Y_test)*100))"
   ]
  },
  {
   "cell_type": "markdown",
   "metadata": {},
   "source": [
    "Save your prediction vector as a `test_output.csv` file, which contains two columns: `id` and `label`. Please refer to the `example_output.csv` for the structure of this output file. "
   ]
  },
  {
   "cell_type": "code",
   "execution_count": 202,
   "metadata": {},
   "outputs": [],
   "source": [
    "output_df = pd.DataFrame(output, columns = ['label'])\n",
    "output_df.to_csv('./test_output.csv', sep=\",\", float_format='%d',index_label=\"id\")"
   ]
  },
  {
   "cell_type": "markdown",
   "metadata": {},
   "source": [
    "## 4.2 Report"
   ]
  },
  {
   "cell_type": "markdown",
   "metadata": {},
   "source": [
    "The report must be structured into the following key sections:\n",
    "\n",
    "1. **Introduction**: Provide a comprehensive overview of the dataset, outline the methods chosen, and summarize the key findings and results.\n",
    "2. **Methodology**: Describe pre-processing techniques and ML algorithms employed in this assignment. Include a discussion of the theoretical principles underlying each method and explain the rationale behind your choices.\n",
    "3. **Result and Discussion**: Detail the experimental settings (e.g., implementation strategies, hyperparameter finetuning strategies, etc.). Present the results obtained from the selected algorithms and discuss their implications. Compare the performance of all models, considering factors such as accuracy, model complexity, training time, and inference time. Employ high-quality plots, figures, and tables to visually support and enhance the discussion of these results.\n",
    "4. **Conclusion**: Summarize your main findings, mention any limitations methods and results and suggest potential directions for future works.\n",
    "5. **References**: include the references cited in your report in a consistent format."
   ]
  },
  {
   "cell_type": "markdown",
   "metadata": {},
   "source": [
    "##### Important Notes\n",
    "\n",
    "- The maximum length of the main report is 8 pages (excluding appendix and references).\n",
    "\n",
    "-  You must include an appendix that clearly provides the instructions on how to setup the environment to run your code, especialy the installation guide and version of any external packages and\n",
    "libraries used for implementation. In addition, you should include the hardware configurations used for the coding environment.\n",
    "\n",
    "- The report must be in PDF format. Make sure the report is well-structured, easy to read, and that it presents your findings in a logical and organized way.\n"
   ]
  },
  {
   "cell_type": "markdown",
   "metadata": {},
   "source": [
    "# 5. Submission Guidelines"
   ]
  },
  {
   "cell_type": "markdown",
   "metadata": {},
   "source": [
    "## 5.1 Group Registration"
   ]
  },
  {
   "cell_type": "markdown",
   "metadata": {},
   "source": [
    "For this assignment, you can work in groups of TWO. Please register your group under *People → Group → A1.1-Group* or *People → Group → A1.2-Group* on Canvas (We have created two separate group sets to accommodate the large number of students enrolled in this course).  \n",
    "\n",
    "**The group registration should be done by Friday, Aug 30th, 2024.**"
   ]
  },
  {
   "cell_type": "markdown",
   "metadata": {},
   "source": [
    "## 5.2 Submit your work"
   ]
  },
  {
   "cell_type": "markdown",
   "metadata": {},
   "source": [
    "### 5.2.1 Submit to Kaggle"
   ]
  },
  {
   "cell_type": "markdown",
   "metadata": {},
   "source": [
    "We use the Kaggle leaderboard for evaluating the results predicted by your models on unseen data. Follow the steps below to submit your work to the Kaggle leaderboard.\n",
    "\n",
    "Kaggle link: [https://www.kaggle.com/competitions/comp-4318-5318-2024-s-2-a-1/](https://www.kaggle.com/competitions/comp-4318-5318-2024-s-2-a-1/)\n",
    "\n",
    "1. Use the [Kaggle link](https://www.kaggle.com/competitions/comp-4318-5318-2024-s-2-a-1/) to join the competition, you need to create a Kaggle account if you don’t\n",
    "have one.\n",
    "\n",
    "2. Go to Team $\\rightarrow$ Use your registered Group ID on Canvas as your team name (e.g., `A1.1-Group 1`). You can create a Kaggle team with up to 2 members.\n",
    "   \n",
    "3. Go to Description $\\rightarrow$ Check the IMPORTANT NOTES for the assignment.\n",
    "   \n",
    "4. Submit Predictions $\\rightarrow$ Follow the submission format and submit your prediction output file (`test_output.csv`).\n",
    "   \n",
    "5. Leaderboard $\\rightarrow$ Check your accuracy score at the Leaderboard.\n",
    "\n",
    "In summary, go to [Kaggle Page](https://www.kaggle.com/competitions/comp-4318-5318-2024-s-2-a-1/) $\\rightarrow$ Join Competition $\\rightarrow$ Create a Team $\\rightarrow$ Submit Predictions $\\rightarrow$ Submit file `test_output.csv`\n",
    "\n",
    "IMPORTANT: This link is only available to the students of COMP4318/5318. All groups need to submit `test_output.csv` to Kaggle for marking puporse. Only 5 submissions are allowed per day\n",
    "for Kaggle. Group ID on Canvas and Kaggle have to be identical otherwise the submission will not be marked for the Accuracy part.\n",
    "\n"
   ]
  },
  {
   "cell_type": "markdown",
   "metadata": {},
   "source": [
    "### 5.2.2 Submit to Canvas"
   ]
  },
  {
   "cell_type": "markdown",
   "metadata": {},
   "source": [
    "#### Proceed to the submission box on Canvas and submit 4 files separately as follows:"
   ]
  },
  {
   "cell_type": "markdown",
   "metadata": {},
   "source": [
    "   1. A `.pdf` report file.\n",
    "\n",
    "   2. An `.ipynb` code file: a Jupyter Notebook containing all your implementation. You can reuse the provided `.ipynb` template.\n",
    "    \n",
    "   3. A `.pdf` code file: this file is exported from the `.ipynb` file for checking plagiarism. \n",
    "\n",
    "   4. A `test_output.csv` file: contains the predictions made by your best classifier on unseen data. This file must be consistent with the one submitted on Kaggle.\n",
    "\n",
    "There are two different submission boxes for the different group sets: *Assignment 1 - Submission (for A1.1-Group)* and *Assignment 1 - Submission (for A1.2-Group)*. Please ensure you submit to the correct box corresponding to your group ID."
   ]
  },
  {
   "cell_type": "markdown",
   "metadata": {},
   "source": [
    "##### File Naming Conventions \n",
    "\n",
    "The submission files should be named with your group ID and all student ID (SID) separated by the underscore (_). For example,\n",
    "\n",
    "- a1_groupID_SID1_SID2.ipynb (code) \n",
    "  \n",
    "- a1_groupID_SID1_SID2.pdf (pdf version of the code)\n",
    "  \n",
    "- a1_groupID_SID1_SID2_report.pdf (report)\n",
    "  \n",
    "where SID1 and SID2 are the SIDs of the two students.\n"
   ]
  },
  {
   "cell_type": "markdown",
   "metadata": {},
   "source": [
    "##### Important Notes:\n",
    "-\tOnly one group member needs to submit the assignment on behalf of the group.\n",
    "\n",
    "-\tDo NOT submit the dataset or zip files to Canvas. We will copy the `data` folder to the same directory with your `.ipynb` file to run your code. Please make sure your code is able to read the dataset from this folder.\n",
    "\n",
    "-\tBoth the code and report will be checked for plagiarism."
   ]
  },
  {
   "cell_type": "markdown",
   "metadata": {},
   "source": [
    "##### Other guidelines\n",
    "\n",
    "1.\tPlease refer to lecture notes, lab materials, and other course resources for different ML methods. \n",
    "\n",
    "2.\tPlease proceed your own way if we do not specify it in the assignment details.\n",
    "\n",
    "3.\tYou can use any packages or code which have been introduced in lectures or tutorials. If you use any other packages or code snippets, please put the reference at the bottom of the code. Otherwise, it will be considered as plagiarism and the relevant section will not be marked.\n"
   ]
  },
  {
   "cell_type": "markdown",
   "metadata": {},
   "source": [
    "## 5.3 Late Submission Penalties"
   ]
  },
  {
   "cell_type": "markdown",
   "metadata": {},
   "source": [
    "##### A penalty of MINUS 5 percent (-5%) for each day after the due date. \n",
    "The maximum delay for assignment submission is 5 (five) days, after which assignment will not be accepted.\n",
    "\n",
    "**You should upload your assignment at least half a day or one day prior to the submission deadline to avoid network congestion**.\n",
    "\n",
    "Canvas and Kaggle may not be able to handle a large number of submission happening at the same time. If you submit your assignment at a time close to the deadline, a submission error may occur causing your submission to be considered late. Penalty will be applied to late submission regardless of issues. "
   ]
  },
  {
   "cell_type": "markdown",
   "metadata": {},
   "source": [
    "##### All files required for assignment 1 can be downloaded from Canvas $\\rightarrow$ Assignments $\\rightarrow$ Assignment 1 - Specification\n"
   ]
  },
  {
   "cell_type": "markdown",
   "metadata": {},
   "source": [
    "## 5.4 Marking Rubric"
   ]
  },
  {
   "cell_type": "markdown",
   "metadata": {},
   "source": [
    "Please refer to the rubric, which is available in the submission boxes on Canvas, for detailed marking scheme."
   ]
  },
  {
   "cell_type": "markdown",
   "metadata": {},
   "source": [
    "# 6. Inquiries after releasing the marking"
   ]
  },
  {
   "cell_type": "markdown",
   "metadata": {},
   "source": [
    "**After Assignment 1 marks come out, please submit your inquiries about marking within the 1st week. All inquiries after that will be ignored.**"
   ]
  },
  {
   "cell_type": "markdown",
   "metadata": {},
   "source": [
    "# 7. Academic honesty"
   ]
  },
  {
   "cell_type": "markdown",
   "metadata": {},
   "source": [
    "Please read the University policy on Academic Honesty very carefully: \n",
    "https://sydney.edu.au/students/academic-integrity.html"
   ]
  },
  {
   "cell_type": "markdown",
   "metadata": {},
   "source": [
    "Plagiarism (copying from another student, website or other sources), making your work available to another student to copy, engaging another person to complete the assignments instead of you (for payment or not) are all examples of academic dishonesty. Note that when there is copying between students, both students are penalised – the student who copies and the student who makes his/her work available for copying. The University penalties are severe and include: \n",
    "\n",
    "    * a permanent record of academic dishonesty on your student file, \n",
    "    * mark deduction, ranging from 0 for the assignment to Fail for the course\n",
    "    * expulsion from the University and cancelling of your student visa. \n",
    "\n",
    "In addition, the Australian Government passed a new legislation last year (Prohibiting Academic Cheating Services Bill) that makes it a criminal offence to provide or advertise academic cheating services - the provision or undertaking of work for students which forms a substantial part of a student’s assessment task. Do not confuse legitimate co-operation and cheating!"
   ]
  }
 ],
 "metadata": {
  "anaconda-cloud": {},
  "kernelspec": {
   "display_name": "Python 3 (ipykernel)",
   "language": "python",
   "name": "python3"
  },
  "language_info": {
   "codemirror_mode": {
    "name": "ipython",
    "version": 3
   },
   "file_extension": ".py",
   "mimetype": "text/x-python",
   "name": "python",
   "nbconvert_exporter": "python",
   "pygments_lexer": "ipython3",
   "version": "3.11.2"
  }
 },
 "nbformat": 4,
 "nbformat_minor": 4
}
