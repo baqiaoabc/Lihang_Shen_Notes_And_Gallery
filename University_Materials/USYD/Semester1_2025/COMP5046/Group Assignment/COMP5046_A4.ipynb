{
  "cells": [
    {
      "cell_type": "markdown",
      "metadata": {
        "id": "G6dXt_7Rl-Ve"
      },
      "source": [
        "# Setting up"
      ]
    },
    {
      "cell_type": "code",
      "execution_count": 1,
      "metadata": {
        "colab": {
          "base_uri": "https://localhost:8080/"
        },
        "id": "VIW2NTVll9un",
        "outputId": "aef6a524-9cc0-41e1-da29-9cbf1e0cc92e"
      },
      "outputs": [
        {
          "name": "stdout",
          "output_type": "stream",
          "text": [
            "2.6.0+cu124\n"
          ]
        }
      ],
      "source": [
        "import torch\n",
        "import json\n",
        "import spacy\n",
        "import numpy as np\n",
        "from pprint import pprint\n",
        "from spacy.language import Language\n",
        "from spacy.tokens import Doc\n",
        "from spacy.tokenizer import Tokenizer\n",
        "import re\n",
        "import unicodedata\n",
        "from tqdm import tqdm\n",
        "import torch.nn as nn\n",
        "import torch.optim as optim\n",
        "from torch.utils.data import Dataset, DataLoader\n",
        "from torch.nn.utils.rnn import pad_sequence, pack_padded_sequence, pad_packed_sequence\n",
        "from collections import defaultdict\n",
        "from sklearn.preprocessing import LabelEncoder\n",
        "device=\"cuda\" if torch.cuda.is_available() else \"cpu\"\n",
        "import torch.nn.functional as F\n",
        "print(torch.__version__)"
      ]
    },
    {
      "cell_type": "code",
      "execution_count": 2,
      "metadata": {
        "id": "8gwRi6PZly4O"
      },
      "outputs": [],
      "source": [
        "# Setting up text preprocessing functions\n",
        "def unicodeToAscii(s):\n",
        "    # Convert a Unicode string 's' to plain ASCII.\n",
        "    # This is done by first normalizing the string into its decomposed form using 'NFD',\n",
        "    # which separates characters from their accents. Then, it filters out all nonspacing marks (Mn).\n",
        "    return ''.join(\n",
        "        c for c in unicodedata.normalize('NFD', s)\n",
        "        if unicodedata.category(c) != 'Mn'\n",
        "    )\n",
        "\n",
        "def normalize_whitespace(text):\n",
        "  return re.sub(r'\\s+', ' ', text).strip()\n",
        "\n",
        "def preprocess_sentence(s:str) -> str:\n",
        "    \"\"\"\n",
        "    Preprocesses sentence text for consistency\n",
        "    \"\"\"\n",
        "    s = s.strip()\n",
        "    s = normalize_whitespace(s)\n",
        "    s = unicodeToAscii(s)\n",
        "    s = s.strip()\n",
        "    return s"
      ]
    },
    {
      "cell_type": "markdown",
      "metadata": {
        "id": "CCWXtYQvmjyx"
      },
      "source": [
        "## Preparing Dataset"
      ]
    },
    {
      "cell_type": "markdown",
      "metadata": {
        "id": "ir9Nxv5qo13G"
      },
      "source": [
        "### Preparing Tokenizer"
      ]
    },
    {
      "cell_type": "markdown",
      "metadata": {
        "id": "Z3t6-8RNnD-t"
      },
      "source": [
        "We are using spacy pre-built NLP pipeline 'en_core_web_lg' with a few changes:\n",
        "\n",
        "*   Using  whitespace tokenisation\n",
        "*   Making use of the Named Entity Recognition (NER) component to identify tokens which belong to Geopolitical Entity (GPE) and Organisation (ORG) Entity Type, to make sure that words belonging to these entity types remain a single token for easier implementation of the tagging problem\n",
        "\n",
        "For the Linear model, we are utilising the static embeddings provided by spacy which uses floret word vectors by default. For the Feedforward, LSTM and Transformer models, we are utilising the contextual embeddings provided by spacy which use CNN network to generate them. We are not fine-tuning the embeddings.\n"
      ]
    },
    {
      "cell_type": "code",
      "execution_count": 4,
      "metadata": {
        "colab": {
          "base_uri": "https://localhost:8080/"
        },
        "id": "2R3dHjr2nNfP",
        "outputId": "f3d727e9-ea32-4886-9cc5-6ccd107f1735"
      },
      "outputs": [
        {
          "name": "stdout",
          "output_type": "stream",
          "text": [
            "Collecting en-core-web-lg==3.8.0\n",
            "  Downloading https://github.com/explosion/spacy-models/releases/download/en_core_web_lg-3.8.0/en_core_web_lg-3.8.0-py3-none-any.whl (400.7 MB)\n",
            "\u001b[2K     \u001b[90m━━━━━━━━━━━━━━━━━━━━━━━━━━━━━━━━━━━━━━━\u001b[0m \u001b[32m400.7/400.7 MB\u001b[0m \u001b[31m4.6 MB/s\u001b[0m eta \u001b[36m0:00:00\u001b[0m\n",
            "\u001b[?25hInstalling collected packages: en-core-web-lg\n",
            "Successfully installed en-core-web-lg-3.8.0\n",
            "\u001b[38;5;2m✔ Download and installation successful\u001b[0m\n",
            "You can now load the package via spacy.load('en_core_web_lg')\n",
            "\u001b[38;5;3m⚠ Restart to reload dependencies\u001b[0m\n",
            "If you are in a Jupyter or Colab notebook, you may need to restart Python in\n",
            "order to load all the package's dependencies. You can do this by selecting the\n",
            "'Restart kernel' or 'Restart runtime' option.\n"
          ]
        }
      ],
      "source": [
        "!python -m spacy download en_core_web_lg\n",
        "\n",
        "nlp = spacy.load('en_core_web_lg')\n",
        "\n",
        "\n",
        "# Create a custom component to merge entities\n",
        "@Language.component(\"entity_merger\")\n",
        "def entity_merger(doc):\n",
        "    \"\"\"\n",
        "    Custom component of the spacy nlp pipeline which merges geopolitical and organisation entity tokens into a single token\n",
        "    For example: 'New York' would normally be split into 2 tokens 'New' and 'York' but this will combine into a single 'New York' token\n",
        "    This is implemented because variables could have the value like 'New York' and for effective tagging we aim to keep the tokenisation scheme consistent to the dataset\n",
        "    \"\"\"\n",
        "    # Iterate over the entities in reverse order (to avoid index issues when merging)\n",
        "    with doc.retokenize() as retokenizer:\n",
        "        for ent in reversed(list(doc.ents)):\n",
        "            # Merge the entity tokens into one token\n",
        "            if(ent.label_ in [\"GPE\", \"ORG\"]):\n",
        "                attrs = {\"LEMMA\": ent.text}\n",
        "                retokenizer.merge(ent, attrs=attrs)\n",
        "    return doc\n",
        "\n",
        "# Add the custom component after NER\n",
        "nlp.add_pipe(\"entity_merger\", after=\"ner\")\n",
        "\n",
        "def whitespace_tokenizer(nlp):\n",
        "  \"\"\"\n",
        "  Create a custom tokenizer that splits only on whitespace\n",
        "  \"\"\"\n",
        "  return Tokenizer(nlp.vocab, token_match=re.compile(r'\\S+').match)\n",
        "\n",
        "nlp.tokenizer = whitespace_tokenizer(nlp)\n"
      ]
    },
    {
      "cell_type": "markdown",
      "metadata": {
        "id": "7THCx1xWo-J3"
      },
      "source": [
        "### Preparing Pytorch Datasets and DataLoaders"
      ]
    },
    {
      "cell_type": "markdown",
      "metadata": {
        "id": "hUbdeWsNpOm8"
      },
      "source": [
        "We are using a custom pytorch dataset to standardise the dataloading process. The dataset reads the json file and determines which examples to keep depending on the split type i.e. 'question' or 'query' and split i.e. 'train', 'dev', or 'test'. The sentences and sql queries with variables, the variable names and their corresponding values are stored for each sample. The variables in sentences and sql queries are replaced by their values and also stored. The shortest sql query by length is also identified for training. Depending on the embed type i.e. 'static' or 'context', static token vectors or contextual token embeddings are stored. Disinct sql query templates and variables names are also identified and converted to ids for classification and tagging. Dataloader is used for batching which uses padding ot ensure all input tokens and tagging labels are the same size"
      ]
    },
    {
      "cell_type": "code",
      "execution_count": 5,
      "metadata": {
        "id": "evVuL1LRmNTO"
      },
      "outputs": [],
      "source": [
        "class ATISClassificationDataset(Dataset):\n",
        "\n",
        "    def __init__(self, dataset_loc, nlp, split_type='query', split=['train'], tokenizer=None, embed_type='static'):\n",
        "\n",
        "        self.nlp = nlp\n",
        "\n",
        "        if(embed_type not in ['static', 'context']):\n",
        "          raise ValueError(f\"{embed_type=} is not valid. Please choose from 'static' or 'context'\")\n",
        "\n",
        "        self.embed_type = embed_type\n",
        "        self.data = []\n",
        "\n",
        "        self.variable_names = set()\n",
        "        self.sql_templates = set()\n",
        "\n",
        "        # Reads Json\n",
        "        with open(dataset_loc) as f:\n",
        "            dataset_json = json.load(f)\n",
        "\n",
        "        for sample in dataset_json:\n",
        "\n",
        "            processed_sample = {}\n",
        "\n",
        "            # All valid sql queries for this examples soretd by length\n",
        "            sql = sorted(sample['sql'],key=len)\n",
        "\n",
        "            # Adds shortest sql query template to list of sql templates\n",
        "            self.sql_templates.add(sql[0])\n",
        "\n",
        "            # Check query split\n",
        "            query_split = sample['query-split']\n",
        "            if split_type == \"query\" and query_split not in split:\n",
        "                continue\n",
        "\n",
        "            # Adds to variables set\n",
        "            variables_metadata = sample[\"variables\"]\n",
        "            for var in variables_metadata:\n",
        "                self.variable_names.add(var.get(\"name\"))\n",
        "\n",
        "            # Process each sentence\n",
        "            for sentence in sample['sentences']:\n",
        "\n",
        "                # Check question split\n",
        "                if split_type == \"question\" and sentence['question-split'] not in split:\n",
        "                    continue\n",
        "\n",
        "                # variables/placeholder mapping dictionary\n",
        "                variables = sentence['variables']\n",
        "\n",
        "                # Sentence text with variables/placeholders\n",
        "                text_with_vars = sentence['text']\n",
        "\n",
        "                # Replacing variables/placeholders in current sentence and sql query with their values from the variables dictionary\n",
        "                text_with_vars_replaced = text_with_vars\n",
        "                sql_with_vars_replaced = sql.copy()\n",
        "\n",
        "                # Replace sentence and all sql variables with their values\n",
        "                for var in variables:\n",
        "                    text_with_vars_replaced = text_with_vars_replaced.replace(var,variables[var])\n",
        "\n",
        "                    # sql_with_vars_replaced = sql_with_vars_replaced.replace(var,variables[var])\n",
        "                    sql_with_vars_replaced = [query.replace(var,variables[var]) for query in sql_with_vars_replaced]\n",
        "\n",
        "                # Tagging expected output\n",
        "                sentence_var_tagging_labels = []\n",
        "                for word in text_with_vars.split():\n",
        "                    if(word in variables):\n",
        "                        # Use variable name as tag\n",
        "                        sentence_var_tagging_labels.append(word)\n",
        "                    else:\n",
        "                        # Use 'no_var' for non-variable tokens\n",
        "                        sentence_var_tagging_labels.append(\"no_var\")\n",
        "\n",
        "                # Appends preprocessed dictionary of current sentence to the processesed_dataset list\n",
        "                self.data.append({\n",
        "                    \"text_with_vars\": text_with_vars,\n",
        "                    \"text_with_vars_replaced\":text_with_vars_replaced,\n",
        "                    \"tagging_labels\":sentence_var_tagging_labels,\n",
        "                    \"variables\":variables,\n",
        "                    \"sql_with_vars\": sql,\n",
        "                    \"shortest_sql_with_vars\":sql[0],\n",
        "                    \"sql_with_vars_replaced\": sql_with_vars_replaced,\n",
        "                    \"shortest_sql_with_vars_replaced\": sql_with_vars_replaced[0]\n",
        "                })\n",
        "\n",
        "        # Setup tagging label encoder\n",
        "        # For tagging task - include all variable names plus \"no_var\" for non-variables\n",
        "        all_tags = [\"no_var\"] + list(self.variable_names)\n",
        "        all_tags = np.array(all_tags)\n",
        "        self.tag_encoder = LabelEncoder()\n",
        "        self.tag_encoder.fit(all_tags)\n",
        "\n",
        "        # Setup SQL template label encoder\n",
        "        self.sql_encoder = LabelEncoder()\n",
        "        self.sql_encoder.fit(np.array(list(self.sql_templates)))\n",
        "\n",
        "        # Process sentences using spacy nlp pipeline to get docs, corresponding label ids and tag ids\n",
        "        self.docs = []\n",
        "        self.tag_labels = []\n",
        "        self.sql_labels = []\n",
        "\n",
        "        for sample in self.data:\n",
        "            # Convert sentence with variables into spacy Doc\n",
        "            doc = self.nlp(preprocess_sentence(sample['text_with_vars_replaced']))\n",
        "            self.docs.append(doc)\n",
        "\n",
        "            # Covert variable tags into ids for tagging\n",
        "            tags = sample[\"tagging_labels\"]\n",
        "            self.tag_labels.append(self.tag_encoder.transform(tags))\n",
        "\n",
        "            # Convert sql query with variables into ids for classification\n",
        "            sql_template = sample[\"shortest_sql_with_vars\"]\n",
        "            self.sql_labels.append(self.sql_encoder.transform([sql_template])[0])\n",
        "\n",
        "    def __len__(self):\n",
        "        return len(self.data)\n",
        "\n",
        "    def __getitem__(self, idx):\n",
        "        \"\"\"\n",
        "        Get a single sample from the dataset\n",
        "        \"\"\"\n",
        "\n",
        "        doc = self.docs[idx]\n",
        "        raw_item = self.data[idx]\n",
        "\n",
        "        # Create tensor from tokens\n",
        "        if(self.embed_type == 'context'):\n",
        "          # Get contextual embeddings from spacy Doc\n",
        "          token_vectors = torch.tensor(doc.tensor, dtype=torch.float32)\n",
        "\n",
        "        elif(self.embed_type == 'static'):\n",
        "          # Get static token vectors from spacy Doc\n",
        "          token_vectors = torch.tensor([token.vector for token in doc], dtype=torch.float32)\n",
        "\n",
        "        # Get token texts (needed for variable replacement during inference)\n",
        "        tokens = [token.text for token in doc]\n",
        "\n",
        "        # Get tag labels\n",
        "        tag_labels = torch.tensor(self.tag_labels[idx], dtype=torch.long)\n",
        "\n",
        "        # Get SQL label\n",
        "        sql_label = torch.tensor(self.sql_labels[idx], dtype=torch.long)\n",
        "\n",
        "        return {\n",
        "            \"token_vectors\": token_vectors,\n",
        "            \"tokens\": tokens,\n",
        "            \"tag_labels\": tag_labels,\n",
        "            \"sql_label\": sql_label,\n",
        "            \"raw_item\": raw_item,\n",
        "            \"doc_len\": len(doc),\n",
        "            \"true_sql_text\": raw_item['shortest_sql_with_vars_replaced'] # For inference\n",
        "        }\n",
        "\n",
        "    def get_dataloader(self, batch_size=32, shuffle=True, num_workers=0):\n",
        "        \"\"\"Helper function to create a DataLoader with custom collate function\"\"\"\n",
        "        return DataLoader(\n",
        "            self,\n",
        "            batch_size=batch_size,\n",
        "            shuffle=shuffle,\n",
        "            num_workers=num_workers,\n",
        "            collate_fn=self.collate_fn,\n",
        "            pin_memory=True\n",
        "        )\n",
        "\n",
        "    def collate_fn(self, batch):\n",
        "      \"\"\"Custom collate function that pads sequences to the longest in the batch\"\"\"\n",
        "\n",
        "      # Find max length for both token vectors and tag labels in this batch\n",
        "      max_token_len = max([item[\"doc_len\"] for item in batch])\n",
        "      max_tag_len = max([len(item[\"tag_labels\"]) for item in batch])\n",
        "\n",
        "      # Ensure both use the same max length for consistent padding\n",
        "      max_len = max(max_token_len, max_tag_len)\n",
        "\n",
        "      # Prepare lists to collect tensors and data\n",
        "      token_vectors_list = []\n",
        "      tag_labels_list = []\n",
        "      attention_masks = []\n",
        "      sql_labels = []\n",
        "      tokens_list = []\n",
        "      raw_items = []\n",
        "      true_sql_text_list = []\n",
        "\n",
        "      for item in batch:\n",
        "          # Get original tensors and data\n",
        "          token_vecs = item[\"token_vectors\"]\n",
        "          tags = item[\"tag_labels\"]\n",
        "          tokens = item[\"tokens\"]\n",
        "\n",
        "          # Create attention mask (1 for real tokens, 0 for padding)\n",
        "          seq_len = len(token_vecs)\n",
        "          tag_len = len(tags)\n",
        "          attention_mask = torch.ones(seq_len, dtype=torch.long)\n",
        "\n",
        "          # If padding is needed for tokens\n",
        "          if(seq_len < max_len):\n",
        "            # Pad token vectors\n",
        "            padding = torch.zeros(max_len - seq_len, token_vecs.shape[1], dtype=torch.long)\n",
        "            token_vecs = torch.cat([token_vecs,padding], dim=0)\n",
        "            attention_mask = torch.cat([attention_mask, torch.zeros(max_len - seq_len, dtype=torch.long)])\n",
        "\n",
        "            # Pad tokens list\n",
        "            tokens.extend([\"\"] * (max_len - seq_len))\n",
        "\n",
        "          # Pad tag labels separately to ensure they all have the same length\n",
        "          if(tag_len < max_len):\n",
        "            padding = torch.zeros(max_len - tag_len, dtype=torch.long)\n",
        "            tags = torch.cat([tags, padding], dim=0)\n",
        "\n",
        "          # Add to lists\n",
        "          token_vectors_list.append(token_vecs)\n",
        "          tag_labels_list.append(tags)\n",
        "          attention_masks.append(attention_mask)\n",
        "          sql_labels.append(item[\"sql_label\"])\n",
        "          tokens_list.append(tokens)\n",
        "          raw_items.append(item[\"raw_item\"])\n",
        "          true_sql_text_list.append(item[\"true_sql_text\"])\n",
        "\n",
        "      # Stack tensors\n",
        "      return {\n",
        "          \"token_vectors\": torch.stack(token_vectors_list),\n",
        "          \"tag_labels\": torch.stack(tag_labels_list),\n",
        "          \"attention_mask\": torch.stack(attention_masks),\n",
        "          \"sql_labels\": torch.stack(sql_labels),\n",
        "          \"tokens\": tokens_list,\n",
        "          \"raw_items\": raw_items,\n",
        "          \"true_sql_texts\":true_sql_text_list\n",
        "      }\n",
        "\n",
        "    def get_tag_vocab_size(self):\n",
        "        \"\"\"Returns the size of the tag vocabulary\"\"\"\n",
        "        return len(self.tag_encoder.classes_)\n",
        "\n",
        "    def get_sql_vocab_size(self):\n",
        "        \"\"\"Returns the number of unique SQL templates\"\"\"\n",
        "        return len(self.sql_encoder.classes_)\n",
        "\n",
        "    def get_vector_dim(self):\n",
        "        \"\"\"Returns the dimensionality of token vectors\"\"\"\n",
        "        if(self.embed_type == 'context'):\n",
        "          return self.nlp.get_pipe(\"tok2vec\").model.get_dim(\"nO\")\n",
        "        elif(self.embed_type == 'static'):\n",
        "          return self.nlp.vocab.vectors_length\n",
        "\n",
        "    def decode_tag(self, tag_id):\n",
        "      \"\"\"Convert tag ID back to original variable name or 'no_var' \"\"\"\n",
        "      try:\n",
        "          return self.tag_encoder.inverse_transform([tag_id])[0]\n",
        "      except ValueError:\n",
        "          # Handle unseen labels\n",
        "          return \"unknown\"\n",
        "\n",
        "    def decode_sql_template(self, sql_id):\n",
        "        \"\"\"Convert SQL template ID back to original SQL template\"\"\"\n",
        "        try:\n",
        "          return self.sql_encoder.inverse_transform([sql_id])[0]\n",
        "        except ValueError:\n",
        "          return \"Unknown sql template\""
      ]
    },
    {
      "cell_type": "markdown",
      "metadata": {
        "id": "9_78pMK6zrUC"
      },
      "source": [
        "# Model Setup"
      ]
    },
    {
      "cell_type": "markdown",
      "metadata": {
        "id": "TpJlsNdPzwiF"
      },
      "source": [
        "## Linear Model"
      ]
    },
    {
      "cell_type": "markdown",
      "metadata": {
        "id": "AOMm7aEZ2LOo"
      },
      "source": [
        "The Linear Model has a separate model for variable tagging and SQL template classification. The Linear model is a Multi-Layer Perceptron with no non-linear activation to keep the model linear."
      ]
    },
    {
      "cell_type": "code",
      "execution_count": 6,
      "metadata": {
        "id": "6ySJNuAdzD_O"
      },
      "outputs": [],
      "source": [
        "import torch\n",
        "import torch.nn as nn\n",
        "\n",
        "class LinearTagger(nn.Module):\n",
        "    def __init__(self, input_dim: int, tag_vocab_size: int,hidden_sizes=None, dropout: float = 0):\n",
        "        \"\"\"\n",
        "        Linear model for token-level tagging.\n",
        "\n",
        "        Args:\n",
        "            input_dim: Dimensionality of input token vectors\n",
        "            tag_vocab_size: Number of unique tags\n",
        "            dropout: Dropout probability\n",
        "        \"\"\"\n",
        "        super(LinearTagger, self).__init__()\n",
        "        layers = []\n",
        "\n",
        "        if not hidden_sizes:\n",
        "            hidden_dim1 = 512\n",
        "            hidden_dim2 = 256\n",
        "            layers.append(nn.Linear(input_dim, hidden_dim1))\n",
        "            layers.append(nn.Dropout(dropout))\n",
        "            layers.append(nn.Linear(hidden_dim1, hidden_dim2))\n",
        "\n",
        "            layers.append(nn.Dropout(dropout))\n",
        "\n",
        "            layers.append(nn.Linear(hidden_dim2, tag_vocab_size))\n",
        "        else:\n",
        "\n",
        "            current_dim = input_dim\n",
        "            for h_size in hidden_sizes:\n",
        "                layers.append(nn.Linear(current_dim, h_size))\n",
        "                layers.append(nn.Dropout(dropout))\n",
        "                current_dim = h_size\n",
        "            layers.append(nn.Linear(current_dim, tag_vocab_size))\n",
        "\n",
        "        self.layers = nn.Sequential(*layers)\n",
        "\n",
        "\n",
        "    def forward(self, token_vectors):\n",
        "        \"\"\"\n",
        "        Args:\n",
        "            token_vectors: [batch_size, seq_len, input_dim]\n",
        "\n",
        "        Returns:\n",
        "            tag_logits: [batch_size, seq_len, tag_vocab_size]\n",
        "        \"\"\"\n",
        "\n",
        "        tag_logits = self.layers(token_vectors)\n",
        "        return tag_logits\n",
        "\n",
        "class LinearClassifier(nn.Module):\n",
        "    def __init__(self, input_dim: int, sql_vocab_size: int,hidden_sizes=None, dropout: float = 0):\n",
        "        \"\"\"\n",
        "        Linear model for SQL template classification.\n",
        "\n",
        "        Args:\n",
        "            input_dim: Dimensionality of input token vectors\n",
        "            sql_vocab_size: Number of SQL templates\n",
        "            dropout: Dropout probability\n",
        "        \"\"\"\n",
        "        super(LinearClassifier, self).__init__()\n",
        "        layers = []\n",
        "\n",
        "        if not hidden_sizes:\n",
        "            hidden_dim1 = 512\n",
        "            hidden_dim2 = 256\n",
        "            layers.append(nn.Linear(input_dim, hidden_dim1))\n",
        "            layers.append(nn.Dropout(dropout))\n",
        "            layers.append(nn.Linear(hidden_dim1, hidden_dim2))\n",
        "            layers.append(nn.Dropout(dropout))\n",
        "            layers.append(nn.Linear(hidden_dim2, sql_vocab_size))\n",
        "\n",
        "        else:\n",
        "            current_dim = input_dim\n",
        "            for h_size in hidden_sizes:\n",
        "                layers.append(nn.Linear(current_dim, h_size))\n",
        "                layers.append(nn.Dropout(dropout))\n",
        "                current_dim = h_size\n",
        "            layers.append(nn.Linear(current_dim, sql_vocab_size))\n",
        "\n",
        "        self.layers = nn.Sequential(*layers)\n",
        "\n",
        "    def forward(self, token_vectors, attention_mask=None):\n",
        "        \"\"\"\n",
        "        Args:\n",
        "            token_vectors: [batch_size, seq_len, input_dim]\n",
        "            attention_mask: [batch_size, seq_len] (1 = real token, 0 = padding)\n",
        "\n",
        "        Returns:\n",
        "            sql_logits: [batch_size, sql_vocab_size]\n",
        "        \"\"\"\n",
        "        if attention_mask is not None:\n",
        "            # Apply mask by setting padding tokens to a very small number before max pooling\n",
        "            masked_vectors = token_vectors.masked_fill(~attention_mask.unsqueeze(-1).bool(), -float('inf'))\n",
        "            pooled = masked_vectors.max(dim=1)[0] # Get values, ignore indices\n",
        "        else:\n",
        "            pooled = token_vectors.max(dim=1)[0]\n",
        "\n",
        "        sql_logits = self.layers(pooled)\n",
        "        return sql_logits\n",
        "\n"
      ]
    },
    {
      "cell_type": "markdown",
      "metadata": {
        "id": "v6A7V_lL2E9N"
      },
      "source": [
        "## Feedforward Model"
      ]
    },
    {
      "cell_type": "markdown",
      "metadata": {
        "id": "8pwxOe462mXY"
      },
      "source": [
        "The feed-forward model has a separate model for variable tagging and SQL template classification. Both models are Multi-Layer Perceptrons with GELU activation. Dropout and Layer normalisation is used for better generalisation."
      ]
    },
    {
      "cell_type": "code",
      "execution_count": 7,
      "metadata": {
        "id": "lEKp5Wxs2Crr"
      },
      "outputs": [],
      "source": [
        "import torch\n",
        "import torch.nn as nn\n",
        "\n",
        "class FFTagger(nn.Module):\n",
        "    def __init__(self, input_dim: int, tag_vocab_size: int,hidden_sizes=None, dropout: float = 0.1, use_layernorm: bool = True):\n",
        "        \"\"\"\n",
        "        Feedforward model for token-level tagging.\n",
        "\n",
        "        Args:\n",
        "            input_dim: Dimensionality of input token vectors\n",
        "            tag_vocab_size: Number of unique tags\n",
        "            dropout: Dropout probability\n",
        "            use_layernorm: If true, uses Layer Normalisation after each hidden layer\n",
        "        \"\"\"\n",
        "        super(FFTagger, self).__init__()\n",
        "        layers = []\n",
        "\n",
        "        if not hidden_sizes:\n",
        "            hidden_dim1 = 512\n",
        "            hidden_dim2 = 256\n",
        "            layers.append(nn.Linear(input_dim, hidden_dim1))\n",
        "            layers.append(nn.GELU())\n",
        "            if use_layernorm:\n",
        "                    layers.append(nn.LayerNorm(hidden_dim1)) # Normalize features of this layer\n",
        "            layers.append(nn.Dropout(dropout))\n",
        "            layers.append(nn.Linear(hidden_dim1, hidden_dim2))\n",
        "            layers.append(nn.GELU())\n",
        "            if use_layernorm:\n",
        "                    layers.append(nn.LayerNorm(hidden_dim2)) # Normalize features of this layer\n",
        "            layers.append(nn.Dropout(dropout))\n",
        "\n",
        "            layers.append(nn.Linear(hidden_dim2, tag_vocab_size))\n",
        "        else:\n",
        "\n",
        "            current_dim = input_dim\n",
        "            for h_size in hidden_sizes:\n",
        "                layers.append(nn.Linear(current_dim, h_size))\n",
        "                layers.append(nn.GELU())\n",
        "                if use_layernorm:\n",
        "                    layers.append(nn.LayerNorm(h_size)) # Normalize features of this layer\n",
        "                layers.append(nn.Dropout(dropout))\n",
        "                current_dim = h_size\n",
        "            layers.append(nn.Linear(current_dim, tag_vocab_size))\n",
        "\n",
        "        self.layers = nn.Sequential(*layers)\n",
        "\n",
        "\n",
        "    def forward(self, token_vectors):\n",
        "        \"\"\"\n",
        "        Args:\n",
        "            token_vectors: [batch_size, seq_len, input_dim]\n",
        "\n",
        "        Returns:\n",
        "            tag_logits: [batch_size, seq_len, tag_vocab_size]\n",
        "        \"\"\"\n",
        "\n",
        "        tag_logits = self.layers(token_vectors)\n",
        "        return tag_logits\n",
        "\n",
        "class FFClassifier(nn.Module):\n",
        "    def __init__(self, input_dim: int, sql_vocab_size: int,hidden_sizes=None, dropout: float = 0.25, use_layernorm: bool = True):\n",
        "        \"\"\"\n",
        "        Feedforward model for SQL template classification.\n",
        "\n",
        "        Args:\n",
        "            input_dim: Dimensionality of input token vectors\n",
        "            sql_vocab_size: Number of SQL templates\n",
        "            dropout: Dropout probability\n",
        "            use_layernorm: If true, uses Layer Normalisation after each hidden layer\n",
        "        \"\"\"\n",
        "        super(FFClassifier, self).__init__()\n",
        "        layers = []\n",
        "\n",
        "        if not hidden_sizes:\n",
        "            hidden_dim1 = 512\n",
        "            hidden_dim2 = 256\n",
        "            layers.append(nn.Linear(input_dim, hidden_dim1))\n",
        "            layers.append(nn.GELU())\n",
        "            if use_layernorm:\n",
        "                    layers.append(nn.LayerNorm(hidden_dim1)) # Normalize features of this layer\n",
        "            layers.append(nn.Dropout(dropout))\n",
        "            layers.append(nn.Linear(hidden_dim1, hidden_dim2))\n",
        "            layers.append(nn.GELU())\n",
        "            if use_layernorm:\n",
        "                    layers.append(nn.LayerNorm(hidden_dim2)) # Normalize features of this layer\n",
        "            layers.append(nn.Dropout(dropout))\n",
        "            layers.append(nn.Linear(hidden_dim2, sql_vocab_size))\n",
        "        else:\n",
        "            current_dim = input_dim\n",
        "            for h_size in hidden_sizes:\n",
        "                layers.append(nn.Linear(current_dim, h_size))\n",
        "                layers.append(nn.GELU())\n",
        "                if use_layernorm:\n",
        "                    layers.append(nn.LayerNorm(h_size)) # Normalize features of this layer\n",
        "                layers.append(nn.Dropout(dropout))\n",
        "                current_dim = h_size\n",
        "            layers.append(nn.Linear(current_dim, sql_vocab_size))\n",
        "\n",
        "        self.layers = nn.Sequential(*layers)\n",
        "\n",
        "    def forward(self, token_vectors, attention_mask=None):\n",
        "        \"\"\"\n",
        "        Args:\n",
        "            token_vectors: [batch_size, seq_len, input_dim]\n",
        "            attention_mask: [batch_size, seq_len] (1 = real token, 0 = padding)\n",
        "\n",
        "        Returns:\n",
        "            sql_logits: [batch_size, sql_vocab_size]\n",
        "        \"\"\"\n",
        "        if attention_mask is not None:\n",
        "            # Apply mask by setting padding tokens to a very small number before max pooling\n",
        "            masked_vectors = token_vectors.masked_fill(~attention_mask.unsqueeze(-1).bool(), -float('inf'))\n",
        "            pooled = masked_vectors.max(dim=1)[0]\n",
        "        else:\n",
        "            pooled = token_vectors.max(dim=1)[0]\n",
        "\n",
        "        sql_logits = self.layers(pooled)\n",
        "        return sql_logits\n",
        "\n"
      ]
    },
    {
      "cell_type": "markdown",
      "metadata": {
        "id": "Hq0yYk7x3xPE"
      },
      "source": [
        "## LSTM Model"
      ]
    },
    {
      "cell_type": "markdown",
      "metadata": {
        "id": "Yor2MkVn32NJ"
      },
      "source": [
        "A multi-layered, bidirectional LSTM is used for tagging and classification. Output (concatenated from both directions) from each cell of the last LSTM layer is passed to a linear layer for tagging. Hidden state of the last cell of the last LSTM layer in both directons is concatenated and passed to Linear Layer for SQL template classification."
      ]
    },
    {
      "cell_type": "code",
      "execution_count": 8,
      "metadata": {
        "id": "EKe5kKaU17CC"
      },
      "outputs": [],
      "source": [
        "class LSTMTaggerClassifer(nn.Module):\n",
        "    def __init__(self,\n",
        "                 input_dim:int,\n",
        "                 hidden_dim:int,\n",
        "                 tag_vocab_size:int,\n",
        "                 sql_vocab_size:int,\n",
        "                 num_layers:int = 1,\n",
        "                 dropout:float = 0.25):\n",
        "        \"\"\"\n",
        "        LSTM model for both token tagging and SQL template classification\n",
        "\n",
        "        Args:\n",
        "            input_dim: Dimensionality of input vectors\n",
        "            hidden_dim: Hidden dimension of LSTM\n",
        "            tag_vocab_size: Size of tag vocabulary for tagging task\n",
        "            sql_vocab_size: Number of unique SQL templates\n",
        "            num_layers: Number of LSTM layers\n",
        "            dropout: Dropout probability\n",
        "        \"\"\"\n",
        "        super(LSTMTaggerClassifer, self).__init__()\n",
        "\n",
        "        #LSTM layer\n",
        "        self.lstm = nn.LSTM(\n",
        "            input_dim,\n",
        "            hidden_dim,\n",
        "            num_layers=num_layers,\n",
        "            bidirectional=True,\n",
        "            dropout=dropout if num_layers > 1 else 0,\n",
        "            batch_first=True\n",
        "        )\n",
        "\n",
        "        # Dropout\n",
        "        self.dropout = nn.Dropout(dropout)\n",
        "\n",
        "        # Tagging layer (token classification)\n",
        "        # hidden * 2 is for bidirectionality\n",
        "        self.tag_classifier = nn.Linear(hidden_dim * 2, tag_vocab_size)\n",
        "\n",
        "        # SQL Template classification layer\n",
        "        # hidden * 2 is for bidirectionality\n",
        "        self.sql_classifier = nn.Linear(hidden_dim * 2, sql_vocab_size)\n",
        "\n",
        "    def forward(self, token_vectors, attention_mask=None):\n",
        "        \"\"\"\n",
        "        Forward pass\n",
        "\n",
        "        Args:\n",
        "            token_vectors: Token vectors from SpaCy [batch_size, seq_len, input_dim]\n",
        "            attention_mask: Attention mask indicating valid tokens [batch_size, seq_len]\n",
        "\n",
        "        Returns:\n",
        "            tag_logits: Token classification logits [batch_size, seq_len, tag_vocab_size]\n",
        "            sql_logits: SQL template classification logits [batch_size, sql_vocab_size]\n",
        "        \"\"\"\n",
        "        batch_size = token_vectors.shape[0]\n",
        "        seq_len = token_vectors.shape[1]\n",
        "\n",
        "        # Ignore padded vectrors in batch\n",
        "        packed = nn.utils.rnn.pack_padded_sequence(token_vectors, attention_mask.sum(dim=1).cpu().long(), batch_first=True, enforce_sorted=False)\n",
        "        # LSTM\n",
        "        output, (hidden, _) = self.lstm(packed)\n",
        "        # Unpack output back to padded sequences\n",
        "        output, _ = nn.utils.rnn.pad_packed_sequence(output, batch_first=True,total_length=seq_len)\n",
        "        # Appply dropout to output\n",
        "        output = self.dropout(output)\n",
        "        # Feedforward layer to get tagging logits\n",
        "        tag_logits = self.tag_classifier(output)  # shape: (B, T, num_tags)\n",
        "        # tag_logits = self.tag_classifier(F.gelu(output))  # shape: (B, T, num_tags)\n",
        "\n",
        "        # Classification from last hidden states (concat of both directions)\n",
        "        final_hidden = torch.cat((hidden[-2], hidden[-1]), dim=1)\n",
        "        # Apply dropout to final hidden output\n",
        "        # final_hidden = self.dropout(final_hidden)\n",
        "        # Feedforward layer to get SQL classification\n",
        "        sql_logits = self.sql_classifier(final_hidden)\n",
        "        # sql_logits = self.sql_classifier(F.gelu(final_hidden))\n",
        "\n",
        "        return tag_logits, sql_logits"
      ]
    },
    {
      "cell_type": "markdown",
      "metadata": {
        "id": "QReeLUxP5vyP"
      },
      "source": [
        "## Transfomer Model"
      ]
    },
    {
      "cell_type": "markdown",
      "metadata": {
        "id": "-ju1E-NX5yTC"
      },
      "source": [
        "The Transformer model is an encoder only model. It uses the outputs of each token of the encoder passed to a linear layer for tagging. For classification, it uses the output of a special [CLS] token passed to a linear layer, similar to BERT. The [CLS] token is appended to the input sentence"
      ]
    },
    {
      "cell_type": "code",
      "execution_count": 9,
      "metadata": {
        "id": "mt17A0jm5hP4"
      },
      "outputs": [],
      "source": [
        "class TransformerTaggerClassifier(nn.Module):\n",
        "  \"Transformer Encoder for Tagging and Classification\"\n",
        "\n",
        "  def __init__(self, input_dim, hidden_dim, tag_vocab_size, sql_vocab_size, num_layers=2, num_heads=6, dropout=0.2):\n",
        "    super().__init__()\n",
        "\n",
        "    self.project = nn.Linear(input_dim, hidden_dim) if input_dim != hidden_dim else nn.Identity()\n",
        "\n",
        "    encoder_layer = nn.TransformerEncoderLayer(d_model=hidden_dim, nhead=num_heads, dropout=dropout, batch_first=True,)\n",
        "    self.encoder = nn.TransformerEncoder(encoder_layer, num_layers)\n",
        "\n",
        "    self.tag_classifier = nn.Linear(hidden_dim, tag_vocab_size)\n",
        "    self.sql_classifier = nn.Linear(hidden_dim, sql_vocab_size)\n",
        "\n",
        "    # BERT style [CLS] token for classification\n",
        "    self.cls_token = nn.Parameter(torch.randn(1, 1, hidden_dim))\n",
        "    self.dropout = nn.Dropout(dropout)\n",
        "\n",
        "  def forward(self, token_vectors, attention_mask=None):\n",
        "    # x: [batch, seq_len, input_dim]\n",
        "    x = self.dropout(self.project(token_vectors))\n",
        "    batch_size = x.size(0)\n",
        "\n",
        "    # Add [CLS] token\n",
        "    cls = self.cls_token.expand(batch_size, -1, -1) # [batch, 1, hidden_dim]\n",
        "    x = torch.cat([cls, x], dim=1)  # [batch, seq_len+1, hidden_dim]\n",
        "\n",
        "    # Update attention mask\n",
        "    if attention_mask is not None:\n",
        "        cls_mask = torch.ones(batch_size, 1, device=attention_mask.device, dtype=attention_mask.dtype)\n",
        "        attention_mask = torch.cat([cls_mask, attention_mask], dim=1)\n",
        "        key_padding_mask = attention_mask == 0\n",
        "    else:\n",
        "        key_padding_mask = None\n",
        "\n",
        "    x = self.encoder(x, src_key_padding_mask=key_padding_mask)\n",
        "\n",
        "    # exclude CLS for token tagging\n",
        "    tag_logits = self.tag_classifier(x[:, 1:])\n",
        "\n",
        "    # use CLS for classification\n",
        "    sql_logits = self.sql_classifier(x[:, 0])\n",
        "\n",
        "    return tag_logits, sql_logits\n",
        "\n"
      ]
    },
    {
      "cell_type": "code",
      "execution_count": 218,
      "metadata": {
        "id": "0DH-jGOku5E9"
      },
      "outputs": [],
      "source": [
        "import math\n",
        "\n",
        "class PositionalEncoding(nn.Module):\n",
        "    r\"\"\"Inject some information about the relative or absolute position of the tokens in the sequence.\n",
        "        The positional encodings have the same dimension as the embeddings, so that the two can be summed.\n",
        "        Here, we use sine and cosine functions of different frequencies.\n",
        "    .. math:\n",
        "        \\text{PosEncoder}(pos, 2i) = sin(pos/10000^(2i/d_model))\n",
        "        \\text{PosEncoder}(pos, 2i+1) = cos(pos/10000^(2i/d_model))\n",
        "        \\text{where pos is the word position and i is the embed idx)\n",
        "    Args:\n",
        "        d_model: the embed dim (required).\n",
        "        dropout: the dropout value (default=0.1).\n",
        "        max_len: the max. length of the incoming sequence (default=5000).\n",
        "    Examples:\n",
        "        >>> pos_encoder = PositionalEncoding(d_model)\n",
        "    \"\"\"\n",
        "\n",
        "    def __init__(self, d_model, dropout=0.1, max_len=5000):\n",
        "        super(PositionalEncoding, self).__init__()\n",
        "        self.dropout = nn.Dropout(p=dropout)\n",
        "\n",
        "        pe = torch.zeros(max_len, d_model)\n",
        "        position = torch.arange(0, max_len, dtype=torch.float).unsqueeze(1)\n",
        "        div_term = torch.exp(torch.arange(0, d_model, 2).float() * (-math.log(10000.0) / d_model))\n",
        "        pe[:, 0::2] = torch.sin(position * div_term)\n",
        "        pe[:, 1::2] = torch.cos(position * div_term)\n",
        "        pe = pe.unsqueeze(0).transpose(0, 1)\n",
        "        self.register_buffer('pe', pe)\n",
        "\n",
        "    def forward(self, x):\n",
        "        r\"\"\"Inputs of forward function\n",
        "        Args:\n",
        "            x: the sequence fed to the positional encoder model (required).\n",
        "        Shape:\n",
        "            x: [sequence length, batch size, embed dim]\n",
        "            output: [sequence length, batch size, embed dim]\n",
        "        Examples:\n",
        "            >>> output = pos_encoder(x)\n",
        "        \"\"\"\n",
        "\n",
        "        x = x + self.pe[:x.size(0), :]\n",
        "        return self.dropout(x)\n",
        "\n",
        "class TransformerTaggerClassifierStatic(nn.Module):\n",
        "  \"Transformer Encoder for Tagging and Classification using static embedding. Adding Poistional encoding\"\n",
        "\n",
        "  def __init__(self, input_dim, hidden_dim, tag_vocab_size, sql_vocab_size, num_layers=2, num_heads=6, dropout=0.2):\n",
        "    super().__init__()\n",
        "\n",
        "    self.project = nn.Linear(input_dim, hidden_dim) if input_dim != hidden_dim else nn.Identity()\n",
        "    self.pos_encoder = PositionalEncoding(hidden_dim)\n",
        "    encoder_layer = nn.TransformerEncoderLayer(d_model=hidden_dim, nhead=num_heads, dropout=dropout, batch_first=True,)\n",
        "    self.encoder = nn.TransformerEncoder(encoder_layer, num_layers)\n",
        "\n",
        "    self.tag_classifier = nn.Linear(hidden_dim, tag_vocab_size)\n",
        "    self.sql_classifier = nn.Linear(hidden_dim, sql_vocab_size)\n",
        "\n",
        "    # BERT style [CLS] token for classification\n",
        "    self.cls_token = nn.Parameter(torch.randn(1, 1, hidden_dim))\n",
        "    self.dropout = nn.Dropout(dropout)\n",
        "\n",
        "  def forward(self, token_vectors, attention_mask=None):\n",
        "    # x: [batch, seq_len, input_dim]\n",
        "    x = self.dropout(self.project(token_vectors))\n",
        "    # Apply positional encoding\n",
        "    x = self.pos_encoder(x)\n",
        "    batch_size = x.size(0)\n",
        "\n",
        "    # Add [CLS] token\n",
        "    cls = self.cls_token.expand(batch_size, -1, -1) # [batch, 1, hidden_dim]\n",
        "    x = torch.cat([cls, x], dim=1)  # [batch, seq_len+1, hidden_dim]\n",
        "\n",
        "    # Update attention mask\n",
        "    if attention_mask is not None:\n",
        "        cls_mask = torch.ones(batch_size, 1, device=attention_mask.device, dtype=attention_mask.dtype)\n",
        "        attention_mask = torch.cat([cls_mask, attention_mask], dim=1)\n",
        "        key_padding_mask = attention_mask == 0\n",
        "    else:\n",
        "        key_padding_mask = None\n",
        "\n",
        "    x = self.encoder(x, src_key_padding_mask=key_padding_mask)\n",
        "\n",
        "    # exclude CLS for token tagging\n",
        "    tag_logits = self.tag_classifier(x[:, 1:])\n",
        "\n",
        "    # use CLS for classification\n",
        "    sql_logits = self.sql_classifier(x[:, 0])\n",
        "\n",
        "    return tag_logits, sql_logits"
      ]
    },
    {
      "cell_type": "markdown",
      "metadata": {
        "id": "fLmxi_Ow8FG5"
      },
      "source": [
        "# Training models"
      ]
    },
    {
      "cell_type": "markdown",
      "metadata": {
        "id": "8Q36xdyG8gHe"
      },
      "source": [
        "Training function for LSTM and Transformer models. CrossEntropy Loss from both tagging ang Classification is addded to get the loss which is to be minimised."
      ]
    },
    {
      "cell_type": "code",
      "execution_count": 10,
      "metadata": {
        "id": "H5GWYQCF8DtW"
      },
      "outputs": [],
      "source": [
        "def train_model(model, train_loader, val_loader=None, epochs=1-0, lr=1e-3,weight_decay=0.01,gamma=0.1,steps=20, warmup_epochs=10, amsgrad=False, device=\"cuda\" if torch.cuda.is_available() else \"cpu\"):\n",
        "    \"\"\"\n",
        "    Train LSTM and Transformer model\n",
        "    \"\"\"\n",
        "    model = model.to(device)\n",
        "    optimizer = optim.AdamW(model.parameters(), lr=lr, weight_decay=weight_decay, amsgrad=amsgrad)\n",
        "    # StepLR: Reduces learning rate every 10 epochs by a factor of 0.1\n",
        "    # ExponentialLR reduces learning by gammma\n",
        "    scheduler = optim.lr_scheduler.ExponentialLR(optimizer, gamma=gamma)\n",
        "    tag_criterion = nn.CrossEntropyLoss(ignore_index=0)\n",
        "    sql_criterion = nn.CrossEntropyLoss()\n",
        "\n",
        "    for epoch in range(epochs):\n",
        "        # Set model to training model\n",
        "        model.train()\n",
        "        total_loss = 0\n",
        "\n",
        "        # Training loop\n",
        "        for batch in tqdm(train_loader, desc=f\"Epoch {epoch+1}/{epochs}\"):\n",
        "          # Get batch data\n",
        "          token_vectors = batch[\"token_vectors\"].to(device)\n",
        "          attention_mask = batch[\"attention_mask\"].to(device)\n",
        "          tag_labels = batch[\"tag_labels\"].to(device)\n",
        "          sql_labels = batch[\"sql_labels\"].to(device)\n",
        "\n",
        "          # Forward pass\n",
        "          tag_logits, sql_logits = model(token_vectors, attention_mask)\n",
        "\n",
        "          # Handle dimension mismatches\n",
        "          tag_seq_len = tag_logits.size(1)\n",
        "          label_seq_len = tag_labels.size(1)\n",
        "\n",
        "          if tag_seq_len != label_seq_len:\n",
        "              # Either pad or truncate logits/labels to match\n",
        "              if tag_seq_len < label_seq_len:\n",
        "                  # If logits are shorter, truncate labels\n",
        "                  tag_labels = tag_labels[:, :tag_seq_len]\n",
        "              else:\n",
        "                  # If labels are shorter, truncate logits\n",
        "                  tag_logits = tag_logits[:, :label_seq_len, :]\n",
        "\n",
        "          tag_loss = tag_criterion(tag_logits.view(-1, tag_logits.size(-1)), tag_labels.view(-1))\n",
        "          sql_loss = sql_criterion(sql_logits, sql_labels)\n",
        "          loss = tag_loss + sql_loss\n",
        "\n",
        "          # Backward pass\n",
        "          optimizer.zero_grad()\n",
        "          loss.backward()\n",
        "          optimizer.step()\n",
        "\n",
        "          total_loss += loss.item()\n",
        "        # Warm start\n",
        "        if epoch+1 > warmup_epochs:\n",
        "          scheduler.step()\n",
        "\n",
        "        avg_loss = total_loss/len(train_loader)\n",
        "        print(f\"Epoch {epoch+1}/{epochs}, Training Loss: {avg_loss:.4f}, Learning Rate: {optimizer.param_groups[0]['lr']}\")\n",
        "\n",
        "    return model"
      ]
    },
    {
      "cell_type": "markdown",
      "metadata": {
        "id": "6OAy5Wx39Utt"
      },
      "source": [
        "Training function for Linear and Feedforward models. Both tagging and classification models are trained at the same time. The loss from tagging and classification is added to compute overall loss which is to minimised."
      ]
    },
    {
      "cell_type": "code",
      "execution_count": 11,
      "metadata": {
        "id": "GMChz4tw9Kz8"
      },
      "outputs": [],
      "source": [
        "def train_dual_model(tagger_model, classifier_model, train_loader, val_loader=None,\n",
        "                     epochs=10, lr=1e-3,weight_decay=0.01,gamma=0.1,steps=20, warmup_epochs=10,\n",
        "                     device=\"cuda\" if torch.cuda.is_available() else \"cpu\"):\n",
        "    \"\"\"\n",
        "    Train separate tagger and classifier models.\n",
        "    \"\"\"\n",
        "    tagger_model = tagger_model.to(device)\n",
        "    classifier_model = classifier_model.to(device)\n",
        "\n",
        "    optimizer = optim.AdamW(\n",
        "        list(tagger_model.parameters()) + list(classifier_model.parameters()), lr=lr, weight_decay=weight_decay, amsgrad=False\n",
        "    )\n",
        "    scheduler = optim.lr_scheduler.ExponentialLR(optimizer, gamma=gamma)\n",
        "\n",
        "    tag_criterion = nn.CrossEntropyLoss()\n",
        "    sql_criterion = nn.CrossEntropyLoss()\n",
        "\n",
        "    for epoch in range(epochs):\n",
        "        tagger_model.train()\n",
        "        classifier_model.train()\n",
        "        total_loss = 0\n",
        "\n",
        "        for batch in tqdm(train_loader, desc=f\"Epoch {epoch+1}/{epochs}\"):\n",
        "            token_vectors = batch[\"token_vectors\"].to(device)\n",
        "            attention_mask = batch[\"attention_mask\"].to(device)\n",
        "            tag_labels = batch[\"tag_labels\"].to(device)\n",
        "            sql_labels = batch[\"sql_labels\"].to(device)\n",
        "\n",
        "            # Forward pass through both models\n",
        "            tag_logits = tagger_model(token_vectors)  # [B, T, tag_vocab]\n",
        "            sql_logits = classifier_model(token_vectors, attention_mask)  # [B, sql_vocab]\n",
        "\n",
        "            # Align tag_logits and tag_labels\n",
        "            tag_seq_len = tag_logits.size(1)\n",
        "            label_seq_len = tag_labels.size(1)\n",
        "            if tag_seq_len != label_seq_len:\n",
        "                if tag_seq_len < label_seq_len:\n",
        "                    tag_labels = tag_labels[:, :tag_seq_len]\n",
        "                else:\n",
        "                    tag_logits = tag_logits[:, :label_seq_len, :]\n",
        "\n",
        "            # Compute losses\n",
        "            tag_loss = tag_criterion(tag_logits.view(-1, tag_logits.size(-1)), tag_labels.view(-1))\n",
        "            sql_loss = sql_criterion(sql_logits, sql_labels)\n",
        "            loss = tag_loss + sql_loss\n",
        "\n",
        "            # Calculating gradients and updating weights\n",
        "            optimizer.zero_grad()\n",
        "            loss.backward()\n",
        "            optimizer.step()\n",
        "\n",
        "            total_loss += loss.item()\n",
        "\n",
        "        if epoch+1 > warmup_epochs:\n",
        "          scheduler.step()\n",
        "        avg_loss = total_loss / len(train_loader)\n",
        "        print(f\"Epoch {epoch+1}/{epochs}, Training Loss: {avg_loss:.4f}, Learning Rate: {optimizer.param_groups[0]['lr']}\")\n",
        "\n",
        "    return tagger_model, classifier_model\n"
      ]
    },
    {
      "cell_type": "markdown",
      "metadata": {
        "id": "7wbYUupO9A5y"
      },
      "source": [
        "# Evaluating Models"
      ]
    },
    {
      "cell_type": "markdown",
      "metadata": {
        "id": "KrInY-CdAAzz"
      },
      "source": [
        "Class for evaluation and inference. Can used to genrate SQL for a single input sentence or a batch. When batching is used using the DatLoader, accuracy is also checked with comparing combined putput of the tagging ang classification with the list of valid SQL queries for that input sentence.\n",
        "\n"
      ]
    },
    {
      "cell_type": "code",
      "execution_count": 53,
      "metadata": {
        "id": "xXTugoG77QMc"
      },
      "outputs": [],
      "source": [
        "class SQLPipeline:\n",
        "    def __init__(self,model, dataset,embed_type=\"static\", device=\"cuda\" if torch.cuda.is_available() else \"cpu\"):\n",
        "        \"\"\"\n",
        "        End-to-end evaluation and inference pipeline. Handles single model for tagging and classification and dual models.\n",
        "        Can be used for onference and evaluation\n",
        "        \"\"\"\n",
        "        if(isinstance(model,nn.Module)):\n",
        "          self.model = model.to(device)\n",
        "          self.model.eval()\n",
        "        if(isinstance(model,list)):\n",
        "          self.tagger = model[0].to(device)\n",
        "          self.tagger.eval()\n",
        "          self.classifier = model[1].to(device)\n",
        "          self.classifier.eval()\n",
        "\n",
        "        self.dataset = dataset\n",
        "        self.device = device\n",
        "        self.embed_type = embed_type\n",
        "\n",
        "    def predict(self, text, nlp=None):\n",
        "        \"\"\"\n",
        "        Generate SQL query for input text\n",
        "\n",
        "        Args:\n",
        "            text: Input text query\n",
        "            nlp: Optional SpaCy pipeline (if not provided, uses the dataset's)\n",
        "\n",
        "        Returns:\n",
        "            Dict containing the predicted SQL query, identified variables, and template\n",
        "        \"\"\"\n",
        "\n",
        "        nlp = nlp or self.dataset.nlp\n",
        "\n",
        "        # Process text with SpaCy\n",
        "        doc = nlp(text)\n",
        "\n",
        "        # Extract token vectors and texts\n",
        "        # squeeze(0) used add batch dimension bcos model expects batch but we are processing a single sample\n",
        "        if(self.embed_type == \"context\"):\n",
        "          token_vectors = torch.tensor(doc.tensor, dtype=torch.float32).unsqueeze(0).to(self.device)\n",
        "        elif(self.embed_type == \"static\"):\n",
        "          token_vectors = torch.tensor([token.vector for token in doc], dtype=torch.float32).unsqueeze(0).to(self.device)\n",
        "        elif(self.embed_type == \"none\"):\n",
        "          raise NotImplementedError(f\"Using token ids not implemented\")\n",
        "        else:\n",
        "          raise ValueError(f\"{self.embed_type} is not valid. Please choose from 'context', 'static', or 'none'\")\n",
        "\n",
        "        tokens = [token.text for token in doc]\n",
        "\n",
        "        # Create attention mask\n",
        "        attention_mask = torch.ones(1, len(doc), dtype=torch.float32).to(self.device)\n",
        "\n",
        "        # Forward pass\n",
        "        with torch.no_grad():\n",
        "            if(hasattr(self,\"model\")):\n",
        "              tag_logits, sql_logits =self.model(token_vectors, attention_mask)\n",
        "            elif(hasattr(self,\"tagger\") and hasattr(self,\"classifier\")):\n",
        "              tag_logits = self.tagger(token_vectors)\n",
        "              sql_logits = self.classifier(token_vectors, attention_mask)\n",
        "\n",
        "            # Get predicted tag for each token\n",
        "            tag_preds = torch.argmax(tag_logits, dim=-1)[0].cpu().numpy()\n",
        "\n",
        "            # Get predicted SQL template\n",
        "            sql_pred = torch.argmax(sql_logits, dim=-1)[0].item()\n",
        "\n",
        "        # Convert predictions back to human-readable form\n",
        "        predicted_tags = [self.dataset.decode_tag(tag) for tag in tag_preds[:len(tokens)]]\n",
        "        predicted_template = self.dataset.decode_sql_template(sql_pred)\n",
        "\n",
        "        # Extract identified variables\n",
        "        identified_variables = {}\n",
        "        for i, (token, tag) in enumerate(zip(tokens, predicted_tags)):\n",
        "            if tag not in ['no_var','unknown'] :\n",
        "                # Tag is a variable name\n",
        "                identified_variables[tag] = token\n",
        "\n",
        "        # Replace variables in the SQL template\n",
        "        final_sql = predicted_template\n",
        "        for var_name, var_value in identified_variables.items():\n",
        "            final_sql = final_sql.replace(var_name, var_value)\n",
        "\n",
        "        return {\n",
        "            \"tokens\": tokens,\n",
        "            \"predicted_tags\": predicted_tags,\n",
        "            \"identified_variables\": identified_variables,\n",
        "            \"predicted_template\": predicted_template,\n",
        "            \"final_sql\": final_sql\n",
        "        }\n",
        "\n",
        "    def batch_predict(self, dataloader):\n",
        "        \"\"\"\n",
        "        Generate SQL queries for a batch of inputs and get accuracy\n",
        "\n",
        "        Args:\n",
        "            dataloader: DataLoader with test data\n",
        "\n",
        "        Returns:\n",
        "            List(dict): List of prediction results\n",
        "            (float): Batch Accuracy\n",
        "        \"\"\"\n",
        "        results = []\n",
        "        total_samples = len(self.dataset)\n",
        "        correct = 0\n",
        "        for batch in tqdm(dataloader, desc=\"Generating SQL queries\"):\n",
        "\n",
        "            # Move batch to device\n",
        "            token_vectors = batch[\"token_vectors\"].to(self.device)\n",
        "            attention_mask = batch[\"attention_mask\"].to(self.device)\n",
        "            tokens = batch[\"tokens\"]\n",
        "            raw_items = batch[\"raw_items\"]\n",
        "\n",
        "            # Forward pass\n",
        "            with torch.no_grad():\n",
        "                if(hasattr(self,\"model\")):\n",
        "                  tag_logits, sql_logits =self.model(token_vectors, attention_mask)\n",
        "                elif(hasattr(self,\"tagger\") and hasattr(self,\"classifier\")):\n",
        "                  tag_logits = self.tagger(token_vectors)\n",
        "                  sql_logits = self.classifier(token_vectors, attention_mask)\n",
        "\n",
        "                # Get predictions\n",
        "                tag_preds = torch.argmax(tag_logits, dim=-1).cpu().numpy()\n",
        "                sql_preds = torch.argmax(sql_logits, dim=-1).cpu().numpy()\n",
        "\n",
        "            # Process each item in batch\n",
        "            for i in range(len(tokens)):\n",
        "              # Get token and tag sequences\n",
        "              item_tokens = tokens[i]\n",
        "              # Filter out padding\n",
        "              valid_tokens = [t for t in item_tokens if t]\n",
        "\n",
        "              # Get predicted tags for valid tokens\n",
        "              item_tags = [self.dataset.decode_tag(tag) for tag in tag_preds[i, :len(valid_tokens)]]\n",
        "\n",
        "              # Get predicted SQL template\n",
        "              predicted_template = self.dataset.decode_sql_template(sql_preds[i])\n",
        "\n",
        "              # Extract identified variables\n",
        "              identified_variables = {}\n",
        "              for j, (token, tag) in enumerate(zip(valid_tokens, item_tags)):\n",
        "                  if tag not in ['no_var','unknown']:\n",
        "                      identified_variables[tag] = token\n",
        "\n",
        "              # Replace variables in the SQL template\n",
        "              final_sql = predicted_template\n",
        "              for var_name, var_value in identified_variables.items():\n",
        "                  final_sql = final_sql.replace(var_name, var_value)\n",
        "\n",
        "              # Check if produces SQL query is correct\n",
        "              correct_example = False\n",
        "              if(final_sql in raw_items[i][\"sql_with_vars_replaced\"]):\n",
        "                correct_example = True\n",
        "                correct += 1\n",
        "                # print(f\"\\nCorrrect PRediction:\\n{final_sql}\\nFor {' '.join([token for token in valid_tokens])}\")\n",
        "\n",
        "\n",
        "\n",
        "              # Add to results\n",
        "              results.append({\n",
        "                  \"tokens\": valid_tokens,\n",
        "                  \"predicted_tags\": item_tags,\n",
        "                  \"identified_variables\": identified_variables,\n",
        "                  \"predicted_template\": predicted_template,\n",
        "                  \"final_sql\": final_sql,\n",
        "                  \"raw_item\": raw_items[i],\n",
        "                  \"correct_sql\":raw_items[i][\"sql_with_vars_replaced\"],\n",
        "                  \"is_correct\":correct_example\n",
        "              })\n",
        "        # print(f\"Num Correct: {correct}\\nNum Samples:{total_samples}\")\n",
        "        accuracy = correct/total_samples\n",
        "        return results,accuracy"
      ]
    },
    {
      "cell_type": "markdown",
      "metadata": {
        "id": "fc4F6gIqCAjV"
      },
      "source": [
        "# Training and evaluating all 4 models"
      ]
    },
    {
      "cell_type": "markdown",
      "metadata": {
        "id": "nF25yokLCMQF"
      },
      "source": [
        "## Creating datasets and dataloaders for both questions and query split"
      ]
    },
    {
      "cell_type": "markdown",
      "metadata": {
        "id": "Y7ZH62_BDJih"
      },
      "source": [
        "### Question split using static embeddings"
      ]
    },
    {
      "cell_type": "code",
      "execution_count": 13,
      "metadata": {
        "id": "0CuJIBCECII2"
      },
      "outputs": [],
      "source": [
        "# Create datasets\n",
        "question_static_train_val_dataset = ATISClassificationDataset(\n",
        "    dataset_loc=\"atis.json\",\n",
        "    nlp=nlp,\n",
        "    split_type=\"question\",\n",
        "    embed_type='static',\n",
        "    split=[\"train\",\"dev\"]\n",
        ")\n",
        "\n",
        "question_static_test_dataset = ATISClassificationDataset(\n",
        "    dataset_loc=\"atis.json\",\n",
        "    nlp=nlp,\n",
        "    split_type=\"question\",\n",
        "    embed_type='static',\n",
        "    split=[\"test\"]\n",
        ")\n",
        "\n",
        "# Create dataloaders\n",
        "question_static_train_val_loader = question_static_train_val_dataset.get_dataloader(batch_size=32)\n",
        "question_static_test_loader = question_static_test_dataset.get_dataloader(batch_size=32)"
      ]
    },
    {
      "cell_type": "markdown",
      "metadata": {
        "id": "2c359dQWDVeT"
      },
      "source": [
        "### Question split using contextual embeddings"
      ]
    },
    {
      "cell_type": "code",
      "execution_count": 14,
      "metadata": {
        "id": "H9IFcYi9D2GY"
      },
      "outputs": [],
      "source": [
        "# Create datasets\n",
        "question_context_train_val_dataset = ATISClassificationDataset(\n",
        "    dataset_loc=\"atis.json\",\n",
        "    nlp=nlp,\n",
        "    split_type=\"question\",\n",
        "    embed_type='context',\n",
        "    split=[\"train\",\"dev\"]\n",
        ")\n",
        "\n",
        "question_context_test_dataset = ATISClassificationDataset(\n",
        "    dataset_loc=\"atis.json\",\n",
        "    nlp=nlp,\n",
        "    split_type=\"question\",\n",
        "    embed_type='context',\n",
        "    split=[\"test\"]\n",
        ")\n",
        "\n",
        "# Create dataloaders\n",
        "question_context_train_val_loader = question_context_train_val_dataset.get_dataloader(batch_size=32)\n",
        "question_context_test_loader = question_context_test_dataset.get_dataloader(batch_size=32)"
      ]
    },
    {
      "cell_type": "markdown",
      "metadata": {
        "id": "y572MYgeDXX9"
      },
      "source": [
        "### Query split using static embeddings"
      ]
    },
    {
      "cell_type": "code",
      "execution_count": 15,
      "metadata": {
        "id": "X9JbZLxrEN9q"
      },
      "outputs": [],
      "source": [
        "# Creata datasets with query split\n",
        "query_static_train_val_dataset = ATISClassificationDataset(\n",
        "    dataset_loc=\"atis.json\",\n",
        "    nlp=nlp,\n",
        "    split_type=\"query\",\n",
        "    embed_type='static',\n",
        "    split=[\"train\",\"dev\"]\n",
        ")\n",
        "query_static_test_dataset = ATISClassificationDataset(\n",
        "    dataset_loc=\"atis.json\",\n",
        "    nlp=nlp,\n",
        "    split_type=\"query\",\n",
        "    embed_type='static',\n",
        "    split=[\"test\"]\n",
        ")\n",
        "\n",
        "# Create dataloaders\n",
        "query_static_train_val_loader = query_static_train_val_dataset.get_dataloader(batch_size=32)\n",
        "query_static_test_loader = query_static_test_dataset.get_dataloader(batch_size=32)"
      ]
    },
    {
      "cell_type": "markdown",
      "metadata": {
        "id": "TKasH9A_DaWP"
      },
      "source": [
        "### Query split using contextual embeddings"
      ]
    },
    {
      "cell_type": "code",
      "execution_count": 16,
      "metadata": {
        "id": "e4wJ7D7oBLd4"
      },
      "outputs": [],
      "source": [
        "query_context_train_val_dataset = ATISClassificationDataset(\n",
        "    dataset_loc=\"atis.json\",\n",
        "    nlp=nlp,\n",
        "    split_type=\"query\",\n",
        "    embed_type='context',\n",
        "    split=[\"train\",\"dev\"]\n",
        ")\n",
        "\n",
        "query_context_test_dataset = ATISClassificationDataset(\n",
        "    dataset_loc=\"atis.json\",\n",
        "    nlp=nlp,\n",
        "    split_type=\"query\",\n",
        "    embed_type='context',\n",
        "    split=[\"test\"]\n",
        ")\n",
        "\n",
        "# Create dataloaders\n",
        "query_context_train_val_loader = query_context_train_val_dataset.get_dataloader(batch_size=32)\n",
        "query_context_test_loader = query_context_test_dataset.get_dataloader(batch_size=32)"
      ]
    },
    {
      "cell_type": "markdown",
      "metadata": {
        "id": "PJo5P6OmEwry"
      },
      "source": [
        "## Training and Evaluating Tagging and Classification models"
      ]
    },
    {
      "cell_type": "markdown",
      "metadata": {
        "id": "htepSoGlFJAJ"
      },
      "source": [
        "### Training and Evaluating Linear models using question and query split"
      ]
    },
    {
      "cell_type": "code",
      "execution_count": 17,
      "metadata": {
        "colab": {
          "base_uri": "https://localhost:8080/"
        },
        "collapsed": true,
        "id": "n0YkL9sDEvm0",
        "outputId": "7c5082e7-3968-4716-d8f3-0e2083e59fba"
      },
      "outputs": [
        {
          "name": "stderr",
          "output_type": "stream",
          "text": [
            "\rEpoch 1/50:   0%|          | 0/152 [00:00<?, ?it/s]<ipython-input-5-c9b2896365a8>:133: UserWarning: Creating a tensor from a list of numpy.ndarrays is extremely slow. Please consider converting the list to a single numpy.ndarray with numpy.array() before converting to a tensor. (Triggered internally at /pytorch/torch/csrc/utils/tensor_new.cpp:254.)\n",
            "  token_vectors = torch.tensor([token.vector for token in doc], dtype=torch.float32)\n",
            "Epoch 1/50: 100%|██████████| 152/152 [00:05<00:00, 28.02it/s]\n"
          ]
        },
        {
          "name": "stdout",
          "output_type": "stream",
          "text": [
            "Epoch 1/50, Training Loss: 5.7158, Learning Rate: 0.001\n"
          ]
        },
        {
          "name": "stderr",
          "output_type": "stream",
          "text": [
            "Epoch 2/50: 100%|██████████| 152/152 [00:03<00:00, 41.06it/s]\n"
          ]
        },
        {
          "name": "stdout",
          "output_type": "stream",
          "text": [
            "Epoch 2/50, Training Loss: 4.1558, Learning Rate: 0.001\n"
          ]
        },
        {
          "name": "stderr",
          "output_type": "stream",
          "text": [
            "Epoch 3/50: 100%|██████████| 152/152 [00:03<00:00, 41.06it/s]\n"
          ]
        },
        {
          "name": "stdout",
          "output_type": "stream",
          "text": [
            "Epoch 3/50, Training Loss: 3.3605, Learning Rate: 0.001\n"
          ]
        },
        {
          "name": "stderr",
          "output_type": "stream",
          "text": [
            "Epoch 4/50: 100%|██████████| 152/152 [00:04<00:00, 32.48it/s]\n"
          ]
        },
        {
          "name": "stdout",
          "output_type": "stream",
          "text": [
            "Epoch 4/50, Training Loss: 2.7956, Learning Rate: 0.001\n"
          ]
        },
        {
          "name": "stderr",
          "output_type": "stream",
          "text": [
            "Epoch 5/50: 100%|██████████| 152/152 [00:03<00:00, 41.08it/s]\n"
          ]
        },
        {
          "name": "stdout",
          "output_type": "stream",
          "text": [
            "Epoch 5/50, Training Loss: 2.4284, Learning Rate: 0.001\n"
          ]
        },
        {
          "name": "stderr",
          "output_type": "stream",
          "text": [
            "Epoch 6/50: 100%|██████████| 152/152 [00:03<00:00, 41.43it/s]\n"
          ]
        },
        {
          "name": "stdout",
          "output_type": "stream",
          "text": [
            "Epoch 6/50, Training Loss: 2.1497, Learning Rate: 0.001\n"
          ]
        },
        {
          "name": "stderr",
          "output_type": "stream",
          "text": [
            "Epoch 7/50: 100%|██████████| 152/152 [00:04<00:00, 32.54it/s]\n"
          ]
        },
        {
          "name": "stdout",
          "output_type": "stream",
          "text": [
            "Epoch 7/50, Training Loss: 1.8888, Learning Rate: 0.001\n"
          ]
        },
        {
          "name": "stderr",
          "output_type": "stream",
          "text": [
            "Epoch 8/50: 100%|██████████| 152/152 [00:03<00:00, 41.40it/s]\n"
          ]
        },
        {
          "name": "stdout",
          "output_type": "stream",
          "text": [
            "Epoch 8/50, Training Loss: 1.6378, Learning Rate: 0.001\n"
          ]
        },
        {
          "name": "stderr",
          "output_type": "stream",
          "text": [
            "Epoch 9/50: 100%|██████████| 152/152 [00:03<00:00, 41.35it/s]\n"
          ]
        },
        {
          "name": "stdout",
          "output_type": "stream",
          "text": [
            "Epoch 9/50, Training Loss: 1.4900, Learning Rate: 0.001\n"
          ]
        },
        {
          "name": "stderr",
          "output_type": "stream",
          "text": [
            "Epoch 10/50: 100%|██████████| 152/152 [00:04<00:00, 32.31it/s]\n"
          ]
        },
        {
          "name": "stdout",
          "output_type": "stream",
          "text": [
            "Epoch 10/50, Training Loss: 1.3355, Learning Rate: 0.001\n"
          ]
        },
        {
          "name": "stderr",
          "output_type": "stream",
          "text": [
            "Epoch 11/50: 100%|██████████| 152/152 [00:03<00:00, 41.39it/s]\n"
          ]
        },
        {
          "name": "stdout",
          "output_type": "stream",
          "text": [
            "Epoch 11/50, Training Loss: 1.1856, Learning Rate: 0.001\n"
          ]
        },
        {
          "name": "stderr",
          "output_type": "stream",
          "text": [
            "Epoch 12/50: 100%|██████████| 152/152 [00:03<00:00, 39.88it/s]\n"
          ]
        },
        {
          "name": "stdout",
          "output_type": "stream",
          "text": [
            "Epoch 12/50, Training Loss: 1.0608, Learning Rate: 0.001\n"
          ]
        },
        {
          "name": "stderr",
          "output_type": "stream",
          "text": [
            "Epoch 13/50: 100%|██████████| 152/152 [00:04<00:00, 32.18it/s]\n"
          ]
        },
        {
          "name": "stdout",
          "output_type": "stream",
          "text": [
            "Epoch 13/50, Training Loss: 0.9774, Learning Rate: 0.001\n"
          ]
        },
        {
          "name": "stderr",
          "output_type": "stream",
          "text": [
            "Epoch 14/50: 100%|██████████| 152/152 [00:03<00:00, 41.59it/s]\n"
          ]
        },
        {
          "name": "stdout",
          "output_type": "stream",
          "text": [
            "Epoch 14/50, Training Loss: 0.9026, Learning Rate: 0.001\n"
          ]
        },
        {
          "name": "stderr",
          "output_type": "stream",
          "text": [
            "Epoch 15/50: 100%|██████████| 152/152 [00:03<00:00, 41.27it/s]\n"
          ]
        },
        {
          "name": "stdout",
          "output_type": "stream",
          "text": [
            "Epoch 15/50, Training Loss: 0.8365, Learning Rate: 0.001\n"
          ]
        },
        {
          "name": "stderr",
          "output_type": "stream",
          "text": [
            "Epoch 16/50: 100%|██████████| 152/152 [00:04<00:00, 32.17it/s]\n"
          ]
        },
        {
          "name": "stdout",
          "output_type": "stream",
          "text": [
            "Epoch 16/50, Training Loss: 0.7959, Learning Rate: 0.0009000000000000001\n"
          ]
        },
        {
          "name": "stderr",
          "output_type": "stream",
          "text": [
            "Epoch 17/50: 100%|██████████| 152/152 [00:03<00:00, 40.47it/s]\n"
          ]
        },
        {
          "name": "stdout",
          "output_type": "stream",
          "text": [
            "Epoch 17/50, Training Loss: 0.7558, Learning Rate: 0.0008100000000000001\n"
          ]
        },
        {
          "name": "stderr",
          "output_type": "stream",
          "text": [
            "Epoch 18/50: 100%|██████████| 152/152 [00:03<00:00, 41.30it/s]\n"
          ]
        },
        {
          "name": "stdout",
          "output_type": "stream",
          "text": [
            "Epoch 18/50, Training Loss: 0.6522, Learning Rate: 0.000729\n"
          ]
        },
        {
          "name": "stderr",
          "output_type": "stream",
          "text": [
            "Epoch 19/50: 100%|██████████| 152/152 [00:04<00:00, 32.08it/s]\n"
          ]
        },
        {
          "name": "stdout",
          "output_type": "stream",
          "text": [
            "Epoch 19/50, Training Loss: 0.6181, Learning Rate: 0.0006561000000000001\n"
          ]
        },
        {
          "name": "stderr",
          "output_type": "stream",
          "text": [
            "Epoch 20/50: 100%|██████████| 152/152 [00:03<00:00, 40.88it/s]\n"
          ]
        },
        {
          "name": "stdout",
          "output_type": "stream",
          "text": [
            "Epoch 20/50, Training Loss: 0.5733, Learning Rate: 0.00059049\n"
          ]
        },
        {
          "name": "stderr",
          "output_type": "stream",
          "text": [
            "Epoch 21/50: 100%|██████████| 152/152 [00:03<00:00, 41.82it/s]\n"
          ]
        },
        {
          "name": "stdout",
          "output_type": "stream",
          "text": [
            "Epoch 21/50, Training Loss: 0.5110, Learning Rate: 0.000531441\n"
          ]
        },
        {
          "name": "stderr",
          "output_type": "stream",
          "text": [
            "Epoch 22/50: 100%|██████████| 152/152 [00:08<00:00, 18.51it/s]\n"
          ]
        },
        {
          "name": "stdout",
          "output_type": "stream",
          "text": [
            "Epoch 22/50, Training Loss: 0.4889, Learning Rate: 0.0004782969\n"
          ]
        },
        {
          "name": "stderr",
          "output_type": "stream",
          "text": [
            "Epoch 23/50: 100%|██████████| 152/152 [00:06<00:00, 22.77it/s]\n"
          ]
        },
        {
          "name": "stdout",
          "output_type": "stream",
          "text": [
            "Epoch 23/50, Training Loss: 0.4585, Learning Rate: 0.00043046721\n"
          ]
        },
        {
          "name": "stderr",
          "output_type": "stream",
          "text": [
            "Epoch 24/50: 100%|██████████| 152/152 [00:04<00:00, 31.90it/s]\n"
          ]
        },
        {
          "name": "stdout",
          "output_type": "stream",
          "text": [
            "Epoch 24/50, Training Loss: 0.4355, Learning Rate: 0.000387420489\n"
          ]
        },
        {
          "name": "stderr",
          "output_type": "stream",
          "text": [
            "Epoch 25/50: 100%|██████████| 152/152 [00:03<00:00, 41.14it/s]\n"
          ]
        },
        {
          "name": "stdout",
          "output_type": "stream",
          "text": [
            "Epoch 25/50, Training Loss: 0.4223, Learning Rate: 0.0003486784401\n"
          ]
        },
        {
          "name": "stderr",
          "output_type": "stream",
          "text": [
            "Epoch 26/50: 100%|██████████| 152/152 [00:03<00:00, 41.10it/s]\n"
          ]
        },
        {
          "name": "stdout",
          "output_type": "stream",
          "text": [
            "Epoch 26/50, Training Loss: 0.4378, Learning Rate: 0.00031381059609000004\n"
          ]
        },
        {
          "name": "stderr",
          "output_type": "stream",
          "text": [
            "Epoch 27/50: 100%|██████████| 152/152 [00:04<00:00, 32.50it/s]\n"
          ]
        },
        {
          "name": "stdout",
          "output_type": "stream",
          "text": [
            "Epoch 27/50, Training Loss: 0.3965, Learning Rate: 0.00028242953648100003\n"
          ]
        },
        {
          "name": "stderr",
          "output_type": "stream",
          "text": [
            "Epoch 28/50: 100%|██████████| 152/152 [00:03<00:00, 41.02it/s]\n"
          ]
        },
        {
          "name": "stdout",
          "output_type": "stream",
          "text": [
            "Epoch 28/50, Training Loss: 0.3957, Learning Rate: 0.00025418658283290005\n"
          ]
        },
        {
          "name": "stderr",
          "output_type": "stream",
          "text": [
            "Epoch 29/50: 100%|██████████| 152/152 [00:03<00:00, 41.78it/s]\n"
          ]
        },
        {
          "name": "stdout",
          "output_type": "stream",
          "text": [
            "Epoch 29/50, Training Loss: 0.3693, Learning Rate: 0.00022876792454961005\n"
          ]
        },
        {
          "name": "stderr",
          "output_type": "stream",
          "text": [
            "Epoch 30/50: 100%|██████████| 152/152 [00:04<00:00, 32.41it/s]\n"
          ]
        },
        {
          "name": "stdout",
          "output_type": "stream",
          "text": [
            "Epoch 30/50, Training Loss: 0.3648, Learning Rate: 0.00020589113209464906\n"
          ]
        },
        {
          "name": "stderr",
          "output_type": "stream",
          "text": [
            "Epoch 31/50: 100%|██████████| 152/152 [00:03<00:00, 41.80it/s]\n"
          ]
        },
        {
          "name": "stdout",
          "output_type": "stream",
          "text": [
            "Epoch 31/50, Training Loss: 0.3541, Learning Rate: 0.00018530201888518417\n"
          ]
        },
        {
          "name": "stderr",
          "output_type": "stream",
          "text": [
            "Epoch 32/50: 100%|██████████| 152/152 [00:03<00:00, 40.96it/s]\n"
          ]
        },
        {
          "name": "stdout",
          "output_type": "stream",
          "text": [
            "Epoch 32/50, Training Loss: 0.3473, Learning Rate: 0.00016677181699666576\n"
          ]
        },
        {
          "name": "stderr",
          "output_type": "stream",
          "text": [
            "Epoch 33/50: 100%|██████████| 152/152 [00:04<00:00, 31.60it/s]\n"
          ]
        },
        {
          "name": "stdout",
          "output_type": "stream",
          "text": [
            "Epoch 33/50, Training Loss: 0.3380, Learning Rate: 0.0001500946352969992\n"
          ]
        },
        {
          "name": "stderr",
          "output_type": "stream",
          "text": [
            "Epoch 34/50: 100%|██████████| 152/152 [00:03<00:00, 41.13it/s]\n"
          ]
        },
        {
          "name": "stdout",
          "output_type": "stream",
          "text": [
            "Epoch 34/50, Training Loss: 0.3293, Learning Rate: 0.0001350851717672993\n"
          ]
        },
        {
          "name": "stderr",
          "output_type": "stream",
          "text": [
            "Epoch 35/50: 100%|██████████| 152/152 [00:03<00:00, 40.56it/s]\n"
          ]
        },
        {
          "name": "stdout",
          "output_type": "stream",
          "text": [
            "Epoch 35/50, Training Loss: 0.3306, Learning Rate: 0.00012157665459056936\n"
          ]
        },
        {
          "name": "stderr",
          "output_type": "stream",
          "text": [
            "Epoch 36/50: 100%|██████████| 152/152 [00:04<00:00, 32.06it/s]\n"
          ]
        },
        {
          "name": "stdout",
          "output_type": "stream",
          "text": [
            "Epoch 36/50, Training Loss: 0.3319, Learning Rate: 0.00010941898913151243\n"
          ]
        },
        {
          "name": "stderr",
          "output_type": "stream",
          "text": [
            "Epoch 37/50: 100%|██████████| 152/152 [00:03<00:00, 41.48it/s]\n"
          ]
        },
        {
          "name": "stdout",
          "output_type": "stream",
          "text": [
            "Epoch 37/50, Training Loss: 0.3187, Learning Rate: 9.847709021836118e-05\n"
          ]
        },
        {
          "name": "stderr",
          "output_type": "stream",
          "text": [
            "Epoch 38/50: 100%|██████████| 152/152 [00:03<00:00, 41.06it/s]\n"
          ]
        },
        {
          "name": "stdout",
          "output_type": "stream",
          "text": [
            "Epoch 38/50, Training Loss: 0.3131, Learning Rate: 8.862938119652506e-05\n"
          ]
        },
        {
          "name": "stderr",
          "output_type": "stream",
          "text": [
            "Epoch 39/50: 100%|██████████| 152/152 [00:05<00:00, 29.88it/s]\n"
          ]
        },
        {
          "name": "stdout",
          "output_type": "stream",
          "text": [
            "Epoch 39/50, Training Loss: 0.3165, Learning Rate: 7.976644307687256e-05\n"
          ]
        },
        {
          "name": "stderr",
          "output_type": "stream",
          "text": [
            "Epoch 40/50: 100%|██████████| 152/152 [00:03<00:00, 40.95it/s]\n"
          ]
        },
        {
          "name": "stdout",
          "output_type": "stream",
          "text": [
            "Epoch 40/50, Training Loss: 0.3099, Learning Rate: 7.17897987691853e-05\n"
          ]
        },
        {
          "name": "stderr",
          "output_type": "stream",
          "text": [
            "Epoch 41/50: 100%|██████████| 152/152 [00:04<00:00, 35.41it/s]\n"
          ]
        },
        {
          "name": "stdout",
          "output_type": "stream",
          "text": [
            "Epoch 41/50, Training Loss: 0.3155, Learning Rate: 6.461081889226677e-05\n"
          ]
        },
        {
          "name": "stderr",
          "output_type": "stream",
          "text": [
            "Epoch 42/50: 100%|██████████| 152/152 [00:04<00:00, 32.33it/s]\n"
          ]
        },
        {
          "name": "stdout",
          "output_type": "stream",
          "text": [
            "Epoch 42/50, Training Loss: 0.3186, Learning Rate: 5.81497370030401e-05\n"
          ]
        },
        {
          "name": "stderr",
          "output_type": "stream",
          "text": [
            "Epoch 43/50: 100%|██████████| 152/152 [00:03<00:00, 41.31it/s]\n"
          ]
        },
        {
          "name": "stdout",
          "output_type": "stream",
          "text": [
            "Epoch 43/50, Training Loss: 0.3020, Learning Rate: 5.233476330273609e-05\n"
          ]
        },
        {
          "name": "stderr",
          "output_type": "stream",
          "text": [
            "Epoch 44/50: 100%|██████████| 152/152 [00:03<00:00, 41.31it/s]\n"
          ]
        },
        {
          "name": "stdout",
          "output_type": "stream",
          "text": [
            "Epoch 44/50, Training Loss: 0.2997, Learning Rate: 4.7101286972462485e-05\n"
          ]
        },
        {
          "name": "stderr",
          "output_type": "stream",
          "text": [
            "Epoch 45/50: 100%|██████████| 152/152 [00:04<00:00, 32.16it/s]\n"
          ]
        },
        {
          "name": "stdout",
          "output_type": "stream",
          "text": [
            "Epoch 45/50, Training Loss: 0.2993, Learning Rate: 4.239115827521624e-05\n"
          ]
        },
        {
          "name": "stderr",
          "output_type": "stream",
          "text": [
            "Epoch 46/50: 100%|██████████| 152/152 [00:03<00:00, 40.59it/s]\n"
          ]
        },
        {
          "name": "stdout",
          "output_type": "stream",
          "text": [
            "Epoch 46/50, Training Loss: 0.2978, Learning Rate: 3.8152042447694614e-05\n"
          ]
        },
        {
          "name": "stderr",
          "output_type": "stream",
          "text": [
            "Epoch 47/50: 100%|██████████| 152/152 [00:03<00:00, 41.50it/s]\n"
          ]
        },
        {
          "name": "stdout",
          "output_type": "stream",
          "text": [
            "Epoch 47/50, Training Loss: 0.2950, Learning Rate: 3.433683820292515e-05\n"
          ]
        },
        {
          "name": "stderr",
          "output_type": "stream",
          "text": [
            "Epoch 48/50: 100%|██████████| 152/152 [00:04<00:00, 32.43it/s]\n"
          ]
        },
        {
          "name": "stdout",
          "output_type": "stream",
          "text": [
            "Epoch 48/50, Training Loss: 0.2921, Learning Rate: 3.090315438263264e-05\n"
          ]
        },
        {
          "name": "stderr",
          "output_type": "stream",
          "text": [
            "Epoch 49/50: 100%|██████████| 152/152 [00:03<00:00, 40.35it/s]\n"
          ]
        },
        {
          "name": "stdout",
          "output_type": "stream",
          "text": [
            "Epoch 49/50, Training Loss: 0.3016, Learning Rate: 2.7812838944369376e-05\n"
          ]
        },
        {
          "name": "stderr",
          "output_type": "stream",
          "text": [
            "Epoch 50/50: 100%|██████████| 152/152 [00:03<00:00, 41.04it/s]"
          ]
        },
        {
          "name": "stdout",
          "output_type": "stream",
          "text": [
            "Epoch 50/50, Training Loss: 0.2941, Learning Rate: 2.503155504993244e-05\n"
          ]
        },
        {
          "name": "stderr",
          "output_type": "stream",
          "text": [
            "\n"
          ]
        }
      ],
      "source": [
        "# Question split\n",
        "# Model init\n",
        "question_linear_tag_model = LinearTagger(\n",
        "  input_dim=question_static_train_val_dataset.get_vector_dim(),\n",
        "  tag_vocab_size=question_static_train_val_dataset.get_tag_vocab_size(),\n",
        "  hidden_sizes=[256,128],\n",
        "  dropout=0\n",
        ")\n",
        "\n",
        "question_linear_classifier_model = LinearClassifier(\n",
        "  input_dim=question_static_train_val_dataset.get_vector_dim(),\n",
        "  sql_vocab_size=question_static_train_val_dataset.get_sql_vocab_size(),\n",
        "  hidden_sizes=[256,128],\n",
        "  dropout=0\n",
        ")\n",
        "# Training\n",
        "question_trained_linear_models = train_dual_model(\n",
        "    tagger_model=question_linear_tag_model,\n",
        "    classifier_model=question_linear_classifier_model,\n",
        "    train_loader=question_static_train_val_loader,\n",
        "    epochs=50,\n",
        "    warmup_epochs=15,\n",
        "    gamma=0.90,\n",
        "    weight_decay=0.06\n",
        ")"
      ]
    },
    {
      "cell_type": "code",
      "execution_count": 54,
      "metadata": {
        "colab": {
          "base_uri": "https://localhost:8080/"
        },
        "id": "TYVsahvUWU6J",
        "outputId": "1b5e934a-dbcc-4ab1-f588-0a9c65d31471"
      },
      "outputs": [
        {
          "name": "stderr",
          "output_type": "stream",
          "text": [
            "Generating SQL queries: 100%|██████████| 14/14 [00:01<00:00,  9.67it/s]"
          ]
        },
        {
          "name": "stdout",
          "output_type": "stream",
          "text": [
            "\n",
            "Accuracy of Linear model on question split test set: 11.19%\n"
          ]
        },
        {
          "name": "stderr",
          "output_type": "stream",
          "text": [
            "\n"
          ]
        }
      ],
      "source": [
        "# Evaluating on the test set to get accuracy\n",
        "question_linear_sql_pipe = SQLPipeline(dataset=question_static_test_dataset,model=list(question_trained_linear_models),embed_type=\"static\")\n",
        "question_linear_results, question_linear_acc = question_linear_sql_pipe.batch_predict(dataloader=question_static_test_loader)\n",
        "print(f\"\\nAccuracy of Linear model on question split test set: {question_linear_acc:.2%}\")"
      ]
    },
    {
      "cell_type": "code",
      "execution_count": 19,
      "metadata": {
        "colab": {
          "base_uri": "https://localhost:8080/"
        },
        "collapsed": true,
        "id": "4Lq78QgxFpfn",
        "outputId": "f2b86d12-3aab-4605-a3a7-d3d5d4d6ed28"
      },
      "outputs": [
        {
          "name": "stderr",
          "output_type": "stream",
          "text": [
            "Epoch 1/50: 100%|██████████| 155/155 [00:04<00:00, 32.66it/s]\n"
          ]
        },
        {
          "name": "stdout",
          "output_type": "stream",
          "text": [
            "Epoch 1/50, Training Loss: 5.5867, Learning Rate: 0.001\n"
          ]
        },
        {
          "name": "stderr",
          "output_type": "stream",
          "text": [
            "Epoch 2/50: 100%|██████████| 155/155 [00:03<00:00, 42.20it/s]\n"
          ]
        },
        {
          "name": "stdout",
          "output_type": "stream",
          "text": [
            "Epoch 2/50, Training Loss: 3.9004, Learning Rate: 0.001\n"
          ]
        },
        {
          "name": "stderr",
          "output_type": "stream",
          "text": [
            "Epoch 3/50: 100%|██████████| 155/155 [00:03<00:00, 41.60it/s]\n"
          ]
        },
        {
          "name": "stdout",
          "output_type": "stream",
          "text": [
            "Epoch 3/50, Training Loss: 3.1378, Learning Rate: 0.001\n"
          ]
        },
        {
          "name": "stderr",
          "output_type": "stream",
          "text": [
            "Epoch 4/50: 100%|██████████| 155/155 [00:04<00:00, 33.30it/s]\n"
          ]
        },
        {
          "name": "stdout",
          "output_type": "stream",
          "text": [
            "Epoch 4/50, Training Loss: 2.6230, Learning Rate: 0.001\n"
          ]
        },
        {
          "name": "stderr",
          "output_type": "stream",
          "text": [
            "Epoch 5/50: 100%|██████████| 155/155 [00:03<00:00, 41.86it/s]\n"
          ]
        },
        {
          "name": "stdout",
          "output_type": "stream",
          "text": [
            "Epoch 5/50, Training Loss: 2.2444, Learning Rate: 0.001\n"
          ]
        },
        {
          "name": "stderr",
          "output_type": "stream",
          "text": [
            "Epoch 6/50: 100%|██████████| 155/155 [00:03<00:00, 42.17it/s]\n"
          ]
        },
        {
          "name": "stdout",
          "output_type": "stream",
          "text": [
            "Epoch 6/50, Training Loss: 1.9717, Learning Rate: 0.001\n"
          ]
        },
        {
          "name": "stderr",
          "output_type": "stream",
          "text": [
            "Epoch 7/50: 100%|██████████| 155/155 [00:04<00:00, 32.97it/s]\n"
          ]
        },
        {
          "name": "stdout",
          "output_type": "stream",
          "text": [
            "Epoch 7/50, Training Loss: 1.7309, Learning Rate: 0.001\n"
          ]
        },
        {
          "name": "stderr",
          "output_type": "stream",
          "text": [
            "Epoch 8/50: 100%|██████████| 155/155 [00:03<00:00, 42.42it/s]\n"
          ]
        },
        {
          "name": "stdout",
          "output_type": "stream",
          "text": [
            "Epoch 8/50, Training Loss: 1.5718, Learning Rate: 0.001\n"
          ]
        },
        {
          "name": "stderr",
          "output_type": "stream",
          "text": [
            "Epoch 9/50: 100%|██████████| 155/155 [00:03<00:00, 41.53it/s]\n"
          ]
        },
        {
          "name": "stdout",
          "output_type": "stream",
          "text": [
            "Epoch 9/50, Training Loss: 1.3889, Learning Rate: 0.001\n"
          ]
        },
        {
          "name": "stderr",
          "output_type": "stream",
          "text": [
            "Epoch 10/50: 100%|██████████| 155/155 [00:04<00:00, 32.69it/s]\n"
          ]
        },
        {
          "name": "stdout",
          "output_type": "stream",
          "text": [
            "Epoch 10/50, Training Loss: 1.2809, Learning Rate: 0.001\n"
          ]
        },
        {
          "name": "stderr",
          "output_type": "stream",
          "text": [
            "Epoch 11/50: 100%|██████████| 155/155 [00:03<00:00, 41.97it/s]\n"
          ]
        },
        {
          "name": "stdout",
          "output_type": "stream",
          "text": [
            "Epoch 11/50, Training Loss: 1.1367, Learning Rate: 0.001\n"
          ]
        },
        {
          "name": "stderr",
          "output_type": "stream",
          "text": [
            "Epoch 12/50: 100%|██████████| 155/155 [00:03<00:00, 42.06it/s]\n"
          ]
        },
        {
          "name": "stdout",
          "output_type": "stream",
          "text": [
            "Epoch 12/50, Training Loss: 1.0326, Learning Rate: 0.001\n"
          ]
        },
        {
          "name": "stderr",
          "output_type": "stream",
          "text": [
            "Epoch 13/50: 100%|██████████| 155/155 [00:04<00:00, 32.74it/s]\n"
          ]
        },
        {
          "name": "stdout",
          "output_type": "stream",
          "text": [
            "Epoch 13/50, Training Loss: 0.9616, Learning Rate: 0.001\n"
          ]
        },
        {
          "name": "stderr",
          "output_type": "stream",
          "text": [
            "Epoch 14/50: 100%|██████████| 155/155 [00:03<00:00, 42.18it/s]\n"
          ]
        },
        {
          "name": "stdout",
          "output_type": "stream",
          "text": [
            "Epoch 14/50, Training Loss: 0.8618, Learning Rate: 0.001\n"
          ]
        },
        {
          "name": "stderr",
          "output_type": "stream",
          "text": [
            "Epoch 15/50: 100%|██████████| 155/155 [00:03<00:00, 42.27it/s]\n"
          ]
        },
        {
          "name": "stdout",
          "output_type": "stream",
          "text": [
            "Epoch 15/50, Training Loss: 0.8195, Learning Rate: 0.001\n"
          ]
        },
        {
          "name": "stderr",
          "output_type": "stream",
          "text": [
            "Epoch 16/50: 100%|██████████| 155/155 [00:04<00:00, 32.61it/s]\n"
          ]
        },
        {
          "name": "stdout",
          "output_type": "stream",
          "text": [
            "Epoch 16/50, Training Loss: 0.7609, Learning Rate: 0.0009000000000000001\n"
          ]
        },
        {
          "name": "stderr",
          "output_type": "stream",
          "text": [
            "Epoch 17/50: 100%|██████████| 155/155 [00:03<00:00, 42.16it/s]\n"
          ]
        },
        {
          "name": "stdout",
          "output_type": "stream",
          "text": [
            "Epoch 17/50, Training Loss: 0.6932, Learning Rate: 0.0008100000000000001\n"
          ]
        },
        {
          "name": "stderr",
          "output_type": "stream",
          "text": [
            "Epoch 18/50: 100%|██████████| 155/155 [00:03<00:00, 41.11it/s]\n"
          ]
        },
        {
          "name": "stdout",
          "output_type": "stream",
          "text": [
            "Epoch 18/50, Training Loss: 0.6179, Learning Rate: 0.000729\n"
          ]
        },
        {
          "name": "stderr",
          "output_type": "stream",
          "text": [
            "Epoch 19/50: 100%|██████████| 155/155 [00:04<00:00, 32.65it/s]\n"
          ]
        },
        {
          "name": "stdout",
          "output_type": "stream",
          "text": [
            "Epoch 19/50, Training Loss: 0.5612, Learning Rate: 0.0006561000000000001\n"
          ]
        },
        {
          "name": "stderr",
          "output_type": "stream",
          "text": [
            "Epoch 20/50: 100%|██████████| 155/155 [00:03<00:00, 41.31it/s]\n"
          ]
        },
        {
          "name": "stdout",
          "output_type": "stream",
          "text": [
            "Epoch 20/50, Training Loss: 0.5237, Learning Rate: 0.00059049\n"
          ]
        },
        {
          "name": "stderr",
          "output_type": "stream",
          "text": [
            "Epoch 21/50: 100%|██████████| 155/155 [00:03<00:00, 41.81it/s]\n"
          ]
        },
        {
          "name": "stdout",
          "output_type": "stream",
          "text": [
            "Epoch 21/50, Training Loss: 0.4910, Learning Rate: 0.000531441\n"
          ]
        },
        {
          "name": "stderr",
          "output_type": "stream",
          "text": [
            "Epoch 22/50: 100%|██████████| 155/155 [00:04<00:00, 33.29it/s]\n"
          ]
        },
        {
          "name": "stdout",
          "output_type": "stream",
          "text": [
            "Epoch 22/50, Training Loss: 0.4641, Learning Rate: 0.0004782969\n"
          ]
        },
        {
          "name": "stderr",
          "output_type": "stream",
          "text": [
            "Epoch 23/50: 100%|██████████| 155/155 [00:03<00:00, 40.93it/s]\n"
          ]
        },
        {
          "name": "stdout",
          "output_type": "stream",
          "text": [
            "Epoch 23/50, Training Loss: 0.4428, Learning Rate: 0.00043046721\n"
          ]
        },
        {
          "name": "stderr",
          "output_type": "stream",
          "text": [
            "Epoch 24/50: 100%|██████████| 155/155 [00:04<00:00, 33.55it/s]\n"
          ]
        },
        {
          "name": "stdout",
          "output_type": "stream",
          "text": [
            "Epoch 24/50, Training Loss: 0.4169, Learning Rate: 0.000387420489\n"
          ]
        },
        {
          "name": "stderr",
          "output_type": "stream",
          "text": [
            "Epoch 25/50: 100%|██████████| 155/155 [00:04<00:00, 32.37it/s]\n"
          ]
        },
        {
          "name": "stdout",
          "output_type": "stream",
          "text": [
            "Epoch 25/50, Training Loss: 0.4014, Learning Rate: 0.0003486784401\n"
          ]
        },
        {
          "name": "stderr",
          "output_type": "stream",
          "text": [
            "Epoch 26/50: 100%|██████████| 155/155 [00:03<00:00, 42.11it/s]\n"
          ]
        },
        {
          "name": "stdout",
          "output_type": "stream",
          "text": [
            "Epoch 26/50, Training Loss: 0.3904, Learning Rate: 0.00031381059609000004\n"
          ]
        },
        {
          "name": "stderr",
          "output_type": "stream",
          "text": [
            "Epoch 27/50: 100%|██████████| 155/155 [00:03<00:00, 42.00it/s]\n"
          ]
        },
        {
          "name": "stdout",
          "output_type": "stream",
          "text": [
            "Epoch 27/50, Training Loss: 0.3775, Learning Rate: 0.00028242953648100003\n"
          ]
        },
        {
          "name": "stderr",
          "output_type": "stream",
          "text": [
            "Epoch 28/50: 100%|██████████| 155/155 [00:04<00:00, 33.05it/s]\n"
          ]
        },
        {
          "name": "stdout",
          "output_type": "stream",
          "text": [
            "Epoch 28/50, Training Loss: 0.3595, Learning Rate: 0.00025418658283290005\n"
          ]
        },
        {
          "name": "stderr",
          "output_type": "stream",
          "text": [
            "Epoch 29/50: 100%|██████████| 155/155 [00:03<00:00, 42.07it/s]\n"
          ]
        },
        {
          "name": "stdout",
          "output_type": "stream",
          "text": [
            "Epoch 29/50, Training Loss: 0.3472, Learning Rate: 0.00022876792454961005\n"
          ]
        },
        {
          "name": "stderr",
          "output_type": "stream",
          "text": [
            "Epoch 30/50: 100%|██████████| 155/155 [00:03<00:00, 41.52it/s]\n"
          ]
        },
        {
          "name": "stdout",
          "output_type": "stream",
          "text": [
            "Epoch 30/50, Training Loss: 0.3423, Learning Rate: 0.00020589113209464906\n"
          ]
        },
        {
          "name": "stderr",
          "output_type": "stream",
          "text": [
            "Epoch 31/50: 100%|██████████| 155/155 [00:04<00:00, 32.64it/s]\n"
          ]
        },
        {
          "name": "stdout",
          "output_type": "stream",
          "text": [
            "Epoch 31/50, Training Loss: 0.3372, Learning Rate: 0.00018530201888518417\n"
          ]
        },
        {
          "name": "stderr",
          "output_type": "stream",
          "text": [
            "Epoch 32/50: 100%|██████████| 155/155 [00:03<00:00, 42.11it/s]\n"
          ]
        },
        {
          "name": "stdout",
          "output_type": "stream",
          "text": [
            "Epoch 32/50, Training Loss: 0.3290, Learning Rate: 0.00016677181699666576\n"
          ]
        },
        {
          "name": "stderr",
          "output_type": "stream",
          "text": [
            "Epoch 33/50: 100%|██████████| 155/155 [00:03<00:00, 41.31it/s]\n"
          ]
        },
        {
          "name": "stdout",
          "output_type": "stream",
          "text": [
            "Epoch 33/50, Training Loss: 0.3204, Learning Rate: 0.0001500946352969992\n"
          ]
        },
        {
          "name": "stderr",
          "output_type": "stream",
          "text": [
            "Epoch 34/50: 100%|██████████| 155/155 [00:04<00:00, 32.69it/s]\n"
          ]
        },
        {
          "name": "stdout",
          "output_type": "stream",
          "text": [
            "Epoch 34/50, Training Loss: 0.3185, Learning Rate: 0.0001350851717672993\n"
          ]
        },
        {
          "name": "stderr",
          "output_type": "stream",
          "text": [
            "Epoch 35/50: 100%|██████████| 155/155 [00:03<00:00, 41.69it/s]\n"
          ]
        },
        {
          "name": "stdout",
          "output_type": "stream",
          "text": [
            "Epoch 35/50, Training Loss: 0.3135, Learning Rate: 0.00012157665459056936\n"
          ]
        },
        {
          "name": "stderr",
          "output_type": "stream",
          "text": [
            "Epoch 36/50: 100%|██████████| 155/155 [00:03<00:00, 41.96it/s]\n"
          ]
        },
        {
          "name": "stdout",
          "output_type": "stream",
          "text": [
            "Epoch 36/50, Training Loss: 0.3097, Learning Rate: 0.00010941898913151243\n"
          ]
        },
        {
          "name": "stderr",
          "output_type": "stream",
          "text": [
            "Epoch 37/50: 100%|██████████| 155/155 [00:04<00:00, 32.84it/s]\n"
          ]
        },
        {
          "name": "stdout",
          "output_type": "stream",
          "text": [
            "Epoch 37/50, Training Loss: 0.3090, Learning Rate: 9.847709021836118e-05\n"
          ]
        },
        {
          "name": "stderr",
          "output_type": "stream",
          "text": [
            "Epoch 38/50: 100%|██████████| 155/155 [00:03<00:00, 41.21it/s]\n"
          ]
        },
        {
          "name": "stdout",
          "output_type": "stream",
          "text": [
            "Epoch 38/50, Training Loss: 0.3044, Learning Rate: 8.862938119652506e-05\n"
          ]
        },
        {
          "name": "stderr",
          "output_type": "stream",
          "text": [
            "Epoch 39/50: 100%|██████████| 155/155 [00:03<00:00, 42.33it/s]\n"
          ]
        },
        {
          "name": "stdout",
          "output_type": "stream",
          "text": [
            "Epoch 39/50, Training Loss: 0.3008, Learning Rate: 7.976644307687256e-05\n"
          ]
        },
        {
          "name": "stderr",
          "output_type": "stream",
          "text": [
            "Epoch 40/50: 100%|██████████| 155/155 [00:04<00:00, 32.57it/s]\n"
          ]
        },
        {
          "name": "stdout",
          "output_type": "stream",
          "text": [
            "Epoch 40/50, Training Loss: 0.2952, Learning Rate: 7.17897987691853e-05\n"
          ]
        },
        {
          "name": "stderr",
          "output_type": "stream",
          "text": [
            "Epoch 41/50: 100%|██████████| 155/155 [00:03<00:00, 41.90it/s]\n"
          ]
        },
        {
          "name": "stdout",
          "output_type": "stream",
          "text": [
            "Epoch 41/50, Training Loss: 0.2947, Learning Rate: 6.461081889226677e-05\n"
          ]
        },
        {
          "name": "stderr",
          "output_type": "stream",
          "text": [
            "Epoch 42/50: 100%|██████████| 155/155 [00:03<00:00, 42.22it/s]\n"
          ]
        },
        {
          "name": "stdout",
          "output_type": "stream",
          "text": [
            "Epoch 42/50, Training Loss: 0.2894, Learning Rate: 5.81497370030401e-05\n"
          ]
        },
        {
          "name": "stderr",
          "output_type": "stream",
          "text": [
            "Epoch 43/50: 100%|██████████| 155/155 [00:04<00:00, 32.54it/s]\n"
          ]
        },
        {
          "name": "stdout",
          "output_type": "stream",
          "text": [
            "Epoch 43/50, Training Loss: 0.2874, Learning Rate: 5.233476330273609e-05\n"
          ]
        },
        {
          "name": "stderr",
          "output_type": "stream",
          "text": [
            "Epoch 44/50: 100%|██████████| 155/155 [00:03<00:00, 41.62it/s]\n"
          ]
        },
        {
          "name": "stdout",
          "output_type": "stream",
          "text": [
            "Epoch 44/50, Training Loss: 0.2875, Learning Rate: 4.7101286972462485e-05\n"
          ]
        },
        {
          "name": "stderr",
          "output_type": "stream",
          "text": [
            "Epoch 45/50: 100%|██████████| 155/155 [00:03<00:00, 41.51it/s]\n"
          ]
        },
        {
          "name": "stdout",
          "output_type": "stream",
          "text": [
            "Epoch 45/50, Training Loss: 0.2856, Learning Rate: 4.239115827521624e-05\n"
          ]
        },
        {
          "name": "stderr",
          "output_type": "stream",
          "text": [
            "Epoch 46/50: 100%|██████████| 155/155 [00:04<00:00, 32.83it/s]\n"
          ]
        },
        {
          "name": "stdout",
          "output_type": "stream",
          "text": [
            "Epoch 46/50, Training Loss: 0.2828, Learning Rate: 3.8152042447694614e-05\n"
          ]
        },
        {
          "name": "stderr",
          "output_type": "stream",
          "text": [
            "Epoch 47/50: 100%|██████████| 155/155 [00:03<00:00, 42.02it/s]\n"
          ]
        },
        {
          "name": "stdout",
          "output_type": "stream",
          "text": [
            "Epoch 47/50, Training Loss: 0.2821, Learning Rate: 3.433683820292515e-05\n"
          ]
        },
        {
          "name": "stderr",
          "output_type": "stream",
          "text": [
            "Epoch 48/50: 100%|██████████| 155/155 [00:03<00:00, 41.25it/s]\n"
          ]
        },
        {
          "name": "stdout",
          "output_type": "stream",
          "text": [
            "Epoch 48/50, Training Loss: 0.2810, Learning Rate: 3.090315438263264e-05\n"
          ]
        },
        {
          "name": "stderr",
          "output_type": "stream",
          "text": [
            "Epoch 49/50: 100%|██████████| 155/155 [00:04<00:00, 32.91it/s]\n"
          ]
        },
        {
          "name": "stdout",
          "output_type": "stream",
          "text": [
            "Epoch 49/50, Training Loss: 0.2774, Learning Rate: 2.7812838944369376e-05\n"
          ]
        },
        {
          "name": "stderr",
          "output_type": "stream",
          "text": [
            "Epoch 50/50: 100%|██████████| 155/155 [00:03<00:00, 41.27it/s]"
          ]
        },
        {
          "name": "stdout",
          "output_type": "stream",
          "text": [
            "Epoch 50/50, Training Loss: 0.2798, Learning Rate: 2.503155504993244e-05\n"
          ]
        },
        {
          "name": "stderr",
          "output_type": "stream",
          "text": [
            "\n"
          ]
        }
      ],
      "source": [
        "# Query split\n",
        "# Model init\n",
        "query_linear_tag_model = LinearTagger(\n",
        "  input_dim=query_static_train_val_dataset.get_vector_dim(),\n",
        "  tag_vocab_size=query_static_train_val_dataset.get_tag_vocab_size(),\n",
        "  hidden_sizes=[256,128]\n",
        ")\n",
        "\n",
        "query_linear_classifier_model = LinearClassifier(\n",
        "  input_dim=query_static_train_val_dataset.get_vector_dim(),\n",
        "  sql_vocab_size=query_static_train_val_dataset.get_sql_vocab_size(),\n",
        "  hidden_sizes=[256,128]\n",
        ")\n",
        "# Training\n",
        "query_trained_linear_models = train_dual_model(\n",
        "    tagger_model=query_linear_tag_model,\n",
        "    classifier_model=query_linear_classifier_model,\n",
        "    train_loader=query_static_train_val_loader,\n",
        "    epochs=50,\n",
        "    warmup_epochs=15,\n",
        "    gamma=0.90,\n",
        "    weight_decay=0.06\n",
        ")"
      ]
    },
    {
      "cell_type": "code",
      "execution_count": 20,
      "metadata": {
        "colab": {
          "base_uri": "https://localhost:8080/"
        },
        "id": "J1dEpMQzYzM3",
        "outputId": "c95cee89-69e6-4162-b1f8-ccc203e94fd2"
      },
      "outputs": [
        {
          "name": "stderr",
          "output_type": "stream",
          "text": [
            "Generating SQL queries: 100%|██████████| 11/11 [00:01<00:00,  9.63it/s]"
          ]
        },
        {
          "name": "stdout",
          "output_type": "stream",
          "text": [
            "\n",
            "Accuracy of Linear model on query split test set: 0.00%\n"
          ]
        },
        {
          "name": "stderr",
          "output_type": "stream",
          "text": [
            "\n"
          ]
        }
      ],
      "source": [
        "# Evaluating on the test set to get accuracy\n",
        "query_linear_sql_pipe = SQLPipeline(dataset=query_static_test_dataset,model=list(query_trained_linear_models),embed_type=\"static\")\n",
        "query_linear_results, query_linear_acc = query_linear_sql_pipe.batch_predict(dataloader=query_static_test_loader)\n",
        "print(f\"\\nAccuracy of Linear model on query split test set: {query_linear_acc:.2%}\")"
      ]
    },
    {
      "cell_type": "markdown",
      "metadata": {
        "id": "PgFMUPhoGbjM"
      },
      "source": [
        "### Training Feedforward models using question and query split"
      ]
    },
    {
      "cell_type": "code",
      "execution_count": 21,
      "metadata": {
        "colab": {
          "base_uri": "https://localhost:8080/"
        },
        "collapsed": true,
        "id": "EUc0kAMcGYhq",
        "outputId": "bdf05c75-242f-4904-a622-e0e143e12970"
      },
      "outputs": [
        {
          "name": "stderr",
          "output_type": "stream",
          "text": [
            "Epoch 1/50: 100%|██████████| 152/152 [00:01<00:00, 114.22it/s]\n"
          ]
        },
        {
          "name": "stdout",
          "output_type": "stream",
          "text": [
            "Epoch 1/50, Training Loss: 5.3318, Learning Rate: 0.001\n"
          ]
        },
        {
          "name": "stderr",
          "output_type": "stream",
          "text": [
            "Epoch 2/50: 100%|██████████| 152/152 [00:01<00:00, 122.48it/s]\n"
          ]
        },
        {
          "name": "stdout",
          "output_type": "stream",
          "text": [
            "Epoch 2/50, Training Loss: 4.1862, Learning Rate: 0.001\n"
          ]
        },
        {
          "name": "stderr",
          "output_type": "stream",
          "text": [
            "Epoch 3/50: 100%|██████████| 152/152 [00:01<00:00, 128.88it/s]\n"
          ]
        },
        {
          "name": "stdout",
          "output_type": "stream",
          "text": [
            "Epoch 3/50, Training Loss: 3.6233, Learning Rate: 0.001\n"
          ]
        },
        {
          "name": "stderr",
          "output_type": "stream",
          "text": [
            "Epoch 4/50: 100%|██████████| 152/152 [00:01<00:00, 117.22it/s]\n"
          ]
        },
        {
          "name": "stdout",
          "output_type": "stream",
          "text": [
            "Epoch 4/50, Training Loss: 3.2546, Learning Rate: 0.001\n"
          ]
        },
        {
          "name": "stderr",
          "output_type": "stream",
          "text": [
            "Epoch 5/50: 100%|██████████| 152/152 [00:01<00:00, 88.35it/s]\n"
          ]
        },
        {
          "name": "stdout",
          "output_type": "stream",
          "text": [
            "Epoch 5/50, Training Loss: 2.8786, Learning Rate: 0.001\n"
          ]
        },
        {
          "name": "stderr",
          "output_type": "stream",
          "text": [
            "Epoch 6/50: 100%|██████████| 152/152 [00:01<00:00, 125.39it/s]\n"
          ]
        },
        {
          "name": "stdout",
          "output_type": "stream",
          "text": [
            "Epoch 6/50, Training Loss: 2.5936, Learning Rate: 0.001\n"
          ]
        },
        {
          "name": "stderr",
          "output_type": "stream",
          "text": [
            "Epoch 7/50: 100%|██████████| 152/152 [00:01<00:00, 127.26it/s]\n"
          ]
        },
        {
          "name": "stdout",
          "output_type": "stream",
          "text": [
            "Epoch 7/50, Training Loss: 2.3862, Learning Rate: 0.001\n"
          ]
        },
        {
          "name": "stderr",
          "output_type": "stream",
          "text": [
            "Epoch 8/50: 100%|██████████| 152/152 [00:01<00:00, 127.04it/s]\n"
          ]
        },
        {
          "name": "stdout",
          "output_type": "stream",
          "text": [
            "Epoch 8/50, Training Loss: 2.2397, Learning Rate: 0.001\n"
          ]
        },
        {
          "name": "stderr",
          "output_type": "stream",
          "text": [
            "Epoch 9/50: 100%|██████████| 152/152 [00:01<00:00, 127.88it/s]\n"
          ]
        },
        {
          "name": "stdout",
          "output_type": "stream",
          "text": [
            "Epoch 9/50, Training Loss: 2.0319, Learning Rate: 0.001\n"
          ]
        },
        {
          "name": "stderr",
          "output_type": "stream",
          "text": [
            "Epoch 10/50: 100%|██████████| 152/152 [00:01<00:00, 128.13it/s]\n"
          ]
        },
        {
          "name": "stdout",
          "output_type": "stream",
          "text": [
            "Epoch 10/50, Training Loss: 1.7857, Learning Rate: 0.001\n"
          ]
        },
        {
          "name": "stderr",
          "output_type": "stream",
          "text": [
            "Epoch 11/50: 100%|██████████| 152/152 [00:01<00:00, 126.40it/s]\n"
          ]
        },
        {
          "name": "stdout",
          "output_type": "stream",
          "text": [
            "Epoch 11/50, Training Loss: 1.5876, Learning Rate: 0.001\n"
          ]
        },
        {
          "name": "stderr",
          "output_type": "stream",
          "text": [
            "Epoch 12/50: 100%|██████████| 152/152 [00:01<00:00, 127.45it/s]\n"
          ]
        },
        {
          "name": "stdout",
          "output_type": "stream",
          "text": [
            "Epoch 12/50, Training Loss: 1.6007, Learning Rate: 0.001\n"
          ]
        },
        {
          "name": "stderr",
          "output_type": "stream",
          "text": [
            "Epoch 13/50: 100%|██████████| 152/152 [00:01<00:00, 127.94it/s]\n"
          ]
        },
        {
          "name": "stdout",
          "output_type": "stream",
          "text": [
            "Epoch 13/50, Training Loss: 1.3261, Learning Rate: 0.001\n"
          ]
        },
        {
          "name": "stderr",
          "output_type": "stream",
          "text": [
            "Epoch 14/50: 100%|██████████| 152/152 [00:01<00:00, 102.04it/s]\n"
          ]
        },
        {
          "name": "stdout",
          "output_type": "stream",
          "text": [
            "Epoch 14/50, Training Loss: 1.3415, Learning Rate: 0.001\n"
          ]
        },
        {
          "name": "stderr",
          "output_type": "stream",
          "text": [
            "Epoch 15/50: 100%|██████████| 152/152 [00:01<00:00, 91.62it/s] \n"
          ]
        },
        {
          "name": "stdout",
          "output_type": "stream",
          "text": [
            "Epoch 15/50, Training Loss: 1.1497, Learning Rate: 0.001\n"
          ]
        },
        {
          "name": "stderr",
          "output_type": "stream",
          "text": [
            "Epoch 16/50: 100%|██████████| 152/152 [00:01<00:00, 128.56it/s]\n"
          ]
        },
        {
          "name": "stdout",
          "output_type": "stream",
          "text": [
            "Epoch 16/50, Training Loss: 1.0896, Learning Rate: 0.00095\n"
          ]
        },
        {
          "name": "stderr",
          "output_type": "stream",
          "text": [
            "Epoch 17/50: 100%|██████████| 152/152 [00:01<00:00, 130.72it/s]\n"
          ]
        },
        {
          "name": "stdout",
          "output_type": "stream",
          "text": [
            "Epoch 17/50, Training Loss: 0.9218, Learning Rate: 0.0009025\n"
          ]
        },
        {
          "name": "stderr",
          "output_type": "stream",
          "text": [
            "Epoch 18/50: 100%|██████████| 152/152 [00:01<00:00, 129.41it/s]\n"
          ]
        },
        {
          "name": "stdout",
          "output_type": "stream",
          "text": [
            "Epoch 18/50, Training Loss: 0.8808, Learning Rate: 0.000857375\n"
          ]
        },
        {
          "name": "stderr",
          "output_type": "stream",
          "text": [
            "Epoch 19/50: 100%|██████████| 152/152 [00:01<00:00, 129.71it/s]\n"
          ]
        },
        {
          "name": "stdout",
          "output_type": "stream",
          "text": [
            "Epoch 19/50, Training Loss: 0.8029, Learning Rate: 0.0008145062499999999\n"
          ]
        },
        {
          "name": "stderr",
          "output_type": "stream",
          "text": [
            "Epoch 20/50: 100%|██████████| 152/152 [00:01<00:00, 127.82it/s]\n"
          ]
        },
        {
          "name": "stdout",
          "output_type": "stream",
          "text": [
            "Epoch 20/50, Training Loss: 0.7328, Learning Rate: 0.0007737809374999998\n"
          ]
        },
        {
          "name": "stderr",
          "output_type": "stream",
          "text": [
            "Epoch 21/50: 100%|██████████| 152/152 [00:01<00:00, 129.15it/s]\n"
          ]
        },
        {
          "name": "stdout",
          "output_type": "stream",
          "text": [
            "Epoch 21/50, Training Loss: 0.7455, Learning Rate: 0.0007350918906249997\n"
          ]
        },
        {
          "name": "stderr",
          "output_type": "stream",
          "text": [
            "Epoch 22/50: 100%|██████████| 152/152 [00:01<00:00, 129.51it/s]\n"
          ]
        },
        {
          "name": "stdout",
          "output_type": "stream",
          "text": [
            "Epoch 22/50, Training Loss: 0.6283, Learning Rate: 0.0006983372960937497\n"
          ]
        },
        {
          "name": "stderr",
          "output_type": "stream",
          "text": [
            "Epoch 23/50: 100%|██████████| 152/152 [00:01<00:00, 125.77it/s]\n"
          ]
        },
        {
          "name": "stdout",
          "output_type": "stream",
          "text": [
            "Epoch 23/50, Training Loss: 0.5581, Learning Rate: 0.0006634204312890621\n"
          ]
        },
        {
          "name": "stderr",
          "output_type": "stream",
          "text": [
            "Epoch 24/50: 100%|██████████| 152/152 [00:01<00:00, 94.12it/s]\n"
          ]
        },
        {
          "name": "stdout",
          "output_type": "stream",
          "text": [
            "Epoch 24/50, Training Loss: 0.5138, Learning Rate: 0.000630249409724609\n"
          ]
        },
        {
          "name": "stderr",
          "output_type": "stream",
          "text": [
            "Epoch 25/50: 100%|██████████| 152/152 [00:01<00:00, 101.61it/s]\n"
          ]
        },
        {
          "name": "stdout",
          "output_type": "stream",
          "text": [
            "Epoch 25/50, Training Loss: 0.4663, Learning Rate: 0.0005987369392383785\n"
          ]
        },
        {
          "name": "stderr",
          "output_type": "stream",
          "text": [
            "Epoch 26/50: 100%|██████████| 152/152 [00:01<00:00, 125.83it/s]\n"
          ]
        },
        {
          "name": "stdout",
          "output_type": "stream",
          "text": [
            "Epoch 26/50, Training Loss: 0.4706, Learning Rate: 0.0005688000922764595\n"
          ]
        },
        {
          "name": "stderr",
          "output_type": "stream",
          "text": [
            "Epoch 27/50: 100%|██████████| 152/152 [00:01<00:00, 126.34it/s]\n"
          ]
        },
        {
          "name": "stdout",
          "output_type": "stream",
          "text": [
            "Epoch 27/50, Training Loss: 0.5406, Learning Rate: 0.0005403600876626365\n"
          ]
        },
        {
          "name": "stderr",
          "output_type": "stream",
          "text": [
            "Epoch 28/50: 100%|██████████| 152/152 [00:01<00:00, 126.06it/s]\n"
          ]
        },
        {
          "name": "stdout",
          "output_type": "stream",
          "text": [
            "Epoch 28/50, Training Loss: 0.4185, Learning Rate: 0.0005133420832795047\n"
          ]
        },
        {
          "name": "stderr",
          "output_type": "stream",
          "text": [
            "Epoch 29/50: 100%|██████████| 152/152 [00:01<00:00, 121.36it/s]\n"
          ]
        },
        {
          "name": "stdout",
          "output_type": "stream",
          "text": [
            "Epoch 29/50, Training Loss: 0.4068, Learning Rate: 0.00048767497911552944\n"
          ]
        },
        {
          "name": "stderr",
          "output_type": "stream",
          "text": [
            "Epoch 30/50: 100%|██████████| 152/152 [00:01<00:00, 122.07it/s]\n"
          ]
        },
        {
          "name": "stdout",
          "output_type": "stream",
          "text": [
            "Epoch 30/50, Training Loss: 0.3707, Learning Rate: 0.00046329123015975297\n"
          ]
        },
        {
          "name": "stderr",
          "output_type": "stream",
          "text": [
            "Epoch 31/50: 100%|██████████| 152/152 [00:01<00:00, 121.08it/s]\n"
          ]
        },
        {
          "name": "stdout",
          "output_type": "stream",
          "text": [
            "Epoch 31/50, Training Loss: 0.3344, Learning Rate: 0.0004401266686517653\n"
          ]
        },
        {
          "name": "stderr",
          "output_type": "stream",
          "text": [
            "Epoch 32/50: 100%|██████████| 152/152 [00:01<00:00, 124.16it/s]\n"
          ]
        },
        {
          "name": "stdout",
          "output_type": "stream",
          "text": [
            "Epoch 32/50, Training Loss: 0.3237, Learning Rate: 0.00041812033521917703\n"
          ]
        },
        {
          "name": "stderr",
          "output_type": "stream",
          "text": [
            "Epoch 33/50: 100%|██████████| 152/152 [00:01<00:00, 106.46it/s]\n"
          ]
        },
        {
          "name": "stdout",
          "output_type": "stream",
          "text": [
            "Epoch 33/50, Training Loss: 0.3143, Learning Rate: 0.00039721431845821814\n"
          ]
        },
        {
          "name": "stderr",
          "output_type": "stream",
          "text": [
            "Epoch 34/50: 100%|██████████| 152/152 [00:01<00:00, 89.76it/s]\n"
          ]
        },
        {
          "name": "stdout",
          "output_type": "stream",
          "text": [
            "Epoch 34/50, Training Loss: 0.2877, Learning Rate: 0.0003773536025353072\n"
          ]
        },
        {
          "name": "stderr",
          "output_type": "stream",
          "text": [
            "Epoch 35/50: 100%|██████████| 152/152 [00:01<00:00, 127.05it/s]\n"
          ]
        },
        {
          "name": "stdout",
          "output_type": "stream",
          "text": [
            "Epoch 35/50, Training Loss: 0.2825, Learning Rate: 0.0003584859224085418\n"
          ]
        },
        {
          "name": "stderr",
          "output_type": "stream",
          "text": [
            "Epoch 36/50: 100%|██████████| 152/152 [00:01<00:00, 125.42it/s]\n"
          ]
        },
        {
          "name": "stdout",
          "output_type": "stream",
          "text": [
            "Epoch 36/50, Training Loss: 0.2770, Learning Rate: 0.0003405616262881147\n"
          ]
        },
        {
          "name": "stderr",
          "output_type": "stream",
          "text": [
            "Epoch 37/50: 100%|██████████| 152/152 [00:01<00:00, 128.64it/s]\n"
          ]
        },
        {
          "name": "stdout",
          "output_type": "stream",
          "text": [
            "Epoch 37/50, Training Loss: 0.2772, Learning Rate: 0.00032353354497370894\n"
          ]
        },
        {
          "name": "stderr",
          "output_type": "stream",
          "text": [
            "Epoch 38/50: 100%|██████████| 152/152 [00:01<00:00, 120.76it/s]\n"
          ]
        },
        {
          "name": "stdout",
          "output_type": "stream",
          "text": [
            "Epoch 38/50, Training Loss: 0.2740, Learning Rate: 0.00030735686772502346\n"
          ]
        },
        {
          "name": "stderr",
          "output_type": "stream",
          "text": [
            "Epoch 39/50: 100%|██████████| 152/152 [00:01<00:00, 126.61it/s]\n"
          ]
        },
        {
          "name": "stdout",
          "output_type": "stream",
          "text": [
            "Epoch 39/50, Training Loss: 0.2929, Learning Rate: 0.00029198902433877225\n"
          ]
        },
        {
          "name": "stderr",
          "output_type": "stream",
          "text": [
            "Epoch 40/50: 100%|██████████| 152/152 [00:01<00:00, 128.09it/s]\n"
          ]
        },
        {
          "name": "stdout",
          "output_type": "stream",
          "text": [
            "Epoch 40/50, Training Loss: 0.2554, Learning Rate: 0.00027738957312183364\n"
          ]
        },
        {
          "name": "stderr",
          "output_type": "stream",
          "text": [
            "Epoch 41/50: 100%|██████████| 152/152 [00:01<00:00, 130.35it/s]\n"
          ]
        },
        {
          "name": "stdout",
          "output_type": "stream",
          "text": [
            "Epoch 41/50, Training Loss: 0.2265, Learning Rate: 0.0002635200944657419\n"
          ]
        },
        {
          "name": "stderr",
          "output_type": "stream",
          "text": [
            "Epoch 42/50: 100%|██████████| 152/152 [00:01<00:00, 126.30it/s]\n"
          ]
        },
        {
          "name": "stdout",
          "output_type": "stream",
          "text": [
            "Epoch 42/50, Training Loss: 0.2191, Learning Rate: 0.0002503440897424548\n"
          ]
        },
        {
          "name": "stderr",
          "output_type": "stream",
          "text": [
            "Epoch 43/50: 100%|██████████| 152/152 [00:01<00:00, 95.53it/s]\n"
          ]
        },
        {
          "name": "stdout",
          "output_type": "stream",
          "text": [
            "Epoch 43/50, Training Loss: 0.2124, Learning Rate: 0.00023782688525533205\n"
          ]
        },
        {
          "name": "stderr",
          "output_type": "stream",
          "text": [
            "Epoch 44/50: 100%|██████████| 152/152 [00:01<00:00, 101.68it/s]\n"
          ]
        },
        {
          "name": "stdout",
          "output_type": "stream",
          "text": [
            "Epoch 44/50, Training Loss: 0.2035, Learning Rate: 0.00022593554099256544\n"
          ]
        },
        {
          "name": "stderr",
          "output_type": "stream",
          "text": [
            "Epoch 45/50: 100%|██████████| 152/152 [00:01<00:00, 127.11it/s]\n"
          ]
        },
        {
          "name": "stdout",
          "output_type": "stream",
          "text": [
            "Epoch 45/50, Training Loss: 0.2212, Learning Rate: 0.00021463876394293716\n"
          ]
        },
        {
          "name": "stderr",
          "output_type": "stream",
          "text": [
            "Epoch 46/50: 100%|██████████| 152/152 [00:01<00:00, 127.59it/s]\n"
          ]
        },
        {
          "name": "stdout",
          "output_type": "stream",
          "text": [
            "Epoch 46/50, Training Loss: 0.2237, Learning Rate: 0.0002039068257457903\n"
          ]
        },
        {
          "name": "stderr",
          "output_type": "stream",
          "text": [
            "Epoch 47/50: 100%|██████████| 152/152 [00:01<00:00, 125.57it/s]\n"
          ]
        },
        {
          "name": "stdout",
          "output_type": "stream",
          "text": [
            "Epoch 47/50, Training Loss: 0.1863, Learning Rate: 0.00019371148445850077\n"
          ]
        },
        {
          "name": "stderr",
          "output_type": "stream",
          "text": [
            "Epoch 48/50: 100%|██████████| 152/152 [00:01<00:00, 127.67it/s]\n"
          ]
        },
        {
          "name": "stdout",
          "output_type": "stream",
          "text": [
            "Epoch 48/50, Training Loss: 0.1956, Learning Rate: 0.00018402591023557573\n"
          ]
        },
        {
          "name": "stderr",
          "output_type": "stream",
          "text": [
            "Epoch 49/50: 100%|██████████| 152/152 [00:01<00:00, 127.90it/s]\n"
          ]
        },
        {
          "name": "stdout",
          "output_type": "stream",
          "text": [
            "Epoch 49/50, Training Loss: 0.1904, Learning Rate: 0.00017482461472379692\n"
          ]
        },
        {
          "name": "stderr",
          "output_type": "stream",
          "text": [
            "Epoch 50/50: 100%|██████████| 152/152 [00:01<00:00, 126.84it/s]"
          ]
        },
        {
          "name": "stdout",
          "output_type": "stream",
          "text": [
            "Epoch 50/50, Training Loss: 0.1799, Learning Rate: 0.00016608338398760707\n"
          ]
        },
        {
          "name": "stderr",
          "output_type": "stream",
          "text": [
            "\n"
          ]
        }
      ],
      "source": [
        "# Question split\n",
        "# Model init\n",
        "question_ff_tag_model = FFTagger(input_dim=question_context_train_val_dataset.get_vector_dim(),\n",
        "    tag_vocab_size=question_context_train_val_dataset.get_tag_vocab_size(),\n",
        "    hidden_sizes=[512,256,128],\n",
        "    dropout=0.2\n",
        "    )\n",
        "question_ff_classifier_model = FFClassifier(\n",
        "    input_dim=question_context_train_val_dataset.get_vector_dim(),\n",
        "    sql_vocab_size=question_context_train_val_dataset.get_sql_vocab_size(),\n",
        "    hidden_sizes=[512,256,128],\n",
        "    dropout=0.2\n",
        "    )\n",
        "# Training\n",
        "question_trained_ff_model = train_dual_model(\n",
        "    tagger_model=question_ff_tag_model,\n",
        "    classifier_model=question_ff_classifier_model,\n",
        "    train_loader=question_context_train_val_loader,\n",
        "    epochs=50,\n",
        "    warmup_epochs=15,\n",
        "    gamma=0.95\n",
        ")"
      ]
    },
    {
      "cell_type": "code",
      "execution_count": 22,
      "metadata": {
        "colab": {
          "base_uri": "https://localhost:8080/"
        },
        "id": "CE0l4OMZaSyV",
        "outputId": "7586a769-236f-4c0c-e0a3-bbf35604bec9"
      },
      "outputs": [
        {
          "name": "stderr",
          "output_type": "stream",
          "text": [
            "Generating SQL queries: 100%|██████████| 14/14 [00:00<00:00, 17.93it/s]"
          ]
        },
        {
          "name": "stdout",
          "output_type": "stream",
          "text": [
            "\n",
            "Accuracy of Feedforward model on question split test set: 19.02%\n"
          ]
        },
        {
          "name": "stderr",
          "output_type": "stream",
          "text": [
            "\n"
          ]
        }
      ],
      "source": [
        "# Evaluating on the test set to get accuracy\n",
        "question_ff_sql_pipe = SQLPipeline(dataset=question_context_test_dataset,model=list(question_trained_ff_model),embed_type=\"context\")\n",
        "question_ff_results, question_ff_acc = question_ff_sql_pipe.batch_predict(dataloader=question_context_test_loader)\n",
        "print(f\"\\nAccuracy of Feedforward model on question split test set: {question_ff_acc:.2%}\")"
      ]
    },
    {
      "cell_type": "code",
      "execution_count": 23,
      "metadata": {
        "colab": {
          "base_uri": "https://localhost:8080/"
        },
        "collapsed": true,
        "id": "TD7FaYwMHWhs",
        "outputId": "3d2ecbbc-19ce-4e47-ed89-6d3609cf2482"
      },
      "outputs": [
        {
          "name": "stderr",
          "output_type": "stream",
          "text": [
            "Epoch 1/50: 100%|██████████| 155/155 [00:01<00:00, 129.32it/s]\n"
          ]
        },
        {
          "name": "stdout",
          "output_type": "stream",
          "text": [
            "Epoch 1/50, Training Loss: 5.2312, Learning Rate: 0.001\n"
          ]
        },
        {
          "name": "stderr",
          "output_type": "stream",
          "text": [
            "Epoch 2/50: 100%|██████████| 155/155 [00:01<00:00, 93.26it/s]\n"
          ]
        },
        {
          "name": "stdout",
          "output_type": "stream",
          "text": [
            "Epoch 2/50, Training Loss: 4.0993, Learning Rate: 0.001\n"
          ]
        },
        {
          "name": "stderr",
          "output_type": "stream",
          "text": [
            "Epoch 3/50: 100%|██████████| 155/155 [00:01<00:00, 106.12it/s]\n"
          ]
        },
        {
          "name": "stdout",
          "output_type": "stream",
          "text": [
            "Epoch 3/50, Training Loss: 3.5747, Learning Rate: 0.001\n"
          ]
        },
        {
          "name": "stderr",
          "output_type": "stream",
          "text": [
            "Epoch 4/50: 100%|██████████| 155/155 [00:01<00:00, 124.48it/s]\n"
          ]
        },
        {
          "name": "stdout",
          "output_type": "stream",
          "text": [
            "Epoch 4/50, Training Loss: 3.1633, Learning Rate: 0.001\n"
          ]
        },
        {
          "name": "stderr",
          "output_type": "stream",
          "text": [
            "Epoch 5/50: 100%|██████████| 155/155 [00:01<00:00, 127.48it/s]\n"
          ]
        },
        {
          "name": "stdout",
          "output_type": "stream",
          "text": [
            "Epoch 5/50, Training Loss: 2.8374, Learning Rate: 0.001\n"
          ]
        },
        {
          "name": "stderr",
          "output_type": "stream",
          "text": [
            "Epoch 6/50: 100%|██████████| 155/155 [00:01<00:00, 129.48it/s]\n"
          ]
        },
        {
          "name": "stdout",
          "output_type": "stream",
          "text": [
            "Epoch 6/50, Training Loss: 2.5575, Learning Rate: 0.001\n"
          ]
        },
        {
          "name": "stderr",
          "output_type": "stream",
          "text": [
            "Epoch 7/50: 100%|██████████| 155/155 [00:01<00:00, 129.24it/s]\n"
          ]
        },
        {
          "name": "stdout",
          "output_type": "stream",
          "text": [
            "Epoch 7/50, Training Loss: 2.3032, Learning Rate: 0.001\n"
          ]
        },
        {
          "name": "stderr",
          "output_type": "stream",
          "text": [
            "Epoch 8/50: 100%|██████████| 155/155 [00:01<00:00, 128.41it/s]\n"
          ]
        },
        {
          "name": "stdout",
          "output_type": "stream",
          "text": [
            "Epoch 8/50, Training Loss: 2.0985, Learning Rate: 0.001\n"
          ]
        },
        {
          "name": "stderr",
          "output_type": "stream",
          "text": [
            "Epoch 9/50: 100%|██████████| 155/155 [00:01<00:00, 127.72it/s]\n"
          ]
        },
        {
          "name": "stdout",
          "output_type": "stream",
          "text": [
            "Epoch 9/50, Training Loss: 1.8702, Learning Rate: 0.001\n"
          ]
        },
        {
          "name": "stderr",
          "output_type": "stream",
          "text": [
            "Epoch 10/50: 100%|██████████| 155/155 [00:01<00:00, 127.90it/s]\n"
          ]
        },
        {
          "name": "stdout",
          "output_type": "stream",
          "text": [
            "Epoch 10/50, Training Loss: 1.7056, Learning Rate: 0.001\n"
          ]
        },
        {
          "name": "stderr",
          "output_type": "stream",
          "text": [
            "Epoch 11/50: 100%|██████████| 155/155 [00:01<00:00, 109.12it/s]\n"
          ]
        },
        {
          "name": "stdout",
          "output_type": "stream",
          "text": [
            "Epoch 11/50, Training Loss: 1.5575, Learning Rate: 0.001\n"
          ]
        },
        {
          "name": "stderr",
          "output_type": "stream",
          "text": [
            "Epoch 12/50: 100%|██████████| 155/155 [00:01<00:00, 90.38it/s]\n"
          ]
        },
        {
          "name": "stdout",
          "output_type": "stream",
          "text": [
            "Epoch 12/50, Training Loss: 1.4228, Learning Rate: 0.001\n"
          ]
        },
        {
          "name": "stderr",
          "output_type": "stream",
          "text": [
            "Epoch 13/50: 100%|██████████| 155/155 [00:01<00:00, 130.20it/s]\n"
          ]
        },
        {
          "name": "stdout",
          "output_type": "stream",
          "text": [
            "Epoch 13/50, Training Loss: 1.3213, Learning Rate: 0.001\n"
          ]
        },
        {
          "name": "stderr",
          "output_type": "stream",
          "text": [
            "Epoch 14/50: 100%|██████████| 155/155 [00:01<00:00, 128.98it/s]\n"
          ]
        },
        {
          "name": "stdout",
          "output_type": "stream",
          "text": [
            "Epoch 14/50, Training Loss: 1.1656, Learning Rate: 0.001\n"
          ]
        },
        {
          "name": "stderr",
          "output_type": "stream",
          "text": [
            "Epoch 15/50: 100%|██████████| 155/155 [00:01<00:00, 127.61it/s]\n"
          ]
        },
        {
          "name": "stdout",
          "output_type": "stream",
          "text": [
            "Epoch 15/50, Training Loss: 1.0837, Learning Rate: 0.001\n"
          ]
        },
        {
          "name": "stderr",
          "output_type": "stream",
          "text": [
            "Epoch 16/50: 100%|██████████| 155/155 [00:01<00:00, 128.57it/s]\n"
          ]
        },
        {
          "name": "stdout",
          "output_type": "stream",
          "text": [
            "Epoch 16/50, Training Loss: 0.9927, Learning Rate: 0.00095\n"
          ]
        },
        {
          "name": "stderr",
          "output_type": "stream",
          "text": [
            "Epoch 17/50: 100%|██████████| 155/155 [00:01<00:00, 128.80it/s]\n"
          ]
        },
        {
          "name": "stdout",
          "output_type": "stream",
          "text": [
            "Epoch 17/50, Training Loss: 0.9182, Learning Rate: 0.0009025\n"
          ]
        },
        {
          "name": "stderr",
          "output_type": "stream",
          "text": [
            "Epoch 18/50: 100%|██████████| 155/155 [00:01<00:00, 127.39it/s]\n"
          ]
        },
        {
          "name": "stdout",
          "output_type": "stream",
          "text": [
            "Epoch 18/50, Training Loss: 0.8141, Learning Rate: 0.000857375\n"
          ]
        },
        {
          "name": "stderr",
          "output_type": "stream",
          "text": [
            "Epoch 19/50: 100%|██████████| 155/155 [00:01<00:00, 128.60it/s]\n"
          ]
        },
        {
          "name": "stdout",
          "output_type": "stream",
          "text": [
            "Epoch 19/50, Training Loss: 0.7513, Learning Rate: 0.0008145062499999999\n"
          ]
        },
        {
          "name": "stderr",
          "output_type": "stream",
          "text": [
            "Epoch 20/50: 100%|██████████| 155/155 [00:01<00:00, 128.62it/s]\n"
          ]
        },
        {
          "name": "stdout",
          "output_type": "stream",
          "text": [
            "Epoch 20/50, Training Loss: 0.6803, Learning Rate: 0.0007737809374999998\n"
          ]
        },
        {
          "name": "stderr",
          "output_type": "stream",
          "text": [
            "Epoch 21/50: 100%|██████████| 155/155 [00:01<00:00, 97.23it/s]\n"
          ]
        },
        {
          "name": "stdout",
          "output_type": "stream",
          "text": [
            "Epoch 21/50, Training Loss: 0.6165, Learning Rate: 0.0007350918906249997\n"
          ]
        },
        {
          "name": "stderr",
          "output_type": "stream",
          "text": [
            "Epoch 22/50: 100%|██████████| 155/155 [00:01<00:00, 103.03it/s]\n"
          ]
        },
        {
          "name": "stdout",
          "output_type": "stream",
          "text": [
            "Epoch 22/50, Training Loss: 0.5700, Learning Rate: 0.0006983372960937497\n"
          ]
        },
        {
          "name": "stderr",
          "output_type": "stream",
          "text": [
            "Epoch 23/50: 100%|██████████| 155/155 [00:01<00:00, 130.30it/s]\n"
          ]
        },
        {
          "name": "stdout",
          "output_type": "stream",
          "text": [
            "Epoch 23/50, Training Loss: 0.5456, Learning Rate: 0.0006634204312890621\n"
          ]
        },
        {
          "name": "stderr",
          "output_type": "stream",
          "text": [
            "Epoch 24/50: 100%|██████████| 155/155 [00:01<00:00, 129.15it/s]\n"
          ]
        },
        {
          "name": "stdout",
          "output_type": "stream",
          "text": [
            "Epoch 24/50, Training Loss: 0.4978, Learning Rate: 0.000630249409724609\n"
          ]
        },
        {
          "name": "stderr",
          "output_type": "stream",
          "text": [
            "Epoch 25/50: 100%|██████████| 155/155 [00:01<00:00, 129.06it/s]\n"
          ]
        },
        {
          "name": "stdout",
          "output_type": "stream",
          "text": [
            "Epoch 25/50, Training Loss: 0.4575, Learning Rate: 0.0005987369392383785\n"
          ]
        },
        {
          "name": "stderr",
          "output_type": "stream",
          "text": [
            "Epoch 26/50: 100%|██████████| 155/155 [00:01<00:00, 126.90it/s]\n"
          ]
        },
        {
          "name": "stdout",
          "output_type": "stream",
          "text": [
            "Epoch 26/50, Training Loss: 0.4424, Learning Rate: 0.0005688000922764595\n"
          ]
        },
        {
          "name": "stderr",
          "output_type": "stream",
          "text": [
            "Epoch 27/50: 100%|██████████| 155/155 [00:01<00:00, 127.66it/s]\n"
          ]
        },
        {
          "name": "stdout",
          "output_type": "stream",
          "text": [
            "Epoch 27/50, Training Loss: 0.4247, Learning Rate: 0.0005403600876626365\n"
          ]
        },
        {
          "name": "stderr",
          "output_type": "stream",
          "text": [
            "Epoch 28/50: 100%|██████████| 155/155 [00:01<00:00, 127.07it/s]\n"
          ]
        },
        {
          "name": "stdout",
          "output_type": "stream",
          "text": [
            "Epoch 28/50, Training Loss: 0.3665, Learning Rate: 0.0005133420832795047\n"
          ]
        },
        {
          "name": "stderr",
          "output_type": "stream",
          "text": [
            "Epoch 29/50: 100%|██████████| 155/155 [00:01<00:00, 127.55it/s]\n"
          ]
        },
        {
          "name": "stdout",
          "output_type": "stream",
          "text": [
            "Epoch 29/50, Training Loss: 0.3419, Learning Rate: 0.00048767497911552944\n"
          ]
        },
        {
          "name": "stderr",
          "output_type": "stream",
          "text": [
            "Epoch 30/50: 100%|██████████| 155/155 [00:01<00:00, 115.08it/s]\n"
          ]
        },
        {
          "name": "stdout",
          "output_type": "stream",
          "text": [
            "Epoch 30/50, Training Loss: 0.3376, Learning Rate: 0.00046329123015975297\n"
          ]
        },
        {
          "name": "stderr",
          "output_type": "stream",
          "text": [
            "Epoch 31/50: 100%|██████████| 155/155 [00:01<00:00, 88.61it/s]\n"
          ]
        },
        {
          "name": "stdout",
          "output_type": "stream",
          "text": [
            "Epoch 31/50, Training Loss: 0.3219, Learning Rate: 0.0004401266686517653\n"
          ]
        },
        {
          "name": "stderr",
          "output_type": "stream",
          "text": [
            "Epoch 32/50: 100%|██████████| 155/155 [00:01<00:00, 102.48it/s]\n"
          ]
        },
        {
          "name": "stdout",
          "output_type": "stream",
          "text": [
            "Epoch 32/50, Training Loss: 0.3048, Learning Rate: 0.00041812033521917703\n"
          ]
        },
        {
          "name": "stderr",
          "output_type": "stream",
          "text": [
            "Epoch 33/50: 100%|██████████| 155/155 [00:01<00:00, 96.43it/s] \n"
          ]
        },
        {
          "name": "stdout",
          "output_type": "stream",
          "text": [
            "Epoch 33/50, Training Loss: 0.3067, Learning Rate: 0.00039721431845821814\n"
          ]
        },
        {
          "name": "stderr",
          "output_type": "stream",
          "text": [
            "Epoch 34/50: 100%|██████████| 155/155 [00:01<00:00, 126.75it/s]\n"
          ]
        },
        {
          "name": "stdout",
          "output_type": "stream",
          "text": [
            "Epoch 34/50, Training Loss: 0.2749, Learning Rate: 0.0003773536025353072\n"
          ]
        },
        {
          "name": "stderr",
          "output_type": "stream",
          "text": [
            "Epoch 35/50: 100%|██████████| 155/155 [00:01<00:00, 125.26it/s]\n"
          ]
        },
        {
          "name": "stdout",
          "output_type": "stream",
          "text": [
            "Epoch 35/50, Training Loss: 0.2576, Learning Rate: 0.0003584859224085418\n"
          ]
        },
        {
          "name": "stderr",
          "output_type": "stream",
          "text": [
            "Epoch 36/50: 100%|██████████| 155/155 [00:01<00:00, 126.34it/s]\n"
          ]
        },
        {
          "name": "stdout",
          "output_type": "stream",
          "text": [
            "Epoch 36/50, Training Loss: 0.2485, Learning Rate: 0.0003405616262881147\n"
          ]
        },
        {
          "name": "stderr",
          "output_type": "stream",
          "text": [
            "Epoch 37/50: 100%|██████████| 155/155 [00:01<00:00, 128.82it/s]\n"
          ]
        },
        {
          "name": "stdout",
          "output_type": "stream",
          "text": [
            "Epoch 37/50, Training Loss: 0.2293, Learning Rate: 0.00032353354497370894\n"
          ]
        },
        {
          "name": "stderr",
          "output_type": "stream",
          "text": [
            "Epoch 38/50: 100%|██████████| 155/155 [00:01<00:00, 127.81it/s]\n"
          ]
        },
        {
          "name": "stdout",
          "output_type": "stream",
          "text": [
            "Epoch 38/50, Training Loss: 0.2315, Learning Rate: 0.00030735686772502346\n"
          ]
        },
        {
          "name": "stderr",
          "output_type": "stream",
          "text": [
            "Epoch 39/50: 100%|██████████| 155/155 [00:01<00:00, 109.96it/s]\n"
          ]
        },
        {
          "name": "stdout",
          "output_type": "stream",
          "text": [
            "Epoch 39/50, Training Loss: 0.2312, Learning Rate: 0.00029198902433877225\n"
          ]
        },
        {
          "name": "stderr",
          "output_type": "stream",
          "text": [
            "Epoch 40/50: 100%|██████████| 155/155 [00:01<00:00, 89.96it/s]\n"
          ]
        },
        {
          "name": "stdout",
          "output_type": "stream",
          "text": [
            "Epoch 40/50, Training Loss: 0.2180, Learning Rate: 0.00027738957312183364\n"
          ]
        },
        {
          "name": "stderr",
          "output_type": "stream",
          "text": [
            "Epoch 41/50: 100%|██████████| 155/155 [00:01<00:00, 129.61it/s]\n"
          ]
        },
        {
          "name": "stdout",
          "output_type": "stream",
          "text": [
            "Epoch 41/50, Training Loss: 0.1957, Learning Rate: 0.0002635200944657419\n"
          ]
        },
        {
          "name": "stderr",
          "output_type": "stream",
          "text": [
            "Epoch 42/50: 100%|██████████| 155/155 [00:01<00:00, 128.05it/s]\n"
          ]
        },
        {
          "name": "stdout",
          "output_type": "stream",
          "text": [
            "Epoch 42/50, Training Loss: 0.1988, Learning Rate: 0.0002503440897424548\n"
          ]
        },
        {
          "name": "stderr",
          "output_type": "stream",
          "text": [
            "Epoch 43/50: 100%|██████████| 155/155 [00:01<00:00, 129.58it/s]\n"
          ]
        },
        {
          "name": "stdout",
          "output_type": "stream",
          "text": [
            "Epoch 43/50, Training Loss: 0.1832, Learning Rate: 0.00023782688525533205\n"
          ]
        },
        {
          "name": "stderr",
          "output_type": "stream",
          "text": [
            "Epoch 44/50: 100%|██████████| 155/155 [00:01<00:00, 128.34it/s]\n"
          ]
        },
        {
          "name": "stdout",
          "output_type": "stream",
          "text": [
            "Epoch 44/50, Training Loss: 0.1788, Learning Rate: 0.00022593554099256544\n"
          ]
        },
        {
          "name": "stderr",
          "output_type": "stream",
          "text": [
            "Epoch 45/50: 100%|██████████| 155/155 [00:01<00:00, 129.04it/s]\n"
          ]
        },
        {
          "name": "stdout",
          "output_type": "stream",
          "text": [
            "Epoch 45/50, Training Loss: 0.1743, Learning Rate: 0.00021463876394293716\n"
          ]
        },
        {
          "name": "stderr",
          "output_type": "stream",
          "text": [
            "Epoch 46/50: 100%|██████████| 155/155 [00:01<00:00, 128.79it/s]\n"
          ]
        },
        {
          "name": "stdout",
          "output_type": "stream",
          "text": [
            "Epoch 46/50, Training Loss: 0.1703, Learning Rate: 0.0002039068257457903\n"
          ]
        },
        {
          "name": "stderr",
          "output_type": "stream",
          "text": [
            "Epoch 47/50: 100%|██████████| 155/155 [00:01<00:00, 125.53it/s]\n"
          ]
        },
        {
          "name": "stdout",
          "output_type": "stream",
          "text": [
            "Epoch 47/50, Training Loss: 0.1636, Learning Rate: 0.00019371148445850077\n"
          ]
        },
        {
          "name": "stderr",
          "output_type": "stream",
          "text": [
            "Epoch 48/50: 100%|██████████| 155/155 [00:01<00:00, 123.59it/s]\n"
          ]
        },
        {
          "name": "stdout",
          "output_type": "stream",
          "text": [
            "Epoch 48/50, Training Loss: 0.1753, Learning Rate: 0.00018402591023557573\n"
          ]
        },
        {
          "name": "stderr",
          "output_type": "stream",
          "text": [
            "Epoch 49/50: 100%|██████████| 155/155 [00:01<00:00, 90.42it/s]\n"
          ]
        },
        {
          "name": "stdout",
          "output_type": "stream",
          "text": [
            "Epoch 49/50, Training Loss: 0.1650, Learning Rate: 0.00017482461472379692\n"
          ]
        },
        {
          "name": "stderr",
          "output_type": "stream",
          "text": [
            "Epoch 50/50: 100%|██████████| 155/155 [00:01<00:00, 106.33it/s]"
          ]
        },
        {
          "name": "stdout",
          "output_type": "stream",
          "text": [
            "Epoch 50/50, Training Loss: 0.1535, Learning Rate: 0.00016608338398760707\n"
          ]
        },
        {
          "name": "stderr",
          "output_type": "stream",
          "text": [
            "\n"
          ]
        }
      ],
      "source": [
        "# Query split\n",
        "# Model init\n",
        "query_ff_tag_model = FFTagger(input_dim=query_context_train_val_dataset.get_vector_dim(),\n",
        "    tag_vocab_size=query_context_train_val_dataset.get_tag_vocab_size(),\n",
        "    hidden_sizes=[512,256,128],\n",
        "    dropout=0.2\n",
        "  )\n",
        "query_ff_classifier_model = FFClassifier(\n",
        "    input_dim=query_context_train_val_dataset.get_vector_dim(),\n",
        "    sql_vocab_size=query_context_train_val_dataset.get_sql_vocab_size(),\n",
        "    hidden_sizes=[512,256,128],\n",
        "    dropout=0.2\n",
        "    )\n",
        "# Training\n",
        "query_trained_ff_model = train_dual_model(\n",
        "    tagger_model=query_ff_tag_model,\n",
        "    classifier_model=query_ff_classifier_model,\n",
        "    train_loader=query_context_train_val_loader,\n",
        "    epochs=50,\n",
        "    warmup_epochs=15,\n",
        "    gamma=0.95\n",
        ")"
      ]
    },
    {
      "cell_type": "code",
      "execution_count": 24,
      "metadata": {
        "colab": {
          "base_uri": "https://localhost:8080/"
        },
        "id": "qLos8ey9awGb",
        "outputId": "38b9b499-f5d6-4661-ab51-d38f4e2361c2"
      },
      "outputs": [
        {
          "name": "stderr",
          "output_type": "stream",
          "text": [
            "Generating SQL queries: 100%|██████████| 11/11 [00:00<00:00, 11.79it/s]"
          ]
        },
        {
          "name": "stdout",
          "output_type": "stream",
          "text": [
            "\n",
            "Accuracy of Feedforward model on query split test set: 0.00%\n"
          ]
        },
        {
          "name": "stderr",
          "output_type": "stream",
          "text": [
            "\n"
          ]
        }
      ],
      "source": [
        "# Evaluating on the test set to get accuracy\n",
        "query_ff_sql_pipe = SQLPipeline(dataset=query_context_test_dataset,model=list(query_trained_ff_model),embed_type=\"context\")\n",
        "query_ff_results, query_ff_acc = query_ff_sql_pipe.batch_predict(dataloader=query_context_test_loader)\n",
        "print(f\"\\nAccuracy of Feedforward model on query split test set: {query_ff_acc:.2%}\")"
      ]
    },
    {
      "cell_type": "markdown",
      "metadata": {
        "id": "7l4xNo8YIPNM"
      },
      "source": [
        "### Training LSTM model using question and query split"
      ]
    },
    {
      "cell_type": "code",
      "execution_count": 25,
      "metadata": {
        "colab": {
          "base_uri": "https://localhost:8080/"
        },
        "collapsed": true,
        "id": "0fx5xQ7QIRmx",
        "outputId": "22245e4e-bc36-43f3-ce85-25ec9eb9aefb"
      },
      "outputs": [
        {
          "name": "stderr",
          "output_type": "stream",
          "text": [
            "Epoch 1/80: 100%|██████████| 152/152 [00:02<00:00, 51.34it/s]\n"
          ]
        },
        {
          "name": "stdout",
          "output_type": "stream",
          "text": [
            "Epoch 1/80, Training Loss: 5.9574, Learning Rate: 0.001\n"
          ]
        },
        {
          "name": "stderr",
          "output_type": "stream",
          "text": [
            "Epoch 2/80: 100%|██████████| 152/152 [00:02<00:00, 57.83it/s]\n"
          ]
        },
        {
          "name": "stdout",
          "output_type": "stream",
          "text": [
            "Epoch 2/80, Training Loss: 4.4973, Learning Rate: 0.001\n"
          ]
        },
        {
          "name": "stderr",
          "output_type": "stream",
          "text": [
            "Epoch 3/80: 100%|██████████| 152/152 [00:02<00:00, 53.40it/s]\n"
          ]
        },
        {
          "name": "stdout",
          "output_type": "stream",
          "text": [
            "Epoch 3/80, Training Loss: 3.6300, Learning Rate: 0.001\n"
          ]
        },
        {
          "name": "stderr",
          "output_type": "stream",
          "text": [
            "Epoch 4/80: 100%|██████████| 152/152 [00:03<00:00, 46.51it/s]\n"
          ]
        },
        {
          "name": "stdout",
          "output_type": "stream",
          "text": [
            "Epoch 4/80, Training Loss: 2.9324, Learning Rate: 0.001\n"
          ]
        },
        {
          "name": "stderr",
          "output_type": "stream",
          "text": [
            "Epoch 5/80: 100%|██████████| 152/152 [00:02<00:00, 57.73it/s]\n"
          ]
        },
        {
          "name": "stdout",
          "output_type": "stream",
          "text": [
            "Epoch 5/80, Training Loss: 2.3151, Learning Rate: 0.001\n"
          ]
        },
        {
          "name": "stderr",
          "output_type": "stream",
          "text": [
            "Epoch 6/80: 100%|██████████| 152/152 [00:02<00:00, 56.77it/s]\n"
          ]
        },
        {
          "name": "stdout",
          "output_type": "stream",
          "text": [
            "Epoch 6/80, Training Loss: 1.8025, Learning Rate: 0.001\n"
          ]
        },
        {
          "name": "stderr",
          "output_type": "stream",
          "text": [
            "Epoch 7/80: 100%|██████████| 152/152 [00:02<00:00, 58.81it/s]\n"
          ]
        },
        {
          "name": "stdout",
          "output_type": "stream",
          "text": [
            "Epoch 7/80, Training Loss: 1.4203, Learning Rate: 0.001\n"
          ]
        },
        {
          "name": "stderr",
          "output_type": "stream",
          "text": [
            "Epoch 8/80: 100%|██████████| 152/152 [00:03<00:00, 44.97it/s]\n"
          ]
        },
        {
          "name": "stdout",
          "output_type": "stream",
          "text": [
            "Epoch 8/80, Training Loss: 1.1164, Learning Rate: 0.001\n"
          ]
        },
        {
          "name": "stderr",
          "output_type": "stream",
          "text": [
            "Epoch 9/80: 100%|██████████| 152/152 [00:02<00:00, 56.96it/s]\n"
          ]
        },
        {
          "name": "stdout",
          "output_type": "stream",
          "text": [
            "Epoch 9/80, Training Loss: 0.8992, Learning Rate: 0.001\n"
          ]
        },
        {
          "name": "stderr",
          "output_type": "stream",
          "text": [
            "Epoch 10/80: 100%|██████████| 152/152 [00:02<00:00, 56.91it/s]\n"
          ]
        },
        {
          "name": "stdout",
          "output_type": "stream",
          "text": [
            "Epoch 10/80, Training Loss: 0.7408, Learning Rate: 0.001\n"
          ]
        },
        {
          "name": "stderr",
          "output_type": "stream",
          "text": [
            "Epoch 11/80: 100%|██████████| 152/152 [00:02<00:00, 56.98it/s]\n"
          ]
        },
        {
          "name": "stdout",
          "output_type": "stream",
          "text": [
            "Epoch 11/80, Training Loss: 0.5164, Learning Rate: 0.001\n"
          ]
        },
        {
          "name": "stderr",
          "output_type": "stream",
          "text": [
            "Epoch 12/80: 100%|██████████| 152/152 [00:03<00:00, 50.06it/s]\n"
          ]
        },
        {
          "name": "stdout",
          "output_type": "stream",
          "text": [
            "Epoch 12/80, Training Loss: 0.4112, Learning Rate: 0.001\n"
          ]
        },
        {
          "name": "stderr",
          "output_type": "stream",
          "text": [
            "Epoch 13/80: 100%|██████████| 152/152 [00:02<00:00, 51.22it/s]\n"
          ]
        },
        {
          "name": "stdout",
          "output_type": "stream",
          "text": [
            "Epoch 13/80, Training Loss: 0.3374, Learning Rate: 0.001\n"
          ]
        },
        {
          "name": "stderr",
          "output_type": "stream",
          "text": [
            "Epoch 14/80: 100%|██████████| 152/152 [00:02<00:00, 57.00it/s]\n"
          ]
        },
        {
          "name": "stdout",
          "output_type": "stream",
          "text": [
            "Epoch 14/80, Training Loss: 0.2701, Learning Rate: 0.001\n"
          ]
        },
        {
          "name": "stderr",
          "output_type": "stream",
          "text": [
            "Epoch 15/80: 100%|██████████| 152/152 [00:02<00:00, 57.99it/s]\n"
          ]
        },
        {
          "name": "stdout",
          "output_type": "stream",
          "text": [
            "Epoch 15/80, Training Loss: 0.2333, Learning Rate: 0.001\n"
          ]
        },
        {
          "name": "stderr",
          "output_type": "stream",
          "text": [
            "Epoch 16/80: 100%|██████████| 152/152 [00:02<00:00, 57.77it/s]\n"
          ]
        },
        {
          "name": "stdout",
          "output_type": "stream",
          "text": [
            "Epoch 16/80, Training Loss: 0.2017, Learning Rate: 0.001\n"
          ]
        },
        {
          "name": "stderr",
          "output_type": "stream",
          "text": [
            "Epoch 17/80: 100%|██████████| 152/152 [00:03<00:00, 45.54it/s]\n"
          ]
        },
        {
          "name": "stdout",
          "output_type": "stream",
          "text": [
            "Epoch 17/80, Training Loss: 0.1711, Learning Rate: 0.001\n"
          ]
        },
        {
          "name": "stderr",
          "output_type": "stream",
          "text": [
            "Epoch 18/80: 100%|██████████| 152/152 [00:02<00:00, 58.27it/s]\n"
          ]
        },
        {
          "name": "stdout",
          "output_type": "stream",
          "text": [
            "Epoch 18/80, Training Loss: 0.1577, Learning Rate: 0.001\n"
          ]
        },
        {
          "name": "stderr",
          "output_type": "stream",
          "text": [
            "Epoch 19/80: 100%|██████████| 152/152 [00:02<00:00, 57.11it/s]\n"
          ]
        },
        {
          "name": "stdout",
          "output_type": "stream",
          "text": [
            "Epoch 19/80, Training Loss: 0.1592, Learning Rate: 0.001\n"
          ]
        },
        {
          "name": "stderr",
          "output_type": "stream",
          "text": [
            "Epoch 20/80: 100%|██████████| 152/152 [00:02<00:00, 57.80it/s]\n"
          ]
        },
        {
          "name": "stdout",
          "output_type": "stream",
          "text": [
            "Epoch 20/80, Training Loss: 0.1417, Learning Rate: 0.001\n"
          ]
        },
        {
          "name": "stderr",
          "output_type": "stream",
          "text": [
            "Epoch 21/80: 100%|██████████| 152/152 [00:03<00:00, 44.09it/s]\n"
          ]
        },
        {
          "name": "stdout",
          "output_type": "stream",
          "text": [
            "Epoch 21/80, Training Loss: 0.1193, Learning Rate: 0.001\n"
          ]
        },
        {
          "name": "stderr",
          "output_type": "stream",
          "text": [
            "Epoch 22/80: 100%|██████████| 152/152 [00:02<00:00, 58.14it/s]\n"
          ]
        },
        {
          "name": "stdout",
          "output_type": "stream",
          "text": [
            "Epoch 22/80, Training Loss: 0.1285, Learning Rate: 0.001\n"
          ]
        },
        {
          "name": "stderr",
          "output_type": "stream",
          "text": [
            "Epoch 23/80: 100%|██████████| 152/152 [00:02<00:00, 57.18it/s]\n"
          ]
        },
        {
          "name": "stdout",
          "output_type": "stream",
          "text": [
            "Epoch 23/80, Training Loss: 0.1259, Learning Rate: 0.001\n"
          ]
        },
        {
          "name": "stderr",
          "output_type": "stream",
          "text": [
            "Epoch 24/80: 100%|██████████| 152/152 [00:02<00:00, 56.26it/s]\n"
          ]
        },
        {
          "name": "stdout",
          "output_type": "stream",
          "text": [
            "Epoch 24/80, Training Loss: 0.1047, Learning Rate: 0.001\n"
          ]
        },
        {
          "name": "stderr",
          "output_type": "stream",
          "text": [
            "Epoch 25/80: 100%|██████████| 152/152 [00:02<00:00, 51.40it/s]\n"
          ]
        },
        {
          "name": "stdout",
          "output_type": "stream",
          "text": [
            "Epoch 25/80, Training Loss: 0.0908, Learning Rate: 0.001\n"
          ]
        },
        {
          "name": "stderr",
          "output_type": "stream",
          "text": [
            "Epoch 26/80: 100%|██████████| 152/152 [00:03<00:00, 49.66it/s]\n"
          ]
        },
        {
          "name": "stdout",
          "output_type": "stream",
          "text": [
            "Epoch 26/80, Training Loss: 0.1066, Learning Rate: 0.0009000000000000001\n"
          ]
        },
        {
          "name": "stderr",
          "output_type": "stream",
          "text": [
            "Epoch 27/80: 100%|██████████| 152/152 [00:02<00:00, 58.74it/s]\n"
          ]
        },
        {
          "name": "stdout",
          "output_type": "stream",
          "text": [
            "Epoch 27/80, Training Loss: 0.0975, Learning Rate: 0.0008100000000000001\n"
          ]
        },
        {
          "name": "stderr",
          "output_type": "stream",
          "text": [
            "Epoch 28/80: 100%|██████████| 152/152 [00:02<00:00, 58.04it/s]\n"
          ]
        },
        {
          "name": "stdout",
          "output_type": "stream",
          "text": [
            "Epoch 28/80, Training Loss: 0.0813, Learning Rate: 0.000729\n"
          ]
        },
        {
          "name": "stderr",
          "output_type": "stream",
          "text": [
            "Epoch 29/80: 100%|██████████| 152/152 [00:02<00:00, 57.10it/s]\n"
          ]
        },
        {
          "name": "stdout",
          "output_type": "stream",
          "text": [
            "Epoch 29/80, Training Loss: 0.0626, Learning Rate: 0.0006561000000000001\n"
          ]
        },
        {
          "name": "stderr",
          "output_type": "stream",
          "text": [
            "Epoch 30/80: 100%|██████████| 152/152 [00:03<00:00, 45.55it/s]\n"
          ]
        },
        {
          "name": "stdout",
          "output_type": "stream",
          "text": [
            "Epoch 30/80, Training Loss: 0.0491, Learning Rate: 0.00059049\n"
          ]
        },
        {
          "name": "stderr",
          "output_type": "stream",
          "text": [
            "Epoch 31/80: 100%|██████████| 152/152 [00:02<00:00, 57.73it/s]\n"
          ]
        },
        {
          "name": "stdout",
          "output_type": "stream",
          "text": [
            "Epoch 31/80, Training Loss: 0.0445, Learning Rate: 0.000531441\n"
          ]
        },
        {
          "name": "stderr",
          "output_type": "stream",
          "text": [
            "Epoch 32/80: 100%|██████████| 152/152 [00:02<00:00, 57.91it/s]\n"
          ]
        },
        {
          "name": "stdout",
          "output_type": "stream",
          "text": [
            "Epoch 32/80, Training Loss: 0.0435, Learning Rate: 0.0004782969\n"
          ]
        },
        {
          "name": "stderr",
          "output_type": "stream",
          "text": [
            "Epoch 33/80: 100%|██████████| 152/152 [00:02<00:00, 58.46it/s]\n"
          ]
        },
        {
          "name": "stdout",
          "output_type": "stream",
          "text": [
            "Epoch 33/80, Training Loss: 0.0420, Learning Rate: 0.00043046721\n"
          ]
        },
        {
          "name": "stderr",
          "output_type": "stream",
          "text": [
            "Epoch 34/80: 100%|██████████| 152/152 [00:03<00:00, 46.01it/s]\n"
          ]
        },
        {
          "name": "stdout",
          "output_type": "stream",
          "text": [
            "Epoch 34/80, Training Loss: 0.0377, Learning Rate: 0.000387420489\n"
          ]
        },
        {
          "name": "stderr",
          "output_type": "stream",
          "text": [
            "Epoch 35/80: 100%|██████████| 152/152 [00:02<00:00, 55.21it/s]\n"
          ]
        },
        {
          "name": "stdout",
          "output_type": "stream",
          "text": [
            "Epoch 35/80, Training Loss: 0.0358, Learning Rate: 0.0003486784401\n"
          ]
        },
        {
          "name": "stderr",
          "output_type": "stream",
          "text": [
            "Epoch 36/80: 100%|██████████| 152/152 [00:02<00:00, 56.81it/s]\n"
          ]
        },
        {
          "name": "stdout",
          "output_type": "stream",
          "text": [
            "Epoch 36/80, Training Loss: 0.0336, Learning Rate: 0.00031381059609000004\n"
          ]
        },
        {
          "name": "stderr",
          "output_type": "stream",
          "text": [
            "Epoch 37/80: 100%|██████████| 152/152 [00:02<00:00, 57.84it/s]\n"
          ]
        },
        {
          "name": "stdout",
          "output_type": "stream",
          "text": [
            "Epoch 37/80, Training Loss: 0.0328, Learning Rate: 0.00028242953648100003\n"
          ]
        },
        {
          "name": "stderr",
          "output_type": "stream",
          "text": [
            "Epoch 38/80: 100%|██████████| 152/152 [00:02<00:00, 54.17it/s]\n"
          ]
        },
        {
          "name": "stdout",
          "output_type": "stream",
          "text": [
            "Epoch 38/80, Training Loss: 0.0316, Learning Rate: 0.00025418658283290005\n"
          ]
        },
        {
          "name": "stderr",
          "output_type": "stream",
          "text": [
            "Epoch 39/80: 100%|██████████| 152/152 [00:03<00:00, 48.30it/s]\n"
          ]
        },
        {
          "name": "stdout",
          "output_type": "stream",
          "text": [
            "Epoch 39/80, Training Loss: 0.0314, Learning Rate: 0.00022876792454961005\n"
          ]
        },
        {
          "name": "stderr",
          "output_type": "stream",
          "text": [
            "Epoch 40/80: 100%|██████████| 152/152 [00:02<00:00, 57.21it/s]\n"
          ]
        },
        {
          "name": "stdout",
          "output_type": "stream",
          "text": [
            "Epoch 40/80, Training Loss: 0.0307, Learning Rate: 0.00020589113209464906\n"
          ]
        },
        {
          "name": "stderr",
          "output_type": "stream",
          "text": [
            "Epoch 41/80: 100%|██████████| 152/152 [00:02<00:00, 57.24it/s]\n"
          ]
        },
        {
          "name": "stdout",
          "output_type": "stream",
          "text": [
            "Epoch 41/80, Training Loss: 0.0297, Learning Rate: 0.00018530201888518417\n"
          ]
        },
        {
          "name": "stderr",
          "output_type": "stream",
          "text": [
            "Epoch 42/80: 100%|██████████| 152/152 [00:02<00:00, 57.81it/s]\n"
          ]
        },
        {
          "name": "stdout",
          "output_type": "stream",
          "text": [
            "Epoch 42/80, Training Loss: 0.0297, Learning Rate: 0.00016677181699666576\n"
          ]
        },
        {
          "name": "stderr",
          "output_type": "stream",
          "text": [
            "Epoch 43/80: 100%|██████████| 152/152 [00:03<00:00, 45.24it/s]\n"
          ]
        },
        {
          "name": "stdout",
          "output_type": "stream",
          "text": [
            "Epoch 43/80, Training Loss: 0.0296, Learning Rate: 0.0001500946352969992\n"
          ]
        },
        {
          "name": "stderr",
          "output_type": "stream",
          "text": [
            "Epoch 44/80: 100%|██████████| 152/152 [00:02<00:00, 57.80it/s]\n"
          ]
        },
        {
          "name": "stdout",
          "output_type": "stream",
          "text": [
            "Epoch 44/80, Training Loss: 0.0290, Learning Rate: 0.0001350851717672993\n"
          ]
        },
        {
          "name": "stderr",
          "output_type": "stream",
          "text": [
            "Epoch 45/80: 100%|██████████| 152/152 [00:02<00:00, 57.59it/s]\n"
          ]
        },
        {
          "name": "stdout",
          "output_type": "stream",
          "text": [
            "Epoch 45/80, Training Loss: 0.0291, Learning Rate: 0.00012157665459056936\n"
          ]
        },
        {
          "name": "stderr",
          "output_type": "stream",
          "text": [
            "Epoch 46/80: 100%|██████████| 152/152 [00:02<00:00, 56.31it/s]\n"
          ]
        },
        {
          "name": "stdout",
          "output_type": "stream",
          "text": [
            "Epoch 46/80, Training Loss: 0.0282, Learning Rate: 0.00010941898913151243\n"
          ]
        },
        {
          "name": "stderr",
          "output_type": "stream",
          "text": [
            "Epoch 47/80: 100%|██████████| 152/152 [00:03<00:00, 47.88it/s]\n"
          ]
        },
        {
          "name": "stdout",
          "output_type": "stream",
          "text": [
            "Epoch 47/80, Training Loss: 0.0281, Learning Rate: 9.847709021836118e-05\n"
          ]
        },
        {
          "name": "stderr",
          "output_type": "stream",
          "text": [
            "Epoch 48/80: 100%|██████████| 152/152 [00:02<00:00, 54.91it/s]\n"
          ]
        },
        {
          "name": "stdout",
          "output_type": "stream",
          "text": [
            "Epoch 48/80, Training Loss: 0.0280, Learning Rate: 8.862938119652506e-05\n"
          ]
        },
        {
          "name": "stderr",
          "output_type": "stream",
          "text": [
            "Epoch 49/80: 100%|██████████| 152/152 [00:02<00:00, 58.26it/s]\n"
          ]
        },
        {
          "name": "stdout",
          "output_type": "stream",
          "text": [
            "Epoch 49/80, Training Loss: 0.0270, Learning Rate: 7.976644307687256e-05\n"
          ]
        },
        {
          "name": "stderr",
          "output_type": "stream",
          "text": [
            "Epoch 50/80: 100%|██████████| 152/152 [00:02<00:00, 57.27it/s]\n"
          ]
        },
        {
          "name": "stdout",
          "output_type": "stream",
          "text": [
            "Epoch 50/80, Training Loss: 0.0268, Learning Rate: 7.17897987691853e-05\n"
          ]
        },
        {
          "name": "stderr",
          "output_type": "stream",
          "text": [
            "Epoch 51/80: 100%|██████████| 152/152 [00:02<00:00, 54.18it/s]\n"
          ]
        },
        {
          "name": "stdout",
          "output_type": "stream",
          "text": [
            "Epoch 51/80, Training Loss: 0.0268, Learning Rate: 6.461081889226677e-05\n"
          ]
        },
        {
          "name": "stderr",
          "output_type": "stream",
          "text": [
            "Epoch 52/80: 100%|██████████| 152/152 [00:03<00:00, 47.93it/s]\n"
          ]
        },
        {
          "name": "stdout",
          "output_type": "stream",
          "text": [
            "Epoch 52/80, Training Loss: 0.0272, Learning Rate: 5.81497370030401e-05\n"
          ]
        },
        {
          "name": "stderr",
          "output_type": "stream",
          "text": [
            "Epoch 53/80: 100%|██████████| 152/152 [00:02<00:00, 57.58it/s]\n"
          ]
        },
        {
          "name": "stdout",
          "output_type": "stream",
          "text": [
            "Epoch 53/80, Training Loss: 0.0265, Learning Rate: 5.233476330273609e-05\n"
          ]
        },
        {
          "name": "stderr",
          "output_type": "stream",
          "text": [
            "Epoch 54/80: 100%|██████████| 152/152 [00:02<00:00, 56.68it/s]\n"
          ]
        },
        {
          "name": "stdout",
          "output_type": "stream",
          "text": [
            "Epoch 54/80, Training Loss: 0.0273, Learning Rate: 4.7101286972462485e-05\n"
          ]
        },
        {
          "name": "stderr",
          "output_type": "stream",
          "text": [
            "Epoch 55/80: 100%|██████████| 152/152 [00:02<00:00, 56.36it/s]\n"
          ]
        },
        {
          "name": "stdout",
          "output_type": "stream",
          "text": [
            "Epoch 55/80, Training Loss: 0.0284, Learning Rate: 4.239115827521624e-05\n"
          ]
        },
        {
          "name": "stderr",
          "output_type": "stream",
          "text": [
            "Epoch 56/80: 100%|██████████| 152/152 [00:03<00:00, 44.90it/s]\n"
          ]
        },
        {
          "name": "stdout",
          "output_type": "stream",
          "text": [
            "Epoch 56/80, Training Loss: 0.0269, Learning Rate: 3.8152042447694614e-05\n"
          ]
        },
        {
          "name": "stderr",
          "output_type": "stream",
          "text": [
            "Epoch 57/80: 100%|██████████| 152/152 [00:02<00:00, 58.37it/s]\n"
          ]
        },
        {
          "name": "stdout",
          "output_type": "stream",
          "text": [
            "Epoch 57/80, Training Loss: 0.0265, Learning Rate: 3.433683820292515e-05\n"
          ]
        },
        {
          "name": "stderr",
          "output_type": "stream",
          "text": [
            "Epoch 58/80: 100%|██████████| 152/152 [00:02<00:00, 57.54it/s]\n"
          ]
        },
        {
          "name": "stdout",
          "output_type": "stream",
          "text": [
            "Epoch 58/80, Training Loss: 0.0262, Learning Rate: 3.090315438263264e-05\n"
          ]
        },
        {
          "name": "stderr",
          "output_type": "stream",
          "text": [
            "Epoch 59/80: 100%|██████████| 152/152 [00:02<00:00, 57.44it/s]\n"
          ]
        },
        {
          "name": "stdout",
          "output_type": "stream",
          "text": [
            "Epoch 59/80, Training Loss: 0.0268, Learning Rate: 2.7812838944369376e-05\n"
          ]
        },
        {
          "name": "stderr",
          "output_type": "stream",
          "text": [
            "Epoch 60/80: 100%|██████████| 152/152 [00:03<00:00, 48.71it/s]\n"
          ]
        },
        {
          "name": "stdout",
          "output_type": "stream",
          "text": [
            "Epoch 60/80, Training Loss: 0.0261, Learning Rate: 2.503155504993244e-05\n"
          ]
        },
        {
          "name": "stderr",
          "output_type": "stream",
          "text": [
            "Epoch 61/80: 100%|██████████| 152/152 [00:02<00:00, 52.96it/s]\n"
          ]
        },
        {
          "name": "stdout",
          "output_type": "stream",
          "text": [
            "Epoch 61/80, Training Loss: 0.0262, Learning Rate: 2.2528399544939195e-05\n"
          ]
        },
        {
          "name": "stderr",
          "output_type": "stream",
          "text": [
            "Epoch 62/80: 100%|██████████| 152/152 [00:02<00:00, 58.01it/s]\n"
          ]
        },
        {
          "name": "stdout",
          "output_type": "stream",
          "text": [
            "Epoch 62/80, Training Loss: 0.0263, Learning Rate: 2.0275559590445276e-05\n"
          ]
        },
        {
          "name": "stderr",
          "output_type": "stream",
          "text": [
            "Epoch 63/80: 100%|██████████| 152/152 [00:02<00:00, 58.07it/s]\n"
          ]
        },
        {
          "name": "stdout",
          "output_type": "stream",
          "text": [
            "Epoch 63/80, Training Loss: 0.0260, Learning Rate: 1.8248003631400748e-05\n"
          ]
        },
        {
          "name": "stderr",
          "output_type": "stream",
          "text": [
            "Epoch 64/80: 100%|██████████| 152/152 [00:02<00:00, 55.03it/s]\n"
          ]
        },
        {
          "name": "stdout",
          "output_type": "stream",
          "text": [
            "Epoch 64/80, Training Loss: 0.0261, Learning Rate: 1.6423203268260675e-05\n"
          ]
        },
        {
          "name": "stderr",
          "output_type": "stream",
          "text": [
            "Epoch 65/80: 100%|██████████| 152/152 [00:03<00:00, 46.19it/s]\n"
          ]
        },
        {
          "name": "stdout",
          "output_type": "stream",
          "text": [
            "Epoch 65/80, Training Loss: 0.0256, Learning Rate: 1.4780882941434607e-05\n"
          ]
        },
        {
          "name": "stderr",
          "output_type": "stream",
          "text": [
            "Epoch 66/80: 100%|██████████| 152/152 [00:02<00:00, 57.41it/s]\n"
          ]
        },
        {
          "name": "stdout",
          "output_type": "stream",
          "text": [
            "Epoch 66/80, Training Loss: 0.0261, Learning Rate: 1.3302794647291146e-05\n"
          ]
        },
        {
          "name": "stderr",
          "output_type": "stream",
          "text": [
            "Epoch 67/80: 100%|██████████| 152/152 [00:02<00:00, 57.65it/s]\n"
          ]
        },
        {
          "name": "stdout",
          "output_type": "stream",
          "text": [
            "Epoch 67/80, Training Loss: 0.0257, Learning Rate: 1.1972515182562031e-05\n"
          ]
        },
        {
          "name": "stderr",
          "output_type": "stream",
          "text": [
            "Epoch 68/80: 100%|██████████| 152/152 [00:03<00:00, 50.52it/s]\n"
          ]
        },
        {
          "name": "stdout",
          "output_type": "stream",
          "text": [
            "Epoch 68/80, Training Loss: 0.0262, Learning Rate: 1.0775263664305828e-05\n"
          ]
        },
        {
          "name": "stderr",
          "output_type": "stream",
          "text": [
            "Epoch 69/80: 100%|██████████| 152/152 [00:03<00:00, 41.22it/s]\n"
          ]
        },
        {
          "name": "stdout",
          "output_type": "stream",
          "text": [
            "Epoch 69/80, Training Loss: 0.0258, Learning Rate: 9.697737297875246e-06\n"
          ]
        },
        {
          "name": "stderr",
          "output_type": "stream",
          "text": [
            "Epoch 70/80: 100%|██████████| 152/152 [00:02<00:00, 57.14it/s]\n"
          ]
        },
        {
          "name": "stdout",
          "output_type": "stream",
          "text": [
            "Epoch 70/80, Training Loss: 0.0259, Learning Rate: 8.727963568087722e-06\n"
          ]
        },
        {
          "name": "stderr",
          "output_type": "stream",
          "text": [
            "Epoch 71/80: 100%|██████████| 152/152 [00:02<00:00, 57.65it/s]\n"
          ]
        },
        {
          "name": "stdout",
          "output_type": "stream",
          "text": [
            "Epoch 71/80, Training Loss: 0.0260, Learning Rate: 7.85516721127895e-06\n"
          ]
        },
        {
          "name": "stderr",
          "output_type": "stream",
          "text": [
            "Epoch 72/80: 100%|██████████| 152/152 [00:02<00:00, 56.92it/s]\n"
          ]
        },
        {
          "name": "stdout",
          "output_type": "stream",
          "text": [
            "Epoch 72/80, Training Loss: 0.0259, Learning Rate: 7.069650490151056e-06\n"
          ]
        },
        {
          "name": "stderr",
          "output_type": "stream",
          "text": [
            "Epoch 73/80: 100%|██████████| 152/152 [00:03<00:00, 48.21it/s]\n"
          ]
        },
        {
          "name": "stdout",
          "output_type": "stream",
          "text": [
            "Epoch 73/80, Training Loss: 0.0259, Learning Rate: 6.362685441135951e-06\n"
          ]
        },
        {
          "name": "stderr",
          "output_type": "stream",
          "text": [
            "Epoch 74/80: 100%|██████████| 152/152 [00:02<00:00, 53.32it/s]\n"
          ]
        },
        {
          "name": "stdout",
          "output_type": "stream",
          "text": [
            "Epoch 74/80, Training Loss: 0.0259, Learning Rate: 5.7264168970223554e-06\n"
          ]
        },
        {
          "name": "stderr",
          "output_type": "stream",
          "text": [
            "Epoch 75/80: 100%|██████████| 152/152 [00:02<00:00, 56.75it/s]\n"
          ]
        },
        {
          "name": "stdout",
          "output_type": "stream",
          "text": [
            "Epoch 75/80, Training Loss: 0.0258, Learning Rate: 5.15377520732012e-06\n"
          ]
        },
        {
          "name": "stderr",
          "output_type": "stream",
          "text": [
            "Epoch 76/80: 100%|██████████| 152/152 [00:02<00:00, 56.29it/s]\n"
          ]
        },
        {
          "name": "stdout",
          "output_type": "stream",
          "text": [
            "Epoch 76/80, Training Loss: 0.0262, Learning Rate: 4.638397686588108e-06\n"
          ]
        },
        {
          "name": "stderr",
          "output_type": "stream",
          "text": [
            "Epoch 77/80: 100%|██████████| 152/152 [00:02<00:00, 52.68it/s]\n"
          ]
        },
        {
          "name": "stdout",
          "output_type": "stream",
          "text": [
            "Epoch 77/80, Training Loss: 0.0255, Learning Rate: 4.174557917929298e-06\n"
          ]
        },
        {
          "name": "stderr",
          "output_type": "stream",
          "text": [
            "Epoch 78/80: 100%|██████████| 152/152 [00:03<00:00, 47.76it/s]\n"
          ]
        },
        {
          "name": "stdout",
          "output_type": "stream",
          "text": [
            "Epoch 78/80, Training Loss: 0.0262, Learning Rate: 3.7571021261363684e-06\n"
          ]
        },
        {
          "name": "stderr",
          "output_type": "stream",
          "text": [
            "Epoch 79/80: 100%|██████████| 152/152 [00:02<00:00, 57.17it/s]\n"
          ]
        },
        {
          "name": "stdout",
          "output_type": "stream",
          "text": [
            "Epoch 79/80, Training Loss: 0.0260, Learning Rate: 3.3813919135227317e-06\n"
          ]
        },
        {
          "name": "stderr",
          "output_type": "stream",
          "text": [
            "Epoch 80/80: 100%|██████████| 152/152 [00:02<00:00, 56.86it/s]"
          ]
        },
        {
          "name": "stdout",
          "output_type": "stream",
          "text": [
            "Epoch 80/80, Training Loss: 0.0258, Learning Rate: 3.0432527221704586e-06\n"
          ]
        },
        {
          "name": "stderr",
          "output_type": "stream",
          "text": [
            "\n"
          ]
        }
      ],
      "source": [
        "# Question split\n",
        "question_lstm_model = LSTMTaggerClassifer(\n",
        "    input_dim=question_context_train_val_dataset.get_vector_dim(),\n",
        "    hidden_dim=256,\n",
        "    tag_vocab_size=question_context_train_val_dataset.get_tag_vocab_size(),\n",
        "    sql_vocab_size=question_context_train_val_dataset.get_sql_vocab_size(),\n",
        "    num_layers=3\n",
        ")\n",
        "# Training\n",
        "question_trained_lstm_model = train_model(\n",
        "    model=question_lstm_model,\n",
        "    train_loader=question_context_train_val_loader,\n",
        "    epochs=80,\n",
        "    lr=1e-3,\n",
        "    weight_decay=0.1,\n",
        "    amsgrad=True,\n",
        "    gamma=0.90,\n",
        "    warmup_epochs=25\n",
        ")\n"
      ]
    },
    {
      "cell_type": "code",
      "execution_count": 26,
      "metadata": {
        "colab": {
          "base_uri": "https://localhost:8080/"
        },
        "id": "R2UPxpaxboIG",
        "outputId": "f507e992-0b4c-4cb0-db87-c1460b7fe680"
      },
      "outputs": [
        {
          "name": "stderr",
          "output_type": "stream",
          "text": [
            "Generating SQL queries: 100%|██████████| 14/14 [00:00<00:00, 17.36it/s]"
          ]
        },
        {
          "name": "stdout",
          "output_type": "stream",
          "text": [
            "\n",
            "Accuracy of LSTM model on question split test set: 33.33%\n"
          ]
        },
        {
          "name": "stderr",
          "output_type": "stream",
          "text": [
            "\n"
          ]
        }
      ],
      "source": [
        "# Evaluating on the test set to get accuracy\n",
        "question_lstm_sql_pipe = SQLPipeline(dataset=question_context_test_dataset,model=question_trained_lstm_model,embed_type=\"context\")\n",
        "question_lstm_results, question_lstm_acc = question_lstm_sql_pipe.batch_predict(dataloader=question_context_test_loader)\n",
        "print(f\"\\nAccuracy of LSTM model on question split test set: {question_lstm_acc:.2%}\")"
      ]
    },
    {
      "cell_type": "code",
      "execution_count": 27,
      "metadata": {
        "colab": {
          "base_uri": "https://localhost:8080/"
        },
        "collapsed": true,
        "id": "2_cLVyfIaOZa",
        "outputId": "ac080cb3-a86a-4891-a139-ff782d6968cf"
      },
      "outputs": [
        {
          "name": "stderr",
          "output_type": "stream",
          "text": [
            "Epoch 1/150: 100%|██████████| 155/155 [00:02<00:00, 54.32it/s]\n"
          ]
        },
        {
          "name": "stdout",
          "output_type": "stream",
          "text": [
            "Epoch 1/150, Training Loss: 5.9136, Learning Rate: 0.001\n"
          ]
        },
        {
          "name": "stderr",
          "output_type": "stream",
          "text": [
            "Epoch 2/150: 100%|██████████| 155/155 [00:03<00:00, 49.08it/s]\n"
          ]
        },
        {
          "name": "stdout",
          "output_type": "stream",
          "text": [
            "Epoch 2/150, Training Loss: 4.3145, Learning Rate: 0.001\n"
          ]
        },
        {
          "name": "stderr",
          "output_type": "stream",
          "text": [
            "Epoch 3/150: 100%|██████████| 155/155 [00:02<00:00, 59.51it/s]\n"
          ]
        },
        {
          "name": "stdout",
          "output_type": "stream",
          "text": [
            "Epoch 3/150, Training Loss: 3.4434, Learning Rate: 0.001\n"
          ]
        },
        {
          "name": "stderr",
          "output_type": "stream",
          "text": [
            "Epoch 4/150: 100%|██████████| 155/155 [00:02<00:00, 58.13it/s]\n"
          ]
        },
        {
          "name": "stdout",
          "output_type": "stream",
          "text": [
            "Epoch 4/150, Training Loss: 2.7522, Learning Rate: 0.001\n"
          ]
        },
        {
          "name": "stderr",
          "output_type": "stream",
          "text": [
            "Epoch 5/150: 100%|██████████| 155/155 [00:02<00:00, 58.46it/s]\n"
          ]
        },
        {
          "name": "stdout",
          "output_type": "stream",
          "text": [
            "Epoch 5/150, Training Loss: 2.1891, Learning Rate: 0.001\n"
          ]
        },
        {
          "name": "stderr",
          "output_type": "stream",
          "text": [
            "Epoch 6/150: 100%|██████████| 155/155 [00:03<00:00, 45.85it/s]\n"
          ]
        },
        {
          "name": "stdout",
          "output_type": "stream",
          "text": [
            "Epoch 6/150, Training Loss: 1.7400, Learning Rate: 0.001\n"
          ]
        },
        {
          "name": "stderr",
          "output_type": "stream",
          "text": [
            "Epoch 7/150: 100%|██████████| 155/155 [00:02<00:00, 58.23it/s]\n"
          ]
        },
        {
          "name": "stdout",
          "output_type": "stream",
          "text": [
            "Epoch 7/150, Training Loss: 1.3732, Learning Rate: 0.001\n"
          ]
        },
        {
          "name": "stderr",
          "output_type": "stream",
          "text": [
            "Epoch 8/150: 100%|██████████| 155/155 [00:02<00:00, 58.53it/s]\n"
          ]
        },
        {
          "name": "stdout",
          "output_type": "stream",
          "text": [
            "Epoch 8/150, Training Loss: 1.0557, Learning Rate: 0.001\n"
          ]
        },
        {
          "name": "stderr",
          "output_type": "stream",
          "text": [
            "Epoch 9/150: 100%|██████████| 155/155 [00:02<00:00, 57.80it/s]\n"
          ]
        },
        {
          "name": "stdout",
          "output_type": "stream",
          "text": [
            "Epoch 9/150, Training Loss: 0.8158, Learning Rate: 0.001\n"
          ]
        },
        {
          "name": "stderr",
          "output_type": "stream",
          "text": [
            "Epoch 10/150: 100%|██████████| 155/155 [00:03<00:00, 48.77it/s]\n"
          ]
        },
        {
          "name": "stdout",
          "output_type": "stream",
          "text": [
            "Epoch 10/150, Training Loss: 0.6260, Learning Rate: 0.001\n"
          ]
        },
        {
          "name": "stderr",
          "output_type": "stream",
          "text": [
            "Epoch 11/150: 100%|██████████| 155/155 [00:02<00:00, 54.03it/s]\n"
          ]
        },
        {
          "name": "stdout",
          "output_type": "stream",
          "text": [
            "Epoch 11/150, Training Loss: 0.4915, Learning Rate: 0.001\n"
          ]
        },
        {
          "name": "stderr",
          "output_type": "stream",
          "text": [
            "Epoch 12/150: 100%|██████████| 155/155 [00:02<00:00, 58.09it/s]\n"
          ]
        },
        {
          "name": "stdout",
          "output_type": "stream",
          "text": [
            "Epoch 12/150, Training Loss: 0.3974, Learning Rate: 0.001\n"
          ]
        },
        {
          "name": "stderr",
          "output_type": "stream",
          "text": [
            "Epoch 13/150: 100%|██████████| 155/155 [00:02<00:00, 59.11it/s]\n"
          ]
        },
        {
          "name": "stdout",
          "output_type": "stream",
          "text": [
            "Epoch 13/150, Training Loss: 0.3092, Learning Rate: 0.001\n"
          ]
        },
        {
          "name": "stderr",
          "output_type": "stream",
          "text": [
            "Epoch 14/150: 100%|██████████| 155/155 [00:02<00:00, 54.78it/s]\n"
          ]
        },
        {
          "name": "stdout",
          "output_type": "stream",
          "text": [
            "Epoch 14/150, Training Loss: 0.2667, Learning Rate: 0.001\n"
          ]
        },
        {
          "name": "stderr",
          "output_type": "stream",
          "text": [
            "Epoch 15/150: 100%|██████████| 155/155 [00:03<00:00, 47.75it/s]\n"
          ]
        },
        {
          "name": "stdout",
          "output_type": "stream",
          "text": [
            "Epoch 15/150, Training Loss: 0.2586, Learning Rate: 0.001\n"
          ]
        },
        {
          "name": "stderr",
          "output_type": "stream",
          "text": [
            "Epoch 16/150: 100%|██████████| 155/155 [00:02<00:00, 57.84it/s]\n"
          ]
        },
        {
          "name": "stdout",
          "output_type": "stream",
          "text": [
            "Epoch 16/150, Training Loss: 0.2720, Learning Rate: 0.001\n"
          ]
        },
        {
          "name": "stderr",
          "output_type": "stream",
          "text": [
            "Epoch 17/150: 100%|██████████| 155/155 [00:02<00:00, 57.59it/s]\n"
          ]
        },
        {
          "name": "stdout",
          "output_type": "stream",
          "text": [
            "Epoch 17/150, Training Loss: 0.1858, Learning Rate: 0.001\n"
          ]
        },
        {
          "name": "stderr",
          "output_type": "stream",
          "text": [
            "Epoch 18/150: 100%|██████████| 155/155 [00:02<00:00, 58.70it/s]\n"
          ]
        },
        {
          "name": "stdout",
          "output_type": "stream",
          "text": [
            "Epoch 18/150, Training Loss: 0.1668, Learning Rate: 0.001\n"
          ]
        },
        {
          "name": "stderr",
          "output_type": "stream",
          "text": [
            "Epoch 19/150: 100%|██████████| 155/155 [00:03<00:00, 45.40it/s]\n"
          ]
        },
        {
          "name": "stdout",
          "output_type": "stream",
          "text": [
            "Epoch 19/150, Training Loss: 0.1335, Learning Rate: 0.001\n"
          ]
        },
        {
          "name": "stderr",
          "output_type": "stream",
          "text": [
            "Epoch 20/150: 100%|██████████| 155/155 [00:02<00:00, 58.38it/s]\n"
          ]
        },
        {
          "name": "stdout",
          "output_type": "stream",
          "text": [
            "Epoch 20/150, Training Loss: 0.1279, Learning Rate: 0.001\n"
          ]
        },
        {
          "name": "stderr",
          "output_type": "stream",
          "text": [
            "Epoch 21/150: 100%|██████████| 155/155 [00:02<00:00, 58.28it/s]\n"
          ]
        },
        {
          "name": "stdout",
          "output_type": "stream",
          "text": [
            "Epoch 21/150, Training Loss: 0.1224, Learning Rate: 0.001\n"
          ]
        },
        {
          "name": "stderr",
          "output_type": "stream",
          "text": [
            "Epoch 22/150: 100%|██████████| 155/155 [00:02<00:00, 57.48it/s]\n"
          ]
        },
        {
          "name": "stdout",
          "output_type": "stream",
          "text": [
            "Epoch 22/150, Training Loss: 0.1130, Learning Rate: 0.001\n"
          ]
        },
        {
          "name": "stderr",
          "output_type": "stream",
          "text": [
            "Epoch 23/150: 100%|██████████| 155/155 [00:03<00:00, 48.04it/s]\n"
          ]
        },
        {
          "name": "stdout",
          "output_type": "stream",
          "text": [
            "Epoch 23/150, Training Loss: 0.0974, Learning Rate: 0.001\n"
          ]
        },
        {
          "name": "stderr",
          "output_type": "stream",
          "text": [
            "Epoch 24/150: 100%|██████████| 155/155 [00:02<00:00, 55.88it/s]\n"
          ]
        },
        {
          "name": "stdout",
          "output_type": "stream",
          "text": [
            "Epoch 24/150, Training Loss: 0.0887, Learning Rate: 0.001\n"
          ]
        },
        {
          "name": "stderr",
          "output_type": "stream",
          "text": [
            "Epoch 25/150: 100%|██████████| 155/155 [00:02<00:00, 57.83it/s]\n"
          ]
        },
        {
          "name": "stdout",
          "output_type": "stream",
          "text": [
            "Epoch 25/150, Training Loss: 0.1002, Learning Rate: 0.001\n"
          ]
        },
        {
          "name": "stderr",
          "output_type": "stream",
          "text": [
            "Epoch 26/150: 100%|██████████| 155/155 [00:02<00:00, 57.23it/s]\n"
          ]
        },
        {
          "name": "stdout",
          "output_type": "stream",
          "text": [
            "Epoch 26/150, Training Loss: 0.0994, Learning Rate: 0.0009000000000000001\n"
          ]
        },
        {
          "name": "stderr",
          "output_type": "stream",
          "text": [
            "Epoch 27/150: 100%|██████████| 155/155 [00:02<00:00, 53.96it/s]\n"
          ]
        },
        {
          "name": "stdout",
          "output_type": "stream",
          "text": [
            "Epoch 27/150, Training Loss: 0.0792, Learning Rate: 0.0008100000000000001\n"
          ]
        },
        {
          "name": "stderr",
          "output_type": "stream",
          "text": [
            "Epoch 28/150: 100%|██████████| 155/155 [00:03<00:00, 49.51it/s]\n"
          ]
        },
        {
          "name": "stdout",
          "output_type": "stream",
          "text": [
            "Epoch 28/150, Training Loss: 0.0649, Learning Rate: 0.000729\n"
          ]
        },
        {
          "name": "stderr",
          "output_type": "stream",
          "text": [
            "Epoch 29/150: 100%|██████████| 155/155 [00:02<00:00, 57.19it/s]\n"
          ]
        },
        {
          "name": "stdout",
          "output_type": "stream",
          "text": [
            "Epoch 29/150, Training Loss: 0.0543, Learning Rate: 0.0006561000000000001\n"
          ]
        },
        {
          "name": "stderr",
          "output_type": "stream",
          "text": [
            "Epoch 30/150: 100%|██████████| 155/155 [00:02<00:00, 57.57it/s]\n"
          ]
        },
        {
          "name": "stdout",
          "output_type": "stream",
          "text": [
            "Epoch 30/150, Training Loss: 0.0485, Learning Rate: 0.00059049\n"
          ]
        },
        {
          "name": "stderr",
          "output_type": "stream",
          "text": [
            "Epoch 31/150: 100%|██████████| 155/155 [00:02<00:00, 58.55it/s]\n"
          ]
        },
        {
          "name": "stdout",
          "output_type": "stream",
          "text": [
            "Epoch 31/150, Training Loss: 0.0450, Learning Rate: 0.000531441\n"
          ]
        },
        {
          "name": "stderr",
          "output_type": "stream",
          "text": [
            "Epoch 32/150: 100%|██████████| 155/155 [00:03<00:00, 46.08it/s]\n"
          ]
        },
        {
          "name": "stdout",
          "output_type": "stream",
          "text": [
            "Epoch 32/150, Training Loss: 0.0396, Learning Rate: 0.0004782969\n"
          ]
        },
        {
          "name": "stderr",
          "output_type": "stream",
          "text": [
            "Epoch 33/150: 100%|██████████| 155/155 [00:02<00:00, 58.71it/s]\n"
          ]
        },
        {
          "name": "stdout",
          "output_type": "stream",
          "text": [
            "Epoch 33/150, Training Loss: 0.0369, Learning Rate: 0.00043046721\n"
          ]
        },
        {
          "name": "stderr",
          "output_type": "stream",
          "text": [
            "Epoch 34/150: 100%|██████████| 155/155 [00:02<00:00, 57.54it/s]\n"
          ]
        },
        {
          "name": "stdout",
          "output_type": "stream",
          "text": [
            "Epoch 34/150, Training Loss: 0.0352, Learning Rate: 0.000387420489\n"
          ]
        },
        {
          "name": "stderr",
          "output_type": "stream",
          "text": [
            "Epoch 35/150: 100%|██████████| 155/155 [00:02<00:00, 58.86it/s]\n"
          ]
        },
        {
          "name": "stdout",
          "output_type": "stream",
          "text": [
            "Epoch 35/150, Training Loss: 0.0351, Learning Rate: 0.0003486784401\n"
          ]
        },
        {
          "name": "stderr",
          "output_type": "stream",
          "text": [
            "Epoch 36/150: 100%|██████████| 155/155 [00:03<00:00, 46.18it/s]\n"
          ]
        },
        {
          "name": "stdout",
          "output_type": "stream",
          "text": [
            "Epoch 36/150, Training Loss: 0.0325, Learning Rate: 0.00031381059609000004\n"
          ]
        },
        {
          "name": "stderr",
          "output_type": "stream",
          "text": [
            "Epoch 37/150: 100%|██████████| 155/155 [00:02<00:00, 56.06it/s]\n"
          ]
        },
        {
          "name": "stdout",
          "output_type": "stream",
          "text": [
            "Epoch 37/150, Training Loss: 0.0313, Learning Rate: 0.00028242953648100003\n"
          ]
        },
        {
          "name": "stderr",
          "output_type": "stream",
          "text": [
            "Epoch 38/150: 100%|██████████| 155/155 [00:02<00:00, 58.78it/s]\n"
          ]
        },
        {
          "name": "stdout",
          "output_type": "stream",
          "text": [
            "Epoch 38/150, Training Loss: 0.0306, Learning Rate: 0.00025418658283290005\n"
          ]
        },
        {
          "name": "stderr",
          "output_type": "stream",
          "text": [
            "Epoch 39/150: 100%|██████████| 155/155 [00:02<00:00, 58.44it/s]\n"
          ]
        },
        {
          "name": "stdout",
          "output_type": "stream",
          "text": [
            "Epoch 39/150, Training Loss: 0.0295, Learning Rate: 0.00022876792454961005\n"
          ]
        },
        {
          "name": "stderr",
          "output_type": "stream",
          "text": [
            "Epoch 40/150: 100%|██████████| 155/155 [00:03<00:00, 51.65it/s]\n"
          ]
        },
        {
          "name": "stdout",
          "output_type": "stream",
          "text": [
            "Epoch 40/150, Training Loss: 0.0289, Learning Rate: 0.00020589113209464906\n"
          ]
        },
        {
          "name": "stderr",
          "output_type": "stream",
          "text": [
            "Epoch 41/150: 100%|██████████| 155/155 [00:03<00:00, 49.85it/s]\n"
          ]
        },
        {
          "name": "stdout",
          "output_type": "stream",
          "text": [
            "Epoch 41/150, Training Loss: 0.0288, Learning Rate: 0.00018530201888518417\n"
          ]
        },
        {
          "name": "stderr",
          "output_type": "stream",
          "text": [
            "Epoch 42/150: 100%|██████████| 155/155 [00:02<00:00, 57.82it/s]\n"
          ]
        },
        {
          "name": "stdout",
          "output_type": "stream",
          "text": [
            "Epoch 42/150, Training Loss: 0.0287, Learning Rate: 0.00016677181699666576\n"
          ]
        },
        {
          "name": "stderr",
          "output_type": "stream",
          "text": [
            "Epoch 43/150: 100%|██████████| 155/155 [00:02<00:00, 58.69it/s]\n"
          ]
        },
        {
          "name": "stdout",
          "output_type": "stream",
          "text": [
            "Epoch 43/150, Training Loss: 0.0277, Learning Rate: 0.0001500946352969992\n"
          ]
        },
        {
          "name": "stderr",
          "output_type": "stream",
          "text": [
            "Epoch 44/150: 100%|██████████| 155/155 [00:02<00:00, 57.44it/s]\n"
          ]
        },
        {
          "name": "stdout",
          "output_type": "stream",
          "text": [
            "Epoch 44/150, Training Loss: 0.0292, Learning Rate: 0.0001350851717672993\n"
          ]
        },
        {
          "name": "stderr",
          "output_type": "stream",
          "text": [
            "Epoch 45/150: 100%|██████████| 155/155 [00:03<00:00, 45.91it/s]\n"
          ]
        },
        {
          "name": "stdout",
          "output_type": "stream",
          "text": [
            "Epoch 45/150, Training Loss: 0.0270, Learning Rate: 0.00012157665459056936\n"
          ]
        },
        {
          "name": "stderr",
          "output_type": "stream",
          "text": [
            "Epoch 46/150: 100%|██████████| 155/155 [00:02<00:00, 57.60it/s]\n"
          ]
        },
        {
          "name": "stdout",
          "output_type": "stream",
          "text": [
            "Epoch 46/150, Training Loss: 0.0267, Learning Rate: 0.00010941898913151243\n"
          ]
        },
        {
          "name": "stderr",
          "output_type": "stream",
          "text": [
            "Epoch 47/150: 100%|██████████| 155/155 [00:02<00:00, 58.06it/s]\n"
          ]
        },
        {
          "name": "stdout",
          "output_type": "stream",
          "text": [
            "Epoch 47/150, Training Loss: 0.0265, Learning Rate: 9.847709021836118e-05\n"
          ]
        },
        {
          "name": "stderr",
          "output_type": "stream",
          "text": [
            "Epoch 48/150: 100%|██████████| 155/155 [00:02<00:00, 58.41it/s]\n"
          ]
        },
        {
          "name": "stdout",
          "output_type": "stream",
          "text": [
            "Epoch 48/150, Training Loss: 0.0264, Learning Rate: 8.862938119652506e-05\n"
          ]
        },
        {
          "name": "stderr",
          "output_type": "stream",
          "text": [
            "Epoch 49/150: 100%|██████████| 155/155 [00:03<00:00, 45.70it/s]\n"
          ]
        },
        {
          "name": "stdout",
          "output_type": "stream",
          "text": [
            "Epoch 49/150, Training Loss: 0.0270, Learning Rate: 7.976644307687256e-05\n"
          ]
        },
        {
          "name": "stderr",
          "output_type": "stream",
          "text": [
            "Epoch 50/150: 100%|██████████| 155/155 [00:02<00:00, 56.99it/s]\n"
          ]
        },
        {
          "name": "stdout",
          "output_type": "stream",
          "text": [
            "Epoch 50/150, Training Loss: 0.0260, Learning Rate: 7.17897987691853e-05\n"
          ]
        },
        {
          "name": "stderr",
          "output_type": "stream",
          "text": [
            "Epoch 51/150: 100%|██████████| 155/155 [00:02<00:00, 57.79it/s]\n"
          ]
        },
        {
          "name": "stdout",
          "output_type": "stream",
          "text": [
            "Epoch 51/150, Training Loss: 0.0258, Learning Rate: 6.461081889226677e-05\n"
          ]
        },
        {
          "name": "stderr",
          "output_type": "stream",
          "text": [
            "Epoch 52/150: 100%|██████████| 155/155 [00:02<00:00, 57.70it/s]\n"
          ]
        },
        {
          "name": "stdout",
          "output_type": "stream",
          "text": [
            "Epoch 52/150, Training Loss: 0.0259, Learning Rate: 5.81497370030401e-05\n"
          ]
        },
        {
          "name": "stderr",
          "output_type": "stream",
          "text": [
            "Epoch 53/150: 100%|██████████| 155/155 [00:03<00:00, 51.14it/s]\n"
          ]
        },
        {
          "name": "stdout",
          "output_type": "stream",
          "text": [
            "Epoch 53/150, Training Loss: 0.0258, Learning Rate: 5.233476330273609e-05\n"
          ]
        },
        {
          "name": "stderr",
          "output_type": "stream",
          "text": [
            "Epoch 54/150: 100%|██████████| 155/155 [00:03<00:00, 51.34it/s]\n"
          ]
        },
        {
          "name": "stdout",
          "output_type": "stream",
          "text": [
            "Epoch 54/150, Training Loss: 0.0250, Learning Rate: 4.7101286972462485e-05\n"
          ]
        },
        {
          "name": "stderr",
          "output_type": "stream",
          "text": [
            "Epoch 55/150: 100%|██████████| 155/155 [00:02<00:00, 57.66it/s]\n"
          ]
        },
        {
          "name": "stdout",
          "output_type": "stream",
          "text": [
            "Epoch 55/150, Training Loss: 0.0256, Learning Rate: 4.239115827521624e-05\n"
          ]
        },
        {
          "name": "stderr",
          "output_type": "stream",
          "text": [
            "Epoch 56/150: 100%|██████████| 155/155 [00:02<00:00, 57.83it/s]\n"
          ]
        },
        {
          "name": "stdout",
          "output_type": "stream",
          "text": [
            "Epoch 56/150, Training Loss: 0.0254, Learning Rate: 3.8152042447694614e-05\n"
          ]
        },
        {
          "name": "stderr",
          "output_type": "stream",
          "text": [
            "Epoch 57/150: 100%|██████████| 155/155 [00:02<00:00, 57.56it/s]\n"
          ]
        },
        {
          "name": "stdout",
          "output_type": "stream",
          "text": [
            "Epoch 57/150, Training Loss: 0.0259, Learning Rate: 3.433683820292515e-05\n"
          ]
        },
        {
          "name": "stderr",
          "output_type": "stream",
          "text": [
            "Epoch 58/150: 100%|██████████| 155/155 [00:03<00:00, 46.83it/s]\n"
          ]
        },
        {
          "name": "stdout",
          "output_type": "stream",
          "text": [
            "Epoch 58/150, Training Loss: 0.0253, Learning Rate: 3.090315438263264e-05\n"
          ]
        },
        {
          "name": "stderr",
          "output_type": "stream",
          "text": [
            "Epoch 59/150: 100%|██████████| 155/155 [00:02<00:00, 57.70it/s]\n"
          ]
        },
        {
          "name": "stdout",
          "output_type": "stream",
          "text": [
            "Epoch 59/150, Training Loss: 0.0252, Learning Rate: 2.7812838944369376e-05\n"
          ]
        },
        {
          "name": "stderr",
          "output_type": "stream",
          "text": [
            "Epoch 60/150: 100%|██████████| 155/155 [00:02<00:00, 57.36it/s]\n"
          ]
        },
        {
          "name": "stdout",
          "output_type": "stream",
          "text": [
            "Epoch 60/150, Training Loss: 0.0252, Learning Rate: 2.503155504993244e-05\n"
          ]
        },
        {
          "name": "stderr",
          "output_type": "stream",
          "text": [
            "Epoch 61/150: 100%|██████████| 155/155 [00:02<00:00, 57.18it/s]\n"
          ]
        },
        {
          "name": "stdout",
          "output_type": "stream",
          "text": [
            "Epoch 61/150, Training Loss: 0.0254, Learning Rate: 2.2528399544939195e-05\n"
          ]
        },
        {
          "name": "stderr",
          "output_type": "stream",
          "text": [
            "Epoch 62/150: 100%|██████████| 155/155 [00:03<00:00, 46.31it/s]\n"
          ]
        },
        {
          "name": "stdout",
          "output_type": "stream",
          "text": [
            "Epoch 62/150, Training Loss: 0.0252, Learning Rate: 2.0275559590445276e-05\n"
          ]
        },
        {
          "name": "stderr",
          "output_type": "stream",
          "text": [
            "Epoch 63/150: 100%|██████████| 155/155 [00:03<00:00, 45.72it/s]\n"
          ]
        },
        {
          "name": "stdout",
          "output_type": "stream",
          "text": [
            "Epoch 63/150, Training Loss: 0.0256, Learning Rate: 1.8248003631400748e-05\n"
          ]
        },
        {
          "name": "stderr",
          "output_type": "stream",
          "text": [
            "Epoch 64/150: 100%|██████████| 155/155 [00:02<00:00, 58.04it/s]\n"
          ]
        },
        {
          "name": "stdout",
          "output_type": "stream",
          "text": [
            "Epoch 64/150, Training Loss: 0.0249, Learning Rate: 1.6423203268260675e-05\n"
          ]
        },
        {
          "name": "stderr",
          "output_type": "stream",
          "text": [
            "Epoch 65/150: 100%|██████████| 155/155 [00:02<00:00, 57.94it/s]\n"
          ]
        },
        {
          "name": "stdout",
          "output_type": "stream",
          "text": [
            "Epoch 65/150, Training Loss: 0.0251, Learning Rate: 1.4780882941434607e-05\n"
          ]
        },
        {
          "name": "stderr",
          "output_type": "stream",
          "text": [
            "Epoch 66/150: 100%|██████████| 155/155 [00:03<00:00, 45.88it/s]\n"
          ]
        },
        {
          "name": "stdout",
          "output_type": "stream",
          "text": [
            "Epoch 66/150, Training Loss: 0.0253, Learning Rate: 1.3302794647291146e-05\n"
          ]
        },
        {
          "name": "stderr",
          "output_type": "stream",
          "text": [
            "Epoch 67/150: 100%|██████████| 155/155 [00:02<00:00, 57.51it/s]\n"
          ]
        },
        {
          "name": "stdout",
          "output_type": "stream",
          "text": [
            "Epoch 67/150, Training Loss: 0.0248, Learning Rate: 1.1972515182562031e-05\n"
          ]
        },
        {
          "name": "stderr",
          "output_type": "stream",
          "text": [
            "Epoch 68/150: 100%|██████████| 155/155 [00:02<00:00, 58.90it/s]\n"
          ]
        },
        {
          "name": "stdout",
          "output_type": "stream",
          "text": [
            "Epoch 68/150, Training Loss: 0.0252, Learning Rate: 1.0775263664305828e-05\n"
          ]
        },
        {
          "name": "stderr",
          "output_type": "stream",
          "text": [
            "Epoch 69/150: 100%|██████████| 155/155 [00:02<00:00, 58.19it/s]\n"
          ]
        },
        {
          "name": "stdout",
          "output_type": "stream",
          "text": [
            "Epoch 69/150, Training Loss: 0.0251, Learning Rate: 9.697737297875246e-06\n"
          ]
        },
        {
          "name": "stderr",
          "output_type": "stream",
          "text": [
            "Epoch 70/150: 100%|██████████| 155/155 [00:03<00:00, 50.73it/s]\n"
          ]
        },
        {
          "name": "stdout",
          "output_type": "stream",
          "text": [
            "Epoch 70/150, Training Loss: 0.0257, Learning Rate: 8.727963568087722e-06\n"
          ]
        },
        {
          "name": "stderr",
          "output_type": "stream",
          "text": [
            "Epoch 71/150: 100%|██████████| 155/155 [00:03<00:00, 51.66it/s]\n"
          ]
        },
        {
          "name": "stdout",
          "output_type": "stream",
          "text": [
            "Epoch 71/150, Training Loss: 0.0251, Learning Rate: 7.85516721127895e-06\n"
          ]
        },
        {
          "name": "stderr",
          "output_type": "stream",
          "text": [
            "Epoch 72/150: 100%|██████████| 155/155 [00:02<00:00, 58.02it/s]\n"
          ]
        },
        {
          "name": "stdout",
          "output_type": "stream",
          "text": [
            "Epoch 72/150, Training Loss: 0.0255, Learning Rate: 7.069650490151056e-06\n"
          ]
        },
        {
          "name": "stderr",
          "output_type": "stream",
          "text": [
            "Epoch 73/150: 100%|██████████| 155/155 [00:02<00:00, 58.69it/s]\n"
          ]
        },
        {
          "name": "stdout",
          "output_type": "stream",
          "text": [
            "Epoch 73/150, Training Loss: 0.0248, Learning Rate: 6.362685441135951e-06\n"
          ]
        },
        {
          "name": "stderr",
          "output_type": "stream",
          "text": [
            "Epoch 74/150: 100%|██████████| 155/155 [00:02<00:00, 56.69it/s]\n"
          ]
        },
        {
          "name": "stdout",
          "output_type": "stream",
          "text": [
            "Epoch 74/150, Training Loss: 0.0252, Learning Rate: 5.7264168970223554e-06\n"
          ]
        },
        {
          "name": "stderr",
          "output_type": "stream",
          "text": [
            "Epoch 75/150: 100%|██████████| 155/155 [00:03<00:00, 46.25it/s]\n"
          ]
        },
        {
          "name": "stdout",
          "output_type": "stream",
          "text": [
            "Epoch 75/150, Training Loss: 0.0248, Learning Rate: 5.15377520732012e-06\n"
          ]
        },
        {
          "name": "stderr",
          "output_type": "stream",
          "text": [
            "Epoch 76/150: 100%|██████████| 155/155 [00:02<00:00, 58.09it/s]\n"
          ]
        },
        {
          "name": "stdout",
          "output_type": "stream",
          "text": [
            "Epoch 76/150, Training Loss: 0.0250, Learning Rate: 4.638397686588108e-06\n"
          ]
        },
        {
          "name": "stderr",
          "output_type": "stream",
          "text": [
            "Epoch 77/150: 100%|██████████| 155/155 [00:02<00:00, 57.71it/s]\n"
          ]
        },
        {
          "name": "stdout",
          "output_type": "stream",
          "text": [
            "Epoch 77/150, Training Loss: 0.0247, Learning Rate: 4.174557917929298e-06\n"
          ]
        },
        {
          "name": "stderr",
          "output_type": "stream",
          "text": [
            "Epoch 78/150: 100%|██████████| 155/155 [00:02<00:00, 57.98it/s]\n"
          ]
        },
        {
          "name": "stdout",
          "output_type": "stream",
          "text": [
            "Epoch 78/150, Training Loss: 0.0256, Learning Rate: 3.7571021261363684e-06\n"
          ]
        },
        {
          "name": "stderr",
          "output_type": "stream",
          "text": [
            "Epoch 79/150: 100%|██████████| 155/155 [00:03<00:00, 45.78it/s]\n"
          ]
        },
        {
          "name": "stdout",
          "output_type": "stream",
          "text": [
            "Epoch 79/150, Training Loss: 0.0254, Learning Rate: 3.3813919135227317e-06\n"
          ]
        },
        {
          "name": "stderr",
          "output_type": "stream",
          "text": [
            "Epoch 80/150: 100%|██████████| 155/155 [00:02<00:00, 57.93it/s]\n"
          ]
        },
        {
          "name": "stdout",
          "output_type": "stream",
          "text": [
            "Epoch 80/150, Training Loss: 0.0250, Learning Rate: 3.0432527221704586e-06\n"
          ]
        },
        {
          "name": "stderr",
          "output_type": "stream",
          "text": [
            "Epoch 81/150: 100%|██████████| 155/155 [00:02<00:00, 57.91it/s]\n"
          ]
        },
        {
          "name": "stdout",
          "output_type": "stream",
          "text": [
            "Epoch 81/150, Training Loss: 0.0253, Learning Rate: 2.7389274499534128e-06\n"
          ]
        },
        {
          "name": "stderr",
          "output_type": "stream",
          "text": [
            "Epoch 82/150: 100%|██████████| 155/155 [00:02<00:00, 56.74it/s]\n"
          ]
        },
        {
          "name": "stdout",
          "output_type": "stream",
          "text": [
            "Epoch 82/150, Training Loss: 0.0250, Learning Rate: 2.4650347049580716e-06\n"
          ]
        },
        {
          "name": "stderr",
          "output_type": "stream",
          "text": [
            "Epoch 83/150: 100%|██████████| 155/155 [00:03<00:00, 48.65it/s]\n"
          ]
        },
        {
          "name": "stdout",
          "output_type": "stream",
          "text": [
            "Epoch 83/150, Training Loss: 0.0247, Learning Rate: 2.2185312344622644e-06\n"
          ]
        },
        {
          "name": "stderr",
          "output_type": "stream",
          "text": [
            "Epoch 84/150: 100%|██████████| 155/155 [00:02<00:00, 54.68it/s]\n"
          ]
        },
        {
          "name": "stdout",
          "output_type": "stream",
          "text": [
            "Epoch 84/150, Training Loss: 0.0249, Learning Rate: 1.996678111016038e-06\n"
          ]
        },
        {
          "name": "stderr",
          "output_type": "stream",
          "text": [
            "Epoch 85/150: 100%|██████████| 155/155 [00:02<00:00, 57.67it/s]\n"
          ]
        },
        {
          "name": "stdout",
          "output_type": "stream",
          "text": [
            "Epoch 85/150, Training Loss: 0.0251, Learning Rate: 1.7970102999144342e-06\n"
          ]
        },
        {
          "name": "stderr",
          "output_type": "stream",
          "text": [
            "Epoch 86/150: 100%|██████████| 155/155 [00:02<00:00, 57.44it/s]\n"
          ]
        },
        {
          "name": "stdout",
          "output_type": "stream",
          "text": [
            "Epoch 86/150, Training Loss: 0.0251, Learning Rate: 1.6173092699229909e-06\n"
          ]
        },
        {
          "name": "stderr",
          "output_type": "stream",
          "text": [
            "Epoch 87/150: 100%|██████████| 155/155 [00:02<00:00, 54.07it/s]\n"
          ]
        },
        {
          "name": "stdout",
          "output_type": "stream",
          "text": [
            "Epoch 87/150, Training Loss: 0.0248, Learning Rate: 1.4555783429306917e-06\n"
          ]
        },
        {
          "name": "stderr",
          "output_type": "stream",
          "text": [
            "Epoch 88/150: 100%|██████████| 155/155 [00:03<00:00, 49.46it/s]\n"
          ]
        },
        {
          "name": "stdout",
          "output_type": "stream",
          "text": [
            "Epoch 88/150, Training Loss: 0.0247, Learning Rate: 1.3100205086376225e-06\n"
          ]
        },
        {
          "name": "stderr",
          "output_type": "stream",
          "text": [
            "Epoch 89/150: 100%|██████████| 155/155 [00:02<00:00, 57.54it/s]\n"
          ]
        },
        {
          "name": "stdout",
          "output_type": "stream",
          "text": [
            "Epoch 89/150, Training Loss: 0.0249, Learning Rate: 1.1790184577738603e-06\n"
          ]
        },
        {
          "name": "stderr",
          "output_type": "stream",
          "text": [
            "Epoch 90/150: 100%|██████████| 155/155 [00:02<00:00, 57.57it/s]\n"
          ]
        },
        {
          "name": "stdout",
          "output_type": "stream",
          "text": [
            "Epoch 90/150, Training Loss: 0.0254, Learning Rate: 1.0611166119964742e-06\n"
          ]
        },
        {
          "name": "stderr",
          "output_type": "stream",
          "text": [
            "Epoch 91/150: 100%|██████████| 155/155 [00:02<00:00, 57.31it/s]\n"
          ]
        },
        {
          "name": "stdout",
          "output_type": "stream",
          "text": [
            "Epoch 91/150, Training Loss: 0.0249, Learning Rate: 9.550049507968269e-07\n"
          ]
        },
        {
          "name": "stderr",
          "output_type": "stream",
          "text": [
            "Epoch 92/150: 100%|██████████| 155/155 [00:03<00:00, 45.43it/s]\n"
          ]
        },
        {
          "name": "stdout",
          "output_type": "stream",
          "text": [
            "Epoch 92/150, Training Loss: 0.0250, Learning Rate: 8.595044557171442e-07\n"
          ]
        },
        {
          "name": "stderr",
          "output_type": "stream",
          "text": [
            "Epoch 93/150: 100%|██████████| 155/155 [00:02<00:00, 57.81it/s]\n"
          ]
        },
        {
          "name": "stdout",
          "output_type": "stream",
          "text": [
            "Epoch 93/150, Training Loss: 0.0256, Learning Rate: 7.735540101454298e-07\n"
          ]
        },
        {
          "name": "stderr",
          "output_type": "stream",
          "text": [
            "Epoch 94/150: 100%|██████████| 155/155 [00:02<00:00, 57.87it/s]\n"
          ]
        },
        {
          "name": "stdout",
          "output_type": "stream",
          "text": [
            "Epoch 94/150, Training Loss: 0.0249, Learning Rate: 6.961986091308869e-07\n"
          ]
        },
        {
          "name": "stderr",
          "output_type": "stream",
          "text": [
            "Epoch 95/150: 100%|██████████| 155/155 [00:02<00:00, 57.90it/s]\n"
          ]
        },
        {
          "name": "stdout",
          "output_type": "stream",
          "text": [
            "Epoch 95/150, Training Loss: 0.0247, Learning Rate: 6.265787482177982e-07\n"
          ]
        },
        {
          "name": "stderr",
          "output_type": "stream",
          "text": [
            "Epoch 96/150: 100%|██████████| 155/155 [00:03<00:00, 45.76it/s]\n"
          ]
        },
        {
          "name": "stdout",
          "output_type": "stream",
          "text": [
            "Epoch 96/150, Training Loss: 0.0249, Learning Rate: 5.639208733960183e-07\n"
          ]
        },
        {
          "name": "stderr",
          "output_type": "stream",
          "text": [
            "Epoch 97/150: 100%|██████████| 155/155 [00:02<00:00, 57.26it/s]\n"
          ]
        },
        {
          "name": "stdout",
          "output_type": "stream",
          "text": [
            "Epoch 97/150, Training Loss: 0.0246, Learning Rate: 5.075287860564165e-07\n"
          ]
        },
        {
          "name": "stderr",
          "output_type": "stream",
          "text": [
            "Epoch 98/150: 100%|██████████| 155/155 [00:02<00:00, 58.77it/s]\n"
          ]
        },
        {
          "name": "stdout",
          "output_type": "stream",
          "text": [
            "Epoch 98/150, Training Loss: 0.0251, Learning Rate: 4.567759074507748e-07\n"
          ]
        },
        {
          "name": "stderr",
          "output_type": "stream",
          "text": [
            "Epoch 99/150: 100%|██████████| 155/155 [00:02<00:00, 58.05it/s]\n"
          ]
        },
        {
          "name": "stdout",
          "output_type": "stream",
          "text": [
            "Epoch 99/150, Training Loss: 0.0251, Learning Rate: 4.1109831670569735e-07\n"
          ]
        },
        {
          "name": "stderr",
          "output_type": "stream",
          "text": [
            "Epoch 100/150: 100%|██████████| 155/155 [00:03<00:00, 51.30it/s]\n"
          ]
        },
        {
          "name": "stdout",
          "output_type": "stream",
          "text": [
            "Epoch 100/150, Training Loss: 0.0250, Learning Rate: 3.699884850351276e-07\n"
          ]
        },
        {
          "name": "stderr",
          "output_type": "stream",
          "text": [
            "Epoch 101/150: 100%|██████████| 155/155 [00:03<00:00, 50.46it/s]\n"
          ]
        },
        {
          "name": "stdout",
          "output_type": "stream",
          "text": [
            "Epoch 101/150, Training Loss: 0.0250, Learning Rate: 3.329896365316149e-07\n"
          ]
        },
        {
          "name": "stderr",
          "output_type": "stream",
          "text": [
            "Epoch 102/150: 100%|██████████| 155/155 [00:02<00:00, 58.01it/s]\n"
          ]
        },
        {
          "name": "stdout",
          "output_type": "stream",
          "text": [
            "Epoch 102/150, Training Loss: 0.0250, Learning Rate: 2.9969067287845343e-07\n"
          ]
        },
        {
          "name": "stderr",
          "output_type": "stream",
          "text": [
            "Epoch 103/150: 100%|██████████| 155/155 [00:02<00:00, 58.26it/s]\n"
          ]
        },
        {
          "name": "stdout",
          "output_type": "stream",
          "text": [
            "Epoch 103/150, Training Loss: 0.0251, Learning Rate: 2.697216055906081e-07\n"
          ]
        },
        {
          "name": "stderr",
          "output_type": "stream",
          "text": [
            "Epoch 104/150: 100%|██████████| 155/155 [00:02<00:00, 57.16it/s]\n"
          ]
        },
        {
          "name": "stdout",
          "output_type": "stream",
          "text": [
            "Epoch 104/150, Training Loss: 0.0250, Learning Rate: 2.427494450315473e-07\n"
          ]
        },
        {
          "name": "stderr",
          "output_type": "stream",
          "text": [
            "Epoch 105/150: 100%|██████████| 155/155 [00:03<00:00, 45.39it/s]\n"
          ]
        },
        {
          "name": "stdout",
          "output_type": "stream",
          "text": [
            "Epoch 105/150, Training Loss: 0.0248, Learning Rate: 2.1847450052839256e-07\n"
          ]
        },
        {
          "name": "stderr",
          "output_type": "stream",
          "text": [
            "Epoch 106/150: 100%|██████████| 155/155 [00:02<00:00, 56.79it/s]\n"
          ]
        },
        {
          "name": "stdout",
          "output_type": "stream",
          "text": [
            "Epoch 106/150, Training Loss: 0.0251, Learning Rate: 1.966270504755533e-07\n"
          ]
        },
        {
          "name": "stderr",
          "output_type": "stream",
          "text": [
            "Epoch 107/150: 100%|██████████| 155/155 [00:02<00:00, 57.22it/s]\n"
          ]
        },
        {
          "name": "stdout",
          "output_type": "stream",
          "text": [
            "Epoch 107/150, Training Loss: 0.0250, Learning Rate: 1.7696434542799797e-07\n"
          ]
        },
        {
          "name": "stderr",
          "output_type": "stream",
          "text": [
            "Epoch 108/150: 100%|██████████| 155/155 [00:02<00:00, 58.08it/s]\n"
          ]
        },
        {
          "name": "stdout",
          "output_type": "stream",
          "text": [
            "Epoch 108/150, Training Loss: 0.0249, Learning Rate: 1.5926791088519817e-07\n"
          ]
        },
        {
          "name": "stderr",
          "output_type": "stream",
          "text": [
            "Epoch 109/150: 100%|██████████| 155/155 [00:03<00:00, 45.66it/s]\n"
          ]
        },
        {
          "name": "stdout",
          "output_type": "stream",
          "text": [
            "Epoch 109/150, Training Loss: 0.0251, Learning Rate: 1.4334111979667837e-07\n"
          ]
        },
        {
          "name": "stderr",
          "output_type": "stream",
          "text": [
            "Epoch 110/150: 100%|██████████| 155/155 [00:02<00:00, 57.01it/s]\n"
          ]
        },
        {
          "name": "stdout",
          "output_type": "stream",
          "text": [
            "Epoch 110/150, Training Loss: 0.0250, Learning Rate: 1.2900700781701054e-07\n"
          ]
        },
        {
          "name": "stderr",
          "output_type": "stream",
          "text": [
            "Epoch 111/150: 100%|██████████| 155/155 [00:02<00:00, 57.55it/s]\n"
          ]
        },
        {
          "name": "stdout",
          "output_type": "stream",
          "text": [
            "Epoch 111/150, Training Loss: 0.0250, Learning Rate: 1.1610630703530949e-07\n"
          ]
        },
        {
          "name": "stderr",
          "output_type": "stream",
          "text": [
            "Epoch 112/150: 100%|██████████| 155/155 [00:02<00:00, 57.99it/s]\n"
          ]
        },
        {
          "name": "stdout",
          "output_type": "stream",
          "text": [
            "Epoch 112/150, Training Loss: 0.0248, Learning Rate: 1.0449567633177854e-07\n"
          ]
        },
        {
          "name": "stderr",
          "output_type": "stream",
          "text": [
            "Epoch 113/150: 100%|██████████| 155/155 [00:03<00:00, 49.61it/s]\n"
          ]
        },
        {
          "name": "stdout",
          "output_type": "stream",
          "text": [
            "Epoch 113/150, Training Loss: 0.0254, Learning Rate: 9.40461086986007e-08\n"
          ]
        },
        {
          "name": "stderr",
          "output_type": "stream",
          "text": [
            "Epoch 114/150: 100%|██████████| 155/155 [00:02<00:00, 52.27it/s]\n"
          ]
        },
        {
          "name": "stdout",
          "output_type": "stream",
          "text": [
            "Epoch 114/150, Training Loss: 0.0251, Learning Rate: 8.464149782874062e-08\n"
          ]
        },
        {
          "name": "stderr",
          "output_type": "stream",
          "text": [
            "Epoch 115/150: 100%|██████████| 155/155 [00:02<00:00, 57.16it/s]\n"
          ]
        },
        {
          "name": "stdout",
          "output_type": "stream",
          "text": [
            "Epoch 115/150, Training Loss: 0.0254, Learning Rate: 7.617734804586656e-08\n"
          ]
        },
        {
          "name": "stderr",
          "output_type": "stream",
          "text": [
            "Epoch 116/150: 100%|██████████| 155/155 [00:02<00:00, 57.34it/s]\n"
          ]
        },
        {
          "name": "stdout",
          "output_type": "stream",
          "text": [
            "Epoch 116/150, Training Loss: 0.0253, Learning Rate: 6.85596132412799e-08\n"
          ]
        },
        {
          "name": "stderr",
          "output_type": "stream",
          "text": [
            "Epoch 117/150: 100%|██████████| 155/155 [00:02<00:00, 54.15it/s]\n"
          ]
        },
        {
          "name": "stdout",
          "output_type": "stream",
          "text": [
            "Epoch 117/150, Training Loss: 0.0253, Learning Rate: 6.170365191715191e-08\n"
          ]
        },
        {
          "name": "stderr",
          "output_type": "stream",
          "text": [
            "Epoch 118/150: 100%|██████████| 155/155 [00:03<00:00, 47.54it/s]\n"
          ]
        },
        {
          "name": "stdout",
          "output_type": "stream",
          "text": [
            "Epoch 118/150, Training Loss: 0.0248, Learning Rate: 5.553328672543672e-08\n"
          ]
        },
        {
          "name": "stderr",
          "output_type": "stream",
          "text": [
            "Epoch 119/150: 100%|██████████| 155/155 [00:02<00:00, 57.54it/s]\n"
          ]
        },
        {
          "name": "stdout",
          "output_type": "stream",
          "text": [
            "Epoch 119/150, Training Loss: 0.0246, Learning Rate: 4.9979958052893047e-08\n"
          ]
        },
        {
          "name": "stderr",
          "output_type": "stream",
          "text": [
            "Epoch 120/150: 100%|██████████| 155/155 [00:02<00:00, 56.97it/s]\n"
          ]
        },
        {
          "name": "stdout",
          "output_type": "stream",
          "text": [
            "Epoch 120/150, Training Loss: 0.0251, Learning Rate: 4.4981962247603745e-08\n"
          ]
        },
        {
          "name": "stderr",
          "output_type": "stream",
          "text": [
            "Epoch 121/150: 100%|██████████| 155/155 [00:02<00:00, 57.28it/s]\n"
          ]
        },
        {
          "name": "stdout",
          "output_type": "stream",
          "text": [
            "Epoch 121/150, Training Loss: 0.0252, Learning Rate: 4.048376602284337e-08\n"
          ]
        },
        {
          "name": "stderr",
          "output_type": "stream",
          "text": [
            "Epoch 122/150: 100%|██████████| 155/155 [00:03<00:00, 45.50it/s]\n"
          ]
        },
        {
          "name": "stdout",
          "output_type": "stream",
          "text": [
            "Epoch 122/150, Training Loss: 0.0248, Learning Rate: 3.6435389420559035e-08\n"
          ]
        },
        {
          "name": "stderr",
          "output_type": "stream",
          "text": [
            "Epoch 123/150: 100%|██████████| 155/155 [00:02<00:00, 57.94it/s]\n"
          ]
        },
        {
          "name": "stdout",
          "output_type": "stream",
          "text": [
            "Epoch 123/150, Training Loss: 0.0247, Learning Rate: 3.279185047850313e-08\n"
          ]
        },
        {
          "name": "stderr",
          "output_type": "stream",
          "text": [
            "Epoch 124/150: 100%|██████████| 155/155 [00:02<00:00, 57.11it/s]\n"
          ]
        },
        {
          "name": "stdout",
          "output_type": "stream",
          "text": [
            "Epoch 124/150, Training Loss: 0.0257, Learning Rate: 2.951266543065282e-08\n"
          ]
        },
        {
          "name": "stderr",
          "output_type": "stream",
          "text": [
            "Epoch 125/150: 100%|██████████| 155/155 [00:02<00:00, 57.68it/s]\n"
          ]
        },
        {
          "name": "stdout",
          "output_type": "stream",
          "text": [
            "Epoch 125/150, Training Loss: 0.0250, Learning Rate: 2.6561398887587538e-08\n"
          ]
        },
        {
          "name": "stderr",
          "output_type": "stream",
          "text": [
            "Epoch 126/150: 100%|██████████| 155/155 [00:03<00:00, 45.80it/s]\n"
          ]
        },
        {
          "name": "stdout",
          "output_type": "stream",
          "text": [
            "Epoch 126/150, Training Loss: 0.0250, Learning Rate: 2.3905258998828786e-08\n"
          ]
        },
        {
          "name": "stderr",
          "output_type": "stream",
          "text": [
            "Epoch 127/150: 100%|██████████| 155/155 [00:02<00:00, 57.55it/s]\n"
          ]
        },
        {
          "name": "stdout",
          "output_type": "stream",
          "text": [
            "Epoch 127/150, Training Loss: 0.0251, Learning Rate: 2.1514733098945908e-08\n"
          ]
        },
        {
          "name": "stderr",
          "output_type": "stream",
          "text": [
            "Epoch 128/150: 100%|██████████| 155/155 [00:02<00:00, 58.07it/s]\n"
          ]
        },
        {
          "name": "stdout",
          "output_type": "stream",
          "text": [
            "Epoch 128/150, Training Loss: 0.0251, Learning Rate: 1.9363259789051318e-08\n"
          ]
        },
        {
          "name": "stderr",
          "output_type": "stream",
          "text": [
            "Epoch 129/150: 100%|██████████| 155/155 [00:02<00:00, 57.56it/s]\n"
          ]
        },
        {
          "name": "stdout",
          "output_type": "stream",
          "text": [
            "Epoch 129/150, Training Loss: 0.0248, Learning Rate: 1.7426933810146187e-08\n"
          ]
        },
        {
          "name": "stderr",
          "output_type": "stream",
          "text": [
            "Epoch 130/150: 100%|██████████| 155/155 [00:02<00:00, 52.38it/s]\n"
          ]
        },
        {
          "name": "stdout",
          "output_type": "stream",
          "text": [
            "Epoch 130/150, Training Loss: 0.0251, Learning Rate: 1.5684240429131568e-08\n"
          ]
        },
        {
          "name": "stderr",
          "output_type": "stream",
          "text": [
            "Epoch 131/150: 100%|██████████| 155/155 [00:03<00:00, 50.20it/s]\n"
          ]
        },
        {
          "name": "stdout",
          "output_type": "stream",
          "text": [
            "Epoch 131/150, Training Loss: 0.0247, Learning Rate: 1.4115816386218411e-08\n"
          ]
        },
        {
          "name": "stderr",
          "output_type": "stream",
          "text": [
            "Epoch 132/150: 100%|██████████| 155/155 [00:02<00:00, 58.81it/s]\n"
          ]
        },
        {
          "name": "stdout",
          "output_type": "stream",
          "text": [
            "Epoch 132/150, Training Loss: 0.0249, Learning Rate: 1.2704234747596571e-08\n"
          ]
        },
        {
          "name": "stderr",
          "output_type": "stream",
          "text": [
            "Epoch 133/150: 100%|██████████| 155/155 [00:02<00:00, 57.60it/s]\n"
          ]
        },
        {
          "name": "stdout",
          "output_type": "stream",
          "text": [
            "Epoch 133/150, Training Loss: 0.0250, Learning Rate: 1.1433811272836913e-08\n"
          ]
        },
        {
          "name": "stderr",
          "output_type": "stream",
          "text": [
            "Epoch 134/150: 100%|██████████| 155/155 [00:02<00:00, 57.89it/s]\n"
          ]
        },
        {
          "name": "stdout",
          "output_type": "stream",
          "text": [
            "Epoch 134/150, Training Loss: 0.0250, Learning Rate: 1.0290430145553223e-08\n"
          ]
        },
        {
          "name": "stderr",
          "output_type": "stream",
          "text": [
            "Epoch 135/150: 100%|██████████| 155/155 [00:03<00:00, 45.53it/s]\n"
          ]
        },
        {
          "name": "stdout",
          "output_type": "stream",
          "text": [
            "Epoch 135/150, Training Loss: 0.0247, Learning Rate: 9.2613871309979e-09\n"
          ]
        },
        {
          "name": "stderr",
          "output_type": "stream",
          "text": [
            "Epoch 136/150: 100%|██████████| 155/155 [00:02<00:00, 57.84it/s]\n"
          ]
        },
        {
          "name": "stdout",
          "output_type": "stream",
          "text": [
            "Epoch 136/150, Training Loss: 0.0250, Learning Rate: 8.33524841789811e-09\n"
          ]
        },
        {
          "name": "stderr",
          "output_type": "stream",
          "text": [
            "Epoch 137/150: 100%|██████████| 155/155 [00:02<00:00, 58.55it/s]\n"
          ]
        },
        {
          "name": "stdout",
          "output_type": "stream",
          "text": [
            "Epoch 137/150, Training Loss: 0.0247, Learning Rate: 7.501723576108299e-09\n"
          ]
        },
        {
          "name": "stderr",
          "output_type": "stream",
          "text": [
            "Epoch 138/150: 100%|██████████| 155/155 [00:02<00:00, 59.19it/s]\n"
          ]
        },
        {
          "name": "stdout",
          "output_type": "stream",
          "text": [
            "Epoch 138/150, Training Loss: 0.0249, Learning Rate: 6.751551218497469e-09\n"
          ]
        },
        {
          "name": "stderr",
          "output_type": "stream",
          "text": [
            "Epoch 139/150: 100%|██████████| 155/155 [00:03<00:00, 43.77it/s]\n"
          ]
        },
        {
          "name": "stdout",
          "output_type": "stream",
          "text": [
            "Epoch 139/150, Training Loss: 0.0254, Learning Rate: 6.076396096647722e-09\n"
          ]
        },
        {
          "name": "stderr",
          "output_type": "stream",
          "text": [
            "Epoch 140/150: 100%|██████████| 155/155 [00:03<00:00, 44.44it/s]\n"
          ]
        },
        {
          "name": "stdout",
          "output_type": "stream",
          "text": [
            "Epoch 140/150, Training Loss: 0.0251, Learning Rate: 5.46875648698295e-09\n"
          ]
        },
        {
          "name": "stderr",
          "output_type": "stream",
          "text": [
            "Epoch 141/150: 100%|██████████| 155/155 [00:02<00:00, 57.29it/s]\n"
          ]
        },
        {
          "name": "stdout",
          "output_type": "stream",
          "text": [
            "Epoch 141/150, Training Loss: 0.0248, Learning Rate: 4.921880838284655e-09\n"
          ]
        },
        {
          "name": "stderr",
          "output_type": "stream",
          "text": [
            "Epoch 142/150: 100%|██████████| 155/155 [00:02<00:00, 57.82it/s]\n"
          ]
        },
        {
          "name": "stdout",
          "output_type": "stream",
          "text": [
            "Epoch 142/150, Training Loss: 0.0251, Learning Rate: 4.42969275445619e-09\n"
          ]
        },
        {
          "name": "stderr",
          "output_type": "stream",
          "text": [
            "Epoch 143/150: 100%|██████████| 155/155 [00:02<00:00, 52.10it/s]\n"
          ]
        },
        {
          "name": "stdout",
          "output_type": "stream",
          "text": [
            "Epoch 143/150, Training Loss: 0.0251, Learning Rate: 3.9867234790105715e-09\n"
          ]
        },
        {
          "name": "stderr",
          "output_type": "stream",
          "text": [
            "Epoch 144/150: 100%|██████████| 155/155 [00:03<00:00, 49.79it/s]\n"
          ]
        },
        {
          "name": "stdout",
          "output_type": "stream",
          "text": [
            "Epoch 144/150, Training Loss: 0.0251, Learning Rate: 3.5880511311095144e-09\n"
          ]
        },
        {
          "name": "stderr",
          "output_type": "stream",
          "text": [
            "Epoch 145/150: 100%|██████████| 155/155 [00:02<00:00, 56.99it/s]\n"
          ]
        },
        {
          "name": "stdout",
          "output_type": "stream",
          "text": [
            "Epoch 145/150, Training Loss: 0.0250, Learning Rate: 3.229246017998563e-09\n"
          ]
        },
        {
          "name": "stderr",
          "output_type": "stream",
          "text": [
            "Epoch 146/150: 100%|██████████| 155/155 [00:02<00:00, 57.82it/s]\n"
          ]
        },
        {
          "name": "stdout",
          "output_type": "stream",
          "text": [
            "Epoch 146/150, Training Loss: 0.0253, Learning Rate: 2.906321416198707e-09\n"
          ]
        },
        {
          "name": "stderr",
          "output_type": "stream",
          "text": [
            "Epoch 147/150: 100%|██████████| 155/155 [00:02<00:00, 57.14it/s]\n"
          ]
        },
        {
          "name": "stdout",
          "output_type": "stream",
          "text": [
            "Epoch 147/150, Training Loss: 0.0250, Learning Rate: 2.6156892745788363e-09\n"
          ]
        },
        {
          "name": "stderr",
          "output_type": "stream",
          "text": [
            "Epoch 148/150: 100%|██████████| 155/155 [00:03<00:00, 45.84it/s]\n"
          ]
        },
        {
          "name": "stdout",
          "output_type": "stream",
          "text": [
            "Epoch 148/150, Training Loss: 0.0250, Learning Rate: 2.3541203471209526e-09\n"
          ]
        },
        {
          "name": "stderr",
          "output_type": "stream",
          "text": [
            "Epoch 149/150: 100%|██████████| 155/155 [00:02<00:00, 57.74it/s]\n"
          ]
        },
        {
          "name": "stdout",
          "output_type": "stream",
          "text": [
            "Epoch 149/150, Training Loss: 0.0247, Learning Rate: 2.1187083124088576e-09\n"
          ]
        },
        {
          "name": "stderr",
          "output_type": "stream",
          "text": [
            "Epoch 150/150: 100%|██████████| 155/155 [00:02<00:00, 57.50it/s]"
          ]
        },
        {
          "name": "stdout",
          "output_type": "stream",
          "text": [
            "Epoch 150/150, Training Loss: 0.0248, Learning Rate: 1.906837481167972e-09\n"
          ]
        },
        {
          "name": "stderr",
          "output_type": "stream",
          "text": [
            "\n"
          ]
        }
      ],
      "source": [
        "# Query split\n",
        "query_lstm_model = LSTMTaggerClassifer(\n",
        "    input_dim=query_context_train_val_dataset.get_vector_dim(),\n",
        "    hidden_dim=256,\n",
        "    tag_vocab_size=query_context_train_val_dataset.get_tag_vocab_size(),\n",
        "    sql_vocab_size=query_context_train_val_dataset.get_sql_vocab_size(),\n",
        "    num_layers=3\n",
        ")\n",
        "# Training\n",
        "query_trained_lstm_model = train_model(\n",
        "    model=query_lstm_model,\n",
        "    train_loader=query_context_train_val_loader,\n",
        "    epochs=150,\n",
        "    lr=1e-3,\n",
        "    weight_decay=0.1,\n",
        "    amsgrad=True,\n",
        "    gamma=0.90,\n",
        "    warmup_epochs=25\n",
        "\n",
        ")"
      ]
    },
    {
      "cell_type": "code",
      "execution_count": 187,
      "metadata": {
        "colab": {
          "base_uri": "https://localhost:8080/"
        },
        "id": "5I14Y93IdNGf",
        "outputId": "a4747be3-1b2c-4c9f-96ae-2adc0acfb1e2"
      },
      "outputs": [
        {
          "name": "stderr",
          "output_type": "stream",
          "text": [
            "Generating SQL queries: 100%|██████████| 11/11 [00:01<00:00,  8.99it/s]"
          ]
        },
        {
          "name": "stdout",
          "output_type": "stream",
          "text": [
            "\n",
            "Accuracy of LSTM model on query split test set: 0.00%\n"
          ]
        },
        {
          "name": "stderr",
          "output_type": "stream",
          "text": [
            "\n"
          ]
        }
      ],
      "source": [
        "# Evaluating on the test set to get accuracy\n",
        "query_lstm_sql_pipe = SQLPipeline(dataset=query_context_test_dataset,model=query_trained_lstm_model,embed_type=\"context\")\n",
        "query_lstm_results, query_lstm_acc = query_lstm_sql_pipe.batch_predict(dataloader=query_context_test_loader)\n",
        "print(f\"\\nAccuracy of LSTM model on query split test set: {query_lstm_acc:.2%}\")"
      ]
    },
    {
      "cell_type": "markdown",
      "metadata": {
        "id": "veNTPBmOJV1j"
      },
      "source": [
        "### Training Transformer model using question and query split"
      ]
    },
    {
      "cell_type": "code",
      "execution_count": 29,
      "metadata": {
        "colab": {
          "base_uri": "https://localhost:8080/"
        },
        "collapsed": true,
        "id": "ltmrRLE9JUSZ",
        "outputId": "82252496-0584-4506-8f88-9b836e28355f"
      },
      "outputs": [
        {
          "name": "stderr",
          "output_type": "stream",
          "text": [
            "Epoch 1/150: 100%|██████████| 152/152 [00:02<00:00, 70.60it/s]\n"
          ]
        },
        {
          "name": "stdout",
          "output_type": "stream",
          "text": [
            "Epoch 1/150, Training Loss: 4.9607, Learning Rate: 0.001\n"
          ]
        },
        {
          "name": "stderr",
          "output_type": "stream",
          "text": [
            "Epoch 2/150: 100%|██████████| 152/152 [00:02<00:00, 64.99it/s]\n"
          ]
        },
        {
          "name": "stdout",
          "output_type": "stream",
          "text": [
            "Epoch 2/150, Training Loss: 3.3980, Learning Rate: 0.001\n"
          ]
        },
        {
          "name": "stderr",
          "output_type": "stream",
          "text": [
            "Epoch 3/150: 100%|██████████| 152/152 [00:01<00:00, 78.32it/s]\n"
          ]
        },
        {
          "name": "stdout",
          "output_type": "stream",
          "text": [
            "Epoch 3/150, Training Loss: 2.6928, Learning Rate: 0.001\n"
          ]
        },
        {
          "name": "stderr",
          "output_type": "stream",
          "text": [
            "Epoch 4/150: 100%|██████████| 152/152 [00:01<00:00, 84.19it/s]\n"
          ]
        },
        {
          "name": "stdout",
          "output_type": "stream",
          "text": [
            "Epoch 4/150, Training Loss: 2.2788, Learning Rate: 0.001\n"
          ]
        },
        {
          "name": "stderr",
          "output_type": "stream",
          "text": [
            "Epoch 5/150: 100%|██████████| 152/152 [00:01<00:00, 83.47it/s]\n"
          ]
        },
        {
          "name": "stdout",
          "output_type": "stream",
          "text": [
            "Epoch 5/150, Training Loss: 1.9487, Learning Rate: 0.001\n"
          ]
        },
        {
          "name": "stderr",
          "output_type": "stream",
          "text": [
            "Epoch 6/150: 100%|██████████| 152/152 [00:01<00:00, 83.95it/s]\n"
          ]
        },
        {
          "name": "stdout",
          "output_type": "stream",
          "text": [
            "Epoch 6/150, Training Loss: 1.6468, Learning Rate: 0.001\n"
          ]
        },
        {
          "name": "stderr",
          "output_type": "stream",
          "text": [
            "Epoch 7/150: 100%|██████████| 152/152 [00:01<00:00, 82.69it/s]\n"
          ]
        },
        {
          "name": "stdout",
          "output_type": "stream",
          "text": [
            "Epoch 7/150, Training Loss: 1.4763, Learning Rate: 0.001\n"
          ]
        },
        {
          "name": "stderr",
          "output_type": "stream",
          "text": [
            "Epoch 8/150: 100%|██████████| 152/152 [00:02<00:00, 73.13it/s]\n"
          ]
        },
        {
          "name": "stdout",
          "output_type": "stream",
          "text": [
            "Epoch 8/150, Training Loss: 1.2858, Learning Rate: 0.001\n"
          ]
        },
        {
          "name": "stderr",
          "output_type": "stream",
          "text": [
            "Epoch 9/150: 100%|██████████| 152/152 [00:02<00:00, 67.41it/s]\n"
          ]
        },
        {
          "name": "stdout",
          "output_type": "stream",
          "text": [
            "Epoch 9/150, Training Loss: 1.2585, Learning Rate: 0.001\n"
          ]
        },
        {
          "name": "stderr",
          "output_type": "stream",
          "text": [
            "Epoch 10/150: 100%|██████████| 152/152 [00:01<00:00, 84.30it/s]\n"
          ]
        },
        {
          "name": "stdout",
          "output_type": "stream",
          "text": [
            "Epoch 10/150, Training Loss: 1.0558, Learning Rate: 0.001\n"
          ]
        },
        {
          "name": "stderr",
          "output_type": "stream",
          "text": [
            "Epoch 11/150: 100%|██████████| 152/152 [00:01<00:00, 83.58it/s]\n"
          ]
        },
        {
          "name": "stdout",
          "output_type": "stream",
          "text": [
            "Epoch 11/150, Training Loss: 0.8664, Learning Rate: 0.00095\n"
          ]
        },
        {
          "name": "stderr",
          "output_type": "stream",
          "text": [
            "Epoch 12/150: 100%|██████████| 152/152 [00:01<00:00, 83.06it/s]\n"
          ]
        },
        {
          "name": "stdout",
          "output_type": "stream",
          "text": [
            "Epoch 12/150, Training Loss: 0.7316, Learning Rate: 0.0009025\n"
          ]
        },
        {
          "name": "stderr",
          "output_type": "stream",
          "text": [
            "Epoch 13/150: 100%|██████████| 152/152 [00:01<00:00, 83.66it/s]\n"
          ]
        },
        {
          "name": "stdout",
          "output_type": "stream",
          "text": [
            "Epoch 13/150, Training Loss: 0.7160, Learning Rate: 0.000857375\n"
          ]
        },
        {
          "name": "stderr",
          "output_type": "stream",
          "text": [
            "Epoch 14/150: 100%|██████████| 152/152 [00:01<00:00, 84.09it/s]\n"
          ]
        },
        {
          "name": "stdout",
          "output_type": "stream",
          "text": [
            "Epoch 14/150, Training Loss: 0.5208, Learning Rate: 0.0008145062499999999\n"
          ]
        },
        {
          "name": "stderr",
          "output_type": "stream",
          "text": [
            "Epoch 15/150: 100%|██████████| 152/152 [00:02<00:00, 62.56it/s]\n"
          ]
        },
        {
          "name": "stdout",
          "output_type": "stream",
          "text": [
            "Epoch 15/150, Training Loss: 0.4187, Learning Rate: 0.0007737809374999998\n"
          ]
        },
        {
          "name": "stderr",
          "output_type": "stream",
          "text": [
            "Epoch 16/150: 100%|██████████| 152/152 [00:01<00:00, 83.89it/s]\n"
          ]
        },
        {
          "name": "stdout",
          "output_type": "stream",
          "text": [
            "Epoch 16/150, Training Loss: 0.3620, Learning Rate: 0.0007350918906249997\n"
          ]
        },
        {
          "name": "stderr",
          "output_type": "stream",
          "text": [
            "Epoch 17/150: 100%|██████████| 152/152 [00:01<00:00, 85.36it/s]\n"
          ]
        },
        {
          "name": "stdout",
          "output_type": "stream",
          "text": [
            "Epoch 17/150, Training Loss: 0.3505, Learning Rate: 0.0006983372960937497\n"
          ]
        },
        {
          "name": "stderr",
          "output_type": "stream",
          "text": [
            "Epoch 18/150: 100%|██████████| 152/152 [00:01<00:00, 84.99it/s]\n"
          ]
        },
        {
          "name": "stdout",
          "output_type": "stream",
          "text": [
            "Epoch 18/150, Training Loss: 0.3873, Learning Rate: 0.0006634204312890621\n"
          ]
        },
        {
          "name": "stderr",
          "output_type": "stream",
          "text": [
            "Epoch 19/150: 100%|██████████| 152/152 [00:01<00:00, 84.36it/s]\n"
          ]
        },
        {
          "name": "stdout",
          "output_type": "stream",
          "text": [
            "Epoch 19/150, Training Loss: 0.3025, Learning Rate: 0.000630249409724609\n"
          ]
        },
        {
          "name": "stderr",
          "output_type": "stream",
          "text": [
            "Epoch 20/150: 100%|██████████| 152/152 [00:01<00:00, 84.24it/s]\n"
          ]
        },
        {
          "name": "stdout",
          "output_type": "stream",
          "text": [
            "Epoch 20/150, Training Loss: 0.2638, Learning Rate: 0.0005987369392383785\n"
          ]
        },
        {
          "name": "stderr",
          "output_type": "stream",
          "text": [
            "Epoch 21/150: 100%|██████████| 152/152 [00:02<00:00, 69.28it/s]\n"
          ]
        },
        {
          "name": "stdout",
          "output_type": "stream",
          "text": [
            "Epoch 21/150, Training Loss: 0.2641, Learning Rate: 0.0005688000922764595\n"
          ]
        },
        {
          "name": "stderr",
          "output_type": "stream",
          "text": [
            "Epoch 22/150: 100%|██████████| 152/152 [00:02<00:00, 73.27it/s]\n"
          ]
        },
        {
          "name": "stdout",
          "output_type": "stream",
          "text": [
            "Epoch 22/150, Training Loss: 0.2206, Learning Rate: 0.0005403600876626365\n"
          ]
        },
        {
          "name": "stderr",
          "output_type": "stream",
          "text": [
            "Epoch 23/150: 100%|██████████| 152/152 [00:01<00:00, 80.43it/s]\n"
          ]
        },
        {
          "name": "stdout",
          "output_type": "stream",
          "text": [
            "Epoch 23/150, Training Loss: 0.1869, Learning Rate: 0.0005133420832795047\n"
          ]
        },
        {
          "name": "stderr",
          "output_type": "stream",
          "text": [
            "Epoch 24/150: 100%|██████████| 152/152 [00:01<00:00, 84.63it/s]\n"
          ]
        },
        {
          "name": "stdout",
          "output_type": "stream",
          "text": [
            "Epoch 24/150, Training Loss: 0.1706, Learning Rate: 0.00048767497911552944\n"
          ]
        },
        {
          "name": "stderr",
          "output_type": "stream",
          "text": [
            "Epoch 25/150: 100%|██████████| 152/152 [00:01<00:00, 82.78it/s]\n"
          ]
        },
        {
          "name": "stdout",
          "output_type": "stream",
          "text": [
            "Epoch 25/150, Training Loss: 0.1667, Learning Rate: 0.00046329123015975297\n"
          ]
        },
        {
          "name": "stderr",
          "output_type": "stream",
          "text": [
            "Epoch 26/150: 100%|██████████| 152/152 [00:01<00:00, 83.92it/s]\n"
          ]
        },
        {
          "name": "stdout",
          "output_type": "stream",
          "text": [
            "Epoch 26/150, Training Loss: 0.1557, Learning Rate: 0.0004401266686517653\n"
          ]
        },
        {
          "name": "stderr",
          "output_type": "stream",
          "text": [
            "Epoch 27/150: 100%|██████████| 152/152 [00:02<00:00, 75.96it/s]\n"
          ]
        },
        {
          "name": "stdout",
          "output_type": "stream",
          "text": [
            "Epoch 27/150, Training Loss: 0.1418, Learning Rate: 0.00041812033521917703\n"
          ]
        },
        {
          "name": "stderr",
          "output_type": "stream",
          "text": [
            "Epoch 28/150: 100%|██████████| 152/152 [00:02<00:00, 68.06it/s]\n"
          ]
        },
        {
          "name": "stdout",
          "output_type": "stream",
          "text": [
            "Epoch 28/150, Training Loss: 0.1312, Learning Rate: 0.00039721431845821814\n"
          ]
        },
        {
          "name": "stderr",
          "output_type": "stream",
          "text": [
            "Epoch 29/150: 100%|██████████| 152/152 [00:01<00:00, 83.38it/s]\n"
          ]
        },
        {
          "name": "stdout",
          "output_type": "stream",
          "text": [
            "Epoch 29/150, Training Loss: 0.1234, Learning Rate: 0.0003773536025353072\n"
          ]
        },
        {
          "name": "stderr",
          "output_type": "stream",
          "text": [
            "Epoch 30/150: 100%|██████████| 152/152 [00:01<00:00, 83.88it/s]\n"
          ]
        },
        {
          "name": "stdout",
          "output_type": "stream",
          "text": [
            "Epoch 30/150, Training Loss: 0.1272, Learning Rate: 0.0003584859224085418\n"
          ]
        },
        {
          "name": "stderr",
          "output_type": "stream",
          "text": [
            "Epoch 31/150: 100%|██████████| 152/152 [00:01<00:00, 84.24it/s]\n"
          ]
        },
        {
          "name": "stdout",
          "output_type": "stream",
          "text": [
            "Epoch 31/150, Training Loss: 0.1123, Learning Rate: 0.0003405616262881147\n"
          ]
        },
        {
          "name": "stderr",
          "output_type": "stream",
          "text": [
            "Epoch 32/150: 100%|██████████| 152/152 [00:01<00:00, 84.16it/s]\n"
          ]
        },
        {
          "name": "stdout",
          "output_type": "stream",
          "text": [
            "Epoch 32/150, Training Loss: 0.1167, Learning Rate: 0.00032353354497370894\n"
          ]
        },
        {
          "name": "stderr",
          "output_type": "stream",
          "text": [
            "Epoch 33/150: 100%|██████████| 152/152 [00:01<00:00, 83.98it/s]\n"
          ]
        },
        {
          "name": "stdout",
          "output_type": "stream",
          "text": [
            "Epoch 33/150, Training Loss: 0.1142, Learning Rate: 0.00030735686772502346\n"
          ]
        },
        {
          "name": "stderr",
          "output_type": "stream",
          "text": [
            "Epoch 34/150: 100%|██████████| 152/152 [00:02<00:00, 63.56it/s]\n"
          ]
        },
        {
          "name": "stdout",
          "output_type": "stream",
          "text": [
            "Epoch 34/150, Training Loss: 0.1091, Learning Rate: 0.00029198902433877225\n"
          ]
        },
        {
          "name": "stderr",
          "output_type": "stream",
          "text": [
            "Epoch 35/150: 100%|██████████| 152/152 [00:01<00:00, 82.20it/s]\n"
          ]
        },
        {
          "name": "stdout",
          "output_type": "stream",
          "text": [
            "Epoch 35/150, Training Loss: 0.1062, Learning Rate: 0.00027738957312183364\n"
          ]
        },
        {
          "name": "stderr",
          "output_type": "stream",
          "text": [
            "Epoch 36/150: 100%|██████████| 152/152 [00:01<00:00, 82.51it/s]\n"
          ]
        },
        {
          "name": "stdout",
          "output_type": "stream",
          "text": [
            "Epoch 36/150, Training Loss: 0.1057, Learning Rate: 0.0002635200944657419\n"
          ]
        },
        {
          "name": "stderr",
          "output_type": "stream",
          "text": [
            "Epoch 37/150: 100%|██████████| 152/152 [00:01<00:00, 82.26it/s]\n"
          ]
        },
        {
          "name": "stdout",
          "output_type": "stream",
          "text": [
            "Epoch 37/150, Training Loss: 0.0947, Learning Rate: 0.0002503440897424548\n"
          ]
        },
        {
          "name": "stderr",
          "output_type": "stream",
          "text": [
            "Epoch 38/150: 100%|██████████| 152/152 [00:01<00:00, 81.48it/s]\n"
          ]
        },
        {
          "name": "stdout",
          "output_type": "stream",
          "text": [
            "Epoch 38/150, Training Loss: 0.0922, Learning Rate: 0.00023782688525533205\n"
          ]
        },
        {
          "name": "stderr",
          "output_type": "stream",
          "text": [
            "Epoch 39/150: 100%|██████████| 152/152 [00:01<00:00, 83.65it/s]\n"
          ]
        },
        {
          "name": "stdout",
          "output_type": "stream",
          "text": [
            "Epoch 39/150, Training Loss: 0.0912, Learning Rate: 0.00022593554099256544\n"
          ]
        },
        {
          "name": "stderr",
          "output_type": "stream",
          "text": [
            "Epoch 40/150: 100%|██████████| 152/152 [00:02<00:00, 72.28it/s]\n"
          ]
        },
        {
          "name": "stdout",
          "output_type": "stream",
          "text": [
            "Epoch 40/150, Training Loss: 0.0904, Learning Rate: 0.00021463876394293716\n"
          ]
        },
        {
          "name": "stderr",
          "output_type": "stream",
          "text": [
            "Epoch 41/150: 100%|██████████| 152/152 [00:02<00:00, 69.10it/s]\n"
          ]
        },
        {
          "name": "stdout",
          "output_type": "stream",
          "text": [
            "Epoch 41/150, Training Loss: 0.0856, Learning Rate: 0.0002039068257457903\n"
          ]
        },
        {
          "name": "stderr",
          "output_type": "stream",
          "text": [
            "Epoch 42/150: 100%|██████████| 152/152 [00:01<00:00, 82.84it/s]\n"
          ]
        },
        {
          "name": "stdout",
          "output_type": "stream",
          "text": [
            "Epoch 42/150, Training Loss: 0.0895, Learning Rate: 0.00019371148445850077\n"
          ]
        },
        {
          "name": "stderr",
          "output_type": "stream",
          "text": [
            "Epoch 43/150: 100%|██████████| 152/152 [00:01<00:00, 84.13it/s]\n"
          ]
        },
        {
          "name": "stdout",
          "output_type": "stream",
          "text": [
            "Epoch 43/150, Training Loss: 0.1002, Learning Rate: 0.00018402591023557573\n"
          ]
        },
        {
          "name": "stderr",
          "output_type": "stream",
          "text": [
            "Epoch 44/150: 100%|██████████| 152/152 [00:01<00:00, 80.89it/s]\n"
          ]
        },
        {
          "name": "stdout",
          "output_type": "stream",
          "text": [
            "Epoch 44/150, Training Loss: 0.0876, Learning Rate: 0.00017482461472379692\n"
          ]
        },
        {
          "name": "stderr",
          "output_type": "stream",
          "text": [
            "Epoch 45/150: 100%|██████████| 152/152 [00:01<00:00, 83.31it/s]\n"
          ]
        },
        {
          "name": "stdout",
          "output_type": "stream",
          "text": [
            "Epoch 45/150, Training Loss: 0.0828, Learning Rate: 0.00016608338398760707\n"
          ]
        },
        {
          "name": "stderr",
          "output_type": "stream",
          "text": [
            "Epoch 46/150: 100%|██████████| 152/152 [00:01<00:00, 79.06it/s]\n"
          ]
        },
        {
          "name": "stdout",
          "output_type": "stream",
          "text": [
            "Epoch 46/150, Training Loss: 0.0856, Learning Rate: 0.0001577792147882267\n"
          ]
        },
        {
          "name": "stderr",
          "output_type": "stream",
          "text": [
            "Epoch 47/150: 100%|██████████| 152/152 [00:02<00:00, 66.34it/s]\n"
          ]
        },
        {
          "name": "stdout",
          "output_type": "stream",
          "text": [
            "Epoch 47/150, Training Loss: 0.0832, Learning Rate: 0.00014989025404881537\n"
          ]
        },
        {
          "name": "stderr",
          "output_type": "stream",
          "text": [
            "Epoch 48/150: 100%|██████████| 152/152 [00:01<00:00, 83.56it/s]\n"
          ]
        },
        {
          "name": "stdout",
          "output_type": "stream",
          "text": [
            "Epoch 48/150, Training Loss: 0.0795, Learning Rate: 0.00014239574134637458\n"
          ]
        },
        {
          "name": "stderr",
          "output_type": "stream",
          "text": [
            "Epoch 49/150: 100%|██████████| 152/152 [00:01<00:00, 83.77it/s]\n"
          ]
        },
        {
          "name": "stdout",
          "output_type": "stream",
          "text": [
            "Epoch 49/150, Training Loss: 0.0821, Learning Rate: 0.00013527595427905584\n"
          ]
        },
        {
          "name": "stderr",
          "output_type": "stream",
          "text": [
            "Epoch 50/150: 100%|██████████| 152/152 [00:01<00:00, 83.58it/s]\n"
          ]
        },
        {
          "name": "stdout",
          "output_type": "stream",
          "text": [
            "Epoch 50/150, Training Loss: 0.0804, Learning Rate: 0.00012851215656510304\n"
          ]
        },
        {
          "name": "stderr",
          "output_type": "stream",
          "text": [
            "Epoch 51/150: 100%|██████████| 152/152 [00:01<00:00, 83.62it/s]\n"
          ]
        },
        {
          "name": "stdout",
          "output_type": "stream",
          "text": [
            "Epoch 51/150, Training Loss: 0.0822, Learning Rate: 0.00012208654873684788\n"
          ]
        },
        {
          "name": "stderr",
          "output_type": "stream",
          "text": [
            "Epoch 52/150: 100%|██████████| 152/152 [00:01<00:00, 83.46it/s]\n"
          ]
        },
        {
          "name": "stdout",
          "output_type": "stream",
          "text": [
            "Epoch 52/150, Training Loss: 0.0807, Learning Rate: 0.00011598222130000548\n"
          ]
        },
        {
          "name": "stderr",
          "output_type": "stream",
          "text": [
            "Epoch 53/150: 100%|██████████| 152/152 [00:02<00:00, 64.35it/s]\n"
          ]
        },
        {
          "name": "stdout",
          "output_type": "stream",
          "text": [
            "Epoch 53/150, Training Loss: 0.0748, Learning Rate: 0.00011018311023500519\n"
          ]
        },
        {
          "name": "stderr",
          "output_type": "stream",
          "text": [
            "Epoch 54/150: 100%|██████████| 152/152 [00:01<00:00, 79.96it/s]\n"
          ]
        },
        {
          "name": "stdout",
          "output_type": "stream",
          "text": [
            "Epoch 54/150, Training Loss: 0.0744, Learning Rate: 0.00010467395472325493\n"
          ]
        },
        {
          "name": "stderr",
          "output_type": "stream",
          "text": [
            "Epoch 55/150: 100%|██████████| 152/152 [00:01<00:00, 83.67it/s]\n"
          ]
        },
        {
          "name": "stdout",
          "output_type": "stream",
          "text": [
            "Epoch 55/150, Training Loss: 0.0756, Learning Rate: 9.944025698709218e-05\n"
          ]
        },
        {
          "name": "stderr",
          "output_type": "stream",
          "text": [
            "Epoch 56/150: 100%|██████████| 152/152 [00:01<00:00, 83.65it/s]\n"
          ]
        },
        {
          "name": "stdout",
          "output_type": "stream",
          "text": [
            "Epoch 56/150, Training Loss: 0.0724, Learning Rate: 9.446824413773756e-05\n"
          ]
        },
        {
          "name": "stderr",
          "output_type": "stream",
          "text": [
            "Epoch 57/150: 100%|██████████| 152/152 [00:01<00:00, 83.37it/s]\n"
          ]
        },
        {
          "name": "stdout",
          "output_type": "stream",
          "text": [
            "Epoch 57/150, Training Loss: 0.0755, Learning Rate: 8.974483193085068e-05\n"
          ]
        },
        {
          "name": "stderr",
          "output_type": "stream",
          "text": [
            "Epoch 58/150: 100%|██████████| 152/152 [00:01<00:00, 83.62it/s]\n"
          ]
        },
        {
          "name": "stdout",
          "output_type": "stream",
          "text": [
            "Epoch 58/150, Training Loss: 0.0722, Learning Rate: 8.525759033430814e-05\n"
          ]
        },
        {
          "name": "stderr",
          "output_type": "stream",
          "text": [
            "Epoch 59/150: 100%|██████████| 152/152 [00:02<00:00, 70.51it/s]\n"
          ]
        },
        {
          "name": "stdout",
          "output_type": "stream",
          "text": [
            "Epoch 59/150, Training Loss: 0.0716, Learning Rate: 8.099471081759274e-05\n"
          ]
        },
        {
          "name": "stderr",
          "output_type": "stream",
          "text": [
            "Epoch 60/150: 100%|██████████| 152/152 [00:02<00:00, 70.89it/s]\n"
          ]
        },
        {
          "name": "stdout",
          "output_type": "stream",
          "text": [
            "Epoch 60/150, Training Loss: 0.0718, Learning Rate: 7.69449752767131e-05\n"
          ]
        },
        {
          "name": "stderr",
          "output_type": "stream",
          "text": [
            "Epoch 61/150: 100%|██████████| 152/152 [00:01<00:00, 84.61it/s]\n"
          ]
        },
        {
          "name": "stdout",
          "output_type": "stream",
          "text": [
            "Epoch 61/150, Training Loss: 0.0709, Learning Rate: 7.309772651287744e-05\n"
          ]
        },
        {
          "name": "stderr",
          "output_type": "stream",
          "text": [
            "Epoch 62/150: 100%|██████████| 152/152 [00:01<00:00, 83.36it/s]\n"
          ]
        },
        {
          "name": "stdout",
          "output_type": "stream",
          "text": [
            "Epoch 62/150, Training Loss: 0.0680, Learning Rate: 6.944284018723356e-05\n"
          ]
        },
        {
          "name": "stderr",
          "output_type": "stream",
          "text": [
            "Epoch 63/150: 100%|██████████| 152/152 [00:01<00:00, 82.53it/s]\n"
          ]
        },
        {
          "name": "stdout",
          "output_type": "stream",
          "text": [
            "Epoch 63/150, Training Loss: 0.0703, Learning Rate: 6.597069817787189e-05\n"
          ]
        },
        {
          "name": "stderr",
          "output_type": "stream",
          "text": [
            "Epoch 64/150: 100%|██████████| 152/152 [00:01<00:00, 81.22it/s]\n"
          ]
        },
        {
          "name": "stdout",
          "output_type": "stream",
          "text": [
            "Epoch 64/150, Training Loss: 0.0653, Learning Rate: 6.267216326897829e-05\n"
          ]
        },
        {
          "name": "stderr",
          "output_type": "stream",
          "text": [
            "Epoch 65/150: 100%|██████████| 152/152 [00:01<00:00, 80.39it/s]\n"
          ]
        },
        {
          "name": "stdout",
          "output_type": "stream",
          "text": [
            "Epoch 65/150, Training Loss: 0.0689, Learning Rate: 5.953855510552937e-05\n"
          ]
        },
        {
          "name": "stderr",
          "output_type": "stream",
          "text": [
            "Epoch 66/150: 100%|██████████| 152/152 [00:02<00:00, 64.56it/s]\n"
          ]
        },
        {
          "name": "stdout",
          "output_type": "stream",
          "text": [
            "Epoch 66/150, Training Loss: 0.0768, Learning Rate: 5.65616273502529e-05\n"
          ]
        },
        {
          "name": "stderr",
          "output_type": "stream",
          "text": [
            "Epoch 67/150: 100%|██████████| 152/152 [00:01<00:00, 83.24it/s]\n"
          ]
        },
        {
          "name": "stdout",
          "output_type": "stream",
          "text": [
            "Epoch 67/150, Training Loss: 0.0756, Learning Rate: 5.373354598274025e-05\n"
          ]
        },
        {
          "name": "stderr",
          "output_type": "stream",
          "text": [
            "Epoch 68/150: 100%|██████████| 152/152 [00:01<00:00, 83.96it/s]\n"
          ]
        },
        {
          "name": "stdout",
          "output_type": "stream",
          "text": [
            "Epoch 68/150, Training Loss: 0.0673, Learning Rate: 5.104686868360323e-05\n"
          ]
        },
        {
          "name": "stderr",
          "output_type": "stream",
          "text": [
            "Epoch 69/150: 100%|██████████| 152/152 [00:01<00:00, 83.63it/s]\n"
          ]
        },
        {
          "name": "stdout",
          "output_type": "stream",
          "text": [
            "Epoch 69/150, Training Loss: 0.0657, Learning Rate: 4.849452524942307e-05\n"
          ]
        },
        {
          "name": "stderr",
          "output_type": "stream",
          "text": [
            "Epoch 70/150: 100%|██████████| 152/152 [00:01<00:00, 82.46it/s]\n"
          ]
        },
        {
          "name": "stdout",
          "output_type": "stream",
          "text": [
            "Epoch 70/150, Training Loss: 0.0677, Learning Rate: 4.606979898695191e-05\n"
          ]
        },
        {
          "name": "stderr",
          "output_type": "stream",
          "text": [
            "Epoch 71/150: 100%|██████████| 152/152 [00:01<00:00, 83.05it/s]\n"
          ]
        },
        {
          "name": "stdout",
          "output_type": "stream",
          "text": [
            "Epoch 71/150, Training Loss: 0.0645, Learning Rate: 4.376630903760431e-05\n"
          ]
        },
        {
          "name": "stderr",
          "output_type": "stream",
          "text": [
            "Epoch 72/150: 100%|██████████| 152/152 [00:02<00:00, 66.02it/s]\n"
          ]
        },
        {
          "name": "stdout",
          "output_type": "stream",
          "text": [
            "Epoch 72/150, Training Loss: 0.0637, Learning Rate: 4.157799358572409e-05\n"
          ]
        },
        {
          "name": "stderr",
          "output_type": "stream",
          "text": [
            "Epoch 73/150: 100%|██████████| 152/152 [00:01<00:00, 77.94it/s]\n"
          ]
        },
        {
          "name": "stdout",
          "output_type": "stream",
          "text": [
            "Epoch 73/150, Training Loss: 0.0651, Learning Rate: 3.9499093906437885e-05\n"
          ]
        },
        {
          "name": "stderr",
          "output_type": "stream",
          "text": [
            "Epoch 74/150: 100%|██████████| 152/152 [00:01<00:00, 84.12it/s]\n"
          ]
        },
        {
          "name": "stdout",
          "output_type": "stream",
          "text": [
            "Epoch 74/150, Training Loss: 0.0681, Learning Rate: 3.752413921111599e-05\n"
          ]
        },
        {
          "name": "stderr",
          "output_type": "stream",
          "text": [
            "Epoch 75/150: 100%|██████████| 152/152 [00:01<00:00, 83.93it/s]\n"
          ]
        },
        {
          "name": "stdout",
          "output_type": "stream",
          "text": [
            "Epoch 75/150, Training Loss: 0.0677, Learning Rate: 3.564793225056019e-05\n"
          ]
        },
        {
          "name": "stderr",
          "output_type": "stream",
          "text": [
            "Epoch 76/150: 100%|██████████| 152/152 [00:01<00:00, 84.68it/s]\n"
          ]
        },
        {
          "name": "stdout",
          "output_type": "stream",
          "text": [
            "Epoch 76/150, Training Loss: 0.0667, Learning Rate: 3.3865535638032174e-05\n"
          ]
        },
        {
          "name": "stderr",
          "output_type": "stream",
          "text": [
            "Epoch 77/150: 100%|██████████| 152/152 [00:01<00:00, 83.82it/s]\n"
          ]
        },
        {
          "name": "stdout",
          "output_type": "stream",
          "text": [
            "Epoch 77/150, Training Loss: 0.0655, Learning Rate: 3.2172258856130564e-05\n"
          ]
        },
        {
          "name": "stderr",
          "output_type": "stream",
          "text": [
            "Epoch 78/150: 100%|██████████| 152/152 [00:02<00:00, 72.89it/s]\n"
          ]
        },
        {
          "name": "stdout",
          "output_type": "stream",
          "text": [
            "Epoch 78/150, Training Loss: 0.0647, Learning Rate: 3.056364591332403e-05\n"
          ]
        },
        {
          "name": "stderr",
          "output_type": "stream",
          "text": [
            "Epoch 79/150: 100%|██████████| 152/152 [00:02<00:00, 68.39it/s]\n"
          ]
        },
        {
          "name": "stdout",
          "output_type": "stream",
          "text": [
            "Epoch 79/150, Training Loss: 0.0661, Learning Rate: 2.903546361765783e-05\n"
          ]
        },
        {
          "name": "stderr",
          "output_type": "stream",
          "text": [
            "Epoch 80/150: 100%|██████████| 152/152 [00:01<00:00, 82.64it/s]\n"
          ]
        },
        {
          "name": "stdout",
          "output_type": "stream",
          "text": [
            "Epoch 80/150, Training Loss: 0.0637, Learning Rate: 2.758369043677494e-05\n"
          ]
        },
        {
          "name": "stderr",
          "output_type": "stream",
          "text": [
            "Epoch 81/150: 100%|██████████| 152/152 [00:02<00:00, 71.95it/s]\n"
          ]
        },
        {
          "name": "stdout",
          "output_type": "stream",
          "text": [
            "Epoch 81/150, Training Loss: 0.0624, Learning Rate: 2.620450591493619e-05\n"
          ]
        },
        {
          "name": "stderr",
          "output_type": "stream",
          "text": [
            "Epoch 82/150: 100%|██████████| 152/152 [00:01<00:00, 84.08it/s]\n"
          ]
        },
        {
          "name": "stdout",
          "output_type": "stream",
          "text": [
            "Epoch 82/150, Training Loss: 0.0656, Learning Rate: 2.489428061918938e-05\n"
          ]
        },
        {
          "name": "stderr",
          "output_type": "stream",
          "text": [
            "Epoch 83/150: 100%|██████████| 152/152 [00:01<00:00, 83.31it/s]\n"
          ]
        },
        {
          "name": "stdout",
          "output_type": "stream",
          "text": [
            "Epoch 83/150, Training Loss: 0.0679, Learning Rate: 2.364956658822991e-05\n"
          ]
        },
        {
          "name": "stderr",
          "output_type": "stream",
          "text": [
            "Epoch 84/150: 100%|██████████| 152/152 [00:01<00:00, 77.55it/s]\n"
          ]
        },
        {
          "name": "stdout",
          "output_type": "stream",
          "text": [
            "Epoch 84/150, Training Loss: 0.0644, Learning Rate: 2.2467088258818413e-05\n"
          ]
        },
        {
          "name": "stderr",
          "output_type": "stream",
          "text": [
            "Epoch 85/150: 100%|██████████| 152/152 [00:02<00:00, 64.40it/s]\n"
          ]
        },
        {
          "name": "stdout",
          "output_type": "stream",
          "text": [
            "Epoch 85/150, Training Loss: 0.0629, Learning Rate: 2.134373384587749e-05\n"
          ]
        },
        {
          "name": "stderr",
          "output_type": "stream",
          "text": [
            "Epoch 86/150: 100%|██████████| 152/152 [00:01<00:00, 82.48it/s]\n"
          ]
        },
        {
          "name": "stdout",
          "output_type": "stream",
          "text": [
            "Epoch 86/150, Training Loss: 0.0663, Learning Rate: 2.0276547153583614e-05\n"
          ]
        },
        {
          "name": "stderr",
          "output_type": "stream",
          "text": [
            "Epoch 87/150: 100%|██████████| 152/152 [00:01<00:00, 83.13it/s]\n"
          ]
        },
        {
          "name": "stdout",
          "output_type": "stream",
          "text": [
            "Epoch 87/150, Training Loss: 0.0648, Learning Rate: 1.9262719795904432e-05\n"
          ]
        },
        {
          "name": "stderr",
          "output_type": "stream",
          "text": [
            "Epoch 88/150: 100%|██████████| 152/152 [00:01<00:00, 84.42it/s]\n"
          ]
        },
        {
          "name": "stdout",
          "output_type": "stream",
          "text": [
            "Epoch 88/150, Training Loss: 0.0625, Learning Rate: 1.829958380610921e-05\n"
          ]
        },
        {
          "name": "stderr",
          "output_type": "stream",
          "text": [
            "Epoch 89/150: 100%|██████████| 152/152 [00:01<00:00, 82.50it/s]\n"
          ]
        },
        {
          "name": "stdout",
          "output_type": "stream",
          "text": [
            "Epoch 89/150, Training Loss: 0.0644, Learning Rate: 1.738460461580375e-05\n"
          ]
        },
        {
          "name": "stderr",
          "output_type": "stream",
          "text": [
            "Epoch 90/150: 100%|██████████| 152/152 [00:01<00:00, 82.92it/s]\n"
          ]
        },
        {
          "name": "stdout",
          "output_type": "stream",
          "text": [
            "Epoch 90/150, Training Loss: 0.0647, Learning Rate: 1.6515374385013564e-05\n"
          ]
        },
        {
          "name": "stderr",
          "output_type": "stream",
          "text": [
            "Epoch 91/150: 100%|██████████| 152/152 [00:02<00:00, 63.99it/s]\n"
          ]
        },
        {
          "name": "stdout",
          "output_type": "stream",
          "text": [
            "Epoch 91/150, Training Loss: 0.0632, Learning Rate: 1.5689605665762886e-05\n"
          ]
        },
        {
          "name": "stderr",
          "output_type": "stream",
          "text": [
            "Epoch 92/150: 100%|██████████| 152/152 [00:01<00:00, 79.59it/s]\n"
          ]
        },
        {
          "name": "stdout",
          "output_type": "stream",
          "text": [
            "Epoch 92/150, Training Loss: 0.0637, Learning Rate: 1.490512538247474e-05\n"
          ]
        },
        {
          "name": "stderr",
          "output_type": "stream",
          "text": [
            "Epoch 93/150: 100%|██████████| 152/152 [00:01<00:00, 83.21it/s]\n"
          ]
        },
        {
          "name": "stdout",
          "output_type": "stream",
          "text": [
            "Epoch 93/150, Training Loss: 0.0659, Learning Rate: 1.4159869113351003e-05\n"
          ]
        },
        {
          "name": "stderr",
          "output_type": "stream",
          "text": [
            "Epoch 94/150: 100%|██████████| 152/152 [00:01<00:00, 81.55it/s]\n"
          ]
        },
        {
          "name": "stdout",
          "output_type": "stream",
          "text": [
            "Epoch 94/150, Training Loss: 0.0614, Learning Rate: 1.3451875657683452e-05\n"
          ]
        },
        {
          "name": "stderr",
          "output_type": "stream",
          "text": [
            "Epoch 95/150: 100%|██████████| 152/152 [00:01<00:00, 83.07it/s]\n"
          ]
        },
        {
          "name": "stdout",
          "output_type": "stream",
          "text": [
            "Epoch 95/150, Training Loss: 0.0644, Learning Rate: 1.277928187479928e-05\n"
          ]
        },
        {
          "name": "stderr",
          "output_type": "stream",
          "text": [
            "Epoch 96/150: 100%|██████████| 152/152 [00:01<00:00, 83.75it/s]\n"
          ]
        },
        {
          "name": "stdout",
          "output_type": "stream",
          "text": [
            "Epoch 96/150, Training Loss: 0.0643, Learning Rate: 1.2140317781059316e-05\n"
          ]
        },
        {
          "name": "stderr",
          "output_type": "stream",
          "text": [
            "Epoch 97/150: 100%|██████████| 152/152 [00:02<00:00, 62.17it/s]\n"
          ]
        },
        {
          "name": "stdout",
          "output_type": "stream",
          "text": [
            "Epoch 97/150, Training Loss: 0.0629, Learning Rate: 1.153330189200635e-05\n"
          ]
        },
        {
          "name": "stderr",
          "output_type": "stream",
          "text": [
            "Epoch 98/150: 100%|██████████| 152/152 [00:02<00:00, 54.56it/s]\n"
          ]
        },
        {
          "name": "stdout",
          "output_type": "stream",
          "text": [
            "Epoch 98/150, Training Loss: 0.0639, Learning Rate: 1.0956636797406032e-05\n"
          ]
        },
        {
          "name": "stderr",
          "output_type": "stream",
          "text": [
            "Epoch 99/150: 100%|██████████| 152/152 [00:01<00:00, 83.67it/s]\n"
          ]
        },
        {
          "name": "stdout",
          "output_type": "stream",
          "text": [
            "Epoch 99/150, Training Loss: 0.0644, Learning Rate: 1.0408804957535729e-05\n"
          ]
        },
        {
          "name": "stderr",
          "output_type": "stream",
          "text": [
            "Epoch 100/150: 100%|██████████| 152/152 [00:01<00:00, 81.08it/s]\n"
          ]
        },
        {
          "name": "stdout",
          "output_type": "stream",
          "text": [
            "Epoch 100/150, Training Loss: 0.0623, Learning Rate: 9.888364709658941e-06\n"
          ]
        },
        {
          "name": "stderr",
          "output_type": "stream",
          "text": [
            "Epoch 101/150: 100%|██████████| 152/152 [00:01<00:00, 83.49it/s]\n"
          ]
        },
        {
          "name": "stdout",
          "output_type": "stream",
          "text": [
            "Epoch 101/150, Training Loss: 0.0607, Learning Rate: 9.393946474175994e-06\n"
          ]
        },
        {
          "name": "stderr",
          "output_type": "stream",
          "text": [
            "Epoch 102/150: 100%|██████████| 152/152 [00:01<00:00, 83.27it/s]\n"
          ]
        },
        {
          "name": "stdout",
          "output_type": "stream",
          "text": [
            "Epoch 102/150, Training Loss: 0.0619, Learning Rate: 8.924249150467194e-06\n"
          ]
        },
        {
          "name": "stderr",
          "output_type": "stream",
          "text": [
            "Epoch 103/150: 100%|██████████| 152/152 [00:01<00:00, 82.88it/s]\n"
          ]
        },
        {
          "name": "stdout",
          "output_type": "stream",
          "text": [
            "Epoch 103/150, Training Loss: 0.0611, Learning Rate: 8.478036692943835e-06\n"
          ]
        },
        {
          "name": "stderr",
          "output_type": "stream",
          "text": [
            "Epoch 104/150: 100%|██████████| 152/152 [00:02<00:00, 63.31it/s]\n"
          ]
        },
        {
          "name": "stdout",
          "output_type": "stream",
          "text": [
            "Epoch 104/150, Training Loss: 0.0626, Learning Rate: 8.054134858296643e-06\n"
          ]
        },
        {
          "name": "stderr",
          "output_type": "stream",
          "text": [
            "Epoch 105/150: 100%|██████████| 152/152 [00:01<00:00, 83.46it/s]\n"
          ]
        },
        {
          "name": "stdout",
          "output_type": "stream",
          "text": [
            "Epoch 105/150, Training Loss: 0.0623, Learning Rate: 7.65142811538181e-06\n"
          ]
        },
        {
          "name": "stderr",
          "output_type": "stream",
          "text": [
            "Epoch 106/150: 100%|██████████| 152/152 [00:01<00:00, 82.69it/s]\n"
          ]
        },
        {
          "name": "stdout",
          "output_type": "stream",
          "text": [
            "Epoch 106/150, Training Loss: 0.0663, Learning Rate: 7.26885670961272e-06\n"
          ]
        },
        {
          "name": "stderr",
          "output_type": "stream",
          "text": [
            "Epoch 107/150: 100%|██████████| 152/152 [00:01<00:00, 83.53it/s]\n"
          ]
        },
        {
          "name": "stdout",
          "output_type": "stream",
          "text": [
            "Epoch 107/150, Training Loss: 0.0631, Learning Rate: 6.905413874132084e-06\n"
          ]
        },
        {
          "name": "stderr",
          "output_type": "stream",
          "text": [
            "Epoch 108/150: 100%|██████████| 152/152 [00:01<00:00, 82.77it/s]\n"
          ]
        },
        {
          "name": "stdout",
          "output_type": "stream",
          "text": [
            "Epoch 108/150, Training Loss: 0.0654, Learning Rate: 6.5601431804254795e-06\n"
          ]
        },
        {
          "name": "stderr",
          "output_type": "stream",
          "text": [
            "Epoch 109/150: 100%|██████████| 152/152 [00:01<00:00, 82.55it/s]\n"
          ]
        },
        {
          "name": "stdout",
          "output_type": "stream",
          "text": [
            "Epoch 109/150, Training Loss: 0.0614, Learning Rate: 6.232136021404205e-06\n"
          ]
        },
        {
          "name": "stderr",
          "output_type": "stream",
          "text": [
            "Epoch 110/150: 100%|██████████| 152/152 [00:02<00:00, 69.70it/s]\n"
          ]
        },
        {
          "name": "stdout",
          "output_type": "stream",
          "text": [
            "Epoch 110/150, Training Loss: 0.0621, Learning Rate: 5.920529220333994e-06\n"
          ]
        },
        {
          "name": "stderr",
          "output_type": "stream",
          "text": [
            "Epoch 111/150: 100%|██████████| 152/152 [00:02<00:00, 72.78it/s]\n"
          ]
        },
        {
          "name": "stdout",
          "output_type": "stream",
          "text": [
            "Epoch 111/150, Training Loss: 0.0660, Learning Rate: 5.624502759317295e-06\n"
          ]
        },
        {
          "name": "stderr",
          "output_type": "stream",
          "text": [
            "Epoch 112/150: 100%|██████████| 152/152 [00:01<00:00, 83.76it/s]\n"
          ]
        },
        {
          "name": "stdout",
          "output_type": "stream",
          "text": [
            "Epoch 112/150, Training Loss: 0.0615, Learning Rate: 5.34327762135143e-06\n"
          ]
        },
        {
          "name": "stderr",
          "output_type": "stream",
          "text": [
            "Epoch 113/150: 100%|██████████| 152/152 [00:01<00:00, 82.86it/s]\n"
          ]
        },
        {
          "name": "stdout",
          "output_type": "stream",
          "text": [
            "Epoch 113/150, Training Loss: 0.0608, Learning Rate: 5.076113740283858e-06\n"
          ]
        },
        {
          "name": "stderr",
          "output_type": "stream",
          "text": [
            "Epoch 114/150: 100%|██████████| 152/152 [00:01<00:00, 83.77it/s]\n"
          ]
        },
        {
          "name": "stdout",
          "output_type": "stream",
          "text": [
            "Epoch 114/150, Training Loss: 0.0660, Learning Rate: 4.8223080532696655e-06\n"
          ]
        },
        {
          "name": "stderr",
          "output_type": "stream",
          "text": [
            "Epoch 115/150: 100%|██████████| 152/152 [00:01<00:00, 83.28it/s]\n"
          ]
        },
        {
          "name": "stdout",
          "output_type": "stream",
          "text": [
            "Epoch 115/150, Training Loss: 0.0601, Learning Rate: 4.581192650606182e-06\n"
          ]
        },
        {
          "name": "stderr",
          "output_type": "stream",
          "text": [
            "Epoch 116/150: 100%|██████████| 152/152 [00:02<00:00, 75.44it/s]\n"
          ]
        },
        {
          "name": "stdout",
          "output_type": "stream",
          "text": [
            "Epoch 116/150, Training Loss: 0.0612, Learning Rate: 4.3521330180758725e-06\n"
          ]
        },
        {
          "name": "stderr",
          "output_type": "stream",
          "text": [
            "Epoch 117/150: 100%|██████████| 152/152 [00:02<00:00, 65.58it/s]\n"
          ]
        },
        {
          "name": "stdout",
          "output_type": "stream",
          "text": [
            "Epoch 117/150, Training Loss: 0.0627, Learning Rate: 4.1345263671720786e-06\n"
          ]
        },
        {
          "name": "stderr",
          "output_type": "stream",
          "text": [
            "Epoch 118/150: 100%|██████████| 152/152 [00:01<00:00, 83.32it/s]\n"
          ]
        },
        {
          "name": "stdout",
          "output_type": "stream",
          "text": [
            "Epoch 118/150, Training Loss: 0.0597, Learning Rate: 3.927800048813474e-06\n"
          ]
        },
        {
          "name": "stderr",
          "output_type": "stream",
          "text": [
            "Epoch 119/150: 100%|██████████| 152/152 [00:01<00:00, 83.99it/s]\n"
          ]
        },
        {
          "name": "stdout",
          "output_type": "stream",
          "text": [
            "Epoch 119/150, Training Loss: 0.0618, Learning Rate: 3.7314100463728006e-06\n"
          ]
        },
        {
          "name": "stderr",
          "output_type": "stream",
          "text": [
            "Epoch 120/150: 100%|██████████| 152/152 [00:01<00:00, 84.10it/s]\n"
          ]
        },
        {
          "name": "stdout",
          "output_type": "stream",
          "text": [
            "Epoch 120/150, Training Loss: 0.0625, Learning Rate: 3.5448395440541604e-06\n"
          ]
        },
        {
          "name": "stderr",
          "output_type": "stream",
          "text": [
            "Epoch 121/150: 100%|██████████| 152/152 [00:01<00:00, 82.30it/s]\n"
          ]
        },
        {
          "name": "stdout",
          "output_type": "stream",
          "text": [
            "Epoch 121/150, Training Loss: 0.0612, Learning Rate: 3.3675975668514524e-06\n"
          ]
        },
        {
          "name": "stderr",
          "output_type": "stream",
          "text": [
            "Epoch 122/150: 100%|██████████| 152/152 [00:01<00:00, 82.72it/s]\n"
          ]
        },
        {
          "name": "stdout",
          "output_type": "stream",
          "text": [
            "Epoch 122/150, Training Loss: 0.0621, Learning Rate: 3.1992176885088796e-06\n"
          ]
        },
        {
          "name": "stderr",
          "output_type": "stream",
          "text": [
            "Epoch 123/150: 100%|██████████| 152/152 [00:02<00:00, 63.20it/s]\n"
          ]
        },
        {
          "name": "stdout",
          "output_type": "stream",
          "text": [
            "Epoch 123/150, Training Loss: 0.0609, Learning Rate: 3.0392568040834356e-06\n"
          ]
        },
        {
          "name": "stderr",
          "output_type": "stream",
          "text": [
            "Epoch 124/150: 100%|██████████| 152/152 [00:01<00:00, 81.47it/s]\n"
          ]
        },
        {
          "name": "stdout",
          "output_type": "stream",
          "text": [
            "Epoch 124/150, Training Loss: 0.0611, Learning Rate: 2.8872939638792635e-06\n"
          ]
        },
        {
          "name": "stderr",
          "output_type": "stream",
          "text": [
            "Epoch 125/150: 100%|██████████| 152/152 [00:01<00:00, 80.72it/s]\n"
          ]
        },
        {
          "name": "stdout",
          "output_type": "stream",
          "text": [
            "Epoch 125/150, Training Loss: 0.0642, Learning Rate: 2.7429292656853003e-06\n"
          ]
        },
        {
          "name": "stderr",
          "output_type": "stream",
          "text": [
            "Epoch 126/150: 100%|██████████| 152/152 [00:01<00:00, 82.61it/s]\n"
          ]
        },
        {
          "name": "stdout",
          "output_type": "stream",
          "text": [
            "Epoch 126/150, Training Loss: 0.0608, Learning Rate: 2.605782802401035e-06\n"
          ]
        },
        {
          "name": "stderr",
          "output_type": "stream",
          "text": [
            "Epoch 127/150: 100%|██████████| 152/152 [00:01<00:00, 83.59it/s]\n"
          ]
        },
        {
          "name": "stdout",
          "output_type": "stream",
          "text": [
            "Epoch 127/150, Training Loss: 0.0607, Learning Rate: 2.475493662280983e-06\n"
          ]
        },
        {
          "name": "stderr",
          "output_type": "stream",
          "text": [
            "Epoch 128/150: 100%|██████████| 152/152 [00:01<00:00, 82.72it/s]\n"
          ]
        },
        {
          "name": "stdout",
          "output_type": "stream",
          "text": [
            "Epoch 128/150, Training Loss: 0.0650, Learning Rate: 2.351718979166934e-06\n"
          ]
        },
        {
          "name": "stderr",
          "output_type": "stream",
          "text": [
            "Epoch 129/150: 100%|██████████| 152/152 [00:02<00:00, 69.43it/s]\n"
          ]
        },
        {
          "name": "stdout",
          "output_type": "stream",
          "text": [
            "Epoch 129/150, Training Loss: 0.0645, Learning Rate: 2.234133030208587e-06\n"
          ]
        },
        {
          "name": "stderr",
          "output_type": "stream",
          "text": [
            "Epoch 130/150: 100%|██████████| 152/152 [00:02<00:00, 71.45it/s]\n"
          ]
        },
        {
          "name": "stdout",
          "output_type": "stream",
          "text": [
            "Epoch 130/150, Training Loss: 0.0615, Learning Rate: 2.1224263786981576e-06\n"
          ]
        },
        {
          "name": "stderr",
          "output_type": "stream",
          "text": [
            "Epoch 131/150: 100%|██████████| 152/152 [00:01<00:00, 81.36it/s]\n"
          ]
        },
        {
          "name": "stdout",
          "output_type": "stream",
          "text": [
            "Epoch 131/150, Training Loss: 0.0609, Learning Rate: 2.0163050597632494e-06\n"
          ]
        },
        {
          "name": "stderr",
          "output_type": "stream",
          "text": [
            "Epoch 132/150: 100%|██████████| 152/152 [00:01<00:00, 82.13it/s]\n"
          ]
        },
        {
          "name": "stdout",
          "output_type": "stream",
          "text": [
            "Epoch 132/150, Training Loss: 0.0604, Learning Rate: 1.915489806775087e-06\n"
          ]
        },
        {
          "name": "stderr",
          "output_type": "stream",
          "text": [
            "Epoch 133/150: 100%|██████████| 152/152 [00:01<00:00, 77.17it/s]\n"
          ]
        },
        {
          "name": "stdout",
          "output_type": "stream",
          "text": [
            "Epoch 133/150, Training Loss: 0.0630, Learning Rate: 1.8197153164363325e-06\n"
          ]
        },
        {
          "name": "stderr",
          "output_type": "stream",
          "text": [
            "Epoch 134/150: 100%|██████████| 152/152 [00:01<00:00, 83.98it/s]\n"
          ]
        },
        {
          "name": "stdout",
          "output_type": "stream",
          "text": [
            "Epoch 134/150, Training Loss: 0.0645, Learning Rate: 1.7287295506145157e-06\n"
          ]
        },
        {
          "name": "stderr",
          "output_type": "stream",
          "text": [
            "Epoch 135/150: 100%|██████████| 152/152 [00:02<00:00, 73.54it/s]\n"
          ]
        },
        {
          "name": "stdout",
          "output_type": "stream",
          "text": [
            "Epoch 135/150, Training Loss: 0.0603, Learning Rate: 1.6422930730837899e-06\n"
          ]
        },
        {
          "name": "stderr",
          "output_type": "stream",
          "text": [
            "Epoch 136/150: 100%|██████████| 152/152 [00:02<00:00, 66.69it/s]\n"
          ]
        },
        {
          "name": "stdout",
          "output_type": "stream",
          "text": [
            "Epoch 136/150, Training Loss: 0.0615, Learning Rate: 1.5601784194296004e-06\n"
          ]
        },
        {
          "name": "stderr",
          "output_type": "stream",
          "text": [
            "Epoch 137/150: 100%|██████████| 152/152 [00:01<00:00, 82.02it/s]\n"
          ]
        },
        {
          "name": "stdout",
          "output_type": "stream",
          "text": [
            "Epoch 137/150, Training Loss: 0.0637, Learning Rate: 1.4821694984581202e-06\n"
          ]
        },
        {
          "name": "stderr",
          "output_type": "stream",
          "text": [
            "Epoch 138/150: 100%|██████████| 152/152 [00:01<00:00, 82.87it/s]\n"
          ]
        },
        {
          "name": "stdout",
          "output_type": "stream",
          "text": [
            "Epoch 138/150, Training Loss: 0.0641, Learning Rate: 1.4080610235352142e-06\n"
          ]
        },
        {
          "name": "stderr",
          "output_type": "stream",
          "text": [
            "Epoch 139/150: 100%|██████████| 152/152 [00:01<00:00, 82.40it/s]\n"
          ]
        },
        {
          "name": "stdout",
          "output_type": "stream",
          "text": [
            "Epoch 139/150, Training Loss: 0.0644, Learning Rate: 1.3376579723584535e-06\n"
          ]
        },
        {
          "name": "stderr",
          "output_type": "stream",
          "text": [
            "Epoch 140/150: 100%|██████████| 152/152 [00:01<00:00, 81.59it/s]\n"
          ]
        },
        {
          "name": "stdout",
          "output_type": "stream",
          "text": [
            "Epoch 140/150, Training Loss: 0.0654, Learning Rate: 1.2707750737405307e-06\n"
          ]
        },
        {
          "name": "stderr",
          "output_type": "stream",
          "text": [
            "Epoch 141/150: 100%|██████████| 152/152 [00:01<00:00, 81.89it/s]\n"
          ]
        },
        {
          "name": "stdout",
          "output_type": "stream",
          "text": [
            "Epoch 141/150, Training Loss: 0.0600, Learning Rate: 1.2072363200535042e-06\n"
          ]
        },
        {
          "name": "stderr",
          "output_type": "stream",
          "text": [
            "Epoch 142/150: 100%|██████████| 152/152 [00:02<00:00, 63.18it/s]\n"
          ]
        },
        {
          "name": "stdout",
          "output_type": "stream",
          "text": [
            "Epoch 142/150, Training Loss: 0.0647, Learning Rate: 1.146874504050829e-06\n"
          ]
        },
        {
          "name": "stderr",
          "output_type": "stream",
          "text": [
            "Epoch 143/150: 100%|██████████| 152/152 [00:01<00:00, 82.20it/s]\n"
          ]
        },
        {
          "name": "stdout",
          "output_type": "stream",
          "text": [
            "Epoch 143/150, Training Loss: 0.0654, Learning Rate: 1.0895307788482876e-06\n"
          ]
        },
        {
          "name": "stderr",
          "output_type": "stream",
          "text": [
            "Epoch 144/150: 100%|██████████| 152/152 [00:01<00:00, 82.54it/s]\n"
          ]
        },
        {
          "name": "stdout",
          "output_type": "stream",
          "text": [
            "Epoch 144/150, Training Loss: 0.0633, Learning Rate: 1.0350542399058731e-06\n"
          ]
        },
        {
          "name": "stderr",
          "output_type": "stream",
          "text": [
            "Epoch 145/150: 100%|██████████| 152/152 [00:01<00:00, 82.87it/s]\n"
          ]
        },
        {
          "name": "stdout",
          "output_type": "stream",
          "text": [
            "Epoch 145/150, Training Loss: 0.0636, Learning Rate: 9.833015279105794e-07\n"
          ]
        },
        {
          "name": "stderr",
          "output_type": "stream",
          "text": [
            "Epoch 146/150: 100%|██████████| 152/152 [00:01<00:00, 81.96it/s]\n"
          ]
        },
        {
          "name": "stdout",
          "output_type": "stream",
          "text": [
            "Epoch 146/150, Training Loss: 0.0616, Learning Rate: 9.341364515150503e-07\n"
          ]
        },
        {
          "name": "stderr",
          "output_type": "stream",
          "text": [
            "Epoch 147/150: 100%|██████████| 152/152 [00:01<00:00, 81.14it/s]\n"
          ]
        },
        {
          "name": "stdout",
          "output_type": "stream",
          "text": [
            "Epoch 147/150, Training Loss: 0.0638, Learning Rate: 8.874296289392978e-07\n"
          ]
        },
        {
          "name": "stderr",
          "output_type": "stream",
          "text": [
            "Epoch 148/150: 100%|██████████| 152/152 [00:02<00:00, 65.62it/s]\n"
          ]
        },
        {
          "name": "stdout",
          "output_type": "stream",
          "text": [
            "Epoch 148/150, Training Loss: 0.0595, Learning Rate: 8.430581474923329e-07\n"
          ]
        },
        {
          "name": "stderr",
          "output_type": "stream",
          "text": [
            "Epoch 149/150: 100%|██████████| 152/152 [00:01<00:00, 76.50it/s]\n"
          ]
        },
        {
          "name": "stdout",
          "output_type": "stream",
          "text": [
            "Epoch 149/150, Training Loss: 0.0621, Learning Rate: 8.009052401177162e-07\n"
          ]
        },
        {
          "name": "stderr",
          "output_type": "stream",
          "text": [
            "Epoch 150/150: 100%|██████████| 152/152 [00:01<00:00, 83.22it/s]"
          ]
        },
        {
          "name": "stdout",
          "output_type": "stream",
          "text": [
            "Epoch 150/150, Training Loss: 0.0599, Learning Rate: 7.608599781118303e-07\n"
          ]
        },
        {
          "name": "stderr",
          "output_type": "stream",
          "text": [
            "\n"
          ]
        }
      ],
      "source": [
        "# Question split\n",
        "question_transformer_model = TransformerTaggerClassifier(\n",
        "    input_dim=question_context_train_val_dataset.get_vector_dim(),\n",
        "    hidden_dim=256,\n",
        "    num_heads=8,\n",
        "    num_layers=2,\n",
        "    tag_vocab_size=question_context_train_val_dataset.get_tag_vocab_size(),\n",
        "    sql_vocab_size=question_context_train_val_dataset.get_sql_vocab_size()\n",
        ")\n",
        "# Training\n",
        "question_trained_transformer_model = train_model(\n",
        "    model=question_transformer_model,\n",
        "    train_loader=question_context_train_val_loader,\n",
        "    weight_decay=0.1,\n",
        "    epochs=150,\n",
        "    amsgrad=True,\n",
        "    gamma=0.95,\n",
        "    lr=1e-3\n",
        ")"
      ]
    },
    {
      "cell_type": "code",
      "execution_count": 30,
      "metadata": {
        "colab": {
          "base_uri": "https://localhost:8080/"
        },
        "id": "DMninALQdcQL",
        "outputId": "02f0a0e2-04d4-48ab-ae20-e9da0a25d5c2"
      },
      "outputs": [
        {
          "name": "stderr",
          "output_type": "stream",
          "text": [
            "\rGenerating SQL queries:   0%|          | 0/14 [00:00<?, ?it/s]/usr/local/lib/python3.11/dist-packages/torch/nn/modules/transformer.py:508: UserWarning: The PyTorch API of nested tensors is in prototype stage and will change in the near future. We recommend specifying layout=torch.jagged when constructing a nested tensor, as this layout receives active development, has better operator coverage, and works with torch.compile. (Triggered internally at /pytorch/aten/src/ATen/NestedTensorImpl.cpp:178.)\n",
            "  output = torch._nested_tensor_from_mask(\n",
            "Generating SQL queries: 100%|██████████| 14/14 [00:00<00:00, 14.65it/s]"
          ]
        },
        {
          "name": "stdout",
          "output_type": "stream",
          "text": [
            "\n",
            "Accuracy of Transformer model on question split test set: 36.24%\n"
          ]
        },
        {
          "name": "stderr",
          "output_type": "stream",
          "text": [
            "\n"
          ]
        }
      ],
      "source": [
        "# Evaluating on the test set to get accuracy\n",
        "question_transformer_sql_pipe = SQLPipeline(dataset=question_context_test_dataset,model=question_trained_transformer_model,embed_type=\"context\")\n",
        "question_transformer_results, question_transformer_acc = question_transformer_sql_pipe.batch_predict(dataloader=question_context_test_loader)\n",
        "print(f\"\\nAccuracy of Transformer model on question split test set: {question_transformer_acc:.2%}\")"
      ]
    },
    {
      "cell_type": "code",
      "execution_count": 31,
      "metadata": {
        "colab": {
          "base_uri": "https://localhost:8080/"
        },
        "collapsed": true,
        "id": "ChQ0K-gMLIUh",
        "outputId": "55b48430-4459-40f6-837d-d89720899c36"
      },
      "outputs": [
        {
          "name": "stderr",
          "output_type": "stream",
          "text": [
            "Epoch 1/150: 100%|██████████| 155/155 [00:01<00:00, 82.41it/s]\n"
          ]
        },
        {
          "name": "stdout",
          "output_type": "stream",
          "text": [
            "Epoch 1/150, Training Loss: 4.8744, Learning Rate: 0.001\n"
          ]
        },
        {
          "name": "stderr",
          "output_type": "stream",
          "text": [
            "Epoch 2/150: 100%|██████████| 155/155 [00:01<00:00, 83.02it/s]\n"
          ]
        },
        {
          "name": "stdout",
          "output_type": "stream",
          "text": [
            "Epoch 2/150, Training Loss: 3.2214, Learning Rate: 0.001\n"
          ]
        },
        {
          "name": "stderr",
          "output_type": "stream",
          "text": [
            "Epoch 3/150: 100%|██████████| 155/155 [00:01<00:00, 83.69it/s]\n"
          ]
        },
        {
          "name": "stdout",
          "output_type": "stream",
          "text": [
            "Epoch 3/150, Training Loss: 2.6058, Learning Rate: 0.001\n"
          ]
        },
        {
          "name": "stderr",
          "output_type": "stream",
          "text": [
            "Epoch 4/150: 100%|██████████| 155/155 [00:02<00:00, 62.84it/s]\n"
          ]
        },
        {
          "name": "stdout",
          "output_type": "stream",
          "text": [
            "Epoch 4/150, Training Loss: 2.2006, Learning Rate: 0.001\n"
          ]
        },
        {
          "name": "stderr",
          "output_type": "stream",
          "text": [
            "Epoch 5/150: 100%|██████████| 155/155 [00:01<00:00, 82.77it/s]\n"
          ]
        },
        {
          "name": "stdout",
          "output_type": "stream",
          "text": [
            "Epoch 5/150, Training Loss: 1.8574, Learning Rate: 0.001\n"
          ]
        },
        {
          "name": "stderr",
          "output_type": "stream",
          "text": [
            "Epoch 6/150: 100%|██████████| 155/155 [00:01<00:00, 84.85it/s]\n"
          ]
        },
        {
          "name": "stdout",
          "output_type": "stream",
          "text": [
            "Epoch 6/150, Training Loss: 1.6506, Learning Rate: 0.001\n"
          ]
        },
        {
          "name": "stderr",
          "output_type": "stream",
          "text": [
            "Epoch 7/150: 100%|██████████| 155/155 [00:01<00:00, 83.89it/s]\n"
          ]
        },
        {
          "name": "stdout",
          "output_type": "stream",
          "text": [
            "Epoch 7/150, Training Loss: 1.3916, Learning Rate: 0.001\n"
          ]
        },
        {
          "name": "stderr",
          "output_type": "stream",
          "text": [
            "Epoch 8/150: 100%|██████████| 155/155 [00:01<00:00, 82.96it/s]\n"
          ]
        },
        {
          "name": "stdout",
          "output_type": "stream",
          "text": [
            "Epoch 8/150, Training Loss: 1.2388, Learning Rate: 0.001\n"
          ]
        },
        {
          "name": "stderr",
          "output_type": "stream",
          "text": [
            "Epoch 9/150: 100%|██████████| 155/155 [00:01<00:00, 84.64it/s]\n"
          ]
        },
        {
          "name": "stdout",
          "output_type": "stream",
          "text": [
            "Epoch 9/150, Training Loss: 1.0843, Learning Rate: 0.001\n"
          ]
        },
        {
          "name": "stderr",
          "output_type": "stream",
          "text": [
            "Epoch 10/150: 100%|██████████| 155/155 [00:02<00:00, 63.35it/s]\n"
          ]
        },
        {
          "name": "stdout",
          "output_type": "stream",
          "text": [
            "Epoch 10/150, Training Loss: 0.9514, Learning Rate: 0.001\n"
          ]
        },
        {
          "name": "stderr",
          "output_type": "stream",
          "text": [
            "Epoch 11/150: 100%|██████████| 155/155 [00:01<00:00, 79.09it/s]\n"
          ]
        },
        {
          "name": "stdout",
          "output_type": "stream",
          "text": [
            "Epoch 11/150, Training Loss: 0.8619, Learning Rate: 0.00095\n"
          ]
        },
        {
          "name": "stderr",
          "output_type": "stream",
          "text": [
            "Epoch 12/150: 100%|██████████| 155/155 [00:01<00:00, 84.89it/s]\n"
          ]
        },
        {
          "name": "stdout",
          "output_type": "stream",
          "text": [
            "Epoch 12/150, Training Loss: 0.7469, Learning Rate: 0.0009025\n"
          ]
        },
        {
          "name": "stderr",
          "output_type": "stream",
          "text": [
            "Epoch 13/150: 100%|██████████| 155/155 [00:01<00:00, 84.53it/s]\n"
          ]
        },
        {
          "name": "stdout",
          "output_type": "stream",
          "text": [
            "Epoch 13/150, Training Loss: 0.6112, Learning Rate: 0.000857375\n"
          ]
        },
        {
          "name": "stderr",
          "output_type": "stream",
          "text": [
            "Epoch 14/150: 100%|██████████| 155/155 [00:01<00:00, 84.54it/s]\n"
          ]
        },
        {
          "name": "stdout",
          "output_type": "stream",
          "text": [
            "Epoch 14/150, Training Loss: 0.4821, Learning Rate: 0.0008145062499999999\n"
          ]
        },
        {
          "name": "stderr",
          "output_type": "stream",
          "text": [
            "Epoch 15/150: 100%|██████████| 155/155 [00:01<00:00, 83.90it/s]\n"
          ]
        },
        {
          "name": "stdout",
          "output_type": "stream",
          "text": [
            "Epoch 15/150, Training Loss: 0.4460, Learning Rate: 0.0007737809374999998\n"
          ]
        },
        {
          "name": "stderr",
          "output_type": "stream",
          "text": [
            "Epoch 16/150: 100%|██████████| 155/155 [00:02<00:00, 72.54it/s]\n"
          ]
        },
        {
          "name": "stdout",
          "output_type": "stream",
          "text": [
            "Epoch 16/150, Training Loss: 0.3721, Learning Rate: 0.0007350918906249997\n"
          ]
        },
        {
          "name": "stderr",
          "output_type": "stream",
          "text": [
            "Epoch 17/150: 100%|██████████| 155/155 [00:02<00:00, 72.48it/s]\n"
          ]
        },
        {
          "name": "stdout",
          "output_type": "stream",
          "text": [
            "Epoch 17/150, Training Loss: 0.3362, Learning Rate: 0.0006983372960937497\n"
          ]
        },
        {
          "name": "stderr",
          "output_type": "stream",
          "text": [
            "Epoch 18/150: 100%|██████████| 155/155 [00:01<00:00, 83.14it/s]\n"
          ]
        },
        {
          "name": "stdout",
          "output_type": "stream",
          "text": [
            "Epoch 18/150, Training Loss: 0.2979, Learning Rate: 0.0006634204312890621\n"
          ]
        },
        {
          "name": "stderr",
          "output_type": "stream",
          "text": [
            "Epoch 19/150: 100%|██████████| 155/155 [00:01<00:00, 85.81it/s]\n"
          ]
        },
        {
          "name": "stdout",
          "output_type": "stream",
          "text": [
            "Epoch 19/150, Training Loss: 0.2492, Learning Rate: 0.000630249409724609\n"
          ]
        },
        {
          "name": "stderr",
          "output_type": "stream",
          "text": [
            "Epoch 20/150: 100%|██████████| 155/155 [00:01<00:00, 82.94it/s]\n"
          ]
        },
        {
          "name": "stdout",
          "output_type": "stream",
          "text": [
            "Epoch 20/150, Training Loss: 0.2218, Learning Rate: 0.0005987369392383785\n"
          ]
        },
        {
          "name": "stderr",
          "output_type": "stream",
          "text": [
            "Epoch 21/150: 100%|██████████| 155/155 [00:01<00:00, 83.73it/s]\n"
          ]
        },
        {
          "name": "stdout",
          "output_type": "stream",
          "text": [
            "Epoch 21/150, Training Loss: 0.2043, Learning Rate: 0.0005688000922764595\n"
          ]
        },
        {
          "name": "stderr",
          "output_type": "stream",
          "text": [
            "Epoch 22/150: 100%|██████████| 155/155 [00:02<00:00, 76.62it/s]\n"
          ]
        },
        {
          "name": "stdout",
          "output_type": "stream",
          "text": [
            "Epoch 22/150, Training Loss: 0.1951, Learning Rate: 0.0005403600876626365\n"
          ]
        },
        {
          "name": "stderr",
          "output_type": "stream",
          "text": [
            "Epoch 23/150: 100%|██████████| 155/155 [00:02<00:00, 66.54it/s]\n"
          ]
        },
        {
          "name": "stdout",
          "output_type": "stream",
          "text": [
            "Epoch 23/150, Training Loss: 0.1865, Learning Rate: 0.0005133420832795047\n"
          ]
        },
        {
          "name": "stderr",
          "output_type": "stream",
          "text": [
            "Epoch 24/150: 100%|██████████| 155/155 [00:01<00:00, 83.35it/s]\n"
          ]
        },
        {
          "name": "stdout",
          "output_type": "stream",
          "text": [
            "Epoch 24/150, Training Loss: 0.1606, Learning Rate: 0.00048767497911552944\n"
          ]
        },
        {
          "name": "stderr",
          "output_type": "stream",
          "text": [
            "Epoch 25/150: 100%|██████████| 155/155 [00:01<00:00, 83.61it/s]\n"
          ]
        },
        {
          "name": "stdout",
          "output_type": "stream",
          "text": [
            "Epoch 25/150, Training Loss: 0.1562, Learning Rate: 0.00046329123015975297\n"
          ]
        },
        {
          "name": "stderr",
          "output_type": "stream",
          "text": [
            "Epoch 26/150: 100%|██████████| 155/155 [00:01<00:00, 84.96it/s]\n"
          ]
        },
        {
          "name": "stdout",
          "output_type": "stream",
          "text": [
            "Epoch 26/150, Training Loss: 0.1490, Learning Rate: 0.0004401266686517653\n"
          ]
        },
        {
          "name": "stderr",
          "output_type": "stream",
          "text": [
            "Epoch 27/150: 100%|██████████| 155/155 [00:01<00:00, 83.33it/s]\n"
          ]
        },
        {
          "name": "stdout",
          "output_type": "stream",
          "text": [
            "Epoch 27/150, Training Loss: 0.1343, Learning Rate: 0.00041812033521917703\n"
          ]
        },
        {
          "name": "stderr",
          "output_type": "stream",
          "text": [
            "Epoch 28/150: 100%|██████████| 155/155 [00:01<00:00, 83.80it/s]\n"
          ]
        },
        {
          "name": "stdout",
          "output_type": "stream",
          "text": [
            "Epoch 28/150, Training Loss: 0.1311, Learning Rate: 0.00039721431845821814\n"
          ]
        },
        {
          "name": "stderr",
          "output_type": "stream",
          "text": [
            "Epoch 29/150: 100%|██████████| 155/155 [00:02<00:00, 61.64it/s]\n"
          ]
        },
        {
          "name": "stdout",
          "output_type": "stream",
          "text": [
            "Epoch 29/150, Training Loss: 0.1241, Learning Rate: 0.0003773536025353072\n"
          ]
        },
        {
          "name": "stderr",
          "output_type": "stream",
          "text": [
            "Epoch 30/150: 100%|██████████| 155/155 [00:01<00:00, 83.91it/s]\n"
          ]
        },
        {
          "name": "stdout",
          "output_type": "stream",
          "text": [
            "Epoch 30/150, Training Loss: 0.1186, Learning Rate: 0.0003584859224085418\n"
          ]
        },
        {
          "name": "stderr",
          "output_type": "stream",
          "text": [
            "Epoch 31/150: 100%|██████████| 155/155 [00:01<00:00, 84.32it/s]\n"
          ]
        },
        {
          "name": "stdout",
          "output_type": "stream",
          "text": [
            "Epoch 31/150, Training Loss: 0.1078, Learning Rate: 0.0003405616262881147\n"
          ]
        },
        {
          "name": "stderr",
          "output_type": "stream",
          "text": [
            "Epoch 32/150: 100%|██████████| 155/155 [00:01<00:00, 83.66it/s]\n"
          ]
        },
        {
          "name": "stdout",
          "output_type": "stream",
          "text": [
            "Epoch 32/150, Training Loss: 0.1109, Learning Rate: 0.00032353354497370894\n"
          ]
        },
        {
          "name": "stderr",
          "output_type": "stream",
          "text": [
            "Epoch 33/150: 100%|██████████| 155/155 [00:01<00:00, 84.57it/s]\n"
          ]
        },
        {
          "name": "stdout",
          "output_type": "stream",
          "text": [
            "Epoch 33/150, Training Loss: 0.1029, Learning Rate: 0.00030735686772502346\n"
          ]
        },
        {
          "name": "stderr",
          "output_type": "stream",
          "text": [
            "Epoch 34/150: 100%|██████████| 155/155 [00:01<00:00, 84.21it/s]\n"
          ]
        },
        {
          "name": "stdout",
          "output_type": "stream",
          "text": [
            "Epoch 34/150, Training Loss: 0.0974, Learning Rate: 0.00029198902433877225\n"
          ]
        },
        {
          "name": "stderr",
          "output_type": "stream",
          "text": [
            "Epoch 35/150: 100%|██████████| 155/155 [00:02<00:00, 66.55it/s]\n"
          ]
        },
        {
          "name": "stdout",
          "output_type": "stream",
          "text": [
            "Epoch 35/150, Training Loss: 0.0967, Learning Rate: 0.00027738957312183364\n"
          ]
        },
        {
          "name": "stderr",
          "output_type": "stream",
          "text": [
            "Epoch 36/150: 100%|██████████| 155/155 [00:01<00:00, 77.79it/s]\n"
          ]
        },
        {
          "name": "stdout",
          "output_type": "stream",
          "text": [
            "Epoch 36/150, Training Loss: 0.0902, Learning Rate: 0.0002635200944657419\n"
          ]
        },
        {
          "name": "stderr",
          "output_type": "stream",
          "text": [
            "Epoch 37/150: 100%|██████████| 155/155 [00:01<00:00, 83.65it/s]\n"
          ]
        },
        {
          "name": "stdout",
          "output_type": "stream",
          "text": [
            "Epoch 37/150, Training Loss: 0.0881, Learning Rate: 0.0002503440897424548\n"
          ]
        },
        {
          "name": "stderr",
          "output_type": "stream",
          "text": [
            "Epoch 38/150: 100%|██████████| 155/155 [00:01<00:00, 83.75it/s]\n"
          ]
        },
        {
          "name": "stdout",
          "output_type": "stream",
          "text": [
            "Epoch 38/150, Training Loss: 0.0858, Learning Rate: 0.00023782688525533205\n"
          ]
        },
        {
          "name": "stderr",
          "output_type": "stream",
          "text": [
            "Epoch 39/150: 100%|██████████| 155/155 [00:01<00:00, 83.30it/s]\n"
          ]
        },
        {
          "name": "stdout",
          "output_type": "stream",
          "text": [
            "Epoch 39/150, Training Loss: 0.0845, Learning Rate: 0.00022593554099256544\n"
          ]
        },
        {
          "name": "stderr",
          "output_type": "stream",
          "text": [
            "Epoch 40/150: 100%|██████████| 155/155 [00:01<00:00, 83.93it/s]\n"
          ]
        },
        {
          "name": "stdout",
          "output_type": "stream",
          "text": [
            "Epoch 40/150, Training Loss: 0.0796, Learning Rate: 0.00021463876394293716\n"
          ]
        },
        {
          "name": "stderr",
          "output_type": "stream",
          "text": [
            "Epoch 41/150: 100%|██████████| 155/155 [00:02<00:00, 73.80it/s]\n"
          ]
        },
        {
          "name": "stdout",
          "output_type": "stream",
          "text": [
            "Epoch 41/150, Training Loss: 0.0819, Learning Rate: 0.0002039068257457903\n"
          ]
        },
        {
          "name": "stderr",
          "output_type": "stream",
          "text": [
            "Epoch 42/150: 100%|██████████| 155/155 [00:02<00:00, 72.66it/s]\n"
          ]
        },
        {
          "name": "stdout",
          "output_type": "stream",
          "text": [
            "Epoch 42/150, Training Loss: 0.0790, Learning Rate: 0.00019371148445850077\n"
          ]
        },
        {
          "name": "stderr",
          "output_type": "stream",
          "text": [
            "Epoch 43/150: 100%|██████████| 155/155 [00:01<00:00, 82.77it/s]\n"
          ]
        },
        {
          "name": "stdout",
          "output_type": "stream",
          "text": [
            "Epoch 43/150, Training Loss: 0.0781, Learning Rate: 0.00018402591023557573\n"
          ]
        },
        {
          "name": "stderr",
          "output_type": "stream",
          "text": [
            "Epoch 44/150: 100%|██████████| 155/155 [00:01<00:00, 84.88it/s]\n"
          ]
        },
        {
          "name": "stdout",
          "output_type": "stream",
          "text": [
            "Epoch 44/150, Training Loss: 0.0763, Learning Rate: 0.00017482461472379692\n"
          ]
        },
        {
          "name": "stderr",
          "output_type": "stream",
          "text": [
            "Epoch 45/150: 100%|██████████| 155/155 [00:01<00:00, 83.64it/s]\n"
          ]
        },
        {
          "name": "stdout",
          "output_type": "stream",
          "text": [
            "Epoch 45/150, Training Loss: 0.0764, Learning Rate: 0.00016608338398760707\n"
          ]
        },
        {
          "name": "stderr",
          "output_type": "stream",
          "text": [
            "Epoch 46/150: 100%|██████████| 155/155 [00:01<00:00, 83.49it/s]\n"
          ]
        },
        {
          "name": "stdout",
          "output_type": "stream",
          "text": [
            "Epoch 46/150, Training Loss: 0.0730, Learning Rate: 0.0001577792147882267\n"
          ]
        },
        {
          "name": "stderr",
          "output_type": "stream",
          "text": [
            "Epoch 47/150: 100%|██████████| 155/155 [00:02<00:00, 77.11it/s]\n"
          ]
        },
        {
          "name": "stdout",
          "output_type": "stream",
          "text": [
            "Epoch 47/150, Training Loss: 0.0657, Learning Rate: 0.00014989025404881537\n"
          ]
        },
        {
          "name": "stderr",
          "output_type": "stream",
          "text": [
            "Epoch 48/150: 100%|██████████| 155/155 [00:02<00:00, 67.30it/s]\n"
          ]
        },
        {
          "name": "stdout",
          "output_type": "stream",
          "text": [
            "Epoch 48/150, Training Loss: 0.0717, Learning Rate: 0.00014239574134637458\n"
          ]
        },
        {
          "name": "stderr",
          "output_type": "stream",
          "text": [
            "Epoch 49/150: 100%|██████████| 155/155 [00:01<00:00, 84.13it/s]\n"
          ]
        },
        {
          "name": "stdout",
          "output_type": "stream",
          "text": [
            "Epoch 49/150, Training Loss: 0.0696, Learning Rate: 0.00013527595427905584\n"
          ]
        },
        {
          "name": "stderr",
          "output_type": "stream",
          "text": [
            "Epoch 50/150: 100%|██████████| 155/155 [00:01<00:00, 84.43it/s]\n"
          ]
        },
        {
          "name": "stdout",
          "output_type": "stream",
          "text": [
            "Epoch 50/150, Training Loss: 0.0697, Learning Rate: 0.00012851215656510304\n"
          ]
        },
        {
          "name": "stderr",
          "output_type": "stream",
          "text": [
            "Epoch 51/150: 100%|██████████| 155/155 [00:01<00:00, 84.46it/s]\n"
          ]
        },
        {
          "name": "stdout",
          "output_type": "stream",
          "text": [
            "Epoch 51/150, Training Loss: 0.0697, Learning Rate: 0.00012208654873684788\n"
          ]
        },
        {
          "name": "stderr",
          "output_type": "stream",
          "text": [
            "Epoch 52/150: 100%|██████████| 155/155 [00:01<00:00, 83.05it/s]\n"
          ]
        },
        {
          "name": "stdout",
          "output_type": "stream",
          "text": [
            "Epoch 52/150, Training Loss: 0.0688, Learning Rate: 0.00011598222130000548\n"
          ]
        },
        {
          "name": "stderr",
          "output_type": "stream",
          "text": [
            "Epoch 53/150: 100%|██████████| 155/155 [00:01<00:00, 83.19it/s]\n"
          ]
        },
        {
          "name": "stdout",
          "output_type": "stream",
          "text": [
            "Epoch 53/150, Training Loss: 0.0700, Learning Rate: 0.00011018311023500519\n"
          ]
        },
        {
          "name": "stderr",
          "output_type": "stream",
          "text": [
            "Epoch 54/150: 100%|██████████| 155/155 [00:02<00:00, 62.34it/s]\n"
          ]
        },
        {
          "name": "stdout",
          "output_type": "stream",
          "text": [
            "Epoch 54/150, Training Loss: 0.0667, Learning Rate: 0.00010467395472325493\n"
          ]
        },
        {
          "name": "stderr",
          "output_type": "stream",
          "text": [
            "Epoch 55/150: 100%|██████████| 155/155 [00:01<00:00, 83.93it/s]\n"
          ]
        },
        {
          "name": "stdout",
          "output_type": "stream",
          "text": [
            "Epoch 55/150, Training Loss: 0.0643, Learning Rate: 9.944025698709218e-05\n"
          ]
        },
        {
          "name": "stderr",
          "output_type": "stream",
          "text": [
            "Epoch 56/150: 100%|██████████| 155/155 [00:01<00:00, 84.81it/s]\n"
          ]
        },
        {
          "name": "stdout",
          "output_type": "stream",
          "text": [
            "Epoch 56/150, Training Loss: 0.0648, Learning Rate: 9.446824413773756e-05\n"
          ]
        },
        {
          "name": "stderr",
          "output_type": "stream",
          "text": [
            "Epoch 57/150: 100%|██████████| 155/155 [00:01<00:00, 84.25it/s]\n"
          ]
        },
        {
          "name": "stdout",
          "output_type": "stream",
          "text": [
            "Epoch 57/150, Training Loss: 0.0634, Learning Rate: 8.974483193085068e-05\n"
          ]
        },
        {
          "name": "stderr",
          "output_type": "stream",
          "text": [
            "Epoch 58/150: 100%|██████████| 155/155 [00:01<00:00, 82.74it/s]\n"
          ]
        },
        {
          "name": "stdout",
          "output_type": "stream",
          "text": [
            "Epoch 58/150, Training Loss: 0.0636, Learning Rate: 8.525759033430814e-05\n"
          ]
        },
        {
          "name": "stderr",
          "output_type": "stream",
          "text": [
            "Epoch 59/150: 100%|██████████| 155/155 [00:01<00:00, 83.71it/s]\n"
          ]
        },
        {
          "name": "stdout",
          "output_type": "stream",
          "text": [
            "Epoch 59/150, Training Loss: 0.0626, Learning Rate: 8.099471081759274e-05\n"
          ]
        },
        {
          "name": "stderr",
          "output_type": "stream",
          "text": [
            "Epoch 60/150: 100%|██████████| 155/155 [00:02<00:00, 55.17it/s]\n"
          ]
        },
        {
          "name": "stdout",
          "output_type": "stream",
          "text": [
            "Epoch 60/150, Training Loss: 0.0606, Learning Rate: 7.69449752767131e-05\n"
          ]
        },
        {
          "name": "stderr",
          "output_type": "stream",
          "text": [
            "Epoch 61/150: 100%|██████████| 155/155 [00:02<00:00, 64.48it/s]\n"
          ]
        },
        {
          "name": "stdout",
          "output_type": "stream",
          "text": [
            "Epoch 61/150, Training Loss: 0.0607, Learning Rate: 7.309772651287744e-05\n"
          ]
        },
        {
          "name": "stderr",
          "output_type": "stream",
          "text": [
            "Epoch 62/150: 100%|██████████| 155/155 [00:01<00:00, 84.89it/s]\n"
          ]
        },
        {
          "name": "stdout",
          "output_type": "stream",
          "text": [
            "Epoch 62/150, Training Loss: 0.0634, Learning Rate: 6.944284018723356e-05\n"
          ]
        },
        {
          "name": "stderr",
          "output_type": "stream",
          "text": [
            "Epoch 63/150: 100%|██████████| 155/155 [00:01<00:00, 83.68it/s]\n"
          ]
        },
        {
          "name": "stdout",
          "output_type": "stream",
          "text": [
            "Epoch 63/150, Training Loss: 0.0638, Learning Rate: 6.597069817787189e-05\n"
          ]
        },
        {
          "name": "stderr",
          "output_type": "stream",
          "text": [
            "Epoch 64/150: 100%|██████████| 155/155 [00:01<00:00, 84.53it/s]\n"
          ]
        },
        {
          "name": "stdout",
          "output_type": "stream",
          "text": [
            "Epoch 64/150, Training Loss: 0.0637, Learning Rate: 6.267216326897829e-05\n"
          ]
        },
        {
          "name": "stderr",
          "output_type": "stream",
          "text": [
            "Epoch 65/150: 100%|██████████| 155/155 [00:01<00:00, 83.50it/s]\n"
          ]
        },
        {
          "name": "stdout",
          "output_type": "stream",
          "text": [
            "Epoch 65/150, Training Loss: 0.0592, Learning Rate: 5.953855510552937e-05\n"
          ]
        },
        {
          "name": "stderr",
          "output_type": "stream",
          "text": [
            "Epoch 66/150: 100%|██████████| 155/155 [00:01<00:00, 79.61it/s]\n"
          ]
        },
        {
          "name": "stdout",
          "output_type": "stream",
          "text": [
            "Epoch 66/150, Training Loss: 0.0586, Learning Rate: 5.65616273502529e-05\n"
          ]
        },
        {
          "name": "stderr",
          "output_type": "stream",
          "text": [
            "Epoch 67/150: 100%|██████████| 155/155 [00:02<00:00, 65.57it/s]\n"
          ]
        },
        {
          "name": "stdout",
          "output_type": "stream",
          "text": [
            "Epoch 67/150, Training Loss: 0.0633, Learning Rate: 5.373354598274025e-05\n"
          ]
        },
        {
          "name": "stderr",
          "output_type": "stream",
          "text": [
            "Epoch 68/150: 100%|██████████| 155/155 [00:01<00:00, 83.39it/s]\n"
          ]
        },
        {
          "name": "stdout",
          "output_type": "stream",
          "text": [
            "Epoch 68/150, Training Loss: 0.0593, Learning Rate: 5.104686868360323e-05\n"
          ]
        },
        {
          "name": "stderr",
          "output_type": "stream",
          "text": [
            "Epoch 69/150: 100%|██████████| 155/155 [00:01<00:00, 84.62it/s]\n"
          ]
        },
        {
          "name": "stdout",
          "output_type": "stream",
          "text": [
            "Epoch 69/150, Training Loss: 0.0604, Learning Rate: 4.849452524942307e-05\n"
          ]
        },
        {
          "name": "stderr",
          "output_type": "stream",
          "text": [
            "Epoch 70/150: 100%|██████████| 155/155 [00:01<00:00, 84.81it/s]\n"
          ]
        },
        {
          "name": "stdout",
          "output_type": "stream",
          "text": [
            "Epoch 70/150, Training Loss: 0.0592, Learning Rate: 4.606979898695191e-05\n"
          ]
        },
        {
          "name": "stderr",
          "output_type": "stream",
          "text": [
            "Epoch 71/150: 100%|██████████| 155/155 [00:01<00:00, 83.51it/s]\n"
          ]
        },
        {
          "name": "stdout",
          "output_type": "stream",
          "text": [
            "Epoch 71/150, Training Loss: 0.0584, Learning Rate: 4.376630903760431e-05\n"
          ]
        },
        {
          "name": "stderr",
          "output_type": "stream",
          "text": [
            "Epoch 72/150: 100%|██████████| 155/155 [00:01<00:00, 83.32it/s]\n"
          ]
        },
        {
          "name": "stdout",
          "output_type": "stream",
          "text": [
            "Epoch 72/150, Training Loss: 0.0594, Learning Rate: 4.157799358572409e-05\n"
          ]
        },
        {
          "name": "stderr",
          "output_type": "stream",
          "text": [
            "Epoch 73/150: 100%|██████████| 155/155 [00:02<00:00, 63.56it/s]\n"
          ]
        },
        {
          "name": "stdout",
          "output_type": "stream",
          "text": [
            "Epoch 73/150, Training Loss: 0.0593, Learning Rate: 3.9499093906437885e-05\n"
          ]
        },
        {
          "name": "stderr",
          "output_type": "stream",
          "text": [
            "Epoch 74/150: 100%|██████████| 155/155 [00:01<00:00, 80.90it/s]\n"
          ]
        },
        {
          "name": "stdout",
          "output_type": "stream",
          "text": [
            "Epoch 74/150, Training Loss: 0.0551, Learning Rate: 3.752413921111599e-05\n"
          ]
        },
        {
          "name": "stderr",
          "output_type": "stream",
          "text": [
            "Epoch 75/150: 100%|██████████| 155/155 [00:01<00:00, 83.99it/s]\n"
          ]
        },
        {
          "name": "stdout",
          "output_type": "stream",
          "text": [
            "Epoch 75/150, Training Loss: 0.0582, Learning Rate: 3.564793225056019e-05\n"
          ]
        },
        {
          "name": "stderr",
          "output_type": "stream",
          "text": [
            "Epoch 76/150: 100%|██████████| 155/155 [00:01<00:00, 82.88it/s]\n"
          ]
        },
        {
          "name": "stdout",
          "output_type": "stream",
          "text": [
            "Epoch 76/150, Training Loss: 0.0571, Learning Rate: 3.3865535638032174e-05\n"
          ]
        },
        {
          "name": "stderr",
          "output_type": "stream",
          "text": [
            "Epoch 77/150: 100%|██████████| 155/155 [00:01<00:00, 83.48it/s]\n"
          ]
        },
        {
          "name": "stdout",
          "output_type": "stream",
          "text": [
            "Epoch 77/150, Training Loss: 0.0589, Learning Rate: 3.2172258856130564e-05\n"
          ]
        },
        {
          "name": "stderr",
          "output_type": "stream",
          "text": [
            "Epoch 78/150: 100%|██████████| 155/155 [00:01<00:00, 83.47it/s]\n"
          ]
        },
        {
          "name": "stdout",
          "output_type": "stream",
          "text": [
            "Epoch 78/150, Training Loss: 0.0565, Learning Rate: 3.056364591332403e-05\n"
          ]
        },
        {
          "name": "stderr",
          "output_type": "stream",
          "text": [
            "Epoch 79/150: 100%|██████████| 155/155 [00:02<00:00, 71.13it/s]\n"
          ]
        },
        {
          "name": "stdout",
          "output_type": "stream",
          "text": [
            "Epoch 79/150, Training Loss: 0.0596, Learning Rate: 2.903546361765783e-05\n"
          ]
        },
        {
          "name": "stderr",
          "output_type": "stream",
          "text": [
            "Epoch 80/150: 100%|██████████| 155/155 [00:02<00:00, 71.93it/s]\n"
          ]
        },
        {
          "name": "stdout",
          "output_type": "stream",
          "text": [
            "Epoch 80/150, Training Loss: 0.0577, Learning Rate: 2.758369043677494e-05\n"
          ]
        },
        {
          "name": "stderr",
          "output_type": "stream",
          "text": [
            "Epoch 81/150: 100%|██████████| 155/155 [00:01<00:00, 82.50it/s]\n"
          ]
        },
        {
          "name": "stdout",
          "output_type": "stream",
          "text": [
            "Epoch 81/150, Training Loss: 0.0592, Learning Rate: 2.620450591493619e-05\n"
          ]
        },
        {
          "name": "stderr",
          "output_type": "stream",
          "text": [
            "Epoch 82/150: 100%|██████████| 155/155 [00:01<00:00, 81.55it/s]\n"
          ]
        },
        {
          "name": "stdout",
          "output_type": "stream",
          "text": [
            "Epoch 82/150, Training Loss: 0.0591, Learning Rate: 2.489428061918938e-05\n"
          ]
        },
        {
          "name": "stderr",
          "output_type": "stream",
          "text": [
            "Epoch 83/150: 100%|██████████| 155/155 [00:01<00:00, 83.67it/s]\n"
          ]
        },
        {
          "name": "stdout",
          "output_type": "stream",
          "text": [
            "Epoch 83/150, Training Loss: 0.0568, Learning Rate: 2.364956658822991e-05\n"
          ]
        },
        {
          "name": "stderr",
          "output_type": "stream",
          "text": [
            "Epoch 84/150: 100%|██████████| 155/155 [00:01<00:00, 84.30it/s]\n"
          ]
        },
        {
          "name": "stdout",
          "output_type": "stream",
          "text": [
            "Epoch 84/150, Training Loss: 0.0546, Learning Rate: 2.2467088258818413e-05\n"
          ]
        },
        {
          "name": "stderr",
          "output_type": "stream",
          "text": [
            "Epoch 85/150: 100%|██████████| 155/155 [00:02<00:00, 74.85it/s]\n"
          ]
        },
        {
          "name": "stdout",
          "output_type": "stream",
          "text": [
            "Epoch 85/150, Training Loss: 0.0602, Learning Rate: 2.134373384587749e-05\n"
          ]
        },
        {
          "name": "stderr",
          "output_type": "stream",
          "text": [
            "Epoch 86/150: 100%|██████████| 155/155 [00:02<00:00, 65.59it/s]\n"
          ]
        },
        {
          "name": "stdout",
          "output_type": "stream",
          "text": [
            "Epoch 86/150, Training Loss: 0.0582, Learning Rate: 2.0276547153583614e-05\n"
          ]
        },
        {
          "name": "stderr",
          "output_type": "stream",
          "text": [
            "Epoch 87/150: 100%|██████████| 155/155 [00:01<00:00, 82.37it/s]\n"
          ]
        },
        {
          "name": "stdout",
          "output_type": "stream",
          "text": [
            "Epoch 87/150, Training Loss: 0.0541, Learning Rate: 1.9262719795904432e-05\n"
          ]
        },
        {
          "name": "stderr",
          "output_type": "stream",
          "text": [
            "Epoch 88/150: 100%|██████████| 155/155 [00:01<00:00, 81.45it/s]\n"
          ]
        },
        {
          "name": "stdout",
          "output_type": "stream",
          "text": [
            "Epoch 88/150, Training Loss: 0.0564, Learning Rate: 1.829958380610921e-05\n"
          ]
        },
        {
          "name": "stderr",
          "output_type": "stream",
          "text": [
            "Epoch 89/150: 100%|██████████| 155/155 [00:01<00:00, 82.76it/s]\n"
          ]
        },
        {
          "name": "stdout",
          "output_type": "stream",
          "text": [
            "Epoch 89/150, Training Loss: 0.0570, Learning Rate: 1.738460461580375e-05\n"
          ]
        },
        {
          "name": "stderr",
          "output_type": "stream",
          "text": [
            "Epoch 90/150: 100%|██████████| 155/155 [00:01<00:00, 83.96it/s]\n"
          ]
        },
        {
          "name": "stdout",
          "output_type": "stream",
          "text": [
            "Epoch 90/150, Training Loss: 0.0592, Learning Rate: 1.6515374385013564e-05\n"
          ]
        },
        {
          "name": "stderr",
          "output_type": "stream",
          "text": [
            "Epoch 91/150: 100%|██████████| 155/155 [00:04<00:00, 35.03it/s]\n"
          ]
        },
        {
          "name": "stdout",
          "output_type": "stream",
          "text": [
            "Epoch 91/150, Training Loss: 0.0555, Learning Rate: 1.5689605665762886e-05\n"
          ]
        },
        {
          "name": "stderr",
          "output_type": "stream",
          "text": [
            "Epoch 92/150: 100%|██████████| 155/155 [00:01<00:00, 81.81it/s]\n"
          ]
        },
        {
          "name": "stdout",
          "output_type": "stream",
          "text": [
            "Epoch 92/150, Training Loss: 0.0571, Learning Rate: 1.490512538247474e-05\n"
          ]
        },
        {
          "name": "stderr",
          "output_type": "stream",
          "text": [
            "Epoch 93/150: 100%|██████████| 155/155 [00:01<00:00, 82.62it/s]\n"
          ]
        },
        {
          "name": "stdout",
          "output_type": "stream",
          "text": [
            "Epoch 93/150, Training Loss: 0.0564, Learning Rate: 1.4159869113351003e-05\n"
          ]
        },
        {
          "name": "stderr",
          "output_type": "stream",
          "text": [
            "Epoch 94/150: 100%|██████████| 155/155 [00:01<00:00, 82.55it/s]\n"
          ]
        },
        {
          "name": "stdout",
          "output_type": "stream",
          "text": [
            "Epoch 94/150, Training Loss: 0.0550, Learning Rate: 1.3451875657683452e-05\n"
          ]
        },
        {
          "name": "stderr",
          "output_type": "stream",
          "text": [
            "Epoch 95/150: 100%|██████████| 155/155 [00:01<00:00, 82.91it/s]\n"
          ]
        },
        {
          "name": "stdout",
          "output_type": "stream",
          "text": [
            "Epoch 95/150, Training Loss: 0.0549, Learning Rate: 1.277928187479928e-05\n"
          ]
        },
        {
          "name": "stderr",
          "output_type": "stream",
          "text": [
            "Epoch 96/150: 100%|██████████| 155/155 [00:01<00:00, 82.55it/s]\n"
          ]
        },
        {
          "name": "stdout",
          "output_type": "stream",
          "text": [
            "Epoch 96/150, Training Loss: 0.0568, Learning Rate: 1.2140317781059316e-05\n"
          ]
        },
        {
          "name": "stderr",
          "output_type": "stream",
          "text": [
            "Epoch 97/150: 100%|██████████| 155/155 [00:02<00:00, 67.49it/s]\n"
          ]
        },
        {
          "name": "stdout",
          "output_type": "stream",
          "text": [
            "Epoch 97/150, Training Loss: 0.0554, Learning Rate: 1.153330189200635e-05\n"
          ]
        },
        {
          "name": "stderr",
          "output_type": "stream",
          "text": [
            "Epoch 98/150: 100%|██████████| 155/155 [00:02<00:00, 76.29it/s]\n"
          ]
        },
        {
          "name": "stdout",
          "output_type": "stream",
          "text": [
            "Epoch 98/150, Training Loss: 0.0548, Learning Rate: 1.0956636797406032e-05\n"
          ]
        },
        {
          "name": "stderr",
          "output_type": "stream",
          "text": [
            "Epoch 99/150: 100%|██████████| 155/155 [00:01<00:00, 82.34it/s]\n"
          ]
        },
        {
          "name": "stdout",
          "output_type": "stream",
          "text": [
            "Epoch 99/150, Training Loss: 0.0566, Learning Rate: 1.0408804957535729e-05\n"
          ]
        },
        {
          "name": "stderr",
          "output_type": "stream",
          "text": [
            "Epoch 100/150: 100%|██████████| 155/155 [00:01<00:00, 82.76it/s]\n"
          ]
        },
        {
          "name": "stdout",
          "output_type": "stream",
          "text": [
            "Epoch 100/150, Training Loss: 0.0561, Learning Rate: 9.888364709658941e-06\n"
          ]
        },
        {
          "name": "stderr",
          "output_type": "stream",
          "text": [
            "Epoch 101/150: 100%|██████████| 155/155 [00:01<00:00, 81.64it/s]\n"
          ]
        },
        {
          "name": "stdout",
          "output_type": "stream",
          "text": [
            "Epoch 101/150, Training Loss: 0.0553, Learning Rate: 9.393946474175994e-06\n"
          ]
        },
        {
          "name": "stderr",
          "output_type": "stream",
          "text": [
            "Epoch 102/150: 100%|██████████| 155/155 [00:01<00:00, 81.52it/s]\n"
          ]
        },
        {
          "name": "stdout",
          "output_type": "stream",
          "text": [
            "Epoch 102/150, Training Loss: 0.0577, Learning Rate: 8.924249150467194e-06\n"
          ]
        },
        {
          "name": "stderr",
          "output_type": "stream",
          "text": [
            "Epoch 103/150: 100%|██████████| 155/155 [00:02<00:00, 66.16it/s]\n"
          ]
        },
        {
          "name": "stdout",
          "output_type": "stream",
          "text": [
            "Epoch 103/150, Training Loss: 0.0544, Learning Rate: 8.478036692943835e-06\n"
          ]
        },
        {
          "name": "stderr",
          "output_type": "stream",
          "text": [
            "Epoch 104/150: 100%|██████████| 155/155 [00:02<00:00, 72.43it/s]\n"
          ]
        },
        {
          "name": "stdout",
          "output_type": "stream",
          "text": [
            "Epoch 104/150, Training Loss: 0.0526, Learning Rate: 8.054134858296643e-06\n"
          ]
        },
        {
          "name": "stderr",
          "output_type": "stream",
          "text": [
            "Epoch 105/150: 100%|██████████| 155/155 [00:01<00:00, 82.47it/s]\n"
          ]
        },
        {
          "name": "stdout",
          "output_type": "stream",
          "text": [
            "Epoch 105/150, Training Loss: 0.0553, Learning Rate: 7.65142811538181e-06\n"
          ]
        },
        {
          "name": "stderr",
          "output_type": "stream",
          "text": [
            "Epoch 106/150: 100%|██████████| 155/155 [00:01<00:00, 82.36it/s]\n"
          ]
        },
        {
          "name": "stdout",
          "output_type": "stream",
          "text": [
            "Epoch 106/150, Training Loss: 0.0589, Learning Rate: 7.26885670961272e-06\n"
          ]
        },
        {
          "name": "stderr",
          "output_type": "stream",
          "text": [
            "Epoch 107/150: 100%|██████████| 155/155 [00:01<00:00, 83.05it/s]\n"
          ]
        },
        {
          "name": "stdout",
          "output_type": "stream",
          "text": [
            "Epoch 107/150, Training Loss: 0.0583, Learning Rate: 6.905413874132084e-06\n"
          ]
        },
        {
          "name": "stderr",
          "output_type": "stream",
          "text": [
            "Epoch 108/150: 100%|██████████| 155/155 [00:01<00:00, 81.78it/s]\n"
          ]
        },
        {
          "name": "stdout",
          "output_type": "stream",
          "text": [
            "Epoch 108/150, Training Loss: 0.0552, Learning Rate: 6.5601431804254795e-06\n"
          ]
        },
        {
          "name": "stderr",
          "output_type": "stream",
          "text": [
            "Epoch 109/150: 100%|██████████| 155/155 [00:02<00:00, 73.12it/s]\n"
          ]
        },
        {
          "name": "stdout",
          "output_type": "stream",
          "text": [
            "Epoch 109/150, Training Loss: 0.0542, Learning Rate: 6.232136021404205e-06\n"
          ]
        },
        {
          "name": "stderr",
          "output_type": "stream",
          "text": [
            "Epoch 110/150: 100%|██████████| 155/155 [00:02<00:00, 68.16it/s]\n"
          ]
        },
        {
          "name": "stdout",
          "output_type": "stream",
          "text": [
            "Epoch 110/150, Training Loss: 0.0536, Learning Rate: 5.920529220333994e-06\n"
          ]
        },
        {
          "name": "stderr",
          "output_type": "stream",
          "text": [
            "Epoch 111/150: 100%|██████████| 155/155 [00:01<00:00, 83.47it/s]\n"
          ]
        },
        {
          "name": "stdout",
          "output_type": "stream",
          "text": [
            "Epoch 111/150, Training Loss: 0.0561, Learning Rate: 5.624502759317295e-06\n"
          ]
        },
        {
          "name": "stderr",
          "output_type": "stream",
          "text": [
            "Epoch 112/150: 100%|██████████| 155/155 [00:01<00:00, 83.96it/s]\n"
          ]
        },
        {
          "name": "stdout",
          "output_type": "stream",
          "text": [
            "Epoch 112/150, Training Loss: 0.0547, Learning Rate: 5.34327762135143e-06\n"
          ]
        },
        {
          "name": "stderr",
          "output_type": "stream",
          "text": [
            "Epoch 113/150: 100%|██████████| 155/155 [00:01<00:00, 83.46it/s]\n"
          ]
        },
        {
          "name": "stdout",
          "output_type": "stream",
          "text": [
            "Epoch 113/150, Training Loss: 0.0558, Learning Rate: 5.076113740283858e-06\n"
          ]
        },
        {
          "name": "stderr",
          "output_type": "stream",
          "text": [
            "Epoch 114/150: 100%|██████████| 155/155 [00:01<00:00, 82.60it/s]\n"
          ]
        },
        {
          "name": "stdout",
          "output_type": "stream",
          "text": [
            "Epoch 114/150, Training Loss: 0.0557, Learning Rate: 4.8223080532696655e-06\n"
          ]
        },
        {
          "name": "stderr",
          "output_type": "stream",
          "text": [
            "Epoch 115/150: 100%|██████████| 155/155 [00:01<00:00, 78.79it/s]\n"
          ]
        },
        {
          "name": "stdout",
          "output_type": "stream",
          "text": [
            "Epoch 115/150, Training Loss: 0.0536, Learning Rate: 4.581192650606182e-06\n"
          ]
        },
        {
          "name": "stderr",
          "output_type": "stream",
          "text": [
            "Epoch 116/150: 100%|██████████| 155/155 [00:02<00:00, 65.06it/s]\n"
          ]
        },
        {
          "name": "stdout",
          "output_type": "stream",
          "text": [
            "Epoch 116/150, Training Loss: 0.0555, Learning Rate: 4.3521330180758725e-06\n"
          ]
        },
        {
          "name": "stderr",
          "output_type": "stream",
          "text": [
            "Epoch 117/150: 100%|██████████| 155/155 [00:01<00:00, 83.25it/s]\n"
          ]
        },
        {
          "name": "stdout",
          "output_type": "stream",
          "text": [
            "Epoch 117/150, Training Loss: 0.0544, Learning Rate: 4.1345263671720786e-06\n"
          ]
        },
        {
          "name": "stderr",
          "output_type": "stream",
          "text": [
            "Epoch 118/150: 100%|██████████| 155/155 [00:01<00:00, 82.29it/s]\n"
          ]
        },
        {
          "name": "stdout",
          "output_type": "stream",
          "text": [
            "Epoch 118/150, Training Loss: 0.0533, Learning Rate: 3.927800048813474e-06\n"
          ]
        },
        {
          "name": "stderr",
          "output_type": "stream",
          "text": [
            "Epoch 119/150: 100%|██████████| 155/155 [00:01<00:00, 82.74it/s]\n"
          ]
        },
        {
          "name": "stdout",
          "output_type": "stream",
          "text": [
            "Epoch 119/150, Training Loss: 0.0538, Learning Rate: 3.7314100463728006e-06\n"
          ]
        },
        {
          "name": "stderr",
          "output_type": "stream",
          "text": [
            "Epoch 120/150: 100%|██████████| 155/155 [00:01<00:00, 83.05it/s]\n"
          ]
        },
        {
          "name": "stdout",
          "output_type": "stream",
          "text": [
            "Epoch 120/150, Training Loss: 0.0526, Learning Rate: 3.5448395440541604e-06\n"
          ]
        },
        {
          "name": "stderr",
          "output_type": "stream",
          "text": [
            "Epoch 121/150: 100%|██████████| 155/155 [00:01<00:00, 82.46it/s]\n"
          ]
        },
        {
          "name": "stdout",
          "output_type": "stream",
          "text": [
            "Epoch 121/150, Training Loss: 0.0523, Learning Rate: 3.3675975668514524e-06\n"
          ]
        },
        {
          "name": "stderr",
          "output_type": "stream",
          "text": [
            "Epoch 122/150: 100%|██████████| 155/155 [00:02<00:00, 61.27it/s]\n"
          ]
        },
        {
          "name": "stdout",
          "output_type": "stream",
          "text": [
            "Epoch 122/150, Training Loss: 0.0553, Learning Rate: 3.1992176885088796e-06\n"
          ]
        },
        {
          "name": "stderr",
          "output_type": "stream",
          "text": [
            "Epoch 123/150: 100%|██████████| 155/155 [00:01<00:00, 83.32it/s]\n"
          ]
        },
        {
          "name": "stdout",
          "output_type": "stream",
          "text": [
            "Epoch 123/150, Training Loss: 0.0571, Learning Rate: 3.0392568040834356e-06\n"
          ]
        },
        {
          "name": "stderr",
          "output_type": "stream",
          "text": [
            "Epoch 124/150: 100%|██████████| 155/155 [00:01<00:00, 80.63it/s]\n"
          ]
        },
        {
          "name": "stdout",
          "output_type": "stream",
          "text": [
            "Epoch 124/150, Training Loss: 0.0555, Learning Rate: 2.8872939638792635e-06\n"
          ]
        },
        {
          "name": "stderr",
          "output_type": "stream",
          "text": [
            "Epoch 125/150: 100%|██████████| 155/155 [00:01<00:00, 83.20it/s]\n"
          ]
        },
        {
          "name": "stdout",
          "output_type": "stream",
          "text": [
            "Epoch 125/150, Training Loss: 0.0559, Learning Rate: 2.7429292656853003e-06\n"
          ]
        },
        {
          "name": "stderr",
          "output_type": "stream",
          "text": [
            "Epoch 126/150: 100%|██████████| 155/155 [00:01<00:00, 82.85it/s]\n"
          ]
        },
        {
          "name": "stdout",
          "output_type": "stream",
          "text": [
            "Epoch 126/150, Training Loss: 0.0528, Learning Rate: 2.605782802401035e-06\n"
          ]
        },
        {
          "name": "stderr",
          "output_type": "stream",
          "text": [
            "Epoch 127/150: 100%|██████████| 155/155 [00:01<00:00, 82.46it/s]\n"
          ]
        },
        {
          "name": "stdout",
          "output_type": "stream",
          "text": [
            "Epoch 127/150, Training Loss: 0.0551, Learning Rate: 2.475493662280983e-06\n"
          ]
        },
        {
          "name": "stderr",
          "output_type": "stream",
          "text": [
            "Epoch 128/150: 100%|██████████| 155/155 [00:02<00:00, 64.93it/s]\n"
          ]
        },
        {
          "name": "stdout",
          "output_type": "stream",
          "text": [
            "Epoch 128/150, Training Loss: 0.0540, Learning Rate: 2.351718979166934e-06\n"
          ]
        },
        {
          "name": "stderr",
          "output_type": "stream",
          "text": [
            "Epoch 129/150: 100%|██████████| 155/155 [00:01<00:00, 78.58it/s]\n"
          ]
        },
        {
          "name": "stdout",
          "output_type": "stream",
          "text": [
            "Epoch 129/150, Training Loss: 0.0556, Learning Rate: 2.234133030208587e-06\n"
          ]
        },
        {
          "name": "stderr",
          "output_type": "stream",
          "text": [
            "Epoch 130/150: 100%|██████████| 155/155 [00:01<00:00, 83.38it/s]\n"
          ]
        },
        {
          "name": "stdout",
          "output_type": "stream",
          "text": [
            "Epoch 130/150, Training Loss: 0.0546, Learning Rate: 2.1224263786981576e-06\n"
          ]
        },
        {
          "name": "stderr",
          "output_type": "stream",
          "text": [
            "Epoch 131/150: 100%|██████████| 155/155 [00:01<00:00, 83.43it/s]\n"
          ]
        },
        {
          "name": "stdout",
          "output_type": "stream",
          "text": [
            "Epoch 131/150, Training Loss: 0.0545, Learning Rate: 2.0163050597632494e-06\n"
          ]
        },
        {
          "name": "stderr",
          "output_type": "stream",
          "text": [
            "Epoch 132/150: 100%|██████████| 155/155 [00:01<00:00, 83.59it/s]\n"
          ]
        },
        {
          "name": "stdout",
          "output_type": "stream",
          "text": [
            "Epoch 132/150, Training Loss: 0.0554, Learning Rate: 1.915489806775087e-06\n"
          ]
        },
        {
          "name": "stderr",
          "output_type": "stream",
          "text": [
            "Epoch 133/150: 100%|██████████| 155/155 [00:01<00:00, 82.07it/s]\n"
          ]
        },
        {
          "name": "stdout",
          "output_type": "stream",
          "text": [
            "Epoch 133/150, Training Loss: 0.0551, Learning Rate: 1.8197153164363325e-06\n"
          ]
        },
        {
          "name": "stderr",
          "output_type": "stream",
          "text": [
            "Epoch 134/150: 100%|██████████| 155/155 [00:02<00:00, 70.13it/s]\n"
          ]
        },
        {
          "name": "stdout",
          "output_type": "stream",
          "text": [
            "Epoch 134/150, Training Loss: 0.0531, Learning Rate: 1.7287295506145157e-06\n"
          ]
        },
        {
          "name": "stderr",
          "output_type": "stream",
          "text": [
            "Epoch 135/150: 100%|██████████| 155/155 [00:02<00:00, 72.58it/s]\n"
          ]
        },
        {
          "name": "stdout",
          "output_type": "stream",
          "text": [
            "Epoch 135/150, Training Loss: 0.0546, Learning Rate: 1.6422930730837899e-06\n"
          ]
        },
        {
          "name": "stderr",
          "output_type": "stream",
          "text": [
            "Epoch 136/150: 100%|██████████| 155/155 [00:01<00:00, 82.95it/s]\n"
          ]
        },
        {
          "name": "stdout",
          "output_type": "stream",
          "text": [
            "Epoch 136/150, Training Loss: 0.0575, Learning Rate: 1.5601784194296004e-06\n"
          ]
        },
        {
          "name": "stderr",
          "output_type": "stream",
          "text": [
            "Epoch 137/150: 100%|██████████| 155/155 [00:01<00:00, 82.91it/s]\n"
          ]
        },
        {
          "name": "stdout",
          "output_type": "stream",
          "text": [
            "Epoch 137/150, Training Loss: 0.0547, Learning Rate: 1.4821694984581202e-06\n"
          ]
        },
        {
          "name": "stderr",
          "output_type": "stream",
          "text": [
            "Epoch 138/150: 100%|██████████| 155/155 [00:01<00:00, 82.65it/s]\n"
          ]
        },
        {
          "name": "stdout",
          "output_type": "stream",
          "text": [
            "Epoch 138/150, Training Loss: 0.0529, Learning Rate: 1.4080610235352142e-06\n"
          ]
        },
        {
          "name": "stderr",
          "output_type": "stream",
          "text": [
            "Epoch 139/150: 100%|██████████| 155/155 [00:01<00:00, 84.11it/s]\n"
          ]
        },
        {
          "name": "stdout",
          "output_type": "stream",
          "text": [
            "Epoch 139/150, Training Loss: 0.0565, Learning Rate: 1.3376579723584535e-06\n"
          ]
        },
        {
          "name": "stderr",
          "output_type": "stream",
          "text": [
            "Epoch 140/150: 100%|██████████| 155/155 [00:02<00:00, 74.55it/s]\n"
          ]
        },
        {
          "name": "stdout",
          "output_type": "stream",
          "text": [
            "Epoch 140/150, Training Loss: 0.0512, Learning Rate: 1.2707750737405307e-06\n"
          ]
        },
        {
          "name": "stderr",
          "output_type": "stream",
          "text": [
            "Epoch 141/150: 100%|██████████| 155/155 [00:02<00:00, 67.73it/s]\n"
          ]
        },
        {
          "name": "stdout",
          "output_type": "stream",
          "text": [
            "Epoch 141/150, Training Loss: 0.0548, Learning Rate: 1.2072363200535042e-06\n"
          ]
        },
        {
          "name": "stderr",
          "output_type": "stream",
          "text": [
            "Epoch 142/150: 100%|██████████| 155/155 [00:01<00:00, 84.03it/s]\n"
          ]
        },
        {
          "name": "stdout",
          "output_type": "stream",
          "text": [
            "Epoch 142/150, Training Loss: 0.0547, Learning Rate: 1.146874504050829e-06\n"
          ]
        },
        {
          "name": "stderr",
          "output_type": "stream",
          "text": [
            "Epoch 143/150: 100%|██████████| 155/155 [00:01<00:00, 83.55it/s]\n"
          ]
        },
        {
          "name": "stdout",
          "output_type": "stream",
          "text": [
            "Epoch 143/150, Training Loss: 0.0560, Learning Rate: 1.0895307788482876e-06\n"
          ]
        },
        {
          "name": "stderr",
          "output_type": "stream",
          "text": [
            "Epoch 144/150: 100%|██████████| 155/155 [00:01<00:00, 82.09it/s]\n"
          ]
        },
        {
          "name": "stdout",
          "output_type": "stream",
          "text": [
            "Epoch 144/150, Training Loss: 0.0528, Learning Rate: 1.0350542399058731e-06\n"
          ]
        },
        {
          "name": "stderr",
          "output_type": "stream",
          "text": [
            "Epoch 145/150: 100%|██████████| 155/155 [00:01<00:00, 82.56it/s]\n"
          ]
        },
        {
          "name": "stdout",
          "output_type": "stream",
          "text": [
            "Epoch 145/150, Training Loss: 0.0532, Learning Rate: 9.833015279105794e-07\n"
          ]
        },
        {
          "name": "stderr",
          "output_type": "stream",
          "text": [
            "Epoch 146/150: 100%|██████████| 155/155 [00:01<00:00, 79.76it/s]\n"
          ]
        },
        {
          "name": "stdout",
          "output_type": "stream",
          "text": [
            "Epoch 146/150, Training Loss: 0.0556, Learning Rate: 9.341364515150503e-07\n"
          ]
        },
        {
          "name": "stderr",
          "output_type": "stream",
          "text": [
            "Epoch 147/150: 100%|██████████| 155/155 [00:02<00:00, 64.68it/s]\n"
          ]
        },
        {
          "name": "stdout",
          "output_type": "stream",
          "text": [
            "Epoch 147/150, Training Loss: 0.0544, Learning Rate: 8.874296289392978e-07\n"
          ]
        },
        {
          "name": "stderr",
          "output_type": "stream",
          "text": [
            "Epoch 148/150: 100%|██████████| 155/155 [00:01<00:00, 82.20it/s]\n"
          ]
        },
        {
          "name": "stdout",
          "output_type": "stream",
          "text": [
            "Epoch 148/150, Training Loss: 0.0556, Learning Rate: 8.430581474923329e-07\n"
          ]
        },
        {
          "name": "stderr",
          "output_type": "stream",
          "text": [
            "Epoch 149/150: 100%|██████████| 155/155 [00:01<00:00, 82.80it/s]\n"
          ]
        },
        {
          "name": "stdout",
          "output_type": "stream",
          "text": [
            "Epoch 149/150, Training Loss: 0.0553, Learning Rate: 8.009052401177162e-07\n"
          ]
        },
        {
          "name": "stderr",
          "output_type": "stream",
          "text": [
            "Epoch 150/150: 100%|██████████| 155/155 [00:01<00:00, 81.21it/s]"
          ]
        },
        {
          "name": "stdout",
          "output_type": "stream",
          "text": [
            "Epoch 150/150, Training Loss: 0.0518, Learning Rate: 7.608599781118303e-07\n"
          ]
        },
        {
          "name": "stderr",
          "output_type": "stream",
          "text": [
            "\n"
          ]
        }
      ],
      "source": [
        "# Query split\n",
        "query_transformer_model = TransformerTaggerClassifier(\n",
        "    input_dim=query_context_train_val_dataset.get_vector_dim(),\n",
        "    hidden_dim=256,\n",
        "    num_heads=8,\n",
        "    num_layers=2,\n",
        "    tag_vocab_size=query_context_train_val_dataset.get_tag_vocab_size(),\n",
        "    sql_vocab_size=query_context_train_val_dataset.get_sql_vocab_size()\n",
        ")\n",
        "# Training\n",
        "query_trained_transformer_model = train_model(\n",
        "    model=query_transformer_model,\n",
        "    train_loader=query_context_train_val_loader,\n",
        "    weight_decay=0.1,\n",
        "    epochs=150,\n",
        "    amsgrad=True,\n",
        "    gamma=0.95,\n",
        "    lr=1e-3\n",
        ")"
      ]
    },
    {
      "cell_type": "code",
      "execution_count": 188,
      "metadata": {
        "colab": {
          "base_uri": "https://localhost:8080/"
        },
        "id": "j7SasZinMbNN",
        "outputId": "02fa51c6-28ec-4a70-970f-9582d2a9e0ac"
      },
      "outputs": [
        {
          "name": "stderr",
          "output_type": "stream",
          "text": [
            "Generating SQL queries: 100%|██████████| 11/11 [00:00<00:00, 11.89it/s]"
          ]
        },
        {
          "name": "stdout",
          "output_type": "stream",
          "text": [
            "\n",
            "Accuracy of Transformer model on query split test set: 0.00%\n"
          ]
        },
        {
          "name": "stderr",
          "output_type": "stream",
          "text": [
            "\n"
          ]
        }
      ],
      "source": [
        "# Evaluating on the test set to get accuracy\n",
        "query_transformer_sql_pipe = SQLPipeline(dataset=query_context_test_dataset,model=query_trained_transformer_model,embed_type=\"context\")\n",
        "query_transformer_results, query_transformer_acc = query_transformer_sql_pipe.batch_predict(dataloader=query_context_test_loader)\n",
        "print(f\"\\nAccuracy of Transformer model on query split test set: {query_lstm_acc:.2%}\")"
      ]
    },
    {
      "cell_type": "markdown",
      "metadata": {
        "id": "fn96t6o2hVod"
      },
      "source": [
        "# Experiment"
      ]
    },
    {
      "cell_type": "markdown",
      "metadata": {
        "id": "93NnapjePUkV"
      },
      "source": [
        "For our experiment, we wanted look how each of our 4 tagging and classification models perform when noise is introduced in the input text in the form of typos or rearranging words in the input sentence."
      ]
    },
    {
      "cell_type": "markdown",
      "metadata": {
        "id": "J93yDU7ijF6f"
      },
      "source": [
        "**Methodology**\n",
        "* To do this, we took all 4 models and trained them using the static embeddings we used for our Linear models. Linear models did not need re-training as they were already trained on the static embeddings. The reason to use to static embeddings was to keep training data consistent between all 4 models and also so that models do not have access to contextual information in the input.\n",
        "* We then evaluated the all 4 models on the question split test set to record queries which each model tagged correctly and queries which each model classified correctly\n",
        "* These queries were then incrementally altered slightly by introducing typos and changing order of the words\n",
        "* All models were evaluated again on these modified queries and the results were compared against the unmodified version of these queries"
      ]
    },
    {
      "cell_type": "code",
      "execution_count": 162,
      "metadata": {
        "colab": {
          "base_uri": "https://localhost:8080/"
        },
        "id": "LFz7cGXaz-K8",
        "outputId": "c7c80c48-b1d8-4023-f3c0-63ef03194c05"
      },
      "outputs": [
        {
          "name": "stderr",
          "output_type": "stream",
          "text": [
            "Generating SQL queries: 100%|██████████| 14/14 [00:01<00:00, 13.87it/s]"
          ]
        },
        {
          "name": "stdout",
          "output_type": "stream",
          "text": [
            "\n",
            "Accuracy of Linear model on question split test set: 11.19%\n"
          ]
        },
        {
          "name": "stderr",
          "output_type": "stream",
          "text": [
            "\n"
          ]
        }
      ],
      "source": [
        "# Evaluating Linear Models on the question split test set to get results\n",
        "question_static_linear_sql_pipe = SQLPipeline(dataset=question_static_test_dataset,model=list(question_trained_linear_models),embed_type=\"static\")\n",
        "question_static_linear_results, question_static_linear_acc = question_static_linear_sql_pipe.batch_predict(dataloader=question_static_test_loader)\n",
        "\n",
        "print(f\"\\nAccuracy of Linear model on question split test set: {question_static_linear_acc:.2%}\")"
      ]
    },
    {
      "cell_type": "code",
      "execution_count": 109,
      "metadata": {
        "colab": {
          "base_uri": "https://localhost:8080/"
        },
        "collapsed": true,
        "id": "6WJAjJ0ohW_I",
        "outputId": "ddfa3954-6fb6-4519-f166-69b2d50813ad"
      },
      "outputs": [
        {
          "name": "stderr",
          "output_type": "stream",
          "text": [
            "Epoch 1/50: 100%|██████████| 152/152 [00:03<00:00, 39.66it/s]\n"
          ]
        },
        {
          "name": "stdout",
          "output_type": "stream",
          "text": [
            "Epoch 1/50, Training Loss: 5.4730, Learning Rate: 0.001\n"
          ]
        },
        {
          "name": "stderr",
          "output_type": "stream",
          "text": [
            "Epoch 2/50: 100%|██████████| 152/152 [00:04<00:00, 34.57it/s]\n"
          ]
        },
        {
          "name": "stdout",
          "output_type": "stream",
          "text": [
            "Epoch 2/50, Training Loss: 4.4822, Learning Rate: 0.001\n"
          ]
        },
        {
          "name": "stderr",
          "output_type": "stream",
          "text": [
            "Epoch 3/50: 100%|██████████| 152/152 [00:04<00:00, 32.82it/s]\n"
          ]
        },
        {
          "name": "stdout",
          "output_type": "stream",
          "text": [
            "Epoch 3/50, Training Loss: 3.8196, Learning Rate: 0.001\n"
          ]
        },
        {
          "name": "stderr",
          "output_type": "stream",
          "text": [
            "Epoch 4/50: 100%|██████████| 152/152 [00:03<00:00, 40.49it/s]\n"
          ]
        },
        {
          "name": "stdout",
          "output_type": "stream",
          "text": [
            "Epoch 4/50, Training Loss: 3.4348, Learning Rate: 0.001\n"
          ]
        },
        {
          "name": "stderr",
          "output_type": "stream",
          "text": [
            "Epoch 5/50: 100%|██████████| 152/152 [00:04<00:00, 32.28it/s]\n"
          ]
        },
        {
          "name": "stdout",
          "output_type": "stream",
          "text": [
            "Epoch 5/50, Training Loss: 2.9856, Learning Rate: 0.001\n"
          ]
        },
        {
          "name": "stderr",
          "output_type": "stream",
          "text": [
            "Epoch 6/50: 100%|██████████| 152/152 [00:03<00:00, 40.60it/s]\n"
          ]
        },
        {
          "name": "stdout",
          "output_type": "stream",
          "text": [
            "Epoch 6/50, Training Loss: 2.7014, Learning Rate: 0.001\n"
          ]
        },
        {
          "name": "stderr",
          "output_type": "stream",
          "text": [
            "Epoch 7/50: 100%|██████████| 152/152 [00:03<00:00, 40.57it/s]\n"
          ]
        },
        {
          "name": "stdout",
          "output_type": "stream",
          "text": [
            "Epoch 7/50, Training Loss: 2.6351, Learning Rate: 0.001\n"
          ]
        },
        {
          "name": "stderr",
          "output_type": "stream",
          "text": [
            "Epoch 8/50: 100%|██████████| 152/152 [00:04<00:00, 32.46it/s]\n"
          ]
        },
        {
          "name": "stdout",
          "output_type": "stream",
          "text": [
            "Epoch 8/50, Training Loss: 2.3778, Learning Rate: 0.001\n"
          ]
        },
        {
          "name": "stderr",
          "output_type": "stream",
          "text": [
            "Epoch 9/50: 100%|██████████| 152/152 [00:03<00:00, 39.95it/s]\n"
          ]
        },
        {
          "name": "stdout",
          "output_type": "stream",
          "text": [
            "Epoch 9/50, Training Loss: 2.2089, Learning Rate: 0.001\n"
          ]
        },
        {
          "name": "stderr",
          "output_type": "stream",
          "text": [
            "Epoch 10/50: 100%|██████████| 152/152 [00:03<00:00, 40.04it/s]\n"
          ]
        },
        {
          "name": "stdout",
          "output_type": "stream",
          "text": [
            "Epoch 10/50, Training Loss: 1.9546, Learning Rate: 0.001\n"
          ]
        },
        {
          "name": "stderr",
          "output_type": "stream",
          "text": [
            "Epoch 11/50: 100%|██████████| 152/152 [00:04<00:00, 32.34it/s]\n"
          ]
        },
        {
          "name": "stdout",
          "output_type": "stream",
          "text": [
            "Epoch 11/50, Training Loss: 1.8202, Learning Rate: 0.001\n"
          ]
        },
        {
          "name": "stderr",
          "output_type": "stream",
          "text": [
            "Epoch 12/50: 100%|██████████| 152/152 [00:03<00:00, 40.33it/s]\n"
          ]
        },
        {
          "name": "stdout",
          "output_type": "stream",
          "text": [
            "Epoch 12/50, Training Loss: 1.6739, Learning Rate: 0.001\n"
          ]
        },
        {
          "name": "stderr",
          "output_type": "stream",
          "text": [
            "Epoch 13/50: 100%|██████████| 152/152 [00:03<00:00, 40.84it/s]\n"
          ]
        },
        {
          "name": "stdout",
          "output_type": "stream",
          "text": [
            "Epoch 13/50, Training Loss: 1.5908, Learning Rate: 0.001\n"
          ]
        },
        {
          "name": "stderr",
          "output_type": "stream",
          "text": [
            "Epoch 14/50: 100%|██████████| 152/152 [00:04<00:00, 32.03it/s]\n"
          ]
        },
        {
          "name": "stdout",
          "output_type": "stream",
          "text": [
            "Epoch 14/50, Training Loss: 1.5115, Learning Rate: 0.001\n"
          ]
        },
        {
          "name": "stderr",
          "output_type": "stream",
          "text": [
            "Epoch 15/50: 100%|██████████| 152/152 [00:03<00:00, 40.54it/s]\n"
          ]
        },
        {
          "name": "stdout",
          "output_type": "stream",
          "text": [
            "Epoch 15/50, Training Loss: 1.3902, Learning Rate: 0.001\n"
          ]
        },
        {
          "name": "stderr",
          "output_type": "stream",
          "text": [
            "Epoch 16/50: 100%|██████████| 152/152 [00:03<00:00, 40.52it/s]\n"
          ]
        },
        {
          "name": "stdout",
          "output_type": "stream",
          "text": [
            "Epoch 16/50, Training Loss: 1.2999, Learning Rate: 0.00095\n"
          ]
        },
        {
          "name": "stderr",
          "output_type": "stream",
          "text": [
            "Epoch 17/50: 100%|██████████| 152/152 [00:04<00:00, 31.72it/s]\n"
          ]
        },
        {
          "name": "stdout",
          "output_type": "stream",
          "text": [
            "Epoch 17/50, Training Loss: 1.2301, Learning Rate: 0.0009025\n"
          ]
        },
        {
          "name": "stderr",
          "output_type": "stream",
          "text": [
            "Epoch 18/50: 100%|██████████| 152/152 [00:03<00:00, 40.40it/s]\n"
          ]
        },
        {
          "name": "stdout",
          "output_type": "stream",
          "text": [
            "Epoch 18/50, Training Loss: 1.1483, Learning Rate: 0.000857375\n"
          ]
        },
        {
          "name": "stderr",
          "output_type": "stream",
          "text": [
            "Epoch 19/50: 100%|██████████| 152/152 [00:03<00:00, 40.38it/s]\n"
          ]
        },
        {
          "name": "stdout",
          "output_type": "stream",
          "text": [
            "Epoch 19/50, Training Loss: 1.1292, Learning Rate: 0.0008145062499999999\n"
          ]
        },
        {
          "name": "stderr",
          "output_type": "stream",
          "text": [
            "Epoch 20/50: 100%|██████████| 152/152 [00:04<00:00, 30.97it/s]\n"
          ]
        },
        {
          "name": "stdout",
          "output_type": "stream",
          "text": [
            "Epoch 20/50, Training Loss: 0.9808, Learning Rate: 0.0007737809374999998\n"
          ]
        },
        {
          "name": "stderr",
          "output_type": "stream",
          "text": [
            "Epoch 21/50: 100%|██████████| 152/152 [00:03<00:00, 40.34it/s]\n"
          ]
        },
        {
          "name": "stdout",
          "output_type": "stream",
          "text": [
            "Epoch 21/50, Training Loss: 0.9567, Learning Rate: 0.0007350918906249997\n"
          ]
        },
        {
          "name": "stderr",
          "output_type": "stream",
          "text": [
            "Epoch 22/50: 100%|██████████| 152/152 [00:03<00:00, 40.07it/s]\n"
          ]
        },
        {
          "name": "stdout",
          "output_type": "stream",
          "text": [
            "Epoch 22/50, Training Loss: 0.9629, Learning Rate: 0.0006983372960937497\n"
          ]
        },
        {
          "name": "stderr",
          "output_type": "stream",
          "text": [
            "Epoch 23/50: 100%|██████████| 152/152 [00:05<00:00, 25.69it/s]\n"
          ]
        },
        {
          "name": "stdout",
          "output_type": "stream",
          "text": [
            "Epoch 23/50, Training Loss: 0.8173, Learning Rate: 0.0006634204312890621\n"
          ]
        },
        {
          "name": "stderr",
          "output_type": "stream",
          "text": [
            "Epoch 24/50: 100%|██████████| 152/152 [00:03<00:00, 39.75it/s]\n"
          ]
        },
        {
          "name": "stdout",
          "output_type": "stream",
          "text": [
            "Epoch 24/50, Training Loss: 0.8015, Learning Rate: 0.000630249409724609\n"
          ]
        },
        {
          "name": "stderr",
          "output_type": "stream",
          "text": [
            "Epoch 25/50: 100%|██████████| 152/152 [00:03<00:00, 39.49it/s]\n"
          ]
        },
        {
          "name": "stdout",
          "output_type": "stream",
          "text": [
            "Epoch 25/50, Training Loss: 0.7297, Learning Rate: 0.0005987369392383785\n"
          ]
        },
        {
          "name": "stderr",
          "output_type": "stream",
          "text": [
            "Epoch 26/50: 100%|██████████| 152/152 [00:04<00:00, 31.45it/s]\n"
          ]
        },
        {
          "name": "stdout",
          "output_type": "stream",
          "text": [
            "Epoch 26/50, Training Loss: 0.7217, Learning Rate: 0.0005688000922764595\n"
          ]
        },
        {
          "name": "stderr",
          "output_type": "stream",
          "text": [
            "Epoch 27/50: 100%|██████████| 152/152 [00:03<00:00, 40.33it/s]\n"
          ]
        },
        {
          "name": "stdout",
          "output_type": "stream",
          "text": [
            "Epoch 27/50, Training Loss: 0.6726, Learning Rate: 0.0005403600876626365\n"
          ]
        },
        {
          "name": "stderr",
          "output_type": "stream",
          "text": [
            "Epoch 28/50: 100%|██████████| 152/152 [00:03<00:00, 40.04it/s]\n"
          ]
        },
        {
          "name": "stdout",
          "output_type": "stream",
          "text": [
            "Epoch 28/50, Training Loss: 0.6445, Learning Rate: 0.0005133420832795047\n"
          ]
        },
        {
          "name": "stderr",
          "output_type": "stream",
          "text": [
            "Epoch 29/50: 100%|██████████| 152/152 [00:04<00:00, 31.39it/s]\n"
          ]
        },
        {
          "name": "stdout",
          "output_type": "stream",
          "text": [
            "Epoch 29/50, Training Loss: 0.6445, Learning Rate: 0.00048767497911552944\n"
          ]
        },
        {
          "name": "stderr",
          "output_type": "stream",
          "text": [
            "Epoch 30/50: 100%|██████████| 152/152 [00:03<00:00, 39.19it/s]\n"
          ]
        },
        {
          "name": "stdout",
          "output_type": "stream",
          "text": [
            "Epoch 30/50, Training Loss: 0.5998, Learning Rate: 0.00046329123015975297\n"
          ]
        },
        {
          "name": "stderr",
          "output_type": "stream",
          "text": [
            "Epoch 31/50: 100%|██████████| 152/152 [00:03<00:00, 38.31it/s]\n"
          ]
        },
        {
          "name": "stdout",
          "output_type": "stream",
          "text": [
            "Epoch 31/50, Training Loss: 0.5822, Learning Rate: 0.0004401266686517653\n"
          ]
        },
        {
          "name": "stderr",
          "output_type": "stream",
          "text": [
            "Epoch 32/50: 100%|██████████| 152/152 [00:04<00:00, 30.60it/s]\n"
          ]
        },
        {
          "name": "stdout",
          "output_type": "stream",
          "text": [
            "Epoch 32/50, Training Loss: 0.5363, Learning Rate: 0.00041812033521917703\n"
          ]
        },
        {
          "name": "stderr",
          "output_type": "stream",
          "text": [
            "Epoch 33/50: 100%|██████████| 152/152 [00:03<00:00, 38.69it/s]\n"
          ]
        },
        {
          "name": "stdout",
          "output_type": "stream",
          "text": [
            "Epoch 33/50, Training Loss: 0.5242, Learning Rate: 0.00039721431845821814\n"
          ]
        },
        {
          "name": "stderr",
          "output_type": "stream",
          "text": [
            "Epoch 34/50: 100%|██████████| 152/152 [00:03<00:00, 38.59it/s]\n"
          ]
        },
        {
          "name": "stdout",
          "output_type": "stream",
          "text": [
            "Epoch 34/50, Training Loss: 0.5317, Learning Rate: 0.0003773536025353072\n"
          ]
        },
        {
          "name": "stderr",
          "output_type": "stream",
          "text": [
            "Epoch 35/50: 100%|██████████| 152/152 [00:04<00:00, 30.95it/s]\n"
          ]
        },
        {
          "name": "stdout",
          "output_type": "stream",
          "text": [
            "Epoch 35/50, Training Loss: 0.5158, Learning Rate: 0.0003584859224085418\n"
          ]
        },
        {
          "name": "stderr",
          "output_type": "stream",
          "text": [
            "Epoch 36/50: 100%|██████████| 152/152 [00:03<00:00, 38.48it/s]\n"
          ]
        },
        {
          "name": "stdout",
          "output_type": "stream",
          "text": [
            "Epoch 36/50, Training Loss: 0.4781, Learning Rate: 0.0003405616262881147\n"
          ]
        },
        {
          "name": "stderr",
          "output_type": "stream",
          "text": [
            "Epoch 37/50: 100%|██████████| 152/152 [00:03<00:00, 38.04it/s]\n"
          ]
        },
        {
          "name": "stdout",
          "output_type": "stream",
          "text": [
            "Epoch 37/50, Training Loss: 0.4867, Learning Rate: 0.00032353354497370894\n"
          ]
        },
        {
          "name": "stderr",
          "output_type": "stream",
          "text": [
            "Epoch 38/50: 100%|██████████| 152/152 [00:04<00:00, 31.65it/s]\n"
          ]
        },
        {
          "name": "stdout",
          "output_type": "stream",
          "text": [
            "Epoch 38/50, Training Loss: 0.4690, Learning Rate: 0.00030735686772502346\n"
          ]
        },
        {
          "name": "stderr",
          "output_type": "stream",
          "text": [
            "Epoch 39/50: 100%|██████████| 152/152 [00:03<00:00, 39.13it/s]\n"
          ]
        },
        {
          "name": "stdout",
          "output_type": "stream",
          "text": [
            "Epoch 39/50, Training Loss: 0.4587, Learning Rate: 0.00029198902433877225\n"
          ]
        },
        {
          "name": "stderr",
          "output_type": "stream",
          "text": [
            "Epoch 40/50: 100%|██████████| 152/152 [00:03<00:00, 38.45it/s]\n"
          ]
        },
        {
          "name": "stdout",
          "output_type": "stream",
          "text": [
            "Epoch 40/50, Training Loss: 0.4243, Learning Rate: 0.00027738957312183364\n"
          ]
        },
        {
          "name": "stderr",
          "output_type": "stream",
          "text": [
            "Epoch 41/50: 100%|██████████| 152/152 [00:04<00:00, 32.88it/s]\n"
          ]
        },
        {
          "name": "stdout",
          "output_type": "stream",
          "text": [
            "Epoch 41/50, Training Loss: 0.4230, Learning Rate: 0.0002635200944657419\n"
          ]
        },
        {
          "name": "stderr",
          "output_type": "stream",
          "text": [
            "Epoch 42/50: 100%|██████████| 152/152 [00:03<00:00, 39.26it/s]\n"
          ]
        },
        {
          "name": "stdout",
          "output_type": "stream",
          "text": [
            "Epoch 42/50, Training Loss: 0.4194, Learning Rate: 0.0002503440897424548\n"
          ]
        },
        {
          "name": "stderr",
          "output_type": "stream",
          "text": [
            "Epoch 43/50: 100%|██████████| 152/152 [00:04<00:00, 35.70it/s]\n"
          ]
        },
        {
          "name": "stdout",
          "output_type": "stream",
          "text": [
            "Epoch 43/50, Training Loss: 0.3907, Learning Rate: 0.00023782688525533205\n"
          ]
        },
        {
          "name": "stderr",
          "output_type": "stream",
          "text": [
            "Epoch 44/50: 100%|██████████| 152/152 [00:04<00:00, 33.78it/s]\n"
          ]
        },
        {
          "name": "stdout",
          "output_type": "stream",
          "text": [
            "Epoch 44/50, Training Loss: 0.3929, Learning Rate: 0.00022593554099256544\n"
          ]
        },
        {
          "name": "stderr",
          "output_type": "stream",
          "text": [
            "Epoch 45/50: 100%|██████████| 152/152 [00:03<00:00, 38.46it/s]\n"
          ]
        },
        {
          "name": "stdout",
          "output_type": "stream",
          "text": [
            "Epoch 45/50, Training Loss: 0.4105, Learning Rate: 0.00021463876394293716\n"
          ]
        },
        {
          "name": "stderr",
          "output_type": "stream",
          "text": [
            "Epoch 46/50: 100%|██████████| 152/152 [00:04<00:00, 32.37it/s]\n"
          ]
        },
        {
          "name": "stdout",
          "output_type": "stream",
          "text": [
            "Epoch 46/50, Training Loss: 0.4379, Learning Rate: 0.0002039068257457903\n"
          ]
        },
        {
          "name": "stderr",
          "output_type": "stream",
          "text": [
            "Epoch 47/50: 100%|██████████| 152/152 [00:04<00:00, 36.66it/s]\n"
          ]
        },
        {
          "name": "stdout",
          "output_type": "stream",
          "text": [
            "Epoch 47/50, Training Loss: 0.3735, Learning Rate: 0.00019371148445850077\n"
          ]
        },
        {
          "name": "stderr",
          "output_type": "stream",
          "text": [
            "Epoch 48/50: 100%|██████████| 152/152 [00:03<00:00, 38.65it/s]\n"
          ]
        },
        {
          "name": "stdout",
          "output_type": "stream",
          "text": [
            "Epoch 48/50, Training Loss: 0.3670, Learning Rate: 0.00018402591023557573\n"
          ]
        },
        {
          "name": "stderr",
          "output_type": "stream",
          "text": [
            "Epoch 49/50: 100%|██████████| 152/152 [00:04<00:00, 31.69it/s]\n"
          ]
        },
        {
          "name": "stdout",
          "output_type": "stream",
          "text": [
            "Epoch 49/50, Training Loss: 0.3589, Learning Rate: 0.00017482461472379692\n"
          ]
        },
        {
          "name": "stderr",
          "output_type": "stream",
          "text": [
            "Epoch 50/50: 100%|██████████| 152/152 [00:03<00:00, 39.69it/s]"
          ]
        },
        {
          "name": "stdout",
          "output_type": "stream",
          "text": [
            "Epoch 50/50, Training Loss: 0.3357, Learning Rate: 0.00016608338398760707\n"
          ]
        },
        {
          "name": "stderr",
          "output_type": "stream",
          "text": [
            "\n"
          ]
        }
      ],
      "source": [
        "# Training feedforward models using static embeddings from the question split training and validation set\n",
        "question_static_ff_tag_model = FFTagger(input_dim=question_static_train_val_dataset.get_vector_dim(),\n",
        "    tag_vocab_size=question_static_train_val_dataset.get_tag_vocab_size(),\n",
        "    hidden_sizes=[512,256,128],\n",
        "    dropout=0.2\n",
        "  )\n",
        "question_static_ff_classifier_model = FFClassifier(\n",
        "    input_dim=question_static_train_val_dataset.get_vector_dim(),\n",
        "    sql_vocab_size=question_static_train_val_dataset.get_sql_vocab_size(),\n",
        "    hidden_sizes=[512,256,128],\n",
        "    dropout=0.2\n",
        "    )\n",
        "question_static_trained_ff_model = train_dual_model(\n",
        "    tagger_model=question_static_ff_tag_model,\n",
        "    classifier_model=question_static_ff_classifier_model,\n",
        "    train_loader=question_static_train_val_loader,\n",
        "    epochs=50,\n",
        "    warmup_epochs=15,\n",
        "    gamma=0.95\n",
        ")"
      ]
    },
    {
      "cell_type": "code",
      "execution_count": 163,
      "metadata": {
        "colab": {
          "base_uri": "https://localhost:8080/"
        },
        "id": "HsMEHueksOp6",
        "outputId": "b3d5dfbd-73ae-4862-cc64-c23204baf4eb"
      },
      "outputs": [
        {
          "name": "stderr",
          "output_type": "stream",
          "text": [
            "Generating SQL queries: 100%|██████████| 14/14 [00:01<00:00,  9.84it/s]"
          ]
        },
        {
          "name": "stdout",
          "output_type": "stream",
          "text": [
            "\n",
            "Accuracy of Feedforward model on question split test set: 11.63%\n"
          ]
        },
        {
          "name": "stderr",
          "output_type": "stream",
          "text": [
            "\n"
          ]
        }
      ],
      "source": [
        "# Evaluating Feedforward models on the test set\n",
        "question_static_ff_sql_pipe = SQLPipeline(dataset=question_static_test_dataset,model=list(question_static_trained_ff_model),embed_type=\"static\")\n",
        "question_static_ff_results, question_static_ff_acc = question_static_ff_sql_pipe.batch_predict(dataloader=question_static_test_loader)\n",
        "# question_static_ff_sql_pipe = SQLPipeline(dataset=question_static_train_val_dataset,model=list(question_static_trained_ff_model),embed_type=\"static\")\n",
        "# question_static_ff_results, question_static_ff_acc = question_static_ff_sql_pipe.batch_predict(dataloader=question_static_train_val_loader)\n",
        "print(f\"\\nAccuracy of Feedforward model on question split test set: {question_static_ff_acc:.2%}\")"
      ]
    },
    {
      "cell_type": "code",
      "execution_count": 111,
      "metadata": {
        "colab": {
          "base_uri": "https://localhost:8080/"
        },
        "id": "QvL7FUEliCKr",
        "outputId": "9c3550ba-7017-4550-b880-1f6d946db537"
      },
      "outputs": [
        {
          "name": "stderr",
          "output_type": "stream",
          "text": [
            "Epoch 1/50: 100%|██████████| 152/152 [00:06<00:00, 25.30it/s]\n"
          ]
        },
        {
          "name": "stdout",
          "output_type": "stream",
          "text": [
            "Epoch 1/50, Training Loss: 5.8671, Learning Rate: 0.001\n"
          ]
        },
        {
          "name": "stderr",
          "output_type": "stream",
          "text": [
            "Epoch 2/50: 100%|██████████| 152/152 [00:06<00:00, 23.84it/s]\n"
          ]
        },
        {
          "name": "stdout",
          "output_type": "stream",
          "text": [
            "Epoch 2/50, Training Loss: 4.3318, Learning Rate: 0.001\n"
          ]
        },
        {
          "name": "stderr",
          "output_type": "stream",
          "text": [
            "Epoch 3/50: 100%|██████████| 152/152 [00:06<00:00, 24.81it/s]\n"
          ]
        },
        {
          "name": "stdout",
          "output_type": "stream",
          "text": [
            "Epoch 3/50, Training Loss: 3.4032, Learning Rate: 0.001\n"
          ]
        },
        {
          "name": "stderr",
          "output_type": "stream",
          "text": [
            "Epoch 4/50: 100%|██████████| 152/152 [00:06<00:00, 24.25it/s]\n"
          ]
        },
        {
          "name": "stdout",
          "output_type": "stream",
          "text": [
            "Epoch 4/50, Training Loss: 2.6017, Learning Rate: 0.001\n"
          ]
        },
        {
          "name": "stderr",
          "output_type": "stream",
          "text": [
            "Epoch 5/50: 100%|██████████| 152/152 [00:06<00:00, 24.36it/s]\n"
          ]
        },
        {
          "name": "stdout",
          "output_type": "stream",
          "text": [
            "Epoch 5/50, Training Loss: 1.9425, Learning Rate: 0.001\n"
          ]
        },
        {
          "name": "stderr",
          "output_type": "stream",
          "text": [
            "Epoch 6/50: 100%|██████████| 152/152 [00:06<00:00, 25.00it/s]\n"
          ]
        },
        {
          "name": "stdout",
          "output_type": "stream",
          "text": [
            "Epoch 6/50, Training Loss: 1.4956, Learning Rate: 0.001\n"
          ]
        },
        {
          "name": "stderr",
          "output_type": "stream",
          "text": [
            "Epoch 7/50: 100%|██████████| 152/152 [00:06<00:00, 24.36it/s]\n"
          ]
        },
        {
          "name": "stdout",
          "output_type": "stream",
          "text": [
            "Epoch 7/50, Training Loss: 1.1529, Learning Rate: 0.001\n"
          ]
        },
        {
          "name": "stderr",
          "output_type": "stream",
          "text": [
            "Epoch 8/50: 100%|██████████| 152/152 [00:06<00:00, 24.58it/s]\n"
          ]
        },
        {
          "name": "stdout",
          "output_type": "stream",
          "text": [
            "Epoch 8/50, Training Loss: 0.8898, Learning Rate: 0.001\n"
          ]
        },
        {
          "name": "stderr",
          "output_type": "stream",
          "text": [
            "Epoch 9/50: 100%|██████████| 152/152 [00:06<00:00, 23.83it/s]\n"
          ]
        },
        {
          "name": "stdout",
          "output_type": "stream",
          "text": [
            "Epoch 9/50, Training Loss: 0.6556, Learning Rate: 0.001\n"
          ]
        },
        {
          "name": "stderr",
          "output_type": "stream",
          "text": [
            "Epoch 10/50: 100%|██████████| 152/152 [00:06<00:00, 24.78it/s]\n"
          ]
        },
        {
          "name": "stdout",
          "output_type": "stream",
          "text": [
            "Epoch 10/50, Training Loss: 0.5166, Learning Rate: 0.001\n"
          ]
        },
        {
          "name": "stderr",
          "output_type": "stream",
          "text": [
            "Epoch 11/50: 100%|██████████| 152/152 [00:06<00:00, 23.12it/s]\n"
          ]
        },
        {
          "name": "stdout",
          "output_type": "stream",
          "text": [
            "Epoch 11/50, Training Loss: 0.4236, Learning Rate: 0.001\n"
          ]
        },
        {
          "name": "stderr",
          "output_type": "stream",
          "text": [
            "Epoch 12/50: 100%|██████████| 152/152 [00:05<00:00, 25.88it/s]\n"
          ]
        },
        {
          "name": "stdout",
          "output_type": "stream",
          "text": [
            "Epoch 12/50, Training Loss: 0.4384, Learning Rate: 0.001\n"
          ]
        },
        {
          "name": "stderr",
          "output_type": "stream",
          "text": [
            "Epoch 13/50: 100%|██████████| 152/152 [00:06<00:00, 22.88it/s]\n"
          ]
        },
        {
          "name": "stdout",
          "output_type": "stream",
          "text": [
            "Epoch 13/50, Training Loss: 0.2997, Learning Rate: 0.001\n"
          ]
        },
        {
          "name": "stderr",
          "output_type": "stream",
          "text": [
            "Epoch 14/50: 100%|██████████| 152/152 [00:05<00:00, 25.96it/s]\n"
          ]
        },
        {
          "name": "stdout",
          "output_type": "stream",
          "text": [
            "Epoch 14/50, Training Loss: 0.2321, Learning Rate: 0.001\n"
          ]
        },
        {
          "name": "stderr",
          "output_type": "stream",
          "text": [
            "Epoch 15/50: 100%|██████████| 152/152 [00:06<00:00, 22.89it/s]\n"
          ]
        },
        {
          "name": "stdout",
          "output_type": "stream",
          "text": [
            "Epoch 15/50, Training Loss: 0.2057, Learning Rate: 0.001\n"
          ]
        },
        {
          "name": "stderr",
          "output_type": "stream",
          "text": [
            "Epoch 16/50: 100%|██████████| 152/152 [00:05<00:00, 26.13it/s]\n"
          ]
        },
        {
          "name": "stdout",
          "output_type": "stream",
          "text": [
            "Epoch 16/50, Training Loss: 0.1842, Learning Rate: 0.001\n"
          ]
        },
        {
          "name": "stderr",
          "output_type": "stream",
          "text": [
            "Epoch 17/50: 100%|██████████| 152/152 [00:06<00:00, 23.00it/s]\n"
          ]
        },
        {
          "name": "stdout",
          "output_type": "stream",
          "text": [
            "Epoch 17/50, Training Loss: 0.1632, Learning Rate: 0.001\n"
          ]
        },
        {
          "name": "stderr",
          "output_type": "stream",
          "text": [
            "Epoch 18/50: 100%|██████████| 152/152 [00:05<00:00, 26.32it/s]\n"
          ]
        },
        {
          "name": "stdout",
          "output_type": "stream",
          "text": [
            "Epoch 18/50, Training Loss: 0.1554, Learning Rate: 0.001\n"
          ]
        },
        {
          "name": "stderr",
          "output_type": "stream",
          "text": [
            "Epoch 19/50: 100%|██████████| 152/152 [00:06<00:00, 22.93it/s]\n"
          ]
        },
        {
          "name": "stdout",
          "output_type": "stream",
          "text": [
            "Epoch 19/50, Training Loss: 0.1484, Learning Rate: 0.001\n"
          ]
        },
        {
          "name": "stderr",
          "output_type": "stream",
          "text": [
            "Epoch 20/50: 100%|██████████| 152/152 [00:05<00:00, 26.07it/s]\n"
          ]
        },
        {
          "name": "stdout",
          "output_type": "stream",
          "text": [
            "Epoch 20/50, Training Loss: 0.1408, Learning Rate: 0.001\n"
          ]
        },
        {
          "name": "stderr",
          "output_type": "stream",
          "text": [
            "Epoch 21/50: 100%|██████████| 152/152 [00:06<00:00, 22.89it/s]\n"
          ]
        },
        {
          "name": "stdout",
          "output_type": "stream",
          "text": [
            "Epoch 21/50, Training Loss: 0.1235, Learning Rate: 0.001\n"
          ]
        },
        {
          "name": "stderr",
          "output_type": "stream",
          "text": [
            "Epoch 22/50: 100%|██████████| 152/152 [00:05<00:00, 26.29it/s]\n"
          ]
        },
        {
          "name": "stdout",
          "output_type": "stream",
          "text": [
            "Epoch 22/50, Training Loss: 0.1111, Learning Rate: 0.001\n"
          ]
        },
        {
          "name": "stderr",
          "output_type": "stream",
          "text": [
            "Epoch 23/50: 100%|██████████| 152/152 [00:06<00:00, 21.88it/s]\n"
          ]
        },
        {
          "name": "stdout",
          "output_type": "stream",
          "text": [
            "Epoch 23/50, Training Loss: 0.0973, Learning Rate: 0.001\n"
          ]
        },
        {
          "name": "stderr",
          "output_type": "stream",
          "text": [
            "Epoch 24/50: 100%|██████████| 152/152 [00:06<00:00, 23.99it/s]\n"
          ]
        },
        {
          "name": "stdout",
          "output_type": "stream",
          "text": [
            "Epoch 24/50, Training Loss: 0.0893, Learning Rate: 0.001\n"
          ]
        },
        {
          "name": "stderr",
          "output_type": "stream",
          "text": [
            "Epoch 25/50: 100%|██████████| 152/152 [00:06<00:00, 22.78it/s]\n"
          ]
        },
        {
          "name": "stdout",
          "output_type": "stream",
          "text": [
            "Epoch 25/50, Training Loss: 0.0824, Learning Rate: 0.001\n"
          ]
        },
        {
          "name": "stderr",
          "output_type": "stream",
          "text": [
            "Epoch 26/50: 100%|██████████| 152/152 [00:05<00:00, 26.30it/s]\n"
          ]
        },
        {
          "name": "stdout",
          "output_type": "stream",
          "text": [
            "Epoch 26/50, Training Loss: 0.0919, Learning Rate: 0.00099\n"
          ]
        },
        {
          "name": "stderr",
          "output_type": "stream",
          "text": [
            "Epoch 27/50: 100%|██████████| 152/152 [00:06<00:00, 22.98it/s]\n"
          ]
        },
        {
          "name": "stdout",
          "output_type": "stream",
          "text": [
            "Epoch 27/50, Training Loss: 0.0915, Learning Rate: 0.0009801\n"
          ]
        },
        {
          "name": "stderr",
          "output_type": "stream",
          "text": [
            "Epoch 28/50: 100%|██████████| 152/152 [00:05<00:00, 26.53it/s]\n"
          ]
        },
        {
          "name": "stdout",
          "output_type": "stream",
          "text": [
            "Epoch 28/50, Training Loss: 0.0724, Learning Rate: 0.000970299\n"
          ]
        },
        {
          "name": "stderr",
          "output_type": "stream",
          "text": [
            "Epoch 29/50: 100%|██████████| 152/152 [00:06<00:00, 22.91it/s]\n"
          ]
        },
        {
          "name": "stdout",
          "output_type": "stream",
          "text": [
            "Epoch 29/50, Training Loss: 0.0657, Learning Rate: 0.0009605960099999999\n"
          ]
        },
        {
          "name": "stderr",
          "output_type": "stream",
          "text": [
            "Epoch 30/50: 100%|██████████| 152/152 [00:05<00:00, 26.19it/s]\n"
          ]
        },
        {
          "name": "stdout",
          "output_type": "stream",
          "text": [
            "Epoch 30/50, Training Loss: 0.0596, Learning Rate: 0.0009509900498999999\n"
          ]
        },
        {
          "name": "stderr",
          "output_type": "stream",
          "text": [
            "Epoch 31/50: 100%|██████████| 152/152 [00:06<00:00, 22.90it/s]\n"
          ]
        },
        {
          "name": "stdout",
          "output_type": "stream",
          "text": [
            "Epoch 31/50, Training Loss: 0.0620, Learning Rate: 0.0009414801494009999\n"
          ]
        },
        {
          "name": "stderr",
          "output_type": "stream",
          "text": [
            "Epoch 32/50: 100%|██████████| 152/152 [00:05<00:00, 26.27it/s]\n"
          ]
        },
        {
          "name": "stdout",
          "output_type": "stream",
          "text": [
            "Epoch 32/50, Training Loss: 0.0536, Learning Rate: 0.0009320653479069899\n"
          ]
        },
        {
          "name": "stderr",
          "output_type": "stream",
          "text": [
            "Epoch 33/50: 100%|██████████| 152/152 [00:06<00:00, 22.87it/s]\n"
          ]
        },
        {
          "name": "stdout",
          "output_type": "stream",
          "text": [
            "Epoch 33/50, Training Loss: 0.0473, Learning Rate: 0.00092274469442792\n"
          ]
        },
        {
          "name": "stderr",
          "output_type": "stream",
          "text": [
            "Epoch 34/50: 100%|██████████| 152/152 [00:05<00:00, 26.33it/s]\n"
          ]
        },
        {
          "name": "stdout",
          "output_type": "stream",
          "text": [
            "Epoch 34/50, Training Loss: 0.0594, Learning Rate: 0.0009135172474836408\n"
          ]
        },
        {
          "name": "stderr",
          "output_type": "stream",
          "text": [
            "Epoch 35/50: 100%|██████████| 152/152 [00:06<00:00, 22.82it/s]\n"
          ]
        },
        {
          "name": "stdout",
          "output_type": "stream",
          "text": [
            "Epoch 35/50, Training Loss: 0.0973, Learning Rate: 0.0009043820750088043\n"
          ]
        },
        {
          "name": "stderr",
          "output_type": "stream",
          "text": [
            "Epoch 36/50: 100%|██████████| 152/152 [00:05<00:00, 26.25it/s]\n"
          ]
        },
        {
          "name": "stdout",
          "output_type": "stream",
          "text": [
            "Epoch 36/50, Training Loss: 0.0658, Learning Rate: 0.0008953382542587163\n"
          ]
        },
        {
          "name": "stderr",
          "output_type": "stream",
          "text": [
            "Epoch 37/50: 100%|██████████| 152/152 [00:06<00:00, 22.83it/s]\n"
          ]
        },
        {
          "name": "stdout",
          "output_type": "stream",
          "text": [
            "Epoch 37/50, Training Loss: 0.0514, Learning Rate: 0.0008863848717161291\n"
          ]
        },
        {
          "name": "stderr",
          "output_type": "stream",
          "text": [
            "Epoch 38/50: 100%|██████████| 152/152 [00:05<00:00, 26.14it/s]\n"
          ]
        },
        {
          "name": "stdout",
          "output_type": "stream",
          "text": [
            "Epoch 38/50, Training Loss: 0.0475, Learning Rate: 0.0008775210229989678\n"
          ]
        },
        {
          "name": "stderr",
          "output_type": "stream",
          "text": [
            "Epoch 39/50: 100%|██████████| 152/152 [00:06<00:00, 22.68it/s]\n"
          ]
        },
        {
          "name": "stdout",
          "output_type": "stream",
          "text": [
            "Epoch 39/50, Training Loss: 0.0409, Learning Rate: 0.0008687458127689781\n"
          ]
        },
        {
          "name": "stderr",
          "output_type": "stream",
          "text": [
            "Epoch 40/50: 100%|██████████| 152/152 [00:05<00:00, 26.13it/s]\n"
          ]
        },
        {
          "name": "stdout",
          "output_type": "stream",
          "text": [
            "Epoch 40/50, Training Loss: 0.0326, Learning Rate: 0.0008600583546412883\n"
          ]
        },
        {
          "name": "stderr",
          "output_type": "stream",
          "text": [
            "Epoch 41/50: 100%|██████████| 152/152 [00:06<00:00, 22.80it/s]\n"
          ]
        },
        {
          "name": "stdout",
          "output_type": "stream",
          "text": [
            "Epoch 41/50, Training Loss: 0.0314, Learning Rate: 0.0008514577710948754\n"
          ]
        },
        {
          "name": "stderr",
          "output_type": "stream",
          "text": [
            "Epoch 42/50: 100%|██████████| 152/152 [00:05<00:00, 26.40it/s]\n"
          ]
        },
        {
          "name": "stdout",
          "output_type": "stream",
          "text": [
            "Epoch 42/50, Training Loss: 0.0286, Learning Rate: 0.0008429431933839266\n"
          ]
        },
        {
          "name": "stderr",
          "output_type": "stream",
          "text": [
            "Epoch 43/50: 100%|██████████| 152/152 [00:06<00:00, 23.12it/s]\n"
          ]
        },
        {
          "name": "stdout",
          "output_type": "stream",
          "text": [
            "Epoch 43/50, Training Loss: 0.0319, Learning Rate: 0.0008345137614500873\n"
          ]
        },
        {
          "name": "stderr",
          "output_type": "stream",
          "text": [
            "Epoch 44/50: 100%|██████████| 152/152 [00:05<00:00, 26.47it/s]\n"
          ]
        },
        {
          "name": "stdout",
          "output_type": "stream",
          "text": [
            "Epoch 44/50, Training Loss: 0.0285, Learning Rate: 0.0008261686238355864\n"
          ]
        },
        {
          "name": "stderr",
          "output_type": "stream",
          "text": [
            "Epoch 45/50: 100%|██████████| 152/152 [00:06<00:00, 23.11it/s]\n"
          ]
        },
        {
          "name": "stdout",
          "output_type": "stream",
          "text": [
            "Epoch 45/50, Training Loss: 0.0311, Learning Rate: 0.0008179069375972306\n"
          ]
        },
        {
          "name": "stderr",
          "output_type": "stream",
          "text": [
            "Epoch 46/50: 100%|██████████| 152/152 [00:05<00:00, 26.43it/s]\n"
          ]
        },
        {
          "name": "stdout",
          "output_type": "stream",
          "text": [
            "Epoch 46/50, Training Loss: 0.0286, Learning Rate: 0.0008097278682212583\n"
          ]
        },
        {
          "name": "stderr",
          "output_type": "stream",
          "text": [
            "Epoch 47/50: 100%|██████████| 152/152 [00:06<00:00, 22.65it/s]\n"
          ]
        },
        {
          "name": "stdout",
          "output_type": "stream",
          "text": [
            "Epoch 47/50, Training Loss: 0.0252, Learning Rate: 0.0008016305895390457\n"
          ]
        },
        {
          "name": "stderr",
          "output_type": "stream",
          "text": [
            "Epoch 48/50: 100%|██████████| 152/152 [00:05<00:00, 25.78it/s]\n"
          ]
        },
        {
          "name": "stdout",
          "output_type": "stream",
          "text": [
            "Epoch 48/50, Training Loss: 0.0266, Learning Rate: 0.0007936142836436553\n"
          ]
        },
        {
          "name": "stderr",
          "output_type": "stream",
          "text": [
            "Epoch 49/50: 100%|██████████| 152/152 [00:06<00:00, 22.98it/s]\n"
          ]
        },
        {
          "name": "stdout",
          "output_type": "stream",
          "text": [
            "Epoch 49/50, Training Loss: 0.0271, Learning Rate: 0.0007856781408072188\n"
          ]
        },
        {
          "name": "stderr",
          "output_type": "stream",
          "text": [
            "Epoch 50/50: 100%|██████████| 152/152 [00:05<00:00, 26.40it/s]"
          ]
        },
        {
          "name": "stdout",
          "output_type": "stream",
          "text": [
            "Epoch 50/50, Training Loss: 0.0283, Learning Rate: 0.0007778213593991466\n"
          ]
        },
        {
          "name": "stderr",
          "output_type": "stream",
          "text": [
            "\n"
          ]
        }
      ],
      "source": [
        "# Training LSTM model using static embeddings from the question split traing and validation set\n",
        "question_static_lstm_model = LSTMTaggerClassifer(\n",
        "    input_dim=question_static_train_val_dataset.get_vector_dim(),\n",
        "    hidden_dim=256,\n",
        "    tag_vocab_size=question_static_train_val_dataset.get_tag_vocab_size(),\n",
        "    sql_vocab_size=question_static_train_val_dataset.get_sql_vocab_size(),\n",
        "    num_layers=3\n",
        ")\n",
        "# Training\n",
        "question_static_trained_lstm_model = train_model(\n",
        "    model=question_static_lstm_model,\n",
        "    train_loader=question_static_train_val_loader,\n",
        "    epochs=50,\n",
        "    lr=1e-3,\n",
        "    weight_decay=0.1,\n",
        "    amsgrad=True,\n",
        "    gamma=0.99,\n",
        "    warmup_epochs=25\n",
        ")"
      ]
    },
    {
      "cell_type": "code",
      "execution_count": 164,
      "metadata": {
        "colab": {
          "base_uri": "https://localhost:8080/"
        },
        "id": "70UvCXalrIa0",
        "outputId": "f4876da4-5f3e-49d7-e5e8-0e52d0b71f86"
      },
      "outputs": [
        {
          "name": "stderr",
          "output_type": "stream",
          "text": [
            "Generating SQL queries: 100%|██████████| 14/14 [00:01<00:00,  7.03it/s]"
          ]
        },
        {
          "name": "stdout",
          "output_type": "stream",
          "text": [
            "\n",
            "Accuracy of LSTM model on question split test set: 33.33%\n"
          ]
        },
        {
          "name": "stderr",
          "output_type": "stream",
          "text": [
            "\n"
          ]
        }
      ],
      "source": [
        "# Evaluating LSTM model on the test set\n",
        "question_static_lstm_sql_pipe = SQLPipeline(dataset=question_static_test_dataset,model=question_static_trained_lstm_model,embed_type=\"static\")\n",
        "question_static_lstm_results, question_static_lstm_acc = question_static_lstm_sql_pipe.batch_predict(dataloader=question_static_test_loader)\n",
        "# question_static_lstm_sql_pipe = SQLPipeline(dataset=question_static_train_val_dataset,model=question_static_trained_lstm_model,embed_type=\"static\")\n",
        "# question_static_lstm_results, question_static_lstm_acc = question_static_lstm_sql_pipe.batch_predict(dataloader=question_static_train_val_loader)\n",
        "print(f\"\\nAccuracy of LSTM model on question split test set: {question_static_lstm_acc:.2%}\")"
      ]
    },
    {
      "cell_type": "code",
      "execution_count": 240,
      "metadata": {
        "colab": {
          "base_uri": "https://localhost:8080/"
        },
        "collapsed": true,
        "id": "U-Y1o-a2i7JJ",
        "outputId": "3c12e48e-cdcb-41b2-df8a-3a72b18504d8"
      },
      "outputs": [
        {
          "name": "stderr",
          "output_type": "stream",
          "text": [
            "Epoch 1/100: 100%|██████████| 152/152 [00:05<00:00, 25.78it/s]\n"
          ]
        },
        {
          "name": "stdout",
          "output_type": "stream",
          "text": [
            "Epoch 1/100, Training Loss: 5.1272, Learning Rate: 0.001\n"
          ]
        },
        {
          "name": "stderr",
          "output_type": "stream",
          "text": [
            "Epoch 2/100: 100%|██████████| 152/152 [00:05<00:00, 27.28it/s]\n"
          ]
        },
        {
          "name": "stdout",
          "output_type": "stream",
          "text": [
            "Epoch 2/100, Training Loss: 3.7137, Learning Rate: 0.001\n"
          ]
        },
        {
          "name": "stderr",
          "output_type": "stream",
          "text": [
            "Epoch 3/100: 100%|██████████| 152/152 [00:05<00:00, 25.89it/s]\n"
          ]
        },
        {
          "name": "stdout",
          "output_type": "stream",
          "text": [
            "Epoch 3/100, Training Loss: 2.9545, Learning Rate: 0.001\n"
          ]
        },
        {
          "name": "stderr",
          "output_type": "stream",
          "text": [
            "Epoch 4/100: 100%|██████████| 152/152 [00:05<00:00, 28.06it/s]\n"
          ]
        },
        {
          "name": "stdout",
          "output_type": "stream",
          "text": [
            "Epoch 4/100, Training Loss: 2.5270, Learning Rate: 0.001\n"
          ]
        },
        {
          "name": "stderr",
          "output_type": "stream",
          "text": [
            "Epoch 5/100: 100%|██████████| 152/152 [00:05<00:00, 28.93it/s]\n"
          ]
        },
        {
          "name": "stdout",
          "output_type": "stream",
          "text": [
            "Epoch 5/100, Training Loss: 2.2148, Learning Rate: 0.001\n"
          ]
        },
        {
          "name": "stderr",
          "output_type": "stream",
          "text": [
            "Epoch 6/100: 100%|██████████| 152/152 [00:05<00:00, 27.55it/s]\n"
          ]
        },
        {
          "name": "stdout",
          "output_type": "stream",
          "text": [
            "Epoch 6/100, Training Loss: 1.9734, Learning Rate: 0.001\n"
          ]
        },
        {
          "name": "stderr",
          "output_type": "stream",
          "text": [
            "Epoch 7/100: 100%|██████████| 152/152 [00:04<00:00, 30.64it/s]\n"
          ]
        },
        {
          "name": "stdout",
          "output_type": "stream",
          "text": [
            "Epoch 7/100, Training Loss: 1.8249, Learning Rate: 0.001\n"
          ]
        },
        {
          "name": "stderr",
          "output_type": "stream",
          "text": [
            "Epoch 8/100: 100%|██████████| 152/152 [00:05<00:00, 25.80it/s]\n"
          ]
        },
        {
          "name": "stdout",
          "output_type": "stream",
          "text": [
            "Epoch 8/100, Training Loss: 1.6429, Learning Rate: 0.001\n"
          ]
        },
        {
          "name": "stderr",
          "output_type": "stream",
          "text": [
            "Epoch 9/100: 100%|██████████| 152/152 [00:05<00:00, 30.35it/s]\n"
          ]
        },
        {
          "name": "stdout",
          "output_type": "stream",
          "text": [
            "Epoch 9/100, Training Loss: 1.6564, Learning Rate: 0.001\n"
          ]
        },
        {
          "name": "stderr",
          "output_type": "stream",
          "text": [
            "Epoch 10/100: 100%|██████████| 152/152 [00:05<00:00, 25.95it/s]\n"
          ]
        },
        {
          "name": "stdout",
          "output_type": "stream",
          "text": [
            "Epoch 10/100, Training Loss: 1.5948, Learning Rate: 0.001\n"
          ]
        },
        {
          "name": "stderr",
          "output_type": "stream",
          "text": [
            "Epoch 11/100: 100%|██████████| 152/152 [00:04<00:00, 30.44it/s]\n"
          ]
        },
        {
          "name": "stdout",
          "output_type": "stream",
          "text": [
            "Epoch 11/100, Training Loss: 1.4236, Learning Rate: 0.001\n"
          ]
        },
        {
          "name": "stderr",
          "output_type": "stream",
          "text": [
            "Epoch 12/100: 100%|██████████| 152/152 [00:05<00:00, 26.99it/s]\n"
          ]
        },
        {
          "name": "stdout",
          "output_type": "stream",
          "text": [
            "Epoch 12/100, Training Loss: 1.3970, Learning Rate: 0.001\n"
          ]
        },
        {
          "name": "stderr",
          "output_type": "stream",
          "text": [
            "Epoch 13/100: 100%|██████████| 152/152 [00:05<00:00, 29.28it/s]\n"
          ]
        },
        {
          "name": "stdout",
          "output_type": "stream",
          "text": [
            "Epoch 13/100, Training Loss: 1.4338, Learning Rate: 0.001\n"
          ]
        },
        {
          "name": "stderr",
          "output_type": "stream",
          "text": [
            "Epoch 14/100: 100%|██████████| 152/152 [00:05<00:00, 30.18it/s]\n"
          ]
        },
        {
          "name": "stdout",
          "output_type": "stream",
          "text": [
            "Epoch 14/100, Training Loss: 1.3223, Learning Rate: 0.001\n"
          ]
        },
        {
          "name": "stderr",
          "output_type": "stream",
          "text": [
            "Epoch 15/100: 100%|██████████| 152/152 [00:05<00:00, 25.83it/s]\n"
          ]
        },
        {
          "name": "stdout",
          "output_type": "stream",
          "text": [
            "Epoch 15/100, Training Loss: 1.1883, Learning Rate: 0.001\n"
          ]
        },
        {
          "name": "stderr",
          "output_type": "stream",
          "text": [
            "Epoch 16/100: 100%|██████████| 152/152 [00:04<00:00, 30.43it/s]\n"
          ]
        },
        {
          "name": "stdout",
          "output_type": "stream",
          "text": [
            "Epoch 16/100, Training Loss: 1.1322, Learning Rate: 0.001\n"
          ]
        },
        {
          "name": "stderr",
          "output_type": "stream",
          "text": [
            "Epoch 17/100: 100%|██████████| 152/152 [00:06<00:00, 24.04it/s]\n"
          ]
        },
        {
          "name": "stdout",
          "output_type": "stream",
          "text": [
            "Epoch 17/100, Training Loss: 1.0971, Learning Rate: 0.001\n"
          ]
        },
        {
          "name": "stderr",
          "output_type": "stream",
          "text": [
            "Epoch 18/100: 100%|██████████| 152/152 [00:04<00:00, 30.55it/s]\n"
          ]
        },
        {
          "name": "stdout",
          "output_type": "stream",
          "text": [
            "Epoch 18/100, Training Loss: 1.1223, Learning Rate: 0.001\n"
          ]
        },
        {
          "name": "stderr",
          "output_type": "stream",
          "text": [
            "Epoch 19/100: 100%|██████████| 152/152 [00:05<00:00, 25.72it/s]\n"
          ]
        },
        {
          "name": "stdout",
          "output_type": "stream",
          "text": [
            "Epoch 19/100, Training Loss: 1.0965, Learning Rate: 0.001\n"
          ]
        },
        {
          "name": "stderr",
          "output_type": "stream",
          "text": [
            "Epoch 20/100: 100%|██████████| 152/152 [00:04<00:00, 30.45it/s]\n"
          ]
        },
        {
          "name": "stdout",
          "output_type": "stream",
          "text": [
            "Epoch 20/100, Training Loss: 1.1073, Learning Rate: 0.001\n"
          ]
        },
        {
          "name": "stderr",
          "output_type": "stream",
          "text": [
            "Epoch 21/100: 100%|██████████| 152/152 [00:05<00:00, 28.17it/s]\n"
          ]
        },
        {
          "name": "stdout",
          "output_type": "stream",
          "text": [
            "Epoch 21/100, Training Loss: 0.9764, Learning Rate: 0.001\n"
          ]
        },
        {
          "name": "stderr",
          "output_type": "stream",
          "text": [
            "Epoch 22/100: 100%|██████████| 152/152 [00:05<00:00, 25.98it/s]\n"
          ]
        },
        {
          "name": "stdout",
          "output_type": "stream",
          "text": [
            "Epoch 22/100, Training Loss: 0.9207, Learning Rate: 0.001\n"
          ]
        },
        {
          "name": "stderr",
          "output_type": "stream",
          "text": [
            "Epoch 23/100: 100%|██████████| 152/152 [00:04<00:00, 30.49it/s]\n"
          ]
        },
        {
          "name": "stdout",
          "output_type": "stream",
          "text": [
            "Epoch 23/100, Training Loss: 0.9353, Learning Rate: 0.001\n"
          ]
        },
        {
          "name": "stderr",
          "output_type": "stream",
          "text": [
            "Epoch 24/100: 100%|██████████| 152/152 [00:05<00:00, 25.85it/s]\n"
          ]
        },
        {
          "name": "stdout",
          "output_type": "stream",
          "text": [
            "Epoch 24/100, Training Loss: 0.8796, Learning Rate: 0.001\n"
          ]
        },
        {
          "name": "stderr",
          "output_type": "stream",
          "text": [
            "Epoch 25/100: 100%|██████████| 152/152 [00:05<00:00, 30.39it/s]\n"
          ]
        },
        {
          "name": "stdout",
          "output_type": "stream",
          "text": [
            "Epoch 25/100, Training Loss: 0.9323, Learning Rate: 0.001\n"
          ]
        },
        {
          "name": "stderr",
          "output_type": "stream",
          "text": [
            "Epoch 26/100: 100%|██████████| 152/152 [00:05<00:00, 26.08it/s]\n"
          ]
        },
        {
          "name": "stdout",
          "output_type": "stream",
          "text": [
            "Epoch 26/100, Training Loss: 0.9239, Learning Rate: 0.001\n"
          ]
        },
        {
          "name": "stderr",
          "output_type": "stream",
          "text": [
            "Epoch 27/100: 100%|██████████| 152/152 [00:04<00:00, 30.51it/s]\n"
          ]
        },
        {
          "name": "stdout",
          "output_type": "stream",
          "text": [
            "Epoch 27/100, Training Loss: 0.8454, Learning Rate: 0.001\n"
          ]
        },
        {
          "name": "stderr",
          "output_type": "stream",
          "text": [
            "Epoch 28/100: 100%|██████████| 152/152 [00:05<00:00, 26.26it/s]\n"
          ]
        },
        {
          "name": "stdout",
          "output_type": "stream",
          "text": [
            "Epoch 28/100, Training Loss: 0.9013, Learning Rate: 0.001\n"
          ]
        },
        {
          "name": "stderr",
          "output_type": "stream",
          "text": [
            "Epoch 29/100: 100%|██████████| 152/152 [00:04<00:00, 30.75it/s]\n"
          ]
        },
        {
          "name": "stdout",
          "output_type": "stream",
          "text": [
            "Epoch 29/100, Training Loss: 0.8396, Learning Rate: 0.001\n"
          ]
        },
        {
          "name": "stderr",
          "output_type": "stream",
          "text": [
            "Epoch 30/100: 100%|██████████| 152/152 [00:05<00:00, 30.13it/s]\n"
          ]
        },
        {
          "name": "stdout",
          "output_type": "stream",
          "text": [
            "Epoch 30/100, Training Loss: 0.9337, Learning Rate: 0.001\n"
          ]
        },
        {
          "name": "stderr",
          "output_type": "stream",
          "text": [
            "Epoch 31/100: 100%|██████████| 152/152 [00:05<00:00, 26.56it/s]\n"
          ]
        },
        {
          "name": "stdout",
          "output_type": "stream",
          "text": [
            "Epoch 31/100, Training Loss: 0.9980, Learning Rate: 0.001\n"
          ]
        },
        {
          "name": "stderr",
          "output_type": "stream",
          "text": [
            "Epoch 32/100: 100%|██████████| 152/152 [00:04<00:00, 30.57it/s]\n"
          ]
        },
        {
          "name": "stdout",
          "output_type": "stream",
          "text": [
            "Epoch 32/100, Training Loss: 0.8075, Learning Rate: 0.001\n"
          ]
        },
        {
          "name": "stderr",
          "output_type": "stream",
          "text": [
            "Epoch 33/100: 100%|██████████| 152/152 [00:05<00:00, 26.16it/s]\n"
          ]
        },
        {
          "name": "stdout",
          "output_type": "stream",
          "text": [
            "Epoch 33/100, Training Loss: 0.7574, Learning Rate: 0.001\n"
          ]
        },
        {
          "name": "stderr",
          "output_type": "stream",
          "text": [
            "Epoch 34/100: 100%|██████████| 152/152 [00:04<00:00, 30.55it/s]\n"
          ]
        },
        {
          "name": "stdout",
          "output_type": "stream",
          "text": [
            "Epoch 34/100, Training Loss: 0.7300, Learning Rate: 0.001\n"
          ]
        },
        {
          "name": "stderr",
          "output_type": "stream",
          "text": [
            "Epoch 35/100: 100%|██████████| 152/152 [00:05<00:00, 26.03it/s]\n"
          ]
        },
        {
          "name": "stdout",
          "output_type": "stream",
          "text": [
            "Epoch 35/100, Training Loss: 0.6720, Learning Rate: 0.001\n"
          ]
        },
        {
          "name": "stderr",
          "output_type": "stream",
          "text": [
            "Epoch 36/100: 100%|██████████| 152/152 [00:04<00:00, 30.47it/s]\n"
          ]
        },
        {
          "name": "stdout",
          "output_type": "stream",
          "text": [
            "Epoch 36/100, Training Loss: 0.6612, Learning Rate: 0.001\n"
          ]
        },
        {
          "name": "stderr",
          "output_type": "stream",
          "text": [
            "Epoch 37/100: 100%|██████████| 152/152 [00:05<00:00, 28.02it/s]\n"
          ]
        },
        {
          "name": "stdout",
          "output_type": "stream",
          "text": [
            "Epoch 37/100, Training Loss: 0.6388, Learning Rate: 0.001\n"
          ]
        },
        {
          "name": "stderr",
          "output_type": "stream",
          "text": [
            "Epoch 38/100: 100%|██████████| 152/152 [00:05<00:00, 27.47it/s]\n"
          ]
        },
        {
          "name": "stdout",
          "output_type": "stream",
          "text": [
            "Epoch 38/100, Training Loss: 0.6543, Learning Rate: 0.001\n"
          ]
        },
        {
          "name": "stderr",
          "output_type": "stream",
          "text": [
            "Epoch 39/100: 100%|██████████| 152/152 [00:05<00:00, 30.10it/s]\n"
          ]
        },
        {
          "name": "stdout",
          "output_type": "stream",
          "text": [
            "Epoch 39/100, Training Loss: 0.7253, Learning Rate: 0.001\n"
          ]
        },
        {
          "name": "stderr",
          "output_type": "stream",
          "text": [
            "Epoch 40/100: 100%|██████████| 152/152 [00:05<00:00, 25.71it/s]\n"
          ]
        },
        {
          "name": "stdout",
          "output_type": "stream",
          "text": [
            "Epoch 40/100, Training Loss: 0.6989, Learning Rate: 0.001\n"
          ]
        },
        {
          "name": "stderr",
          "output_type": "stream",
          "text": [
            "Epoch 41/100: 100%|██████████| 152/152 [00:05<00:00, 30.30it/s]\n"
          ]
        },
        {
          "name": "stdout",
          "output_type": "stream",
          "text": [
            "Epoch 41/100, Training Loss: 0.6420, Learning Rate: 0.001\n"
          ]
        },
        {
          "name": "stderr",
          "output_type": "stream",
          "text": [
            "Epoch 42/100: 100%|██████████| 152/152 [00:05<00:00, 26.06it/s]\n"
          ]
        },
        {
          "name": "stdout",
          "output_type": "stream",
          "text": [
            "Epoch 42/100, Training Loss: 0.5956, Learning Rate: 0.001\n"
          ]
        },
        {
          "name": "stderr",
          "output_type": "stream",
          "text": [
            "Epoch 43/100: 100%|██████████| 152/152 [00:04<00:00, 30.40it/s]\n"
          ]
        },
        {
          "name": "stdout",
          "output_type": "stream",
          "text": [
            "Epoch 43/100, Training Loss: 0.5559, Learning Rate: 0.001\n"
          ]
        },
        {
          "name": "stderr",
          "output_type": "stream",
          "text": [
            "Epoch 44/100: 100%|██████████| 152/152 [00:05<00:00, 26.39it/s]\n"
          ]
        },
        {
          "name": "stdout",
          "output_type": "stream",
          "text": [
            "Epoch 44/100, Training Loss: 0.5532, Learning Rate: 0.001\n"
          ]
        },
        {
          "name": "stderr",
          "output_type": "stream",
          "text": [
            "Epoch 45/100: 100%|██████████| 152/152 [00:05<00:00, 30.08it/s]\n"
          ]
        },
        {
          "name": "stdout",
          "output_type": "stream",
          "text": [
            "Epoch 45/100, Training Loss: 0.5624, Learning Rate: 0.001\n"
          ]
        },
        {
          "name": "stderr",
          "output_type": "stream",
          "text": [
            "Epoch 46/100: 100%|██████████| 152/152 [00:04<00:00, 30.60it/s]\n"
          ]
        },
        {
          "name": "stdout",
          "output_type": "stream",
          "text": [
            "Epoch 46/100, Training Loss: 0.5752, Learning Rate: 0.001\n"
          ]
        },
        {
          "name": "stderr",
          "output_type": "stream",
          "text": [
            "Epoch 47/100: 100%|██████████| 152/152 [00:05<00:00, 26.03it/s]\n"
          ]
        },
        {
          "name": "stdout",
          "output_type": "stream",
          "text": [
            "Epoch 47/100, Training Loss: 0.5467, Learning Rate: 0.001\n"
          ]
        },
        {
          "name": "stderr",
          "output_type": "stream",
          "text": [
            "Epoch 48/100: 100%|██████████| 152/152 [00:04<00:00, 30.67it/s]\n"
          ]
        },
        {
          "name": "stdout",
          "output_type": "stream",
          "text": [
            "Epoch 48/100, Training Loss: 0.5277, Learning Rate: 0.001\n"
          ]
        },
        {
          "name": "stderr",
          "output_type": "stream",
          "text": [
            "Epoch 49/100: 100%|██████████| 152/152 [00:05<00:00, 25.87it/s]\n"
          ]
        },
        {
          "name": "stdout",
          "output_type": "stream",
          "text": [
            "Epoch 49/100, Training Loss: 0.5519, Learning Rate: 0.001\n"
          ]
        },
        {
          "name": "stderr",
          "output_type": "stream",
          "text": [
            "Epoch 50/100: 100%|██████████| 152/152 [00:05<00:00, 28.90it/s]\n"
          ]
        },
        {
          "name": "stdout",
          "output_type": "stream",
          "text": [
            "Epoch 50/100, Training Loss: 0.5222, Learning Rate: 0.001\n"
          ]
        },
        {
          "name": "stderr",
          "output_type": "stream",
          "text": [
            "Epoch 51/100: 100%|██████████| 152/152 [00:06<00:00, 23.70it/s]\n"
          ]
        },
        {
          "name": "stdout",
          "output_type": "stream",
          "text": [
            "Epoch 51/100, Training Loss: 0.5198, Learning Rate: 0.0009000000000000001\n"
          ]
        },
        {
          "name": "stderr",
          "output_type": "stream",
          "text": [
            "Epoch 52/100: 100%|██████████| 152/152 [00:04<00:00, 30.71it/s]\n"
          ]
        },
        {
          "name": "stdout",
          "output_type": "stream",
          "text": [
            "Epoch 52/100, Training Loss: 0.6399, Learning Rate: 0.0008100000000000001\n"
          ]
        },
        {
          "name": "stderr",
          "output_type": "stream",
          "text": [
            "Epoch 53/100: 100%|██████████| 152/152 [00:05<00:00, 26.53it/s]\n"
          ]
        },
        {
          "name": "stdout",
          "output_type": "stream",
          "text": [
            "Epoch 53/100, Training Loss: 0.5054, Learning Rate: 0.000729\n"
          ]
        },
        {
          "name": "stderr",
          "output_type": "stream",
          "text": [
            "Epoch 54/100: 100%|██████████| 152/152 [00:05<00:00, 29.62it/s]\n"
          ]
        },
        {
          "name": "stdout",
          "output_type": "stream",
          "text": [
            "Epoch 54/100, Training Loss: 0.4732, Learning Rate: 0.0006561000000000001\n"
          ]
        },
        {
          "name": "stderr",
          "output_type": "stream",
          "text": [
            "Epoch 55/100: 100%|██████████| 152/152 [00:04<00:00, 30.68it/s]\n"
          ]
        },
        {
          "name": "stdout",
          "output_type": "stream",
          "text": [
            "Epoch 55/100, Training Loss: 0.4242, Learning Rate: 0.00059049\n"
          ]
        },
        {
          "name": "stderr",
          "output_type": "stream",
          "text": [
            "Epoch 56/100: 100%|██████████| 152/152 [00:05<00:00, 26.22it/s]\n"
          ]
        },
        {
          "name": "stdout",
          "output_type": "stream",
          "text": [
            "Epoch 56/100, Training Loss: 0.3768, Learning Rate: 0.000531441\n"
          ]
        },
        {
          "name": "stderr",
          "output_type": "stream",
          "text": [
            "Epoch 57/100: 100%|██████████| 152/152 [00:04<00:00, 30.59it/s]\n"
          ]
        },
        {
          "name": "stdout",
          "output_type": "stream",
          "text": [
            "Epoch 57/100, Training Loss: 0.3621, Learning Rate: 0.0004782969\n"
          ]
        },
        {
          "name": "stderr",
          "output_type": "stream",
          "text": [
            "Epoch 58/100: 100%|██████████| 152/152 [00:05<00:00, 26.29it/s]\n"
          ]
        },
        {
          "name": "stdout",
          "output_type": "stream",
          "text": [
            "Epoch 58/100, Training Loss: 0.3472, Learning Rate: 0.00043046721\n"
          ]
        },
        {
          "name": "stderr",
          "output_type": "stream",
          "text": [
            "Epoch 59/100: 100%|██████████| 152/152 [00:05<00:00, 30.32it/s]\n"
          ]
        },
        {
          "name": "stdout",
          "output_type": "stream",
          "text": [
            "Epoch 59/100, Training Loss: 0.3224, Learning Rate: 0.000387420489\n"
          ]
        },
        {
          "name": "stderr",
          "output_type": "stream",
          "text": [
            "Epoch 60/100: 100%|██████████| 152/152 [00:05<00:00, 26.16it/s]\n"
          ]
        },
        {
          "name": "stdout",
          "output_type": "stream",
          "text": [
            "Epoch 60/100, Training Loss: 0.3058, Learning Rate: 0.0003486784401\n"
          ]
        },
        {
          "name": "stderr",
          "output_type": "stream",
          "text": [
            "Epoch 61/100: 100%|██████████| 152/152 [00:05<00:00, 30.19it/s]\n"
          ]
        },
        {
          "name": "stdout",
          "output_type": "stream",
          "text": [
            "Epoch 61/100, Training Loss: 0.3000, Learning Rate: 0.00031381059609000004\n"
          ]
        },
        {
          "name": "stderr",
          "output_type": "stream",
          "text": [
            "Epoch 62/100: 100%|██████████| 152/152 [00:05<00:00, 29.57it/s]\n"
          ]
        },
        {
          "name": "stdout",
          "output_type": "stream",
          "text": [
            "Epoch 62/100, Training Loss: 0.3046, Learning Rate: 0.00028242953648100003\n"
          ]
        },
        {
          "name": "stderr",
          "output_type": "stream",
          "text": [
            "Epoch 63/100: 100%|██████████| 152/152 [00:05<00:00, 26.87it/s]\n"
          ]
        },
        {
          "name": "stdout",
          "output_type": "stream",
          "text": [
            "Epoch 63/100, Training Loss: 0.2858, Learning Rate: 0.00025418658283290005\n"
          ]
        },
        {
          "name": "stderr",
          "output_type": "stream",
          "text": [
            "Epoch 64/100: 100%|██████████| 152/152 [00:05<00:00, 29.94it/s]\n"
          ]
        },
        {
          "name": "stdout",
          "output_type": "stream",
          "text": [
            "Epoch 64/100, Training Loss: 0.2845, Learning Rate: 0.00022876792454961005\n"
          ]
        },
        {
          "name": "stderr",
          "output_type": "stream",
          "text": [
            "Epoch 65/100: 100%|██████████| 152/152 [00:05<00:00, 25.98it/s]\n"
          ]
        },
        {
          "name": "stdout",
          "output_type": "stream",
          "text": [
            "Epoch 65/100, Training Loss: 0.2772, Learning Rate: 0.00020589113209464906\n"
          ]
        },
        {
          "name": "stderr",
          "output_type": "stream",
          "text": [
            "Epoch 66/100: 100%|██████████| 152/152 [00:04<00:00, 30.64it/s]\n"
          ]
        },
        {
          "name": "stdout",
          "output_type": "stream",
          "text": [
            "Epoch 66/100, Training Loss: 0.2717, Learning Rate: 0.00018530201888518417\n"
          ]
        },
        {
          "name": "stderr",
          "output_type": "stream",
          "text": [
            "Epoch 67/100: 100%|██████████| 152/152 [00:05<00:00, 26.13it/s]\n"
          ]
        },
        {
          "name": "stdout",
          "output_type": "stream",
          "text": [
            "Epoch 67/100, Training Loss: 0.2690, Learning Rate: 0.00016677181699666576\n"
          ]
        },
        {
          "name": "stderr",
          "output_type": "stream",
          "text": [
            "Epoch 68/100: 100%|██████████| 152/152 [00:04<00:00, 30.42it/s]\n"
          ]
        },
        {
          "name": "stdout",
          "output_type": "stream",
          "text": [
            "Epoch 68/100, Training Loss: 0.2634, Learning Rate: 0.0001500946352969992\n"
          ]
        },
        {
          "name": "stderr",
          "output_type": "stream",
          "text": [
            "Epoch 69/100: 100%|██████████| 152/152 [00:05<00:00, 28.09it/s]\n"
          ]
        },
        {
          "name": "stdout",
          "output_type": "stream",
          "text": [
            "Epoch 69/100, Training Loss: 0.2675, Learning Rate: 0.0001350851717672993\n"
          ]
        },
        {
          "name": "stderr",
          "output_type": "stream",
          "text": [
            "Epoch 70/100: 100%|██████████| 152/152 [00:05<00:00, 28.06it/s]\n"
          ]
        },
        {
          "name": "stdout",
          "output_type": "stream",
          "text": [
            "Epoch 70/100, Training Loss: 0.2576, Learning Rate: 0.00012157665459056936\n"
          ]
        },
        {
          "name": "stderr",
          "output_type": "stream",
          "text": [
            "Epoch 71/100: 100%|██████████| 152/152 [00:04<00:00, 30.46it/s]\n"
          ]
        },
        {
          "name": "stdout",
          "output_type": "stream",
          "text": [
            "Epoch 71/100, Training Loss: 0.2618, Learning Rate: 0.00010941898913151243\n"
          ]
        },
        {
          "name": "stderr",
          "output_type": "stream",
          "text": [
            "Epoch 72/100: 100%|██████████| 152/152 [00:05<00:00, 26.23it/s]\n"
          ]
        },
        {
          "name": "stdout",
          "output_type": "stream",
          "text": [
            "Epoch 72/100, Training Loss: 0.2562, Learning Rate: 9.847709021836118e-05\n"
          ]
        },
        {
          "name": "stderr",
          "output_type": "stream",
          "text": [
            "Epoch 73/100: 100%|██████████| 152/152 [00:04<00:00, 30.68it/s]\n"
          ]
        },
        {
          "name": "stdout",
          "output_type": "stream",
          "text": [
            "Epoch 73/100, Training Loss: 0.2564, Learning Rate: 8.862938119652506e-05\n"
          ]
        },
        {
          "name": "stderr",
          "output_type": "stream",
          "text": [
            "Epoch 74/100: 100%|██████████| 152/152 [00:05<00:00, 26.20it/s]\n"
          ]
        },
        {
          "name": "stdout",
          "output_type": "stream",
          "text": [
            "Epoch 74/100, Training Loss: 0.2609, Learning Rate: 7.976644307687256e-05\n"
          ]
        },
        {
          "name": "stderr",
          "output_type": "stream",
          "text": [
            "Epoch 75/100: 100%|██████████| 152/152 [00:05<00:00, 30.40it/s]\n"
          ]
        },
        {
          "name": "stdout",
          "output_type": "stream",
          "text": [
            "Epoch 75/100, Training Loss: 0.2546, Learning Rate: 7.17897987691853e-05\n"
          ]
        },
        {
          "name": "stderr",
          "output_type": "stream",
          "text": [
            "Epoch 76/100: 100%|██████████| 152/152 [00:05<00:00, 26.74it/s]\n"
          ]
        },
        {
          "name": "stdout",
          "output_type": "stream",
          "text": [
            "Epoch 76/100, Training Loss: 0.2604, Learning Rate: 6.461081889226677e-05\n"
          ]
        },
        {
          "name": "stderr",
          "output_type": "stream",
          "text": [
            "Epoch 77/100: 100%|██████████| 152/152 [00:05<00:00, 29.85it/s]\n"
          ]
        },
        {
          "name": "stdout",
          "output_type": "stream",
          "text": [
            "Epoch 77/100, Training Loss: 0.2496, Learning Rate: 5.81497370030401e-05\n"
          ]
        },
        {
          "name": "stderr",
          "output_type": "stream",
          "text": [
            "Epoch 78/100: 100%|██████████| 152/152 [00:04<00:00, 30.92it/s]\n"
          ]
        },
        {
          "name": "stdout",
          "output_type": "stream",
          "text": [
            "Epoch 78/100, Training Loss: 0.2563, Learning Rate: 5.233476330273609e-05\n"
          ]
        },
        {
          "name": "stderr",
          "output_type": "stream",
          "text": [
            "Epoch 79/100: 100%|██████████| 152/152 [00:05<00:00, 25.96it/s]\n"
          ]
        },
        {
          "name": "stdout",
          "output_type": "stream",
          "text": [
            "Epoch 79/100, Training Loss: 0.2509, Learning Rate: 4.7101286972462485e-05\n"
          ]
        },
        {
          "name": "stderr",
          "output_type": "stream",
          "text": [
            "Epoch 80/100: 100%|██████████| 152/152 [00:04<00:00, 30.65it/s]\n"
          ]
        },
        {
          "name": "stdout",
          "output_type": "stream",
          "text": [
            "Epoch 80/100, Training Loss: 0.2466, Learning Rate: 4.239115827521624e-05\n"
          ]
        },
        {
          "name": "stderr",
          "output_type": "stream",
          "text": [
            "Epoch 81/100: 100%|██████████| 152/152 [00:05<00:00, 25.84it/s]\n"
          ]
        },
        {
          "name": "stdout",
          "output_type": "stream",
          "text": [
            "Epoch 81/100, Training Loss: 0.2538, Learning Rate: 3.8152042447694614e-05\n"
          ]
        },
        {
          "name": "stderr",
          "output_type": "stream",
          "text": [
            "Epoch 82/100: 100%|██████████| 152/152 [00:04<00:00, 30.44it/s]\n"
          ]
        },
        {
          "name": "stdout",
          "output_type": "stream",
          "text": [
            "Epoch 82/100, Training Loss: 0.2463, Learning Rate: 3.433683820292515e-05\n"
          ]
        },
        {
          "name": "stderr",
          "output_type": "stream",
          "text": [
            "Epoch 83/100: 100%|██████████| 152/152 [00:05<00:00, 26.03it/s]\n"
          ]
        },
        {
          "name": "stdout",
          "output_type": "stream",
          "text": [
            "Epoch 83/100, Training Loss: 0.2445, Learning Rate: 3.090315438263264e-05\n"
          ]
        },
        {
          "name": "stderr",
          "output_type": "stream",
          "text": [
            "Epoch 84/100: 100%|██████████| 152/152 [00:04<00:00, 30.55it/s]\n"
          ]
        },
        {
          "name": "stdout",
          "output_type": "stream",
          "text": [
            "Epoch 84/100, Training Loss: 0.2483, Learning Rate: 2.7812838944369376e-05\n"
          ]
        },
        {
          "name": "stderr",
          "output_type": "stream",
          "text": [
            "Epoch 85/100: 100%|██████████| 152/152 [00:05<00:00, 30.07it/s]\n"
          ]
        },
        {
          "name": "stdout",
          "output_type": "stream",
          "text": [
            "Epoch 85/100, Training Loss: 0.2483, Learning Rate: 2.503155504993244e-05\n"
          ]
        },
        {
          "name": "stderr",
          "output_type": "stream",
          "text": [
            "Epoch 86/100: 100%|██████████| 152/152 [00:05<00:00, 26.35it/s]\n"
          ]
        },
        {
          "name": "stdout",
          "output_type": "stream",
          "text": [
            "Epoch 86/100, Training Loss: 0.2476, Learning Rate: 2.2528399544939195e-05\n"
          ]
        },
        {
          "name": "stderr",
          "output_type": "stream",
          "text": [
            "Epoch 87/100: 100%|██████████| 152/152 [00:04<00:00, 30.45it/s]\n"
          ]
        },
        {
          "name": "stdout",
          "output_type": "stream",
          "text": [
            "Epoch 87/100, Training Loss: 0.2437, Learning Rate: 2.0275559590445276e-05\n"
          ]
        },
        {
          "name": "stderr",
          "output_type": "stream",
          "text": [
            "Epoch 88/100: 100%|██████████| 152/152 [00:05<00:00, 26.16it/s]\n"
          ]
        },
        {
          "name": "stdout",
          "output_type": "stream",
          "text": [
            "Epoch 88/100, Training Loss: 0.2464, Learning Rate: 1.8248003631400748e-05\n"
          ]
        },
        {
          "name": "stderr",
          "output_type": "stream",
          "text": [
            "Epoch 89/100: 100%|██████████| 152/152 [00:04<00:00, 30.59it/s]\n"
          ]
        },
        {
          "name": "stdout",
          "output_type": "stream",
          "text": [
            "Epoch 89/100, Training Loss: 0.2398, Learning Rate: 1.6423203268260675e-05\n"
          ]
        },
        {
          "name": "stderr",
          "output_type": "stream",
          "text": [
            "Epoch 90/100: 100%|██████████| 152/152 [00:05<00:00, 25.81it/s]\n"
          ]
        },
        {
          "name": "stdout",
          "output_type": "stream",
          "text": [
            "Epoch 90/100, Training Loss: 0.2404, Learning Rate: 1.4780882941434607e-05\n"
          ]
        },
        {
          "name": "stderr",
          "output_type": "stream",
          "text": [
            "Epoch 91/100: 100%|██████████| 152/152 [00:04<00:00, 30.52it/s]\n"
          ]
        },
        {
          "name": "stdout",
          "output_type": "stream",
          "text": [
            "Epoch 91/100, Training Loss: 0.2427, Learning Rate: 1.3302794647291146e-05\n"
          ]
        },
        {
          "name": "stderr",
          "output_type": "stream",
          "text": [
            "Epoch 92/100: 100%|██████████| 152/152 [00:05<00:00, 28.02it/s]\n"
          ]
        },
        {
          "name": "stdout",
          "output_type": "stream",
          "text": [
            "Epoch 92/100, Training Loss: 0.2457, Learning Rate: 1.1972515182562031e-05\n"
          ]
        },
        {
          "name": "stderr",
          "output_type": "stream",
          "text": [
            "Epoch 93/100: 100%|██████████| 152/152 [00:05<00:00, 27.85it/s]\n"
          ]
        },
        {
          "name": "stdout",
          "output_type": "stream",
          "text": [
            "Epoch 93/100, Training Loss: 0.2387, Learning Rate: 1.0775263664305828e-05\n"
          ]
        },
        {
          "name": "stderr",
          "output_type": "stream",
          "text": [
            "Epoch 94/100: 100%|██████████| 152/152 [00:05<00:00, 30.37it/s]\n"
          ]
        },
        {
          "name": "stdout",
          "output_type": "stream",
          "text": [
            "Epoch 94/100, Training Loss: 0.2434, Learning Rate: 9.697737297875246e-06\n"
          ]
        },
        {
          "name": "stderr",
          "output_type": "stream",
          "text": [
            "Epoch 95/100: 100%|██████████| 152/152 [00:05<00:00, 26.09it/s]\n"
          ]
        },
        {
          "name": "stdout",
          "output_type": "stream",
          "text": [
            "Epoch 95/100, Training Loss: 0.2378, Learning Rate: 8.727963568087722e-06\n"
          ]
        },
        {
          "name": "stderr",
          "output_type": "stream",
          "text": [
            "Epoch 96/100: 100%|██████████| 152/152 [00:05<00:00, 30.33it/s]\n"
          ]
        },
        {
          "name": "stdout",
          "output_type": "stream",
          "text": [
            "Epoch 96/100, Training Loss: 0.2425, Learning Rate: 7.85516721127895e-06\n"
          ]
        },
        {
          "name": "stderr",
          "output_type": "stream",
          "text": [
            "Epoch 97/100: 100%|██████████| 152/152 [00:05<00:00, 25.93it/s]\n"
          ]
        },
        {
          "name": "stdout",
          "output_type": "stream",
          "text": [
            "Epoch 97/100, Training Loss: 0.2430, Learning Rate: 7.069650490151056e-06\n"
          ]
        },
        {
          "name": "stderr",
          "output_type": "stream",
          "text": [
            "Epoch 98/100: 100%|██████████| 152/152 [00:05<00:00, 30.28it/s]\n"
          ]
        },
        {
          "name": "stdout",
          "output_type": "stream",
          "text": [
            "Epoch 98/100, Training Loss: 0.2426, Learning Rate: 6.362685441135951e-06\n"
          ]
        },
        {
          "name": "stderr",
          "output_type": "stream",
          "text": [
            "Epoch 99/100: 100%|██████████| 152/152 [00:05<00:00, 26.06it/s]\n"
          ]
        },
        {
          "name": "stdout",
          "output_type": "stream",
          "text": [
            "Epoch 99/100, Training Loss: 0.2414, Learning Rate: 5.7264168970223554e-06\n"
          ]
        },
        {
          "name": "stderr",
          "output_type": "stream",
          "text": [
            "Epoch 100/100: 100%|██████████| 152/152 [00:05<00:00, 30.33it/s]"
          ]
        },
        {
          "name": "stdout",
          "output_type": "stream",
          "text": [
            "Epoch 100/100, Training Loss: 0.2507, Learning Rate: 5.15377520732012e-06\n"
          ]
        },
        {
          "name": "stderr",
          "output_type": "stream",
          "text": [
            "\n"
          ]
        }
      ],
      "source": [
        "# Training Transformer model using static embeddings from the question split training and validation set\n",
        "question_static_transformer_model = TransformerTaggerClassifier(\n",
        "    input_dim=question_static_train_val_dataset.get_vector_dim(),\n",
        "    hidden_dim=256,\n",
        "    num_heads=8,\n",
        "    num_layers=2,\n",
        "    tag_vocab_size=question_static_train_val_dataset.get_tag_vocab_size(),\n",
        "    sql_vocab_size=question_static_train_val_dataset.get_sql_vocab_size()\n",
        ")\n",
        "# Training\n",
        "question_static_trained_transformer_model = train_model(\n",
        "    model=question_static_transformer_model,\n",
        "    train_loader=question_static_train_val_loader,\n",
        "    weight_decay=0.01,\n",
        "    epochs=100,\n",
        "    amsgrad=True,\n",
        "    gamma=0.90,\n",
        "    lr=1e-3,\n",
        "    warmup_epochs=50\n",
        ")"
      ]
    },
    {
      "cell_type": "code",
      "execution_count": 330,
      "metadata": {
        "colab": {
          "base_uri": "https://localhost:8080/"
        },
        "id": "nXK6-ALyjwtv",
        "outputId": "10a614e6-3443-411b-d8f9-55877485dda0"
      },
      "outputs": [
        {
          "name": "stderr",
          "output_type": "stream",
          "text": [
            "Generating SQL queries: 100%|██████████| 14/14 [00:01<00:00, 13.68it/s]"
          ]
        },
        {
          "name": "stdout",
          "output_type": "stream",
          "text": [
            "\n",
            "Accuracy of Transformer model on question split test set: 14.32%\n"
          ]
        },
        {
          "name": "stderr",
          "output_type": "stream",
          "text": [
            "\n"
          ]
        }
      ],
      "source": [
        "# Evaluating Transformer model on the question test set\n",
        "question_static_transformer_sql_pipe = SQLPipeline(dataset=question_static_test_dataset,model=question_static_trained_transformer_model,embed_type=\"static\")\n",
        "question_static_transformer_results, question_static_transformer_acc = question_static_transformer_sql_pipe.batch_predict(dataloader=question_static_test_loader)\n",
        "# question_static_transformer_sql_pipe = SQLPipeline(dataset=question_static_train_val_dataset,model=question_static_trained_transformer_model,embed_type=\"static\")\n",
        "# question_static_transformer_results, question_static_transformer_acc = question_static_transformer_sql_pipe.batch_predict(dataloader=question_static_train_val_loader)\n",
        "print(f\"\\nAccuracy of Transformer model on question split test set: {question_static_transformer_acc:.2%}\")"
      ]
    },
    {
      "cell_type": "code",
      "execution_count": 242,
      "metadata": {
        "id": "1oQYxgSNr-X6"
      },
      "outputs": [],
      "source": [
        "# Getting the examples all models got right for the variable tagging task in the question split test set\n",
        "correct_linear_tagging_examples = [item for item in question_linear_results if item['predicted_tags'] == item['raw_item']['tagging_labels']]\n",
        "correct_ff_tagging_examples = [item for item in question_static_ff_results if item['predicted_tags'] == item['raw_item']['tagging_labels']]\n",
        "correct_lstm_tagging_examples = [item for item in question_static_lstm_results if item['predicted_tags'] == item['raw_item']['tagging_labels']]\n",
        "correct_transformer_tagging_examples = [item for item in question_static_transformer_results if item['predicted_tags'] == item['raw_item']['tagging_labels']]"
      ]
    },
    {
      "cell_type": "code",
      "execution_count": 243,
      "metadata": {
        "id": "KFiOUttZwN1U"
      },
      "outputs": [],
      "source": [
        "# Getting the input text of all correctly tagged queries for all models\n",
        "linear_correct_tagging_queries = {\" \".join(example['tokens']) for example in correct_linear_tagging_examples}\n",
        "ff_correct_tagging_queries = {\" \".join(example['tokens']) for example in correct_ff_tagging_examples}\n",
        "lstm_correct_tagging_queries = {\" \".join(example['tokens']) for example in correct_lstm_tagging_examples}\n",
        "transformer_correct_tagging_queries = {\" \".join(example['tokens']) for example in correct_transformer_tagging_examples}\n",
        "correct_queries = transformer_correct_tagging_queries & lstm_correct_tagging_queries & ff_correct_tagging_queries & linear_correct_tagging_queries"
      ]
    },
    {
      "cell_type": "code",
      "execution_count": 352,
      "metadata": {
        "id": "fG4c5DvoA2LS"
      },
      "outputs": [],
      "source": [
        "# Functions to introduce noise in each query by adding typos, rearraging words\n",
        "import random\n",
        "import re\n",
        "\n",
        "def is_uppercase_word(word):\n",
        "    return word.isupper() or re.fullmatch(r'[A-Z.]+', word)\n",
        "\n",
        "def is_to_from(word):\n",
        "  return re.fullmatch(r'to',word) or re.fullmatch(r'from',word)\n",
        "\n",
        "def typo(word):\n",
        "    if len(word) > 2:\n",
        "        i = random.randint(0, len(word)-2)\n",
        "        return word[:i] + word[i+1] + word[i] + word[i+2:]\n",
        "    return word\n",
        "\n",
        "def delete_char(word):\n",
        "    if len(word) > 1:\n",
        "        i = random.randint(0, len(word)-1)\n",
        "        return word[:i] + word[i+1:]\n",
        "    return word\n",
        "\n",
        "\n",
        "def change_sentence(sentence, change_type):\n",
        "    words = sentence.split()\n",
        "    lowercase_indices = [i for i, w in enumerate(words) if not is_uppercase_word(w)]\n",
        "    if not lowercase_indices:\n",
        "        return sentence\n",
        "\n",
        "    i = random.choice(lowercase_indices)\n",
        "    word = words[i]\n",
        "\n",
        "    # operation = random.choice(['typo', 'delete', 'swap'])\n",
        "    # operation = random.choice(['typo','swap'])\n",
        "    operation = random.choice(change_type)\n",
        "    # operation = random.choice(['swap'])\n",
        "\n",
        "    if operation == 'typo':\n",
        "        words[i] = typo(word)\n",
        "    elif operation == 'delete':\n",
        "        words[i] = delete_char(word)\n",
        "    elif operation == 'swap' and i < len(words) - 1 and not is_uppercase_word(words[i+1]):\n",
        "        words[i], words[i+1] = words[i+1], words[i]\n",
        "\n",
        "    return ' '.join(words)\n",
        "\n",
        "def modify_sentences(sentences, change_type=['typo', 'swap', 'delete']):\n",
        "\n",
        "  return [change_sentence(s, change_type) for s in sentences]\n"
      ]
    },
    {
      "cell_type": "code",
      "execution_count": 353,
      "metadata": {
        "colab": {
          "base_uri": "https://localhost:8080/"
        },
        "id": "OFkKFDL6xQSW",
        "outputId": "7d14a2f7-84b9-42b2-cd0d-21bdb8284e47"
      },
      "outputs": [
        {
          "name": "stdout",
          "output_type": "stream",
          "text": [
            "For i=0:\n",
            "Linear model tagged 48 queries correctly out of 48\n",
            "Linear Accuracy = 100.00%\n",
            "Feedforward model tagged 48 queries correctly out of 48\n",
            "Feedforward Accuracy = 100.00%\n",
            "LSTM model tagged 47 queries correctly out of 48\n",
            "LSTM Accuracy = 97.92%\n",
            "Transformer model tagged 48 queries correctly out of 48\n",
            "Transformer Accuracy = 100.00%\n",
            "**************************************************\n",
            "For i=1:\n",
            "Linear model tagged 48 queries correctly out of 48\n",
            "Linear Accuracy = 100.00%\n",
            "Feedforward model tagged 48 queries correctly out of 48\n",
            "Feedforward Accuracy = 100.00%\n",
            "LSTM model tagged 47 queries correctly out of 48\n",
            "LSTM Accuracy = 97.92%\n",
            "Transformer model tagged 48 queries correctly out of 48\n",
            "Transformer Accuracy = 100.00%\n",
            "**************************************************\n",
            "For i=2:\n",
            "Linear model tagged 48 queries correctly out of 48\n",
            "Linear Accuracy = 100.00%\n",
            "Feedforward model tagged 48 queries correctly out of 48\n",
            "Feedforward Accuracy = 100.00%\n",
            "LSTM model tagged 48 queries correctly out of 48\n",
            "LSTM Accuracy = 100.00%\n",
            "Transformer model tagged 48 queries correctly out of 48\n",
            "Transformer Accuracy = 100.00%\n",
            "**************************************************\n",
            "For i=3:\n",
            "Linear model tagged 48 queries correctly out of 48\n",
            "Linear Accuracy = 100.00%\n",
            "Feedforward model tagged 48 queries correctly out of 48\n",
            "Feedforward Accuracy = 100.00%\n",
            "LSTM model tagged 48 queries correctly out of 48\n",
            "LSTM Accuracy = 100.00%\n",
            "Transformer model tagged 48 queries correctly out of 48\n",
            "Transformer Accuracy = 100.00%\n",
            "**************************************************\n",
            "For i=4:\n",
            "Linear model tagged 48 queries correctly out of 48\n",
            "Linear Accuracy = 100.00%\n",
            "Feedforward model tagged 48 queries correctly out of 48\n",
            "Feedforward Accuracy = 100.00%\n",
            "LSTM model tagged 47 queries correctly out of 48\n",
            "LSTM Accuracy = 97.92%\n",
            "Transformer model tagged 48 queries correctly out of 48\n",
            "Transformer Accuracy = 100.00%\n",
            "**************************************************\n",
            "For i=5:\n",
            "Linear model tagged 48 queries correctly out of 48\n",
            "Linear Accuracy = 100.00%\n",
            "Feedforward model tagged 48 queries correctly out of 48\n",
            "Feedforward Accuracy = 100.00%\n",
            "LSTM model tagged 47 queries correctly out of 48\n",
            "LSTM Accuracy = 97.92%\n",
            "Transformer model tagged 48 queries correctly out of 48\n",
            "Transformer Accuracy = 100.00%\n",
            "**************************************************\n",
            "For i=6:\n",
            "Linear model tagged 48 queries correctly out of 48\n",
            "Linear Accuracy = 100.00%\n",
            "Feedforward model tagged 48 queries correctly out of 48\n",
            "Feedforward Accuracy = 100.00%\n",
            "LSTM model tagged 47 queries correctly out of 48\n",
            "LSTM Accuracy = 97.92%\n",
            "Transformer model tagged 48 queries correctly out of 48\n",
            "Transformer Accuracy = 100.00%\n",
            "**************************************************\n",
            "For i=7:\n",
            "Linear model tagged 48 queries correctly out of 48\n",
            "Linear Accuracy = 100.00%\n",
            "Feedforward model tagged 48 queries correctly out of 48\n",
            "Feedforward Accuracy = 100.00%\n",
            "LSTM model tagged 47 queries correctly out of 48\n",
            "LSTM Accuracy = 97.92%\n",
            "Transformer model tagged 48 queries correctly out of 48\n",
            "Transformer Accuracy = 100.00%\n",
            "**************************************************\n",
            "For i=8:\n",
            "Linear model tagged 48 queries correctly out of 48\n",
            "Linear Accuracy = 100.00%\n",
            "Feedforward model tagged 48 queries correctly out of 48\n",
            "Feedforward Accuracy = 100.00%\n",
            "LSTM model tagged 47 queries correctly out of 48\n",
            "LSTM Accuracy = 97.92%\n",
            "Transformer model tagged 48 queries correctly out of 48\n",
            "Transformer Accuracy = 100.00%\n",
            "**************************************************\n",
            "For i=9:\n",
            "Linear model tagged 48 queries correctly out of 48\n",
            "Linear Accuracy = 100.00%\n",
            "Feedforward model tagged 48 queries correctly out of 48\n",
            "Feedforward Accuracy = 100.00%\n",
            "LSTM model tagged 47 queries correctly out of 48\n",
            "LSTM Accuracy = 97.92%\n",
            "Transformer model tagged 48 queries correctly out of 48\n",
            "Transformer Accuracy = 100.00%\n",
            "**************************************************\n",
            "For i=10:\n",
            "Linear model tagged 48 queries correctly out of 48\n",
            "Linear Accuracy = 100.00%\n",
            "Feedforward model tagged 48 queries correctly out of 48\n",
            "Feedforward Accuracy = 100.00%\n",
            "LSTM model tagged 47 queries correctly out of 48\n",
            "LSTM Accuracy = 97.92%\n",
            "Transformer model tagged 48 queries correctly out of 48\n",
            "Transformer Accuracy = 100.00%\n",
            "**************************************************\n",
            "For i=11:\n",
            "Linear model tagged 48 queries correctly out of 48\n",
            "Linear Accuracy = 100.00%\n",
            "Feedforward model tagged 48 queries correctly out of 48\n",
            "Feedforward Accuracy = 100.00%\n",
            "LSTM model tagged 47 queries correctly out of 48\n",
            "LSTM Accuracy = 97.92%\n",
            "Transformer model tagged 48 queries correctly out of 48\n",
            "Transformer Accuracy = 100.00%\n",
            "**************************************************\n",
            "For i=12:\n",
            "Linear model tagged 48 queries correctly out of 48\n",
            "Linear Accuracy = 100.00%\n",
            "Feedforward model tagged 48 queries correctly out of 48\n",
            "Feedforward Accuracy = 100.00%\n",
            "LSTM model tagged 47 queries correctly out of 48\n",
            "LSTM Accuracy = 97.92%\n",
            "Transformer model tagged 48 queries correctly out of 48\n",
            "Transformer Accuracy = 100.00%\n",
            "**************************************************\n",
            "For i=13:\n",
            "Linear model tagged 48 queries correctly out of 48\n",
            "Linear Accuracy = 100.00%\n",
            "Feedforward model tagged 48 queries correctly out of 48\n",
            "Feedforward Accuracy = 100.00%\n",
            "LSTM model tagged 47 queries correctly out of 48\n",
            "LSTM Accuracy = 97.92%\n",
            "Transformer model tagged 48 queries correctly out of 48\n",
            "Transformer Accuracy = 100.00%\n",
            "**************************************************\n",
            "For i=14:\n",
            "Linear model tagged 48 queries correctly out of 48\n",
            "Linear Accuracy = 100.00%\n",
            "Feedforward model tagged 48 queries correctly out of 48\n",
            "Feedforward Accuracy = 100.00%\n",
            "LSTM model tagged 48 queries correctly out of 48\n",
            "LSTM Accuracy = 100.00%\n",
            "Transformer model tagged 48 queries correctly out of 48\n",
            "Transformer Accuracy = 100.00%\n",
            "**************************************************\n",
            "For i=15:\n",
            "Linear model tagged 48 queries correctly out of 48\n",
            "Linear Accuracy = 100.00%\n",
            "Feedforward model tagged 48 queries correctly out of 48\n",
            "Feedforward Accuracy = 100.00%\n",
            "LSTM model tagged 48 queries correctly out of 48\n",
            "LSTM Accuracy = 100.00%\n",
            "Transformer model tagged 48 queries correctly out of 48\n",
            "Transformer Accuracy = 100.00%\n",
            "**************************************************\n",
            "For i=16:\n",
            "Linear model tagged 48 queries correctly out of 48\n",
            "Linear Accuracy = 100.00%\n",
            "Feedforward model tagged 48 queries correctly out of 48\n",
            "Feedforward Accuracy = 100.00%\n",
            "LSTM model tagged 48 queries correctly out of 48\n",
            "LSTM Accuracy = 100.00%\n",
            "Transformer model tagged 48 queries correctly out of 48\n",
            "Transformer Accuracy = 100.00%\n",
            "**************************************************\n",
            "For i=17:\n",
            "Linear model tagged 48 queries correctly out of 48\n",
            "Linear Accuracy = 100.00%\n",
            "Feedforward model tagged 48 queries correctly out of 48\n",
            "Feedforward Accuracy = 100.00%\n",
            "LSTM model tagged 47 queries correctly out of 48\n",
            "LSTM Accuracy = 97.92%\n",
            "Transformer model tagged 48 queries correctly out of 48\n",
            "Transformer Accuracy = 100.00%\n",
            "**************************************************\n",
            "For i=18:\n",
            "Linear model tagged 48 queries correctly out of 48\n",
            "Linear Accuracy = 100.00%\n",
            "Feedforward model tagged 48 queries correctly out of 48\n",
            "Feedforward Accuracy = 100.00%\n",
            "LSTM model tagged 47 queries correctly out of 48\n",
            "LSTM Accuracy = 97.92%\n",
            "Transformer model tagged 48 queries correctly out of 48\n",
            "Transformer Accuracy = 100.00%\n",
            "**************************************************\n",
            "For i=19:\n",
            "Linear model tagged 48 queries correctly out of 48\n",
            "Linear Accuracy = 100.00%\n",
            "Feedforward model tagged 48 queries correctly out of 48\n",
            "Feedforward Accuracy = 100.00%\n",
            "LSTM model tagged 47 queries correctly out of 48\n",
            "LSTM Accuracy = 97.92%\n",
            "Transformer model tagged 48 queries correctly out of 48\n",
            "Transformer Accuracy = 100.00%\n",
            "**************************************************\n",
            "For i=20:\n",
            "Linear model tagged 48 queries correctly out of 48\n",
            "Linear Accuracy = 100.00%\n",
            "Feedforward model tagged 48 queries correctly out of 48\n",
            "Feedforward Accuracy = 100.00%\n",
            "LSTM model tagged 47 queries correctly out of 48\n",
            "LSTM Accuracy = 97.92%\n",
            "Transformer model tagged 48 queries correctly out of 48\n",
            "Transformer Accuracy = 100.00%\n",
            "**************************************************\n",
            "For i=21:\n",
            "Linear model tagged 48 queries correctly out of 48\n",
            "Linear Accuracy = 100.00%\n",
            "Feedforward model tagged 48 queries correctly out of 48\n",
            "Feedforward Accuracy = 100.00%\n",
            "LSTM model tagged 46 queries correctly out of 48\n",
            "LSTM Accuracy = 95.83%\n",
            "Transformer model tagged 48 queries correctly out of 48\n",
            "Transformer Accuracy = 100.00%\n",
            "**************************************************\n",
            "For i=22:\n",
            "Linear model tagged 48 queries correctly out of 48\n",
            "Linear Accuracy = 100.00%\n",
            "Feedforward model tagged 48 queries correctly out of 48\n",
            "Feedforward Accuracy = 100.00%\n",
            "LSTM model tagged 47 queries correctly out of 48\n",
            "LSTM Accuracy = 97.92%\n",
            "Transformer model tagged 48 queries correctly out of 48\n",
            "Transformer Accuracy = 100.00%\n",
            "**************************************************\n",
            "For i=23:\n",
            "Linear model tagged 48 queries correctly out of 48\n",
            "Linear Accuracy = 100.00%\n",
            "Feedforward model tagged 48 queries correctly out of 48\n",
            "Feedforward Accuracy = 100.00%\n",
            "LSTM model tagged 46 queries correctly out of 48\n",
            "LSTM Accuracy = 95.83%\n",
            "Transformer model tagged 48 queries correctly out of 48\n",
            "Transformer Accuracy = 100.00%\n",
            "**************************************************\n",
            "For i=24:\n",
            "Linear model tagged 48 queries correctly out of 48\n",
            "Linear Accuracy = 100.00%\n",
            "Feedforward model tagged 48 queries correctly out of 48\n",
            "Feedforward Accuracy = 100.00%\n",
            "LSTM model tagged 46 queries correctly out of 48\n",
            "LSTM Accuracy = 95.83%\n",
            "Transformer model tagged 48 queries correctly out of 48\n",
            "Transformer Accuracy = 100.00%\n",
            "**************************************************\n"
          ]
        }
      ],
      "source": [
        "# Addimg noise to inputs by swapping the order words in the sentence and evaluating all models\n",
        "from copy import deepcopy\n",
        "incorrect_queries = deepcopy(correct_queries)\n",
        "change_results = []\n",
        "for i in range(25):\n",
        "  incorrect_queries = modify_sentences(incorrect_queries, change_type=['swap'])\n",
        "  # Evaluating all models on the noisy queries that all of them previously tagged correctly\n",
        "  linear_correct_result = []\n",
        "  linear_incorrect_result = []\n",
        "  ff_correct_result = []\n",
        "  ff_incorrect_result = []\n",
        "  lstm_correct_result = []\n",
        "  lstm_incorrect_result = []\n",
        "  transformer_correct_result = []\n",
        "  transformer_incorrect_result = []\n",
        "  linear_equal = 0\n",
        "  ff_equal = 0\n",
        "  lstm_equal = 0\n",
        "  transformer_equal = 0\n",
        "  tag_result = []\n",
        "  for correct_query, incorrect_query in zip(correct_queries, incorrect_queries):\n",
        "    result_item = {\"correct_query\":correct_query, \"incorrect_query\":incorrect_query, \"linear\":0, \"ff\":0, \"lstm\":0, \"transformer\":0}\n",
        "    lin_correct_predict = question_linear_sql_pipe.predict(correct_query)\n",
        "    lin_incorrect_predict = question_linear_sql_pipe.predict(incorrect_query)\n",
        "    if(lin_correct_predict[\"predicted_tags\"] == lin_incorrect_predict[\"predicted_tags\"]):\n",
        "      linear_equal += 1\n",
        "      linear_correct_result.append((correct_query, incorrect_query))\n",
        "      result_item[\"linear\"] = 1\n",
        "    else:\n",
        "      linear_incorrect_result.append((correct_query, incorrect_query))\n",
        "\n",
        "    ff_correct_predict = question_static_ff_sql_pipe.predict(correct_query)\n",
        "    ff_incorrect_predict = question_static_ff_sql_pipe.predict(incorrect_query)\n",
        "    if(ff_correct_predict[\"predicted_tags\"] == ff_incorrect_predict[\"predicted_tags\"]):\n",
        "      ff_equal += 1\n",
        "      ff_correct_result.append((correct_query, incorrect_query))\n",
        "      result_item[\"ff\"] = 1\n",
        "    else:\n",
        "\n",
        "      ff_incorrect_result.append((correct_query, incorrect_query))\n",
        "\n",
        "    lstm_correct_predict = question_static_lstm_sql_pipe.predict(correct_query)\n",
        "    lstm_incorrect_predict = question_static_lstm_sql_pipe.predict(incorrect_query)\n",
        "    if(lstm_correct_predict[\"predicted_tags\"] == lstm_incorrect_predict[\"predicted_tags\"]):\n",
        "      lstm_equal += 1\n",
        "      lstm_correct_result.append((correct_query, incorrect_query))\n",
        "      result_item[\"lstm\"] = 1\n",
        "    else:\n",
        "      lstm_incorrect_result.append((correct_query, incorrect_query))\n",
        "\n",
        "    transformer_correct_predict = question_static_transformer_sql_pipe.predict(correct_query)\n",
        "    transformer_incorrect_predict = question_static_transformer_sql_pipe.predict(incorrect_query)\n",
        "    if(transformer_correct_predict[\"predicted_tags\"] == transformer_incorrect_predict[\"predicted_tags\"]):\n",
        "      transformer_equal += 1\n",
        "      transformer_correct_result.append((correct_query, incorrect_query))\n",
        "      result_item[\"transformer\"] = 1\n",
        "    else:\n",
        "      transformer_incorrect_result.append((correct_query, incorrect_query))\n",
        "    tag_result.append(result_item)\n",
        "  print(f\"For {i=}:\")\n",
        "  print(f\"Linear model tagged {linear_equal} queries correctly out of {len(correct_queries)}\")\n",
        "  print(f\"Linear Accuracy = {linear_equal/len(correct_queries):.2%}\")\n",
        "  print(f\"Feedforward model tagged {ff_equal} queries correctly out of {len(correct_queries)}\")\n",
        "  print(f\"Feedforward Accuracy = {ff_equal/len(correct_queries):.2%}\")\n",
        "  print(f\"LSTM model tagged {lstm_equal} queries correctly out of {len(correct_queries)}\")\n",
        "  print(f\"LSTM Accuracy = {lstm_equal/len(correct_queries):.2%}\")\n",
        "  print(f\"Transformer model tagged {transformer_equal} queries correctly out of {len(correct_queries)}\")\n",
        "  print(f\"Transformer Accuracy = {transformer_equal/len(correct_queries):.2%}\")\n",
        "  print(\"*\"*50)\n",
        "  change_results.append({\"changes\":i+1,\"linear\":linear_equal/len(correct_queries)*100, \"ff\":ff_equal/len(correct_queries)*100, \"lstm\":lstm_equal/len(correct_queries)*100, \"transformer\":transformer_equal/len(correct_queries)*100})\n"
      ]
    },
    {
      "cell_type": "code",
      "execution_count": 354,
      "metadata": {
        "colab": {
          "base_uri": "https://localhost:8080/",
          "height": 833
        },
        "id": "5RF739Pml0b2",
        "outputId": "fb918956-bcbc-4b7b-8eea-e2cf91666417"
      },
      "outputs": [
        {
          "data": {
            "application/vnd.google.colaboratory.intrinsic+json": {
              "summary": "{\n  \"name\": \"order_changes_df\",\n  \"rows\": 25,\n  \"fields\": [\n    {\n      \"column\": \"changes\",\n      \"properties\": {\n        \"dtype\": \"number\",\n        \"std\": 7,\n        \"min\": 1,\n        \"max\": 25,\n        \"num_unique_values\": 25,\n        \"samples\": [\n          9,\n          17,\n          1\n        ],\n        \"semantic_type\": \"\",\n        \"description\": \"\"\n      }\n    },\n    {\n      \"column\": \"linear\",\n      \"properties\": {\n        \"dtype\": \"number\",\n        \"std\": 0.0,\n        \"min\": 100.0,\n        \"max\": 100.0,\n        \"num_unique_values\": 1,\n        \"samples\": [\n          100.0\n        ],\n        \"semantic_type\": \"\",\n        \"description\": \"\"\n      }\n    },\n    {\n      \"column\": \"ff\",\n      \"properties\": {\n        \"dtype\": \"number\",\n        \"std\": 0.0,\n        \"min\": 100.0,\n        \"max\": 100.0,\n        \"num_unique_values\": 1,\n        \"samples\": [\n          100.0\n        ],\n        \"semantic_type\": \"\",\n        \"description\": \"\"\n      }\n    },\n    {\n      \"column\": \"lstm\",\n      \"properties\": {\n        \"dtype\": \"number\",\n        \"std\": 1.1907241805195992,\n        \"min\": 95.83333333333334,\n        \"max\": 100.0,\n        \"num_unique_values\": 3,\n        \"samples\": [\n          97.91666666666666\n        ],\n        \"semantic_type\": \"\",\n        \"description\": \"\"\n      }\n    },\n    {\n      \"column\": \"transformer\",\n      \"properties\": {\n        \"dtype\": \"number\",\n        \"std\": 0.0,\n        \"min\": 100.0,\n        \"max\": 100.0,\n        \"num_unique_values\": 1,\n        \"samples\": [\n          100.0\n        ],\n        \"semantic_type\": \"\",\n        \"description\": \"\"\n      }\n    }\n  ]\n}",
              "type": "dataframe",
              "variable_name": "order_changes_df"
            },
            "text/html": [
              "\n",
              "  <div id=\"df-07f5768c-1b3b-4ea6-b26b-72370fac72ef\" class=\"colab-df-container\">\n",
              "    <div>\n",
              "<style scoped>\n",
              "    .dataframe tbody tr th:only-of-type {\n",
              "        vertical-align: middle;\n",
              "    }\n",
              "\n",
              "    .dataframe tbody tr th {\n",
              "        vertical-align: top;\n",
              "    }\n",
              "\n",
              "    .dataframe thead th {\n",
              "        text-align: right;\n",
              "    }\n",
              "</style>\n",
              "<table border=\"1\" class=\"dataframe\">\n",
              "  <thead>\n",
              "    <tr style=\"text-align: right;\">\n",
              "      <th></th>\n",
              "      <th>changes</th>\n",
              "      <th>linear</th>\n",
              "      <th>ff</th>\n",
              "      <th>lstm</th>\n",
              "      <th>transformer</th>\n",
              "    </tr>\n",
              "  </thead>\n",
              "  <tbody>\n",
              "    <tr>\n",
              "      <th>0</th>\n",
              "      <td>1</td>\n",
              "      <td>100.0</td>\n",
              "      <td>100.0</td>\n",
              "      <td>97.916667</td>\n",
              "      <td>100.0</td>\n",
              "    </tr>\n",
              "    <tr>\n",
              "      <th>1</th>\n",
              "      <td>2</td>\n",
              "      <td>100.0</td>\n",
              "      <td>100.0</td>\n",
              "      <td>97.916667</td>\n",
              "      <td>100.0</td>\n",
              "    </tr>\n",
              "    <tr>\n",
              "      <th>2</th>\n",
              "      <td>3</td>\n",
              "      <td>100.0</td>\n",
              "      <td>100.0</td>\n",
              "      <td>100.000000</td>\n",
              "      <td>100.0</td>\n",
              "    </tr>\n",
              "    <tr>\n",
              "      <th>3</th>\n",
              "      <td>4</td>\n",
              "      <td>100.0</td>\n",
              "      <td>100.0</td>\n",
              "      <td>100.000000</td>\n",
              "      <td>100.0</td>\n",
              "    </tr>\n",
              "    <tr>\n",
              "      <th>4</th>\n",
              "      <td>5</td>\n",
              "      <td>100.0</td>\n",
              "      <td>100.0</td>\n",
              "      <td>97.916667</td>\n",
              "      <td>100.0</td>\n",
              "    </tr>\n",
              "    <tr>\n",
              "      <th>5</th>\n",
              "      <td>6</td>\n",
              "      <td>100.0</td>\n",
              "      <td>100.0</td>\n",
              "      <td>97.916667</td>\n",
              "      <td>100.0</td>\n",
              "    </tr>\n",
              "    <tr>\n",
              "      <th>6</th>\n",
              "      <td>7</td>\n",
              "      <td>100.0</td>\n",
              "      <td>100.0</td>\n",
              "      <td>97.916667</td>\n",
              "      <td>100.0</td>\n",
              "    </tr>\n",
              "    <tr>\n",
              "      <th>7</th>\n",
              "      <td>8</td>\n",
              "      <td>100.0</td>\n",
              "      <td>100.0</td>\n",
              "      <td>97.916667</td>\n",
              "      <td>100.0</td>\n",
              "    </tr>\n",
              "    <tr>\n",
              "      <th>8</th>\n",
              "      <td>9</td>\n",
              "      <td>100.0</td>\n",
              "      <td>100.0</td>\n",
              "      <td>97.916667</td>\n",
              "      <td>100.0</td>\n",
              "    </tr>\n",
              "    <tr>\n",
              "      <th>9</th>\n",
              "      <td>10</td>\n",
              "      <td>100.0</td>\n",
              "      <td>100.0</td>\n",
              "      <td>97.916667</td>\n",
              "      <td>100.0</td>\n",
              "    </tr>\n",
              "    <tr>\n",
              "      <th>10</th>\n",
              "      <td>11</td>\n",
              "      <td>100.0</td>\n",
              "      <td>100.0</td>\n",
              "      <td>97.916667</td>\n",
              "      <td>100.0</td>\n",
              "    </tr>\n",
              "    <tr>\n",
              "      <th>11</th>\n",
              "      <td>12</td>\n",
              "      <td>100.0</td>\n",
              "      <td>100.0</td>\n",
              "      <td>97.916667</td>\n",
              "      <td>100.0</td>\n",
              "    </tr>\n",
              "    <tr>\n",
              "      <th>12</th>\n",
              "      <td>13</td>\n",
              "      <td>100.0</td>\n",
              "      <td>100.0</td>\n",
              "      <td>97.916667</td>\n",
              "      <td>100.0</td>\n",
              "    </tr>\n",
              "    <tr>\n",
              "      <th>13</th>\n",
              "      <td>14</td>\n",
              "      <td>100.0</td>\n",
              "      <td>100.0</td>\n",
              "      <td>97.916667</td>\n",
              "      <td>100.0</td>\n",
              "    </tr>\n",
              "    <tr>\n",
              "      <th>14</th>\n",
              "      <td>15</td>\n",
              "      <td>100.0</td>\n",
              "      <td>100.0</td>\n",
              "      <td>100.000000</td>\n",
              "      <td>100.0</td>\n",
              "    </tr>\n",
              "    <tr>\n",
              "      <th>15</th>\n",
              "      <td>16</td>\n",
              "      <td>100.0</td>\n",
              "      <td>100.0</td>\n",
              "      <td>100.000000</td>\n",
              "      <td>100.0</td>\n",
              "    </tr>\n",
              "    <tr>\n",
              "      <th>16</th>\n",
              "      <td>17</td>\n",
              "      <td>100.0</td>\n",
              "      <td>100.0</td>\n",
              "      <td>100.000000</td>\n",
              "      <td>100.0</td>\n",
              "    </tr>\n",
              "    <tr>\n",
              "      <th>17</th>\n",
              "      <td>18</td>\n",
              "      <td>100.0</td>\n",
              "      <td>100.0</td>\n",
              "      <td>97.916667</td>\n",
              "      <td>100.0</td>\n",
              "    </tr>\n",
              "    <tr>\n",
              "      <th>18</th>\n",
              "      <td>19</td>\n",
              "      <td>100.0</td>\n",
              "      <td>100.0</td>\n",
              "      <td>97.916667</td>\n",
              "      <td>100.0</td>\n",
              "    </tr>\n",
              "    <tr>\n",
              "      <th>19</th>\n",
              "      <td>20</td>\n",
              "      <td>100.0</td>\n",
              "      <td>100.0</td>\n",
              "      <td>97.916667</td>\n",
              "      <td>100.0</td>\n",
              "    </tr>\n",
              "    <tr>\n",
              "      <th>20</th>\n",
              "      <td>21</td>\n",
              "      <td>100.0</td>\n",
              "      <td>100.0</td>\n",
              "      <td>97.916667</td>\n",
              "      <td>100.0</td>\n",
              "    </tr>\n",
              "    <tr>\n",
              "      <th>21</th>\n",
              "      <td>22</td>\n",
              "      <td>100.0</td>\n",
              "      <td>100.0</td>\n",
              "      <td>95.833333</td>\n",
              "      <td>100.0</td>\n",
              "    </tr>\n",
              "    <tr>\n",
              "      <th>22</th>\n",
              "      <td>23</td>\n",
              "      <td>100.0</td>\n",
              "      <td>100.0</td>\n",
              "      <td>97.916667</td>\n",
              "      <td>100.0</td>\n",
              "    </tr>\n",
              "    <tr>\n",
              "      <th>23</th>\n",
              "      <td>24</td>\n",
              "      <td>100.0</td>\n",
              "      <td>100.0</td>\n",
              "      <td>95.833333</td>\n",
              "      <td>100.0</td>\n",
              "    </tr>\n",
              "    <tr>\n",
              "      <th>24</th>\n",
              "      <td>25</td>\n",
              "      <td>100.0</td>\n",
              "      <td>100.0</td>\n",
              "      <td>95.833333</td>\n",
              "      <td>100.0</td>\n",
              "    </tr>\n",
              "  </tbody>\n",
              "</table>\n",
              "</div>\n",
              "    <div class=\"colab-df-buttons\">\n",
              "\n",
              "  <div class=\"colab-df-container\">\n",
              "    <button class=\"colab-df-convert\" onclick=\"convertToInteractive('df-07f5768c-1b3b-4ea6-b26b-72370fac72ef')\"\n",
              "            title=\"Convert this dataframe to an interactive table.\"\n",
              "            style=\"display:none;\">\n",
              "\n",
              "  <svg xmlns=\"http://www.w3.org/2000/svg\" height=\"24px\" viewBox=\"0 -960 960 960\">\n",
              "    <path d=\"M120-120v-720h720v720H120Zm60-500h600v-160H180v160Zm220 220h160v-160H400v160Zm0 220h160v-160H400v160ZM180-400h160v-160H180v160Zm440 0h160v-160H620v160ZM180-180h160v-160H180v160Zm440 0h160v-160H620v160Z\"/>\n",
              "  </svg>\n",
              "    </button>\n",
              "\n",
              "  <style>\n",
              "    .colab-df-container {\n",
              "      display:flex;\n",
              "      gap: 12px;\n",
              "    }\n",
              "\n",
              "    .colab-df-convert {\n",
              "      background-color: #E8F0FE;\n",
              "      border: none;\n",
              "      border-radius: 50%;\n",
              "      cursor: pointer;\n",
              "      display: none;\n",
              "      fill: #1967D2;\n",
              "      height: 32px;\n",
              "      padding: 0 0 0 0;\n",
              "      width: 32px;\n",
              "    }\n",
              "\n",
              "    .colab-df-convert:hover {\n",
              "      background-color: #E2EBFA;\n",
              "      box-shadow: 0px 1px 2px rgba(60, 64, 67, 0.3), 0px 1px 3px 1px rgba(60, 64, 67, 0.15);\n",
              "      fill: #174EA6;\n",
              "    }\n",
              "\n",
              "    .colab-df-buttons div {\n",
              "      margin-bottom: 4px;\n",
              "    }\n",
              "\n",
              "    [theme=dark] .colab-df-convert {\n",
              "      background-color: #3B4455;\n",
              "      fill: #D2E3FC;\n",
              "    }\n",
              "\n",
              "    [theme=dark] .colab-df-convert:hover {\n",
              "      background-color: #434B5C;\n",
              "      box-shadow: 0px 1px 3px 1px rgba(0, 0, 0, 0.15);\n",
              "      filter: drop-shadow(0px 1px 2px rgba(0, 0, 0, 0.3));\n",
              "      fill: #FFFFFF;\n",
              "    }\n",
              "  </style>\n",
              "\n",
              "    <script>\n",
              "      const buttonEl =\n",
              "        document.querySelector('#df-07f5768c-1b3b-4ea6-b26b-72370fac72ef button.colab-df-convert');\n",
              "      buttonEl.style.display =\n",
              "        google.colab.kernel.accessAllowed ? 'block' : 'none';\n",
              "\n",
              "      async function convertToInteractive(key) {\n",
              "        const element = document.querySelector('#df-07f5768c-1b3b-4ea6-b26b-72370fac72ef');\n",
              "        const dataTable =\n",
              "          await google.colab.kernel.invokeFunction('convertToInteractive',\n",
              "                                                    [key], {});\n",
              "        if (!dataTable) return;\n",
              "\n",
              "        const docLinkHtml = 'Like what you see? Visit the ' +\n",
              "          '<a target=\"_blank\" href=https://colab.research.google.com/notebooks/data_table.ipynb>data table notebook</a>'\n",
              "          + ' to learn more about interactive tables.';\n",
              "        element.innerHTML = '';\n",
              "        dataTable['output_type'] = 'display_data';\n",
              "        await google.colab.output.renderOutput(dataTable, element);\n",
              "        const docLink = document.createElement('div');\n",
              "        docLink.innerHTML = docLinkHtml;\n",
              "        element.appendChild(docLink);\n",
              "      }\n",
              "    </script>\n",
              "  </div>\n",
              "\n",
              "\n",
              "    <div id=\"df-d00dbb41-d99e-4992-b9bd-361e45d72986\">\n",
              "      <button class=\"colab-df-quickchart\" onclick=\"quickchart('df-d00dbb41-d99e-4992-b9bd-361e45d72986')\"\n",
              "                title=\"Suggest charts\"\n",
              "                style=\"display:none;\">\n",
              "\n",
              "<svg xmlns=\"http://www.w3.org/2000/svg\" height=\"24px\"viewBox=\"0 0 24 24\"\n",
              "     width=\"24px\">\n",
              "    <g>\n",
              "        <path d=\"M19 3H5c-1.1 0-2 .9-2 2v14c0 1.1.9 2 2 2h14c1.1 0 2-.9 2-2V5c0-1.1-.9-2-2-2zM9 17H7v-7h2v7zm4 0h-2V7h2v10zm4 0h-2v-4h2v4z\"/>\n",
              "    </g>\n",
              "</svg>\n",
              "      </button>\n",
              "\n",
              "<style>\n",
              "  .colab-df-quickchart {\n",
              "      --bg-color: #E8F0FE;\n",
              "      --fill-color: #1967D2;\n",
              "      --hover-bg-color: #E2EBFA;\n",
              "      --hover-fill-color: #174EA6;\n",
              "      --disabled-fill-color: #AAA;\n",
              "      --disabled-bg-color: #DDD;\n",
              "  }\n",
              "\n",
              "  [theme=dark] .colab-df-quickchart {\n",
              "      --bg-color: #3B4455;\n",
              "      --fill-color: #D2E3FC;\n",
              "      --hover-bg-color: #434B5C;\n",
              "      --hover-fill-color: #FFFFFF;\n",
              "      --disabled-bg-color: #3B4455;\n",
              "      --disabled-fill-color: #666;\n",
              "  }\n",
              "\n",
              "  .colab-df-quickchart {\n",
              "    background-color: var(--bg-color);\n",
              "    border: none;\n",
              "    border-radius: 50%;\n",
              "    cursor: pointer;\n",
              "    display: none;\n",
              "    fill: var(--fill-color);\n",
              "    height: 32px;\n",
              "    padding: 0;\n",
              "    width: 32px;\n",
              "  }\n",
              "\n",
              "  .colab-df-quickchart:hover {\n",
              "    background-color: var(--hover-bg-color);\n",
              "    box-shadow: 0 1px 2px rgba(60, 64, 67, 0.3), 0 1px 3px 1px rgba(60, 64, 67, 0.15);\n",
              "    fill: var(--button-hover-fill-color);\n",
              "  }\n",
              "\n",
              "  .colab-df-quickchart-complete:disabled,\n",
              "  .colab-df-quickchart-complete:disabled:hover {\n",
              "    background-color: var(--disabled-bg-color);\n",
              "    fill: var(--disabled-fill-color);\n",
              "    box-shadow: none;\n",
              "  }\n",
              "\n",
              "  .colab-df-spinner {\n",
              "    border: 2px solid var(--fill-color);\n",
              "    border-color: transparent;\n",
              "    border-bottom-color: var(--fill-color);\n",
              "    animation:\n",
              "      spin 1s steps(1) infinite;\n",
              "  }\n",
              "\n",
              "  @keyframes spin {\n",
              "    0% {\n",
              "      border-color: transparent;\n",
              "      border-bottom-color: var(--fill-color);\n",
              "      border-left-color: var(--fill-color);\n",
              "    }\n",
              "    20% {\n",
              "      border-color: transparent;\n",
              "      border-left-color: var(--fill-color);\n",
              "      border-top-color: var(--fill-color);\n",
              "    }\n",
              "    30% {\n",
              "      border-color: transparent;\n",
              "      border-left-color: var(--fill-color);\n",
              "      border-top-color: var(--fill-color);\n",
              "      border-right-color: var(--fill-color);\n",
              "    }\n",
              "    40% {\n",
              "      border-color: transparent;\n",
              "      border-right-color: var(--fill-color);\n",
              "      border-top-color: var(--fill-color);\n",
              "    }\n",
              "    60% {\n",
              "      border-color: transparent;\n",
              "      border-right-color: var(--fill-color);\n",
              "    }\n",
              "    80% {\n",
              "      border-color: transparent;\n",
              "      border-right-color: var(--fill-color);\n",
              "      border-bottom-color: var(--fill-color);\n",
              "    }\n",
              "    90% {\n",
              "      border-color: transparent;\n",
              "      border-bottom-color: var(--fill-color);\n",
              "    }\n",
              "  }\n",
              "</style>\n",
              "\n",
              "      <script>\n",
              "        async function quickchart(key) {\n",
              "          const quickchartButtonEl =\n",
              "            document.querySelector('#' + key + ' button');\n",
              "          quickchartButtonEl.disabled = true;  // To prevent multiple clicks.\n",
              "          quickchartButtonEl.classList.add('colab-df-spinner');\n",
              "          try {\n",
              "            const charts = await google.colab.kernel.invokeFunction(\n",
              "                'suggestCharts', [key], {});\n",
              "          } catch (error) {\n",
              "            console.error('Error during call to suggestCharts:', error);\n",
              "          }\n",
              "          quickchartButtonEl.classList.remove('colab-df-spinner');\n",
              "          quickchartButtonEl.classList.add('colab-df-quickchart-complete');\n",
              "        }\n",
              "        (() => {\n",
              "          let quickchartButtonEl =\n",
              "            document.querySelector('#df-d00dbb41-d99e-4992-b9bd-361e45d72986 button');\n",
              "          quickchartButtonEl.style.display =\n",
              "            google.colab.kernel.accessAllowed ? 'block' : 'none';\n",
              "        })();\n",
              "      </script>\n",
              "    </div>\n",
              "\n",
              "  <div id=\"id_e367e556-0b32-49cd-b8a8-19ffd3a7e6b5\">\n",
              "    <style>\n",
              "      .colab-df-generate {\n",
              "        background-color: #E8F0FE;\n",
              "        border: none;\n",
              "        border-radius: 50%;\n",
              "        cursor: pointer;\n",
              "        display: none;\n",
              "        fill: #1967D2;\n",
              "        height: 32px;\n",
              "        padding: 0 0 0 0;\n",
              "        width: 32px;\n",
              "      }\n",
              "\n",
              "      .colab-df-generate:hover {\n",
              "        background-color: #E2EBFA;\n",
              "        box-shadow: 0px 1px 2px rgba(60, 64, 67, 0.3), 0px 1px 3px 1px rgba(60, 64, 67, 0.15);\n",
              "        fill: #174EA6;\n",
              "      }\n",
              "\n",
              "      [theme=dark] .colab-df-generate {\n",
              "        background-color: #3B4455;\n",
              "        fill: #D2E3FC;\n",
              "      }\n",
              "\n",
              "      [theme=dark] .colab-df-generate:hover {\n",
              "        background-color: #434B5C;\n",
              "        box-shadow: 0px 1px 3px 1px rgba(0, 0, 0, 0.15);\n",
              "        filter: drop-shadow(0px 1px 2px rgba(0, 0, 0, 0.3));\n",
              "        fill: #FFFFFF;\n",
              "      }\n",
              "    </style>\n",
              "    <button class=\"colab-df-generate\" onclick=\"generateWithVariable('order_changes_df')\"\n",
              "            title=\"Generate code using this dataframe.\"\n",
              "            style=\"display:none;\">\n",
              "\n",
              "  <svg xmlns=\"http://www.w3.org/2000/svg\" height=\"24px\"viewBox=\"0 0 24 24\"\n",
              "       width=\"24px\">\n",
              "    <path d=\"M7,19H8.4L18.45,9,17,7.55,7,17.6ZM5,21V16.75L18.45,3.32a2,2,0,0,1,2.83,0l1.4,1.43a1.91,1.91,0,0,1,.58,1.4,1.91,1.91,0,0,1-.58,1.4L9.25,21ZM18.45,9,17,7.55Zm-12,3A5.31,5.31,0,0,0,4.9,8.1,5.31,5.31,0,0,0,1,6.5,5.31,5.31,0,0,0,4.9,4.9,5.31,5.31,0,0,0,6.5,1,5.31,5.31,0,0,0,8.1,4.9,5.31,5.31,0,0,0,12,6.5,5.46,5.46,0,0,0,6.5,12Z\"/>\n",
              "  </svg>\n",
              "    </button>\n",
              "    <script>\n",
              "      (() => {\n",
              "      const buttonEl =\n",
              "        document.querySelector('#id_e367e556-0b32-49cd-b8a8-19ffd3a7e6b5 button.colab-df-generate');\n",
              "      buttonEl.style.display =\n",
              "        google.colab.kernel.accessAllowed ? 'block' : 'none';\n",
              "\n",
              "      buttonEl.onclick = () => {\n",
              "        google.colab.notebook.generateWithVariable('order_changes_df');\n",
              "      }\n",
              "      })();\n",
              "    </script>\n",
              "  </div>\n",
              "\n",
              "    </div>\n",
              "  </div>\n"
            ],
            "text/plain": [
              "    changes  linear     ff        lstm  transformer\n",
              "0         1   100.0  100.0   97.916667        100.0\n",
              "1         2   100.0  100.0   97.916667        100.0\n",
              "2         3   100.0  100.0  100.000000        100.0\n",
              "3         4   100.0  100.0  100.000000        100.0\n",
              "4         5   100.0  100.0   97.916667        100.0\n",
              "5         6   100.0  100.0   97.916667        100.0\n",
              "6         7   100.0  100.0   97.916667        100.0\n",
              "7         8   100.0  100.0   97.916667        100.0\n",
              "8         9   100.0  100.0   97.916667        100.0\n",
              "9        10   100.0  100.0   97.916667        100.0\n",
              "10       11   100.0  100.0   97.916667        100.0\n",
              "11       12   100.0  100.0   97.916667        100.0\n",
              "12       13   100.0  100.0   97.916667        100.0\n",
              "13       14   100.0  100.0   97.916667        100.0\n",
              "14       15   100.0  100.0  100.000000        100.0\n",
              "15       16   100.0  100.0  100.000000        100.0\n",
              "16       17   100.0  100.0  100.000000        100.0\n",
              "17       18   100.0  100.0   97.916667        100.0\n",
              "18       19   100.0  100.0   97.916667        100.0\n",
              "19       20   100.0  100.0   97.916667        100.0\n",
              "20       21   100.0  100.0   97.916667        100.0\n",
              "21       22   100.0  100.0   95.833333        100.0\n",
              "22       23   100.0  100.0   97.916667        100.0\n",
              "23       24   100.0  100.0   95.833333        100.0\n",
              "24       25   100.0  100.0   95.833333        100.0"
            ]
          },
          "execution_count": 354,
          "metadata": {},
          "output_type": "execute_result"
        }
      ],
      "source": [
        "import pandas as pd\n",
        "order_changes_df = pd.DataFrame(change_results)\n",
        "order_changes_df"
      ]
    },
    {
      "cell_type": "code",
      "execution_count": 355,
      "metadata": {
        "colab": {
          "base_uri": "https://localhost:8080/"
        },
        "id": "lZr5fbsj50St",
        "outputId": "1967aa0a-adc6-430e-8a3f-df1947b6184f"
      },
      "outputs": [
        {
          "name": "stdout",
          "output_type": "stream",
          "text": [
            "For i=0:\n",
            "Linear model tagged 21 queries correctly out of 48\n",
            "Linear Accuracy = 43.75%\n",
            "Feedforward model tagged 22 queries correctly out of 48\n",
            "Feedforward Accuracy = 45.83%\n",
            "LSTM model tagged 42 queries correctly out of 48\n",
            "LSTM Accuracy = 87.50%\n",
            "Transformer model tagged 36 queries correctly out of 48\n",
            "Transformer Accuracy = 75.00%\n",
            "**************************************************\n",
            "For i=1:\n",
            "Linear model tagged 11 queries correctly out of 48\n",
            "Linear Accuracy = 22.92%\n",
            "Feedforward model tagged 13 queries correctly out of 48\n",
            "Feedforward Accuracy = 27.08%\n",
            "LSTM model tagged 39 queries correctly out of 48\n",
            "LSTM Accuracy = 81.25%\n",
            "Transformer model tagged 32 queries correctly out of 48\n",
            "Transformer Accuracy = 66.67%\n",
            "**************************************************\n",
            "For i=2:\n",
            "Linear model tagged 6 queries correctly out of 48\n",
            "Linear Accuracy = 12.50%\n",
            "Feedforward model tagged 10 queries correctly out of 48\n",
            "Feedforward Accuracy = 20.83%\n",
            "LSTM model tagged 39 queries correctly out of 48\n",
            "LSTM Accuracy = 81.25%\n",
            "Transformer model tagged 30 queries correctly out of 48\n",
            "Transformer Accuracy = 62.50%\n",
            "**************************************************\n",
            "For i=3:\n",
            "Linear model tagged 5 queries correctly out of 48\n",
            "Linear Accuracy = 10.42%\n",
            "Feedforward model tagged 6 queries correctly out of 48\n",
            "Feedforward Accuracy = 12.50%\n",
            "LSTM model tagged 33 queries correctly out of 48\n",
            "LSTM Accuracy = 68.75%\n",
            "Transformer model tagged 30 queries correctly out of 48\n",
            "Transformer Accuracy = 62.50%\n",
            "**************************************************\n",
            "For i=4:\n",
            "Linear model tagged 1 queries correctly out of 48\n",
            "Linear Accuracy = 2.08%\n",
            "Feedforward model tagged 3 queries correctly out of 48\n",
            "Feedforward Accuracy = 6.25%\n",
            "LSTM model tagged 32 queries correctly out of 48\n",
            "LSTM Accuracy = 66.67%\n",
            "Transformer model tagged 24 queries correctly out of 48\n",
            "Transformer Accuracy = 50.00%\n",
            "**************************************************\n",
            "For i=5:\n",
            "Linear model tagged 1 queries correctly out of 48\n",
            "Linear Accuracy = 2.08%\n",
            "Feedforward model tagged 1 queries correctly out of 48\n",
            "Feedforward Accuracy = 2.08%\n",
            "LSTM model tagged 32 queries correctly out of 48\n",
            "LSTM Accuracy = 66.67%\n",
            "Transformer model tagged 27 queries correctly out of 48\n",
            "Transformer Accuracy = 56.25%\n",
            "**************************************************\n",
            "For i=6:\n",
            "Linear model tagged 1 queries correctly out of 48\n",
            "Linear Accuracy = 2.08%\n",
            "Feedforward model tagged 1 queries correctly out of 48\n",
            "Feedforward Accuracy = 2.08%\n",
            "LSTM model tagged 32 queries correctly out of 48\n",
            "LSTM Accuracy = 66.67%\n",
            "Transformer model tagged 27 queries correctly out of 48\n",
            "Transformer Accuracy = 56.25%\n",
            "**************************************************\n",
            "For i=7:\n",
            "Linear model tagged 0 queries correctly out of 48\n",
            "Linear Accuracy = 0.00%\n",
            "Feedforward model tagged 1 queries correctly out of 48\n",
            "Feedforward Accuracy = 2.08%\n",
            "LSTM model tagged 31 queries correctly out of 48\n",
            "LSTM Accuracy = 64.58%\n",
            "Transformer model tagged 26 queries correctly out of 48\n",
            "Transformer Accuracy = 54.17%\n",
            "**************************************************\n",
            "For i=8:\n",
            "Linear model tagged 1 queries correctly out of 48\n",
            "Linear Accuracy = 2.08%\n",
            "Feedforward model tagged 2 queries correctly out of 48\n",
            "Feedforward Accuracy = 4.17%\n",
            "LSTM model tagged 34 queries correctly out of 48\n",
            "LSTM Accuracy = 70.83%\n",
            "Transformer model tagged 26 queries correctly out of 48\n",
            "Transformer Accuracy = 54.17%\n",
            "**************************************************\n",
            "For i=9:\n",
            "Linear model tagged 1 queries correctly out of 48\n",
            "Linear Accuracy = 2.08%\n",
            "Feedforward model tagged 2 queries correctly out of 48\n",
            "Feedforward Accuracy = 4.17%\n",
            "LSTM model tagged 32 queries correctly out of 48\n",
            "LSTM Accuracy = 66.67%\n",
            "Transformer model tagged 23 queries correctly out of 48\n",
            "Transformer Accuracy = 47.92%\n",
            "**************************************************\n",
            "For i=10:\n",
            "Linear model tagged 1 queries correctly out of 48\n",
            "Linear Accuracy = 2.08%\n",
            "Feedforward model tagged 3 queries correctly out of 48\n",
            "Feedforward Accuracy = 6.25%\n",
            "LSTM model tagged 33 queries correctly out of 48\n",
            "LSTM Accuracy = 68.75%\n",
            "Transformer model tagged 24 queries correctly out of 48\n",
            "Transformer Accuracy = 50.00%\n",
            "**************************************************\n",
            "For i=11:\n",
            "Linear model tagged 1 queries correctly out of 48\n",
            "Linear Accuracy = 2.08%\n",
            "Feedforward model tagged 2 queries correctly out of 48\n",
            "Feedforward Accuracy = 4.17%\n",
            "LSTM model tagged 33 queries correctly out of 48\n",
            "LSTM Accuracy = 68.75%\n",
            "Transformer model tagged 25 queries correctly out of 48\n",
            "Transformer Accuracy = 52.08%\n",
            "**************************************************\n",
            "For i=12:\n",
            "Linear model tagged 1 queries correctly out of 48\n",
            "Linear Accuracy = 2.08%\n",
            "Feedforward model tagged 2 queries correctly out of 48\n",
            "Feedforward Accuracy = 4.17%\n",
            "LSTM model tagged 33 queries correctly out of 48\n",
            "LSTM Accuracy = 68.75%\n",
            "Transformer model tagged 25 queries correctly out of 48\n",
            "Transformer Accuracy = 52.08%\n",
            "**************************************************\n",
            "For i=13:\n",
            "Linear model tagged 0 queries correctly out of 48\n",
            "Linear Accuracy = 0.00%\n",
            "Feedforward model tagged 1 queries correctly out of 48\n",
            "Feedforward Accuracy = 2.08%\n",
            "LSTM model tagged 33 queries correctly out of 48\n",
            "LSTM Accuracy = 68.75%\n",
            "Transformer model tagged 28 queries correctly out of 48\n",
            "Transformer Accuracy = 58.33%\n",
            "**************************************************\n",
            "For i=14:\n",
            "Linear model tagged 1 queries correctly out of 48\n",
            "Linear Accuracy = 2.08%\n",
            "Feedforward model tagged 1 queries correctly out of 48\n",
            "Feedforward Accuracy = 2.08%\n",
            "LSTM model tagged 26 queries correctly out of 48\n",
            "LSTM Accuracy = 54.17%\n",
            "Transformer model tagged 24 queries correctly out of 48\n",
            "Transformer Accuracy = 50.00%\n",
            "**************************************************\n",
            "For i=15:\n",
            "Linear model tagged 0 queries correctly out of 48\n",
            "Linear Accuracy = 0.00%\n",
            "Feedforward model tagged 0 queries correctly out of 48\n",
            "Feedforward Accuracy = 0.00%\n",
            "LSTM model tagged 26 queries correctly out of 48\n",
            "LSTM Accuracy = 54.17%\n",
            "Transformer model tagged 24 queries correctly out of 48\n",
            "Transformer Accuracy = 50.00%\n",
            "**************************************************\n",
            "For i=16:\n",
            "Linear model tagged 0 queries correctly out of 48\n",
            "Linear Accuracy = 0.00%\n",
            "Feedforward model tagged 0 queries correctly out of 48\n",
            "Feedforward Accuracy = 0.00%\n",
            "LSTM model tagged 28 queries correctly out of 48\n",
            "LSTM Accuracy = 58.33%\n",
            "Transformer model tagged 26 queries correctly out of 48\n",
            "Transformer Accuracy = 54.17%\n",
            "**************************************************\n",
            "For i=17:\n",
            "Linear model tagged 0 queries correctly out of 48\n",
            "Linear Accuracy = 0.00%\n",
            "Feedforward model tagged 0 queries correctly out of 48\n",
            "Feedforward Accuracy = 0.00%\n",
            "LSTM model tagged 29 queries correctly out of 48\n",
            "LSTM Accuracy = 60.42%\n",
            "Transformer model tagged 26 queries correctly out of 48\n",
            "Transformer Accuracy = 54.17%\n",
            "**************************************************\n",
            "For i=18:\n",
            "Linear model tagged 0 queries correctly out of 48\n",
            "Linear Accuracy = 0.00%\n",
            "Feedforward model tagged 0 queries correctly out of 48\n",
            "Feedforward Accuracy = 0.00%\n",
            "LSTM model tagged 29 queries correctly out of 48\n",
            "LSTM Accuracy = 60.42%\n",
            "Transformer model tagged 23 queries correctly out of 48\n",
            "Transformer Accuracy = 47.92%\n",
            "**************************************************\n",
            "For i=19:\n",
            "Linear model tagged 0 queries correctly out of 48\n",
            "Linear Accuracy = 0.00%\n",
            "Feedforward model tagged 0 queries correctly out of 48\n",
            "Feedforward Accuracy = 0.00%\n",
            "LSTM model tagged 24 queries correctly out of 48\n",
            "LSTM Accuracy = 50.00%\n",
            "Transformer model tagged 21 queries correctly out of 48\n",
            "Transformer Accuracy = 43.75%\n",
            "**************************************************\n",
            "For i=20:\n",
            "Linear model tagged 0 queries correctly out of 48\n",
            "Linear Accuracy = 0.00%\n",
            "Feedforward model tagged 0 queries correctly out of 48\n",
            "Feedforward Accuracy = 0.00%\n",
            "LSTM model tagged 26 queries correctly out of 48\n",
            "LSTM Accuracy = 54.17%\n",
            "Transformer model tagged 20 queries correctly out of 48\n",
            "Transformer Accuracy = 41.67%\n",
            "**************************************************\n",
            "For i=21:\n",
            "Linear model tagged 0 queries correctly out of 48\n",
            "Linear Accuracy = 0.00%\n",
            "Feedforward model tagged 0 queries correctly out of 48\n",
            "Feedforward Accuracy = 0.00%\n",
            "LSTM model tagged 30 queries correctly out of 48\n",
            "LSTM Accuracy = 62.50%\n",
            "Transformer model tagged 25 queries correctly out of 48\n",
            "Transformer Accuracy = 52.08%\n",
            "**************************************************\n",
            "For i=22:\n",
            "Linear model tagged 0 queries correctly out of 48\n",
            "Linear Accuracy = 0.00%\n",
            "Feedforward model tagged 0 queries correctly out of 48\n",
            "Feedforward Accuracy = 0.00%\n",
            "LSTM model tagged 25 queries correctly out of 48\n",
            "LSTM Accuracy = 52.08%\n",
            "Transformer model tagged 21 queries correctly out of 48\n",
            "Transformer Accuracy = 43.75%\n",
            "**************************************************\n",
            "For i=23:\n",
            "Linear model tagged 0 queries correctly out of 48\n",
            "Linear Accuracy = 0.00%\n",
            "Feedforward model tagged 0 queries correctly out of 48\n",
            "Feedforward Accuracy = 0.00%\n",
            "LSTM model tagged 27 queries correctly out of 48\n",
            "LSTM Accuracy = 56.25%\n",
            "Transformer model tagged 24 queries correctly out of 48\n",
            "Transformer Accuracy = 50.00%\n",
            "**************************************************\n",
            "For i=24:\n",
            "Linear model tagged 0 queries correctly out of 48\n",
            "Linear Accuracy = 0.00%\n",
            "Feedforward model tagged 0 queries correctly out of 48\n",
            "Feedforward Accuracy = 0.00%\n",
            "LSTM model tagged 27 queries correctly out of 48\n",
            "LSTM Accuracy = 56.25%\n",
            "Transformer model tagged 23 queries correctly out of 48\n",
            "Transformer Accuracy = 47.92%\n",
            "**************************************************\n"
          ]
        }
      ],
      "source": [
        "# Adding noise to inputs by rearranging letter in words and Evaluating all models\n",
        "from copy import deepcopy\n",
        "incorrect_queries = deepcopy(correct_queries)\n",
        "change_results = []\n",
        "for i in range(25):\n",
        "  incorrect_queries = modify_sentences(incorrect_queries, change_type=['typo'])\n",
        "  # Evaluating all models on the noisy queries that all of them previously tagged correctly\n",
        "  linear_correct_result = []\n",
        "  linear_incorrect_result = []\n",
        "  ff_correct_result = []\n",
        "  ff_incorrect_result = []\n",
        "  lstm_correct_result = []\n",
        "  lstm_incorrect_result = []\n",
        "  transformer_correct_result = []\n",
        "  transformer_incorrect_result = []\n",
        "  linear_equal = 0\n",
        "  ff_equal = 0\n",
        "  lstm_equal = 0\n",
        "  transformer_equal = 0\n",
        "  tag_result = []\n",
        "  for correct_query, incorrect_query in zip(correct_queries, incorrect_queries):\n",
        "    result_item = {\"correct_query\":correct_query, \"incorrect_query\":incorrect_query, \"linear\":0, \"ff\":0, \"lstm\":0, \"transformer\":0}\n",
        "    lin_correct_predict = question_linear_sql_pipe.predict(correct_query)\n",
        "    lin_incorrect_predict = question_linear_sql_pipe.predict(incorrect_query)\n",
        "    if(lin_correct_predict[\"predicted_tags\"] == lin_incorrect_predict[\"predicted_tags\"]):\n",
        "      linear_equal += 1\n",
        "      linear_correct_result.append((correct_query, incorrect_query))\n",
        "      result_item[\"linear\"] = 1\n",
        "    else:\n",
        "      linear_incorrect_result.append((correct_query, incorrect_query))\n",
        "\n",
        "    ff_correct_predict = question_static_ff_sql_pipe.predict(correct_query)\n",
        "    ff_incorrect_predict = question_static_ff_sql_pipe.predict(incorrect_query)\n",
        "    if(ff_correct_predict[\"predicted_tags\"] == ff_incorrect_predict[\"predicted_tags\"]):\n",
        "      ff_equal += 1\n",
        "      ff_correct_result.append((correct_query, incorrect_query))\n",
        "      result_item[\"ff\"] = 1\n",
        "    else:\n",
        "\n",
        "      ff_incorrect_result.append((correct_query, incorrect_query))\n",
        "\n",
        "    lstm_correct_predict = question_static_lstm_sql_pipe.predict(correct_query)\n",
        "    lstm_incorrect_predict = question_static_lstm_sql_pipe.predict(incorrect_query)\n",
        "    if(lstm_correct_predict[\"predicted_tags\"] == lstm_incorrect_predict[\"predicted_tags\"]):\n",
        "      lstm_equal += 1\n",
        "      lstm_correct_result.append((correct_query, incorrect_query))\n",
        "      result_item[\"lstm\"] = 1\n",
        "    else:\n",
        "      lstm_incorrect_result.append((correct_query, incorrect_query))\n",
        "\n",
        "    transformer_correct_predict = question_static_transformer_sql_pipe.predict(correct_query)\n",
        "    transformer_incorrect_predict = question_static_transformer_sql_pipe.predict(incorrect_query)\n",
        "    if(transformer_correct_predict[\"predicted_tags\"] == transformer_incorrect_predict[\"predicted_tags\"]):\n",
        "      transformer_equal += 1\n",
        "      transformer_correct_result.append((correct_query, incorrect_query))\n",
        "      result_item[\"transformer\"] = 1\n",
        "    else:\n",
        "      transformer_incorrect_result.append((correct_query, incorrect_query))\n",
        "    tag_result.append(result_item)\n",
        "  print(f\"For {i=}:\")\n",
        "  print(f\"Linear model tagged {linear_equal} queries correctly out of {len(correct_queries)}\")\n",
        "  print(f\"Linear Accuracy = {linear_equal/len(correct_queries):.2%}\")\n",
        "  print(f\"Feedforward model tagged {ff_equal} queries correctly out of {len(correct_queries)}\")\n",
        "  print(f\"Feedforward Accuracy = {ff_equal/len(correct_queries):.2%}\")\n",
        "  print(f\"LSTM model tagged {lstm_equal} queries correctly out of {len(correct_queries)}\")\n",
        "  print(f\"LSTM Accuracy = {lstm_equal/len(correct_queries):.2%}\")\n",
        "  print(f\"Transformer model tagged {transformer_equal} queries correctly out of {len(correct_queries)}\")\n",
        "  print(f\"Transformer Accuracy = {transformer_equal/len(correct_queries):.2%}\")\n",
        "  print(\"*\"*50)\n",
        "  change_results.append({\"changes\":i+1,\"linear\":linear_equal/len(correct_queries)*100, \"ff\":ff_equal/len(correct_queries)*100, \"lstm\":lstm_equal/len(correct_queries)*100, \"transformer\":transformer_equal/len(correct_queries)*100})"
      ]
    },
    {
      "cell_type": "code",
      "execution_count": 356,
      "metadata": {
        "colab": {
          "base_uri": "https://localhost:8080/",
          "height": 833
        },
        "id": "iofHM65F54ws",
        "outputId": "00cf449f-1771-49d8-895d-e66fb9e25c6b"
      },
      "outputs": [
        {
          "data": {
            "application/vnd.google.colaboratory.intrinsic+json": {
              "summary": "{\n  \"name\": \"typo_changes_df\",\n  \"rows\": 25,\n  \"fields\": [\n    {\n      \"column\": \"changes\",\n      \"properties\": {\n        \"dtype\": \"number\",\n        \"std\": 7,\n        \"min\": 1,\n        \"max\": 25,\n        \"num_unique_values\": 25,\n        \"samples\": [\n          9,\n          17,\n          1\n        ],\n        \"semantic_type\": \"\",\n        \"description\": \"\"\n      }\n    },\n    {\n      \"column\": \"linear\",\n      \"properties\": {\n        \"dtype\": \"number\",\n        \"std\": 9.733128803026101,\n        \"min\": 0.0,\n        \"max\": 43.75,\n        \"num_unique_values\": 6,\n        \"samples\": [\n          43.75,\n          22.916666666666664,\n          0.0\n        ],\n        \"semantic_type\": \"\",\n        \"description\": \"\"\n      }\n    },\n    {\n      \"column\": \"ff\",\n      \"properties\": {\n        \"dtype\": \"number\",\n        \"std\": 10.69083633218101,\n        \"min\": 0.0,\n        \"max\": 45.83333333333333,\n        \"num_unique_values\": 8,\n        \"samples\": [\n          27.083333333333332,\n          2.083333333333333,\n          45.83333333333333\n        ],\n        \"semantic_type\": \"\",\n        \"description\": \"\"\n      }\n    },\n    {\n      \"column\": \"lstm\",\n      \"properties\": {\n        \"dtype\": \"number\",\n        \"std\": 9.432692852226475,\n        \"min\": 50.0,\n        \"max\": 87.5,\n        \"num_unique_values\": 13,\n        \"samples\": [\n          52.083333333333336,\n          50.0,\n          87.5\n        ],\n        \"semantic_type\": \"\",\n        \"description\": \"\"\n      }\n    },\n    {\n      \"column\": \"transformer\",\n      \"properties\": {\n        \"dtype\": \"number\",\n        \"std\": 7.438987946398801,\n        \"min\": 41.66666666666667,\n        \"max\": 75.0,\n        \"num_unique_values\": 11,\n        \"samples\": [\n          54.166666666666664,\n          75.0,\n          43.75\n        ],\n        \"semantic_type\": \"\",\n        \"description\": \"\"\n      }\n    }\n  ]\n}",
              "type": "dataframe",
              "variable_name": "typo_changes_df"
            },
            "text/html": [
              "\n",
              "  <div id=\"df-fed7137b-464f-4cd4-a90e-a8b7cd67c0d8\" class=\"colab-df-container\">\n",
              "    <div>\n",
              "<style scoped>\n",
              "    .dataframe tbody tr th:only-of-type {\n",
              "        vertical-align: middle;\n",
              "    }\n",
              "\n",
              "    .dataframe tbody tr th {\n",
              "        vertical-align: top;\n",
              "    }\n",
              "\n",
              "    .dataframe thead th {\n",
              "        text-align: right;\n",
              "    }\n",
              "</style>\n",
              "<table border=\"1\" class=\"dataframe\">\n",
              "  <thead>\n",
              "    <tr style=\"text-align: right;\">\n",
              "      <th></th>\n",
              "      <th>changes</th>\n",
              "      <th>linear</th>\n",
              "      <th>ff</th>\n",
              "      <th>lstm</th>\n",
              "      <th>transformer</th>\n",
              "    </tr>\n",
              "  </thead>\n",
              "  <tbody>\n",
              "    <tr>\n",
              "      <th>0</th>\n",
              "      <td>1</td>\n",
              "      <td>43.750000</td>\n",
              "      <td>45.833333</td>\n",
              "      <td>87.500000</td>\n",
              "      <td>75.000000</td>\n",
              "    </tr>\n",
              "    <tr>\n",
              "      <th>1</th>\n",
              "      <td>2</td>\n",
              "      <td>22.916667</td>\n",
              "      <td>27.083333</td>\n",
              "      <td>81.250000</td>\n",
              "      <td>66.666667</td>\n",
              "    </tr>\n",
              "    <tr>\n",
              "      <th>2</th>\n",
              "      <td>3</td>\n",
              "      <td>12.500000</td>\n",
              "      <td>20.833333</td>\n",
              "      <td>81.250000</td>\n",
              "      <td>62.500000</td>\n",
              "    </tr>\n",
              "    <tr>\n",
              "      <th>3</th>\n",
              "      <td>4</td>\n",
              "      <td>10.416667</td>\n",
              "      <td>12.500000</td>\n",
              "      <td>68.750000</td>\n",
              "      <td>62.500000</td>\n",
              "    </tr>\n",
              "    <tr>\n",
              "      <th>4</th>\n",
              "      <td>5</td>\n",
              "      <td>2.083333</td>\n",
              "      <td>6.250000</td>\n",
              "      <td>66.666667</td>\n",
              "      <td>50.000000</td>\n",
              "    </tr>\n",
              "    <tr>\n",
              "      <th>5</th>\n",
              "      <td>6</td>\n",
              "      <td>2.083333</td>\n",
              "      <td>2.083333</td>\n",
              "      <td>66.666667</td>\n",
              "      <td>56.250000</td>\n",
              "    </tr>\n",
              "    <tr>\n",
              "      <th>6</th>\n",
              "      <td>7</td>\n",
              "      <td>2.083333</td>\n",
              "      <td>2.083333</td>\n",
              "      <td>66.666667</td>\n",
              "      <td>56.250000</td>\n",
              "    </tr>\n",
              "    <tr>\n",
              "      <th>7</th>\n",
              "      <td>8</td>\n",
              "      <td>0.000000</td>\n",
              "      <td>2.083333</td>\n",
              "      <td>64.583333</td>\n",
              "      <td>54.166667</td>\n",
              "    </tr>\n",
              "    <tr>\n",
              "      <th>8</th>\n",
              "      <td>9</td>\n",
              "      <td>2.083333</td>\n",
              "      <td>4.166667</td>\n",
              "      <td>70.833333</td>\n",
              "      <td>54.166667</td>\n",
              "    </tr>\n",
              "    <tr>\n",
              "      <th>9</th>\n",
              "      <td>10</td>\n",
              "      <td>2.083333</td>\n",
              "      <td>4.166667</td>\n",
              "      <td>66.666667</td>\n",
              "      <td>47.916667</td>\n",
              "    </tr>\n",
              "    <tr>\n",
              "      <th>10</th>\n",
              "      <td>11</td>\n",
              "      <td>2.083333</td>\n",
              "      <td>6.250000</td>\n",
              "      <td>68.750000</td>\n",
              "      <td>50.000000</td>\n",
              "    </tr>\n",
              "    <tr>\n",
              "      <th>11</th>\n",
              "      <td>12</td>\n",
              "      <td>2.083333</td>\n",
              "      <td>4.166667</td>\n",
              "      <td>68.750000</td>\n",
              "      <td>52.083333</td>\n",
              "    </tr>\n",
              "    <tr>\n",
              "      <th>12</th>\n",
              "      <td>13</td>\n",
              "      <td>2.083333</td>\n",
              "      <td>4.166667</td>\n",
              "      <td>68.750000</td>\n",
              "      <td>52.083333</td>\n",
              "    </tr>\n",
              "    <tr>\n",
              "      <th>13</th>\n",
              "      <td>14</td>\n",
              "      <td>0.000000</td>\n",
              "      <td>2.083333</td>\n",
              "      <td>68.750000</td>\n",
              "      <td>58.333333</td>\n",
              "    </tr>\n",
              "    <tr>\n",
              "      <th>14</th>\n",
              "      <td>15</td>\n",
              "      <td>2.083333</td>\n",
              "      <td>2.083333</td>\n",
              "      <td>54.166667</td>\n",
              "      <td>50.000000</td>\n",
              "    </tr>\n",
              "    <tr>\n",
              "      <th>15</th>\n",
              "      <td>16</td>\n",
              "      <td>0.000000</td>\n",
              "      <td>0.000000</td>\n",
              "      <td>54.166667</td>\n",
              "      <td>50.000000</td>\n",
              "    </tr>\n",
              "    <tr>\n",
              "      <th>16</th>\n",
              "      <td>17</td>\n",
              "      <td>0.000000</td>\n",
              "      <td>0.000000</td>\n",
              "      <td>58.333333</td>\n",
              "      <td>54.166667</td>\n",
              "    </tr>\n",
              "    <tr>\n",
              "      <th>17</th>\n",
              "      <td>18</td>\n",
              "      <td>0.000000</td>\n",
              "      <td>0.000000</td>\n",
              "      <td>60.416667</td>\n",
              "      <td>54.166667</td>\n",
              "    </tr>\n",
              "    <tr>\n",
              "      <th>18</th>\n",
              "      <td>19</td>\n",
              "      <td>0.000000</td>\n",
              "      <td>0.000000</td>\n",
              "      <td>60.416667</td>\n",
              "      <td>47.916667</td>\n",
              "    </tr>\n",
              "    <tr>\n",
              "      <th>19</th>\n",
              "      <td>20</td>\n",
              "      <td>0.000000</td>\n",
              "      <td>0.000000</td>\n",
              "      <td>50.000000</td>\n",
              "      <td>43.750000</td>\n",
              "    </tr>\n",
              "    <tr>\n",
              "      <th>20</th>\n",
              "      <td>21</td>\n",
              "      <td>0.000000</td>\n",
              "      <td>0.000000</td>\n",
              "      <td>54.166667</td>\n",
              "      <td>41.666667</td>\n",
              "    </tr>\n",
              "    <tr>\n",
              "      <th>21</th>\n",
              "      <td>22</td>\n",
              "      <td>0.000000</td>\n",
              "      <td>0.000000</td>\n",
              "      <td>62.500000</td>\n",
              "      <td>52.083333</td>\n",
              "    </tr>\n",
              "    <tr>\n",
              "      <th>22</th>\n",
              "      <td>23</td>\n",
              "      <td>0.000000</td>\n",
              "      <td>0.000000</td>\n",
              "      <td>52.083333</td>\n",
              "      <td>43.750000</td>\n",
              "    </tr>\n",
              "    <tr>\n",
              "      <th>23</th>\n",
              "      <td>24</td>\n",
              "      <td>0.000000</td>\n",
              "      <td>0.000000</td>\n",
              "      <td>56.250000</td>\n",
              "      <td>50.000000</td>\n",
              "    </tr>\n",
              "    <tr>\n",
              "      <th>24</th>\n",
              "      <td>25</td>\n",
              "      <td>0.000000</td>\n",
              "      <td>0.000000</td>\n",
              "      <td>56.250000</td>\n",
              "      <td>47.916667</td>\n",
              "    </tr>\n",
              "  </tbody>\n",
              "</table>\n",
              "</div>\n",
              "    <div class=\"colab-df-buttons\">\n",
              "\n",
              "  <div class=\"colab-df-container\">\n",
              "    <button class=\"colab-df-convert\" onclick=\"convertToInteractive('df-fed7137b-464f-4cd4-a90e-a8b7cd67c0d8')\"\n",
              "            title=\"Convert this dataframe to an interactive table.\"\n",
              "            style=\"display:none;\">\n",
              "\n",
              "  <svg xmlns=\"http://www.w3.org/2000/svg\" height=\"24px\" viewBox=\"0 -960 960 960\">\n",
              "    <path d=\"M120-120v-720h720v720H120Zm60-500h600v-160H180v160Zm220 220h160v-160H400v160Zm0 220h160v-160H400v160ZM180-400h160v-160H180v160Zm440 0h160v-160H620v160ZM180-180h160v-160H180v160Zm440 0h160v-160H620v160Z\"/>\n",
              "  </svg>\n",
              "    </button>\n",
              "\n",
              "  <style>\n",
              "    .colab-df-container {\n",
              "      display:flex;\n",
              "      gap: 12px;\n",
              "    }\n",
              "\n",
              "    .colab-df-convert {\n",
              "      background-color: #E8F0FE;\n",
              "      border: none;\n",
              "      border-radius: 50%;\n",
              "      cursor: pointer;\n",
              "      display: none;\n",
              "      fill: #1967D2;\n",
              "      height: 32px;\n",
              "      padding: 0 0 0 0;\n",
              "      width: 32px;\n",
              "    }\n",
              "\n",
              "    .colab-df-convert:hover {\n",
              "      background-color: #E2EBFA;\n",
              "      box-shadow: 0px 1px 2px rgba(60, 64, 67, 0.3), 0px 1px 3px 1px rgba(60, 64, 67, 0.15);\n",
              "      fill: #174EA6;\n",
              "    }\n",
              "\n",
              "    .colab-df-buttons div {\n",
              "      margin-bottom: 4px;\n",
              "    }\n",
              "\n",
              "    [theme=dark] .colab-df-convert {\n",
              "      background-color: #3B4455;\n",
              "      fill: #D2E3FC;\n",
              "    }\n",
              "\n",
              "    [theme=dark] .colab-df-convert:hover {\n",
              "      background-color: #434B5C;\n",
              "      box-shadow: 0px 1px 3px 1px rgba(0, 0, 0, 0.15);\n",
              "      filter: drop-shadow(0px 1px 2px rgba(0, 0, 0, 0.3));\n",
              "      fill: #FFFFFF;\n",
              "    }\n",
              "  </style>\n",
              "\n",
              "    <script>\n",
              "      const buttonEl =\n",
              "        document.querySelector('#df-fed7137b-464f-4cd4-a90e-a8b7cd67c0d8 button.colab-df-convert');\n",
              "      buttonEl.style.display =\n",
              "        google.colab.kernel.accessAllowed ? 'block' : 'none';\n",
              "\n",
              "      async function convertToInteractive(key) {\n",
              "        const element = document.querySelector('#df-fed7137b-464f-4cd4-a90e-a8b7cd67c0d8');\n",
              "        const dataTable =\n",
              "          await google.colab.kernel.invokeFunction('convertToInteractive',\n",
              "                                                    [key], {});\n",
              "        if (!dataTable) return;\n",
              "\n",
              "        const docLinkHtml = 'Like what you see? Visit the ' +\n",
              "          '<a target=\"_blank\" href=https://colab.research.google.com/notebooks/data_table.ipynb>data table notebook</a>'\n",
              "          + ' to learn more about interactive tables.';\n",
              "        element.innerHTML = '';\n",
              "        dataTable['output_type'] = 'display_data';\n",
              "        await google.colab.output.renderOutput(dataTable, element);\n",
              "        const docLink = document.createElement('div');\n",
              "        docLink.innerHTML = docLinkHtml;\n",
              "        element.appendChild(docLink);\n",
              "      }\n",
              "    </script>\n",
              "  </div>\n",
              "\n",
              "\n",
              "    <div id=\"df-87463049-b3b2-4d67-8087-aff8d3a30240\">\n",
              "      <button class=\"colab-df-quickchart\" onclick=\"quickchart('df-87463049-b3b2-4d67-8087-aff8d3a30240')\"\n",
              "                title=\"Suggest charts\"\n",
              "                style=\"display:none;\">\n",
              "\n",
              "<svg xmlns=\"http://www.w3.org/2000/svg\" height=\"24px\"viewBox=\"0 0 24 24\"\n",
              "     width=\"24px\">\n",
              "    <g>\n",
              "        <path d=\"M19 3H5c-1.1 0-2 .9-2 2v14c0 1.1.9 2 2 2h14c1.1 0 2-.9 2-2V5c0-1.1-.9-2-2-2zM9 17H7v-7h2v7zm4 0h-2V7h2v10zm4 0h-2v-4h2v4z\"/>\n",
              "    </g>\n",
              "</svg>\n",
              "      </button>\n",
              "\n",
              "<style>\n",
              "  .colab-df-quickchart {\n",
              "      --bg-color: #E8F0FE;\n",
              "      --fill-color: #1967D2;\n",
              "      --hover-bg-color: #E2EBFA;\n",
              "      --hover-fill-color: #174EA6;\n",
              "      --disabled-fill-color: #AAA;\n",
              "      --disabled-bg-color: #DDD;\n",
              "  }\n",
              "\n",
              "  [theme=dark] .colab-df-quickchart {\n",
              "      --bg-color: #3B4455;\n",
              "      --fill-color: #D2E3FC;\n",
              "      --hover-bg-color: #434B5C;\n",
              "      --hover-fill-color: #FFFFFF;\n",
              "      --disabled-bg-color: #3B4455;\n",
              "      --disabled-fill-color: #666;\n",
              "  }\n",
              "\n",
              "  .colab-df-quickchart {\n",
              "    background-color: var(--bg-color);\n",
              "    border: none;\n",
              "    border-radius: 50%;\n",
              "    cursor: pointer;\n",
              "    display: none;\n",
              "    fill: var(--fill-color);\n",
              "    height: 32px;\n",
              "    padding: 0;\n",
              "    width: 32px;\n",
              "  }\n",
              "\n",
              "  .colab-df-quickchart:hover {\n",
              "    background-color: var(--hover-bg-color);\n",
              "    box-shadow: 0 1px 2px rgba(60, 64, 67, 0.3), 0 1px 3px 1px rgba(60, 64, 67, 0.15);\n",
              "    fill: var(--button-hover-fill-color);\n",
              "  }\n",
              "\n",
              "  .colab-df-quickchart-complete:disabled,\n",
              "  .colab-df-quickchart-complete:disabled:hover {\n",
              "    background-color: var(--disabled-bg-color);\n",
              "    fill: var(--disabled-fill-color);\n",
              "    box-shadow: none;\n",
              "  }\n",
              "\n",
              "  .colab-df-spinner {\n",
              "    border: 2px solid var(--fill-color);\n",
              "    border-color: transparent;\n",
              "    border-bottom-color: var(--fill-color);\n",
              "    animation:\n",
              "      spin 1s steps(1) infinite;\n",
              "  }\n",
              "\n",
              "  @keyframes spin {\n",
              "    0% {\n",
              "      border-color: transparent;\n",
              "      border-bottom-color: var(--fill-color);\n",
              "      border-left-color: var(--fill-color);\n",
              "    }\n",
              "    20% {\n",
              "      border-color: transparent;\n",
              "      border-left-color: var(--fill-color);\n",
              "      border-top-color: var(--fill-color);\n",
              "    }\n",
              "    30% {\n",
              "      border-color: transparent;\n",
              "      border-left-color: var(--fill-color);\n",
              "      border-top-color: var(--fill-color);\n",
              "      border-right-color: var(--fill-color);\n",
              "    }\n",
              "    40% {\n",
              "      border-color: transparent;\n",
              "      border-right-color: var(--fill-color);\n",
              "      border-top-color: var(--fill-color);\n",
              "    }\n",
              "    60% {\n",
              "      border-color: transparent;\n",
              "      border-right-color: var(--fill-color);\n",
              "    }\n",
              "    80% {\n",
              "      border-color: transparent;\n",
              "      border-right-color: var(--fill-color);\n",
              "      border-bottom-color: var(--fill-color);\n",
              "    }\n",
              "    90% {\n",
              "      border-color: transparent;\n",
              "      border-bottom-color: var(--fill-color);\n",
              "    }\n",
              "  }\n",
              "</style>\n",
              "\n",
              "      <script>\n",
              "        async function quickchart(key) {\n",
              "          const quickchartButtonEl =\n",
              "            document.querySelector('#' + key + ' button');\n",
              "          quickchartButtonEl.disabled = true;  // To prevent multiple clicks.\n",
              "          quickchartButtonEl.classList.add('colab-df-spinner');\n",
              "          try {\n",
              "            const charts = await google.colab.kernel.invokeFunction(\n",
              "                'suggestCharts', [key], {});\n",
              "          } catch (error) {\n",
              "            console.error('Error during call to suggestCharts:', error);\n",
              "          }\n",
              "          quickchartButtonEl.classList.remove('colab-df-spinner');\n",
              "          quickchartButtonEl.classList.add('colab-df-quickchart-complete');\n",
              "        }\n",
              "        (() => {\n",
              "          let quickchartButtonEl =\n",
              "            document.querySelector('#df-87463049-b3b2-4d67-8087-aff8d3a30240 button');\n",
              "          quickchartButtonEl.style.display =\n",
              "            google.colab.kernel.accessAllowed ? 'block' : 'none';\n",
              "        })();\n",
              "      </script>\n",
              "    </div>\n",
              "\n",
              "  <div id=\"id_a9400094-2835-4807-a300-d42940f3ebbf\">\n",
              "    <style>\n",
              "      .colab-df-generate {\n",
              "        background-color: #E8F0FE;\n",
              "        border: none;\n",
              "        border-radius: 50%;\n",
              "        cursor: pointer;\n",
              "        display: none;\n",
              "        fill: #1967D2;\n",
              "        height: 32px;\n",
              "        padding: 0 0 0 0;\n",
              "        width: 32px;\n",
              "      }\n",
              "\n",
              "      .colab-df-generate:hover {\n",
              "        background-color: #E2EBFA;\n",
              "        box-shadow: 0px 1px 2px rgba(60, 64, 67, 0.3), 0px 1px 3px 1px rgba(60, 64, 67, 0.15);\n",
              "        fill: #174EA6;\n",
              "      }\n",
              "\n",
              "      [theme=dark] .colab-df-generate {\n",
              "        background-color: #3B4455;\n",
              "        fill: #D2E3FC;\n",
              "      }\n",
              "\n",
              "      [theme=dark] .colab-df-generate:hover {\n",
              "        background-color: #434B5C;\n",
              "        box-shadow: 0px 1px 3px 1px rgba(0, 0, 0, 0.15);\n",
              "        filter: drop-shadow(0px 1px 2px rgba(0, 0, 0, 0.3));\n",
              "        fill: #FFFFFF;\n",
              "      }\n",
              "    </style>\n",
              "    <button class=\"colab-df-generate\" onclick=\"generateWithVariable('typo_changes_df')\"\n",
              "            title=\"Generate code using this dataframe.\"\n",
              "            style=\"display:none;\">\n",
              "\n",
              "  <svg xmlns=\"http://www.w3.org/2000/svg\" height=\"24px\"viewBox=\"0 0 24 24\"\n",
              "       width=\"24px\">\n",
              "    <path d=\"M7,19H8.4L18.45,9,17,7.55,7,17.6ZM5,21V16.75L18.45,3.32a2,2,0,0,1,2.83,0l1.4,1.43a1.91,1.91,0,0,1,.58,1.4,1.91,1.91,0,0,1-.58,1.4L9.25,21ZM18.45,9,17,7.55Zm-12,3A5.31,5.31,0,0,0,4.9,8.1,5.31,5.31,0,0,0,1,6.5,5.31,5.31,0,0,0,4.9,4.9,5.31,5.31,0,0,0,6.5,1,5.31,5.31,0,0,0,8.1,4.9,5.31,5.31,0,0,0,12,6.5,5.46,5.46,0,0,0,6.5,12Z\"/>\n",
              "  </svg>\n",
              "    </button>\n",
              "    <script>\n",
              "      (() => {\n",
              "      const buttonEl =\n",
              "        document.querySelector('#id_a9400094-2835-4807-a300-d42940f3ebbf button.colab-df-generate');\n",
              "      buttonEl.style.display =\n",
              "        google.colab.kernel.accessAllowed ? 'block' : 'none';\n",
              "\n",
              "      buttonEl.onclick = () => {\n",
              "        google.colab.notebook.generateWithVariable('typo_changes_df');\n",
              "      }\n",
              "      })();\n",
              "    </script>\n",
              "  </div>\n",
              "\n",
              "    </div>\n",
              "  </div>\n"
            ],
            "text/plain": [
              "    changes     linear         ff       lstm  transformer\n",
              "0         1  43.750000  45.833333  87.500000    75.000000\n",
              "1         2  22.916667  27.083333  81.250000    66.666667\n",
              "2         3  12.500000  20.833333  81.250000    62.500000\n",
              "3         4  10.416667  12.500000  68.750000    62.500000\n",
              "4         5   2.083333   6.250000  66.666667    50.000000\n",
              "5         6   2.083333   2.083333  66.666667    56.250000\n",
              "6         7   2.083333   2.083333  66.666667    56.250000\n",
              "7         8   0.000000   2.083333  64.583333    54.166667\n",
              "8         9   2.083333   4.166667  70.833333    54.166667\n",
              "9        10   2.083333   4.166667  66.666667    47.916667\n",
              "10       11   2.083333   6.250000  68.750000    50.000000\n",
              "11       12   2.083333   4.166667  68.750000    52.083333\n",
              "12       13   2.083333   4.166667  68.750000    52.083333\n",
              "13       14   0.000000   2.083333  68.750000    58.333333\n",
              "14       15   2.083333   2.083333  54.166667    50.000000\n",
              "15       16   0.000000   0.000000  54.166667    50.000000\n",
              "16       17   0.000000   0.000000  58.333333    54.166667\n",
              "17       18   0.000000   0.000000  60.416667    54.166667\n",
              "18       19   0.000000   0.000000  60.416667    47.916667\n",
              "19       20   0.000000   0.000000  50.000000    43.750000\n",
              "20       21   0.000000   0.000000  54.166667    41.666667\n",
              "21       22   0.000000   0.000000  62.500000    52.083333\n",
              "22       23   0.000000   0.000000  52.083333    43.750000\n",
              "23       24   0.000000   0.000000  56.250000    50.000000\n",
              "24       25   0.000000   0.000000  56.250000    47.916667"
            ]
          },
          "execution_count": 356,
          "metadata": {},
          "output_type": "execute_result"
        }
      ],
      "source": [
        "import pandas as pd\n",
        "typo_changes_df = pd.DataFrame(change_results)\n",
        "typo_changes_df"
      ]
    },
    {
      "cell_type": "code",
      "execution_count": null,
      "metadata": {
        "id": "_ko9mG0L6OV1"
      },
      "outputs": [],
      "source": []
    }
  ],
  "metadata": {
    "accelerator": "GPU",
    "colab": {
      "gpuType": "T4",
      "provenance": []
    },
    "kernelspec": {
      "display_name": "Python 3",
      "name": "python3"
    },
    "language_info": {
      "name": "python"
    }
  },
  "nbformat": 4,
  "nbformat_minor": 0
}
