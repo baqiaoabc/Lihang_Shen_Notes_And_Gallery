{
 "cells": [
  {
   "cell_type": "markdown",
   "metadata": {
    "id": "U9Ys6-F1xKbD"
   },
   "source": [
    "Workshop 3 - Introduction to PyTorch\n",
    "==========================\n",
    "\n",
    "This is based on the [Introduction to PyTorch](https://pytorch.org/tutorials/beginner/basics/intro.html) and an old text classification with the torchtext library tutorial that is no longer available.\n",
    "\n",
    "# PyTorch\n",
    "\n",
    "PyTorch is one of the most widely used libraries for implementing models in NLP today (and all of AI). Today, we'll be learning the basics of the library, including the low-level building blocks of all neural networks.\n",
    "\n",
    "First, if you are not running this within Ed, you may need to uncomment this line to install the libraries we need (note, this can take a little while):"
   ]
  },
  {
   "cell_type": "code",
   "execution_count": 74,
   "metadata": {
    "colab": {
     "base_uri": "https://localhost:8080/"
    },
    "id": "xrycejPyxKbE",
    "outputId": "63cb1a7b-65a0-4faa-c02e-1ccf4d90891c",
    "tags": []
   },
   "outputs": [],
   "source": [
    "# !pip3 install torch torchvision torchaudio"
   ]
  },
  {
   "cell_type": "markdown",
   "metadata": {
    "id": "9UNfIpwsxKbE"
   },
   "source": [
    "Now we can import PyTorch and see what version we have."
   ]
  },
  {
   "cell_type": "code",
   "execution_count": 75,
   "metadata": {
    "colab": {
     "base_uri": "https://localhost:8080/"
    },
    "id": "kDtpE_zSxKbE",
    "outputId": "7f89d53e-2e1a-48e5-c36e-beab0522a8d9",
    "tags": []
   },
   "outputs": [
    {
     "name": "stdout",
     "output_type": "stream",
     "text": [
      "2.6.0\n"
     ]
    }
   ],
   "source": [
    "import torch\n",
    "print(torch.__version__)"
   ]
  },
  {
   "cell_type": "markdown",
   "metadata": {
    "id": "stHZDQc-xKbE",
    "tags": []
   },
   "source": [
    "# Tensors\n",
    "\n",
    "Tensors are a specialized data structure that are very similar to arrays and matrices.\n",
    "In PyTorch, tensors encode:\n",
    "- The inputs to a model\n",
    "- The outputs of a model\n",
    "- A model's parameters (e.g., weights)\n",
    "\n",
    "Tensors are similar to [NumPy’s](https://numpy.org/) ndarrays, except that tensors can run on GPUs or other hardware accelerators. In fact, tensors and\n",
    "NumPy arrays can often share the same underlying memory. Tensors are also optimized for automatic differentiation (we'll see more about that later in this lab).\n",
    "\n",
    "Let's import numpy to explore the relationship between the data types:"
   ]
  },
  {
   "cell_type": "code",
   "execution_count": 76,
   "metadata": {
    "id": "AAE_6n0MxKbF",
    "tags": []
   },
   "outputs": [],
   "source": [
    "import numpy as np"
   ]
  },
  {
   "cell_type": "markdown",
   "metadata": {
    "id": "G11l7OYExKbF"
   },
   "source": [
    "### Initializing a Tensor\n",
    "\n",
    "Tensors can be initialized in various ways. Take a look at the following examples:\n",
    "\n",
    "**Directly from data**\n",
    "\n",
    "Tensors can be created directly from data. The data type is automatically inferred.\n",
    "\n"
   ]
  },
  {
   "cell_type": "code",
   "execution_count": 77,
   "metadata": {
    "colab": {
     "base_uri": "https://localhost:8080/"
    },
    "id": "r0n5hwxexKbF",
    "outputId": "8d9a04cb-8b9d-403a-b69f-da188d8c0b0f",
    "tags": []
   },
   "outputs": [
    {
     "name": "stdout",
     "output_type": "stream",
     "text": [
      "[[1, 2], [3, 4]] has type torch.int64\n",
      "[[1.0, 2.0], [3.0, 4.0]] has type torch.float32\n"
     ]
    }
   ],
   "source": [
    "data = [[1, 2],[3, 4]]\n",
    "x_data = torch.tensor(data)\n",
    "print(data, \"has type\", x_data.dtype)\n",
    "\n",
    "float_data = [[1.0, 2.0],[3.0, 4.0]]\n",
    "xf_data = torch.tensor(float_data)\n",
    "print(float_data, \"has type\", xf_data.dtype)"
   ]
  },
  {
   "cell_type": "markdown",
   "metadata": {
    "id": "dcLBFdAfxKbF"
   },
   "source": [
    "**From a NumPy array**\n",
    "\n",
    "Tensors can be created from NumPy arrays.\n",
    "\n"
   ]
  },
  {
   "cell_type": "code",
   "execution_count": 78,
   "metadata": {
    "colab": {
     "base_uri": "https://localhost:8080/"
    },
    "id": "lUYTROHexKbF",
    "outputId": "9c0b8178-0452-4188-b10c-8b1e2aabfd5d",
    "tags": []
   },
   "outputs": [
    {
     "name": "stdout",
     "output_type": "stream",
     "text": [
      "From NumPy ndarray:\n",
      " tensor([[1, 2],\n",
      "        [3, 4]])\n",
      "From List:\n",
      " tensor([[1, 2],\n",
      "        [3, 4]])\n"
     ]
    }
   ],
   "source": [
    "np_array = np.array(data)\n",
    "x_np = torch.from_numpy(np_array)\n",
    "print(\"From NumPy ndarray:\\n\", x_np)\n",
    "print(\"From List:\\n\", x_data)"
   ]
  },
  {
   "cell_type": "markdown",
   "metadata": {
    "id": "8QmCYJ_5xKbF"
   },
   "source": [
    "**From another tensor:**\n",
    "\n",
    "Tensors can be created from other tensors. The new tensor retains the properties (shape, datatype) of the argument tensor, unless explicitly overridden.\n",
    "\n",
    "These two functions show examples of creating tensors with the same shape as an existing one, but new data."
   ]
  },
  {
   "cell_type": "code",
   "execution_count": 79,
   "metadata": {
    "colab": {
     "base_uri": "https://localhost:8080/"
    },
    "id": "1XVKVqcmxKbF",
    "outputId": "4af24d29-2ade-48f5-e3f2-50fe230d8c23",
    "tags": []
   },
   "outputs": [
    {
     "name": "stdout",
     "output_type": "stream",
     "text": [
      "Ones Tensor: \n",
      " tensor([[1, 1],\n",
      "        [1, 1]]) \n",
      "\n",
      "Random Tensor: \n",
      " tensor([[0.4174, 0.1495],\n",
      "        [0.7509, 0.1825]]) \n",
      "\n"
     ]
    }
   ],
   "source": [
    "x_ones = torch.ones_like(x_data)\n",
    "print(f\"Ones Tensor: \\n {x_ones} \\n\")\n",
    "\n",
    "x_rand = torch.rand_like(x_data, dtype=torch.float)\n",
    "print(f\"Random Tensor: \\n {x_rand} \\n\")"
   ]
  },
  {
   "cell_type": "markdown",
   "metadata": {
    "id": "2gCu57poxKbF"
   },
   "source": [
    "**From just a set of dimensions:**\n",
    "\n",
    "`shape` is a tuple of tensor dimensions. In the functions below, it determines the dimensionality of the output tensor. The contents of the tensor are determined by the function called.\n",
    "\n"
   ]
  },
  {
   "cell_type": "code",
   "execution_count": 80,
   "metadata": {
    "colab": {
     "base_uri": "https://localhost:8080/"
    },
    "id": "cmEPRZcvxKbF",
    "outputId": "05ce7430-fb11-4b32-bfd9-908ab3252279",
    "tags": []
   },
   "outputs": [
    {
     "name": "stdout",
     "output_type": "stream",
     "text": [
      "Random Tensor: \n",
      " tensor([[0.1405, 0.6700, 0.3726],\n",
      "        [0.6949, 0.2467, 0.6011]]) \n",
      "\n",
      "Ones Tensor: \n",
      " tensor([[1., 1., 1.],\n",
      "        [1., 1., 1.]]) \n",
      "\n",
      "Zeros Tensor: \n",
      " tensor([[0., 0., 0.],\n",
      "        [0., 0., 0.]])\n"
     ]
    }
   ],
   "source": [
    "shape = (2,3,)\n",
    "rand_tensor = torch.rand(shape)\n",
    "ones_tensor = torch.ones(shape)\n",
    "zeros_tensor = torch.zeros(shape)\n",
    "\n",
    "print(f\"Random Tensor: \\n {rand_tensor} \\n\")\n",
    "print(f\"Ones Tensor: \\n {ones_tensor} \\n\")\n",
    "print(f\"Zeros Tensor: \\n {zeros_tensor}\")"
   ]
  },
  {
   "cell_type": "markdown",
   "metadata": {
    "id": "9eKfCcb0xKbF"
   },
   "source": [
    "### Attributes of a Tensor\n",
    "\n",
    "Tensor attributes describe their shape, datatype, and the device on which they are stored.\n",
    "\n"
   ]
  },
  {
   "cell_type": "code",
   "execution_count": 81,
   "metadata": {
    "colab": {
     "base_uri": "https://localhost:8080/"
    },
    "id": "dOYjhMCIxKbF",
    "outputId": "831f3172-8959-4546-9e0a-927774b74633",
    "tags": []
   },
   "outputs": [
    {
     "name": "stdout",
     "output_type": "stream",
     "text": [
      "Shape of tensor: torch.Size([3, 4])\n",
      "Datatype of tensor: torch.float32\n",
      "Device tensor is stored on: cpu\n"
     ]
    }
   ],
   "source": [
    "tensor = torch.rand(3,4)\n",
    "\n",
    "print(f\"Shape of tensor: {tensor.shape}\")\n",
    "print(f\"Datatype of tensor: {tensor.dtype}\")\n",
    "print(f\"Device tensor is stored on: {tensor.device}\")"
   ]
  },
  {
   "cell_type": "markdown",
   "metadata": {
    "id": "3XfiZKPhxKbF"
   },
   "source": [
    "### Operations on Tensors\n",
    "\n",
    "Our models are implemented as a series of operations on tensors, e.g., multiplying tensors together, and applying non-linear functions to them.\n",
    "\n",
    "For details on the tensor opertations available, see [this page in the PyTorch documentation](https://pytorch.org/docs/stable/torch.html).\n",
    "\n",
    "Each of these operations can be run on the GPU (at typically higher speeds than on a\n",
    "CPU).\n",
    "Beyond the operations defined below, some other useful ones include:\n",
    "- `torch.tensor.view(-1)`, which reduces the tensor dimension, useful in convert batch input to single input [documentation](https://pytorch.org/docs/stable/generated/torch.Tensor.view.html)\n",
    "- `torch.squeeze`, which removes dimensions of size 1 [documentation](https://pytorch.org/docs/stable/generated/torch.squeeze.html)\n",
    "- `torch.unsqueeze`, which adds a dimension of size 1 [documentation](https://pytorch.org/docs/stable/generated/torch.unsqueeze.html)\n",
    "\n",
    "By default, tensors are created on the CPU. We need to explicitly move tensors to the GPU using\n",
    "``.to`` method (after checking for GPU availability). Keep in mind that copying large tensors\n",
    "across devices can be expensive in terms of time and memory!\n",
    "\n"
   ]
  },
  {
   "cell_type": "code",
   "execution_count": 82,
   "metadata": {
    "colab": {
     "base_uri": "https://localhost:8080/"
    },
    "id": "HDmjarmMxKbF",
    "outputId": "4a7ebbc0-3ec1-4c53-fff7-06ef8129a3a1"
   },
   "outputs": [
    {
     "name": "stdout",
     "output_type": "stream",
     "text": [
      "No GPU available\n"
     ]
    }
   ],
   "source": [
    "# We move our tensor to the GPU if available\n",
    "if torch.cuda.is_available():\n",
    "    print(\"GPU is available, moving tensor to it\")\n",
    "    tensor = tensor.to('cuda')\n",
    "else:\n",
    "    print(\"No GPU available\")"
   ]
  },
  {
   "cell_type": "markdown",
   "metadata": {
    "id": "8vvrPQlcxKbF"
   },
   "source": [
    "Now let's see how a few operations work."
   ]
  },
  {
   "cell_type": "markdown",
   "metadata": {
    "id": "RX3Z0_J2xKbF"
   },
   "source": [
    "**Indexing:**\n",
    "\n",
    "Indexing into a tensor is similar to accessing an element of a list. The tensor has a multidimensional structure and you can access parts of that structure."
   ]
  },
  {
   "cell_type": "code",
   "execution_count": 83,
   "metadata": {
    "colab": {
     "base_uri": "https://localhost:8080/"
    },
    "id": "hFXZWTmuxKbF",
    "outputId": "1aa81b24-c8b0-4a91-976a-5bbc2bf09a39"
   },
   "outputs": [
    {
     "name": "stdout",
     "output_type": "stream",
     "text": [
      "Complete tensor:\n",
      "tensor([[0.4130, 0.0920, 0.6786, 0.9053],\n",
      "        [0.5459, 0.9422, 0.6318, 0.0081],\n",
      "        [0.9379, 0.4625, 0.5738, 0.5780],\n",
      "        [0.0154, 0.7319, 0.2653, 0.9714]])\n",
      "\n",
      "First row:\n",
      "tensor([0.4130, 0.0920, 0.6786, 0.9053])\n",
      "\n",
      "Type of the first row:\n",
      "<class 'torch.Tensor'>\n"
     ]
    }
   ],
   "source": [
    "tensor = torch.rand(4, 4)\n",
    "print(\"Complete tensor:\")\n",
    "print(tensor)\n",
    "print('\\nFirst row:')\n",
    "print(tensor[0])\n",
    "print('\\nType of the first row:')\n",
    "print(type(tensor[0]))"
   ]
  },
  {
   "cell_type": "markdown",
   "metadata": {
    "id": "pVuBzSh8xKbG"
   },
   "source": [
    "**Slicing:**\n",
    "\n",
    "Sometimes we want to get a part of the tensor that does not correspond to one chunk we can index into. For example, in a 2-D tensor we may want to get a column of the tensor:"
   ]
  },
  {
   "cell_type": "code",
   "execution_count": 84,
   "metadata": {
    "colab": {
     "base_uri": "https://localhost:8080/"
    },
    "id": "Ezm7tcrKxKbG",
    "outputId": "f9d78f33-89e3-4c29-bca4-b91a22c5e906",
    "tags": []
   },
   "outputs": [
    {
     "name": "stdout",
     "output_type": "stream",
     "text": [
      "Complete tensor:\n",
      "tensor([[0.9030, 0.9575, 0.7527, 0.1481],\n",
      "        [0.6175, 0.9153, 0.1670, 0.2877],\n",
      "        [0.1650, 0.1907, 0.1475, 0.2482],\n",
      "        [0.0515, 0.4364, 0.7500, 0.3689]])\n",
      "\n",
      "First column:  tensor([0.9030, 0.6175, 0.1650, 0.0515])\n",
      "\n",
      "Last column: tensor([0.1481, 0.2877, 0.2482, 0.3689])\n"
     ]
    }
   ],
   "source": [
    "tensor = torch.rand(4, 4)\n",
    "print(\"Complete tensor:\")\n",
    "print(tensor)\n",
    "print('\\nFirst column: ', tensor[:, 0])\n",
    "print('\\nLast column:', tensor[..., -1])"
   ]
  },
  {
   "cell_type": "markdown",
   "metadata": {
    "id": "OkN4ieFnxKbG"
   },
   "source": [
    "Note that indexing and slicing gives you a view of the tensor - it does not make a copy.\n",
    "\n",
    "If you modify the slice then the corresponding part of the tensor will be adjusted:"
   ]
  },
  {
   "cell_type": "code",
   "execution_count": 85,
   "metadata": {
    "colab": {
     "base_uri": "https://localhost:8080/"
    },
    "id": "AakqOPscxKbG",
    "outputId": "7c399a70-c9e6-4f47-d4d6-ec48a725c8fa",
    "tags": []
   },
   "outputs": [
    {
     "name": "stdout",
     "output_type": "stream",
     "text": [
      "Original tensor\n",
      "tensor([[0.1333, 0.5797, 0.3014, 0.2396],\n",
      "        [0.5929, 0.4686, 0.9913, 0.4748],\n",
      "        [0.0424, 0.5769, 0.3952, 0.7800],\n",
      "        [0.7335, 0.4888, 0.2602, 0.3297]])\n",
      "\n",
      "A column of the tensor\n",
      "tensor([0.5797, 0.4686, 0.5769, 0.4888])\n",
      "\n",
      "The updated tensor\n",
      "tensor([[0.1333, 0.0000, 0.3014, 0.2396],\n",
      "        [0.5929, 0.0000, 0.9913, 0.4748],\n",
      "        [0.0424, 0.0000, 0.3952, 0.7800],\n",
      "        [0.7335, 0.0000, 0.2602, 0.3297]])\n"
     ]
    }
   ],
   "source": [
    "tensor = torch.rand(4, 4)\n",
    "print(\"Original tensor\")\n",
    "print(tensor)\n",
    "print(\"\\nA column of the tensor\")\n",
    "print(tensor[:,1])\n",
    "tensor[:,1] = 0\n",
    "print(\"\\nThe updated tensor\")\n",
    "print(tensor)"
   ]
  },
  {
   "cell_type": "markdown",
   "metadata": {
    "id": "2q_KUKE6xKbG"
   },
   "source": [
    "**Joining tensors**\n",
    "\n",
    "You can use `torch.cat` to concatenate a sequence of tensors along a given dimension."
   ]
  },
  {
   "cell_type": "code",
   "execution_count": 86,
   "metadata": {
    "colab": {
     "base_uri": "https://localhost:8080/"
    },
    "id": "ohPRbDZFxKbG",
    "outputId": "0cc86fa5-48e6-47a0-9491-5ddf327a14fe"
   },
   "outputs": [
    {
     "name": "stdout",
     "output_type": "stream",
     "text": [
      "Initial tensors:\n",
      "tensor([[0.2825, 0.6795, 0.8872],\n",
      "        [0.1636, 0.2742, 0.3222]])\n",
      "tensor([[0.0186, 0.4958, 0.1066],\n",
      "        [0.3346, 0.6978, 0.4516]])\n",
      "\n",
      "Combine along dimension 0\n",
      "tensor([[0.2825, 0.6795, 0.8872],\n",
      "        [0.1636, 0.2742, 0.3222],\n",
      "        [0.0186, 0.4958, 0.1066],\n",
      "        [0.3346, 0.6978, 0.4516]])\n",
      "\n",
      "Combine along dimension 1\n",
      "tensor([[0.2825, 0.6795, 0.8872, 0.0186, 0.4958, 0.1066],\n",
      "        [0.1636, 0.2742, 0.3222, 0.3346, 0.6978, 0.4516]])\n"
     ]
    }
   ],
   "source": [
    "tensor1 = torch.rand(2, 3)\n",
    "tensor2 = torch.rand(2, 3)\n",
    "print(\"Initial tensors:\")\n",
    "print(tensor1)\n",
    "print(tensor2)\n",
    "print(\"\\nCombine along dimension 0\")\n",
    "combined = torch.cat([tensor1, tensor2], dim=0)\n",
    "print(combined)\n",
    "print(\"\\nCombine along dimension 1\")\n",
    "combined = torch.cat([tensor1, tensor2], dim=1)\n",
    "print(combined)"
   ]
  },
  {
   "cell_type": "markdown",
   "metadata": {
    "id": "Iu05rnsmxKbG"
   },
   "source": [
    "We can also combine tensors and create a new dimension in the process with `torch.stack`:"
   ]
  },
  {
   "cell_type": "code",
   "execution_count": null,
   "metadata": {
    "colab": {
     "base_uri": "https://localhost:8080/"
    },
    "id": "6fumXZqWxKbG",
    "outputId": "d6c414d3-25a1-4d8c-e434-524c4c2577c1",
    "tags": []
   },
   "outputs": [
    {
     "name": "stdout",
     "output_type": "stream",
     "text": [
      "Initial tensors:\n",
      "tensor([[0.2993, 0.4750, 0.9063],\n",
      "        [0.5529, 0.8859, 0.9253]])\n",
      "tensor([[0.9665, 0.6160, 0.7633],\n",
      "        [0.8730, 0.1644, 0.5906]])\n",
      "\n",
      "Stacked\n",
      "tensor([[[0.2993, 0.4750, 0.9063],\n",
      "         [0.5529, 0.8859, 0.9253]],\n",
      "\n",
      "        [[0.9665, 0.6160, 0.7633],\n",
      "         [0.8730, 0.1644, 0.5906]]])\n"
     ]
    }
   ],
   "source": [
    "tensor1 = torch.rand(2, 3)\n",
    "tensor2 = torch.rand(2, 3)\n",
    "print(\"Initial tensors:\")\n",
    "print(tensor1)\n",
    "print(tensor2)\n",
    "print(\"\\nStacked\")\n",
    "# 2个 2行3列的 tensor\n",
    "combined = torch.stack([tensor1, tensor2], dim=0)\n",
    "print(combined)"
   ]
  },
  {
   "cell_type": "markdown",
   "metadata": {
    "id": "dsUQ5gNsxKbG"
   },
   "source": [
    "**Arithmetic operations**\n",
    "\n"
   ]
  },
  {
   "cell_type": "code",
   "execution_count": null,
   "metadata": {
    "colab": {
     "base_uri": "https://localhost:8080/"
    },
    "id": "zDkbHP5AxKbG",
    "outputId": "488d636a-b662-4aa6-c212-f3fe17d7338c"
   },
   "outputs": [
    {
     "data": {
      "text/plain": [
       "tensor([[0.0178, 0.0000, 0.0908, 0.0574],\n",
       "        [0.3516, 0.0000, 0.9827, 0.2255],\n",
       "        [0.0018, 0.0000, 0.1562, 0.6084],\n",
       "        [0.5381, 0.0000, 0.0677, 0.1087]])"
      ]
     },
     "execution_count": 88,
     "metadata": {},
     "output_type": "execute_result"
    }
   ],
   "source": [
    "# This computes the matrix multiplication between two tensors. y1, y2, y3 will have the same value\n",
    "y1 = tensor @ tensor.T\n",
    "y2 = tensor.matmul(tensor.T)\n",
    "\n",
    "y3 = torch.rand_like(tensor)\n",
    "torch.matmul(tensor, tensor.T, out=y3)\n",
    "\n",
    "\n",
    "# This computes the element-wise product (dot product). z1, z2, z3 will have the same value\n",
    "z1 = tensor * tensor\n",
    "z2 = tensor.mul(tensor)\n",
    "\n",
    "z3 = torch.rand_like(tensor)\n",
    "torch.mul(tensor, tensor, out=z3)"
   ]
  },
  {
   "cell_type": "markdown",
   "metadata": {
    "id": "s5Lfr-clxKbG"
   },
   "source": [
    "**Single-element tensors** If you have a one-element tensor, for example by aggregating all\n",
    "values of a tensor into one value, you can convert it to a Python\n",
    "numerical value using ``item()``:\n",
    "\n"
   ]
  },
  {
   "cell_type": "code",
   "execution_count": 89,
   "metadata": {
    "colab": {
     "base_uri": "https://localhost:8080/"
    },
    "id": "0jgy1dI1xKbG",
    "outputId": "edcfe4c9-9057-42b5-abca-3b030a959a06"
   },
   "outputs": [
    {
     "name": "stdout",
     "output_type": "stream",
     "text": [
      "5.274263381958008 <class 'float'>\n"
     ]
    }
   ],
   "source": [
    "agg = tensor.sum()\n",
    "agg_item = agg.item()\n",
    "print(agg_item, type(agg_item))"
   ]
  },
  {
   "cell_type": "markdown",
   "metadata": {
    "id": "3DsDs8DdxKbG"
   },
   "source": [
    "--------------\n",
    "\n",
    "\n"
   ]
  },
  {
   "cell_type": "markdown",
   "metadata": {
    "id": "nFg_kQwVxKbG"
   },
   "source": [
    "### Connect with NumPy [Optional]\n",
    "\n",
    "It is possible to access the same memory as both a PyTorch tensor and a NumPy array. This allows the data to be modified by either library."
   ]
  },
  {
   "cell_type": "code",
   "execution_count": null,
   "metadata": {
    "colab": {
     "base_uri": "https://localhost:8080/"
    },
    "id": "YrN2_DXxxKbG",
    "outputId": "3f77995d-4a8a-4bf5-96d5-d5ecf0e603e8"
   },
   "outputs": [
    {
     "name": "stdout",
     "output_type": "stream",
     "text": [
      "t: tensor([1., 1., 1., 1., 1.]) (PyTorch tensor)\n",
      "n: [1. 1. 1. 1. 1.] (NumPy array)\n",
      "\n",
      "Add one to the PyTorch tensor and we now have:\n",
      "t: tensor([2., 2., 2., 2., 2.])\n",
      "n: [2. 2. 2. 2. 2.]\n",
      "\n",
      "Add one to the NumPy array and we now have:\n",
      "t: tensor([3., 3., 3., 3., 3.])\n",
      "n: [3. 3. 3. 3. 3.]\n",
      "\n",
      "We can go the other way too:\n",
      "t: tensor([1., 1., 1., 1., 1.], dtype=torch.float64)\n",
      "n: [1. 1. 1. 1. 1.]\n",
      "t: tensor([2., 2., 2., 2., 2.], dtype=torch.float64)\n",
      "n: [2. 2. 2. 2. 2.]\n"
     ]
    }
   ],
   "source": [
    "t = torch.ones(5)\n",
    "print(f\"t: {t} (PyTorch tensor)\")\n",
    "n = t.numpy()\n",
    "print(f\"n: {n} (NumPy array)\")\n",
    "\n",
    "# access the same memory\n",
    "print(\"\\nAdd one to the PyTorch tensor and we now have:\")\n",
    "t.add_(1)\n",
    "print(f\"t: {t}\")\n",
    "print(f\"n: {n}\")\n",
    "print(\"\\nAdd one to the NumPy array and we now have:\")\n",
    "np.add(n, 1, out=n)\n",
    "print(f\"t: {t}\")\n",
    "print(f\"n: {n}\")\n",
    "\n",
    "print(\"\\nWe can go the other way too:\")\n",
    "n = np.ones(5)\n",
    "t = torch.from_numpy(n)\n",
    "print(f\"t: {t}\")\n",
    "print(f\"n: {n}\")\n",
    "np.add(n, 1, out=n)\n",
    "print(f\"t: {t}\")\n",
    "print(f\"n: {n}\")"
   ]
  },
  {
   "cell_type": "markdown",
   "metadata": {
    "id": "um1Zb3KVxKbG"
   },
   "source": [
    "# Datasets & DataLoaders\n"
   ]
  },
  {
   "cell_type": "markdown",
   "metadata": {
    "id": "jn__jv4qxKbG"
   },
   "source": [
    "Code for processing data samples can get messy and hard to maintain; we ideally want our dataset code\n",
    "to be decoupled from our model training code for better readability and modularity.\n",
    "PyTorch provides two data primitives: `torch.utils.data.DataLoader` and `torch.utils.data.Dataset`\n",
    "that allow you to use pre-loaded datasets as well as your own data.\n",
    "`Dataset` stores the samples and their corresponding labels, and `DataLoader` wraps an iterable around\n",
    "the `Dataset` to enable easy access to the samples."
   ]
  },
  {
   "cell_type": "markdown",
   "metadata": {
    "id": "aFBd7CEmxKbO"
   },
   "source": [
    "## Creating a Custom Dataset for your files [Optional Reading]\n",
    "\n",
    "We are going to load the same data as from Workshop 2, but this time into PyTorch, rather than scikit-learn.\n",
    "\n",
    "A custom Dataset class must implement three functions: `__init__`, `__len__`, and `__getitem__`.\n",
    "\n",
    "In the next few sections, we'll explain each function so you can implement the data reader at the bottom of this section."
   ]
  },
  {
   "cell_type": "markdown",
   "metadata": {
    "id": "DawgasuexKbO"
   },
   "source": [
    "### `__init__`\n",
    "\n",
    "The `__init__` function is run once when instantiating the Dataset object. We read the data file and store the relevant parts. We also record some transforms, which will be covered in more detail in the next section."
   ]
  },
  {
   "cell_type": "code",
   "execution_count": 91,
   "metadata": {
    "id": "pg4hs8kJxKbO"
   },
   "outputs": [],
   "source": [
    "def __init__(self, json_file, transform=None, target_transform=None):\n",
    "    self.labels = []\n",
    "    self.inputs = []\n",
    "    for line in open(json_file):\n",
    "        data = json.loads(line.strip())\n",
    "        for msg, tlabel in zip(data['messages'], data['sender_labels']):\n",
    "            self.inputs.append(msg)\n",
    "            if tlabel:\n",
    "                tlabel = 0\n",
    "            else:\n",
    "                tlabel = 1\n",
    "            self.labels.append(tlabel)\n",
    "    self.transform = transform\n",
    "    self.target_transform = target_transform"
   ]
  },
  {
   "cell_type": "markdown",
   "metadata": {
    "id": "kL6Q-dHDxKbO"
   },
   "source": [
    "### `__len__`\n",
    "\n",
    "The `__len__` function returns the number of samples in our dataset.\n",
    "\n"
   ]
  },
  {
   "cell_type": "code",
   "execution_count": 92,
   "metadata": {
    "id": "FO84hrZnxKbO"
   },
   "outputs": [],
   "source": [
    "def __len__(self):\n",
    "    return len(self.labels)"
   ]
  },
  {
   "cell_type": "markdown",
   "metadata": {
    "id": "CDncXOowxKbO"
   },
   "source": [
    "### `__getitem__`\n",
    "\n",
    "The `__getitem__` function loads and returns a sample from the dataset at the given index `idx`.\n",
    "Based on the index, it gets the data, calls the transform functions on them (if applicable), and returns the\n",
    "text and a corresponding label in a tuple.\n",
    "\n",
    "In many cases, there is further preprocessing that occurs here, so we can provide a tensor rather than strings."
   ]
  },
  {
   "cell_type": "code",
   "execution_count": 93,
   "metadata": {
    "id": "deyXfCyixKbO"
   },
   "outputs": [],
   "source": [
    "def __getitem__(self, idx):\n",
    "    text = self.inputs[idx]\n",
    "    label = self.labels[idx]\n",
    "    if self.transform:\n",
    "        text = self.transform(text)\n",
    "    if self.target_transform:\n",
    "        label = self.target_transform(label)\n",
    "    return text, label"
   ]
  },
  {
   "cell_type": "markdown",
   "metadata": {
    "id": "I-r6qmW1xKbO"
   },
   "source": [
    "### The complete data loader [Optional Reading]\n",
    "\n",
    "Below we have put these pieces together to make the dataset loader."
   ]
  },
  {
   "cell_type": "code",
   "execution_count": 94,
   "metadata": {
    "id": "Yjh-LtLXxKbO",
    "tags": []
   },
   "outputs": [],
   "source": [
    "import json\n",
    "\n",
    "from torch.utils.data import Dataset\n",
    "\n",
    "class CustomTextDataset(Dataset):\n",
    "    def __init__(self, json_file, transform=None, target_transform=None):\n",
    "        self.labels = []\n",
    "        self.inputs = []\n",
    "        for line in open(json_file):\n",
    "            data = json.loads(line.strip())\n",
    "            for msg, tlabel in zip(data['messages'], data['sender_labels']):\n",
    "                self.inputs.append(msg)\n",
    "                if tlabel:\n",
    "                    tlabel = 0\n",
    "                else:\n",
    "                    tlabel = 1\n",
    "                self.labels.append(tlabel)\n",
    "        self.transform = transform\n",
    "        self.target_transform = target_transform\n",
    "        print(\"Read\", len(self.labels), len(self.inputs))\n",
    "\n",
    "    def __len__(self):\n",
    "        return len(self.labels)\n",
    "\n",
    "    def __getitem__(self, idx):\n",
    "        text = self.inputs[idx]\n",
    "        label = self.labels[idx]\n",
    "        if self.transform:\n",
    "            text = self.transform(text)\n",
    "        if self.target_transform:\n",
    "            label = self.target_transform(label)\n",
    "        return text, label"
   ]
  },
  {
   "cell_type": "markdown",
   "metadata": {
    "id": "M9nFCVFcxKbO"
   },
   "source": [
    "## Preparing the data for training with DataLoaders [Optional Reading]\n",
    "\n",
    "The `Dataset` retrieves our dataset's features and labels one sample at a time. While training a model, we typically want to\n",
    "pass samples in \"minibatches\", reshuffle the data at every epoch to reduce model overfitting, and use Python's `multiprocessing` to speed up data retrieval.\n",
    "\n",
    "`DataLoader` is an iterable that abstracts this complexity for us in an easy API."
   ]
  },
  {
   "cell_type": "code",
   "execution_count": 95,
   "metadata": {
    "id": "E51XAmwXxKbO"
   },
   "outputs": [
    {
     "name": "stdout",
     "output_type": "stream",
     "text": [
      "Read 11766 11766\n",
      "Read 2782 2782\n",
      "Read 2741 2741\n"
     ]
    }
   ],
   "source": [
    "from torch.utils.data import DataLoader\n",
    "\n",
    "def get_dataloader(filename):\n",
    "    dataset = CustomTextDataset(filename)\n",
    "    dataloader = DataLoader(dataset, batch_size=64, shuffle=True)\n",
    "    return dataloader, dataset\n",
    "\n",
    "train_dataloader, train_dataset = get_dataloader(\"mod-train.jsonl\")\n",
    "validation_dataloader, validation_dataset = get_dataloader(\"mod-validation.jsonl\")\n",
    "test_dataloader, test_dataset = get_dataloader(\"mod-test.jsonl\")"
   ]
  },
  {
   "cell_type": "markdown",
   "metadata": {
    "id": "I_WNA8rRxKbO"
   },
   "source": [
    "## Iterate through the DataLoader [Optional Reading]\n",
    "\n",
    "We have loaded that dataset into the ``DataLoader`` and can iterate through the dataset as needed.\n",
    "Each iteration below returns a batch of ``train_features`` and ``train_labels`` (containing ``batch_size=64`` features and labels respectively).\n",
    "Because we specified ``shuffle=True``, after we iterate over all batches the data is shuffled (for finer-grained control over\n",
    "the data loading order, take a look at [Samplers](https://pytorch.org/docs/stable/data.html#data-loading-order-and-sampler)).\n",
    "\n"
   ]
  },
  {
   "cell_type": "code",
   "execution_count": 96,
   "metadata": {
    "colab": {
     "base_uri": "https://localhost:8080/",
     "height": 411
    },
    "id": "fMVj1GYHxKbP",
    "outputId": "333fb994-91aa-408c-8244-08c047ab878a"
   },
   "outputs": [
    {
     "name": "stdout",
     "output_type": "stream",
     "text": [
      "First text:\n",
      "For several reasons: If we take Bulgaria this season they're pushed back into Constantinople with the possibility of three units supporting and not even close to enough units for us to push through them. If we take Constantinople and Bulgaria simultaneously in Fall, we not only deprive them of an additional build, we also put ourselves in the position to destroy them in the next year completely.\n",
      "\n",
      "First label:\n",
      "tensor([0, 0, 0, 0, 0, 0, 0, 0, 0, 0, 0, 0, 0, 0, 0, 0, 0, 0, 0, 0, 0, 0, 1, 0,\n",
      "        0, 0, 0, 0, 0, 0, 0, 0, 0, 0, 0, 0, 0, 0, 0, 0, 0, 0, 0, 0, 1, 0, 0, 0,\n",
      "        0, 0, 0, 0, 0, 0, 0, 0, 0, 0, 0, 0, 0, 0, 0, 0])\n",
      "\n",
      "Number of labels:\n",
      "torch.Size([64])\n"
     ]
    }
   ],
   "source": [
    "training_text_batch, training_label_batch = next(iter(train_dataloader))\n",
    "print(\"First text:\")\n",
    "print(training_text_batch[0])\n",
    "print(\"\\nFirst label:\")\n",
    "print(training_label_batch)\n",
    "print(\"\\nNumber of labels:\")\n",
    "print(training_label_batch.size())"
   ]
  },
  {
   "cell_type": "markdown",
   "metadata": {
    "id": "KhvaUZ0zxKbP"
   },
   "source": [
    "--------------\n",
    "\n",
    "\n"
   ]
  },
  {
   "cell_type": "markdown",
   "metadata": {
    "id": "O6mF_iQTxKbP"
   },
   "source": [
    "### Prepare data processing pipelines [Optional Reading]\n",
    "\n",
    "Our data is currently strings, but a neural network needs numbers. To convert to numbers we will create a vocabulary, which maps from tokens to integer IDs."
   ]
  },
  {
   "cell_type": "code",
   "execution_count": 97,
   "metadata": {
    "colab": {
     "base_uri": "https://localhost:8080/"
    },
    "id": "lH2i2OM-xKbP",
    "outputId": "898606e1-16c0-449b-92db-7f0d63c12423",
    "tags": []
   },
   "outputs": [
    {
     "name": "stdout",
     "output_type": "stream",
     "text": [
      "Read 11766 11766\n",
      "[429, 45, 54, 2286]\n"
     ]
    }
   ],
   "source": [
    "train_iter = CustomTextDataset(\"mod-train.jsonl\")\n",
    "\n",
    "def yield_tokens(data_iter):\n",
    "    for text, _ in data_iter:\n",
    "        for token in text.split():\n",
    "            yield token\n",
    "\n",
    "class Vocab(object):\n",
    "    def __init__(self, token_iter):\n",
    "        self.str_to_num = {\"<unk>\": 0}\n",
    "        self.num_to_str = [\"<unk>\"]\n",
    "        for token in token_iter:\n",
    "            if token not in self.str_to_num:\n",
    "                self.str_to_num[token] = len(self.str_to_num)\n",
    "                self.num_to_str.append(token)\n",
    "\n",
    "    def __call__(self, tokens):\n",
    "        return [self.str_to_num.get(t, 0) for t in tokens]\n",
    "\n",
    "    def __len__(self):\n",
    "        return len(self.num_to_str)\n",
    "\n",
    "vocab = Vocab(yield_tokens(train_iter))\n",
    "\n",
    "print(vocab(['here', 'is', 'an', 'example']))"
   ]
  },
  {
   "cell_type": "markdown",
   "metadata": {
    "id": "67K7yAfTxKbP"
   },
   "source": [
    "Using this vocabulary, we can define functions that will convert strings."
   ]
  },
  {
   "cell_type": "code",
   "execution_count": 98,
   "metadata": {
    "colab": {
     "base_uri": "https://localhost:8080/"
    },
    "id": "6DgVt5l-xKbP",
    "outputId": "70488b51-c807-4834-9c7c-1af667bdf9b3",
    "tags": []
   },
   "outputs": [
    {
     "name": "stdout",
     "output_type": "stream",
     "text": [
      "[429, 45, 3, 54, 2286]\n",
      "10\n"
     ]
    }
   ],
   "source": [
    "def text_pipeline(text):\n",
    "    return vocab(text.split())\n",
    "\n",
    "def label_pipeline(label):\n",
    "    return int(label)\n",
    "\n",
    "print(text_pipeline('here is the an example'))\n",
    "print(label_pipeline('10'))"
   ]
  },
  {
   "cell_type": "markdown",
   "metadata": {
    "id": "dTnWFKEpxKbP"
   },
   "source": [
    "### Generate data batch and iterator [Optional Reading]\n",
    "\n",
    "The data produced by the `DataLoader` above is not ready to be used by a model because all the words are strings. Now, with the preprocessing functions, we can change that.\n",
    "\n",
    "Before sending data to the model, `collate_fn` function works on a batch of samples generated from DataLoader. The input to `collate_fn` is a batch of data with the batch size in DataLoader, and `collate_fn` processes them according to the data processing pipelines declared previously. Pay attention here and make sure that `collate_fn` is declared as a top level def. This ensures that the function is available in each worker.\n",
    "\n",
    "In this example, the text entries in the original data batch input are packed into a list and concatenated as a single tensor for the input of `nn.EmbeddingBag`. The offset is a tensor of delimiters to represent the beginning index of the individual sequence in the text tensor. Label is a tensor saving the labels of individual text entries."
   ]
  },
  {
   "cell_type": "code",
   "execution_count": 99,
   "metadata": {
    "id": "WTjZxk5BxKbP"
   },
   "outputs": [
    {
     "name": "stdout",
     "output_type": "stream",
     "text": [
      "Read 11766 11766\n"
     ]
    }
   ],
   "source": [
    "from torch.utils.data import DataLoader\n",
    "\n",
    "device = torch.device(\"cuda\" if torch.cuda.is_available() else \"cpu\")\n",
    "\n",
    "\n",
    "def collate_batch(batch):\n",
    "    label_list, text_list, offsets = [], [], [0]\n",
    "    for _text, _label in batch:\n",
    "        label_list.append(label_pipeline(_label))\n",
    "        processed_text = torch.tensor(text_pipeline(_text), dtype=torch.int64)\n",
    "        text_list.append(processed_text)\n",
    "        offsets.append(processed_text.size(0))\n",
    "    label_list = torch.tensor(label_list, dtype=torch.int64)\n",
    "    offsets = torch.tensor(offsets[:-1]).cumsum(dim=0)\n",
    "    text_list = torch.cat(text_list)\n",
    "    return text_list.to(device), label_list.to(device), offsets.to(device)\n",
    "\n",
    "train_iter = CustomTextDataset(\"mod-train.jsonl\")\n",
    "dataloader = DataLoader(\n",
    "    train_iter, batch_size=8, shuffle=False, collate_fn=collate_batch\n",
    ")"
   ]
  },
  {
   "cell_type": "markdown",
   "metadata": {
    "id": "hudg7qmwxKbP"
   },
   "source": [
    "# Build the Neural Network\n",
    "\n",
    "Neural networks are comprised of layers/modules that perform operations on data.\n",
    "The [torch.nn](https://pytorch.org/docs/stable/nn.html) namespace provides all the building blocks you need to\n",
    "build your own neural network. Every module in PyTorch subclasses the [nn.Module](https://pytorch.org/docs/stable/generated/torch.nn.Module.html).\n",
    "A neural network is a module itself that consists of other modules (layers). This nested structure allows for\n",
    "building and managing complex architectures easily.\n",
    "\n",
    "In the following sections, we'll build a neural network to classify text in the dataset.\n",
    "\n",
    "The model is composed of the nn.EmbeddingBag layer plus a linear layer for the classification purpose. nn.EmbeddingBag with the default mode of “mean” computes the mean value of a “bag” of embeddings. Although the text entries here have different lengths, nn.EmbeddingBag module requires no padding here since the text lengths are saved in offsets.\n",
    "\n",
    "Additionally, since nn.EmbeddingBag accumulates the average across the embeddings on the fly, nn.EmbeddingBag can enhance the performance and memory efficiency to process a sequence of tensors"
   ]
  },
  {
   "cell_type": "code",
   "execution_count": 100,
   "metadata": {
    "id": "fC8FTpxSxKbP"
   },
   "outputs": [],
   "source": [
    "import os\n",
    "import torch\n",
    "from torch import nn\n",
    "from torch.utils.data import DataLoader"
   ]
  },
  {
   "cell_type": "markdown",
   "metadata": {
    "id": "2tzyAWYWxKbP"
   },
   "source": [
    "## Get Device for Training\n",
    "We want to be able to train our model on a hardware accelerator like the GPU or MPS,\n",
    "if available. Let's check to see if [torch.cuda](https://pytorch.org/docs/stable/notes/cuda.html)\n",
    "or [torch.backends.mps](https://pytorch.org/docs/stable/notes/mps.html) are available, otherwise we use the CPU.\n",
    "\n",
    "Note: The `nn.EmbeddingBag` is not implemented for `mps` so we will not use it even if it is available. The code is included for completeness here."
   ]
  },
  {
   "cell_type": "code",
   "execution_count": 101,
   "metadata": {
    "colab": {
     "base_uri": "https://localhost:8080/"
    },
    "id": "FOtiOVoexKbP",
    "outputId": "e7b61908-f4ea-423d-cad6-58bd4d438216"
   },
   "outputs": [
    {
     "name": "stdout",
     "output_type": "stream",
     "text": [
      "Using cpu device\n"
     ]
    }
   ],
   "source": [
    "device = 'cpu'\n",
    "if torch.cuda.is_available():\n",
    "    device = \"cuda\"\n",
    "elif torch.backends.mps.is_available():\n",
    "    pass\n",
    "    #device = \"mps\"\n",
    "print(f\"Using {device} device\")"
   ]
  },
  {
   "cell_type": "markdown",
   "metadata": {
    "id": "RkRDvepOxKbP"
   },
   "source": [
    "## Define the Class\n",
    "We define our neural network by subclassing ``nn.Module``, and\n",
    "initialize the neural network layers in ``__init__``. Every ``nn.Module`` subclass implements\n",
    "the operations on input data in the ``forward`` method.\n",
    "\n"
   ]
  },
  {
   "cell_type": "code",
   "execution_count": null,
   "metadata": {
    "id": "HmXARhuWxKbP"
   },
   "outputs": [],
   "source": [
    "class TextClassificationModel(nn.Module):\n",
    "    def __init__(self, vocab_size, embed_dim, num_class):\n",
    "        '''\n",
    "        具体来说，super(TextClassificationModel, self) 获取到的是 TextClassificationModel 的父类 nn.Module，然后调用它的构造函数 __init__()。这种写法比较直观，但在 Python 3 中可以使用更简洁的写法。\n",
    "\n",
    "        super().__init__()\n",
    "        这种写法是 隐式指定父类 的写法。它是 Python 3 中的一个特性，利用 super() 自动推断当前类和实例的父类，因此不需要显式指定类名和实例。\n",
    "\n",
    "        super().__init__() 的效果与 super(TextClassificationModel, self).__init__() 完全相同，都是调用 nn.Module 的构造函数。\n",
    "        '''\n",
    "        super(TextClassificationModel, self).__init__()\n",
    "        # Create the embedding, which goes from token IDs to a vector, which is the sum of word vectors\n",
    "        self.embedding = nn.EmbeddingBag(vocab_size, embed_dim, sparse=False)\n",
    "        # Create a linear layer, which is a matrix of weights we multiply the embedding by to get scores\n",
    "        self.fc = nn.Linear(embed_dim, num_class)\n",
    "        # Call the function below to initialise the values of the weights\n",
    "        self.init_weights()\n",
    "\n",
    "    def init_weights(self):\n",
    "        # This function sets the starting / initial value of the weights for each part of the model\n",
    "        initrange = 0.5\n",
    "        self.embedding.weight.data.uniform_(-initrange, initrange)\n",
    "        self.fc.weight.data.uniform_(-initrange, initrange)\n",
    "        self.fc.bias.data.zero_()\n",
    "\n",
    "    def forward(self, text, offsets):\n",
    "        # This function does the actual computation. When text comes in as a set of token IDs, it runs the embedding, then the linear layer, to get scores for each possible label\n",
    "        embedded = self.embedding(text, offsets)\n",
    "        return self.fc(embedded)"
   ]
  },
  {
   "cell_type": "markdown",
   "metadata": {
    "id": "E1u8rVR9xKbP"
   },
   "source": [
    "We build a model with the embedding dimension of 64. The vocab size is equal to the length of the vocabulary instance. The number of classes is equal to the number of labels. We also set a seed for the random number generator so that results are consistent across students:"
   ]
  },
  {
   "cell_type": "code",
   "execution_count": 103,
   "metadata": {
    "id": "x8SUU7AzxKbP"
   },
   "outputs": [
    {
     "name": "stdout",
     "output_type": "stream",
     "text": [
      "Read 11766 11766\n"
     ]
    }
   ],
   "source": [
    "train_iter = CustomTextDataset(\"mod-train.jsonl\")\n",
    "num_class = len(set([label for (text, label) in train_iter]))\n",
    "vocab_size = len(vocab)\n",
    "emsize = 64\n",
    "torch.manual_seed(0)\n",
    "model = TextClassificationModel(vocab_size, emsize, num_class).to(device)"
   ]
  },
  {
   "cell_type": "markdown",
   "metadata": {
    "id": "BM85ecHexKbP"
   },
   "source": [
    "To use the model, we pass it the input data. This executes the model's ``forward``,\n",
    "along with some [background operations](https://github.com/pytorch/pytorch/blob/270111b7b611d174967ed204776985cefca9c144/torch/nn/modules/module.py#L866).\n",
    "Do not call ``model.forward()`` directly!\n",
    "\n",
    "Calling the model on the input returns a 2-dimensional tensor with dim=0 corresponding to each output of the two raw predicted values for each class (whether the message is the truth or a lie), and dim=1 corresponding to the individual values of each output.\n",
    "We get the prediction probabilities by passing it through an instance of the ``nn.Softmax`` module.\n",
    "\n",
    "We haven't trained the model yet, so the code below will run, but its output will be somewhat random."
   ]
  },
  {
   "cell_type": "code",
   "execution_count": 104,
   "metadata": {
    "colab": {
     "base_uri": "https://localhost:8080/"
    },
    "id": "bQvbsBofxKbP",
    "outputId": "288dd3ce-11f3-4ea3-9242-78d179b8bd19"
   },
   "outputs": [
    {
     "name": "stdout",
     "output_type": "stream",
     "text": [
      "Predicted class: tensor([0])\n"
     ]
    }
   ],
   "source": [
    "X = torch.tensor(text_pipeline(\"This is a sample sentence\"), dtype=torch.int64)\n",
    "X = X.to(device)\n",
    "offsets = torch.tensor([0])\n",
    "offsets = offsets.to(device)\n",
    "logits = model(X, offsets)\n",
    "pred_probab = nn.Softmax(dim=1)(logits)\n",
    "y_pred = pred_probab.argmax(1)\n",
    "print(f\"Predicted class: {y_pred}\")"
   ]
  },
  {
   "cell_type": "markdown",
   "metadata": {
    "id": "npDB-OBgxKbP"
   },
   "source": [
    "--------------\n",
    "\n",
    "\n"
   ]
  },
  {
   "cell_type": "markdown",
   "metadata": {
    "id": "7jvGGM22xKbP"
   },
   "source": [
    "## Model Layers\n",
    "\n",
    "Let's break down the layers in the classification model. To illustrate it, we\n",
    "will take a sample text input and see what happens as we pass it through the network.\n"
   ]
  },
  {
   "cell_type": "code",
   "execution_count": null,
   "metadata": {
    "colab": {
     "base_uri": "https://localhost:8080/"
    },
    "id": "skJ1CwAlxKbQ",
    "outputId": "2671747b-445a-4a89-dfc6-530a38f3b407"
   },
   "outputs": [
    {
     "name": "stdout",
     "output_type": "stream",
     "text": [
      "torch.Size([4])\n"
     ]
    }
   ],
   "source": [
    "input_text = \"This is a sample\"\n",
    "# 负责把 input_text 转换成整数索引\n",
    "processed_text = torch.tensor(text_pipeline(input_text), dtype=torch.int64)\n",
    "print(processed_text.size())"
   ]
  },
  {
   "cell_type": "markdown",
   "metadata": {
    "id": "K0nx15gKxKbQ"
   },
   "source": [
    "### nn.EmbeddingBag\n",
    "We initialize the [nn.EmbeddingBag](https://pytorch.org/docs/stable/generated/torch.nn.EmbeddingBag.html) layer to convert each token into a vector (the minibatch dimension (at dim=0) is maintained).\n",
    "\n"
   ]
  },
  {
   "cell_type": "code",
   "execution_count": 106,
   "metadata": {
    "id": "nO1BdthcxKbQ"
   },
   "outputs": [],
   "source": [
    "embed_dim = 128\n",
    "embedding = nn.EmbeddingBag(vocab_size, embed_dim, sparse=False)\n",
    "embedded_text = embedding(processed_text, torch.tensor([0]))"
   ]
  },
  {
   "cell_type": "markdown",
   "metadata": {
    "id": "a4AcSWTAxKbQ"
   },
   "source": [
    "### nn.Linear\n",
    "The [linear layer](https://pytorch.org/docs/stable/generated/torch.nn.Linear.html)\n",
    "is a module that applies a linear transformation on the input using its stored weights and biases.\n",
    "\n",
    "\n"
   ]
  },
  {
   "cell_type": "code",
   "execution_count": 107,
   "metadata": {
    "colab": {
     "base_uri": "https://localhost:8080/"
    },
    "id": "Vz8Ye_RCxKbQ",
    "outputId": "08caba16-645d-4afa-94c7-3ba659501dc2"
   },
   "outputs": [
    {
     "name": "stdout",
     "output_type": "stream",
     "text": [
      "torch.Size([1, 2])\n"
     ]
    }
   ],
   "source": [
    "linear_layer = nn.Linear(embed_dim, num_class)\n",
    "after_linear = linear_layer(embedded_text)\n",
    "print(after_linear.size())"
   ]
  },
  {
   "cell_type": "markdown",
   "metadata": {
    "id": "nNMahi9sxKbR"
   },
   "source": [
    "## Model Parameters\n",
    "Many layers inside a neural network are *parameterized*, i.e. have associated weights\n",
    "and biases that are optimized during training. Subclassing ``nn.Module`` automatically\n",
    "tracks all fields defined inside your model object, and makes all parameters\n",
    "accessible using your model's ``parameters()`` or ``named_parameters()`` methods.\n",
    "\n",
    "In this example, we iterate over each parameter, and print its size and a preview of its values.\n",
    "\n",
    "\n"
   ]
  },
  {
   "cell_type": "code",
   "execution_count": 108,
   "metadata": {
    "colab": {
     "base_uri": "https://localhost:8080/"
    },
    "id": "NzO1J51YxKbR",
    "outputId": "bb2014ff-9b0c-45d9-9b91-a9053ca0cdec"
   },
   "outputs": [
    {
     "name": "stdout",
     "output_type": "stream",
     "text": [
      "Model structure: TextClassificationModel(\n",
      "  (embedding): EmbeddingBag(16377, 64, mode='mean')\n",
      "  (fc): Linear(in_features=64, out_features=2, bias=True)\n",
      ")\n",
      "\n",
      "\n",
      "Layer: embedding.weight | Size: torch.Size([16377, 64]) | Values : tensor([[ 0.2645, -0.4655,  0.3043,  0.4324, -0.4327, -0.2976,  0.4373,  0.3005,\n",
      "         -0.2616, -0.4378, -0.3856,  0.4366,  0.3949, -0.1520, -0.1325, -0.1351,\n",
      "          0.1171, -0.3044, -0.4334,  0.3032,  0.3322,  0.3822, -0.3429,  0.2422,\n",
      "         -0.2833, -0.2283,  0.2864,  0.4530,  0.1991, -0.2419,  0.3447, -0.1111,\n",
      "         -0.1037,  0.1568, -0.2786, -0.4232,  0.4534,  0.3434, -0.3681, -0.1856,\n",
      "         -0.4708, -0.2233,  0.1724,  0.2424, -0.4557, -0.1700,  0.1951, -0.2215,\n",
      "          0.1075,  0.2820,  0.3942,  0.0351, -0.0618,  0.3626, -0.0783,  0.0957,\n",
      "         -0.2375,  0.1727,  0.3676, -0.2435,  0.3653,  0.0121, -0.1461,  0.1690],\n",
      "        [-0.1514,  0.3692, -0.3844,  0.3541, -0.0966, -0.3555, -0.3974, -0.1039,\n",
      "         -0.0290,  0.3862,  0.0554, -0.4057, -0.4547,  0.2004, -0.1870, -0.2767,\n",
      "          0.1041,  0.3688,  0.2674,  0.2563,  0.1904, -0.3109, -0.0390,  0.0595,\n",
      "         -0.2221,  0.0614,  0.4037,  0.4792, -0.2647, -0.0463, -0.3070,  0.1403,\n",
      "         -0.2200,  0.0409, -0.0425,  0.4674,  0.0628,  0.1600, -0.4214,  0.3350,\n",
      "          0.0688,  0.0940, -0.4639, -0.3498,  0.0175,  0.3189, -0.3121, -0.0975,\n",
      "          0.3060, -0.3668, -0.2504,  0.2869,  0.1959,  0.4507,  0.3054, -0.3163,\n",
      "          0.0310, -0.3566,  0.3110,  0.3538,  0.2547, -0.4869,  0.4651, -0.4444]],\n",
      "       grad_fn=<SliceBackward0>) \n",
      "\n",
      "Layer: fc.weight | Size: torch.Size([2, 64]) | Values : tensor([[ 0.1174,  0.2740, -0.0852,  0.3261,  0.0322,  0.3845,  0.3348, -0.4795,\n",
      "          0.2239,  0.2262, -0.0818, -0.0136,  0.4027, -0.2196, -0.4833, -0.2014,\n",
      "         -0.2007,  0.2224,  0.2039, -0.2195, -0.4771,  0.1884,  0.0291,  0.4244,\n",
      "          0.3411, -0.0008,  0.0909,  0.1836,  0.2401,  0.3996, -0.4751, -0.1922,\n",
      "          0.1324,  0.0503,  0.4881,  0.1172, -0.2649, -0.0166,  0.2074, -0.2660,\n",
      "         -0.0939, -0.0075, -0.2155,  0.2427,  0.2824,  0.4141,  0.4886,  0.3860,\n",
      "         -0.0658,  0.1098, -0.0521,  0.2658, -0.3020,  0.1057,  0.3224, -0.2778,\n",
      "         -0.2318, -0.3849,  0.3112,  0.1769, -0.1615, -0.0294, -0.3934, -0.4834],\n",
      "        [ 0.4398, -0.0287, -0.3000, -0.3205, -0.0605, -0.2447,  0.4648, -0.4733,\n",
      "          0.4692,  0.0569, -0.1244,  0.0326,  0.2474, -0.1538,  0.0971, -0.1507,\n",
      "         -0.4803, -0.3922,  0.4986, -0.3767, -0.3847, -0.2065, -0.4121, -0.3917,\n",
      "          0.3411, -0.2829,  0.2524,  0.4073,  0.1503, -0.4483, -0.3366, -0.0789,\n",
      "         -0.4467, -0.3601, -0.4257,  0.2318,  0.2293, -0.4067, -0.3526,  0.1127,\n",
      "          0.3133, -0.2333,  0.0019,  0.2399, -0.2483,  0.0232, -0.0834, -0.0580,\n",
      "         -0.3373, -0.2503, -0.3104, -0.2347, -0.3841,  0.4602,  0.2129,  0.1892,\n",
      "          0.4466,  0.1990,  0.3081,  0.0808,  0.0743,  0.3004,  0.0972,  0.2899]],\n",
      "       grad_fn=<SliceBackward0>) \n",
      "\n",
      "Layer: fc.bias | Size: torch.Size([2]) | Values : tensor([0., 0.], grad_fn=<SliceBackward0>) \n",
      "\n"
     ]
    }
   ],
   "source": [
    "print(f\"Model structure: {model}\\n\\n\")\n",
    "\n",
    "for name, param in model.named_parameters():\n",
    "    print(f\"Layer: {name} | Size: {param.size()} | Values : {param[:2]} \\n\")"
   ]
  },
  {
   "cell_type": "markdown",
   "metadata": {
    "id": "ntusqE5jxKbR"
   },
   "source": [
    "--------------"
   ]
  },
  {
   "cell_type": "markdown",
   "metadata": {
    "id": "EYMLHYpVxKbR"
   },
   "source": [
    "# Automatic Differentiation with ``torch.autograd`` [Optional Reading]\n",
    "\n",
    "When training neural networks, the most frequently used algorithm is\n",
    "**back propagation**. In this algorithm, parameters (model weights) are\n",
    "adjusted according to the **gradient** of the loss function with respect\n",
    "to the given parameter.\n",
    "\n",
    "To compute those gradients, PyTorch has a built-in differentiation engine\n",
    "called ``torch.autograd``. It supports automatic computation of gradient for any\n",
    "computational graph.\n",
    "\n",
    "Consider the simplest one-layer neural network, with input ``x``,\n",
    "parameters ``w`` and ``b``, and some loss function. It can be defined in\n",
    "PyTorch in the following manner:\n"
   ]
  },
  {
   "cell_type": "code",
   "execution_count": 109,
   "metadata": {
    "id": "GFTSKAtaxKbR"
   },
   "outputs": [],
   "source": [
    "import torch\n",
    "\n",
    "x = torch.ones(5)  # input tensor\n",
    "y = torch.zeros(3)  # expected output\n",
    "w = torch.randn(5, 3, requires_grad=True)\n",
    "b = torch.randn(3, requires_grad=True)\n",
    "z = torch.matmul(x, w)+b\n",
    "loss = torch.nn.functional.binary_cross_entropy_with_logits(z, y)"
   ]
  },
  {
   "cell_type": "markdown",
   "metadata": {
    "id": "Ae4Y3WebxKbR"
   },
   "source": [
    "## Tensors, Functions and Computational graph [Optional Reading]\n",
    "\n",
    "This code defines a small **computational graph**. In this network, ``w`` and ``b`` are **parameters**, which we need to\n",
    "optimize. Thus, we need to be able to compute the gradients of loss\n",
    "function with respect to those variables. In order to do that, we set\n",
    "the ``requires_grad`` property of those tensors.\n",
    "\n"
   ]
  },
  {
   "cell_type": "markdown",
   "metadata": {
    "id": "TYpMguEGxKbR"
   },
   "source": [
    "<div class=\"alert alert-info\"><h4>Note</h4><p>You can set the value of ``requires_grad`` when creating a\n",
    "          tensor, or later by using ``x.requires_grad_(True)`` method.</p></div>\n",
    "\n"
   ]
  },
  {
   "cell_type": "markdown",
   "metadata": {
    "id": "tSajCYVoxKbR"
   },
   "source": [
    "A function that we apply to tensors to construct computational graph is\n",
    "in fact an object of class ``Function``. This object knows how to\n",
    "compute the function in the *forward* direction, and also how to compute\n",
    "its derivative during the *backward propagation* step. A reference to\n",
    "the backward propagation function is stored in ``grad_fn`` property of a\n",
    "tensor. You can find more information of ``Function`` [in the\n",
    "documentation](https://pytorch.org/docs/stable/autograd.html#function)_.\n",
    "\n",
    "\n"
   ]
  },
  {
   "cell_type": "code",
   "execution_count": 110,
   "metadata": {
    "colab": {
     "base_uri": "https://localhost:8080/"
    },
    "id": "kBb9bI_XxKbR",
    "outputId": "f170368b-7114-4d31-f135-04e7a57fa683"
   },
   "outputs": [
    {
     "name": "stdout",
     "output_type": "stream",
     "text": [
      "Gradient function for z = <AddBackward0 object at 0x10fcc5000>\n",
      "Gradient function for loss = <BinaryCrossEntropyWithLogitsBackward0 object at 0x10fcc4730>\n"
     ]
    }
   ],
   "source": [
    "print(f\"Gradient function for z = {z.grad_fn}\")\n",
    "print(f\"Gradient function for loss = {loss.grad_fn}\")"
   ]
  },
  {
   "cell_type": "markdown",
   "metadata": {
    "id": "A82o89grxKbR"
   },
   "source": [
    "## Computing Gradients [Optional Reading]\n",
    "\n",
    "To optimize weights of parameters in the neural network, we need to\n",
    "compute the derivatives of our loss function with respect to parameters,\n",
    "namely, we need $\\frac{\\partial loss}{\\partial w}$ and\n",
    "$\\frac{\\partial loss}{\\partial b}$ under some fixed values of\n",
    "``x`` and ``y``. To compute those derivatives, we call\n",
    "``loss.backward()``, and then retrieve the values from ``w.grad`` and\n",
    "``b.grad``:\n",
    "\n",
    "\n"
   ]
  },
  {
   "cell_type": "code",
   "execution_count": 111,
   "metadata": {
    "colab": {
     "base_uri": "https://localhost:8080/"
    },
    "id": "S6kQi4yfxKbR",
    "outputId": "14d4e569-532b-44c3-dce1-97ac7939f5ec"
   },
   "outputs": [
    {
     "name": "stdout",
     "output_type": "stream",
     "text": [
      "tensor([[0.1321, 0.3029, 0.1494],\n",
      "        [0.1321, 0.3029, 0.1494],\n",
      "        [0.1321, 0.3029, 0.1494],\n",
      "        [0.1321, 0.3029, 0.1494],\n",
      "        [0.1321, 0.3029, 0.1494]])\n",
      "tensor([0.1321, 0.3029, 0.1494])\n"
     ]
    }
   ],
   "source": [
    "loss.backward()\n",
    "print(w.grad)\n",
    "print(b.grad)"
   ]
  },
  {
   "cell_type": "markdown",
   "metadata": {
    "id": "H4KsRVvWxKbS"
   },
   "source": [
    "<div class=\"alert alert-info\"><h4>Note</h4><p>- We can only obtain the ``grad`` properties for the leaf\n",
    "    nodes of the computational graph, which have ``requires_grad`` property\n",
    "    set to ``True``. For all other nodes in our graph, gradients will not be\n",
    "    available.\n",
    "  - We can only perform gradient calculations using\n",
    "    ``backward`` once on a given graph, for performance reasons. If we need\n",
    "    to do several ``backward`` calls on the same graph, we need to pass\n",
    "    ``retain_graph=True`` to the ``backward`` call.</p></div>\n",
    "\n",
    "\n"
   ]
  },
  {
   "cell_type": "markdown",
   "metadata": {
    "id": "zPwd6li0xKbS"
   },
   "source": [
    "## Disabling Gradient Tracking\n",
    "\n",
    "By default, all tensors with ``requires_grad=True`` are tracking their\n",
    "computational history and support gradient computation. However, there\n",
    "are some cases when we do not need to do that, for example, when we have\n",
    "trained the model and just want to apply it to some input data, i.e. we\n",
    "only want to do *forward* computations through the network. We can stop\n",
    "tracking computations by surrounding our computation code with\n",
    "``torch.no_grad()`` block:\n",
    "\n",
    "\n"
   ]
  },
  {
   "cell_type": "code",
   "execution_count": 112,
   "metadata": {
    "colab": {
     "base_uri": "https://localhost:8080/"
    },
    "id": "exHOF89yxKbS",
    "outputId": "21cf17b6-69b8-46df-d79a-d409f30cb5df"
   },
   "outputs": [
    {
     "name": "stdout",
     "output_type": "stream",
     "text": [
      "True\n",
      "False\n"
     ]
    }
   ],
   "source": [
    "z = torch.matmul(x, w)+b\n",
    "print(z.requires_grad)\n",
    "\n",
    "with torch.no_grad():\n",
    "    z = torch.matmul(x, w)+b\n",
    "print(z.requires_grad)"
   ]
  },
  {
   "cell_type": "markdown",
   "metadata": {
    "id": "S93mw4tdxKbS"
   },
   "source": [
    "Another way to achieve the same result is to use the ``detach()`` method\n",
    "on the tensor:\n",
    "\n",
    "\n"
   ]
  },
  {
   "cell_type": "code",
   "execution_count": 113,
   "metadata": {
    "colab": {
     "base_uri": "https://localhost:8080/"
    },
    "id": "RnLSulLYxKbS",
    "outputId": "15d4ce18-6e5e-47b8-a2b7-4e6552d55887"
   },
   "outputs": [
    {
     "name": "stdout",
     "output_type": "stream",
     "text": [
      "False\n"
     ]
    }
   ],
   "source": [
    "z = torch.matmul(x, w)+b\n",
    "z_det = z.detach()\n",
    "print(z_det.requires_grad)"
   ]
  },
  {
   "cell_type": "markdown",
   "metadata": {
    "id": "p7p4PMTFxKbS"
   },
   "source": [
    "There are reasons you might want to disable gradient tracking:\n",
    "  - To mark some parameters in your neural network as **frozen parameters**.\n",
    "  - To **speed up computations** when you are only doing forward pass, because computations on tensors that do\n",
    "    not track gradients would be more efficient.\n",
    "\n"
   ]
  },
  {
   "cell_type": "markdown",
   "metadata": {
    "id": "AnUm9_v8xKbS"
   },
   "source": [
    "## More on Computational Graphs [Optional Reading]\n",
    "\n",
    "Conceptually, autograd keeps a record of data (tensors) and all executed\n",
    "operations (along with the resulting new tensors) in a directed acyclic\n",
    "graph (DAG) consisting of\n",
    "[Function](https://pytorch.org/docs/stable/autograd.html#torch.autograd.Function)_\n",
    "objects. In this DAG, leaves are the input tensors, roots are the output\n",
    "tensors. By tracing this graph from roots to leaves, you can\n",
    "automatically compute the gradients using the chain rule.\n",
    "\n",
    "In a forward pass, autograd does two things simultaneously:\n",
    "\n",
    "- run the requested operation to compute a resulting tensor\n",
    "- maintain the operation’s *gradient function* in the DAG.\n",
    "\n",
    "The backward pass kicks off when ``.backward()`` is called on the DAG\n",
    "root. ``autograd`` then:\n",
    "\n",
    "- computes the gradients from each ``.grad_fn``,\n",
    "- accumulates them in the respective tensor’s ``.grad`` attribute\n",
    "- using the chain rule, propagates all the way to the leaf tensors.\n",
    "\n",
    "<div class=\"alert alert-info\"><h4>Note</h4><p>**DAGs are dynamic in PyTorch**\n",
    "  An important thing to note is that the graph is recreated from scratch; after each\n",
    "  ``.backward()`` call, autograd starts populating a new graph. This is\n",
    "  exactly what allows you to use control flow statements in your model;\n",
    "  you can change the shape, size and operations at every iteration if\n",
    "  needed.</p></div>\n",
    "\n"
   ]
  },
  {
   "cell_type": "markdown",
   "metadata": {
    "id": "OfucHcYMxKbS"
   },
   "source": [
    "--------------\n",
    "\n",
    "\n"
   ]
  },
  {
   "cell_type": "markdown",
   "metadata": {
    "id": "1L47Rf-SxKbS"
   },
   "source": [
    "# Optimizing Model Parameters\n",
    "\n",
    "Now that we have a model and data it's time to train, validate and test our model by optimizing its parameters on\n",
    "our data. Training a model is an iterative process; in each iteration the model makes a guess about the output, calculates\n",
    "the error in its guess (*loss*), collects the derivatives of the error with respect to its parameters, and **optimizes** these parameters using gradient descent.\n"
   ]
  },
  {
   "cell_type": "markdown",
   "metadata": {
    "id": "xhFAzvG6xKbS"
   },
   "source": [
    "## Hyperparameters\n",
    "\n",
    "Hyperparameters are adjustable parameters that let you control the model optimization process.\n",
    "Different hyperparameter values can impact model training and convergence rates\n",
    "([read more](https://pytorch.org/tutorials/beginner/hyperparameter_tuning_tutorial.html) about hyperparameter tuning)\n",
    "\n",
    "We define the following hyperparameters for training:\n",
    " - **Number of Epochs** - the number times to iterate over the dataset\n",
    " - **Batch Size** - the number of data samples propagated through the network before the parameters are updated\n",
    " - **Learning Rate** - how much to update models parameters at each batch/epoch. Smaller values yield slow learning speed, while large values may result in unpredictable behavior during training.\n",
    "\n",
    "\n"
   ]
  },
  {
   "cell_type": "code",
   "execution_count": 114,
   "metadata": {
    "id": "51Hdk5gAxKbS"
   },
   "outputs": [],
   "source": [
    "learning_rate = 5\n",
    "batch_size = 64\n",
    "epochs = 5"
   ]
  },
  {
   "cell_type": "markdown",
   "metadata": {
    "id": "T2nMYYQnxKbS"
   },
   "source": [
    "## Optimization Loop\n",
    "\n",
    "Once we set our hyperparameters, we can then train and optimize our model with an optimization loop. Each\n",
    "iteration of the optimization loop is called an **epoch**.\n",
    "\n",
    "Each epoch consists of two main parts:\n",
    " - **The Train Loop** - iterate over the training dataset and try to converge to optimal parameters.\n",
    " - **The Validation/Test Loop** - iterate over the test dataset to check if model performance is improving.\n",
    "\n",
    "Let's briefly familiarize ourselves with some of the concepts used in the training loop.\n",
    "\n",
    "### Loss Function\n",
    "\n",
    "When presented with some training data, our untrained network is likely not to give the correct\n",
    "answer. **Loss function** measures the degree of dissimilarity of obtained result to the target value,\n",
    "and it is the loss function that we want to minimize during training. To calculate the loss we make a\n",
    "prediction using the inputs of our given data sample and compare it against the true data label value.\n",
    "\n",
    "Common loss functions include [nn.MSELoss](https://pytorch.org/docs/stable/generated/torch.nn.MSELoss.html#torch.nn.MSELoss) (Mean Square Error) for regression tasks, and\n",
    "[nn.NLLLoss](https://pytorch.org/docs/stable/generated/torch.nn.NLLLoss.html#torch.nn.NLLLoss) (Negative Log Likelihood) for classification.\n",
    "[nn.CrossEntropyLoss](https://pytorch.org/docs/stable/generated/torch.nn.CrossEntropyLoss.html#torch.nn.CrossEntropyLoss) combines `nn.LogSoftmax` and `nn.NLLLoss`.\n",
    "\n",
    "We pass our model's output logits to `torch.nn.CrossEntropyLoss`, which will normalize the logits and compute the prediction error.\n",
    "\n"
   ]
  },
  {
   "cell_type": "code",
   "execution_count": 115,
   "metadata": {
    "id": "q4RoDhNCxKbS"
   },
   "outputs": [],
   "source": [
    "# Initialize the loss function\n",
    "loss_function = torch.nn.CrossEntropyLoss()"
   ]
  },
  {
   "cell_type": "markdown",
   "metadata": {
    "id": "6u0DvnIrxKbS"
   },
   "source": [
    "### Optimizer\n",
    "\n",
    "Optimization is the process of adjusting model parameters to reduce model error in each training step. **Optimization algorithms** define how this process is performed (in this example we use Stochastic Gradient Descent).\n",
    "All optimization logic is encapsulated in  the ``optimizer`` object. Here, we use the SGD optimizer; additionally, there are many [different optimizers](https://pytorch.org/docs/stable/optim.html)\n",
    "available in PyTorch such as ADAM and RMSProp, that work better for different kinds of models and data.\n",
    "\n",
    "We initialize the optimizer by registering the model's parameters that need to be trained, and passing in the learning rate hyperparameter.\n",
    "\n"
   ]
  },
  {
   "cell_type": "code",
   "execution_count": 116,
   "metadata": {
    "id": "hpM1z-yyxKbT"
   },
   "outputs": [],
   "source": [
    "optimizer = torch.optim.SGD(model.parameters(), lr=learning_rate)"
   ]
  },
  {
   "cell_type": "markdown",
   "metadata": {
    "id": "bsIy-6ChxKbT"
   },
   "source": [
    "Inside the training loop, optimization happens in three steps:\n",
    " * Call ``optimizer.zero_grad()`` to reset the gradients of model parameters. Gradients by default add up; to prevent double-counting, we explicitly zero them at each iteration.\n",
    " * Backpropagate the prediction loss with a call to ``loss.backward()``. PyTorch deposits the gradients of the loss w.r.t. each parameter.\n",
    " * Once we have our gradients, we call ``optimizer.step()`` to adjust the parameters by the gradients collected in the backward pass.\n",
    "\n"
   ]
  },
  {
   "cell_type": "markdown",
   "metadata": {
    "id": "km-LylF_xKbT"
   },
   "source": [
    "## Full Implementation\n",
    "We define `train_loop` that loops over our optimization code, and `test_loop` that\n",
    "evaluates the model's performance against our test data.\n",
    "\n",
    "We'll also redefine our data loading code here to make sure it is configured correctly (sometimes in the process of experimenting above, it gets modified).\n"
   ]
  },
  {
   "cell_type": "code",
   "execution_count": 117,
   "metadata": {
    "id": "WC1UgFqgxKbT"
   },
   "outputs": [
    {
     "name": "stdout",
     "output_type": "stream",
     "text": [
      "Read 11766 11766\n",
      "Read 2741 2741\n"
     ]
    }
   ],
   "source": [
    "import time\n",
    "\n",
    "from torch.utils.data import DataLoader\n",
    "\n",
    "device = torch.device(\"cuda\" if torch.cuda.is_available() else \"cpu\")\n",
    "\n",
    "def collate_batch(batch):\n",
    "    label_list, text_list, offsets = [], [], [0]\n",
    "    for _text, _label in batch:\n",
    "        label_list.append(label_pipeline(_label))\n",
    "        processed_text = torch.tensor(text_pipeline(_text), dtype=torch.int64)\n",
    "        text_list.append(processed_text)\n",
    "        offsets.append(processed_text.size(0))\n",
    "    label_list = torch.tensor(label_list, dtype=torch.int64)\n",
    "    offsets = torch.tensor(offsets[:-1]).cumsum(dim=0)\n",
    "    text_list = torch.cat(text_list)\n",
    "    return text_list.to(device), label_list.to(device), offsets.to(device)\n",
    "\n",
    "train_iter = CustomTextDataset(\"mod-train.jsonl\")\n",
    "train_dataloader = DataLoader(\n",
    "    train_iter, batch_size=8, shuffle=False, collate_fn=collate_batch\n",
    ")\n",
    "test_iter = CustomTextDataset(\"mod-test.jsonl\")\n",
    "test_dataloader = DataLoader(\n",
    "    test_iter, batch_size=8, shuffle=False, collate_fn=collate_batch\n",
    ")\n",
    "\n",
    "def train_loop(dataloader, epoch, loss_function, optimizer, model):\n",
    "    model.train()\n",
    "    total_acc, total_count = 0, 0\n",
    "    log_interval = 500\n",
    "    start_time = time.time()\n",
    "\n",
    "    for idx, (text, label, offsets) in enumerate(dataloader):\n",
    "        optimizer.zero_grad()\n",
    "        predicted_label = model(text, offsets)\n",
    "        loss = loss_function(predicted_label, label)\n",
    "        loss.backward()\n",
    "        torch.nn.utils.clip_grad_norm_(model.parameters(), 0.1)\n",
    "        optimizer.step()\n",
    "        total_acc += (predicted_label.argmax(1) == label).sum().item()\n",
    "        total_count += label.size(0)\n",
    "        if idx % log_interval == 0 and idx > 0:\n",
    "            elapsed = time.time() - start_time\n",
    "            print(\n",
    "                \"| epoch {:3d} | {:5d}/{:5d} batches \"\n",
    "                \"| accuracy {:8.3f}\".format(\n",
    "                    epoch, idx, len(dataloader), total_acc / total_count\n",
    "                )\n",
    "            )\n",
    "            total_acc, total_count = 0, 0\n",
    "            start_time = time.time()\n",
    "\n",
    "\n",
    "def test_loop(dataloader, loss_function, model):\n",
    "    model.eval()\n",
    "    total_acc, total_count = 0, 0\n",
    "\n",
    "    with torch.no_grad():\n",
    "        for idx, (text, label, offsets) in enumerate(dataloader):\n",
    "            predicted_label = model(text, offsets)\n",
    "            loss = loss_function(predicted_label, label)\n",
    "            total_acc += (predicted_label.argmax(1) == label).sum().item()\n",
    "            total_count += label.size(0)\n",
    "    return total_acc / total_count"
   ]
  },
  {
   "cell_type": "markdown",
   "metadata": {
    "id": "TDmbJwzExKbT"
   },
   "source": [
    "We initialize the loss function and optimizer, and pass it to ``train_loop`` and ``test_loop``.\n",
    "Feel free to increase the number of epochs to track the model's improving performance.\n",
    "\n"
   ]
  },
  {
   "cell_type": "code",
   "execution_count": 118,
   "metadata": {
    "tags": []
   },
   "outputs": [
    {
     "name": "stdout",
     "output_type": "stream",
     "text": [
      "Read 11766 11766\n",
      "Read 2782 2782\n",
      "Read 2741 2741\n",
      "-----------------------------------------------------------\n",
      "| end of epoch   1 | time:  0.29s | valid accuracy    0.955 \n",
      "-----------------------------------------------------------\n",
      "-----------------------------------------------------------\n",
      "| end of epoch   2 | time:  0.24s | valid accuracy    0.955 \n",
      "-----------------------------------------------------------\n",
      "-----------------------------------------------------------\n",
      "| end of epoch   3 | time:  0.27s | valid accuracy    0.955 \n",
      "-----------------------------------------------------------\n",
      "-----------------------------------------------------------\n",
      "| end of epoch   4 | time:  0.21s | valid accuracy    0.955 \n",
      "-----------------------------------------------------------\n",
      "-----------------------------------------------------------\n",
      "| end of epoch   5 | time:  0.24s | valid accuracy    0.955 \n",
      "-----------------------------------------------------------\n"
     ]
    }
   ],
   "source": [
    "# Hyperparameters\n",
    "learning_rate = 5\n",
    "batch_size = 64\n",
    "epochs = 5\n",
    "\n",
    "loss_function = torch.nn.CrossEntropyLoss()\n",
    "optimizer = torch.optim.SGD(model.parameters(), lr=learning_rate)\n",
    "scheduler = torch.optim.lr_scheduler.StepLR(optimizer, 1.0, gamma=0.1)\n",
    "total_accu = None\n",
    "\n",
    "train_dataset = CustomTextDataset(\"mod-train.jsonl\")\n",
    "valid_dataset = CustomTextDataset(\"mod-validation.jsonl\")\n",
    "test_dataset = CustomTextDataset(\"mod-test.jsonl\")\n",
    "num_train = len(train_dataset)\n",
    "\n",
    "train_dataloader = DataLoader(\n",
    "    train_dataset, batch_size=batch_size, shuffle=True, collate_fn=collate_batch\n",
    ")\n",
    "valid_dataloader = DataLoader(\n",
    "    valid_dataset, batch_size=batch_size, shuffle=True, collate_fn=collate_batch\n",
    ")\n",
    "test_dataloader = DataLoader(\n",
    "    test_dataset, batch_size=batch_size, shuffle=True, collate_fn=collate_batch\n",
    ")\n",
    "\n",
    "for epoch in range(1, epochs + 1):\n",
    "    epoch_start_time = time.time()\n",
    "    train_loop(train_dataloader, epoch, loss_function, optimizer, model)\n",
    "    accu_val = test_loop(valid_dataloader, loss_function, model)\n",
    "    if total_accu is not None and total_accu > accu_val:\n",
    "        scheduler.step()\n",
    "    else:\n",
    "        total_accu = accu_val\n",
    "    print(\"-\" * 59)\n",
    "    print(\n",
    "        \"| end of epoch {:3d} | time: {:5.2f}s | \"\n",
    "        \"valid accuracy {:8.3f} \".format(\n",
    "            epoch, time.time() - epoch_start_time, accu_val\n",
    "        )\n",
    "    )\n",
    "    print(\"-\" * 59)\n"
   ]
  },
  {
   "cell_type": "markdown",
   "metadata": {
    "id": "pxICt9i2xKbT"
   },
   "source": [
    "# Save and Load the Model\n",
    "\n",
    "Finally, we will look at how to save and load a model.\n"
   ]
  },
  {
   "cell_type": "markdown",
   "metadata": {
    "id": "tUb_RGY4xKbT"
   },
   "source": [
    "## Saving and Loading Model Weights\n",
    "PyTorch models store the learned parameters in an internal\n",
    "state dictionary, called ``state_dict``. These can be persisted via the ``torch.save``\n",
    "method:\n",
    "\n"
   ]
  },
  {
   "cell_type": "code",
   "execution_count": null,
   "metadata": {
    "colab": {
     "base_uri": "https://localhost:8080/"
    },
    "id": "MP-CD7QVxKbT",
    "outputId": "083f5f59-2cd6-4b71-c20c-677c591e1e90"
   },
   "outputs": [],
   "source": [
    "#这行代码的作用是保存训练好的模型权重（weights），以便之后加载并继续使用。\n",
    "torch.save(model.state_dict(), 'model_weights.pth')"
   ]
  },
  {
   "cell_type": "markdown",
   "metadata": {
    "id": "_YeEHqo8xKbT"
   },
   "source": [
    "To load model weights, you need to create an instance of the same model first, and then load the parameters\n",
    "using ``load_state_dict()`` method.\n",
    "\n"
   ]
  },
  {
   "cell_type": "code",
   "execution_count": null,
   "metadata": {
    "colab": {
     "base_uri": "https://localhost:8080/"
    },
    "id": "6t2FtDJxxKbT",
    "outputId": "05b42b5b-b758-49f7-a87c-489463af5cca"
   },
   "outputs": [
    {
     "data": {
      "text/plain": [
       "<All keys matched successfully>"
      ]
     },
     "execution_count": 120,
     "metadata": {},
     "output_type": "execute_result"
    }
   ],
   "source": [
    "new_model = TextClassificationModel(vocab_size, emsize, num_class) # we do not specify ``weights``, i.e. create untrained model\n",
    "# 加载上面训练好的model\n",
    "new_model.load_state_dict(torch.load('model_weights.pth'))"
   ]
  },
  {
   "cell_type": "markdown",
   "metadata": {
    "id": "qliS8ePKxKbT"
   },
   "source": [
    "If we plan to use our model, but not train it further, then we call `model.eval()`. This is a standard way to tell the model to set itself up for use, rather than training (e.g., it disables dropout). Failing to do this could yield inconsistent outputs.\n",
    "\n"
   ]
  },
  {
   "cell_type": "code",
   "execution_count": 121,
   "metadata": {
    "tags": []
   },
   "outputs": [
    {
     "data": {
      "text/plain": [
       "TextClassificationModel(\n",
       "  (embedding): EmbeddingBag(16377, 64, mode='mean')\n",
       "  (fc): Linear(in_features=64, out_features=2, bias=True)\n",
       ")"
      ]
     },
     "execution_count": 121,
     "metadata": {},
     "output_type": "execute_result"
    }
   ],
   "source": [
    "new_model.eval()"
   ]
  },
  {
   "cell_type": "markdown",
   "metadata": {
    "id": "ZE31ehbxxKbT"
   },
   "source": [
    "## Saving and Loading Models with Shapes\n",
    "When loading model weights, we needed to instantiate the model class first, because the class\n",
    "defines the structure of a network. We might want to save the structure of this class together with\n",
    "the model, in which case we can pass `model` (and not `model.state_dict()`) to the save function:\n",
    "\n"
   ]
  },
  {
   "cell_type": "code",
   "execution_count": null,
   "metadata": {
    "id": "aIs2IyQfxKbT"
   },
   "outputs": [],
   "source": [
    "# 保存整个模型，不仅包括模型权重，还包括模型结构\n",
    "torch.save(model, 'model.pth')"
   ]
  },
  {
   "cell_type": "markdown",
   "metadata": {
    "id": "dT1yMmoLxKbT"
   },
   "source": [
    "We can then load the model like this:\n",
    "\n"
   ]
  },
  {
   "cell_type": "code",
   "execution_count": null,
   "metadata": {
    "id": "1p_u-QQpxKbT"
   },
   "outputs": [],
   "source": [
    "# NOTE: The `weights_only=False` argument should only be used very carefully\n",
    "# since it enables execution of code in the `model.pth` file.\n",
    "# It is necessary here because of the custom class we defined for the dataloader.\n",
    "# False: 还原整个模型（包括结构 + 参数），但可能执行 model.pth 里的代码\n",
    "# True: 只加载 state_dict()，不会执行 model.pth 里的代码\n",
    "model = torch.load('model.pth', weights_only=False)"
   ]
  },
  {
   "cell_type": "markdown",
   "metadata": {
    "id": "uA0ly-pPxKbT",
    "tags": []
   },
   "source": [
    "This approach uses Python [pickle](https://docs.python.org/3/library/pickle.html) module when serializing the model, thus it relies on the actual class definition to be available when loading the model.\n",
    "\n"
   ]
  },
  {
   "cell_type": "markdown",
   "metadata": {},
   "source": [
    "# Task 1\n",
    "\n",
    "Adapt the model above to have a hidden layer with 100 dimensions and a tanh activation. The model should:\n",
    "\n",
    "1. Use an embedding to represent words\n",
    "2. Use a linear layer to convert them to the hidden dimension\n",
    "3. Apply a tanh activation function (see [this page](https://pytorch.org/docs/stable/generated/torch.tanh.html#torch.tanh))\n",
    "4. Use a linear layer to get scores across the possible labels"
   ]
  },
  {
   "cell_type": "code",
   "execution_count": 124,
   "metadata": {
    "tags": []
   },
   "outputs": [
    {
     "name": "stdout",
     "output_type": "stream",
     "text": [
      "Read 11766 11766\n",
      "Read 11766 11766\n",
      "Read 2782 2782\n",
      "Read 2741 2741\n",
      "-----------------------------------------------------------\n",
      "| end of epoch   1 | time:  1.09s | valid accuracy    0.955 \n",
      "-----------------------------------------------------------\n",
      "-----------------------------------------------------------\n",
      "| end of epoch   2 | time:  0.96s | valid accuracy    0.953 \n",
      "-----------------------------------------------------------\n",
      "-----------------------------------------------------------\n",
      "| end of epoch   3 | time:  0.92s | valid accuracy    0.955 \n",
      "-----------------------------------------------------------\n",
      "-----------------------------------------------------------\n",
      "| end of epoch   4 | time:  1.06s | valid accuracy    0.955 \n",
      "-----------------------------------------------------------\n",
      "-----------------------------------------------------------\n",
      "| end of epoch   5 | time:  0.98s | valid accuracy    0.955 \n",
      "-----------------------------------------------------------\n"
     ]
    }
   ],
   "source": [
    "class MyTextClassificationModel(nn.Module):\n",
    "    def __init__(self, vocab_size, embed_dim, num_class, hidden):\n",
    "        super(MyTextClassificationModel, self).__init__()\n",
    "        self.embedding = nn.EmbeddingBag(vocab_size, embed_dim, sparse=False)\n",
    "        self.fc = nn.Linear(embed_dim, hidden)\n",
    "        self.fc2 = nn.Linear(hidden, num_class)\n",
    "        self.init_weights()\n",
    "\n",
    "    def init_weights(self):\n",
    "        initrange = 0.5\n",
    "        self.embedding.weight.data.uniform_(-initrange, initrange)\n",
    "        self.fc.weight.data.uniform_(-initrange, initrange)\n",
    "        self.fc.bias.data.zero_()\n",
    "        self.fc2.weight.data.uniform_(-initrange, initrange)\n",
    "        self.fc2.bias.data.zero_()\n",
    "\n",
    "    def forward(self, text, offsets):\n",
    "        embedded = self.embedding(text, offsets)\n",
    "        hidden_rep = torch.tanh(self.fc(embedded))\n",
    "        return self.fc2(hidden_rep)\n",
    "\n",
    "# Everything below here is copied from above, except with the model renamed\n",
    "\n",
    "train_iter = CustomTextDataset(\"mod-train.jsonl\")\n",
    "num_class = len(set([label for (label, text) in train_iter]))\n",
    "vocab = Vocab(yield_tokens(train_iter))\n",
    "emsize = 64\n",
    "hidden = 100\n",
    "new_model = MyTextClassificationModel(vocab_size, emsize, num_class, hidden).to(device)\n",
    "\n",
    "# Hyperparameters\n",
    "learning_rate = 5\n",
    "batch_size = 64\n",
    "epochs = 5\n",
    "\n",
    "loss_function = torch.nn.CrossEntropyLoss()\n",
    "optimizer = torch.optim.SGD(new_model.parameters(), lr=learning_rate)\n",
    "scheduler = torch.optim.lr_scheduler.StepLR(optimizer, 1.0, gamma=0.1)\n",
    "total_accu = None\n",
    "\n",
    "train_dataset = CustomTextDataset(\"mod-train.jsonl\")\n",
    "valid_dataset = CustomTextDataset(\"mod-validation.jsonl\")\n",
    "test_dataset = CustomTextDataset(\"mod-test.jsonl\")\n",
    "num_train = len(train_dataset)\n",
    "\n",
    "train_dataloader = DataLoader(\n",
    "    train_dataset, batch_size=batch_size, shuffle=True, collate_fn=collate_batch\n",
    ")\n",
    "valid_dataloader = DataLoader(\n",
    "    valid_dataset, batch_size=batch_size, shuffle=True, collate_fn=collate_batch\n",
    ")\n",
    "test_dataloader = DataLoader(\n",
    "    test_dataset, batch_size=batch_size, shuffle=True, collate_fn=collate_batch\n",
    ")\n",
    "\n",
    "for epoch in range(1, epochs + 1):\n",
    "    epoch_start_time = time.time()\n",
    "    train_loop(train_dataloader, epoch, loss_function, optimizer, new_model)\n",
    "    accu_val = test_loop(valid_dataloader, loss_function, new_model)\n",
    "    if total_accu is not None and total_accu > accu_val:\n",
    "        scheduler.step()\n",
    "    else:\n",
    "        total_accu = accu_val\n",
    "    print(\"-\" * 59)\n",
    "    print(\n",
    "        \"| end of epoch {:3d} | time: {:5.2f}s | \"\n",
    "        \"valid accuracy {:8.3f} \".format(\n",
    "            epoch, time.time() - epoch_start_time, accu_val\n",
    "        )\n",
    "    )\n",
    "    print(\"-\" * 59)"
   ]
  },
  {
   "cell_type": "markdown",
   "metadata": {},
   "source": [
    "# Task 2\n",
    "\n",
    "For the original model, let's look at some properties of the embeddings. You may find `model.embedding.weight.data.tolist()` useful as a way to convert the embeddings into a Python list of lists.\n",
    "\n",
    "1. What are the minimum and maximum values in the embeddings?\n",
    "2. If you put the values in buckets of width 0.1 (ie., 0 to 0.1, 0.1 to 0.2, 0.2 to 0.3, etc), what is the distribution? (you can be approximate, any form of rounding is fine)\n",
    "\n",
    "This type of analysis can reveal if there are strange asymmetries in the weights we are learning."
   ]
  },
  {
   "cell_type": "code",
   "execution_count": 125,
   "metadata": {
    "tags": []
   },
   "outputs": [
    {
     "name": "stdout",
     "output_type": "stream",
     "text": [
      "-0.664068341255188 0.6388050317764282\n",
      "-0.6 6\n",
      "-0.5 706\n",
      "-0.4 104544\n",
      "-0.3 104625\n",
      "-0.2 104653\n",
      "-0.1 104649\n",
      "0.0 209339\n",
      "0.1 105009\n",
      "0.2 104738\n",
      "0.3 105161\n",
      "0.4 103946\n",
      "0.5 748\n",
      "0.6 4\n"
     ]
    }
   ],
   "source": [
    "nums = model.embedding.weight.data.tolist()\n",
    "\n",
    "min_num, max_num = 0, 0\n",
    "buckets = {}\n",
    "for subnums in nums:\n",
    "    for num in subnums:\n",
    "        min_num = min(min_num, num)\n",
    "        max_num = max(max_num, num)\n",
    "        rounded = int(num * 10) / 10\n",
    "        buckets[rounded] = buckets.get(rounded, 0) + 1\n",
    "        \n",
    "print(min_num, max_num)\n",
    "bucket_keys = sorted(buckets.keys())\n",
    "for bucket in bucket_keys:\n",
    "    print(bucket, buckets[bucket])"
   ]
  }
 ],
 "metadata": {
  "colab": {
   "provenance": []
  },
  "kernelspec": {
   "display_name": "Python 3 (ipykernel)",
   "language": "python",
   "name": "python3"
  },
  "language_info": {
   "codemirror_mode": {
    "name": "ipython",
    "version": 3
   },
   "file_extension": ".py",
   "mimetype": "text/x-python",
   "name": "python",
   "nbconvert_exporter": "python",
   "pygments_lexer": "ipython3",
   "version": "3.12.4"
  }
 },
 "nbformat": 4,
 "nbformat_minor": 4
}
