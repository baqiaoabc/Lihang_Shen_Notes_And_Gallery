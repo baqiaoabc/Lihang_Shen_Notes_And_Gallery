{
 "cells": [
  {
   "cell_type": "markdown",
   "metadata": {},
   "source": [
    "# Data Exploration with Python\n",
    "\n",
    "## EXERCISE 1: Reading and accessing data\n",
    "\n",
    "### Reading the WFH survey responses data using Pandas\n",
    "\n",
    "Download the _WFH-Survey-Responses-NSW.csv_ file from \"Week 3 Data Exploration with Python\" module on Canvas. This is a clean version of the file we worked on last week. Note that we have changed the format of the file to .csv (comma-separated values), so you can get familiar with another very common file type. Make sure that you save this file in the same folder you have this jupyter notebook.\n",
    "\n",
    "To read the file and store the data, we will use `pandas`, an external Python module which contains useful functionality for processing and transforming data. First we will read our file with the `read_csv` function, and then we will print the first 3 rows of our data using the `head` function, to see how it looks like."
   ]
  },
  {
   "cell_type": "markdown",
   "metadata": {},
   "source": [
    "This code is written in Python and makes use of the pandas library, which is commonly used for data manipulation and analysis. Here's what the code does:\n",
    "\n",
    "df = pd.read_csv('WFH-Survey-Responses-NSW.csv'):\n",
    "\n",
    "This line reads a CSV (Comma-Separated Values) file named WFH-Survey-Responses-NSW.csv into a pandas DataFrame.\n",
    "pd.read_csv() is a function in the pandas library that loads the CSV file into a DataFrame, which is a table-like data structure.\n",
    "The variable df now holds the DataFrame created from the CSV file.\n",
    "df.head(3):\n",
    "\n",
    "This line displays the first 3 rows of the DataFrame df.\n",
    "head() is a method that returns the first few rows of a DataFrame. By default, it returns the first 5 rows, but here it is set to 3.\n",
    "\n",
    "\n",
    "## From the lecture - Panda DF vs Series\n",
    "Pandas DataFrame\n",
    "Structure: A DataFrame is a 2-dimensional, tabular data structure with rows and columns, similar to a spreadsheet or SQL table.\n",
    "\n",
    "Rows and Columns: It has labeled rows and columns, where each column can hold a different type of data (e.g., integers, floats, strings).\n",
    "\n",
    "Multi-Dimensional: Since it has both rows and columns, a DataFrame can be thought of as a collection of Series objects that share the same index (row labels).\n",
    "\n",
    "Use Case: It is used when you need to work with datasets that have multiple attributes (columns) for each data point (row). It is ideal for datasets that resemble tables.\n",
    "\n",
    "Pandas Series\n",
    "Structure: A Series is a 1-dimensional array-like structure, essentially a single column of data.\n",
    "\n",
    "Index: A Series has an index, which is used to label the data points, much like how rows are labeled in a DataFrame.\n",
    "\n",
    "Single Data Type: All the elements in a Series are of the same data type.\n",
    "\n",
    "Use Case: It is used for handling and manipulating a single column of data, or when you need to work with a one-dimensional array with an associated index."
   ]
  },
  {
   "cell_type": "code",
   "execution_count": 3,
   "metadata": {},
   "outputs": [
    {
     "data": {
      "text/html": [
       "<div>\n",
       "<style scoped>\n",
       "    .dataframe tbody tr th:only-of-type {\n",
       "        vertical-align: middle;\n",
       "    }\n",
       "\n",
       "    .dataframe tbody tr th {\n",
       "        vertical-align: top;\n",
       "    }\n",
       "\n",
       "    .dataframe thead th {\n",
       "        text-align: right;\n",
       "    }\n",
       "</style>\n",
       "<table border=\"1\" class=\"dataframe\">\n",
       "  <thead>\n",
       "    <tr style=\"text-align: right;\">\n",
       "      <th></th>\n",
       "      <th>Name</th>\n",
       "      <th>Age</th>\n",
       "      <th>City</th>\n",
       "    </tr>\n",
       "  </thead>\n",
       "  <tbody>\n",
       "    <tr>\n",
       "      <th>0</th>\n",
       "      <td>Alice</td>\n",
       "      <td>25</td>\n",
       "      <td>New York</td>\n",
       "    </tr>\n",
       "    <tr>\n",
       "      <th>1</th>\n",
       "      <td>Bob</td>\n",
       "      <td>30</td>\n",
       "      <td>Los Angeles</td>\n",
       "    </tr>\n",
       "    <tr>\n",
       "      <th>2</th>\n",
       "      <td>Charlie</td>\n",
       "      <td>35</td>\n",
       "      <td>Chicago</td>\n",
       "    </tr>\n",
       "  </tbody>\n",
       "</table>\n",
       "</div>"
      ],
      "text/plain": [
       "      Name  Age         City\n",
       "0    Alice   25     New York\n",
       "1      Bob   30  Los Angeles\n",
       "2  Charlie   35      Chicago"
      ]
     },
     "execution_count": 3,
     "metadata": {},
     "output_type": "execute_result"
    }
   ],
   "source": [
    "data = {\n",
    "    'Name': ['Alice', 'Bob', 'Charlie'],\n",
    "    'Age': [25, 30, 35],\n",
    "    'City': ['New York', 'Los Angeles', 'Chicago']\n",
    "}\n",
    "df = pd.DataFrame(data)\n",
    "df\n",
    "#This creates a DataFrame with columns Name, Age, and City."
   ]
  },
  {
   "cell_type": "code",
   "execution_count": 4,
   "metadata": {},
   "outputs": [
    {
     "data": {
      "text/plain": [
       "Alice      25\n",
       "Bob        30\n",
       "Charlie    35\n",
       "dtype: int64"
      ]
     },
     "execution_count": 4,
     "metadata": {},
     "output_type": "execute_result"
    }
   ],
   "source": [
    "ages = pd.Series([25, 30, 35], index=['Alice', 'Bob', 'Charlie'])\n",
    "ages\n",
    "# This creates a Series with the index labels Alice, \n",
    "# Bob, and Charlie, and corresponding data values 25, 30, and 35."
   ]
  },
  {
   "cell_type": "code",
   "execution_count": 1,
   "metadata": {},
   "outputs": [
    {
     "data": {
      "text/html": [
       "<div>\n",
       "<style scoped>\n",
       "    .dataframe tbody tr th:only-of-type {\n",
       "        vertical-align: middle;\n",
       "    }\n",
       "\n",
       "    .dataframe tbody tr th {\n",
       "        vertical-align: top;\n",
       "    }\n",
       "\n",
       "    .dataframe thead th {\n",
       "        text-align: right;\n",
       "    }\n",
       "</style>\n",
       "<table border=\"1\" class=\"dataframe\">\n",
       "  <thead>\n",
       "    <tr style=\"text-align: right;\">\n",
       "      <th></th>\n",
       "      <th>Response ID</th>\n",
       "      <th>What year were you born?</th>\n",
       "      <th>What is your gender?</th>\n",
       "      <th>Which of the following best describes your industry?</th>\n",
       "      <th>Which of the following best describes your industry? (Detailed)</th>\n",
       "      <th>Which of the following best describes your current occupation?</th>\n",
       "      <th>Which of the following best describes your current occupation? (Detailed)</th>\n",
       "      <th>How many people are currently employed by your organisation?</th>\n",
       "      <th>Do you manage people as part of your current occupation?</th>\n",
       "      <th>Which of the following best describes your household?</th>\n",
       "      <th>...</th>\n",
       "      <th>My organisation encouraged people to work remotely</th>\n",
       "      <th>My organisation was well prepared for me to work remotely</th>\n",
       "      <th>It was common for people in my organisation to work remotely</th>\n",
       "      <th>It was easy to get permission to work remotely</th>\n",
       "      <th>I could easily collaborate with colleagues when working remotely</th>\n",
       "      <th>I would recommend remote working to others</th>\n",
       "      <th>Unnamed: 19</th>\n",
       "      <th>Unnamed: 20</th>\n",
       "      <th>Unnamed: 21</th>\n",
       "      <th>Unnamed: 22</th>\n",
       "    </tr>\n",
       "  </thead>\n",
       "  <tbody>\n",
       "    <tr>\n",
       "      <th>0</th>\n",
       "      <td>1</td>\n",
       "      <td>1972</td>\n",
       "      <td>Female</td>\n",
       "      <td>Manufacturing</td>\n",
       "      <td>Food Product Manufacturing</td>\n",
       "      <td>Clerical and administrative</td>\n",
       "      <td>Other Clerical and Administrative</td>\n",
       "      <td>Between 20 and 199</td>\n",
       "      <td>No</td>\n",
       "      <td>Couple with no dependent children</td>\n",
       "      <td>...</td>\n",
       "      <td>NaN</td>\n",
       "      <td>NaN</td>\n",
       "      <td>NaN</td>\n",
       "      <td>NaN</td>\n",
       "      <td>NaN</td>\n",
       "      <td>NaN</td>\n",
       "      <td>NaN</td>\n",
       "      <td>NaN</td>\n",
       "      <td>NaN</td>\n",
       "      <td>NaN</td>\n",
       "    </tr>\n",
       "    <tr>\n",
       "      <th>1</th>\n",
       "      <td>2</td>\n",
       "      <td>1972</td>\n",
       "      <td>Male</td>\n",
       "      <td>Wholesale Trade</td>\n",
       "      <td>Other Goods Wholesaling</td>\n",
       "      <td>Managers</td>\n",
       "      <td>Chief Executives, General Managers and Legisla...</td>\n",
       "      <td>Between 1 and 4</td>\n",
       "      <td>Yes</td>\n",
       "      <td>Couple with dependent children</td>\n",
       "      <td>...</td>\n",
       "      <td>Somewhat agree</td>\n",
       "      <td>Somewhat agree</td>\n",
       "      <td>Somewhat agree</td>\n",
       "      <td>Somewhat agree</td>\n",
       "      <td>Somewhat agree</td>\n",
       "      <td>Somewhat agree</td>\n",
       "      <td>NaN</td>\n",
       "      <td>NaN</td>\n",
       "      <td>NaN</td>\n",
       "      <td>NaN</td>\n",
       "    </tr>\n",
       "    <tr>\n",
       "      <th>2</th>\n",
       "      <td>3</td>\n",
       "      <td>1982</td>\n",
       "      <td>Male</td>\n",
       "      <td>Electricity, Gas, Water and Waste Services</td>\n",
       "      <td>Gas Supply</td>\n",
       "      <td>Managers</td>\n",
       "      <td>Chief Executives, General Managers and Legisla...</td>\n",
       "      <td>More than 200</td>\n",
       "      <td>Yes</td>\n",
       "      <td>One  parent family with dependent children</td>\n",
       "      <td>...</td>\n",
       "      <td>Somewhat agree</td>\n",
       "      <td>Somewhat agree</td>\n",
       "      <td>Neither agree nor disagree</td>\n",
       "      <td>Somewhat agree</td>\n",
       "      <td>Neither agree nor disagree</td>\n",
       "      <td>Neither agree nor disagree</td>\n",
       "      <td>NaN</td>\n",
       "      <td>NaN</td>\n",
       "      <td>NaN</td>\n",
       "      <td>NaN</td>\n",
       "    </tr>\n",
       "  </tbody>\n",
       "</table>\n",
       "<p>3 rows × 23 columns</p>\n",
       "</div>"
      ],
      "text/plain": [
       "   Response ID  What year were you born? What is your gender?  \\\n",
       "0            1                      1972               Female   \n",
       "1            2                      1972                 Male   \n",
       "2            3                      1982                 Male   \n",
       "\n",
       "  Which of the following best describes your industry?  \\\n",
       "0                                      Manufacturing     \n",
       "1                                    Wholesale Trade     \n",
       "2         Electricity, Gas, Water and Waste Services     \n",
       "\n",
       "  Which of the following best describes your industry? (Detailed)  \\\n",
       "0                         Food Product Manufacturing                \n",
       "1                            Other Goods Wholesaling                \n",
       "2                                         Gas Supply                \n",
       "\n",
       "  Which of the following best describes your current occupation?  \\\n",
       "0                       Clerical and administrative                \n",
       "1                                           Managers               \n",
       "2                                           Managers               \n",
       "\n",
       "  Which of the following best describes your current occupation? (Detailed)  \\\n",
       "0                 Other Clerical and Administrative                           \n",
       "1  Chief Executives, General Managers and Legisla...                          \n",
       "2  Chief Executives, General Managers and Legisla...                          \n",
       "\n",
       "  How many people are currently employed by your organisation?  \\\n",
       "0                                 Between 20 and 199             \n",
       "1                                    Between 1 and 4             \n",
       "2                                      More than 200             \n",
       "\n",
       "  Do you manage people as part of your current occupation?  \\\n",
       "0                                                 No         \n",
       "1                                                Yes         \n",
       "2                                                Yes         \n",
       "\n",
       "  Which of the following best describes your household?  ...  \\\n",
       "0                  Couple with no dependent children     ...   \n",
       "1                     Couple with dependent children     ...   \n",
       "2         One  parent family with dependent children     ...   \n",
       "\n",
       "  My organisation encouraged people to work remotely  \\\n",
       "0                                                NaN   \n",
       "1                                     Somewhat agree   \n",
       "2                                     Somewhat agree   \n",
       "\n",
       "  My organisation was well prepared for me to work remotely  \\\n",
       "0                                                NaN          \n",
       "1                                     Somewhat agree          \n",
       "2                                     Somewhat agree          \n",
       "\n",
       "  It was common for people in my organisation to work remotely  \\\n",
       "0                                                NaN             \n",
       "1                                     Somewhat agree             \n",
       "2                         Neither agree nor disagree             \n",
       "\n",
       "  It was easy to get permission to work remotely  \\\n",
       "0                                            NaN   \n",
       "1                                 Somewhat agree   \n",
       "2                                 Somewhat agree   \n",
       "\n",
       "  I could easily collaborate with colleagues when working remotely  \\\n",
       "0                                                NaN                 \n",
       "1                                     Somewhat agree                 \n",
       "2                         Neither agree nor disagree                 \n",
       "\n",
       "  I would recommend remote working to others Unnamed: 19 Unnamed: 20  \\\n",
       "0                                        NaN         NaN         NaN   \n",
       "1                             Somewhat agree         NaN         NaN   \n",
       "2                 Neither agree nor disagree         NaN         NaN   \n",
       "\n",
       "  Unnamed: 21  Unnamed: 22  \n",
       "0         NaN          NaN  \n",
       "1         NaN          NaN  \n",
       "2         NaN          NaN  \n",
       "\n",
       "[3 rows x 23 columns]"
      ]
     },
     "execution_count": 1,
     "metadata": {},
     "output_type": "execute_result"
    }
   ],
   "source": [
    "import pandas as pd\n",
    "pd.options.mode.chained_assignment = None\n",
    "\n",
    "df = pd.read_csv('WFH-Survey-Responses-NSW.csv')\n",
    "df.head(3)"
   ]
  },
  {
   "cell_type": "markdown",
   "metadata": {},
   "source": [
    "As you can see, there are four columns at the end of the file that contain no information. We can easily remove them by using the pandas `drop` function. You can use this function to remove columns or rows, or even single cells."
   ]
  },
  {
   "cell_type": "code",
   "execution_count": 2,
   "metadata": {},
   "outputs": [
    {
     "data": {
      "text/html": [
       "<div>\n",
       "<style scoped>\n",
       "    .dataframe tbody tr th:only-of-type {\n",
       "        vertical-align: middle;\n",
       "    }\n",
       "\n",
       "    .dataframe tbody tr th {\n",
       "        vertical-align: top;\n",
       "    }\n",
       "\n",
       "    .dataframe thead th {\n",
       "        text-align: right;\n",
       "    }\n",
       "</style>\n",
       "<table border=\"1\" class=\"dataframe\">\n",
       "  <thead>\n",
       "    <tr style=\"text-align: right;\">\n",
       "      <th></th>\n",
       "      <th>Response ID</th>\n",
       "      <th>What year were you born?</th>\n",
       "      <th>What is your gender?</th>\n",
       "      <th>Which of the following best describes your industry?</th>\n",
       "      <th>Which of the following best describes your industry? (Detailed)</th>\n",
       "      <th>Which of the following best describes your current occupation?</th>\n",
       "      <th>Which of the following best describes your current occupation? (Detailed)</th>\n",
       "      <th>How many people are currently employed by your organisation?</th>\n",
       "      <th>Do you manage people as part of your current occupation?</th>\n",
       "      <th>Which of the following best describes your household?</th>\n",
       "      <th>How long have you been in your current job?</th>\n",
       "      <th>Metro / Regional</th>\n",
       "      <th>Thinking about your current job, how much of your time did you spend remote working last year?</th>\n",
       "      <th>My organisation encouraged people to work remotely</th>\n",
       "      <th>My organisation was well prepared for me to work remotely</th>\n",
       "      <th>It was common for people in my organisation to work remotely</th>\n",
       "      <th>It was easy to get permission to work remotely</th>\n",
       "      <th>I could easily collaborate with colleagues when working remotely</th>\n",
       "      <th>I would recommend remote working to others</th>\n",
       "    </tr>\n",
       "  </thead>\n",
       "  <tbody>\n",
       "    <tr>\n",
       "      <th>0</th>\n",
       "      <td>1</td>\n",
       "      <td>1972</td>\n",
       "      <td>Female</td>\n",
       "      <td>Manufacturing</td>\n",
       "      <td>Food Product Manufacturing</td>\n",
       "      <td>Clerical and administrative</td>\n",
       "      <td>Other Clerical and Administrative</td>\n",
       "      <td>Between 20 and 199</td>\n",
       "      <td>No</td>\n",
       "      <td>Couple with no dependent children</td>\n",
       "      <td>More than 5 years</td>\n",
       "      <td>Regional</td>\n",
       "      <td>0%</td>\n",
       "      <td>NaN</td>\n",
       "      <td>NaN</td>\n",
       "      <td>NaN</td>\n",
       "      <td>NaN</td>\n",
       "      <td>NaN</td>\n",
       "      <td>NaN</td>\n",
       "    </tr>\n",
       "    <tr>\n",
       "      <th>1</th>\n",
       "      <td>2</td>\n",
       "      <td>1972</td>\n",
       "      <td>Male</td>\n",
       "      <td>Wholesale Trade</td>\n",
       "      <td>Other Goods Wholesaling</td>\n",
       "      <td>Managers</td>\n",
       "      <td>Chief Executives, General Managers and Legisla...</td>\n",
       "      <td>Between 1 and 4</td>\n",
       "      <td>Yes</td>\n",
       "      <td>Couple with dependent children</td>\n",
       "      <td>More than 5 years</td>\n",
       "      <td>Metro</td>\n",
       "      <td>20%</td>\n",
       "      <td>Somewhat agree</td>\n",
       "      <td>Somewhat agree</td>\n",
       "      <td>Somewhat agree</td>\n",
       "      <td>Somewhat agree</td>\n",
       "      <td>Somewhat agree</td>\n",
       "      <td>Somewhat agree</td>\n",
       "    </tr>\n",
       "    <tr>\n",
       "      <th>2</th>\n",
       "      <td>3</td>\n",
       "      <td>1982</td>\n",
       "      <td>Male</td>\n",
       "      <td>Electricity, Gas, Water and Waste Services</td>\n",
       "      <td>Gas Supply</td>\n",
       "      <td>Managers</td>\n",
       "      <td>Chief Executives, General Managers and Legisla...</td>\n",
       "      <td>More than 200</td>\n",
       "      <td>Yes</td>\n",
       "      <td>One  parent family with dependent children</td>\n",
       "      <td>More than 5 years</td>\n",
       "      <td>Metro</td>\n",
       "      <td>60%</td>\n",
       "      <td>Somewhat agree</td>\n",
       "      <td>Somewhat agree</td>\n",
       "      <td>Neither agree nor disagree</td>\n",
       "      <td>Somewhat agree</td>\n",
       "      <td>Neither agree nor disagree</td>\n",
       "      <td>Neither agree nor disagree</td>\n",
       "    </tr>\n",
       "  </tbody>\n",
       "</table>\n",
       "</div>"
      ],
      "text/plain": [
       "   Response ID  What year were you born? What is your gender?  \\\n",
       "0            1                      1972               Female   \n",
       "1            2                      1972                 Male   \n",
       "2            3                      1982                 Male   \n",
       "\n",
       "  Which of the following best describes your industry?  \\\n",
       "0                                      Manufacturing     \n",
       "1                                    Wholesale Trade     \n",
       "2         Electricity, Gas, Water and Waste Services     \n",
       "\n",
       "  Which of the following best describes your industry? (Detailed)  \\\n",
       "0                         Food Product Manufacturing                \n",
       "1                            Other Goods Wholesaling                \n",
       "2                                         Gas Supply                \n",
       "\n",
       "  Which of the following best describes your current occupation?  \\\n",
       "0                       Clerical and administrative                \n",
       "1                                           Managers               \n",
       "2                                           Managers               \n",
       "\n",
       "  Which of the following best describes your current occupation? (Detailed)  \\\n",
       "0                 Other Clerical and Administrative                           \n",
       "1  Chief Executives, General Managers and Legisla...                          \n",
       "2  Chief Executives, General Managers and Legisla...                          \n",
       "\n",
       "  How many people are currently employed by your organisation?  \\\n",
       "0                                 Between 20 and 199             \n",
       "1                                    Between 1 and 4             \n",
       "2                                      More than 200             \n",
       "\n",
       "  Do you manage people as part of your current occupation?  \\\n",
       "0                                                 No         \n",
       "1                                                Yes         \n",
       "2                                                Yes         \n",
       "\n",
       "  Which of the following best describes your household?  \\\n",
       "0                  Couple with no dependent children      \n",
       "1                     Couple with dependent children      \n",
       "2         One  parent family with dependent children      \n",
       "\n",
       "  How long have you been in your current job? Metro / Regional  \\\n",
       "0                           More than 5 years         Regional   \n",
       "1                           More than 5 years            Metro   \n",
       "2                           More than 5 years            Metro   \n",
       "\n",
       "  Thinking about your current job, how much of your time did you spend remote working last year?  \\\n",
       "0                                                 0%                                               \n",
       "1                                                20%                                               \n",
       "2                                                60%                                               \n",
       "\n",
       "  My organisation encouraged people to work remotely  \\\n",
       "0                                                NaN   \n",
       "1                                     Somewhat agree   \n",
       "2                                     Somewhat agree   \n",
       "\n",
       "  My organisation was well prepared for me to work remotely  \\\n",
       "0                                                NaN          \n",
       "1                                     Somewhat agree          \n",
       "2                                     Somewhat agree          \n",
       "\n",
       "  It was common for people in my organisation to work remotely  \\\n",
       "0                                                NaN             \n",
       "1                                     Somewhat agree             \n",
       "2                         Neither agree nor disagree             \n",
       "\n",
       "  It was easy to get permission to work remotely  \\\n",
       "0                                            NaN   \n",
       "1                                 Somewhat agree   \n",
       "2                                 Somewhat agree   \n",
       "\n",
       "  I could easily collaborate with colleagues when working remotely  \\\n",
       "0                                                NaN                 \n",
       "1                                     Somewhat agree                 \n",
       "2                         Neither agree nor disagree                 \n",
       "\n",
       "  I would recommend remote working to others  \n",
       "0                                        NaN  \n",
       "1                             Somewhat agree  \n",
       "2                 Neither agree nor disagree  "
      ]
     },
     "execution_count": 2,
     "metadata": {},
     "output_type": "execute_result"
    }
   ],
   "source": [
    "df.drop(columns=['Unnamed: 19','Unnamed: 20','Unnamed: 21','Unnamed: 22']).head(3)"
   ]
  },
  {
   "cell_type": "markdown",
   "metadata": {},
   "source": [
    "### Let's define column header names (define constants for dictionary keys)\n",
    "\n",
    "In pandas, we can access the information of a column using the _header_ as an input, as `df['column_header']`. You can even select multiple columns, separating each column header by a comma, e.g: `df[['column1_header','column2_header']]`.\n",
    "\n",
    "Given that the headers in our file are very long questions, we can create a variable with a shorter name to store the original header. That way we can use this shorter version as an input instead of the original header, making it much easier to work with."
   ]
  },
  {
   "cell_type": "code",
   "execution_count": 3,
   "metadata": {},
   "outputs": [],
   "source": [
    "RESPONSE = 'Response'\n",
    "YEAR_BORN = 'What year were you born?'\n",
    "GENDER = 'What is your gender?'\n",
    "INDUSTRY = 'Which of the following best describes your industry?'\n",
    "INDUSTRY_DETAILED = 'Which of the following best describes your industry? (Detailed)'\n",
    "OCCUPATION = 'Which of the following best describes your current occupation?'\n",
    "OCCUPATION_DETAILED = 'Which of the following best describes your current occupation? (Detailed)'\n",
    "ORGANISATION_EMPLOYEE_NUMBER = 'How many people are currently employed by your organisation?'\n",
    "MANAGE_PEOPLE = 'Do you manage people as part of your current occupation?'\n",
    "HOUSEHOLD = 'Which of the following best describes your household?'\n",
    "EMPLOYMENT_TIME = 'How long have you been in your current job?'\n",
    "METRO_REGIONAL = 'Metro / Regional'\n",
    "PERCENTAGE_WFH_LAST_YEAR ='Thinking about your current job, how much of your time did you spend remote working last year?'\n",
    "ORGANISATION_WFH_ENCOURAGEMENT = 'My organisation encouraged people to work remotely'\n",
    "ORGANISATION_WFH_PREPARATION = 'My organisation was well prepared for me to work remotely'\n",
    "ORGANISATION_WFH_COMMON = 'It was common for people in my organisation to work remotely'\n",
    "ORGANISATION_WFH_PERMISSION = 'It was easy to get permission to work remotely'\n",
    "WFH_COLLABORATION = 'I could easily collaborate with colleagues when working remotely'\n",
    "WFH_RECOMMEND = 'I would recommend remote working to others'"
   ]
  },
  {
   "cell_type": "markdown",
   "metadata": {},
   "source": [
    "### Accessing columns\n",
    "\n",
    "Now that we have created an easier way to access a column, let's see how it works.\n",
    "\n",
    "Let's select the column that contains the answers to the question _What year were you born?_"
   ]
  },
  {
   "cell_type": "code",
   "execution_count": 4,
   "metadata": {
    "scrolled": true
   },
   "outputs": [
    {
     "data": {
      "text/plain": [
       "0       1972\n",
       "1       1972\n",
       "2       1982\n",
       "3       1987\n",
       "4       1991\n",
       "        ... \n",
       "1502    1995\n",
       "1503    1990\n",
       "1504    1998\n",
       "1505    1968\n",
       "1506    1980\n",
       "Name: What year were you born?, Length: 1507, dtype: int64"
      ]
     },
     "execution_count": 4,
     "metadata": {},
     "output_type": "execute_result"
    }
   ],
   "source": [
    "df[YEAR_BORN]"
   ]
  },
  {
   "cell_type": "markdown",
   "metadata": {},
   "source": [
    "### TODO: Select the columns having answers to the questions: _Which of the following best describes your industry?_ and _Which of the following best describes your industry? (Detailed)_"
   ]
  },
  {
   "cell_type": "markdown",
   "metadata": {},
   "source": [
    "df[[INDUSTRY, INDUSTRY_DETAILED]]:\n",
    "\n",
    "This code selects multiple columns from the DataFrame df.\n",
    "INDUSTRY and INDUSTRY_DETAILED are the names (or variables representing the names) of the columns in the DataFrame. These columns correspond to the questions asked in the survey.\n",
    "The double square brackets [[...]] are used to indicate that you want to select multiple columns. This syntax returns a new DataFrame containing only the specified columns."
   ]
  },
  {
   "cell_type": "code",
   "execution_count": 5,
   "metadata": {
    "scrolled": true
   },
   "outputs": [
    {
     "data": {
      "text/html": [
       "<div>\n",
       "<style scoped>\n",
       "    .dataframe tbody tr th:only-of-type {\n",
       "        vertical-align: middle;\n",
       "    }\n",
       "\n",
       "    .dataframe tbody tr th {\n",
       "        vertical-align: top;\n",
       "    }\n",
       "\n",
       "    .dataframe thead th {\n",
       "        text-align: right;\n",
       "    }\n",
       "</style>\n",
       "<table border=\"1\" class=\"dataframe\">\n",
       "  <thead>\n",
       "    <tr style=\"text-align: right;\">\n",
       "      <th></th>\n",
       "      <th>Which of the following best describes your industry?</th>\n",
       "      <th>Which of the following best describes your industry? (Detailed)</th>\n",
       "    </tr>\n",
       "  </thead>\n",
       "  <tbody>\n",
       "    <tr>\n",
       "      <th>0</th>\n",
       "      <td>Manufacturing</td>\n",
       "      <td>Food Product Manufacturing</td>\n",
       "    </tr>\n",
       "    <tr>\n",
       "      <th>1</th>\n",
       "      <td>Wholesale Trade</td>\n",
       "      <td>Other Goods Wholesaling</td>\n",
       "    </tr>\n",
       "    <tr>\n",
       "      <th>2</th>\n",
       "      <td>Electricity, Gas, Water and Waste Services</td>\n",
       "      <td>Gas Supply</td>\n",
       "    </tr>\n",
       "    <tr>\n",
       "      <th>3</th>\n",
       "      <td>Professional, Scientific and Technical Services</td>\n",
       "      <td>Professional, Scientific and Technical Services</td>\n",
       "    </tr>\n",
       "    <tr>\n",
       "      <th>4</th>\n",
       "      <td>Transport, Postal and Warehousing</td>\n",
       "      <td>Other Transport</td>\n",
       "    </tr>\n",
       "    <tr>\n",
       "      <th>...</th>\n",
       "      <td>...</td>\n",
       "      <td>...</td>\n",
       "    </tr>\n",
       "    <tr>\n",
       "      <th>1502</th>\n",
       "      <td>Rental, Hiring and Real Estate Services</td>\n",
       "      <td>Rental and Hiring Services (except Real Estate)</td>\n",
       "    </tr>\n",
       "    <tr>\n",
       "      <th>1503</th>\n",
       "      <td>Wholesale Trade</td>\n",
       "      <td>Grocery, Liquor and Tobacco Product Wholesaling</td>\n",
       "    </tr>\n",
       "    <tr>\n",
       "      <th>1504</th>\n",
       "      <td>Health Care and Social Assistance</td>\n",
       "      <td>Hospitals</td>\n",
       "    </tr>\n",
       "    <tr>\n",
       "      <th>1505</th>\n",
       "      <td>Transport, Postal and Warehousing</td>\n",
       "      <td>Air and Space Transport</td>\n",
       "    </tr>\n",
       "    <tr>\n",
       "      <th>1506</th>\n",
       "      <td>Information Media and Telecommunications</td>\n",
       "      <td>Telecommunications Services</td>\n",
       "    </tr>\n",
       "  </tbody>\n",
       "</table>\n",
       "<p>1507 rows × 2 columns</p>\n",
       "</div>"
      ],
      "text/plain": [
       "     Which of the following best describes your industry?  \\\n",
       "0                                         Manufacturing     \n",
       "1                                       Wholesale Trade     \n",
       "2            Electricity, Gas, Water and Waste Services     \n",
       "3       Professional, Scientific and Technical Services     \n",
       "4                     Transport, Postal and Warehousing     \n",
       "...                                                 ...     \n",
       "1502            Rental, Hiring and Real Estate Services     \n",
       "1503                                    Wholesale Trade     \n",
       "1504                  Health Care and Social Assistance     \n",
       "1505                  Transport, Postal and Warehousing     \n",
       "1506           Information Media and Telecommunications     \n",
       "\n",
       "     Which of the following best describes your industry? (Detailed)  \n",
       "0                            Food Product Manufacturing               \n",
       "1                               Other Goods Wholesaling               \n",
       "2                                            Gas Supply               \n",
       "3       Professional, Scientific and Technical Services               \n",
       "4                                       Other Transport               \n",
       "...                                                 ...               \n",
       "1502    Rental and Hiring Services (except Real Estate)               \n",
       "1503    Grocery, Liquor and Tobacco Product Wholesaling               \n",
       "1504                                          Hospitals               \n",
       "1505                            Air and Space Transport               \n",
       "1506                        Telecommunications Services               \n",
       "\n",
       "[1507 rows x 2 columns]"
      ]
     },
     "execution_count": 5,
     "metadata": {},
     "output_type": "execute_result"
    }
   ],
   "source": [
    "# TODO: replace the content of this cell with your Python solution\n",
    "df[[INDUSTRY,INDUSTRY_DETAILED]]"
   ]
  },
  {
   "cell_type": "markdown",
   "metadata": {},
   "source": [
    "## *STOP PLEASE. THE FOLLOWING IS FOR THE NEXT EXERCISE. THANKS.*\n"
   ]
  },
  {
   "cell_type": "markdown",
   "metadata": {},
   "source": [
    "## EXERCISE 2: Frequency distribution\n",
    "\n",
    "Obtaining the frequency distribution or mode of a column is quite simple when using pandas. We first need to select the column we want to use, and then by using the `value_counts()` function. This function will count the number of times the same value appears in that column and return the frequency distribution.\n",
    "\n",
    "Let's obtain the frequency distribution for the question _What year were you born?_"
   ]
  },
  {
   "cell_type": "code",
   "execution_count": 6,
   "metadata": {},
   "outputs": [
    {
     "name": "stdout",
     "output_type": "stream",
     "text": [
      "1985    52\n",
      "1964    51\n",
      "1990    49\n",
      "1970    48\n",
      "1960    47\n",
      "1961    47\n",
      "1977    46\n",
      "1978    46\n",
      "1980    44\n",
      "1971    42\n",
      "1989    41\n",
      "1987    41\n",
      "1965    40\n",
      "1966    40\n",
      "1969    39\n",
      "1962    39\n",
      "1988    38\n",
      "1973    38\n",
      "1963    38\n",
      "1986    37\n",
      "1975    37\n",
      "1972    37\n",
      "1959    37\n",
      "1957    37\n",
      "1984    36\n",
      "1968    35\n",
      "1976    34\n",
      "1981    33\n",
      "1967    33\n",
      "1983    31\n",
      "1974    30\n",
      "1958    29\n",
      "1979    29\n",
      "1982    29\n",
      "1956    29\n",
      "1991    25\n",
      "1995    23\n",
      "1992    20\n",
      "1994    16\n",
      "1993    13\n",
      "1996    12\n",
      "2000     9\n",
      "1955     9\n",
      "1997     7\n",
      "1998     7\n",
      "2001     2\n",
      "1900     2\n",
      "1999     1\n",
      "1945     1\n",
      "1937     1\n",
      "Name: What year were you born?, dtype: int64\n",
      "52\n"
     ]
    }
   ],
   "source": [
    "print(df[YEAR_BORN].value_counts())\n",
    "print(df[YEAR_BORN].value_counts().max())"
   ]
  },
  {
   "cell_type": "markdown",
   "metadata": {},
   "source": [
    "### TODO: Calculate frequency distribution for the question: _Which of the following best describes your industry?_ and _Which of the following best describes your industry? (Detailed)_"
   ]
  },
  {
   "cell_type": "markdown",
   "metadata": {},
   "source": [
    "Explanation:\n",
    "df[INDUSTRY]: This selects the column in the DataFrame df that corresponds to the question \"Which of the following best describes your industry?\".\n",
    "\n",
    "df[INDUSTRY_DETAILED]: This selects the column in the DataFrame df that corresponds to the question \"Which of the following best describes your industry? (Detailed)\".\n",
    "\n",
    ".value_counts():\n",
    "\n",
    "This method is used to calculate the frequency distribution of the unique values in a Series.\n",
    "It returns a Series where the index is the unique values from the column, and the values are the counts of each unique value.\n",
    "print():\n",
    "\n",
    "This function is used to output the result to the console or standard output."
   ]
  },
  {
   "cell_type": "code",
   "execution_count": 7,
   "metadata": {
    "scrolled": true
   },
   "outputs": [
    {
     "name": "stdout",
     "output_type": "stream",
     "text": [
      "Professional, Scientific and Technical Services    259\n",
      "Financial and Insurance Services                   173\n",
      "Education and Training                             144\n",
      "Information Media and Telecommunications           114\n",
      "Health Care and Social Assistance                  103\n",
      "Other Services                                      90\n",
      "Retail Trade                                        87\n",
      "Manufacturing                                       82\n",
      "Public Administration and Safety                    81\n",
      "Administrative and Support Services                 76\n",
      "Transport, Postal and Warehousing                   57\n",
      "Construction                                        56\n",
      "Wholesale Trade                                     44\n",
      "Arts and Recreation Services                        38\n",
      "Accommodation and Food Services                     32\n",
      "Electricity, Gas, Water and Waste Services          29\n",
      "Rental, Hiring and Real Estate Services             25\n",
      "Agriculture, Forestry and Fishing                    9\n",
      "Mining                                               8\n",
      "Name: Which of the following best describes your industry?, dtype: int64\n",
      "Professional, Scientific and Technical Services    183\n",
      "Finance                                            113\n",
      "Personal and Other Services                         79\n",
      "Computer System Design and Related Services         76\n",
      "Administrative Services                             73\n",
      "                                                  ... \n",
      "Gambling Activities                                  2\n",
      "Exploration and Other Mining Support Services        2\n",
      "Commission-Based Wholesaling                         1\n",
      "Motion Picture and Sound Recording Activities        1\n",
      "Metal Ore Mining                                     1\n",
      "Name: Which of the following best describes your industry? (Detailed), Length: 83, dtype: int64\n"
     ]
    }
   ],
   "source": [
    "# TODO: replace the content of this cell with your Python solution\n",
    "print(df[INDUSTRY].value_counts())\n",
    "print(df[INDUSTRY_DETAILED].value_counts())"
   ]
  },
  {
   "cell_type": "markdown",
   "metadata": {},
   "source": [
    "### Check types"
   ]
  },
  {
   "cell_type": "code",
   "execution_count": 8,
   "metadata": {},
   "outputs": [
    {
     "data": {
      "text/plain": [
       "Response ID                                                                                         int64\n",
       "What year were you born?                                                                            int64\n",
       "What is your gender?                                                                               object\n",
       "Which of the following best describes your industry?                                               object\n",
       "Which of the following best describes your industry? (Detailed)                                    object\n",
       "Which of the following best describes your current occupation?                                     object\n",
       "Which of the following best describes your current occupation? (Detailed)                          object\n",
       "How many people are currently employed by your organisation?                                       object\n",
       "Do you manage people as part of your current occupation?                                           object\n",
       "Which of the following best describes your household?                                              object\n",
       "How long have you been in your current job?                                                        object\n",
       "Metro / Regional                                                                                   object\n",
       "Thinking about your current job, how much of your time did you spend remote working last year?     object\n",
       "My organisation encouraged people to work remotely                                                 object\n",
       "My organisation was well prepared for me to work remotely                                          object\n",
       "It was common for people in my organisation to work remotely                                       object\n",
       "It was easy to get permission to work remotely                                                     object\n",
       "I could easily collaborate with colleagues when working remotely                                   object\n",
       "I would recommend remote working to others                                                         object\n",
       "Unnamed: 19                                                                                       float64\n",
       "Unnamed: 20                                                                                       float64\n",
       "Unnamed: 21                                                                                       float64\n",
       "Unnamed: 22                                                                                       float64\n",
       "dtype: object"
      ]
     },
     "execution_count": 8,
     "metadata": {},
     "output_type": "execute_result"
    }
   ],
   "source": [
    "df.dtypes"
   ]
  },
  {
   "cell_type": "markdown",
   "metadata": {},
   "source": [
    "## Date time?\n",
    "convert year born column to string\n",
    "df[YEAR_BORN] = df[YEAR_BORN].apply(str)\n",
    "This line converts the values in the YEAR_BORN column of the DataFrame df to strings. This is necessary because the next step involves parsing these strings into datetime objects.\n",
    "\n",
    "convert string to datetime object\n",
    "df[YEAR_BORN] = pd.Series([datetime.strptime(year, '%Y') for year in df[YEAR_BORN]])\n",
    "This line converts the string representations of the years into datetime objects.\n",
    "datetime.strptime(year, '%Y'): This function parses a string representing a year (e.g., '1980') into a datetime object. The format '%Y' tells the function to expect a 4-digit year.\n",
    "The pd.Series([...]) wraps the list comprehension in a pandas Series, which is then assigned back to the YEAR_BORN column. This effectively replaces the original values with their corresponding datetime objects.\n",
    "\n",
    "convert to datetime64\n",
    "df.astype({YEAR_BORN: 'datetime64[ns]'})\n",
    "This line converts the YEAR_BORN column to the datetime64[ns] format, which is a specific type used by pandas for date and time data with nanosecond precision.\n",
    "The .astype() method is used to cast the column to the desired data type.\n"
   ]
  },
  {
   "cell_type": "code",
   "execution_count": 9,
   "metadata": {},
   "outputs": [
    {
     "data": {
      "text/html": [
       "<div>\n",
       "<style scoped>\n",
       "    .dataframe tbody tr th:only-of-type {\n",
       "        vertical-align: middle;\n",
       "    }\n",
       "\n",
       "    .dataframe tbody tr th {\n",
       "        vertical-align: top;\n",
       "    }\n",
       "\n",
       "    .dataframe thead th {\n",
       "        text-align: right;\n",
       "    }\n",
       "</style>\n",
       "<table border=\"1\" class=\"dataframe\">\n",
       "  <thead>\n",
       "    <tr style=\"text-align: right;\">\n",
       "      <th></th>\n",
       "      <th>Response ID</th>\n",
       "      <th>What year were you born?</th>\n",
       "      <th>What is your gender?</th>\n",
       "      <th>Which of the following best describes your industry?</th>\n",
       "      <th>Which of the following best describes your industry? (Detailed)</th>\n",
       "      <th>Which of the following best describes your current occupation?</th>\n",
       "      <th>Which of the following best describes your current occupation? (Detailed)</th>\n",
       "      <th>How many people are currently employed by your organisation?</th>\n",
       "      <th>Do you manage people as part of your current occupation?</th>\n",
       "      <th>Which of the following best describes your household?</th>\n",
       "      <th>...</th>\n",
       "      <th>My organisation encouraged people to work remotely</th>\n",
       "      <th>My organisation was well prepared for me to work remotely</th>\n",
       "      <th>It was common for people in my organisation to work remotely</th>\n",
       "      <th>It was easy to get permission to work remotely</th>\n",
       "      <th>I could easily collaborate with colleagues when working remotely</th>\n",
       "      <th>I would recommend remote working to others</th>\n",
       "      <th>Unnamed: 19</th>\n",
       "      <th>Unnamed: 20</th>\n",
       "      <th>Unnamed: 21</th>\n",
       "      <th>Unnamed: 22</th>\n",
       "    </tr>\n",
       "  </thead>\n",
       "  <tbody>\n",
       "    <tr>\n",
       "      <th>0</th>\n",
       "      <td>1</td>\n",
       "      <td>1972-01-01</td>\n",
       "      <td>Female</td>\n",
       "      <td>Manufacturing</td>\n",
       "      <td>Food Product Manufacturing</td>\n",
       "      <td>Clerical and administrative</td>\n",
       "      <td>Other Clerical and Administrative</td>\n",
       "      <td>Between 20 and 199</td>\n",
       "      <td>No</td>\n",
       "      <td>Couple with no dependent children</td>\n",
       "      <td>...</td>\n",
       "      <td>NaN</td>\n",
       "      <td>NaN</td>\n",
       "      <td>NaN</td>\n",
       "      <td>NaN</td>\n",
       "      <td>NaN</td>\n",
       "      <td>NaN</td>\n",
       "      <td>NaN</td>\n",
       "      <td>NaN</td>\n",
       "      <td>NaN</td>\n",
       "      <td>NaN</td>\n",
       "    </tr>\n",
       "    <tr>\n",
       "      <th>1</th>\n",
       "      <td>2</td>\n",
       "      <td>1972-01-01</td>\n",
       "      <td>Male</td>\n",
       "      <td>Wholesale Trade</td>\n",
       "      <td>Other Goods Wholesaling</td>\n",
       "      <td>Managers</td>\n",
       "      <td>Chief Executives, General Managers and Legisla...</td>\n",
       "      <td>Between 1 and 4</td>\n",
       "      <td>Yes</td>\n",
       "      <td>Couple with dependent children</td>\n",
       "      <td>...</td>\n",
       "      <td>Somewhat agree</td>\n",
       "      <td>Somewhat agree</td>\n",
       "      <td>Somewhat agree</td>\n",
       "      <td>Somewhat agree</td>\n",
       "      <td>Somewhat agree</td>\n",
       "      <td>Somewhat agree</td>\n",
       "      <td>NaN</td>\n",
       "      <td>NaN</td>\n",
       "      <td>NaN</td>\n",
       "      <td>NaN</td>\n",
       "    </tr>\n",
       "    <tr>\n",
       "      <th>2</th>\n",
       "      <td>3</td>\n",
       "      <td>1982-01-01</td>\n",
       "      <td>Male</td>\n",
       "      <td>Electricity, Gas, Water and Waste Services</td>\n",
       "      <td>Gas Supply</td>\n",
       "      <td>Managers</td>\n",
       "      <td>Chief Executives, General Managers and Legisla...</td>\n",
       "      <td>More than 200</td>\n",
       "      <td>Yes</td>\n",
       "      <td>One  parent family with dependent children</td>\n",
       "      <td>...</td>\n",
       "      <td>Somewhat agree</td>\n",
       "      <td>Somewhat agree</td>\n",
       "      <td>Neither agree nor disagree</td>\n",
       "      <td>Somewhat agree</td>\n",
       "      <td>Neither agree nor disagree</td>\n",
       "      <td>Neither agree nor disagree</td>\n",
       "      <td>NaN</td>\n",
       "      <td>NaN</td>\n",
       "      <td>NaN</td>\n",
       "      <td>NaN</td>\n",
       "    </tr>\n",
       "  </tbody>\n",
       "</table>\n",
       "<p>3 rows × 23 columns</p>\n",
       "</div>"
      ],
      "text/plain": [
       "   Response ID What year were you born? What is your gender?  \\\n",
       "0            1               1972-01-01               Female   \n",
       "1            2               1972-01-01                 Male   \n",
       "2            3               1982-01-01                 Male   \n",
       "\n",
       "  Which of the following best describes your industry?  \\\n",
       "0                                      Manufacturing     \n",
       "1                                    Wholesale Trade     \n",
       "2         Electricity, Gas, Water and Waste Services     \n",
       "\n",
       "  Which of the following best describes your industry? (Detailed)  \\\n",
       "0                         Food Product Manufacturing                \n",
       "1                            Other Goods Wholesaling                \n",
       "2                                         Gas Supply                \n",
       "\n",
       "  Which of the following best describes your current occupation?  \\\n",
       "0                       Clerical and administrative                \n",
       "1                                           Managers               \n",
       "2                                           Managers               \n",
       "\n",
       "  Which of the following best describes your current occupation? (Detailed)  \\\n",
       "0                 Other Clerical and Administrative                           \n",
       "1  Chief Executives, General Managers and Legisla...                          \n",
       "2  Chief Executives, General Managers and Legisla...                          \n",
       "\n",
       "  How many people are currently employed by your organisation?  \\\n",
       "0                                 Between 20 and 199             \n",
       "1                                    Between 1 and 4             \n",
       "2                                      More than 200             \n",
       "\n",
       "  Do you manage people as part of your current occupation?  \\\n",
       "0                                                 No         \n",
       "1                                                Yes         \n",
       "2                                                Yes         \n",
       "\n",
       "  Which of the following best describes your household?  ...  \\\n",
       "0                  Couple with no dependent children     ...   \n",
       "1                     Couple with dependent children     ...   \n",
       "2         One  parent family with dependent children     ...   \n",
       "\n",
       "  My organisation encouraged people to work remotely  \\\n",
       "0                                                NaN   \n",
       "1                                     Somewhat agree   \n",
       "2                                     Somewhat agree   \n",
       "\n",
       "  My organisation was well prepared for me to work remotely  \\\n",
       "0                                                NaN          \n",
       "1                                     Somewhat agree          \n",
       "2                                     Somewhat agree          \n",
       "\n",
       "  It was common for people in my organisation to work remotely  \\\n",
       "0                                                NaN             \n",
       "1                                     Somewhat agree             \n",
       "2                         Neither agree nor disagree             \n",
       "\n",
       "  It was easy to get permission to work remotely  \\\n",
       "0                                            NaN   \n",
       "1                                 Somewhat agree   \n",
       "2                                 Somewhat agree   \n",
       "\n",
       "  I could easily collaborate with colleagues when working remotely  \\\n",
       "0                                                NaN                 \n",
       "1                                     Somewhat agree                 \n",
       "2                         Neither agree nor disagree                 \n",
       "\n",
       "  I would recommend remote working to others Unnamed: 19 Unnamed: 20  \\\n",
       "0                                        NaN         NaN         NaN   \n",
       "1                             Somewhat agree         NaN         NaN   \n",
       "2                 Neither agree nor disagree         NaN         NaN   \n",
       "\n",
       "  Unnamed: 21  Unnamed: 22  \n",
       "0         NaN          NaN  \n",
       "1         NaN          NaN  \n",
       "2         NaN          NaN  \n",
       "\n",
       "[3 rows x 23 columns]"
      ]
     },
     "execution_count": 9,
     "metadata": {},
     "output_type": "execute_result"
    }
   ],
   "source": [
    "from numpy import datetime64\n",
    "from datetime import datetime\n",
    "# Reference https://numpy.org/doc/1.18/reference/arrays.datetime.html\n",
    "df[YEAR_BORN] = df[YEAR_BORN].apply(str)\n",
    "df[YEAR_BORN] = pd.Series([datetime.strptime(year,'%Y') for year in df[YEAR_BORN]])\n",
    "# If you need a datetime type (note pandas does not support times coarser than nanosecond.)\n",
    "df.astype({YEAR_BORN: 'datetime64[ns]'})\n",
    "df.head(3)"
   ]
  },
  {
   "cell_type": "markdown",
   "metadata": {},
   "source": [
    "## Encode NaNs?\n",
    "\n",
    "Store the Minimum Value Before Replacement\n",
    "before = df[YEAR_BORN].min()\n",
    "This line calculates and stores the minimum value in the YEAR_BORN column before any changes are made. The .min() function returns the earliest date in the column.\n",
    "\n",
    "Replace Specific Dates with NaT\n",
    "df[YEAR_BORN]: Refers to the column in the DataFrame that contains date values (likely years of birth).\n",
    ".replace(np.datetime64('1900-01-01'), np.datetime64('NaT')):\n",
    "This replaces any occurrences of the date 1900-01-01 in the YEAR_BORN column with NaT.\n",
    "np.datetime64('1900-01-01'): Represents the date 1900-01-01 in a format recognized by numpy.\n",
    "np.datetime64('NaT'): Represents a missing or undefined date/time value.\n",
    "\n",
    "Store the Minimum Value After Replacement\n",
    "after = df[YEAR_BORN].min()\n",
    "After replacing 1900-01-01 with NaT, this line recalculates the minimum value in the YEAR_BORN column and stores it in the variable after.\n",
    "\n",
    "\n",
    "print()\n",
    "This prints out the minimum values of the YEAR_BORN column before and after the replacement.\n",
    "This code is useful for data cleaning. The date 1900-01-01 is often used as a placeholder in datasets (for example, when a date is missing), so replacing it with NaT correctly marks those entries as missing values. By comparing the minimum date before and after, you can see if the replacement impacted the earliest date in your dataset."
   ]
  },
  {
   "cell_type": "code",
   "execution_count": 10,
   "metadata": {},
   "outputs": [
    {
     "name": "stdout",
     "output_type": "stream",
     "text": [
      "before: 1900-01-01 00:00:00\n",
      "after: 1937-01-01 00:00:00\n"
     ]
    }
   ],
   "source": [
    "# Encode values as NaNs (not a number) or NaTs (not a time)\n",
    "import numpy as np\n",
    "before = df[YEAR_BORN].min()\n",
    "df[YEAR_BORN] = df[YEAR_BORN].replace(np.datetime64('1900-01-01'), np.datetime64('NaT'))\n",
    "after = df[YEAR_BORN].min()\n",
    "print('before:', before)\n",
    "print('after:', after)"
   ]
  },
  {
   "cell_type": "markdown",
   "metadata": {},
   "source": [
    "### TODO: Update a function that cleans a Pandas Series\n",
    "\n",
    "This code snippet is designed to map a series of gender-related string values to an enumeration (Enum) representing standardized gender categories. Here’s a step-by-step explanation:\n",
    "Create a Pandas Series\n",
    "gender_series = pd.Series(['M', 'Male', 'NB', 'Female', 'F', 'NonBinary', 'Undisclosed'])\n",
    "This creates a pandas Series named gender_series containing various string values that represent different gender identities.\n",
    "The Series includes abbreviations and full names for male, female, non-binary, and undisclosed gender identities.\n",
    "\n",
    "Define the Gender Enumeration\n",
    "class Gender(Enum):\n",
    "    UNKNOWN = 1\n",
    "    FEMALE = 2\n",
    "    MALE = 3\n",
    "    NONBINARY = 4\n",
    "    \n",
    "class Gender(Enum):: Defines an enumeration class named Gender with four members:\n",
    "UNKNOWN = 1: Represents an unknown or undisclosed gender.\n",
    "FEMALE = 2: Represents female gender.\n",
    "MALE = 3: Represents male gender.\n",
    "NONBINARY = 4: Represents non-binary gender.\n",
    "Enumerations are useful for mapping string values to standardized categories, making the data easier to manage and compare.\n",
    "\n",
    "Define a Function to Map Values to the Gender Enum\n",
    "his function, my_function, takes a single argument value (which will be a string from the gender_series).\n",
    "It maps the string values to the corresponding Gender enumeration members:\n",
    "If value is 'Female' or 'F', the function returns Gender.FEMALE.\n",
    "If value is 'M' or 'Male', it returns Gender.MALE.\n",
    "If value is 'NB' or 'NonBinary', it returns Gender.NONBINARY.\n",
    "For any other values (e.g., 'Undisclosed'), it returns Gender.UNKNOWN, indicating that the gender is not recognized or is undisclosed.\n",
    "The TODO: handle other values comment suggests that the function could be expanded to handle additional cases.\n",
    "\n",
    "\n",
    "Apply the Function to the Series\n",
    "gender_series.apply(my_function)\n",
    ".apply(my_function): This applies the my_function to each element of the gender_series.\n",
    "The apply method iterates over the Series, passing each element to my_function, and returns a new Series with the results.\n",
    "\n",
    "The result is a new Series where each gender string is replaced by its corresponding Gender enumeration member:\n",
    "For example, 'Male' and 'M' are replaced with Gender.MALE, and 'Female' and 'F' are replaced with Gender.FEMALE.\n",
    "Any unhandled or unknown values, such as 'Undisclosed', are mapped to Gender.UNKNOWN.\n",
    "\n",
    "This code takes a series of gender-related strings and maps them to standardized Gender enumeration values using a custom function. The enumeration helps to categorize the gender data into distinct, manageable categories. The apply method is used to transform the entire Series based on these rules."
   ]
  },
  {
   "cell_type": "code",
   "execution_count": 11,
   "metadata": {},
   "outputs": [
    {
     "data": {
      "text/plain": [
       "0         Gender.MALE\n",
       "1         Gender.MALE\n",
       "2    Gender.NONBINARY\n",
       "3       Gender.FEMALE\n",
       "4       Gender.FEMALE\n",
       "5    Gender.NONBINARY\n",
       "6      Gender.UNKNOWN\n",
       "dtype: object"
      ]
     },
     "execution_count": 11,
     "metadata": {},
     "output_type": "execute_result"
    }
   ],
   "source": [
    "gender_series = pd.Series(['M', 'Male', 'NB', 'Female', 'F', 'NonBinary', 'Undisclosed'])\n",
    "\n",
    "# Define the set of allowed values for the Series\n",
    "from enum import Enum\n",
    "class Gender(Enum):\n",
    "    UNKNOWN = 1\n",
    "    FEMALE = 2\n",
    "    MALE = 3\n",
    "    NONBINARY = 4\n",
    "\n",
    "# A function that applies a transformation to the data in a series\n",
    "def my_function(value):\n",
    "    \"\"\"Example: manually map string values to an Enum\"\"\"\n",
    "    if value in {'Female', 'F'}:\n",
    "        return Gender.FEMALE\n",
    "    # TODO: handle other values\n",
    "    elif value in {'M', 'Male'}:\n",
    "        return Gender.MALE\n",
    "    elif value in {'NB', 'NonBinary'}:\n",
    "        return Gender.NONBINARY\n",
    "    else:\n",
    "        return Gender.UNKNOWN\n",
    "    #else:\n",
    "    #    raise NotImplementedError(f'TODO: Handle {value}.')\n",
    "\n",
    "gender_series.apply(my_function)"
   ]
  },
  {
   "cell_type": "markdown",
   "metadata": {},
   "source": [
    "## *STOP PLEASE. THE FOLLOWING IS FOR THE NEXT EXERCISE. THANKS.*\n"
   ]
  },
  {
   "cell_type": "markdown",
   "metadata": {},
   "source": [
    "## EXERCISE 3: Calculating descriptive statistics\n",
    "\n",
    "### Statistics with Pandas\n",
    "\n",
    "Pandas includes multiple statistic functions, such as `min()`, `max()`, `mean()` and `median()`. Additionally, it includes the function `describe()`, which provides descriptive statistics.\n",
    "\n",
    "Let's have a look at the statistics for the question _What year were you born?_\n",
    "\n",
    "**is used to generate summary statistics for the YEAR_BORN column in the DataFrame df, treating the datetime data as numeric values."
   ]
  },
  {
   "cell_type": "code",
   "execution_count": 12,
   "metadata": {},
   "outputs": [
    {
     "data": {
      "text/plain": [
       "count                             1505\n",
       "mean     1974-11-22 07:50:45.049833888\n",
       "min                1937-01-01 00:00:00\n",
       "25%                1965-01-01 00:00:00\n",
       "50%                1975-01-01 00:00:00\n",
       "75%                1985-01-01 00:00:00\n",
       "max                2001-01-01 00:00:00\n",
       "Name: What year were you born?, dtype: object"
      ]
     },
     "execution_count": 12,
     "metadata": {},
     "output_type": "execute_result"
    }
   ],
   "source": [
    "df[YEAR_BORN].describe()"
   ]
  },
  {
   "cell_type": "markdown",
   "metadata": {},
   "source": [
    "Now, let's have a look at the statistics we get when dealing with nominal data. To do this, we will obtain the descriptive statistics for the question _Which of the following best describes your industry?_"
   ]
  },
  {
   "cell_type": "code",
   "execution_count": 13,
   "metadata": {},
   "outputs": [
    {
     "data": {
      "text/plain": [
       "count                                                1507\n",
       "unique                                                 19\n",
       "top       Professional, Scientific and Technical Services\n",
       "freq                                                  259\n",
       "Name: Which of the following best describes your industry?, dtype: object"
      ]
     },
     "execution_count": 13,
     "metadata": {},
     "output_type": "execute_result"
    }
   ],
   "source": [
    "df[INDUSTRY].describe()"
   ]
  },
  {
   "cell_type": "markdown",
   "metadata": {},
   "source": [
    "### TODO: Obtain the descriptive statistics for the questions: _Which of the following best describes your current occupation?_ and _How many people are currently employed by your organisation?_\n",
    "\n",
    "\n",
    "answers the question by providing descriptive statistics for two specific columns in the DataFrame\n",
    "When used on a column with categorical data (like occupations), this method provides summary statistics about the distribution of these categorical values.\n",
    "Descriptive Statistics Provided:\n",
    "count: The number of non-null entries in the OCCUPATION column.\n",
    "unique: The number of unique occupation entries in the column.\n",
    "top: The most frequent occupation value (the mode).\n",
    "freq: The frequency of the most common occupation value."
   ]
  },
  {
   "cell_type": "code",
   "execution_count": 14,
   "metadata": {},
   "outputs": [
    {
     "name": "stdout",
     "output_type": "stream",
     "text": [
      "count              1507\n",
      "unique                8\n",
      "top       Professionals\n",
      "freq                580\n",
      "Name: Which of the following best describes your current occupation?, dtype: object\n",
      "count              1507\n",
      "unique                5\n",
      "top       More than 200\n",
      "freq                739\n",
      "Name: How many people are currently employed by your organisation?, dtype: object\n"
     ]
    }
   ],
   "source": [
    "# TODO: replace the content of this cell with your Python solution\n",
    "print(df[OCCUPATION].describe())\n",
    "print(df[ORGANISATION_EMPLOYEE_NUMBER].describe())"
   ]
  },
  {
   "cell_type": "markdown",
   "metadata": {},
   "source": [
    "## *STOP PLEASE. THE FOLLOWING IS FOR THE NEXT EXERCISE. THANKS.*\n"
   ]
  },
  {
   "cell_type": "markdown",
   "metadata": {},
   "source": [
    " ## EXERCISE 4: Visualisation with matplotlib\n",
    "\n",
    "### Making a histogram\n",
    "\n",
    "`matplotlib` provides functionality for creating various plots.\n",
    "\n",
    "Let's make a histogram for the question _What year were you born?_ To create a histogram, we use the `hist(x,bins=n)` function from matplotlib, where we need to specify the values (`x`) we want to plot and the number of bins (`n`) we want in our histogram. Additionally, we can specify the space between bars using the `rwidth` option."
   ]
  },
  {
   "cell_type": "code",
   "execution_count": 15,
   "metadata": {
    "scrolled": true
   },
   "outputs": [
    {
     "data": {
      "image/png": "[encoded data removed]",
      "text/plain": [
       "<Figure size 432x288 with 1 Axes>"
      ]
     },
     "metadata": {
      "needs_background": "light"
     },
     "output_type": "display_data"
    }
   ],
   "source": [
    "import matplotlib.pyplot as plt\n",
    "\n",
    "plt.hist(df[YEAR_BORN], bins = 5, rwidth=0.8)\n",
    "plt.ylabel('Number of responses')\n",
    "plt.xlabel('Year')\n",
    "plt.title('What year were you born?')\n",
    "plt.show()"
   ]
  },
  {
   "cell_type": "markdown",
   "metadata": {},
   "source": [
    "Try changing the number of bins and observe how the plot changes. The higher the number of bins, the smaller the bars will become, as it will divide the data in more segments. If you know the _min_ and _max_ of your data values, you can calculate an appropiate number of bins depending of what you want to observe. For example, if your data values go from 1 to 100, if you select 10 bins, it will divide your data in segments of every 10: 1-10, 11-20, ... , 91-100. If you select 20 bins, it will divide your data in segments of every 5: 1-5, 6-10, ... , 96-100. Always choose a number of bins that allows you to observe the tendency of the data.\n",
    "\n",
    "Now, let's make a histogram with some nominal data. To do this, we first need to obtain the frequency distribution for the data we want to plot (See Exercise 2), and then use a bar plot to visualise the distribution. In this case, we don't need to use the histogram function, and there's no bin size because we're not dealing with numerical data.\n",
    "\n",
    "Let's make the bar plot for the question _Which of the following best describes your industry?_ Given that our data is nominal data, it's best to make a horizontal bar plot. Additionally, we can use the pandas function `plot.barh()` to plot the data. This way, we only need to obtain the frequency distribution of the data and then plot. We can set the title of the plot as an option and then we can specify the labels of the axis using the `set_xlabel()` and `set_ylabel` functions."
   ]
  },
  {
   "cell_type": "code",
   "execution_count": 16,
   "metadata": {},
   "outputs": [
    {
     "data": {
      "text/plain": [
       "Text(0, 0.5, 'Industry')"
      ]
     },
     "execution_count": 16,
     "metadata": {},
     "output_type": "execute_result"
    },
    {
     "data": {
      "image/png": "[encoded data removed]",
      "text/plain": [
       "<Figure size 432x288 with 1 Axes>"
      ]
     },
     "metadata": {
      "needs_background": "light"
     },
     "output_type": "display_data"
    }
   ],
   "source": [
    "industry_freq = df[INDUSTRY].value_counts()\n",
    "ax = industry_freq.plot.barh(title='Which of the following best describes your industry?')\n",
    "ax.set_xlabel('Frequency')\n",
    "ax.set_ylabel('Industry')"
   ]
  },
  {
   "cell_type": "markdown",
   "metadata": {},
   "source": [
    "### TODO: Make a histogram for the question: _Which of the following best describes your current occupation?_\n",
    "\n",
    ".value_counts(): Counts the occurrences of each unique occupation in the OCCUPATION column and returns a Series where the index is the unique occupations and the values are the counts (frequencies) of each occupation.\n",
    "\n",
    "occupation_freq.plot.barh(): Creates a horizontal bar chart (bar plot) from the occupation_freq Series.\n",
    ".barh(): Creates a horizontal bar plot where the occupations are listed on the y-axis and the frequencies are shown on the x-axis.\n",
    "title='Which of the following best describes your current occupation?': Sets the title of the bar chart to provide context about what the chart represents.\n",
    "\n",
    "ax.set_xlabel('Frequency'): Labels the x-axis of the bar chart as \"Frequency,\" indicating that this axis represents the count of each occupation.\n",
    "ax.set_ylabel('Occupation'): Labels the y-axis of the bar chart as \"Occupation,\" indicating that this axis represents the different occupation categories."
   ]
  },
  {
   "cell_type": "code",
   "execution_count": 17,
   "metadata": {
    "scrolled": true
   },
   "outputs": [
    {
     "data": {
      "text/plain": [
       "Text(0, 0.5, 'Occupation')"
      ]
     },
     "execution_count": 17,
     "metadata": {},
     "output_type": "execute_result"
    },
    {
     "data": {
      "image/png": "[encoded data removed]",
      "text/plain": [
       "<Figure size 432x288 with 1 Axes>"
      ]
     },
     "metadata": {
      "needs_background": "light"
     },
     "output_type": "display_data"
    }
   ],
   "source": [
    "# TODO: replace the content of this cell with your Python solution\n",
    "occupation_freq = df[OCCUPATION].value_counts()\n",
    "ax = occupation_freq.plot.barh(title='Which of the following best describes your current occupation?')\n",
    "ax.set_xlabel('Frequency')\n",
    "ax.set_ylabel('Occupation')"
   ]
  },
  {
   "cell_type": "markdown",
   "metadata": {},
   "source": [
    "### Making a scatterplot\n",
    "\n",
    "Finally, let's make a scatterplot to compare the year born with the percentage of time WFH.\n",
    "\n",
    "\n",
    "df[[YEAR_BORN, PERCENTAGE_WFH_LAST_YEAR]]: Selects the YEAR_BORN and PERCENTAGE_WFH_LAST_YEAR columns from the DataFrame df and creates a new DataFrame data with these columns.\n",
    "\n",
    ".str.rstrip('%'): Removes the percentage sign (%) from the PERCENTAGE_WFH_LAST_YEAR values, which are initially stored as strings.\n",
    ".astype('float'): Converts the cleaned string values to floating-point numbers, allowing for numerical operations and plotting.\n",
    "\n",
    ".sort_values(by=YEAR_BORN): Sorts the data DataFrame by the YEAR_BORN column in ascending order.\n",
    "Sorting helps to ensure that the data is organized chronologically by year, which is useful for visualizing trends.\n",
    "\n",
    "plt.scatter(data_sorted[YEAR_BORN], data_sorted[PERCENTAGE_WFH_LAST_YEAR], s=5): Creates a scatterplot where:\n",
    "data_sorted[YEAR_BORN] is plotted on the x-axis (year born).\n",
    "data_sorted[PERCENTAGE_WFH_LAST_YEAR] is plotted on the y-axis (percentage of time worked from home).\n",
    "s=5: Sets the size of the scatterplot markers to 5.\n",
    "plt.title('Year born vs Percentage WFH'): Adds a title to the scatterplot to describe the comparison being shown.\n",
    "plt.xlabel('Year born'): Labels the x-axis as \"Year born.\"\n",
    "plt.ylabel('Percentage'): Labels the y-axis as \"Percentage.\"\n",
    "plt.show(): Displays the scatterplot.\n",
    "\n",
    "\n",
    ": The code produces a scatterplot that visually represents the relationship between the year of birth and the percentage of time worked from home, allowing for the identification of any potential trends or patterns in the data."
   ]
  },
  {
   "cell_type": "code",
   "execution_count": 18,
   "metadata": {
    "scrolled": true
   },
   "outputs": [
    {
     "data": {
      "image/png": "[encoded data removed]",
      "text/plain": [
       "<Figure size 432x288 with 1 Axes>"
      ]
     },
     "metadata": {
      "needs_background": "light"
     },
     "output_type": "display_data"
    }
   ],
   "source": [
    "data = df[[YEAR_BORN,PERCENTAGE_WFH_LAST_YEAR]]\n",
    "data[PERCENTAGE_WFH_LAST_YEAR] = data[PERCENTAGE_WFH_LAST_YEAR].str.rstrip('%').astype('float')\n",
    "data_sorted = data.sort_values(by=YEAR_BORN)\n",
    "\n",
    "plt.scatter( data_sorted[YEAR_BORN], data_sorted[PERCENTAGE_WFH_LAST_YEAR], s=5)\n",
    "plt.title('Year born vs Percentage WFH')\n",
    "plt.xlabel('Year born')\n",
    "plt.ylabel('Percentage')\n",
    "plt.show()"
   ]
  },
  {
   "cell_type": "markdown",
   "metadata": {},
   "source": [
    "## Extra: Exploring other plotting options and customisation\n",
    "\n",
    "If you would like to explore more plotting options, we recommend you visit the `seaborn` tutorial here https://seaborn.pydata.org/tutorial.html\n",
    "\n",
    "You will find multiple plotting options and will learn how to edit your plot to your liking. Here, we show you some examples of what you can achieve by using the `seaborn` library."
   ]
  },
  {
   "cell_type": "code",
   "execution_count": 19,
   "metadata": {},
   "outputs": [
    {
     "data": {
      "image/png": "[encoded data removed]",
      "text/plain": [
       "<Figure size 417.475x360 with 1 Axes>"
      ]
     },
     "metadata": {},
     "output_type": "display_data"
    }
   ],
   "source": [
    "import numpy as np\n",
    "import seaborn as sns\n",
    "import matplotlib.pyplot as plt\n",
    "\n",
    "sns.set_theme(color_codes=True)\n",
    "tips = sns.load_dataset(\"tips\")\n",
    "sns.lmplot(x=\"total_bill\", y=\"tip\", hue=\"smoker\", data=tips, markers=[\"o\", \"x\"], palette=\"Set1\");"
   ]
  },
  {
   "cell_type": "markdown",
   "metadata": {},
   "source": [
    " ## EXERCISE 5: Boxplot and Correlation\n",
    "\n",
    "### Draw a boxplot for year born\n",
    "\n",
    "Mean and standard deviation are not informative for skewed data. `boxplot` is a good visualisation for viewing and comparing distributions. It also shows outliers, e.g., values greater than `Q3+1.5*IQR` or less than `Q1-1.5*IQR`."
   ]
  },
  {
   "cell_type": "markdown",
   "metadata": {},
   "source": [
    "Function Definition: birthdate_to_age(born) takes a born argument, which is expected to be a datetime.date object representing a person's birthdate.\n",
    "Get Today's Date: today = date.today() retrieves the current date.\n",
    "Calculate Age:\n",
    "today.year - born.year: Calculates the preliminary age by subtracting the birth year from the current year.\n",
    "((today.month, today.day) < (born.month, born.day)): Adjusts the age if the current date is before the person's birthday in the current year (i.e., if the birthday has not yet occurred this year).\n",
    "The adjustment is done by subtracting 1 if the current date is before the birthday.\n",
    "\n",
    "df[YEAR_BORN].dropna().to_list():\n",
    "df[YEAR_BORN]: Selects the YEAR_BORN column from the DataFrame.\n",
    ".dropna(): Removes any missing values (NaNs) from the column.\n",
    ".to_list(): Converts the cleaned column to a list of datetime.date objects.\n",
    "age_list = [birthdate_to_age(b) for b in data]:\n",
    "Uses a list comprehension to apply the birthdate_to_age function to each birthdate in data, creating a list of ages.\n",
    "\n",
    "\n",
    "fig = plt.figure(figsize=(10, 7)): Creates a new figure with a specified size of 10x7 inches.\n",
    "plt.boxplot(age_list): Creates a boxplot of the ages in age_list. A boxplot visualizes the distribution of numerical data, showing the median, quartiles, and potential outliers.\n",
    "plt.title('Distribution of Age'): Sets the title of the boxplot to \"Distribution of Age.\"\n",
    "plt.show(): Displays the boxplot."
   ]
  },
  {
   "cell_type": "code",
   "execution_count": 20,
   "metadata": {
    "scrolled": false
   },
   "outputs": [
    {
     "data": {
      "image/png": "[encoded data removed]",
      "text/plain": [
       "<Figure size 720x504 with 1 Axes>"
      ]
     },
     "metadata": {},
     "output_type": "display_data"
    }
   ],
   "source": [
    "from datetime import datetime, date\n",
    "\n",
    "def birthdate_to_age(born):\n",
    "    #get today's date\n",
    "    today = date.today()\n",
    "    return int(today.year - born.year - ((today.month, today.day) < (born.month, born.day)))\n",
    "\n",
    "data = df[YEAR_BORN].dropna().to_list()\n",
    "age_list = [birthdate_to_age(b) for b in data]\n",
    "\n",
    "fig = plt.figure(figsize =(10, 7))\n",
    "plt.boxplot(age_list)\n",
    "plt.title('Distribution of Age')\n",
    "plt.show()"
   ]
  },
  {
   "cell_type": "markdown",
   "metadata": {},
   "source": [
    "### Calculate correlation between two variables\n",
    "\n",
    "Scipy includes various correlation statistics​\n",
    "\n",
    "- Pearson’s r for two normally distributed variables​: stats.pearsonr()\n",
    "\n",
    "Use Case: Pearson’s r is appropriate when you want to measure the strength and direction of a linear relationship between two normally distributed variables. eg Measuring the relationship between height and weight in a sample of adults where both variables are approximately normally distributed.\n",
    "\n",
    "- Spearman’s rho for ratio data, ordinal data, etc (rank-order correlation): stats.spearmanr()\n",
    "\n",
    "appropriate when dealing with ordinal data or when you suspect a  monotonic (i.e., consistently increasing or decreasing)  relationship but do not require linearity. It is robust to outliers and skewed distributions. EG Ranking students based on their performance in different subjects and examining the correlation between the ranks of students in these subjects. Even if the scores are not normally distributed, Spearman's ρ can be used to assess the correlation."
   ]
  },
  {
   "cell_type": "code",
   "execution_count": 21,
   "metadata": {},
   "outputs": [
    {
     "name": "stdout",
     "output_type": "stream",
     "text": [
      "SpearmanrResult(correlation=0.03514984077998032, pvalue=0.17291319443568165)\n"
     ]
    }
   ],
   "source": [
    "from scipy import stats\n",
    "\n",
    "# only keep rows where both year born and percentage wfh last year are defined\n",
    "data = df[[YEAR_BORN,PERCENTAGE_WFH_LAST_YEAR]].dropna()\n",
    "\n",
    "year_born = data[YEAR_BORN]\n",
    "precent_wfh = data[PERCENTAGE_WFH_LAST_YEAR]\n",
    "\n",
    "print(stats.spearmanr(year_born, precent_wfh)) "
   ]
  },
  {
   "cell_type": "markdown",
   "metadata": {},
   "source": [
    " ## EXERCISE 6: Text data\n",
    "\n",
    "### Simple tokenisation and word counts\n",
    "\n",
    "Tokenisation is the process of breaking text into it's component parts, e.g., sentences, words. Below is a simple whitespace tokeniser that also removes some leading/trailing punctuation. We can use this to count the frequency of terms across our data analytics definitions. "
   ]
  },
  {
   "cell_type": "markdown",
   "metadata": {},
   "source": [
    "This code is useful for preprocessing textual data, especially when preparing it for further analysis, such as word frequency analysis or text mining. It cleans and extracts individual words from a larger body of text while filtering out empty or invalid words.\n",
    "\n",
    "Function Definition: tokenise(text) is a generator function that processes a text input to yield individual words.\n",
    "text.lower(): Converts the entire input text to lowercase to ensure case-insensitivity in tokenisation.\n",
    "text.split(): Splits the text into words based on whitespace. This will create a list of words from the text.\n",
    "word.strip('.,'): Removes any leading or trailing periods (.) or commas (,) from each word. This helps in cleaning up punctuation marks that might be attached to words.\n",
    "yield word: Yields each cleaned word one by one. Using yield makes tokenise a generator, which is memory efficient for processing large texts.\n",
    "\n",
    "Function Definition: is_valid_word(w) checks if a given word is valid.\n",
    "if w == '': Checks if the word is an empty string.\n",
    "return False: Returns False if the word is empty, indicating that it's not a valid word.\n",
    "return True: Returns True for non-empty strings, considering them valid words.\n",
    "\n",
    "Function Definition: get_words(d) extracts valid words from a given text.\n",
    "words = []: Initializes an empty list to store the valid words.\n",
    "for word in tokenise(d): Iterates over each word generated by the tokenise function.\n",
    "if is_valid_word(word): Checks if the word is valid using the is_valid_word function.\n",
    "words.append(word): Adds the valid word to the words list.\n",
    "return words: Returns the list of valid words after processing the entire text.\n",
    "\n",
    "df[OCCUPATION_DETAILED].to_string(): Converts the OCCUPATION_DETAILED column of the DataFrame df to a string. This likely combines all the entries in that column into a single string of text.\n",
    "get_words(text): Processes the combined text to extract a list of valid words using the get_words function."
   ]
  },
  {
   "cell_type": "code",
   "execution_count": 5,
   "metadata": {},
   "outputs": [
    {
     "ename": "NameError",
     "evalue": "name 'OCCUPATION_DETAILED' is not defined",
     "output_type": "error",
     "traceback": [
      "\u001b[1;31m---------------------------------------------------------------------------\u001b[0m",
      "\u001b[1;31mNameError\u001b[0m                                 Traceback (most recent call last)",
      "Cell \u001b[1;32mIn[5], line 18\u001b[0m\n\u001b[0;32m     15\u001b[0m             words\u001b[38;5;241m.\u001b[39mappend(word)\n\u001b[0;32m     16\u001b[0m     \u001b[38;5;28;01mreturn\u001b[39;00m words\n\u001b[1;32m---> 18\u001b[0m text \u001b[38;5;241m=\u001b[39m df[\u001b[43mOCCUPATION_DETAILED\u001b[49m]\u001b[38;5;241m.\u001b[39mto_string()\n\u001b[0;32m     19\u001b[0m data \u001b[38;5;241m=\u001b[39m get_words(text)\n",
      "\u001b[1;31mNameError\u001b[0m: name 'OCCUPATION_DETAILED' is not defined"
     ]
    }
   ],
   "source": [
    "def tokenise(text):\n",
    "    for word in text.lower().split():\n",
    "        yield word.strip('.,')\n",
    "\n",
    "def is_valid_word(w):\n",
    "    if w == '':\n",
    "        return False\n",
    "    else:\n",
    "        return True\n",
    "\n",
    "def get_words(d):\n",
    "    words = []\n",
    "    for word in tokenise(d):\n",
    "        if is_valid_word(word):\n",
    "            words.append(word)\n",
    "    return words\n",
    "\n",
    "text = df[OCCUPATION_DETAILED].to_string()\n",
    "data = get_words(text)"
   ]
  },
  {
   "cell_type": "markdown",
   "metadata": {},
   "source": [
    "### Removing stop words\n",
    "\n",
    "Very common function words can be removed to focus our analysis on content words."
   ]
  },
  {
   "cell_type": "code",
   "execution_count": 23,
   "metadata": {},
   "outputs": [
    {
     "data": {
      "text/plain": [
       "['clerical',\n",
       " 'administrative',\n",
       " 'chief',\n",
       " 'executives',\n",
       " 'general',\n",
       " 'managers',\n",
       " 'legisla',\n",
       " 'chief',\n",
       " 'executives',\n",
       " 'general']"
      ]
     },
     "execution_count": 23,
     "metadata": {},
     "output_type": "execute_result"
    }
   ],
   "source": [
    "STOP_WORDS = frozenset([ # http://www.nltk.org/book/ch02.html#stopwords_index_term\n",
    "    'i', 'me', 'my', 'myself', 'we', 'our', 'ours', 'ourselves', 'you', 'your', 'yours',\n",
    "    'yourself', 'yourselves', 'he', 'him', 'his', 'himself', 'she', 'her', 'hers',\n",
    "    'herself', 'it', 'its', 'itself', 'they', 'them', 'their', 'theirs', 'themselves',\n",
    "    'what', 'which', 'who', 'whom', 'this', 'that', 'these', 'those', 'am', 'is', 'are',\n",
    "    'was', 'were', 'be', 'been', 'being', 'have', 'has', 'had', 'having', 'do', 'does',\n",
    "    'did', 'doing', 'a', 'an', 'the', 'and', 'but', 'if', 'or', 'because', 'as', 'until',\n",
    "    'while', 'of', 'at', 'by', 'for', 'with', 'about', 'against', 'between', 'into',\n",
    "    'through', 'during', 'before', 'after', 'above', 'below', 'to', 'from', 'up', 'down',\n",
    "    'in', 'out', 'on', 'off', 'over', 'under', 'again', 'further', 'then', 'once', 'here',\n",
    "    'there', 'when', 'where', 'why', 'how', 'all', 'any', 'both', 'each', 'few', 'more',\n",
    "    'most', 'other', 'some', 'such', 'no', 'nor', 'not', 'only', 'own', 'same', 'so',\n",
    "    'than', 'too', 'very', 's', 't', 'can', 'will', 'just', 'don', 'should', 'now'\n",
    "    ])\n",
    "\n",
    "def is_valid(w):\n",
    "    if w.lower() in STOP_WORDS: \n",
    "        return False\n",
    "    elif w.isdigit(): # if all characters in the string are digits\n",
    "        return False\n",
    "    \n",
    "    return True\n",
    "\n",
    "data = [w for w in data if is_valid(w)]\n",
    "data[:10]"
   ]
  },
  {
   "cell_type": "markdown",
   "metadata": {},
   "source": [
    "### Plotting term frequency\n",
    "\n",
    "Now we can build a simple horizontal bar chart that displays the most common terms across data analytics definitions."
   ]
  },
  {
   "cell_type": "code",
   "execution_count": 24,
   "metadata": {},
   "outputs": [
    {
     "data": {
      "image/png": "[encoded data removed]",
      "text/plain": [
       "<Figure size 432x288 with 1 Axes>"
      ]
     },
     "metadata": {},
     "output_type": "display_data"
    }
   ],
   "source": [
    "import matplotlib.pyplot as plt\n",
    "from collections import Counter\n",
    "\n",
    "def iter_word_freq(data, min_freq = 50):\n",
    "    c = Counter(data)\n",
    "    for term, freq in c.items():\n",
    "        if freq >= min_freq: \n",
    "            yield term, freq\n",
    "\n",
    "d = {k: v for k, v in sorted(iter_word_freq(data))}\n",
    "\n",
    "ys = [i+0.5 for i,_ in enumerate(d)]\n",
    "plt.barh(ys, d.values(), align='center')\n",
    "plt.yticks(ys, list(d.keys()))\n",
    "plt.axis([0,600,0-0.1,len(d)+0.1])\n",
    "plt.show()"
   ]
  },
  {
   "cell_type": "markdown",
   "metadata": {},
   "source": [
    "# End of Tutorial. Many Thanks."
   ]
  },
  {
   "cell_type": "markdown",
   "metadata": {},
   "source": []
  }
 ],
 "metadata": {
  "kernelspec": {
   "display_name": "Python 3 (ipykernel)",
   "language": "python",
   "name": "python3"
  },
  "language_info": {
   "codemirror_mode": {
    "name": "ipython",
    "version": 3
   },
   "file_extension": ".py",
   "mimetype": "text/x-python",
   "name": "python",
   "nbconvert_exporter": "python",
   "pygments_lexer": "ipython3",
   "version": "3.8.17"
  },
  "vscode": {
   "interpreter": {
    "hash": "4396f389b93e7269692bd3bea4c62813bbe379469bde939b058805f538feec11"
   }
  }
 },
 "nbformat": 4,
 "nbformat_minor": 1
}
