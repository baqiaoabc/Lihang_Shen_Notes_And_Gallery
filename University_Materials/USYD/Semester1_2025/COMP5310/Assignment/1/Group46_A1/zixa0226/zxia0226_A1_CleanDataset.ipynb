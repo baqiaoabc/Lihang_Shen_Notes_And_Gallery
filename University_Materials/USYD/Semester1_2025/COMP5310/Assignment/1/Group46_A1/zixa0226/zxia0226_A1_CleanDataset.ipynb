{
 "cells": [
  {
   "cell_type": "code",
   "execution_count": 1,
   "id": "52c57636-2feb-4049-86a0-32b31f6b5e6b",
   "metadata": {},
   "outputs": [
    {
     "data": {
      "text/html": [
       "<div>\n",
       "<style scoped>\n",
       "    .dataframe tbody tr th:only-of-type {\n",
       "        vertical-align: middle;\n",
       "    }\n",
       "\n",
       "    .dataframe tbody tr th {\n",
       "        vertical-align: top;\n",
       "    }\n",
       "\n",
       "    .dataframe thead th {\n",
       "        text-align: right;\n",
       "    }\n",
       "</style>\n",
       "<table border=\"1\" class=\"dataframe\">\n",
       "  <thead>\n",
       "    <tr style=\"text-align: right;\">\n",
       "      <th></th>\n",
       "      <th>CholCheck</th>\n",
       "      <th>BMI</th>\n",
       "      <th>Smoker</th>\n",
       "      <th>Stroke</th>\n",
       "      <th>HeartDiseaseorAttack</th>\n",
       "      <th>PhysActivity</th>\n",
       "      <th>Fruits</th>\n",
       "      <th>Veggies</th>\n",
       "      <th>AnyHealthcare</th>\n",
       "      <th>NoDocbcCost</th>\n",
       "      <th>...</th>\n",
       "      <th>Physical (days)</th>\n",
       "      <th>DiffWalk</th>\n",
       "      <th>Sex</th>\n",
       "      <th>Age</th>\n",
       "      <th>Education</th>\n",
       "      <th>Income</th>\n",
       "      <th>Diabetes</th>\n",
       "      <th>BloodPressure</th>\n",
       "      <th>Cholesterol</th>\n",
       "      <th>Alcoholic</th>\n",
       "    </tr>\n",
       "  </thead>\n",
       "  <tbody>\n",
       "    <tr>\n",
       "      <th>0</th>\n",
       "      <td>NaN</td>\n",
       "      <td>40.0</td>\n",
       "      <td>NaN</td>\n",
       "      <td>NaN</td>\n",
       "      <td>0.0</td>\n",
       "      <td>NaN</td>\n",
       "      <td>NaN</td>\n",
       "      <td>NaN</td>\n",
       "      <td>1.0</td>\n",
       "      <td>NaN</td>\n",
       "      <td>...</td>\n",
       "      <td>15.0</td>\n",
       "      <td>NaN</td>\n",
       "      <td>NaN</td>\n",
       "      <td>63.0</td>\n",
       "      <td>High school graduate</td>\n",
       "      <td>$73,106</td>\n",
       "      <td>No</td>\n",
       "      <td>Yes</td>\n",
       "      <td>Yes</td>\n",
       "      <td>No</td>\n",
       "    </tr>\n",
       "    <tr>\n",
       "      <th>1</th>\n",
       "      <td>NaN</td>\n",
       "      <td>25.0</td>\n",
       "      <td>NaN</td>\n",
       "      <td>0.0</td>\n",
       "      <td>0.0</td>\n",
       "      <td>NaN</td>\n",
       "      <td>0.0</td>\n",
       "      <td>NaN</td>\n",
       "      <td>0.0</td>\n",
       "      <td>NaN</td>\n",
       "      <td>...</td>\n",
       "      <td>NaN</td>\n",
       "      <td>NaN</td>\n",
       "      <td>Female</td>\n",
       "      <td>54.0</td>\n",
       "      <td>College graduate</td>\n",
       "      <td>$22,322</td>\n",
       "      <td>No</td>\n",
       "      <td>No</td>\n",
       "      <td>No</td>\n",
       "      <td>No</td>\n",
       "    </tr>\n",
       "    <tr>\n",
       "      <th>2</th>\n",
       "      <td>NaN</td>\n",
       "      <td>NaN</td>\n",
       "      <td>NaN</td>\n",
       "      <td>0.0</td>\n",
       "      <td>0.0</td>\n",
       "      <td>NaN</td>\n",
       "      <td>NaN</td>\n",
       "      <td>NaN</td>\n",
       "      <td>NaN</td>\n",
       "      <td>1.0</td>\n",
       "      <td>...</td>\n",
       "      <td>NaN</td>\n",
       "      <td>1.0</td>\n",
       "      <td>NaN</td>\n",
       "      <td>NaN</td>\n",
       "      <td>High school graduate</td>\n",
       "      <td>$29,097</td>\n",
       "      <td>No</td>\n",
       "      <td>Yes</td>\n",
       "      <td>Yes</td>\n",
       "      <td>NaN</td>\n",
       "    </tr>\n",
       "    <tr>\n",
       "      <th>3</th>\n",
       "      <td>1.0</td>\n",
       "      <td>27.0</td>\n",
       "      <td>NaN</td>\n",
       "      <td>0.0</td>\n",
       "      <td>NaN</td>\n",
       "      <td>NaN</td>\n",
       "      <td>NaN</td>\n",
       "      <td>NaN</td>\n",
       "      <td>NaN</td>\n",
       "      <td>NaN</td>\n",
       "      <td>...</td>\n",
       "      <td>NaN</td>\n",
       "      <td>0.0</td>\n",
       "      <td>NaN</td>\n",
       "      <td>74.0</td>\n",
       "      <td>Some high school</td>\n",
       "      <td>$55,498</td>\n",
       "      <td>No</td>\n",
       "      <td>Yes</td>\n",
       "      <td>No</td>\n",
       "      <td>No</td>\n",
       "    </tr>\n",
       "    <tr>\n",
       "      <th>4</th>\n",
       "      <td>NaN</td>\n",
       "      <td>24.0</td>\n",
       "      <td>NaN</td>\n",
       "      <td>NaN</td>\n",
       "      <td>0.0</td>\n",
       "      <td>NaN</td>\n",
       "      <td>NaN</td>\n",
       "      <td>NaN</td>\n",
       "      <td>NaN</td>\n",
       "      <td>NaN</td>\n",
       "      <td>...</td>\n",
       "      <td>0.0</td>\n",
       "      <td>0.0</td>\n",
       "      <td>Female</td>\n",
       "      <td>NaN</td>\n",
       "      <td>Some college</td>\n",
       "      <td>$15,629</td>\n",
       "      <td>No</td>\n",
       "      <td>Yes</td>\n",
       "      <td>NaN</td>\n",
       "      <td>No</td>\n",
       "    </tr>\n",
       "  </tbody>\n",
       "</table>\n",
       "<p>5 rows × 22 columns</p>\n",
       "</div>"
      ],
      "text/plain": [
       "   CholCheck   BMI  Smoker  Stroke  HeartDiseaseorAttack  PhysActivity  \\\n",
       "0        NaN  40.0     NaN     NaN                   0.0           NaN   \n",
       "1        NaN  25.0     NaN     0.0                   0.0           NaN   \n",
       "2        NaN   NaN     NaN     0.0                   0.0           NaN   \n",
       "3        1.0  27.0     NaN     0.0                   NaN           NaN   \n",
       "4        NaN  24.0     NaN     NaN                   0.0           NaN   \n",
       "\n",
       "   Fruits  Veggies  AnyHealthcare  NoDocbcCost  ... Physical (days)  DiffWalk  \\\n",
       "0     NaN      NaN            1.0          NaN  ...            15.0       NaN   \n",
       "1     0.0      NaN            0.0          NaN  ...             NaN       NaN   \n",
       "2     NaN      NaN            NaN          1.0  ...             NaN       1.0   \n",
       "3     NaN      NaN            NaN          NaN  ...             NaN       0.0   \n",
       "4     NaN      NaN            NaN          NaN  ...             0.0       0.0   \n",
       "\n",
       "      Sex   Age             Education   Income Diabetes BloodPressure  \\\n",
       "0     NaN  63.0  High school graduate  $73,106       No           Yes   \n",
       "1  Female  54.0      College graduate  $22,322       No            No   \n",
       "2     NaN   NaN  High school graduate  $29,097       No           Yes   \n",
       "3     NaN  74.0      Some high school  $55,498       No           Yes   \n",
       "4  Female   NaN          Some college  $15,629       No           Yes   \n",
       "\n",
       "  Cholesterol Alcoholic  \n",
       "0         Yes        No  \n",
       "1          No        No  \n",
       "2         Yes       NaN  \n",
       "3          No        No  \n",
       "4         NaN        No  \n",
       "\n",
       "[5 rows x 22 columns]"
      ]
     },
     "execution_count": 1,
     "metadata": {},
     "output_type": "execute_result"
    }
   ],
   "source": [
    "#drop the first column\n",
    "import pandas as pd \n",
    "import matplotlib.pyplot as plt\n",
    "df = pd.read_csv('diabetes_diagnosis.csv')\n",
    "df = df.iloc[:, 1:]\n",
    "df.to_csv(\"zxia0226_A1_CleanDataset.csv\", index=False)\n",
    "df.head()"
   ]
  },
  {
   "cell_type": "code",
   "execution_count": 2,
   "id": "c08a3a7e-fef4-43e4-8e3d-975da6f75fc8",
   "metadata": {},
   "outputs": [
    {
     "name": "stdout",
     "output_type": "stream",
     "text": [
      "                      Missing Values  Percentage\n",
      "CholCheck                     150937   56.999947\n",
      "BMI                            87384   32.999751\n",
      "Smoker                        119160   44.999660\n",
      "Stroke                        158881   59.999924\n",
      "HeartDiseaseorAttack           71496   26.999796\n",
      "PhysActivity                  188009   70.999841\n",
      "Fruits                        161529   60.999917\n",
      "Veggies                       169473   63.999894\n",
      "AnyHealthcare                 182713   68.999856\n",
      "NoDocbcCost                   198601   74.999811\n",
      "GeneralHealth                  68848   25.999804\n",
      "Mental (days)                 129752   48.999630\n",
      "Physical (days)               142993   53.999970\n",
      "DiffWalk                      142993   53.999970\n",
      "Sex                            68848   25.999804\n",
      "Age                            63552   23.999819\n",
      "Education                      76792   28.999781\n",
      "Income                         18536    6.999947\n",
      "Diabetes                       21184    7.999940\n",
      "BloodPressure                  45016   16.999872\n",
      "Cholesterol                    39720   14.999887\n",
      "Alcoholic                      55608   20.999841\n"
     ]
    }
   ],
   "source": [
    "df = pd.read_csv('zxia0226_A1_CleanDataset.csv')\n",
    "\n",
    "# Calculating Missing Values\n",
    "missing_values = df.isnull().sum()\n",
    "missing_percentage = (missing_values / len(df)) * 100\n",
    "\n",
    "# Display missing value statistics\n",
    "print(pd.DataFrame({'Missing Values': missing_values, 'Percentage': missing_percentage}))\n"
   ]
  },
  {
   "cell_type": "code",
   "execution_count": 3,
   "id": "2892e4a7-364f-4e07-9d85-f4ca3caba430",
   "metadata": {},
   "outputs": [
    {
     "data": {
      "text/html": [
       "<div>\n",
       "<style scoped>\n",
       "    .dataframe tbody tr th:only-of-type {\n",
       "        vertical-align: middle;\n",
       "    }\n",
       "\n",
       "    .dataframe tbody tr th {\n",
       "        vertical-align: top;\n",
       "    }\n",
       "\n",
       "    .dataframe thead th {\n",
       "        text-align: right;\n",
       "    }\n",
       "</style>\n",
       "<table border=\"1\" class=\"dataframe\">\n",
       "  <thead>\n",
       "    <tr style=\"text-align: right;\">\n",
       "      <th></th>\n",
       "      <th>CholCheck</th>\n",
       "      <th>BMI</th>\n",
       "      <th>Smoker</th>\n",
       "      <th>Stroke</th>\n",
       "      <th>HeartDiseaseorAttack</th>\n",
       "      <th>GeneralHealth</th>\n",
       "      <th>Mental (days)</th>\n",
       "      <th>Physical (days)</th>\n",
       "      <th>DiffWalk</th>\n",
       "      <th>Sex</th>\n",
       "      <th>Age</th>\n",
       "      <th>Education</th>\n",
       "      <th>Income</th>\n",
       "      <th>Diabetes</th>\n",
       "      <th>BloodPressure</th>\n",
       "      <th>Cholesterol</th>\n",
       "      <th>Alcoholic</th>\n",
       "    </tr>\n",
       "  </thead>\n",
       "  <tbody>\n",
       "    <tr>\n",
       "      <th>0</th>\n",
       "      <td>NaN</td>\n",
       "      <td>40.0</td>\n",
       "      <td>NaN</td>\n",
       "      <td>NaN</td>\n",
       "      <td>0.0</td>\n",
       "      <td>NaN</td>\n",
       "      <td>NaN</td>\n",
       "      <td>15.0</td>\n",
       "      <td>NaN</td>\n",
       "      <td>NaN</td>\n",
       "      <td>63.0</td>\n",
       "      <td>High school graduate</td>\n",
       "      <td>$73,106</td>\n",
       "      <td>No</td>\n",
       "      <td>Yes</td>\n",
       "      <td>Yes</td>\n",
       "      <td>No</td>\n",
       "    </tr>\n",
       "    <tr>\n",
       "      <th>1</th>\n",
       "      <td>NaN</td>\n",
       "      <td>25.0</td>\n",
       "      <td>NaN</td>\n",
       "      <td>0.0</td>\n",
       "      <td>0.0</td>\n",
       "      <td>Good</td>\n",
       "      <td>NaN</td>\n",
       "      <td>NaN</td>\n",
       "      <td>NaN</td>\n",
       "      <td>Female</td>\n",
       "      <td>54.0</td>\n",
       "      <td>College graduate</td>\n",
       "      <td>$22,322</td>\n",
       "      <td>No</td>\n",
       "      <td>No</td>\n",
       "      <td>No</td>\n",
       "      <td>No</td>\n",
       "    </tr>\n",
       "    <tr>\n",
       "      <th>2</th>\n",
       "      <td>NaN</td>\n",
       "      <td>NaN</td>\n",
       "      <td>NaN</td>\n",
       "      <td>0.0</td>\n",
       "      <td>0.0</td>\n",
       "      <td>Poor</td>\n",
       "      <td>30.0</td>\n",
       "      <td>NaN</td>\n",
       "      <td>1.0</td>\n",
       "      <td>NaN</td>\n",
       "      <td>NaN</td>\n",
       "      <td>High school graduate</td>\n",
       "      <td>$29,097</td>\n",
       "      <td>No</td>\n",
       "      <td>Yes</td>\n",
       "      <td>Yes</td>\n",
       "      <td>NaN</td>\n",
       "    </tr>\n",
       "    <tr>\n",
       "      <th>3</th>\n",
       "      <td>1.0</td>\n",
       "      <td>27.0</td>\n",
       "      <td>NaN</td>\n",
       "      <td>0.0</td>\n",
       "      <td>NaN</td>\n",
       "      <td>NaN</td>\n",
       "      <td>NaN</td>\n",
       "      <td>NaN</td>\n",
       "      <td>0.0</td>\n",
       "      <td>NaN</td>\n",
       "      <td>74.0</td>\n",
       "      <td>Some high school</td>\n",
       "      <td>$55,498</td>\n",
       "      <td>No</td>\n",
       "      <td>Yes</td>\n",
       "      <td>No</td>\n",
       "      <td>No</td>\n",
       "    </tr>\n",
       "    <tr>\n",
       "      <th>4</th>\n",
       "      <td>NaN</td>\n",
       "      <td>24.0</td>\n",
       "      <td>NaN</td>\n",
       "      <td>NaN</td>\n",
       "      <td>0.0</td>\n",
       "      <td>Very Good</td>\n",
       "      <td>NaN</td>\n",
       "      <td>0.0</td>\n",
       "      <td>0.0</td>\n",
       "      <td>Female</td>\n",
       "      <td>NaN</td>\n",
       "      <td>Some college</td>\n",
       "      <td>$15,629</td>\n",
       "      <td>No</td>\n",
       "      <td>Yes</td>\n",
       "      <td>NaN</td>\n",
       "      <td>No</td>\n",
       "    </tr>\n",
       "  </tbody>\n",
       "</table>\n",
       "</div>"
      ],
      "text/plain": [
       "   CholCheck   BMI  Smoker  Stroke  HeartDiseaseorAttack GeneralHealth  \\\n",
       "0        NaN  40.0     NaN     NaN                   0.0           NaN   \n",
       "1        NaN  25.0     NaN     0.0                   0.0          Good   \n",
       "2        NaN   NaN     NaN     0.0                   0.0          Poor   \n",
       "3        1.0  27.0     NaN     0.0                   NaN           NaN   \n",
       "4        NaN  24.0     NaN     NaN                   0.0     Very Good   \n",
       "\n",
       "   Mental (days)  Physical (days)  DiffWalk     Sex   Age  \\\n",
       "0            NaN             15.0       NaN     NaN  63.0   \n",
       "1            NaN              NaN       NaN  Female  54.0   \n",
       "2           30.0              NaN       1.0     NaN   NaN   \n",
       "3            NaN              NaN       0.0     NaN  74.0   \n",
       "4            NaN              0.0       0.0  Female   NaN   \n",
       "\n",
       "              Education   Income Diabetes BloodPressure Cholesterol Alcoholic  \n",
       "0  High school graduate  $73,106       No           Yes         Yes        No  \n",
       "1      College graduate  $22,322       No            No          No        No  \n",
       "2  High school graduate  $29,097       No           Yes         Yes       NaN  \n",
       "3      Some high school  $55,498       No           Yes          No        No  \n",
       "4          Some college  $15,629       No           Yes         NaN        No  "
      ]
     },
     "execution_count": 3,
     "metadata": {},
     "output_type": "execute_result"
    }
   ],
   "source": [
    "import pandas as pd\n",
    "from sklearn.impute import KNNImputer\n",
    "\n",
    "# Reading CSV files\n",
    "file_path = \"zxia0226_A1_CleanDataset.csv\"\n",
    "df = pd.read_csv(file_path)\n",
    "\n",
    "# Remove columns with more than 70% missing values\n",
    "cols_to_drop = ['PhysActivity', 'Fruits', 'Veggies', 'AnyHealthcare', 'NoDocbcCost']\n",
    "df.drop(columns=cols_to_drop, inplace=True)\n",
    "df.to_csv(\"zxia0226_A1_CleanDataset.csv\", index=False)\n",
    "df.head(5)"
   ]
  },
  {
   "cell_type": "code",
   "execution_count": 4,
   "id": "88fff324-de0b-43ef-bc21-a910ea804adb",
   "metadata": {},
   "outputs": [],
   "source": [
    "df['BMI'] = df['BMI'].fillna(df['BMI'].median())  # Fill in the median\n",
    "df['Age'] = df['Age'].fillna(df['Age'].mean())  # Fill with averages\n",
    "df.to_csv(\"zxia0226_A1_CleanDataset.csv\", index=False)"
   ]
  },
  {
   "cell_type": "code",
   "execution_count": 5,
   "id": "863b26a0-56ce-4c69-8a6e-b9d3b6f81100",
   "metadata": {},
   "outputs": [
    {
     "name": "stderr",
     "output_type": "stream",
     "text": [
      "D:\\Temp\\ipykernel_213972\\3944916314.py:1: FutureWarning: Downcasting behavior in `replace` is deprecated and will be removed in a future version. To retain the old behavior, explicitly call `result.infer_objects(copy=False)`. To opt-in to the future behavior, set `pd.set_option('future.no_silent_downcasting', True)`\n",
      "  df['BloodPressure'] = df['BloodPressure'].replace({'Yes': 1, 'No': 0}).astype(float)\n"
     ]
    }
   ],
   "source": [
    "df['BloodPressure'] = df['BloodPressure'].replace({'Yes': 1, 'No': 0}).astype(float)\n",
    "\n",
    "# Calculate mode(), or 0 if empty\n",
    "mode_value = df['BloodPressure'].mode()\n",
    "fill_value = mode_value[0] if not mode_value.empty else 0\n",
    "\n",
    "df['BloodPressure'] = df['BloodPressure'].fillna(fill_value).astype(int)\n",
    "\n",
    "df.to_csv(\"zxia0226_A1_CleanDataset.csv\", index=False)"
   ]
  },
  {
   "cell_type": "code",
   "execution_count": 6,
   "id": "affa6943-c48a-432d-8c6d-1c858417eaf7",
   "metadata": {},
   "outputs": [],
   "source": [
    "# Filling missing categorical data\n",
    "df['Sex'] = df['Sex'].fillna(df['Sex'].mode()[0])  # Filling of the plural\n",
    "df['GeneralHealth'] = df['GeneralHealth'].fillna(df['GeneralHealth'].mode()[0])\n",
    "# Filling missing categorical data\n",
    "df['Sex'] = df['Sex'].fillna(df['Sex'].mode()[0])\n",
    "df['GeneralHealth'] = df['GeneralHealth'].fillna(df['GeneralHealth'].mode()[0])\n",
    "\n",
    "df[\"Diabetes\"] = df[\"Diabetes\"].fillna(0)\n",
    "df[\"Cholesterol\"] = df[\"Cholesterol\"].fillna(0)\n",
    "df[\"Alcoholic\"] = df[\"Alcoholic\"].fillna(0)\n",
    "\n",
    "\n",
    "# Populate Education by Age Group\n",
    "df['Education'] = df.groupby('Age')['Education'].transform(lambda x: x.fillna(x.mode()[0] if not x.mode().empty else None))\n",
    "# Remaining missing values are filled in with global plurals\n",
    "df['Education'] = df['Education'].fillna(df['Education'].mode()[0])\n",
    "df['Income'] = df['Income'].fillna('Unknown')\n",
    "df.to_csv(\"zxia0226_A1_CleanDataset.csv\", index=False)"
   ]
  },
  {
   "cell_type": "code",
   "execution_count": 7,
   "id": "9bd3c362-9e43-414a-873a-5b243edfcdbd",
   "metadata": {},
   "outputs": [],
   "source": [
    "from sklearn.impute import SimpleImputer\n",
    "import numpy as np\n",
    "\n",
    "num_cols = ['Mental (days)', 'Physical (days)']\n",
    "imputer = SimpleImputer(strategy='median')\n",
    "df[num_cols] = imputer.fit_transform(df[num_cols])\n",
    "\n",
    "for col in num_cols:\n",
    "    df[col] = df.groupby('Age')[col].transform(\n",
    "        lambda x: x.fillna(x.median() if not x.isna().all() else df[col].median())\n",
    "    )\n"
   ]
  },
  {
   "cell_type": "code",
   "execution_count": 8,
   "id": "accd983c",
   "metadata": {},
   "outputs": [
    {
     "name": "stdout",
     "output_type": "stream",
     "text": [
      "CholCheck\n",
      "1.0    109758\n",
      "0.0      4107\n",
      "Name: count, dtype: int64\n"
     ]
    }
   ],
   "source": [
    "df['CholCheck'] = df['CholCheck'].replace({'Yes': 1, 'No': 0})\n",
    "print(df['CholCheck'].value_counts())\n"
   ]
  },
  {
   "cell_type": "code",
   "execution_count": 9,
   "id": "66ebfdd4",
   "metadata": {},
   "outputs": [
    {
     "name": "stdout",
     "output_type": "stream",
     "text": [
      "global plurality: 1.0\n"
     ]
    }
   ],
   "source": [
    "global_mode = df['CholCheck'].mode()[0]\n",
    "print(f\"global plurality: {global_mode}\")\n"
   ]
  },
  {
   "cell_type": "code",
   "execution_count": 10,
   "id": "19acd64a",
   "metadata": {},
   "outputs": [
    {
     "name": "stdout",
     "output_type": "stream",
     "text": [
      "Number of CholCheck missing values: 0\n"
     ]
    }
   ],
   "source": [
    "df['CholCheck'] = df.groupby(['GeneralHealth', 'Age'])['CholCheck'].transform(\n",
    "    lambda x: x.fillna(x.mode()[0] if not x.mode().empty else global_mode)\n",
    ")\n",
    "print(f\"Number of CholCheck missing values: {df['CholCheck'].isna().sum()}\")\n"
   ]
  },
  {
   "cell_type": "code",
   "execution_count": 11,
   "id": "a7e1bd95",
   "metadata": {},
   "outputs": [
    {
     "name": "stdout",
     "output_type": "stream",
     "text": [
      "count    264802.000000\n",
      "mean          0.984490\n",
      "std           0.123569\n",
      "min           0.000000\n",
      "25%           1.000000\n",
      "50%           1.000000\n",
      "75%           1.000000\n",
      "max           1.000000\n",
      "Name: CholCheck, dtype: float64\n"
     ]
    }
   ],
   "source": [
    "df['CholCheck'] = df['CholCheck'].fillna(global_mode).astype(int)\n",
    "print(df['CholCheck'].describe())\n"
   ]
  },
  {
   "cell_type": "code",
   "execution_count": 12,
   "id": "5cab28aa",
   "metadata": {},
   "outputs": [
    {
     "name": "stdout",
     "output_type": "stream",
     "text": [
      "Smoker\n",
      " 0.0     77321\n",
      " 1.0     61021\n",
      " 11.0     3678\n",
      "-10.0     3622\n",
      "Name: count, dtype: int64\n"
     ]
    }
   ],
   "source": [
    "df['Smoker'] = df['Smoker'].replace({'Yes': 1, 'No': 0})\n",
    "print(df['Smoker'].value_counts())\n"
   ]
  },
  {
   "cell_type": "code",
   "execution_count": 13,
   "id": "f4665eb4",
   "metadata": {},
   "outputs": [
    {
     "name": "stdout",
     "output_type": "stream",
     "text": [
      "Number of Smoker missing values: 0\n"
     ]
    }
   ],
   "source": [
    "df['Smoker'] = df.groupby('Age')['Smoker'].transform(\n",
    "    lambda x: x.fillna(x.mode()[0] if not x.mode().empty else df['Smoker'].mode()[0])\n",
    ")\n",
    "print(f\"Number of Smoker missing values: {df['Smoker'].isna().sum()}\")\n"
   ]
  },
  {
   "cell_type": "code",
   "execution_count": 14,
   "id": "09419b3e",
   "metadata": {},
   "outputs": [
    {
     "name": "stdout",
     "output_type": "stream",
     "text": [
      "count    264802.000000\n",
      "mean          0.333842\n",
      "std           1.804123\n",
      "min         -10.000000\n",
      "25%           0.000000\n",
      "50%           0.000000\n",
      "75%           1.000000\n",
      "max          11.000000\n",
      "Name: Smoker, dtype: float64\n"
     ]
    }
   ],
   "source": [
    "df['Smoker'] = df['Smoker'].fillna(df['Smoker'].mode()[0]).astype(int)\n",
    "print(df['Smoker'].describe())\n"
   ]
  },
  {
   "cell_type": "code",
   "execution_count": 15,
   "id": "5336da5f",
   "metadata": {},
   "outputs": [
    {
     "name": "stdout",
     "output_type": "stream",
     "text": [
      "Stroke\n",
      "0.0    101836\n",
      "1.0      4085\n",
      "Name: count, dtype: int64\n"
     ]
    }
   ],
   "source": [
    "df['Stroke'] = df['Stroke'].replace({'Yes': 1, 'No': 0})\n",
    "print(df['Stroke'].value_counts())\n"
   ]
  },
  {
   "cell_type": "code",
   "execution_count": 16,
   "id": "baab5cc4",
   "metadata": {},
   "outputs": [
    {
     "name": "stdout",
     "output_type": "stream",
     "text": [
      "Number of Stroke missing values: 71496\n"
     ]
    }
   ],
   "source": [
    "df['Stroke'] = df.groupby('HeartDiseaseorAttack')['Stroke'].transform(\n",
    "    lambda x: x.fillna(x.mode()[0] if not x.mode().empty else df['Stroke'].mode()[0])\n",
    ")\n",
    "print(f\"Number of Stroke missing values: {df['Stroke'].isna().sum()}\")\n"
   ]
  },
  {
   "cell_type": "code",
   "execution_count": 17,
   "id": "e2104916",
   "metadata": {},
   "outputs": [
    {
     "name": "stdout",
     "output_type": "stream",
     "text": [
      "count    264802.000000\n",
      "mean          0.011261\n",
      "std           0.105520\n",
      "min           0.000000\n",
      "25%           0.000000\n",
      "50%           0.000000\n",
      "75%           0.000000\n",
      "max           1.000000\n",
      "Name: Stroke, dtype: float64\n"
     ]
    }
   ],
   "source": [
    "df['Stroke'] = df['Stroke'].fillna(df['Stroke'].mode()[0]).astype(int)\n",
    "print(df['Stroke'].describe())\n"
   ]
  },
  {
   "cell_type": "code",
   "execution_count": 18,
   "id": "8af8efa6",
   "metadata": {},
   "outputs": [
    {
     "name": "stdout",
     "output_type": "stream",
     "text": [
      "DiffWalk\n",
      "0.0    102235\n",
      "1.0     19574\n",
      "Name: count, dtype: int64\n"
     ]
    }
   ],
   "source": [
    "df['DiffWalk'] = df['DiffWalk'].replace({'Yes': 1, 'No': 0})\n",
    "print(df['DiffWalk'].value_counts())\n"
   ]
  },
  {
   "cell_type": "code",
   "execution_count": 19,
   "id": "d9f351b6",
   "metadata": {},
   "outputs": [
    {
     "name": "stdout",
     "output_type": "stream",
     "text": [
      "Number of Diffwalk missing values: 0\n"
     ]
    }
   ],
   "source": [
    "df['DiffWalk'] = df.groupby('Age')['DiffWalk'].transform(\n",
    "    lambda x: x.fillna(x.mode()[0] if not x.mode().empty else df['DiffWalk'].mode()[0])\n",
    ")\n",
    "print(f\"Number of Diffwalk missing values: {df['DiffWalk'].isna().sum()}\")\n"
   ]
  },
  {
   "cell_type": "code",
   "execution_count": 20,
   "id": "a98d0f5c",
   "metadata": {},
   "outputs": [
    {
     "name": "stdout",
     "output_type": "stream",
     "text": [
      "count    264802.000000\n",
      "mean          0.073919\n",
      "std           0.261640\n",
      "min           0.000000\n",
      "25%           0.000000\n",
      "50%           0.000000\n",
      "75%           0.000000\n",
      "max           1.000000\n",
      "Name: DiffWalk, dtype: float64\n"
     ]
    }
   ],
   "source": [
    "df['DiffWalk'] = df['DiffWalk'].fillna(df['DiffWalk'].mode()[0]).astype(int)\n",
    "print(df['DiffWalk'].describe())\n"
   ]
  },
  {
   "cell_type": "code",
   "execution_count": 21,
   "id": "f4a3d15e",
   "metadata": {},
   "outputs": [
    {
     "name": "stdout",
     "output_type": "stream",
     "text": [
      "HeartDiseaseorAttack columns populated\n"
     ]
    }
   ],
   "source": [
    "if df['HeartDiseaseorAttack'].isna().any():\n",
    "    df['HeartDiseaseorAttack'] = df['HeartDiseaseorAttack'].fillna(0).astype(int)\n",
    "    print(\"HeartDiseaseorAttack columns populated\")\n"
   ]
  },
  {
   "cell_type": "code",
   "execution_count": 22,
   "id": "0797a21e",
   "metadata": {},
   "outputs": [
    {
     "name": "stdout",
     "output_type": "stream",
     "text": [
      "Fixed 8865 BMI outliers.\n"
     ]
    }
   ],
   "source": [
    "bmi_outliers_count = len(df[(df['BMI'] < 10) | (df['BMI'] > 100)])\n",
    "df.loc[(df['BMI'] < 10) | (df['BMI'] > 100), 'BMI'] = df['BMI'].median()\n",
    "print(f\"Fixed {bmi_outliers_count} BMI outliers.\")\n"
   ]
  },
  {
   "cell_type": "code",
   "execution_count": 23,
   "id": "d43ad079",
   "metadata": {},
   "outputs": [
    {
     "name": "stdout",
     "output_type": "stream",
     "text": [
      "Fixed 3678 Smoker outliers\n"
     ]
    }
   ],
   "source": [
    "smoker_fixed = len(df[df['Smoker'] > 1])\n",
    "df['Smoker'] = df['Smoker'].apply(lambda x: 1 if x >= 1 else 0)\n",
    "print(f\"Fixed {smoker_fixed} Smoker outliers\")\n"
   ]
  },
  {
   "cell_type": "code",
   "execution_count": 24,
   "id": "8be1c34d",
   "metadata": {},
   "outputs": [
    {
     "name": "stdout",
     "output_type": "stream",
     "text": [
      "fixed 10085 Age outliers\n"
     ]
    }
   ],
   "source": [
    "age_outliers_count = len(df[(df['Age'] < 0) | (df['Age'] > 120)])\n",
    "df.loc[(df['Age'] < 0) | (df['Age'] > 120), 'Age'] = df['Age'].median()\n",
    "print(f\"fixed {age_outliers_count} Age outliers\")\n"
   ]
  },
  {
   "cell_type": "code",
   "execution_count": 25,
   "id": "a235c1c8",
   "metadata": {},
   "outputs": [
    {
     "name": "stdout",
     "output_type": "stream",
     "text": [
      "fixed 3372 Mental (days) outliers and 6184 Physical (days) outliers\n"
     ]
    }
   ],
   "source": [
    "mental_days_clipped = len(df[(df['Mental (days)'] < 0) | (df['Mental (days)'] > 30)])\n",
    "physical_days_clipped = len(df[(df['Physical (days)'] < 0) | (df['Physical (days)'] > 30)])\n",
    "df['Mental (days)'] = df['Mental (days)'].clip(lower=0, upper=30)\n",
    "df['Physical (days)'] = df['Physical (days)'].clip(lower=0, upper=30)\n",
    "print(f\"fixed {mental_days_clipped} Mental (days) outliers and {physical_days_clipped} Physical (days) outliers\")\n"
   ]
  },
  {
   "cell_type": "code",
   "execution_count": 26,
   "id": "8a0ec7a6",
   "metadata": {},
   "outputs": [
    {
     "name": "stdout",
     "output_type": "stream",
     "text": [
      "   Diabetes  Cholesterol  Alcoholic  Sex\n",
      "0         0          1.0        0.0    0\n",
      "1         0          0.0        0.0    0\n",
      "2         0          1.0        NaN    0\n",
      "3         0          0.0        0.0    0\n",
      "4         0          NaN        0.0    0\n"
     ]
    },
    {
     "name": "stderr",
     "output_type": "stream",
     "text": [
      "D:\\Temp\\ipykernel_213972\\3736886648.py:2: FutureWarning: Downcasting behavior in `replace` is deprecated and will be removed in a future version. To retain the old behavior, explicitly call `result.infer_objects(copy=False)`. To opt-in to the future behavior, set `pd.set_option('future.no_silent_downcasting', True)`\n",
      "  df['Diabetes'] = df['Diabetes'].replace({'No': 0, 'Yes': 1, 'Diabetes': 1, 'Prediabetes': 1})\n"
     ]
    }
   ],
   "source": [
    "binary_map = {'No': 0, 'Yes': 1}\n",
    "df['Diabetes'] = df['Diabetes'].replace({'No': 0, 'Yes': 1, 'Diabetes': 1, 'Prediabetes': 1})\n",
    "df['Cholesterol'] = df['Cholesterol'].map(binary_map)\n",
    "df['Alcoholic'] = df['Alcoholic'].map(binary_map)\n",
    "df['Sex'] = df['Sex'].map({'Female': 0, 'Male': 1})\n",
    "\n",
    "print(df[['Diabetes', 'Cholesterol', 'Alcoholic', 'Sex']].head())\n"
   ]
  },
  {
   "cell_type": "code",
   "execution_count": 27,
   "id": "1724bd2c",
   "metadata": {},
   "outputs": [
    {
     "name": "stdout",
     "output_type": "stream",
     "text": [
      "Age                int32\n",
      "Mental (days)      int32\n",
      "Physical (days)    int32\n",
      "dtype: object\n"
     ]
    }
   ],
   "source": [
    "df['Age'] = df['Age'].round().astype(int)\n",
    "df['Mental (days)'] = df['Mental (days)'].round().astype(int)\n",
    "df['Physical (days)'] = df['Physical (days)'].round().astype(int)\n",
    "\n",
    "print(df[['Age', 'Mental (days)', 'Physical (days)']].dtypes)\n"
   ]
  },
  {
   "cell_type": "code",
   "execution_count": 28,
   "id": "52518186",
   "metadata": {},
   "outputs": [
    {
     "name": "stdout",
     "output_type": "stream",
     "text": [
      "Educational attainment has been converted to an ordinal code\n",
      "Education\n",
      "5    152281\n",
      "4     52973\n",
      "3     49344\n",
      "2      7010\n",
      "1      3061\n",
      "0       133\n",
      "Name: count, dtype: int64\n"
     ]
    }
   ],
   "source": [
    "education_order = {\n",
    "    'Never attended school': 0,\n",
    "    'Elementary': 1,\n",
    "    'Some high school': 2, \n",
    "    'High school graduate': 3,\n",
    "    'Some college': 4,\n",
    "    'College graduate': 5\n",
    "}\n",
    "\n",
    "if df['Education'].dtype == 'object':\n",
    "    known_values = set(education_order.keys())\n",
    "    existing_values = set(df['Education'].unique())\n",
    "    \n",
    "    if existing_values.issubset(known_values):\n",
    "        df['Education'] = df['Education'].map(education_order)\n",
    "        print(\"Educational attainment has been converted to an ordinal code\")\n",
    "        print(df['Education'].value_counts())\n"
   ]
  },
  {
   "cell_type": "code",
   "execution_count": 29,
   "id": "a41adc21",
   "metadata": {},
   "outputs": [
    {
     "name": "stdout",
     "output_type": "stream",
     "text": [
      "count    264802.000000\n",
      "mean         42.486496\n",
      "std          67.042849\n",
      "min           0.000000\n",
      "25%          16.000000\n",
      "50%          25.000000\n",
      "75%          49.000000\n",
      "max         999.000000\n",
      "Name: Income, dtype: float64\n"
     ]
    }
   ],
   "source": [
    "if df['Income'].dtype == 'object':\n",
    "    df['Income'] = df['Income'].str.extract(r'(\\d+)').astype(float)\n",
    "    df['Income'] = df['Income'].fillna(df['Income'].median())\n",
    "    print(df['Income'].describe())\n"
   ]
  },
  {
   "cell_type": "code",
   "execution_count": 30,
   "id": "2e6e3eda",
   "metadata": {},
   "outputs": [],
   "source": [
    "df.to_csv(\"zxia0226_A1_CleanDataset.csv\", index=False)\n"
   ]
  },
  {
   "cell_type": "code",
   "execution_count": 31,
   "id": "acfd3e5f",
   "metadata": {},
   "outputs": [
    {
     "data": {
      "image/png": "[encoded data removed]",
      "text/plain": [
       "<Figure size 1000x600 with 1 Axes>"
      ]
     },
     "metadata": {},
     "output_type": "display_data"
    }
   ],
   "source": [
    "import seaborn as sns\n",
    "\n",
    "plt.figure(figsize=(10, 6))\n",
    "\n",
    "df['Age_Group'] = pd.cut(df['Age'], bins=[0, 30, 40, 50, 60, 70, 120], \n",
    "                         labels=['<30', '30-40', '40-50', '50-60', '60-70', '70+'])\n",
    "sns.barplot(x='Age_Group', y='Diabetes', data=df, estimator=np.mean)\n",
    "plt.title('Diabetes Rate by Age Group', fontsize=14)\n",
    "plt.xlabel('Age Group', fontsize=12)\n",
    "plt.ylabel('Diabetes Rate', fontsize=12)\n",
    "plt.tight_layout()\n",
    "plt.show()\n"
   ]
  },
  {
   "cell_type": "code",
   "execution_count": 32,
   "id": "0e36a531-c963-47c2-bba8-f132ede525b1",
   "metadata": {},
   "outputs": [
    {
     "name": "stderr",
     "output_type": "stream",
     "text": [
      "D:\\Temp\\ipykernel_213972\\119175363.py:7: FutureWarning: The default value of observed=False is deprecated and will change to observed=True in a future version of pandas. Specify observed=False to silence this warning and retain the current behavior\n",
      "  heatmap_data = df.pivot_table(\n"
     ]
    },
    {
     "data": {
      "image/png": "[encoded data removed]",
      "text/plain": [
       "<Figure size 1000x600 with 2 Axes>"
      ]
     },
     "metadata": {},
     "output_type": "display_data"
    }
   ],
   "source": [
    "# BMI grouping\n",
    "bins = [0, 18.5, 25, 30, 35, 100]\n",
    "labels = ['Underweight', 'Normal', 'Overweight', 'Obese I', 'Obese II+']\n",
    "df['BMI_Category'] = pd.cut(df['BMI'], bins=bins, labels=labels, include_lowest=True)\n",
    "\n",
    "# Creating Pivot Tables\n",
    "heatmap_data = df.pivot_table(\n",
    "    index='BMI_Category',\n",
    "    columns='GeneralHealth',\n",
    "    values='Diabetes',\n",
    "    aggfunc='mean'\n",
    ")\n",
    "\n",
    "# Heat mapping\n",
    "plt.figure(figsize=(10, 6))\n",
    "sns.heatmap(heatmap_data, annot=True, fmt=\".2f\", cmap=\"Reds\")\n",
    "plt.title('Diabetes Rate by BMI Category and General Health')\n",
    "plt.ylabel('BMI Category')\n",
    "plt.xlabel('General Health')\n",
    "plt.tight_layout()\n",
    "plt.show()"
   ]
  },
  {
   "cell_type": "code",
   "execution_count": 33,
   "id": "3e145830-b31e-48fe-96ad-da22329c9415",
   "metadata": {},
   "outputs": [
    {
     "name": "stdout",
     "output_type": "stream",
     "text": [
      "           CholCheck            BMI         Smoker         Stroke  \\\n",
      "count  264802.000000  264802.000000  264802.000000  264802.000000   \n",
      "mean        0.984490      27.885020       0.331727       0.011261   \n",
      "std         0.123569       5.320355       0.470834       0.105520   \n",
      "min         0.000000      12.000000       0.000000       0.000000   \n",
      "25%         1.000000      26.000000       0.000000       0.000000   \n",
      "50%         1.000000      27.000000       0.000000       0.000000   \n",
      "75%         1.000000      29.000000       1.000000       0.000000   \n",
      "max         1.000000      98.000000       1.000000       1.000000   \n",
      "\n",
      "       HeartDiseaseorAttack  Mental (days)  Physical (days)       DiffWalk  \\\n",
      "count         264802.000000  264802.000000    264802.000000  264802.000000   \n",
      "mean               0.065109       1.821829         2.189568       0.073919   \n",
      "std                0.246719       5.861921         6.814883       0.261640   \n",
      "min                0.000000       0.000000         0.000000       0.000000   \n",
      "25%                0.000000       0.000000         0.000000       0.000000   \n",
      "50%                0.000000       0.000000         0.000000       0.000000   \n",
      "75%                0.000000       0.000000         0.000000       0.000000   \n",
      "max                1.000000      30.000000        30.000000       1.000000   \n",
      "\n",
      "                 Sex            Age      Education         Income  \\\n",
      "count  264802.000000  264802.000000  264802.000000  264802.000000   \n",
      "mean        0.325976      57.266762       4.299099      42.486496   \n",
      "std         0.468739      13.368237       0.943358      67.042849   \n",
      "min         0.000000      18.000000       0.000000       0.000000   \n",
      "25%         0.000000      52.000000       4.000000      16.000000   \n",
      "50%         0.000000      57.000000       5.000000      25.000000   \n",
      "75%         1.000000      65.000000       5.000000      49.000000   \n",
      "max         1.000000      90.000000       5.000000     999.000000   \n",
      "\n",
      "            Diabetes  BloodPressure    Cholesterol      Alcoholic  \n",
      "count  264802.000000  264802.000000  225082.000000  209194.000000  \n",
      "mean        0.145335       0.355930       0.423646       0.056445  \n",
      "std         0.352439       0.478795       0.494137       0.230780  \n",
      "min         0.000000       0.000000       0.000000       0.000000  \n",
      "25%         0.000000       0.000000       0.000000       0.000000  \n",
      "50%         0.000000       0.000000       0.000000       0.000000  \n",
      "75%         0.000000       1.000000       1.000000       0.000000  \n",
      "max         1.000000       1.000000       1.000000       1.000000  \n",
      "<class 'pandas.core.frame.DataFrame'>\n",
      "RangeIndex: 264802 entries, 0 to 264801\n",
      "Data columns (total 17 columns):\n",
      " #   Column                Non-Null Count   Dtype  \n",
      "---  ------                --------------   -----  \n",
      " 0   CholCheck             264802 non-null  int64  \n",
      " 1   BMI                   264802 non-null  float64\n",
      " 2   Smoker                264802 non-null  int64  \n",
      " 3   Stroke                264802 non-null  int64  \n",
      " 4   HeartDiseaseorAttack  264802 non-null  int64  \n",
      " 5   GeneralHealth         264802 non-null  object \n",
      " 6   Mental (days)         264802 non-null  int64  \n",
      " 7   Physical (days)       264802 non-null  int64  \n",
      " 8   DiffWalk              264802 non-null  int64  \n",
      " 9   Sex                   264802 non-null  int64  \n",
      " 10  Age                   264802 non-null  int64  \n",
      " 11  Education             264802 non-null  int64  \n",
      " 12  Income                264802 non-null  float64\n",
      " 13  Diabetes              264802 non-null  int64  \n",
      " 14  BloodPressure         264802 non-null  int64  \n",
      " 15  Cholesterol           225082 non-null  float64\n",
      " 16  Alcoholic             209194 non-null  float64\n",
      "dtypes: float64(4), int64(12), object(1)\n",
      "memory usage: 34.3+ MB\n",
      "None\n"
     ]
    }
   ],
   "source": [
    "import pandas as pd\n",
    "df = pd.read_csv('zxia0226_A1_CleanDataset.csv')\n",
    "data = df.describe()\n",
    "print(data)\n",
    "print(df.info())"
   ]
  },
  {
   "cell_type": "code",
   "execution_count": null,
   "id": "5102a561-6519-4e5e-9109-837be993b9ba",
   "metadata": {},
   "outputs": [],
   "source": []
  },
  {
   "cell_type": "code",
   "execution_count": 34,
   "id": "bc0a3062",
   "metadata": {},
   "outputs": [
    {
     "name": "stdout",
     "output_type": "stream",
     "text": [
      "Diabetes       0\n",
      "Cholesterol    0\n",
      "Alcoholic      0\n",
      "dtype: int64\n"
     ]
    }
   ],
   "source": [
    "\n",
    "df[\"Diabetes\"] = df[\"Diabetes\"].fillna(0)\n",
    "df[\"Cholesterol\"] = df[\"Cholesterol\"].fillna(0)\n",
    "df[\"Alcoholic\"] = df[\"Alcoholic\"].fillna(0)\n",
    "\n",
    "\n",
    "df.to_csv(\"zxia0226_A1_CleanDataset.csv\", index=False)\n",
    "\n",
    "\n",
    "print(df[[\"Diabetes\", \"Cholesterol\", \"Alcoholic\"]].isnull().sum())\n"
   ]
  }
 ],
 "metadata": {
  "kernelspec": {
   "display_name": "Python 3",
   "language": "python",
   "name": "python3"
  },
  "language_info": {
   "codemirror_mode": {
    "name": "ipython",
    "version": 3
   },
   "file_extension": ".py",
   "mimetype": "text/x-python",
   "name": "python",
   "nbconvert_exporter": "python",
   "pygments_lexer": "ipython3",
   "version": "3.10.0"
  }
 },
 "nbformat": 4,
 "nbformat_minor": 5
}
