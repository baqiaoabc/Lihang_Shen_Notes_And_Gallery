{
    "cells": [
        {
            "cell_type": "code",
            "execution_count": 1,
            "metadata": {},
            "outputs": [
                {
                    "data": {
                        "text/html": [
                            "\n",
                            "    <style> body {font-family: \"Roboto Condensed Light\", \"Roboto Condensed\";} h2 {padding: 10px 12px; background-color: #E64626; position: static; color: #ffffff; font-size: 40px;} .text_cell_render p { font-size: 15px; } .text_cell_render h1 { font-size: 30px; } h1 {padding: 10px 12px; background-color: #E64626; color: #ffffff; font-size: 40px;} .text_cell_render h3 { padding: 10px 12px; background-color: #0148A4; position: static; color: #ffffff; font-size: 20px;} h4:before{ \n",
                            "    content: \"@\"; font-family:\"Wingdings\"; font-style:regular; margin-right: 4px;} .text_cell_render h4 {padding: 8px; font-family: \"Roboto Condensed Light\"; position: static; font-style: italic; background-color: #FFB800; color: #ffffff; font-size: 18px; text-align: center; border-radius: 5px;}input[type=submit] {background-color: #E64626; border: solid; border-color: #734036; color: white; padding: 8px 16px; text-decoration: none; margin: 4px 2px; cursor: pointer; border-radius: 20px;}</style>\n",
                            "    <script> code_show=true; function code_toggle() {if (code_show){$('div.input').hide();} else {$('div.input').show();} code_show = !code_show} $( document ).ready(code_toggle);</script>\n",
                            "    <form action=\"javascript:code_toggle()\"><input type=\"submit\" value=\"Hide/show all code.\"></form>\n"
                        ],
                        "text/plain": [
                            "<IPython.core.display.HTML object>"
                        ]
                    },
                    "execution_count": 1,
                    "metadata": {},
                    "output_type": "execute_result"
                }
            ],
            "source": [
                "# COMP5339 Week 5 Tutorial\n",
                "# Material last updated: 23 March 2025\n",
                "# Note materials were designed with the Roboto Condensed font, which can be installed here: https://www.1001fonts.com/roboto-condensed-font.html\n",
                "\n",
                "from IPython.display import HTML\n",
                "HTML('''\n",
                "    <style> body {font-family: \"Roboto Condensed Light\", \"Roboto Condensed\";} h2 {padding: 10px 12px; background-color: #E64626; position: static; color: #ffffff; font-size: 40px;} .text_cell_render p { font-size: 15px; } .text_cell_render h1 { font-size: 30px; } h1 {padding: 10px 12px; background-color: #E64626; color: #ffffff; font-size: 40px;} .text_cell_render h3 { padding: 10px 12px; background-color: #0148A4; position: static; color: #ffffff; font-size: 20px;} h4:before{ \n",
                "    content: \"@\"; font-family:\"Wingdings\"; font-style:regular; margin-right: 4px;} .text_cell_render h4 {padding: 8px; font-family: \"Roboto Condensed Light\"; position: static; font-style: italic; background-color: #FFB800; color: #ffffff; font-size: 18px; text-align: center; border-radius: 5px;}input[type=submit] {background-color: #E64626; border: solid; border-color: #734036; color: white; padding: 8px 16px; text-decoration: none; margin: 4px 2px; cursor: pointer; border-radius: 20px;}</style>\n",
                "    <script> code_show=true; function code_toggle() {if (code_show){$('div.input').hide();} else {$('div.input').show();} code_show = !code_show} $( document ).ready(code_toggle);</script>\n",
                "    <form action=\"javascript:code_toggle()\"><input type=\"submit\" value=\"Hide/show all code.\"></form>\n",
                "''')"
            ]
        },
        {
            "attachments": {},
            "cell_type": "markdown",
            "metadata": {},
            "source": [
                "# Week 5 - Web APIs: Working with semi-structured data"
            ]
        },
        {
            "attachments": {},
            "cell_type": "markdown",
            "metadata": {},
            "source": [
                "This week will be going beyond scraping data from websites and using APIs to help collect data efficiently. Web APIs are specifically provided to give access to data through programs. The advantages are that the data is well defined and consistent, with a predefined set of operations.\n",
                "\n",
                "This tutorial will give you a taste on the potential that APIs offer and hopefully opens your mind to the possibilities of data integrations in your future projects.\n",
                "\n",
                "This will require the following Python libraries:\n",
                "- **Request**         for interacting with websites and web services\n",
                "- **Pandas**          for dataframe management"
            ]
        },
        {
            "attachments": {},
            "cell_type": "markdown",
            "metadata": {},
            "source": [
                "## 1. Web APIs"
            ]
        },
        {
            "attachments": {},
            "cell_type": "markdown",
            "metadata": {},
            "source": [
                "We'll explore a few fun examples of APIs with a variety of data types. These libraries will help us process JSON data types, and even to display images."
            ]
        },
        {
            "attachments": {},
            "cell_type": "markdown",
            "metadata": {},
            "source": [
                "### 1.1 Exploring JSON Objects with APIs"
            ]
        },
        {
            "attachments": {},
            "cell_type": "markdown",
            "metadata": {},
            "source": [
                "The World Bank provides the following web API which gives the total population in a Country in a specific year. More information about the API can be found in their [Developer Information\n",
                "](https://datahelpdesk.worldbank.org/knowledgebase/topics/125589-developer-information)."
            ]
        },
        {
            "cell_type": "code",
            "execution_count": 2,
            "metadata": {},
            "outputs": [
                {
                    "data": {
                        "text/plain": [
                            "<Response [200]>"
                        ]
                    },
                    "execution_count": 2,
                    "metadata": {},
                    "output_type": "execute_result"
                }
            ],
            "source": [
                "import requests\n",
                "\n",
                "year = '2022'\n",
                "\n",
                "response = requests.get(f\"https://api.worldbank.org/v2/country/aus/indicator/SP.POP.TOTL?date={year}&format=json\")\n",
                "\n",
                "response"
            ]
        },
        {
            "attachments": {},
            "cell_type": "markdown",
            "metadata": {},
            "source": [
                "Simply returning the response yields nothing of particular use, just the HTTP status code of our request (you should get [200](https://en.wikipedia.org/wiki/List_of_HTTP_status_codes), which indicates success).\n",
                "\n",
                "To interpret its full body of returned information as a JSON object, we can use the `.json()` function:"
            ]
        },
        {
            "cell_type": "code",
            "execution_count": 3,
            "metadata": {},
            "outputs": [
                {
                    "data": {
                        "text/plain": [
                            "[{'page': 1,\n",
                            "  'pages': 1,\n",
                            "  'per_page': 50,\n",
                            "  'total': 1,\n",
                            "  'sourceid': '2',\n",
                            "  'lastupdated': '2025-07-01'},\n",
                            " [{'indicator': {'id': 'SP.POP.TOTL', 'value': 'Population, total'},\n",
                            "   'country': {'id': 'AU', 'value': 'Australia'},\n",
                            "   'countryiso3code': 'AUS',\n",
                            "   'date': '2022',\n",
                            "   'value': 26014399,\n",
                            "   'unit': '',\n",
                            "   'obs_status': '',\n",
                            "   'decimal': 0}]]"
                        ]
                    },
                    "execution_count": 3,
                    "metadata": {},
                    "output_type": "execute_result"
                }
            ],
            "source": [
                "response.json()"
            ]
        },
        {
            "attachments": {},
            "cell_type": "markdown",
            "metadata": {},
            "source": [
                "The **json** library can also be leveraged to display the information in a nicer way. ``json.dumps()`` takes a JSON object and turns it into a string, while ``json.loads()`` can parse a valid string into a JSON object. The example below takes our response, formats it nicely, and sorts the keys alphabetically:"
            ]
        },
        {
            "cell_type": "code",
            "execution_count": 4,
            "metadata": {},
            "outputs": [
                {
                    "name": "stdout",
                    "output_type": "stream",
                    "text": [
                        "[\n",
                        "    {\n",
                        "        \"lastupdated\": \"2025-07-01\",\n",
                        "        \"page\": 1,\n",
                        "        \"pages\": 1,\n",
                        "        \"per_page\": 50,\n",
                        "        \"sourceid\": \"2\",\n",
                        "        \"total\": 1\n",
                        "    },\n",
                        "    [\n",
                        "        {\n",
                        "            \"country\": {\n",
                        "                \"id\": \"AU\",\n",
                        "                \"value\": \"Australia\"\n",
                        "            },\n",
                        "            \"countryiso3code\": \"AUS\",\n",
                        "            \"date\": \"2022\",\n",
                        "            \"decimal\": 0,\n",
                        "            \"indicator\": {\n",
                        "                \"id\": \"SP.POP.TOTL\",\n",
                        "                \"value\": \"Population, total\"\n",
                        "            },\n",
                        "            \"obs_status\": \"\",\n",
                        "            \"unit\": \"\",\n",
                        "            \"value\": 26014399\n",
                        "        }\n",
                        "    ]\n",
                        "]\n"
                    ]
                }
            ],
            "source": [
                "import json\n",
                "print(json.dumps(response.json(), indent=4, sort_keys=True))"
            ]
        },
        {
            "attachments": {},
            "cell_type": "markdown",
            "metadata": {},
            "source": [
                "In this case, the JSON object returned is list of dictionaries. We can access individual elements by index and name:"
            ]
        },
        {
            "cell_type": "code",
            "execution_count": 5,
            "metadata": {},
            "outputs": [
                {
                    "name": "stdout",
                    "output_type": "stream",
                    "text": [
                        "Population of Australia in year 2022 is 26014399\n"
                    ]
                }
            ],
            "source": [
                "population = response.json()[1][0]['value']\n",
                "print(\"Population of Australia in year\", year, \"is\", population)"
            ]
        },
        {
            "attachments": {},
            "cell_type": "markdown",
            "metadata": {},
            "source": [
                "### 1.2 Exploring Images with APIs"
            ]
        },
        {
            "attachments": {},
            "cell_type": "markdown",
            "metadata": {},
            "source": [
                "We can even query the web to extract images, rather than a JSON object. The below helper function will process an image as a JPG with fixed dimensions:"
            ]
        },
        {
            "cell_type": "code",
            "execution_count": 6,
            "metadata": {},
            "outputs": [],
            "source": [
                "import ipywidgets as widgets\n",
                "def display_image(response, w=200, h=300):\n",
                "    return widgets.Image(value=response.content, format='jpg', width=w, height=h)"
            ]
        },
        {
            "attachments": {},
            "cell_type": "markdown",
            "metadata": {},
            "source": [
                "Take the simple PlaceDog website, which returns a randomised image of dogs for a given dimension ratio (in our case, just 300x200)"
            ]
        },
        {
            "cell_type": "code",
            "execution_count": 7,
            "metadata": {},
            "outputs": [
                {
                    "data": {
                        "application/vnd.jupyter.widget-view+json": {
                            "model_id": "69c5d998086f4f75a48f755492003017",
                            "version_major": 2,
                            "version_minor": 0
                        },
                        "text/plain": [
                            "Image(value=b'\\x89PNG\\r\\n\\x1a\\n\\x00\\x00\\x00\\rIHDR\\x00\\x00\\x01,\\x00\\x00\\x00\\xc8\\x08\\x06\\x00\\x00\\x00R\\xdf\\xdcU\\x…"
                        ]
                    },
                    "execution_count": 7,
                    "metadata": {},
                    "output_type": "execute_result"
                }
            ],
            "source": [
                "response = requests.get('https://place.dog/300/200')\n",
                "display_image(response)"
            ]
        },
        {
            "attachments": {},
            "cell_type": "markdown",
            "metadata": {},
            "source": [
                "### 1.3 Using API Documentation"
            ]
        },
        {
            "attachments": {},
            "cell_type": "markdown",
            "metadata": {},
            "source": [
                "Most APIs will have more functionality and require you to read their documentation to understand what other features can be extracted. Let's try a dog API with slightly more sophisticated documentation that allows us to extract both information and images - the [Stanford Dogs Dataset](https://dog.ceo/dog-api/documentation/).\n"
            ]
        },
        {
            "cell_type": "code",
            "execution_count": 8,
            "metadata": {},
            "outputs": [
                {
                    "data": {
                        "text/plain": [
                            "dict_keys(['message', 'status'])"
                        ]
                    },
                    "execution_count": 8,
                    "metadata": {},
                    "output_type": "execute_result"
                }
            ],
            "source": [
                "response = requests.get('https://dog.ceo/api/breed/labrador/images/random')\n",
                "breeds = response.json()\n",
                "breeds.keys()"
            ]
        },
        {
            "attachments": {},
            "cell_type": "markdown",
            "metadata": {},
            "source": [
                "As seen by observing the keys above, or consulting the documentation, two things are returned - a \"message\", and the \"status\". We're interested in the \"message\":"
            ]
        },
        {
            "cell_type": "code",
            "execution_count": 9,
            "metadata": {},
            "outputs": [
                {
                    "data": {
                        "text/plain": [
                            "'https://images.dog.ceo/breeds/labrador/n02099712_7815.jpg'"
                        ]
                    },
                    "execution_count": 9,
                    "metadata": {},
                    "output_type": "execute_result"
                }
            ],
            "source": [
                "breeds['message']"
            ]
        },
        {
            "attachments": {},
            "cell_type": "markdown",
            "metadata": {},
            "source": [
                "The \"[breed](https://dog.ceo/dog-api/documentation/breed)\" page of the documentation defines the general format of a URL to return a random image of a selected dog breed. The function below leverages this to return a single image from the selected breed:"
            ]
        },
        {
            "cell_type": "code",
            "execution_count": 10,
            "metadata": {},
            "outputs": [],
            "source": [
                "def random_dog(breed):\n",
                "    # This command returns a URL to a random image of the selected dog breed.\n",
                "    # We would need to do another call of requests.get() to get the actual image.\n",
                "    response = requests.get(f'https://dog.ceo/api/breed/{breed}/images/random')\n",
                "    breed = response.json()['message']\n",
                "    response_image = requests.get(breed)\n",
                "    return display_image(response_image)"
            ]
        },
        {
            "attachments": {},
            "cell_type": "markdown",
            "metadata": {},
            "source": [
                "Try choosing a breed from the JSON above, and returning an image for it below (currently returns a 'husky'):"
            ]
        },
        {
            "cell_type": "code",
            "execution_count": 11,
            "metadata": {},
            "outputs": [
                {
                    "data": {
                        "application/vnd.jupyter.widget-view+json": {
                            "model_id": "b0e8d355994f4a879c461db2a9865c3c",
                            "version_major": 2,
                            "version_minor": 0
                        },
                        "text/plain": [
                            "Image(value=b'\\xff\\xd8\\xff\\xe0\\x00\\x10JFIF\\x00\\x01\\x01\\x00\\x00\\x01\\x00\\x01\\x00\\x00\\xff\\xdb\\x00C\\x00\\x08\\x06\\x0…"
                        ]
                    },
                    "execution_count": 11,
                    "metadata": {},
                    "output_type": "execute_result"
                }
            ],
            "source": [
                "random_dog('husky')"
            ]
        },
        {
            "attachments": {},
            "cell_type": "markdown",
            "metadata": {},
            "source": [
                "### 1.4 Using DataFrames with APIs"
            ]
        },
        {
            "attachments": {},
            "cell_type": "markdown",
            "metadata": {},
            "source": [
                "Take another animal-related example of an API below, with the [**TheCatAPI**](https://developers.thecatapi.com/), where users can request animal data in JSON format."
            ]
        },
        {
            "cell_type": "code",
            "execution_count": 12,
            "metadata": {},
            "outputs": [
                {
                    "name": "stdout",
                    "output_type": "stream",
                    "text": [
                        "200\n"
                    ]
                },
                {
                    "data": {
                        "text/plain": [
                            "[{'id': '5lr',\n",
                            "  'url': 'https://cdn2.thecatapi.com/images/5lr.jpg',\n",
                            "  'width': 3264,\n",
                            "  'height': 1952}]"
                        ]
                    },
                    "execution_count": 12,
                    "metadata": {},
                    "output_type": "execute_result"
                }
            ],
            "source": [
                "import pandas as pd\n",
                "response = requests.get('https://api.thecatapi.com/v1/images/search')\n",
                "print(response.status_code)\n",
                "animal_info = response.json()\n",
                "animal_info"
            ]
        },
        {
            "attachments": {},
            "cell_type": "markdown",
            "metadata": {},
            "source": [
                "**Task: Return the random entries of 10 animals from the API as a dataframe.**\n",
                "\n",
                "Investigate the documentation, find the url to request so that the data of 10 animals can be extracted at once, and return this as a Pandas dataframe. Note that with dataframes, this will prove much trickier on less consistent data sources! JSON objects can contain vary greatly between objects with varying depths - it is much simpler here since each animal's object contains a single level of depth."
            ]
        },
        {
            "cell_type": "code",
            "execution_count": 13,
            "metadata": {},
            "outputs": [],
            "source": [
                "### TO DO\n"
            ]
        },
        {
            "attachments": {},
            "cell_type": "markdown",
            "metadata": {},
            "source": [
                "## 2. Map APIs"
            ]
        },
        {
            "attachments": {},
            "cell_type": "markdown",
            "metadata": {},
            "source": [
                "Additionally to simply taking what is returned to us, we can specify parameters to send to a web service.\n",
                "\n",
                "There are several Map API systems that allow you to convert a location address to a GPS location (and some more information). The most popular of these is Google Maps API. However, this underwent an access change in June 2018 which meant that it now requires an API key and associated billing information.\n",
                "\n",
                "Instead, we will use the Open Street Maps project at https://www.openstreetmap.org, particularly their `nominatim` data access API ([documentation here](https://nominatim.org/release-docs/develop/api/Search/)).\n",
                "\n",
                "**Note that this service does have however a restriction of 1 API call per second.**\n",
                "\n",
                "The helper function below will receive given parameters, and carry out the request, leaving it a few seconds first:"
            ]
        },
        {
            "cell_type": "code",
            "execution_count": 14,
            "metadata": {},
            "outputs": [],
            "source": [
                "import time as t\n",
                "def address_details(params, wait=5):\n",
                "    base_url = 'https://nominatim.openstreetmap.org/search'\n",
                "    headers = {'User-Agent': 'COMP5339'}\n",
                "    t.sleep(wait)  # 5 second wait to avoid overloading (too many requests could look out the whole uni's IP range!)\n",
                "    response = requests.get(base_url, params = params, headers = headers)\n",
                "    return response.json()"
            ]
        },
        {
            "attachments": {},
            "cell_type": "markdown",
            "metadata": {},
            "source": [
                "The following example looks up the GPS location of building oppositing the School of CS building at \"50 Cleveland Street, Chippendale, Australia\":"
            ]
        },
        {
            "cell_type": "code",
            "execution_count": 15,
            "metadata": {},
            "outputs": [
                {
                    "name": "stdout",
                    "output_type": "stream",
                    "text": [
                        "[\n",
                        "    {\n",
                        "        \"place_id\": 19476830,\n",
                        "        \"licence\": \"Data \\u00a9 OpenStreetMap contributors, ODbL 1.0. http://osm.org/copyright\",\n",
                        "        \"osm_type\": \"node\",\n",
                        "        \"osm_id\": 4127856495,\n",
                        "        \"lat\": \"-33.8879173\",\n",
                        "        \"lon\": \"151.1949359\",\n",
                        "        \"class\": \"place\",\n",
                        "        \"type\": \"house\",\n",
                        "        \"place_rank\": 30,\n",
                        "        \"importance\": 8.246051728079679e-05,\n",
                        "        \"addresstype\": \"place\",\n",
                        "        \"name\": \"\",\n",
                        "        \"display_name\": \"50, Cleveland Street, Chippendale, Sydney CBD, Sydney, Council of the City of Sydney, New South Wales, 2008, Australia\",\n",
                        "        \"boundingbox\": [\n",
                        "            \"-33.8879673\",\n",
                        "            \"-33.8878673\",\n",
                        "            \"151.1948859\",\n",
                        "            \"151.1949859\"\n",
                        "        ]\n",
                        "    }\n",
                        "]\n"
                    ]
                }
            ],
            "source": [
                "parameters = {'q': '50 Cleveland Street, Chippendale, Australia', 'format': 'json', 'addressdetails': 0}\n",
                "results = address_details(parameters)\n",
                "print(json.dumps(results, indent=4))"
            ]
        },
        {
            "attachments": {},
            "cell_type": "markdown",
            "metadata": {},
            "source": [
                "If we were less specific about which suburb this \"50 Cleveland Street\" is in Australia, multiple results will be returned by the search:"
            ]
        },
        {
            "cell_type": "code",
            "execution_count": 16,
            "metadata": {
                "scrolled": true
            },
            "outputs": [
                {
                    "name": "stdout",
                    "output_type": "stream",
                    "text": [
                        "[\n",
                        "    {\n",
                        "        \"place_id\": 19476830,\n",
                        "        \"licence\": \"Data \\u00a9 OpenStreetMap contributors, ODbL 1.0. http://osm.org/copyright\",\n",
                        "        \"osm_type\": \"node\",\n",
                        "        \"osm_id\": 4127856495,\n",
                        "        \"lat\": \"-33.8879173\",\n",
                        "        \"lon\": \"151.1949359\",\n",
                        "        \"class\": \"place\",\n",
                        "        \"type\": \"house\",\n",
                        "        \"place_rank\": 30,\n",
                        "        \"importance\": 8.246051728079679e-05,\n",
                        "        \"addresstype\": \"place\",\n",
                        "        \"name\": \"\",\n",
                        "        \"display_name\": \"50, Cleveland Street, Chippendale, Sydney CBD, Sydney, Council of the City of Sydney, New South Wales, 2008, Australia\",\n",
                        "        \"address\": {\n",
                        "            \"house_number\": \"50\",\n",
                        "            \"road\": \"Cleveland Street\",\n",
                        "            \"suburb\": \"Chippendale\",\n",
                        "            \"borough\": \"Sydney CBD\",\n",
                        "            \"city\": \"Sydney\",\n",
                        "            \"municipality\": \"Council of the City of Sydney\",\n",
                        "            \"state\": \"New South Wales\",\n",
                        "            \"ISO3166-2-lvl4\": \"AU-NSW\",\n",
                        "            \"postcode\": \"2008\",\n",
                        "            \"country\": \"Australia\",\n",
                        "            \"country_code\": \"au\"\n",
                        "        },\n",
                        "        \"boundingbox\": [\n",
                        "            \"-33.8879673\",\n",
                        "            \"-33.8878673\",\n",
                        "            \"151.1948859\",\n",
                        "            \"151.1949859\"\n",
                        "        ]\n",
                        "    },\n",
                        "    {\n",
                        "        \"place_id\": 23514924,\n",
                        "        \"licence\": \"Data \\u00a9 OpenStreetMap contributors, ODbL 1.0. http://osm.org/copyright\",\n",
                        "        \"osm_type\": \"node\",\n",
                        "        \"osm_id\": 6351438673,\n",
                        "        \"lat\": \"-27.4999818\",\n",
                        "        \"lon\": \"153.0445420\",\n",
                        "        \"class\": \"place\",\n",
                        "        \"type\": \"house\",\n",
                        "        \"place_rank\": 30,\n",
                        "        \"importance\": 7.694132906076169e-05,\n",
                        "        \"addresstype\": \"place\",\n",
                        "        \"name\": \"\",\n",
                        "        \"display_name\": \"50, Cleveland Street, Stones Corner, City of Brisbane, Queensland, 4120, Australia\",\n",
                        "        \"address\": {\n",
                        "            \"house_number\": \"50\",\n",
                        "            \"road\": \"Cleveland Street\",\n",
                        "            \"suburb\": \"Stones Corner\",\n",
                        "            \"city_district\": \"Stones Corner\",\n",
                        "            \"city\": \"City of Brisbane\",\n",
                        "            \"state\": \"Queensland\",\n",
                        "            \"ISO3166-2-lvl4\": \"AU-QLD\",\n",
                        "            \"postcode\": \"4120\",\n",
                        "            \"country\": \"Australia\",\n",
                        "            \"country_code\": \"au\"\n",
                        "        },\n",
                        "        \"boundingbox\": [\n",
                        "            \"-27.5000318\",\n",
                        "            \"-27.4999318\",\n",
                        "            \"153.0444920\",\n",
                        "            \"153.0445920\"\n",
                        "        ]\n",
                        "    },\n",
                        "    {\n",
                        "        \"place_id\": 29198069,\n",
                        "        \"licence\": \"Data \\u00a9 OpenStreetMap contributors, ODbL 1.0. http://osm.org/copyright\",\n",
                        "        \"osm_type\": \"way\",\n",
                        "        \"osm_id\": 424520657,\n",
                        "        \"lat\": \"-31.9043936\",\n",
                        "        \"lon\": \"115.8776633\",\n",
                        "        \"class\": \"building\",\n",
                        "        \"type\": \"detached\",\n",
                        "        \"place_rank\": 30,\n",
                        "        \"importance\": 7.485389486529362e-05,\n",
                        "        \"addresstype\": \"building\",\n",
                        "        \"name\": \"\",\n",
                        "        \"display_name\": \"50, Cleveland Street, Dianella, City of Stirling, Western Australia, 6059, Australia\",\n",
                        "        \"address\": {\n",
                        "            \"house_number\": \"50\",\n",
                        "            \"road\": \"Cleveland Street\",\n",
                        "            \"suburb\": \"Dianella\",\n",
                        "            \"municipality\": \"City of Stirling\",\n",
                        "            \"state\": \"Western Australia\",\n",
                        "            \"ISO3166-2-lvl4\": \"AU-WA\",\n",
                        "            \"postcode\": \"6059\",\n",
                        "            \"country\": \"Australia\",\n",
                        "            \"country_code\": \"au\"\n",
                        "        },\n",
                        "        \"boundingbox\": [\n",
                        "            \"-31.9045071\",\n",
                        "            \"-31.9042817\",\n",
                        "            \"115.8775241\",\n",
                        "            \"115.8777910\"\n",
                        "        ]\n",
                        "    }\n",
                        "]\n"
                    ]
                }
            ],
            "source": [
                "parameters = {'q': '50 Cleveland Street, Australia', 'format': 'json', 'addressdetails': 1}\n",
                "results = address_details(parameters)\n",
                "print(json.dumps(results, indent=4))"
            ]
        },
        {
            "attachments": {},
            "cell_type": "markdown",
            "metadata": {},
            "source": [
                "Note in this case, an extra layer of depth is introduced for each search result - the address, which is itself a dictionary inside the main dictionary. We can \"flatten\" this into a dataframe using Pandas' `json_normalize()` function, which will return a dataframe with one row per search result:"
            ]
        },
        {
            "cell_type": "code",
            "execution_count": 17,
            "metadata": {},
            "outputs": [
                {
                    "data": {
                        "text/html": [
                            "<div>\n",
                            "<style scoped>\n",
                            "    .dataframe tbody tr th:only-of-type {\n",
                            "        vertical-align: middle;\n",
                            "    }\n",
                            "\n",
                            "    .dataframe tbody tr th {\n",
                            "        vertical-align: top;\n",
                            "    }\n",
                            "\n",
                            "    .dataframe thead th {\n",
                            "        text-align: right;\n",
                            "    }\n",
                            "</style>\n",
                            "<table border=\"1\" class=\"dataframe\">\n",
                            "  <thead>\n",
                            "    <tr style=\"text-align: right;\">\n",
                            "      <th></th>\n",
                            "      <th>place_id</th>\n",
                            "      <th>licence</th>\n",
                            "      <th>osm_type</th>\n",
                            "      <th>osm_id</th>\n",
                            "      <th>lat</th>\n",
                            "      <th>lon</th>\n",
                            "      <th>class</th>\n",
                            "      <th>type</th>\n",
                            "      <th>place_rank</th>\n",
                            "      <th>importance</th>\n",
                            "      <th>...</th>\n",
                            "      <th>address.suburb</th>\n",
                            "      <th>address.borough</th>\n",
                            "      <th>address.city</th>\n",
                            "      <th>address.municipality</th>\n",
                            "      <th>address.state</th>\n",
                            "      <th>address.ISO3166-2-lvl4</th>\n",
                            "      <th>address.postcode</th>\n",
                            "      <th>address.country</th>\n",
                            "      <th>address.country_code</th>\n",
                            "      <th>address.city_district</th>\n",
                            "    </tr>\n",
                            "  </thead>\n",
                            "  <tbody>\n",
                            "    <tr>\n",
                            "      <th>0</th>\n",
                            "      <td>19476830</td>\n",
                            "      <td>Data © OpenStreetMap contributors, ODbL 1.0. h...</td>\n",
                            "      <td>node</td>\n",
                            "      <td>4127856495</td>\n",
                            "      <td>-33.8879173</td>\n",
                            "      <td>151.1949359</td>\n",
                            "      <td>place</td>\n",
                            "      <td>house</td>\n",
                            "      <td>30</td>\n",
                            "      <td>0.000082</td>\n",
                            "      <td>...</td>\n",
                            "      <td>Chippendale</td>\n",
                            "      <td>Sydney CBD</td>\n",
                            "      <td>Sydney</td>\n",
                            "      <td>Council of the City of Sydney</td>\n",
                            "      <td>New South Wales</td>\n",
                            "      <td>AU-NSW</td>\n",
                            "      <td>2008</td>\n",
                            "      <td>Australia</td>\n",
                            "      <td>au</td>\n",
                            "      <td>NaN</td>\n",
                            "    </tr>\n",
                            "    <tr>\n",
                            "      <th>1</th>\n",
                            "      <td>23514924</td>\n",
                            "      <td>Data © OpenStreetMap contributors, ODbL 1.0. h...</td>\n",
                            "      <td>node</td>\n",
                            "      <td>6351438673</td>\n",
                            "      <td>-27.4999818</td>\n",
                            "      <td>153.0445420</td>\n",
                            "      <td>place</td>\n",
                            "      <td>house</td>\n",
                            "      <td>30</td>\n",
                            "      <td>0.000077</td>\n",
                            "      <td>...</td>\n",
                            "      <td>Stones Corner</td>\n",
                            "      <td>NaN</td>\n",
                            "      <td>City of Brisbane</td>\n",
                            "      <td>NaN</td>\n",
                            "      <td>Queensland</td>\n",
                            "      <td>AU-QLD</td>\n",
                            "      <td>4120</td>\n",
                            "      <td>Australia</td>\n",
                            "      <td>au</td>\n",
                            "      <td>Stones Corner</td>\n",
                            "    </tr>\n",
                            "    <tr>\n",
                            "      <th>2</th>\n",
                            "      <td>29198069</td>\n",
                            "      <td>Data © OpenStreetMap contributors, ODbL 1.0. h...</td>\n",
                            "      <td>way</td>\n",
                            "      <td>424520657</td>\n",
                            "      <td>-31.9043936</td>\n",
                            "      <td>115.8776633</td>\n",
                            "      <td>building</td>\n",
                            "      <td>detached</td>\n",
                            "      <td>30</td>\n",
                            "      <td>0.000075</td>\n",
                            "      <td>...</td>\n",
                            "      <td>Dianella</td>\n",
                            "      <td>NaN</td>\n",
                            "      <td>NaN</td>\n",
                            "      <td>City of Stirling</td>\n",
                            "      <td>Western Australia</td>\n",
                            "      <td>AU-WA</td>\n",
                            "      <td>6059</td>\n",
                            "      <td>Australia</td>\n",
                            "      <td>au</td>\n",
                            "      <td>NaN</td>\n",
                            "    </tr>\n",
                            "  </tbody>\n",
                            "</table>\n",
                            "<p>3 rows × 26 columns</p>\n",
                            "</div>"
                        ],
                        "text/plain": [
                            "   place_id                                            licence osm_type  \\\n",
                            "0  19476830  Data © OpenStreetMap contributors, ODbL 1.0. h...     node   \n",
                            "1  23514924  Data © OpenStreetMap contributors, ODbL 1.0. h...     node   \n",
                            "2  29198069  Data © OpenStreetMap contributors, ODbL 1.0. h...      way   \n",
                            "\n",
                            "       osm_id          lat          lon     class      type  place_rank  \\\n",
                            "0  4127856495  -33.8879173  151.1949359     place     house          30   \n",
                            "1  6351438673  -27.4999818  153.0445420     place     house          30   \n",
                            "2   424520657  -31.9043936  115.8776633  building  detached          30   \n",
                            "\n",
                            "   importance  ... address.suburb address.borough      address.city  \\\n",
                            "0    0.000082  ...    Chippendale      Sydney CBD            Sydney   \n",
                            "1    0.000077  ...  Stones Corner             NaN  City of Brisbane   \n",
                            "2    0.000075  ...       Dianella             NaN               NaN   \n",
                            "\n",
                            "            address.municipality      address.state address.ISO3166-2-lvl4  \\\n",
                            "0  Council of the City of Sydney    New South Wales                 AU-NSW   \n",
                            "1                            NaN         Queensland                 AU-QLD   \n",
                            "2               City of Stirling  Western Australia                  AU-WA   \n",
                            "\n",
                            "  address.postcode address.country address.country_code address.city_district  \n",
                            "0             2008       Australia                   au                   NaN  \n",
                            "1             4120       Australia                   au         Stones Corner  \n",
                            "2             6059       Australia                   au                   NaN  \n",
                            "\n",
                            "[3 rows x 26 columns]"
                        ]
                    },
                    "execution_count": 17,
                    "metadata": {},
                    "output_type": "execute_result"
                }
            ],
            "source": [
                "pd.json_normalize(results)"
            ]
        },
        {
            "attachments": {},
            "cell_type": "markdown",
            "metadata": {},
            "source": [
                "**Task: Find the maximum road speed of a location of your choice using the API.**\n",
                "\n",
                "Select a location known to you (or take the definitely random example of [150 Freston Road, London](https://www.youtube.com/watch?v=j0FyxbiEgo0)), and try using the 'extratags' parameter (check the documentation) to determine the maximum speed of that road."
            ]
        },
        {
            "cell_type": "code",
            "execution_count": 18,
            "metadata": {},
            "outputs": [],
            "source": [
                "### TO DO\n"
            ]
        },
        {
            "attachments": {},
            "cell_type": "markdown",
            "metadata": {},
            "source": [
                "## 3. Extension (Optional)"
            ]
        },
        {
            "attachments": {},
            "cell_type": "markdown",
            "metadata": {},
            "source": [
                "As a data engineer, sometimes our responsibility is creating a data pipeline to extract information. The setup of these data pipelines is the most time consuming task and the entire data wrangling/cleaning phase of a data science product is  more than 80% of the time cost [(Breaking the 80/20 rule: How data catalogs transform data scientists’ productivity)](https://medium.com/@armand_ruiz/breaking-the-80-20-rule-how-data-catalogs-transform-data-scientists-productivity-7759a23a8893). We will have to wear many hats, which is why the extension task this week is using YouTube's Data API.\n",
                "\n",
                "The YouTube Data API will require a Google account and the creation of an API key to query data. Here are instructions on how to do that: https://developers.google.com/youtube/v3/getting-started\n",
                "\n",
                "**Note: Your default quota allocation is 10,000 units per day. This is 100 search queries a day!**\n",
                "\n",
                "Google calculates your quota usage by assigning a cost to each request. Different types of operations have different quota costs. For example:\n",
                "\n",
                "* read operation that retrieves a list of resources (channels, videos, playlists) usually costs 1 unit.\n",
                "* write operation that creates, updates, or deletes a resource usually has costs 50 units.\n",
                "* search request costs 100 units.\n",
                "* video upload costs 1600 units.\n",
                "\n",
                "After creating your API key, we will need to install a Python module:\n",
                "- Anaconda: `conda install -c conda-forge google-api-python-client`\n",
                "- or Pip: `pip install google-api-python-client`\n",
                "\n",
                "Once this is configured, you can use your API key in the code below, which would return data on all YouTube videos posted by the [University of Sydney on YouTube](https://www.youtube.com/channel/UChyxYzq0ZAB0iBw-A1l5jFA)."
            ]
        },
        {
            "cell_type": "code",
            "execution_count": 19,
            "metadata": {},
            "outputs": [
                {
                    "data": {
                        "text/plain": [
                            "{'error': {'code': 400,\n",
                            "  'message': 'API key not valid. Please pass a valid API key.',\n",
                            "  'errors': [{'message': 'API key not valid. Please pass a valid API key.',\n",
                            "    'domain': 'global',\n",
                            "    'reason': 'badRequest'}],\n",
                            "  'status': 'INVALID_ARGUMENT',\n",
                            "  'details': [{'@type': 'type.googleapis.com/google.rpc.ErrorInfo',\n",
                            "    'reason': 'API_KEY_INVALID',\n",
                            "    'domain': 'googleapis.com',\n",
                            "    'metadata': {'service': 'youtube.googleapis.com'}},\n",
                            "   {'@type': 'type.googleapis.com/google.rpc.LocalizedMessage',\n",
                            "    'locale': 'en-US',\n",
                            "    'message': 'API key not valid. Please pass a valid API key.'}]}}"
                        ]
                    },
                    "execution_count": 19,
                    "metadata": {},
                    "output_type": "execute_result"
                }
            ],
            "source": [
                "API_KEY = \"?\" # your api key here\n",
                "CHANNEL_ID = \"UChyxYzq0ZAB0iBw-A1l5jFA\"\n",
                "pageToken = \"\"\n",
                "\n",
                "url = \"https://www.googleapis.com/youtube/v3/search?key=\"+\\\n",
                "API_KEY+\"&channelId=\"+CHANNEL_ID+\"&part=snippet,id&order=date&maxResults=10000\"+pageToken\n",
                "response = requests.get(url).json()\n",
                "response"
            ]
        },
        {
            "attachments": {},
            "cell_type": "markdown",
            "metadata": {},
            "source": [
                "We can once more turn this into a dataframe:"
            ]
        },
        {
            "cell_type": "code",
            "execution_count": 20,
            "metadata": {},
            "outputs": [
                {
                    "ename": "KeyError",
                    "evalue": "'items'",
                    "output_type": "error",
                    "traceback": [
                        "\u001b[1;31m---------------------------------------------------------------------------\u001b[0m",
                        "\u001b[1;31mKeyError\u001b[0m                                  Traceback (most recent call last)",
                        "Cell \u001b[1;32mIn[20], line 1\u001b[0m\n\u001b[1;32m----> 1\u001b[0m pd\u001b[38;5;241m.\u001b[39mjson_normalize(\u001b[43mresponse\u001b[49m\u001b[43m[\u001b[49m\u001b[38;5;124;43m'\u001b[39;49m\u001b[38;5;124;43mitems\u001b[39;49m\u001b[38;5;124;43m'\u001b[39;49m\u001b[43m]\u001b[49m)\u001b[38;5;241m.\u001b[39mhead()\n",
                        "\u001b[1;31mKeyError\u001b[0m: 'items'"
                    ]
                }
            ],
            "source": [
                "pd.json_normalize(response['items']).head()"
            ]
        },
        {
            "attachments": {},
            "cell_type": "markdown",
            "metadata": {},
            "source": [
                "Now, let's leverage `googleapiclient` so that we can send parameters to YouTube for our search query, in this case, for the Will Smith video:"
            ]
        },
        {
            "cell_type": "code",
            "execution_count": 0,
            "metadata": {},
            "outputs": [],
            "source": [
                "import googleapiclient\n",
                "import googleapiclient.discovery\n",
                "\n",
                "api_service_name = \"youtube\"\n",
                "api_version = \"v3\"\n",
                "\n",
                "youtube = googleapiclient.discovery.build(api_service_name, api_version, developerKey = API_KEY)\n",
                "\n",
                "request = youtube.search().list(\n",
                "        part=\"id,snippet\",\n",
                "        type='video',\n",
                "        q=\"Will Smith Chris Rock\",\n",
                "        videoDefinition='high',\n",
                "        maxResults=10\n",
                ")\n",
                "\n",
                "response = request.execute()"
            ]
        },
        {
            "cell_type": "code",
            "execution_count": 0,
            "metadata": {},
            "outputs": [],
            "source": [
                "pd.json_normalize(response['items'])[['id.videoId','snippet.title', 'snippet.description', 'snippet.channelTitle']]"
            ]
        },
        {
            "attachments": {},
            "cell_type": "markdown",
            "metadata": {},
            "source": [
                "**Task: Extract comments from the top video above.**\n",
                "\n",
                "Try extracting 100 comments from the top video listed above.\n",
                "\n",
                "Hint: Use the Youtube Data API Documentation and look into commentThreads."
            ]
        },
        {
            "cell_type": "code",
            "execution_count": 0,
            "metadata": {
                "scrolled": true
            },
            "outputs": [],
            "source": [
                "### TO DO\n"
            ]
        }
    ],
    "metadata": {
        "kernelspec": {
            "display_name": "Python 3",
            "language": "python",
            "name": "python3"
        },
        "language_info": {
            "codemirror_mode": {
                "name": "ipython",
                "version": 3
            },
            "file_extension": ".py",
            "mimetype": "text/x-python",
            "name": "python",
            "nbconvert_exporter": "python",
            "pygments_lexer": "ipython3",
            "version": "3.10.0"
        }
    },
    "nbformat": 4,
    "nbformat_minor": 5
}
